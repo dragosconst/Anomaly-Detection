{
  "nbformat": 4,
  "nbformat_minor": 0,
  "metadata": {
    "colab": {
      "name": "Anomaly_Detection.ipynb",
      "provenance": [],
      "collapsed_sections": [],
      "include_colab_link": true
    },
    "kernelspec": {
      "name": "python3",
      "display_name": "Python 3"
    },
    "language_info": {
      "name": "python"
    }
  },
  "cells": [
    {
      "cell_type": "markdown",
      "metadata": {
        "id": "view-in-github",
        "colab_type": "text"
      },
      "source": [
        "<a href=\"https://colab.research.google.com/github/dragosconst/Anomaly-Detection/blob/main/Anomaly_Detection.ipynb\" target=\"_parent\"><img src=\"https://colab.research.google.com/assets/colab-badge.svg\" alt=\"Open In Colab\"/></a>"
      ]
    },
    {
      "cell_type": "markdown",
      "source": [
        "# Env preparation"
      ],
      "metadata": {
        "id": "Jsu1giy6gMF0"
      }
    },
    {
      "cell_type": "code",
      "source": [
        "from google.colab import drive\n",
        "drive.mount('/content/drive')"
      ],
      "metadata": {
        "colab": {
          "base_uri": "https://localhost:8080/"
        },
        "id": "e8EM87UlEjhI",
        "outputId": "627329d4-4f41-48df-bddc-cbc55c0bf503"
      },
      "execution_count": 3,
      "outputs": [
        {
          "output_type": "stream",
          "name": "stdout",
          "text": [
            "Mounted at /content/drive\n"
          ]
        }
      ]
    },
    {
      "cell_type": "code",
      "source": [
        "!unzip \"/content/drive/MyDrive/kaggle_ag_dataset.zip\" -d \"/content/data/\""
      ],
      "metadata": {
        "id": "N5F63qIPFVtw",
        "colab": {
          "base_uri": "https://localhost:8080/"
        },
        "outputId": "6d52071f-9ee0-45ef-92ff-0a7e041f11de"
      },
      "execution_count": 4,
      "outputs": [
        {
          "output_type": "stream",
          "name": "stdout",
          "text": [
            "Archive:  /content/drive/MyDrive/kaggle_ag_dataset.zip\n",
            "  inflating: /content/data/test.csv  \n",
            "  inflating: /content/data/train.csv  \n"
          ]
        }
      ]
    },
    {
      "cell_type": "markdown",
      "source": [
        "# Imports and global constants"
      ],
      "metadata": {
        "id": "VwqgUl3Rc1S6"
      }
    },
    {
      "cell_type": "code",
      "source": [
        "!pip install transformers"
      ],
      "metadata": {
        "id": "fkxk9x9jfGE9"
      },
      "execution_count": null,
      "outputs": []
    },
    {
      "cell_type": "code",
      "source": [
        "#----------- func typing -----------#\n",
        "from typing import List, Tuple, Dict, Union, Iterable\n",
        "#----------- base libs -------------#\n",
        "import time\n",
        "import csv\n",
        "import random\n",
        "import os\n",
        "import math\n",
        "#----------- progress bar ----------#\n",
        "from tqdm import tqdm\n",
        "#----------- pickle ----------------#\n",
        "import pickle\n",
        "#----------- scikit ----------------#\n",
        "from sklearn.metrics import classification_report, accuracy_score, confusion_matrix\n",
        "from sklearn.model_selection import train_test_split\n",
        "#----------- pytorch ---------------#\n",
        "import torch\n",
        "import torch.nn as nn\n",
        "import torch.nn.functional as F\n",
        "from torch.utils.data import Dataset, DataLoader\n",
        "#----------- numpy -----------------#\n",
        "import numpy as np\n",
        "#----------- huggingface -----------#\n",
        "from transformers import AutoTokenizer, AutoModelForTokenClassification, AutoModel, AdamW, TrainingArguments, Trainer, pipeline\n",
        "#----------- plot libs -------------#\n",
        "import seaborn as sn\n",
        "import matplotlib.pyplot as plt\n",
        "\n",
        "sn.set_style(\"darkgrid\")\n",
        "os.environ[\"TOKENIZERS_PARALLELISM\"] = \"false\""
      ],
      "metadata": {
        "id": "o0XeYa_Ic5Dq"
      },
      "execution_count": 34,
      "outputs": []
    },
    {
      "cell_type": "code",
      "source": [
        "train_path = '/content/data/train.csv'\n",
        "test_path = '/content/data/test.csv'"
      ],
      "metadata": {
        "id": "ZUVAqicZgGFJ"
      },
      "execution_count": 6,
      "outputs": []
    },
    {
      "cell_type": "markdown",
      "source": [
        "Let's peek at the data:\n"
      ],
      "metadata": {
        "id": "4NE0jmn_huFE"
      }
    },
    {
      "cell_type": "code",
      "source": [
        "class_bins = np.zeros(4)\n",
        "class_tokens = np.zeros(4)\n",
        "with open(train_path, \"r\") as f:\n",
        "  reader = csv.reader(f)\n",
        "  for idx, row in enumerate(reader):\n",
        "    if idx == 0:\n",
        "      continue\n",
        "    cls, title, desc = row\n",
        "    class_bins[int(cls) - 1] += 1\n",
        "    title_words = len(title.split(\" \"))\n",
        "    desc_words = len(desc.split(\" \")) \n",
        "    class_tokens[int(cls) - 1] += title_words + desc_words\n",
        "fig, ax = plt.subplots(nrows=2, ncols=1, figsize=(10,10))\n",
        "ax[0].bar([\"World\", \"Sports\", \"Business\", \"Sci/Tech \"], class_bins, width = 0.25)\n",
        "ax[0].set_title(\"Datapoints distribution\")\n",
        "ax[1].bar([\"World\", \"Sports\", \"Business\", \"Sci/Tech \"], class_tokens, width = 0.25)\n",
        "ax[1].ticklabel_format(style='plain', axis='y')\n",
        "ax[1].set_title(\"Tokens distribution\")\n",
        "plt.show()"
      ],
      "metadata": {
        "colab": {
          "base_uri": "https://localhost:8080/",
          "height": 607
        },
        "id": "5XX2IYLYiI1e",
        "outputId": "d8a35ebe-80fc-4f4d-831f-a323d882aa8a"
      },
      "execution_count": 27,
      "outputs": [
        {
          "output_type": "display_data",
          "data": {
            "text/plain": [
              "<Figure size 720x720 with 2 Axes>"
            ],
            "image/png": "[encoded data removed]"
          },
          "metadata": {}
        }
      ]
    },
    {
      "cell_type": "markdown",
      "source": [
        "Huh, the dataset looks very balanced. In this case, we will arbitrarily choose one class to serve as our normal class for training, and the rest will be considered outlier classes."
      ],
      "metadata": {
        "id": "ncraPSyXlbpu"
      }
    },
    {
      "cell_type": "code",
      "source": [
        "normal_class = 2 # we will detect Anomalies on Sports\n",
        "outlier_classes = [1, 3, 4]\n",
        "\n",
        "# I will concatenate titles and descriptions, maybe we could try differentiating them\n",
        "# at training time to compare results\n",
        "normal_class_instances = []\n",
        "with open(train_path, \"r\") as f:\n",
        "  reader = csv.reader(f)\n",
        "  for idx, row in enumerate(reader):\n",
        "    if idx == 0:\n",
        "      continue\n",
        "    cls, title, desc = row\n",
        "    if int(cls) == normal_class:\n",
        "      normal_class_instances.append(title)\n",
        "      normal_class_instances.append(desc)"
      ],
      "metadata": {
        "id": "Dmmh5a5nlrs3"
      },
      "execution_count": 58,
      "outputs": []
    },
    {
      "cell_type": "code",
      "source": [
        "MASK_TOK_ID = 103 # apparently, [MASK] has token id 103 in regular BERT"
      ],
      "metadata": {
        "id": "2bSfmTDPx91V"
      },
      "execution_count": 43,
      "outputs": []
    },
    {
      "cell_type": "markdown",
      "source": [
        "# Datasets and Dataloaders"
      ],
      "metadata": {
        "id": "KLKiNMiVlx1R"
      }
    },
    {
      "cell_type": "code",
      "source": [
        "class NormalSet(Dataset):\n",
        "  def __init__(self, class_instances: List, masked_per: float=0.15):\n",
        "    self.class_instances = class_instances\n",
        "    self.masked_per = masked_per\n",
        "    self.tokenizer = AutoTokenizer.from_pretrained(\"bert-base-uncased\")\n",
        "  def __len__(self):\n",
        "    return len(self.class_instances)\n",
        "  def __getitem__(self, idx):\n",
        "    if not isinstance(idx, Iterable):\n",
        "      idx = [idx]\n",
        "    data = []\n",
        "    targets = []\n",
        "    for i in idx:\n",
        "      data_raw = self.class_instances[i]\n",
        "      tokenized_bert = self.tokenizer(data_raw, add_special_tokens=True, max_length=100, padding='max_length',\n",
        "                                return_tensors='pt', truncation=True)\n",
        "      # ignore padding \n",
        "      at_mask = tokenized_bert[\"attention_mask\"]\n",
        "      relevant_tokens_num = len(at_mask[at_mask == 1]) - 2 # [CLS] and [SEP] shouldn't be masked, probably\n",
        "      # get mask\n",
        "      masked_tokens_num = math.floor(relevant_tokens_num * self.masked_per)\n",
        "      masks = np.random.randint(low=1, high=relevant_tokens_num + 1, size=masked_tokens_num) # [CLS] and [SEP] should only be the first and last tokens\n",
        "      data_tokens = []\n",
        "      targets_tokens = []\n",
        "      # mask the inputs and build the new data and targets\n",
        "      for idx, tok_id in enumerate(tokenized_bert[\"input_ids\"][0]):\n",
        "        tok_id = tok_id.item() # tok_ids end up as being one-element tensors because pytorch always returns a tensor when indexing a tensor, for some reason\n",
        "        gt_tok = tok_id\n",
        "        if idx in masks:\n",
        "          tok_id = MASK_TOK_ID\n",
        "        data_tokens.append(tok_id)\n",
        "        targets_tokens.append(gt_tok)\n",
        "      data_tokens = torch.as_tensor(data_tokens)\n",
        "      targets_tokens = torch.as_tensor(targets_tokens)\n",
        "\n",
        "      data.append(data_tokens)\n",
        "      targets.append(targets_tokens)\n",
        "      return torch.stack(data), torch.stack(targets)"
      ],
      "metadata": {
        "id": "BlbuDjeSmFoZ"
      },
      "execution_count": 65,
      "outputs": []
    },
    {
      "cell_type": "code",
      "source": [
        "dataset = NormalSet(normal_class_instances)\n",
        "ds_train, ds_valid = torch.utils.data.random_split(dataset, [int(len(dataset) * 0.8), int(len(dataset) * 0.2)])\n",
        "\n",
        "BATCH_SIZE=32\n",
        "dl_train = DataLoader(\n",
        "    ds_train, batch_size=BATCH_SIZE, shuffle=True\n",
        ")\n",
        "dl_valid = DataLoader(\n",
        "  ds_valid, batch_size=BATCH_SIZE, shuffle=False\n",
        ")"
      ],
      "metadata": {
        "id": "zWyd8_Dv0ihb"
      },
      "execution_count": 66,
      "outputs": []
    }
  ]
}
{
  "nbformat": 4,
  "nbformat_minor": 0,
  "metadata": {
    "colab": {
      "name": "Anomaly_Detection.ipynb",
      "provenance": [],
      "collapsed_sections": [],
      "toc_visible": true,
      "include_colab_link": true
    },
    "kernelspec": {
      "name": "python3",
      "display_name": "Python 3"
    },
    "language_info": {
      "name": "python"
    },
    "widgets": {
      "application/vnd.jupyter.widget-state+json": {
        "859d7f0a5bf24797be0a4ddfb69615e3": {
          "model_module": "@jupyter-widgets/controls",
          "model_name": "HBoxModel",
          "model_module_version": "1.5.0",
          "state": {
            "_dom_classes": [],
            "_model_module": "@jupyter-widgets/controls",
            "_model_module_version": "1.5.0",
            "_model_name": "HBoxModel",
            "_view_count": null,
            "_view_module": "@jupyter-widgets/controls",
            "_view_module_version": "1.5.0",
            "_view_name": "HBoxView",
            "box_style": "",
            "children": [
              "IPY_MODEL_4fd22a0903ef4454bc1c92d64924629d",
              "IPY_MODEL_af070b9263014ccba1f0b3e717b5c1bf",
              "IPY_MODEL_46009838d1544090968e5db146ec3b1f"
            ],
            "layout": "IPY_MODEL_9203946f57584441904e99f72c7a70a4"
          }
        },
        "4fd22a0903ef4454bc1c92d64924629d": {
          "model_module": "@jupyter-widgets/controls",
          "model_name": "HTMLModel",
          "model_module_version": "1.5.0",
          "state": {
            "_dom_classes": [],
            "_model_module": "@jupyter-widgets/controls",
            "_model_module_version": "1.5.0",
            "_model_name": "HTMLModel",
            "_view_count": null,
            "_view_module": "@jupyter-widgets/controls",
            "_view_module_version": "1.5.0",
            "_view_name": "HTMLView",
            "description": "",
            "description_tooltip": null,
            "layout": "IPY_MODEL_3f818e487659427baf7180f7b47ae44d",
            "placeholder": "​",
            "style": "IPY_MODEL_2378f56044a24087949ce2646252326e",
            "value": "Downloading: 100%"
          }
        },
        "af070b9263014ccba1f0b3e717b5c1bf": {
          "model_module": "@jupyter-widgets/controls",
          "model_name": "FloatProgressModel",
          "model_module_version": "1.5.0",
          "state": {
            "_dom_classes": [],
            "_model_module": "@jupyter-widgets/controls",
            "_model_module_version": "1.5.0",
            "_model_name": "FloatProgressModel",
            "_view_count": null,
            "_view_module": "@jupyter-widgets/controls",
            "_view_module_version": "1.5.0",
            "_view_name": "ProgressView",
            "bar_style": "success",
            "description": "",
            "description_tooltip": null,
            "layout": "IPY_MODEL_72c0102b41544e6a86d0584d19d4268f",
            "max": 28,
            "min": 0,
            "orientation": "horizontal",
            "style": "IPY_MODEL_18e11adaec8f483182b306a7ffecabe1",
            "value": 28
          }
        },
        "46009838d1544090968e5db146ec3b1f": {
          "model_module": "@jupyter-widgets/controls",
          "model_name": "HTMLModel",
          "model_module_version": "1.5.0",
          "state": {
            "_dom_classes": [],
            "_model_module": "@jupyter-widgets/controls",
            "_model_module_version": "1.5.0",
            "_model_name": "HTMLModel",
            "_view_count": null,
            "_view_module": "@jupyter-widgets/controls",
            "_view_module_version": "1.5.0",
            "_view_name": "HTMLView",
            "description": "",
            "description_tooltip": null,
            "layout": "IPY_MODEL_2c67ac3ba8004775a449d36e3a7c8baf",
            "placeholder": "​",
            "style": "IPY_MODEL_b09317a7f61b4e7ba028c56208ef93ed",
            "value": " 28.0/28.0 [00:00&lt;00:00, 746B/s]"
          }
        },
        "9203946f57584441904e99f72c7a70a4": {
          "model_module": "@jupyter-widgets/base",
          "model_name": "LayoutModel",
          "model_module_version": "1.2.0",
          "state": {
            "_model_module": "@jupyter-widgets/base",
            "_model_module_version": "1.2.0",
            "_model_name": "LayoutModel",
            "_view_count": null,
            "_view_module": "@jupyter-widgets/base",
            "_view_module_version": "1.2.0",
            "_view_name": "LayoutView",
            "align_content": null,
            "align_items": null,
            "align_self": null,
            "border": null,
            "bottom": null,
            "display": null,
            "flex": null,
            "flex_flow": null,
            "grid_area": null,
            "grid_auto_columns": null,
            "grid_auto_flow": null,
            "grid_auto_rows": null,
            "grid_column": null,
            "grid_gap": null,
            "grid_row": null,
            "grid_template_areas": null,
            "grid_template_columns": null,
            "grid_template_rows": null,
            "height": null,
            "justify_content": null,
            "justify_items": null,
            "left": null,
            "margin": null,
            "max_height": null,
            "max_width": null,
            "min_height": null,
            "min_width": null,
            "object_fit": null,
            "object_position": null,
            "order": null,
            "overflow": null,
            "overflow_x": null,
            "overflow_y": null,
            "padding": null,
            "right": null,
            "top": null,
            "visibility": null,
            "width": null
          }
        },
        "3f818e487659427baf7180f7b47ae44d": {
          "model_module": "@jupyter-widgets/base",
          "model_name": "LayoutModel",
          "model_module_version": "1.2.0",
          "state": {
            "_model_module": "@jupyter-widgets/base",
            "_model_module_version": "1.2.0",
            "_model_name": "LayoutModel",
            "_view_count": null,
            "_view_module": "@jupyter-widgets/base",
            "_view_module_version": "1.2.0",
            "_view_name": "LayoutView",
            "align_content": null,
            "align_items": null,
            "align_self": null,
            "border": null,
            "bottom": null,
            "display": null,
            "flex": null,
            "flex_flow": null,
            "grid_area": null,
            "grid_auto_columns": null,
            "grid_auto_flow": null,
            "grid_auto_rows": null,
            "grid_column": null,
            "grid_gap": null,
            "grid_row": null,
            "grid_template_areas": null,
            "grid_template_columns": null,
            "grid_template_rows": null,
            "height": null,
            "justify_content": null,
            "justify_items": null,
            "left": null,
            "margin": null,
            "max_height": null,
            "max_width": null,
            "min_height": null,
            "min_width": null,
            "object_fit": null,
            "object_position": null,
            "order": null,
            "overflow": null,
            "overflow_x": null,
            "overflow_y": null,
            "padding": null,
            "right": null,
            "top": null,
            "visibility": null,
            "width": null
          }
        },
        "2378f56044a24087949ce2646252326e": {
          "model_module": "@jupyter-widgets/controls",
          "model_name": "DescriptionStyleModel",
          "model_module_version": "1.5.0",
          "state": {
            "_model_module": "@jupyter-widgets/controls",
            "_model_module_version": "1.5.0",
            "_model_name": "DescriptionStyleModel",
            "_view_count": null,
            "_view_module": "@jupyter-widgets/base",
            "_view_module_version": "1.2.0",
            "_view_name": "StyleView",
            "description_width": ""
          }
        },
        "72c0102b41544e6a86d0584d19d4268f": {
          "model_module": "@jupyter-widgets/base",
          "model_name": "LayoutModel",
          "model_module_version": "1.2.0",
          "state": {
            "_model_module": "@jupyter-widgets/base",
            "_model_module_version": "1.2.0",
            "_model_name": "LayoutModel",
            "_view_count": null,
            "_view_module": "@jupyter-widgets/base",
            "_view_module_version": "1.2.0",
            "_view_name": "LayoutView",
            "align_content": null,
            "align_items": null,
            "align_self": null,
            "border": null,
            "bottom": null,
            "display": null,
            "flex": null,
            "flex_flow": null,
            "grid_area": null,
            "grid_auto_columns": null,
            "grid_auto_flow": null,
            "grid_auto_rows": null,
            "grid_column": null,
            "grid_gap": null,
            "grid_row": null,
            "grid_template_areas": null,
            "grid_template_columns": null,
            "grid_template_rows": null,
            "height": null,
            "justify_content": null,
            "justify_items": null,
            "left": null,
            "margin": null,
            "max_height": null,
            "max_width": null,
            "min_height": null,
            "min_width": null,
            "object_fit": null,
            "object_position": null,
            "order": null,
            "overflow": null,
            "overflow_x": null,
            "overflow_y": null,
            "padding": null,
            "right": null,
            "top": null,
            "visibility": null,
            "width": null
          }
        },
        "18e11adaec8f483182b306a7ffecabe1": {
          "model_module": "@jupyter-widgets/controls",
          "model_name": "ProgressStyleModel",
          "model_module_version": "1.5.0",
          "state": {
            "_model_module": "@jupyter-widgets/controls",
            "_model_module_version": "1.5.0",
            "_model_name": "ProgressStyleModel",
            "_view_count": null,
            "_view_module": "@jupyter-widgets/base",
            "_view_module_version": "1.2.0",
            "_view_name": "StyleView",
            "bar_color": null,
            "description_width": ""
          }
        },
        "2c67ac3ba8004775a449d36e3a7c8baf": {
          "model_module": "@jupyter-widgets/base",
          "model_name": "LayoutModel",
          "model_module_version": "1.2.0",
          "state": {
            "_model_module": "@jupyter-widgets/base",
            "_model_module_version": "1.2.0",
            "_model_name": "LayoutModel",
            "_view_count": null,
            "_view_module": "@jupyter-widgets/base",
            "_view_module_version": "1.2.0",
            "_view_name": "LayoutView",
            "align_content": null,
            "align_items": null,
            "align_self": null,
            "border": null,
            "bottom": null,
            "display": null,
            "flex": null,
            "flex_flow": null,
            "grid_area": null,
            "grid_auto_columns": null,
            "grid_auto_flow": null,
            "grid_auto_rows": null,
            "grid_column": null,
            "grid_gap": null,
            "grid_row": null,
            "grid_template_areas": null,
            "grid_template_columns": null,
            "grid_template_rows": null,
            "height": null,
            "justify_content": null,
            "justify_items": null,
            "left": null,
            "margin": null,
            "max_height": null,
            "max_width": null,
            "min_height": null,
            "min_width": null,
            "object_fit": null,
            "object_position": null,
            "order": null,
            "overflow": null,
            "overflow_x": null,
            "overflow_y": null,
            "padding": null,
            "right": null,
            "top": null,
            "visibility": null,
            "width": null
          }
        },
        "b09317a7f61b4e7ba028c56208ef93ed": {
          "model_module": "@jupyter-widgets/controls",
          "model_name": "DescriptionStyleModel",
          "model_module_version": "1.5.0",
          "state": {
            "_model_module": "@jupyter-widgets/controls",
            "_model_module_version": "1.5.0",
            "_model_name": "DescriptionStyleModel",
            "_view_count": null,
            "_view_module": "@jupyter-widgets/base",
            "_view_module_version": "1.2.0",
            "_view_name": "StyleView",
            "description_width": ""
          }
        },
        "f42b4f165bfd4ba88c3364168a58bd51": {
          "model_module": "@jupyter-widgets/controls",
          "model_name": "HBoxModel",
          "model_module_version": "1.5.0",
          "state": {
            "_dom_classes": [],
            "_model_module": "@jupyter-widgets/controls",
            "_model_module_version": "1.5.0",
            "_model_name": "HBoxModel",
            "_view_count": null,
            "_view_module": "@jupyter-widgets/controls",
            "_view_module_version": "1.5.0",
            "_view_name": "HBoxView",
            "box_style": "",
            "children": [
              "IPY_MODEL_5320f34149c448df9c8a6e2368903602",
              "IPY_MODEL_cb8e10042efc413fb65a3d6ebf52f661",
              "IPY_MODEL_8cab70a11a8f4cb2aa4e7193e8b6c775"
            ],
            "layout": "IPY_MODEL_d7b5602edd414c0ca12fc76328b212eb"
          }
        },
        "5320f34149c448df9c8a6e2368903602": {
          "model_module": "@jupyter-widgets/controls",
          "model_name": "HTMLModel",
          "model_module_version": "1.5.0",
          "state": {
            "_dom_classes": [],
            "_model_module": "@jupyter-widgets/controls",
            "_model_module_version": "1.5.0",
            "_model_name": "HTMLModel",
            "_view_count": null,
            "_view_module": "@jupyter-widgets/controls",
            "_view_module_version": "1.5.0",
            "_view_name": "HTMLView",
            "description": "",
            "description_tooltip": null,
            "layout": "IPY_MODEL_d7019af823c7411889eb0de6320ef782",
            "placeholder": "​",
            "style": "IPY_MODEL_051a2b68b54940ae9468bfa5cddaf5af",
            "value": "Downloading: 100%"
          }
        },
        "cb8e10042efc413fb65a3d6ebf52f661": {
          "model_module": "@jupyter-widgets/controls",
          "model_name": "FloatProgressModel",
          "model_module_version": "1.5.0",
          "state": {
            "_dom_classes": [],
            "_model_module": "@jupyter-widgets/controls",
            "_model_module_version": "1.5.0",
            "_model_name": "FloatProgressModel",
            "_view_count": null,
            "_view_module": "@jupyter-widgets/controls",
            "_view_module_version": "1.5.0",
            "_view_name": "ProgressView",
            "bar_style": "success",
            "description": "",
            "description_tooltip": null,
            "layout": "IPY_MODEL_0a2c2fadaa3643f88bf54f35e175603f",
            "max": 570,
            "min": 0,
            "orientation": "horizontal",
            "style": "IPY_MODEL_1b67dde5eb9c4b42a70930bd04f36c7e",
            "value": 570
          }
        },
        "8cab70a11a8f4cb2aa4e7193e8b6c775": {
          "model_module": "@jupyter-widgets/controls",
          "model_name": "HTMLModel",
          "model_module_version": "1.5.0",
          "state": {
            "_dom_classes": [],
            "_model_module": "@jupyter-widgets/controls",
            "_model_module_version": "1.5.0",
            "_model_name": "HTMLModel",
            "_view_count": null,
            "_view_module": "@jupyter-widgets/controls",
            "_view_module_version": "1.5.0",
            "_view_name": "HTMLView",
            "description": "",
            "description_tooltip": null,
            "layout": "IPY_MODEL_d3d69a5786834a639caad56a03cf3897",
            "placeholder": "​",
            "style": "IPY_MODEL_37ec90ae390b4ef0974e87f677a09b81",
            "value": " 570/570 [00:00&lt;00:00, 12.9kB/s]"
          }
        },
        "d7b5602edd414c0ca12fc76328b212eb": {
          "model_module": "@jupyter-widgets/base",
          "model_name": "LayoutModel",
          "model_module_version": "1.2.0",
          "state": {
            "_model_module": "@jupyter-widgets/base",
            "_model_module_version": "1.2.0",
            "_model_name": "LayoutModel",
            "_view_count": null,
            "_view_module": "@jupyter-widgets/base",
            "_view_module_version": "1.2.0",
            "_view_name": "LayoutView",
            "align_content": null,
            "align_items": null,
            "align_self": null,
            "border": null,
            "bottom": null,
            "display": null,
            "flex": null,
            "flex_flow": null,
            "grid_area": null,
            "grid_auto_columns": null,
            "grid_auto_flow": null,
            "grid_auto_rows": null,
            "grid_column": null,
            "grid_gap": null,
            "grid_row": null,
            "grid_template_areas": null,
            "grid_template_columns": null,
            "grid_template_rows": null,
            "height": null,
            "justify_content": null,
            "justify_items": null,
            "left": null,
            "margin": null,
            "max_height": null,
            "max_width": null,
            "min_height": null,
            "min_width": null,
            "object_fit": null,
            "object_position": null,
            "order": null,
            "overflow": null,
            "overflow_x": null,
            "overflow_y": null,
            "padding": null,
            "right": null,
            "top": null,
            "visibility": null,
            "width": null
          }
        },
        "d7019af823c7411889eb0de6320ef782": {
          "model_module": "@jupyter-widgets/base",
          "model_name": "LayoutModel",
          "model_module_version": "1.2.0",
          "state": {
            "_model_module": "@jupyter-widgets/base",
            "_model_module_version": "1.2.0",
            "_model_name": "LayoutModel",
            "_view_count": null,
            "_view_module": "@jupyter-widgets/base",
            "_view_module_version": "1.2.0",
            "_view_name": "LayoutView",
            "align_content": null,
            "align_items": null,
            "align_self": null,
            "border": null,
            "bottom": null,
            "display": null,
            "flex": null,
            "flex_flow": null,
            "grid_area": null,
            "grid_auto_columns": null,
            "grid_auto_flow": null,
            "grid_auto_rows": null,
            "grid_column": null,
            "grid_gap": null,
            "grid_row": null,
            "grid_template_areas": null,
            "grid_template_columns": null,
            "grid_template_rows": null,
            "height": null,
            "justify_content": null,
            "justify_items": null,
            "left": null,
            "margin": null,
            "max_height": null,
            "max_width": null,
            "min_height": null,
            "min_width": null,
            "object_fit": null,
            "object_position": null,
            "order": null,
            "overflow": null,
            "overflow_x": null,
            "overflow_y": null,
            "padding": null,
            "right": null,
            "top": null,
            "visibility": null,
            "width": null
          }
        },
        "051a2b68b54940ae9468bfa5cddaf5af": {
          "model_module": "@jupyter-widgets/controls",
          "model_name": "DescriptionStyleModel",
          "model_module_version": "1.5.0",
          "state": {
            "_model_module": "@jupyter-widgets/controls",
            "_model_module_version": "1.5.0",
            "_model_name": "DescriptionStyleModel",
            "_view_count": null,
            "_view_module": "@jupyter-widgets/base",
            "_view_module_version": "1.2.0",
            "_view_name": "StyleView",
            "description_width": ""
          }
        },
        "0a2c2fadaa3643f88bf54f35e175603f": {
          "model_module": "@jupyter-widgets/base",
          "model_name": "LayoutModel",
          "model_module_version": "1.2.0",
          "state": {
            "_model_module": "@jupyter-widgets/base",
            "_model_module_version": "1.2.0",
            "_model_name": "LayoutModel",
            "_view_count": null,
            "_view_module": "@jupyter-widgets/base",
            "_view_module_version": "1.2.0",
            "_view_name": "LayoutView",
            "align_content": null,
            "align_items": null,
            "align_self": null,
            "border": null,
            "bottom": null,
            "display": null,
            "flex": null,
            "flex_flow": null,
            "grid_area": null,
            "grid_auto_columns": null,
            "grid_auto_flow": null,
            "grid_auto_rows": null,
            "grid_column": null,
            "grid_gap": null,
            "grid_row": null,
            "grid_template_areas": null,
            "grid_template_columns": null,
            "grid_template_rows": null,
            "height": null,
            "justify_content": null,
            "justify_items": null,
            "left": null,
            "margin": null,
            "max_height": null,
            "max_width": null,
            "min_height": null,
            "min_width": null,
            "object_fit": null,
            "object_position": null,
            "order": null,
            "overflow": null,
            "overflow_x": null,
            "overflow_y": null,
            "padding": null,
            "right": null,
            "top": null,
            "visibility": null,
            "width": null
          }
        },
        "1b67dde5eb9c4b42a70930bd04f36c7e": {
          "model_module": "@jupyter-widgets/controls",
          "model_name": "ProgressStyleModel",
          "model_module_version": "1.5.0",
          "state": {
            "_model_module": "@jupyter-widgets/controls",
            "_model_module_version": "1.5.0",
            "_model_name": "ProgressStyleModel",
            "_view_count": null,
            "_view_module": "@jupyter-widgets/base",
            "_view_module_version": "1.2.0",
            "_view_name": "StyleView",
            "bar_color": null,
            "description_width": ""
          }
        },
        "d3d69a5786834a639caad56a03cf3897": {
          "model_module": "@jupyter-widgets/base",
          "model_name": "LayoutModel",
          "model_module_version": "1.2.0",
          "state": {
            "_model_module": "@jupyter-widgets/base",
            "_model_module_version": "1.2.0",
            "_model_name": "LayoutModel",
            "_view_count": null,
            "_view_module": "@jupyter-widgets/base",
            "_view_module_version": "1.2.0",
            "_view_name": "LayoutView",
            "align_content": null,
            "align_items": null,
            "align_self": null,
            "border": null,
            "bottom": null,
            "display": null,
            "flex": null,
            "flex_flow": null,
            "grid_area": null,
            "grid_auto_columns": null,
            "grid_auto_flow": null,
            "grid_auto_rows": null,
            "grid_column": null,
            "grid_gap": null,
            "grid_row": null,
            "grid_template_areas": null,
            "grid_template_columns": null,
            "grid_template_rows": null,
            "height": null,
            "justify_content": null,
            "justify_items": null,
            "left": null,
            "margin": null,
            "max_height": null,
            "max_width": null,
            "min_height": null,
            "min_width": null,
            "object_fit": null,
            "object_position": null,
            "order": null,
            "overflow": null,
            "overflow_x": null,
            "overflow_y": null,
            "padding": null,
            "right": null,
            "top": null,
            "visibility": null,
            "width": null
          }
        },
        "37ec90ae390b4ef0974e87f677a09b81": {
          "model_module": "@jupyter-widgets/controls",
          "model_name": "DescriptionStyleModel",
          "model_module_version": "1.5.0",
          "state": {
            "_model_module": "@jupyter-widgets/controls",
            "_model_module_version": "1.5.0",
            "_model_name": "DescriptionStyleModel",
            "_view_count": null,
            "_view_module": "@jupyter-widgets/base",
            "_view_module_version": "1.2.0",
            "_view_name": "StyleView",
            "description_width": ""
          }
        },
        "745f46ec8e614ec7bcaf859c396f4e79": {
          "model_module": "@jupyter-widgets/controls",
          "model_name": "HBoxModel",
          "model_module_version": "1.5.0",
          "state": {
            "_dom_classes": [],
            "_model_module": "@jupyter-widgets/controls",
            "_model_module_version": "1.5.0",
            "_model_name": "HBoxModel",
            "_view_count": null,
            "_view_module": "@jupyter-widgets/controls",
            "_view_module_version": "1.5.0",
            "_view_name": "HBoxView",
            "box_style": "",
            "children": [
              "IPY_MODEL_3fdd8071606e4dbf98916cf50bea3dcc",
              "IPY_MODEL_9d99b8f369e44e8287b5ddce655ee920",
              "IPY_MODEL_8f21cb2091fa467bb7e5af975edf4e3a"
            ],
            "layout": "IPY_MODEL_40fa9d9d58ef4dc1b4e3741bff05fd92"
          }
        },
        "3fdd8071606e4dbf98916cf50bea3dcc": {
          "model_module": "@jupyter-widgets/controls",
          "model_name": "HTMLModel",
          "model_module_version": "1.5.0",
          "state": {
            "_dom_classes": [],
            "_model_module": "@jupyter-widgets/controls",
            "_model_module_version": "1.5.0",
            "_model_name": "HTMLModel",
            "_view_count": null,
            "_view_module": "@jupyter-widgets/controls",
            "_view_module_version": "1.5.0",
            "_view_name": "HTMLView",
            "description": "",
            "description_tooltip": null,
            "layout": "IPY_MODEL_7337108a04e5431e9caf7c51f8b27692",
            "placeholder": "​",
            "style": "IPY_MODEL_ea16f6fa8d904833a410ad91bcb5225b",
            "value": "Downloading: 100%"
          }
        },
        "9d99b8f369e44e8287b5ddce655ee920": {
          "model_module": "@jupyter-widgets/controls",
          "model_name": "FloatProgressModel",
          "model_module_version": "1.5.0",
          "state": {
            "_dom_classes": [],
            "_model_module": "@jupyter-widgets/controls",
            "_model_module_version": "1.5.0",
            "_model_name": "FloatProgressModel",
            "_view_count": null,
            "_view_module": "@jupyter-widgets/controls",
            "_view_module_version": "1.5.0",
            "_view_name": "ProgressView",
            "bar_style": "success",
            "description": "",
            "description_tooltip": null,
            "layout": "IPY_MODEL_762dfcd7810944ac9491418ab9084c26",
            "max": 231508,
            "min": 0,
            "orientation": "horizontal",
            "style": "IPY_MODEL_7f2d191eaf8b4ceda63b3d9624c12fcf",
            "value": 231508
          }
        },
        "8f21cb2091fa467bb7e5af975edf4e3a": {
          "model_module": "@jupyter-widgets/controls",
          "model_name": "HTMLModel",
          "model_module_version": "1.5.0",
          "state": {
            "_dom_classes": [],
            "_model_module": "@jupyter-widgets/controls",
            "_model_module_version": "1.5.0",
            "_model_name": "HTMLModel",
            "_view_count": null,
            "_view_module": "@jupyter-widgets/controls",
            "_view_module_version": "1.5.0",
            "_view_name": "HTMLView",
            "description": "",
            "description_tooltip": null,
            "layout": "IPY_MODEL_a8b567bd853d4eff97e6764e5dafd884",
            "placeholder": "​",
            "style": "IPY_MODEL_7c306ea924a84c6682252576dc5ca252",
            "value": " 226k/226k [00:00&lt;00:00, 637kB/s]"
          }
        },
        "40fa9d9d58ef4dc1b4e3741bff05fd92": {
          "model_module": "@jupyter-widgets/base",
          "model_name": "LayoutModel",
          "model_module_version": "1.2.0",
          "state": {
            "_model_module": "@jupyter-widgets/base",
            "_model_module_version": "1.2.0",
            "_model_name": "LayoutModel",
            "_view_count": null,
            "_view_module": "@jupyter-widgets/base",
            "_view_module_version": "1.2.0",
            "_view_name": "LayoutView",
            "align_content": null,
            "align_items": null,
            "align_self": null,
            "border": null,
            "bottom": null,
            "display": null,
            "flex": null,
            "flex_flow": null,
            "grid_area": null,
            "grid_auto_columns": null,
            "grid_auto_flow": null,
            "grid_auto_rows": null,
            "grid_column": null,
            "grid_gap": null,
            "grid_row": null,
            "grid_template_areas": null,
            "grid_template_columns": null,
            "grid_template_rows": null,
            "height": null,
            "justify_content": null,
            "justify_items": null,
            "left": null,
            "margin": null,
            "max_height": null,
            "max_width": null,
            "min_height": null,
            "min_width": null,
            "object_fit": null,
            "object_position": null,
            "order": null,
            "overflow": null,
            "overflow_x": null,
            "overflow_y": null,
            "padding": null,
            "right": null,
            "top": null,
            "visibility": null,
            "width": null
          }
        },
        "7337108a04e5431e9caf7c51f8b27692": {
          "model_module": "@jupyter-widgets/base",
          "model_name": "LayoutModel",
          "model_module_version": "1.2.0",
          "state": {
            "_model_module": "@jupyter-widgets/base",
            "_model_module_version": "1.2.0",
            "_model_name": "LayoutModel",
            "_view_count": null,
            "_view_module": "@jupyter-widgets/base",
            "_view_module_version": "1.2.0",
            "_view_name": "LayoutView",
            "align_content": null,
            "align_items": null,
            "align_self": null,
            "border": null,
            "bottom": null,
            "display": null,
            "flex": null,
            "flex_flow": null,
            "grid_area": null,
            "grid_auto_columns": null,
            "grid_auto_flow": null,
            "grid_auto_rows": null,
            "grid_column": null,
            "grid_gap": null,
            "grid_row": null,
            "grid_template_areas": null,
            "grid_template_columns": null,
            "grid_template_rows": null,
            "height": null,
            "justify_content": null,
            "justify_items": null,
            "left": null,
            "margin": null,
            "max_height": null,
            "max_width": null,
            "min_height": null,
            "min_width": null,
            "object_fit": null,
            "object_position": null,
            "order": null,
            "overflow": null,
            "overflow_x": null,
            "overflow_y": null,
            "padding": null,
            "right": null,
            "top": null,
            "visibility": null,
            "width": null
          }
        },
        "ea16f6fa8d904833a410ad91bcb5225b": {
          "model_module": "@jupyter-widgets/controls",
          "model_name": "DescriptionStyleModel",
          "model_module_version": "1.5.0",
          "state": {
            "_model_module": "@jupyter-widgets/controls",
            "_model_module_version": "1.5.0",
            "_model_name": "DescriptionStyleModel",
            "_view_count": null,
            "_view_module": "@jupyter-widgets/base",
            "_view_module_version": "1.2.0",
            "_view_name": "StyleView",
            "description_width": ""
          }
        },
        "762dfcd7810944ac9491418ab9084c26": {
          "model_module": "@jupyter-widgets/base",
          "model_name": "LayoutModel",
          "model_module_version": "1.2.0",
          "state": {
            "_model_module": "@jupyter-widgets/base",
            "_model_module_version": "1.2.0",
            "_model_name": "LayoutModel",
            "_view_count": null,
            "_view_module": "@jupyter-widgets/base",
            "_view_module_version": "1.2.0",
            "_view_name": "LayoutView",
            "align_content": null,
            "align_items": null,
            "align_self": null,
            "border": null,
            "bottom": null,
            "display": null,
            "flex": null,
            "flex_flow": null,
            "grid_area": null,
            "grid_auto_columns": null,
            "grid_auto_flow": null,
            "grid_auto_rows": null,
            "grid_column": null,
            "grid_gap": null,
            "grid_row": null,
            "grid_template_areas": null,
            "grid_template_columns": null,
            "grid_template_rows": null,
            "height": null,
            "justify_content": null,
            "justify_items": null,
            "left": null,
            "margin": null,
            "max_height": null,
            "max_width": null,
            "min_height": null,
            "min_width": null,
            "object_fit": null,
            "object_position": null,
            "order": null,
            "overflow": null,
            "overflow_x": null,
            "overflow_y": null,
            "padding": null,
            "right": null,
            "top": null,
            "visibility": null,
            "width": null
          }
        },
        "7f2d191eaf8b4ceda63b3d9624c12fcf": {
          "model_module": "@jupyter-widgets/controls",
          "model_name": "ProgressStyleModel",
          "model_module_version": "1.5.0",
          "state": {
            "_model_module": "@jupyter-widgets/controls",
            "_model_module_version": "1.5.0",
            "_model_name": "ProgressStyleModel",
            "_view_count": null,
            "_view_module": "@jupyter-widgets/base",
            "_view_module_version": "1.2.0",
            "_view_name": "StyleView",
            "bar_color": null,
            "description_width": ""
          }
        },
        "a8b567bd853d4eff97e6764e5dafd884": {
          "model_module": "@jupyter-widgets/base",
          "model_name": "LayoutModel",
          "model_module_version": "1.2.0",
          "state": {
            "_model_module": "@jupyter-widgets/base",
            "_model_module_version": "1.2.0",
            "_model_name": "LayoutModel",
            "_view_count": null,
            "_view_module": "@jupyter-widgets/base",
            "_view_module_version": "1.2.0",
            "_view_name": "LayoutView",
            "align_content": null,
            "align_items": null,
            "align_self": null,
            "border": null,
            "bottom": null,
            "display": null,
            "flex": null,
            "flex_flow": null,
            "grid_area": null,
            "grid_auto_columns": null,
            "grid_auto_flow": null,
            "grid_auto_rows": null,
            "grid_column": null,
            "grid_gap": null,
            "grid_row": null,
            "grid_template_areas": null,
            "grid_template_columns": null,
            "grid_template_rows": null,
            "height": null,
            "justify_content": null,
            "justify_items": null,
            "left": null,
            "margin": null,
            "max_height": null,
            "max_width": null,
            "min_height": null,
            "min_width": null,
            "object_fit": null,
            "object_position": null,
            "order": null,
            "overflow": null,
            "overflow_x": null,
            "overflow_y": null,
            "padding": null,
            "right": null,
            "top": null,
            "visibility": null,
            "width": null
          }
        },
        "7c306ea924a84c6682252576dc5ca252": {
          "model_module": "@jupyter-widgets/controls",
          "model_name": "DescriptionStyleModel",
          "model_module_version": "1.5.0",
          "state": {
            "_model_module": "@jupyter-widgets/controls",
            "_model_module_version": "1.5.0",
            "_model_name": "DescriptionStyleModel",
            "_view_count": null,
            "_view_module": "@jupyter-widgets/base",
            "_view_module_version": "1.2.0",
            "_view_name": "StyleView",
            "description_width": ""
          }
        },
        "fe5e32b5f313423e917c5d2337d1ea25": {
          "model_module": "@jupyter-widgets/controls",
          "model_name": "HBoxModel",
          "model_module_version": "1.5.0",
          "state": {
            "_dom_classes": [],
            "_model_module": "@jupyter-widgets/controls",
            "_model_module_version": "1.5.0",
            "_model_name": "HBoxModel",
            "_view_count": null,
            "_view_module": "@jupyter-widgets/controls",
            "_view_module_version": "1.5.0",
            "_view_name": "HBoxView",
            "box_style": "",
            "children": [
              "IPY_MODEL_841de9d2ca514e519e77868abdf1725d",
              "IPY_MODEL_ed23f8d42ac14f3892785d8243af2740",
              "IPY_MODEL_41f57c738766469590896bc645ee446f"
            ],
            "layout": "IPY_MODEL_0ce42769922d43729e75eb8477ad28e0"
          }
        },
        "841de9d2ca514e519e77868abdf1725d": {
          "model_module": "@jupyter-widgets/controls",
          "model_name": "HTMLModel",
          "model_module_version": "1.5.0",
          "state": {
            "_dom_classes": [],
            "_model_module": "@jupyter-widgets/controls",
            "_model_module_version": "1.5.0",
            "_model_name": "HTMLModel",
            "_view_count": null,
            "_view_module": "@jupyter-widgets/controls",
            "_view_module_version": "1.5.0",
            "_view_name": "HTMLView",
            "description": "",
            "description_tooltip": null,
            "layout": "IPY_MODEL_642bf88b08ed4c5daf9c75e14393b43b",
            "placeholder": "​",
            "style": "IPY_MODEL_0a106e4c505e4a8cad63359a93552793",
            "value": "Downloading: 100%"
          }
        },
        "ed23f8d42ac14f3892785d8243af2740": {
          "model_module": "@jupyter-widgets/controls",
          "model_name": "FloatProgressModel",
          "model_module_version": "1.5.0",
          "state": {
            "_dom_classes": [],
            "_model_module": "@jupyter-widgets/controls",
            "_model_module_version": "1.5.0",
            "_model_name": "FloatProgressModel",
            "_view_count": null,
            "_view_module": "@jupyter-widgets/controls",
            "_view_module_version": "1.5.0",
            "_view_name": "ProgressView",
            "bar_style": "success",
            "description": "",
            "description_tooltip": null,
            "layout": "IPY_MODEL_f80cb7a27bd147d190965d16dd31df3b",
            "max": 466062,
            "min": 0,
            "orientation": "horizontal",
            "style": "IPY_MODEL_00b7924592ad4f879399ed56731e620f",
            "value": 466062
          }
        },
        "41f57c738766469590896bc645ee446f": {
          "model_module": "@jupyter-widgets/controls",
          "model_name": "HTMLModel",
          "model_module_version": "1.5.0",
          "state": {
            "_dom_classes": [],
            "_model_module": "@jupyter-widgets/controls",
            "_model_module_version": "1.5.0",
            "_model_name": "HTMLModel",
            "_view_count": null,
            "_view_module": "@jupyter-widgets/controls",
            "_view_module_version": "1.5.0",
            "_view_name": "HTMLView",
            "description": "",
            "description_tooltip": null,
            "layout": "IPY_MODEL_10584ae7cba14ed8a224180349631c62",
            "placeholder": "​",
            "style": "IPY_MODEL_b60594c2717947f6bf1aa7de4026069c",
            "value": " 455k/455k [00:00&lt;00:00, 578kB/s]"
          }
        },
        "0ce42769922d43729e75eb8477ad28e0": {
          "model_module": "@jupyter-widgets/base",
          "model_name": "LayoutModel",
          "model_module_version": "1.2.0",
          "state": {
            "_model_module": "@jupyter-widgets/base",
            "_model_module_version": "1.2.0",
            "_model_name": "LayoutModel",
            "_view_count": null,
            "_view_module": "@jupyter-widgets/base",
            "_view_module_version": "1.2.0",
            "_view_name": "LayoutView",
            "align_content": null,
            "align_items": null,
            "align_self": null,
            "border": null,
            "bottom": null,
            "display": null,
            "flex": null,
            "flex_flow": null,
            "grid_area": null,
            "grid_auto_columns": null,
            "grid_auto_flow": null,
            "grid_auto_rows": null,
            "grid_column": null,
            "grid_gap": null,
            "grid_row": null,
            "grid_template_areas": null,
            "grid_template_columns": null,
            "grid_template_rows": null,
            "height": null,
            "justify_content": null,
            "justify_items": null,
            "left": null,
            "margin": null,
            "max_height": null,
            "max_width": null,
            "min_height": null,
            "min_width": null,
            "object_fit": null,
            "object_position": null,
            "order": null,
            "overflow": null,
            "overflow_x": null,
            "overflow_y": null,
            "padding": null,
            "right": null,
            "top": null,
            "visibility": null,
            "width": null
          }
        },
        "642bf88b08ed4c5daf9c75e14393b43b": {
          "model_module": "@jupyter-widgets/base",
          "model_name": "LayoutModel",
          "model_module_version": "1.2.0",
          "state": {
            "_model_module": "@jupyter-widgets/base",
            "_model_module_version": "1.2.0",
            "_model_name": "LayoutModel",
            "_view_count": null,
            "_view_module": "@jupyter-widgets/base",
            "_view_module_version": "1.2.0",
            "_view_name": "LayoutView",
            "align_content": null,
            "align_items": null,
            "align_self": null,
            "border": null,
            "bottom": null,
            "display": null,
            "flex": null,
            "flex_flow": null,
            "grid_area": null,
            "grid_auto_columns": null,
            "grid_auto_flow": null,
            "grid_auto_rows": null,
            "grid_column": null,
            "grid_gap": null,
            "grid_row": null,
            "grid_template_areas": null,
            "grid_template_columns": null,
            "grid_template_rows": null,
            "height": null,
            "justify_content": null,
            "justify_items": null,
            "left": null,
            "margin": null,
            "max_height": null,
            "max_width": null,
            "min_height": null,
            "min_width": null,
            "object_fit": null,
            "object_position": null,
            "order": null,
            "overflow": null,
            "overflow_x": null,
            "overflow_y": null,
            "padding": null,
            "right": null,
            "top": null,
            "visibility": null,
            "width": null
          }
        },
        "0a106e4c505e4a8cad63359a93552793": {
          "model_module": "@jupyter-widgets/controls",
          "model_name": "DescriptionStyleModel",
          "model_module_version": "1.5.0",
          "state": {
            "_model_module": "@jupyter-widgets/controls",
            "_model_module_version": "1.5.0",
            "_model_name": "DescriptionStyleModel",
            "_view_count": null,
            "_view_module": "@jupyter-widgets/base",
            "_view_module_version": "1.2.0",
            "_view_name": "StyleView",
            "description_width": ""
          }
        },
        "f80cb7a27bd147d190965d16dd31df3b": {
          "model_module": "@jupyter-widgets/base",
          "model_name": "LayoutModel",
          "model_module_version": "1.2.0",
          "state": {
            "_model_module": "@jupyter-widgets/base",
            "_model_module_version": "1.2.0",
            "_model_name": "LayoutModel",
            "_view_count": null,
            "_view_module": "@jupyter-widgets/base",
            "_view_module_version": "1.2.0",
            "_view_name": "LayoutView",
            "align_content": null,
            "align_items": null,
            "align_self": null,
            "border": null,
            "bottom": null,
            "display": null,
            "flex": null,
            "flex_flow": null,
            "grid_area": null,
            "grid_auto_columns": null,
            "grid_auto_flow": null,
            "grid_auto_rows": null,
            "grid_column": null,
            "grid_gap": null,
            "grid_row": null,
            "grid_template_areas": null,
            "grid_template_columns": null,
            "grid_template_rows": null,
            "height": null,
            "justify_content": null,
            "justify_items": null,
            "left": null,
            "margin": null,
            "max_height": null,
            "max_width": null,
            "min_height": null,
            "min_width": null,
            "object_fit": null,
            "object_position": null,
            "order": null,
            "overflow": null,
            "overflow_x": null,
            "overflow_y": null,
            "padding": null,
            "right": null,
            "top": null,
            "visibility": null,
            "width": null
          }
        },
        "00b7924592ad4f879399ed56731e620f": {
          "model_module": "@jupyter-widgets/controls",
          "model_name": "ProgressStyleModel",
          "model_module_version": "1.5.0",
          "state": {
            "_model_module": "@jupyter-widgets/controls",
            "_model_module_version": "1.5.0",
            "_model_name": "ProgressStyleModel",
            "_view_count": null,
            "_view_module": "@jupyter-widgets/base",
            "_view_module_version": "1.2.0",
            "_view_name": "StyleView",
            "bar_color": null,
            "description_width": ""
          }
        },
        "10584ae7cba14ed8a224180349631c62": {
          "model_module": "@jupyter-widgets/base",
          "model_name": "LayoutModel",
          "model_module_version": "1.2.0",
          "state": {
            "_model_module": "@jupyter-widgets/base",
            "_model_module_version": "1.2.0",
            "_model_name": "LayoutModel",
            "_view_count": null,
            "_view_module": "@jupyter-widgets/base",
            "_view_module_version": "1.2.0",
            "_view_name": "LayoutView",
            "align_content": null,
            "align_items": null,
            "align_self": null,
            "border": null,
            "bottom": null,
            "display": null,
            "flex": null,
            "flex_flow": null,
            "grid_area": null,
            "grid_auto_columns": null,
            "grid_auto_flow": null,
            "grid_auto_rows": null,
            "grid_column": null,
            "grid_gap": null,
            "grid_row": null,
            "grid_template_areas": null,
            "grid_template_columns": null,
            "grid_template_rows": null,
            "height": null,
            "justify_content": null,
            "justify_items": null,
            "left": null,
            "margin": null,
            "max_height": null,
            "max_width": null,
            "min_height": null,
            "min_width": null,
            "object_fit": null,
            "object_position": null,
            "order": null,
            "overflow": null,
            "overflow_x": null,
            "overflow_y": null,
            "padding": null,
            "right": null,
            "top": null,
            "visibility": null,
            "width": null
          }
        },
        "b60594c2717947f6bf1aa7de4026069c": {
          "model_module": "@jupyter-widgets/controls",
          "model_name": "DescriptionStyleModel",
          "model_module_version": "1.5.0",
          "state": {
            "_model_module": "@jupyter-widgets/controls",
            "_model_module_version": "1.5.0",
            "_model_name": "DescriptionStyleModel",
            "_view_count": null,
            "_view_module": "@jupyter-widgets/base",
            "_view_module_version": "1.2.0",
            "_view_name": "StyleView",
            "description_width": ""
          }
        }
      }
    }
  },
  "cells": [
    {
      "cell_type": "markdown",
      "metadata": {
        "id": "view-in-github",
        "colab_type": "text"
      },
      "source": [
        "<a href=\"https://colab.research.google.com/github/dragosconst/Anomaly-Detection/blob/main/Anomaly_Detection.ipynb\" target=\"_parent\"><img src=\"https://colab.research.google.com/assets/colab-badge.svg\" alt=\"Open In Colab\"/></a>"
      ]
    },
    {
      "cell_type": "markdown",
      "source": [
        "# Env preparation"
      ],
      "metadata": {
        "id": "Jsu1giy6gMF0"
      }
    },
    {
      "cell_type": "code",
      "source": [
        "from google.colab import drive\n",
        "drive.mount('/content/drive')"
      ],
      "metadata": {
        "colab": {
          "base_uri": "https://localhost:8080/"
        },
        "id": "e8EM87UlEjhI",
        "outputId": "d713d29e-aaf9-42ba-f8a4-6eced8f0356f"
      },
      "execution_count": 1,
      "outputs": [
        {
          "output_type": "stream",
          "name": "stdout",
          "text": [
            "Mounted at /content/drive\n"
          ]
        }
      ]
    },
    {
      "cell_type": "code",
      "source": [
        "!unzip \"/content/drive/MyDrive/kaggle_ag_dataset.zip\" -d \"/content/data/\""
      ],
      "metadata": {
        "id": "N5F63qIPFVtw",
        "colab": {
          "base_uri": "https://localhost:8080/"
        },
        "outputId": "d5c28688-58e2-4483-edb7-7654951448b5"
      },
      "execution_count": 2,
      "outputs": [
        {
          "output_type": "stream",
          "name": "stdout",
          "text": [
            "Archive:  /content/drive/MyDrive/kaggle_ag_dataset.zip\n",
            "  inflating: /content/data/test.csv  \n",
            "  inflating: /content/data/train.csv  \n"
          ]
        }
      ]
    },
    {
      "cell_type": "markdown",
      "source": [
        "# Imports and global constants"
      ],
      "metadata": {
        "id": "VwqgUl3Rc1S6"
      }
    },
    {
      "cell_type": "code",
      "source": [
        "!pip install transformers"
      ],
      "metadata": {
        "id": "fkxk9x9jfGE9",
        "colab": {
          "base_uri": "https://localhost:8080/"
        },
        "outputId": "2ed9b635-7606-4a3c-b341-f12be58bfc14"
      },
      "execution_count": 3,
      "outputs": [
        {
          "output_type": "stream",
          "name": "stdout",
          "text": [
            "Collecting transformers\n",
            "  Downloading transformers-4.17.0-py3-none-any.whl (3.8 MB)\n",
            "\u001b[K     |████████████████████████████████| 3.8 MB 14.6 MB/s \n",
            "\u001b[?25hRequirement already satisfied: importlib-metadata in /usr/local/lib/python3.7/dist-packages (from transformers) (4.11.3)\n",
            "Requirement already satisfied: numpy>=1.17 in /usr/local/lib/python3.7/dist-packages (from transformers) (1.21.5)\n",
            "Collecting sacremoses\n",
            "  Downloading sacremoses-0.0.49-py3-none-any.whl (895 kB)\n",
            "\u001b[K     |████████████████████████████████| 895 kB 64.3 MB/s \n",
            "\u001b[?25hRequirement already satisfied: tqdm>=4.27 in /usr/local/lib/python3.7/dist-packages (from transformers) (4.63.0)\n",
            "Collecting tokenizers!=0.11.3,>=0.11.1\n",
            "  Downloading tokenizers-0.11.6-cp37-cp37m-manylinux_2_12_x86_64.manylinux2010_x86_64.whl (6.5 MB)\n",
            "\u001b[K     |████████████████████████████████| 6.5 MB 44.5 MB/s \n",
            "\u001b[?25hRequirement already satisfied: filelock in /usr/local/lib/python3.7/dist-packages (from transformers) (3.6.0)\n",
            "Requirement already satisfied: regex!=2019.12.17 in /usr/local/lib/python3.7/dist-packages (from transformers) (2019.12.20)\n",
            "Requirement already satisfied: packaging>=20.0 in /usr/local/lib/python3.7/dist-packages (from transformers) (21.3)\n",
            "Collecting pyyaml>=5.1\n",
            "  Downloading PyYAML-6.0-cp37-cp37m-manylinux_2_5_x86_64.manylinux1_x86_64.manylinux_2_12_x86_64.manylinux2010_x86_64.whl (596 kB)\n",
            "\u001b[K     |████████████████████████████████| 596 kB 73.5 MB/s \n",
            "\u001b[?25hCollecting huggingface-hub<1.0,>=0.1.0\n",
            "  Downloading huggingface_hub-0.4.0-py3-none-any.whl (67 kB)\n",
            "\u001b[K     |████████████████████████████████| 67 kB 7.1 MB/s \n",
            "\u001b[?25hRequirement already satisfied: requests in /usr/local/lib/python3.7/dist-packages (from transformers) (2.23.0)\n",
            "Requirement already satisfied: typing-extensions>=3.7.4.3 in /usr/local/lib/python3.7/dist-packages (from huggingface-hub<1.0,>=0.1.0->transformers) (3.10.0.2)\n",
            "Requirement already satisfied: pyparsing!=3.0.5,>=2.0.2 in /usr/local/lib/python3.7/dist-packages (from packaging>=20.0->transformers) (3.0.7)\n",
            "Requirement already satisfied: zipp>=0.5 in /usr/local/lib/python3.7/dist-packages (from importlib-metadata->transformers) (3.7.0)\n",
            "Requirement already satisfied: chardet<4,>=3.0.2 in /usr/local/lib/python3.7/dist-packages (from requests->transformers) (3.0.4)\n",
            "Requirement already satisfied: certifi>=2017.4.17 in /usr/local/lib/python3.7/dist-packages (from requests->transformers) (2021.10.8)\n",
            "Requirement already satisfied: urllib3!=1.25.0,!=1.25.1,<1.26,>=1.21.1 in /usr/local/lib/python3.7/dist-packages (from requests->transformers) (1.24.3)\n",
            "Requirement already satisfied: idna<3,>=2.5 in /usr/local/lib/python3.7/dist-packages (from requests->transformers) (2.10)\n",
            "Requirement already satisfied: click in /usr/local/lib/python3.7/dist-packages (from sacremoses->transformers) (7.1.2)\n",
            "Requirement already satisfied: joblib in /usr/local/lib/python3.7/dist-packages (from sacremoses->transformers) (1.1.0)\n",
            "Requirement already satisfied: six in /usr/local/lib/python3.7/dist-packages (from sacremoses->transformers) (1.15.0)\n",
            "Installing collected packages: pyyaml, tokenizers, sacremoses, huggingface-hub, transformers\n",
            "  Attempting uninstall: pyyaml\n",
            "    Found existing installation: PyYAML 3.13\n",
            "    Uninstalling PyYAML-3.13:\n",
            "      Successfully uninstalled PyYAML-3.13\n",
            "Successfully installed huggingface-hub-0.4.0 pyyaml-6.0 sacremoses-0.0.49 tokenizers-0.11.6 transformers-4.17.0\n"
          ]
        }
      ]
    },
    {
      "cell_type": "code",
      "source": [
        "#----------- func typing -----------#\n",
        "from typing import List, Tuple, Dict, Union, Iterable\n",
        "#----------- base libs -------------#\n",
        "import time\n",
        "import csv\n",
        "import random\n",
        "import os\n",
        "import math\n",
        "#----------- progress bar ----------#\n",
        "from tqdm import tqdm\n",
        "#----------- pickle ----------------#\n",
        "import pickle\n",
        "#----------- scikit ----------------#\n",
        "from sklearn.metrics import classification_report, accuracy_score, confusion_matrix\n",
        "from sklearn.model_selection import train_test_split\n",
        "#----------- pytorch ---------------#\n",
        "import torch\n",
        "import torch.nn as nn\n",
        "import torch.nn.functional as F\n",
        "from torch.utils.data import Dataset, DataLoader\n",
        "#----------- numpy -----------------#\n",
        "import numpy as np\n",
        "#----------- huggingface -----------#\n",
        "from transformers import AutoTokenizer, AutoModelForTokenClassification, AutoModel, AdamW, TrainingArguments, Trainer, pipeline, BertModel, BertConfig\n",
        "#----------- plot libs -------------#\n",
        "import seaborn as sn\n",
        "import matplotlib.pyplot as plt\n",
        "\n",
        "sn.set_style(\"darkgrid\")\n",
        "os.environ[\"TOKENIZERS_PARALLELISM\"] = \"false\""
      ],
      "metadata": {
        "id": "o0XeYa_Ic5Dq"
      },
      "execution_count": 4,
      "outputs": []
    },
    {
      "cell_type": "code",
      "source": [
        "train_path = '/content/data/train.csv'\n",
        "test_path = '/content/data/test.csv'"
      ],
      "metadata": {
        "id": "ZUVAqicZgGFJ"
      },
      "execution_count": 5,
      "outputs": []
    },
    {
      "cell_type": "markdown",
      "source": [
        "Let's peek at the data:\n"
      ],
      "metadata": {
        "id": "4NE0jmn_huFE"
      }
    },
    {
      "cell_type": "code",
      "source": [
        "class_bins = np.zeros(4)\n",
        "class_tokens = np.zeros(4)\n",
        "with open(train_path, \"r\") as f:\n",
        "  reader = csv.reader(f)\n",
        "  for idx, row in enumerate(reader):\n",
        "    if idx == 0:\n",
        "      continue\n",
        "    cls, title, desc = row\n",
        "    class_bins[int(cls) - 1] += 1\n",
        "    title_words = len(title.split(\" \"))\n",
        "    desc_words = len(desc.split(\" \")) \n",
        "    class_tokens[int(cls) - 1] += title_words + desc_words\n",
        "fig, ax = plt.subplots(nrows=2, ncols=1, figsize=(10,10))\n",
        "ax[0].bar([\"World\", \"Sports\", \"Business\", \"Sci/Tech \"], class_bins, width = 0.25)\n",
        "ax[0].set_title(\"Datapoints distribution\")\n",
        "ax[1].bar([\"World\", \"Sports\", \"Business\", \"Sci/Tech \"], class_tokens, width = 0.25)\n",
        "ax[1].ticklabel_format(style='plain', axis='y')\n",
        "ax[1].set_title(\"Tokens distribution\")\n",
        "plt.show()"
      ],
      "metadata": {
        "colab": {
          "base_uri": "https://localhost:8080/",
          "height": 607
        },
        "id": "5XX2IYLYiI1e",
        "outputId": "dab335c2-1ce3-4216-b8b7-69cefbc6532e"
      },
      "execution_count": 6,
      "outputs": [
        {
          "output_type": "display_data",
          "data": {
            "text/plain": [
              "<Figure size 720x720 with 2 Axes>"
            ],
            "image/png": "[encoded data removed]"
          },
          "metadata": {}
        }
      ]
    },
    {
      "cell_type": "markdown",
      "source": [
        "Huh, the dataset looks very balanced. In this case, we will arbitrarily choose one class to serve as our normal class for training, and the rest will be considered outlier classes."
      ],
      "metadata": {
        "id": "ncraPSyXlbpu"
      }
    },
    {
      "cell_type": "code",
      "source": [
        "normal_class = 2 # we will detect Anomalies on Sports\n",
        "outlier_classes = [1, 3, 4]\n",
        "\n",
        "# I will concatenate titles and descriptions, maybe we could try differentiating them\n",
        "# at training time to compare results\n",
        "normal_class_instances = []\n",
        "with open(train_path, \"r\") as f:\n",
        "  reader = csv.reader(f)\n",
        "  for idx, row in enumerate(reader):\n",
        "    if idx == 0:\n",
        "      continue\n",
        "    cls, title, desc = row\n",
        "    if int(cls) == normal_class:\n",
        "      normal_class_instances.append(title)\n",
        "      normal_class_instances.append(desc)"
      ],
      "metadata": {
        "id": "Dmmh5a5nlrs3"
      },
      "execution_count": 7,
      "outputs": []
    },
    {
      "cell_type": "code",
      "source": [
        "MASK_TOK_ID = 103 # apparently, [MASK] has token id 103 in regular BERT"
      ],
      "metadata": {
        "id": "2bSfmTDPx91V"
      },
      "execution_count": 8,
      "outputs": []
    },
    {
      "cell_type": "markdown",
      "source": [
        "# Datasets and Dataloaders"
      ],
      "metadata": {
        "id": "KLKiNMiVlx1R"
      }
    },
    {
      "cell_type": "code",
      "source": [
        "class NormalSet(Dataset):\n",
        "  def __init__(self, class_instances: List, masked_per: float=0.15):\n",
        "    self.class_instances = class_instances\n",
        "    self.masked_per = masked_per\n",
        "    self.tokenizer = AutoTokenizer.from_pretrained(\"bert-base-uncased\")\n",
        "  def __len__(self):\n",
        "    return len(self.class_instances)\n",
        "  def __getitem__(self, idx):\n",
        "    if not isinstance(idx, Iterable):\n",
        "      idx = [idx]\n",
        "    data = []\n",
        "    targets = []\n",
        "    for i in idx:\n",
        "      data_raw = self.class_instances[i]\n",
        "      tokenized_bert = self.tokenizer(data_raw, add_special_tokens=True, max_length=100, padding='max_length',\n",
        "                                return_tensors='pt', truncation=True)\n",
        "      # ignore padding \n",
        "      at_mask = tokenized_bert[\"attention_mask\"]\n",
        "      relevant_tokens_num = len(at_mask[at_mask == 1]) - 2 # [CLS] and [SEP] shouldn't be masked, probably\n",
        "      # get mask\n",
        "      masked_tokens_num = math.floor(relevant_tokens_num * self.masked_per)\n",
        "      masks = np.random.randint(low=1, high=relevant_tokens_num + 1, size=masked_tokens_num) # [CLS] and [SEP] should only be the first and last tokens\n",
        "      data_tokens = []\n",
        "      targets_tokens = []\n",
        "      # mask the inputs and build the new data and targets\n",
        "      for idx, tok_id in enumerate(tokenized_bert[\"input_ids\"][0]):\n",
        "        tok_id = tok_id.item() # tok_ids end up as being one-element tensors because pytorch always returns a tensor when indexing a tensor, for some reason\n",
        "        gt_tok = tok_id\n",
        "        if idx in masks:\n",
        "          tok_id = MASK_TOK_ID\n",
        "        data_tokens.append(tok_id)\n",
        "        targets_tokens.append(gt_tok)\n",
        "      data_tokens = torch.as_tensor(data_tokens)\n",
        "      targets_tokens = torch.as_tensor(targets_tokens)\n",
        "\n",
        "      data.append(data_tokens)\n",
        "      targets.append(targets_tokens)\n",
        "      return torch.stack(data), torch.stack(targets)"
      ],
      "metadata": {
        "id": "BlbuDjeSmFoZ"
      },
      "execution_count": 9,
      "outputs": []
    },
    {
      "cell_type": "code",
      "source": [
        "dataset = NormalSet(normal_class_instances)\n",
        "ds_train, ds_valid = torch.utils.data.random_split(dataset, [int(len(dataset) * 0.8), int(len(dataset) * 0.2)])\n",
        "\n",
        "BATCH_SIZE=32\n",
        "dl_train = DataLoader(\n",
        "    ds_train, batch_size=BATCH_SIZE, shuffle=True\n",
        ")\n",
        "dl_valid = DataLoader(\n",
        "  ds_valid, batch_size=BATCH_SIZE, shuffle=False\n",
        ")"
      ],
      "metadata": {
        "id": "zWyd8_Dv0ihb",
        "colab": {
          "base_uri": "https://localhost:8080/",
          "height": 145,
          "referenced_widgets": [
            "859d7f0a5bf24797be0a4ddfb69615e3",
            "4fd22a0903ef4454bc1c92d64924629d",
            "af070b9263014ccba1f0b3e717b5c1bf",
            "46009838d1544090968e5db146ec3b1f",
            "9203946f57584441904e99f72c7a70a4",
            "3f818e487659427baf7180f7b47ae44d",
            "2378f56044a24087949ce2646252326e",
            "72c0102b41544e6a86d0584d19d4268f",
            "18e11adaec8f483182b306a7ffecabe1",
            "2c67ac3ba8004775a449d36e3a7c8baf",
            "b09317a7f61b4e7ba028c56208ef93ed",
            "f42b4f165bfd4ba88c3364168a58bd51",
            "5320f34149c448df9c8a6e2368903602",
            "cb8e10042efc413fb65a3d6ebf52f661",
            "8cab70a11a8f4cb2aa4e7193e8b6c775",
            "d7b5602edd414c0ca12fc76328b212eb",
            "d7019af823c7411889eb0de6320ef782",
            "051a2b68b54940ae9468bfa5cddaf5af",
            "0a2c2fadaa3643f88bf54f35e175603f",
            "1b67dde5eb9c4b42a70930bd04f36c7e",
            "d3d69a5786834a639caad56a03cf3897",
            "37ec90ae390b4ef0974e87f677a09b81",
            "745f46ec8e614ec7bcaf859c396f4e79",
            "3fdd8071606e4dbf98916cf50bea3dcc",
            "9d99b8f369e44e8287b5ddce655ee920",
            "8f21cb2091fa467bb7e5af975edf4e3a",
            "40fa9d9d58ef4dc1b4e3741bff05fd92",
            "7337108a04e5431e9caf7c51f8b27692",
            "ea16f6fa8d904833a410ad91bcb5225b",
            "762dfcd7810944ac9491418ab9084c26",
            "7f2d191eaf8b4ceda63b3d9624c12fcf",
            "a8b567bd853d4eff97e6764e5dafd884",
            "7c306ea924a84c6682252576dc5ca252",
            "fe5e32b5f313423e917c5d2337d1ea25",
            "841de9d2ca514e519e77868abdf1725d",
            "ed23f8d42ac14f3892785d8243af2740",
            "41f57c738766469590896bc645ee446f",
            "0ce42769922d43729e75eb8477ad28e0",
            "642bf88b08ed4c5daf9c75e14393b43b",
            "0a106e4c505e4a8cad63359a93552793",
            "f80cb7a27bd147d190965d16dd31df3b",
            "00b7924592ad4f879399ed56731e620f",
            "10584ae7cba14ed8a224180349631c62",
            "b60594c2717947f6bf1aa7de4026069c"
          ]
        },
        "outputId": "ed743e90-3427-418d-bb36-39ebf0c638cc"
      },
      "execution_count": 10,
      "outputs": [
        {
          "output_type": "display_data",
          "data": {
            "text/plain": [
              "Downloading:   0%|          | 0.00/28.0 [00:00<?, ?B/s]"
            ],
            "application/vnd.jupyter.widget-view+json": {
              "version_major": 2,
              "version_minor": 0,
              "model_id": "859d7f0a5bf24797be0a4ddfb69615e3"
            }
          },
          "metadata": {}
        },
        {
          "output_type": "display_data",
          "data": {
            "text/plain": [
              "Downloading:   0%|          | 0.00/570 [00:00<?, ?B/s]"
            ],
            "application/vnd.jupyter.widget-view+json": {
              "version_major": 2,
              "version_minor": 0,
              "model_id": "f42b4f165bfd4ba88c3364168a58bd51"
            }
          },
          "metadata": {}
        },
        {
          "output_type": "display_data",
          "data": {
            "text/plain": [
              "Downloading:   0%|          | 0.00/226k [00:00<?, ?B/s]"
            ],
            "application/vnd.jupyter.widget-view+json": {
              "version_major": 2,
              "version_minor": 0,
              "model_id": "745f46ec8e614ec7bcaf859c396f4e79"
            }
          },
          "metadata": {}
        },
        {
          "output_type": "display_data",
          "data": {
            "text/plain": [
              "Downloading:   0%|          | 0.00/455k [00:00<?, ?B/s]"
            ],
            "application/vnd.jupyter.widget-view+json": {
              "version_major": 2,
              "version_minor": 0,
              "model_id": "fe5e32b5f313423e917c5d2337d1ea25"
            }
          },
          "metadata": {}
        }
      ]
    },
    {
      "cell_type": "markdown",
      "source": [
        "# Create the model"
      ],
      "metadata": {
        "id": "H_c3ofy4cn6t"
      }
    },
    {
      "cell_type": "code",
      "source": [
        "vocab_size = len(AutoTokenizer.from_pretrained(\"bert-base-uncased\"))"
      ],
      "metadata": {
        "id": "JYajec_8oHIk"
      },
      "execution_count": 41,
      "outputs": []
    },
    {
      "cell_type": "code",
      "source": [
        "class AnomalyDetectionModel(nn.Module):\n",
        "  def __init__(self, num_hidden_layer: int=6, num_attention_heads: int=8, intermediate_size: int=1536, hidden_size: int=384):\n",
        "    super(AnomalyDetectionModel, self).__init__()\n",
        "\n",
        "    # Get the Transformer from the huggingface server\n",
        "    config = BertConfig.from_pretrained(\n",
        "        \"bert-base-uncased\", num_hidden_layers=num_hidden_layer, num_attention_heads=num_attention_heads, intermediate_size=intermediate_size, hidden_size=hidden_size)\n",
        "    self.transformer = BertModel(config)\n",
        "    self.cls_scores = nn.Linear(hidden_size, vocab_size)\n",
        "\n",
        "  def forward(self, x):\n",
        "    # x is B x T, where B is batch size and is max tokens num\n",
        "    # Get output from Transformer.\n",
        "    out = self.transformer(x)[0]\n",
        "    # out is B x T x BE, where BE is bert encoding hidden size\n",
        "    # for each BE output that is a mask, we need to pass it through the linear layer\n",
        "    scores = []\n",
        "    for idb, batch in enumerate(x):\n",
        "      for idt, token in enumerate(batch):\n",
        "        if token.item() == MASK_TOK_ID:\n",
        "          score = self.cls_scores(out[idb, idt])\n",
        "          scores.append(score)\n",
        "    return torch.stack(scores)"
      ],
      "metadata": {
        "id": "iWMpqrEycszR"
      },
      "execution_count": 47,
      "outputs": []
    },
    {
      "cell_type": "code",
      "source": [
        "device = torch.device(\"cuda\" if torch.cuda.is_available() else \"cpu\")\n",
        "\n",
        "# Instantiate our model and move it to GPU\n",
        "model = AnomalyDetectionModel().to(device)\n",
        "\n",
        "# Print the model paramters\n",
        "print(\"Model's parameters: \")\n",
        "num_params = 0\n",
        "for n, p in model.named_parameters():\n",
        "    print('\\t', n, ': ', p.size())\n",
        "    num_params += p.numel()\n",
        "print(\"Number of model parameters: \", num_params)"
      ],
      "metadata": {
        "id": "N4q-Qp4MgqB_",
        "colab": {
          "base_uri": "https://localhost:8080/"
        },
        "outputId": "2d11dc18-4cb2-4917-d09e-b3b8361e6eca"
      },
      "execution_count": 48,
      "outputs": [
        {
          "output_type": "stream",
          "name": "stdout",
          "text": [
            "Model's parameters: \n",
            "\t transformer.embeddings.word_embeddings.weight :  torch.Size([30522, 384])\n",
            "\t transformer.embeddings.position_embeddings.weight :  torch.Size([512, 384])\n",
            "\t transformer.embeddings.token_type_embeddings.weight :  torch.Size([2, 384])\n",
            "\t transformer.embeddings.LayerNorm.weight :  torch.Size([384])\n",
            "\t transformer.embeddings.LayerNorm.bias :  torch.Size([384])\n",
            "\t transformer.encoder.layer.0.attention.self.query.weight :  torch.Size([384, 384])\n",
            "\t transformer.encoder.layer.0.attention.self.query.bias :  torch.Size([384])\n",
            "\t transformer.encoder.layer.0.attention.self.key.weight :  torch.Size([384, 384])\n",
            "\t transformer.encoder.layer.0.attention.self.key.bias :  torch.Size([384])\n",
            "\t transformer.encoder.layer.0.attention.self.value.weight :  torch.Size([384, 384])\n",
            "\t transformer.encoder.layer.0.attention.self.value.bias :  torch.Size([384])\n",
            "\t transformer.encoder.layer.0.attention.output.dense.weight :  torch.Size([384, 384])\n",
            "\t transformer.encoder.layer.0.attention.output.dense.bias :  torch.Size([384])\n",
            "\t transformer.encoder.layer.0.attention.output.LayerNorm.weight :  torch.Size([384])\n",
            "\t transformer.encoder.layer.0.attention.output.LayerNorm.bias :  torch.Size([384])\n",
            "\t transformer.encoder.layer.0.intermediate.dense.weight :  torch.Size([1536, 384])\n",
            "\t transformer.encoder.layer.0.intermediate.dense.bias :  torch.Size([1536])\n",
            "\t transformer.encoder.layer.0.output.dense.weight :  torch.Size([384, 1536])\n",
            "\t transformer.encoder.layer.0.output.dense.bias :  torch.Size([384])\n",
            "\t transformer.encoder.layer.0.output.LayerNorm.weight :  torch.Size([384])\n",
            "\t transformer.encoder.layer.0.output.LayerNorm.bias :  torch.Size([384])\n",
            "\t transformer.encoder.layer.1.attention.self.query.weight :  torch.Size([384, 384])\n",
            "\t transformer.encoder.layer.1.attention.self.query.bias :  torch.Size([384])\n",
            "\t transformer.encoder.layer.1.attention.self.key.weight :  torch.Size([384, 384])\n",
            "\t transformer.encoder.layer.1.attention.self.key.bias :  torch.Size([384])\n",
            "\t transformer.encoder.layer.1.attention.self.value.weight :  torch.Size([384, 384])\n",
            "\t transformer.encoder.layer.1.attention.self.value.bias :  torch.Size([384])\n",
            "\t transformer.encoder.layer.1.attention.output.dense.weight :  torch.Size([384, 384])\n",
            "\t transformer.encoder.layer.1.attention.output.dense.bias :  torch.Size([384])\n",
            "\t transformer.encoder.layer.1.attention.output.LayerNorm.weight :  torch.Size([384])\n",
            "\t transformer.encoder.layer.1.attention.output.LayerNorm.bias :  torch.Size([384])\n",
            "\t transformer.encoder.layer.1.intermediate.dense.weight :  torch.Size([1536, 384])\n",
            "\t transformer.encoder.layer.1.intermediate.dense.bias :  torch.Size([1536])\n",
            "\t transformer.encoder.layer.1.output.dense.weight :  torch.Size([384, 1536])\n",
            "\t transformer.encoder.layer.1.output.dense.bias :  torch.Size([384])\n",
            "\t transformer.encoder.layer.1.output.LayerNorm.weight :  torch.Size([384])\n",
            "\t transformer.encoder.layer.1.output.LayerNorm.bias :  torch.Size([384])\n",
            "\t transformer.encoder.layer.2.attention.self.query.weight :  torch.Size([384, 384])\n",
            "\t transformer.encoder.layer.2.attention.self.query.bias :  torch.Size([384])\n",
            "\t transformer.encoder.layer.2.attention.self.key.weight :  torch.Size([384, 384])\n",
            "\t transformer.encoder.layer.2.attention.self.key.bias :  torch.Size([384])\n",
            "\t transformer.encoder.layer.2.attention.self.value.weight :  torch.Size([384, 384])\n",
            "\t transformer.encoder.layer.2.attention.self.value.bias :  torch.Size([384])\n",
            "\t transformer.encoder.layer.2.attention.output.dense.weight :  torch.Size([384, 384])\n",
            "\t transformer.encoder.layer.2.attention.output.dense.bias :  torch.Size([384])\n",
            "\t transformer.encoder.layer.2.attention.output.LayerNorm.weight :  torch.Size([384])\n",
            "\t transformer.encoder.layer.2.attention.output.LayerNorm.bias :  torch.Size([384])\n",
            "\t transformer.encoder.layer.2.intermediate.dense.weight :  torch.Size([1536, 384])\n",
            "\t transformer.encoder.layer.2.intermediate.dense.bias :  torch.Size([1536])\n",
            "\t transformer.encoder.layer.2.output.dense.weight :  torch.Size([384, 1536])\n",
            "\t transformer.encoder.layer.2.output.dense.bias :  torch.Size([384])\n",
            "\t transformer.encoder.layer.2.output.LayerNorm.weight :  torch.Size([384])\n",
            "\t transformer.encoder.layer.2.output.LayerNorm.bias :  torch.Size([384])\n",
            "\t transformer.encoder.layer.3.attention.self.query.weight :  torch.Size([384, 384])\n",
            "\t transformer.encoder.layer.3.attention.self.query.bias :  torch.Size([384])\n",
            "\t transformer.encoder.layer.3.attention.self.key.weight :  torch.Size([384, 384])\n",
            "\t transformer.encoder.layer.3.attention.self.key.bias :  torch.Size([384])\n",
            "\t transformer.encoder.layer.3.attention.self.value.weight :  torch.Size([384, 384])\n",
            "\t transformer.encoder.layer.3.attention.self.value.bias :  torch.Size([384])\n",
            "\t transformer.encoder.layer.3.attention.output.dense.weight :  torch.Size([384, 384])\n",
            "\t transformer.encoder.layer.3.attention.output.dense.bias :  torch.Size([384])\n",
            "\t transformer.encoder.layer.3.attention.output.LayerNorm.weight :  torch.Size([384])\n",
            "\t transformer.encoder.layer.3.attention.output.LayerNorm.bias :  torch.Size([384])\n",
            "\t transformer.encoder.layer.3.intermediate.dense.weight :  torch.Size([1536, 384])\n",
            "\t transformer.encoder.layer.3.intermediate.dense.bias :  torch.Size([1536])\n",
            "\t transformer.encoder.layer.3.output.dense.weight :  torch.Size([384, 1536])\n",
            "\t transformer.encoder.layer.3.output.dense.bias :  torch.Size([384])\n",
            "\t transformer.encoder.layer.3.output.LayerNorm.weight :  torch.Size([384])\n",
            "\t transformer.encoder.layer.3.output.LayerNorm.bias :  torch.Size([384])\n",
            "\t transformer.encoder.layer.4.attention.self.query.weight :  torch.Size([384, 384])\n",
            "\t transformer.encoder.layer.4.attention.self.query.bias :  torch.Size([384])\n",
            "\t transformer.encoder.layer.4.attention.self.key.weight :  torch.Size([384, 384])\n",
            "\t transformer.encoder.layer.4.attention.self.key.bias :  torch.Size([384])\n",
            "\t transformer.encoder.layer.4.attention.self.value.weight :  torch.Size([384, 384])\n",
            "\t transformer.encoder.layer.4.attention.self.value.bias :  torch.Size([384])\n",
            "\t transformer.encoder.layer.4.attention.output.dense.weight :  torch.Size([384, 384])\n",
            "\t transformer.encoder.layer.4.attention.output.dense.bias :  torch.Size([384])\n",
            "\t transformer.encoder.layer.4.attention.output.LayerNorm.weight :  torch.Size([384])\n",
            "\t transformer.encoder.layer.4.attention.output.LayerNorm.bias :  torch.Size([384])\n",
            "\t transformer.encoder.layer.4.intermediate.dense.weight :  torch.Size([1536, 384])\n",
            "\t transformer.encoder.layer.4.intermediate.dense.bias :  torch.Size([1536])\n",
            "\t transformer.encoder.layer.4.output.dense.weight :  torch.Size([384, 1536])\n",
            "\t transformer.encoder.layer.4.output.dense.bias :  torch.Size([384])\n",
            "\t transformer.encoder.layer.4.output.LayerNorm.weight :  torch.Size([384])\n",
            "\t transformer.encoder.layer.4.output.LayerNorm.bias :  torch.Size([384])\n",
            "\t transformer.encoder.layer.5.attention.self.query.weight :  torch.Size([384, 384])\n",
            "\t transformer.encoder.layer.5.attention.self.query.bias :  torch.Size([384])\n",
            "\t transformer.encoder.layer.5.attention.self.key.weight :  torch.Size([384, 384])\n",
            "\t transformer.encoder.layer.5.attention.self.key.bias :  torch.Size([384])\n",
            "\t transformer.encoder.layer.5.attention.self.value.weight :  torch.Size([384, 384])\n",
            "\t transformer.encoder.layer.5.attention.self.value.bias :  torch.Size([384])\n",
            "\t transformer.encoder.layer.5.attention.output.dense.weight :  torch.Size([384, 384])\n",
            "\t transformer.encoder.layer.5.attention.output.dense.bias :  torch.Size([384])\n",
            "\t transformer.encoder.layer.5.attention.output.LayerNorm.weight :  torch.Size([384])\n",
            "\t transformer.encoder.layer.5.attention.output.LayerNorm.bias :  torch.Size([384])\n",
            "\t transformer.encoder.layer.5.intermediate.dense.weight :  torch.Size([1536, 384])\n",
            "\t transformer.encoder.layer.5.intermediate.dense.bias :  torch.Size([1536])\n",
            "\t transformer.encoder.layer.5.output.dense.weight :  torch.Size([384, 1536])\n",
            "\t transformer.encoder.layer.5.output.dense.bias :  torch.Size([384])\n",
            "\t transformer.encoder.layer.5.output.LayerNorm.weight :  torch.Size([384])\n",
            "\t transformer.encoder.layer.5.output.LayerNorm.bias :  torch.Size([384])\n",
            "\t transformer.pooler.dense.weight :  torch.Size([384, 384])\n",
            "\t transformer.pooler.dense.bias :  torch.Size([384])\n",
            "\t cls_scores.weight :  torch.Size([30522, 384])\n",
            "\t cls_scores.bias :  torch.Size([30522])\n",
            "Number of model parameters:  34464186\n"
          ]
        }
      ]
    },
    {
      "cell_type": "markdown",
      "source": [
        "# Training the model\n"
      ],
      "metadata": {
        "id": "an1lBvWYkmsT"
      }
    },
    {
      "cell_type": "code",
      "source": [
        "batch = next(iter(dl_train))\n",
        "inputs, targets = batch\n",
        "inputs = inputs.squeeze(1)\n",
        "print(inputs.shape)\n",
        "out = model(inputs)\n",
        "out "
      ],
      "metadata": {
        "colab": {
          "base_uri": "https://localhost:8080/"
        },
        "id": "lQPvFREjku1J",
        "outputId": "9e1abab3-0d31-4afe-b014-cdca0b609600"
      },
      "execution_count": 49,
      "outputs": [
        {
          "output_type": "stream",
          "name": "stdout",
          "text": [
            "torch.Size([32, 100])\n"
          ]
        },
        {
          "output_type": "execute_result",
          "data": {
            "text/plain": [
              "tensor([[ 0.3344,  0.5317,  0.5336,  ...,  1.3089, -1.2815, -0.0226],\n",
              "        [-0.0750,  0.0357, -0.0904,  ...,  0.9716, -0.7142, -0.2056],\n",
              "        [ 0.5434,  0.2797,  0.0675,  ...,  0.4893, -0.4799,  0.2775],\n",
              "        ...,\n",
              "        [ 0.7888,  0.1668,  0.3027,  ...,  0.6370, -0.2960, -0.4921],\n",
              "        [ 0.8656,  0.0820,  0.1347,  ...,  0.5415, -0.8348, -0.2306],\n",
              "        [ 0.3739, -0.6121,  0.1821,  ..., -0.0563, -0.7402,  0.2997]],\n",
              "       grad_fn=<StackBackward0>)"
            ]
          },
          "metadata": {},
          "execution_count": 49
        }
      ]
    },
    {
      "cell_type": "code",
      "source": [
        "out.shape"
      ],
      "metadata": {
        "colab": {
          "base_uri": "https://localhost:8080/"
        },
        "id": "EAi2vxvPmJLN",
        "outputId": "d2f0bafd-f1b2-47c1-adaf-b2d3ec8ea816"
      },
      "execution_count": 50,
      "outputs": [
        {
          "output_type": "execute_result",
          "data": {
            "text/plain": [
              "torch.Size([115, 30522])"
            ]
          },
          "metadata": {},
          "execution_count": 50
        }
      ]
    }
  ]
}
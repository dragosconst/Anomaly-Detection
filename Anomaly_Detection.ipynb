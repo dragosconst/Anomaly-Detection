{
  "nbformat": 4,
  "nbformat_minor": 0,
  "metadata": {
    "colab": {
      "name": "Anomaly_Detection.ipynb",
      "provenance": [],
      "collapsed_sections": [],
      "toc_visible": true,
      "include_colab_link": true
    },
    "kernelspec": {
      "name": "python3",
      "display_name": "Python 3"
    },
    "language_info": {
      "name": "python"
    },
    "accelerator": "GPU",
    "widgets": {
      "application/vnd.jupyter.widget-state+json": {
        "a71dcab2f3184b4c90360ac8c3bc0e58": {
          "model_module": "@jupyter-widgets/controls",
          "model_name": "HBoxModel",
          "model_module_version": "1.5.0",
          "state": {
            "_dom_classes": [],
            "_model_module": "@jupyter-widgets/controls",
            "_model_module_version": "1.5.0",
            "_model_name": "HBoxModel",
            "_view_count": null,
            "_view_module": "@jupyter-widgets/controls",
            "_view_module_version": "1.5.0",
            "_view_name": "HBoxView",
            "box_style": "",
            "children": [
              "IPY_MODEL_1adc1eb1e2be4713b5d409f7b72d049b",
              "IPY_MODEL_40bacea180294d5e99d247e0d2c898b3",
              "IPY_MODEL_b79937f2be0d4bc8a7fc15fa6675b082"
            ],
            "layout": "IPY_MODEL_bdc59e6eec934fa89518b53d11936419"
          }
        },
        "1adc1eb1e2be4713b5d409f7b72d049b": {
          "model_module": "@jupyter-widgets/controls",
          "model_name": "HTMLModel",
          "model_module_version": "1.5.0",
          "state": {
            "_dom_classes": [],
            "_model_module": "@jupyter-widgets/controls",
            "_model_module_version": "1.5.0",
            "_model_name": "HTMLModel",
            "_view_count": null,
            "_view_module": "@jupyter-widgets/controls",
            "_view_module_version": "1.5.0",
            "_view_name": "HTMLView",
            "description": "",
            "description_tooltip": null,
            "layout": "IPY_MODEL_c570758965dd4618b889080094f1eb5f",
            "placeholder": "​",
            "style": "IPY_MODEL_743c55d8c1f241fa9525016f45f48b3d",
            "value": "Downloading: 100%"
          }
        },
        "40bacea180294d5e99d247e0d2c898b3": {
          "model_module": "@jupyter-widgets/controls",
          "model_name": "FloatProgressModel",
          "model_module_version": "1.5.0",
          "state": {
            "_dom_classes": [],
            "_model_module": "@jupyter-widgets/controls",
            "_model_module_version": "1.5.0",
            "_model_name": "FloatProgressModel",
            "_view_count": null,
            "_view_module": "@jupyter-widgets/controls",
            "_view_module_version": "1.5.0",
            "_view_name": "ProgressView",
            "bar_style": "success",
            "description": "",
            "description_tooltip": null,
            "layout": "IPY_MODEL_9428f0e8ccb742c89da3507565bd8587",
            "max": 29,
            "min": 0,
            "orientation": "horizontal",
            "style": "IPY_MODEL_5057bc3a5e0246aba138a1b45a9558a9",
            "value": 29
          }
        },
        "b79937f2be0d4bc8a7fc15fa6675b082": {
          "model_module": "@jupyter-widgets/controls",
          "model_name": "HTMLModel",
          "model_module_version": "1.5.0",
          "state": {
            "_dom_classes": [],
            "_model_module": "@jupyter-widgets/controls",
            "_model_module_version": "1.5.0",
            "_model_name": "HTMLModel",
            "_view_count": null,
            "_view_module": "@jupyter-widgets/controls",
            "_view_module_version": "1.5.0",
            "_view_name": "HTMLView",
            "description": "",
            "description_tooltip": null,
            "layout": "IPY_MODEL_11c9e6861e6c490a91fec6c861c96076",
            "placeholder": "​",
            "style": "IPY_MODEL_64ec1382203d4aa0a1b30d77cdfe2c2f",
            "value": " 29.0/29.0 [00:00&lt;00:00, 674B/s]"
          }
        },
        "bdc59e6eec934fa89518b53d11936419": {
          "model_module": "@jupyter-widgets/base",
          "model_name": "LayoutModel",
          "model_module_version": "1.2.0",
          "state": {
            "_model_module": "@jupyter-widgets/base",
            "_model_module_version": "1.2.0",
            "_model_name": "LayoutModel",
            "_view_count": null,
            "_view_module": "@jupyter-widgets/base",
            "_view_module_version": "1.2.0",
            "_view_name": "LayoutView",
            "align_content": null,
            "align_items": null,
            "align_self": null,
            "border": null,
            "bottom": null,
            "display": null,
            "flex": null,
            "flex_flow": null,
            "grid_area": null,
            "grid_auto_columns": null,
            "grid_auto_flow": null,
            "grid_auto_rows": null,
            "grid_column": null,
            "grid_gap": null,
            "grid_row": null,
            "grid_template_areas": null,
            "grid_template_columns": null,
            "grid_template_rows": null,
            "height": null,
            "justify_content": null,
            "justify_items": null,
            "left": null,
            "margin": null,
            "max_height": null,
            "max_width": null,
            "min_height": null,
            "min_width": null,
            "object_fit": null,
            "object_position": null,
            "order": null,
            "overflow": null,
            "overflow_x": null,
            "overflow_y": null,
            "padding": null,
            "right": null,
            "top": null,
            "visibility": null,
            "width": null
          }
        },
        "c570758965dd4618b889080094f1eb5f": {
          "model_module": "@jupyter-widgets/base",
          "model_name": "LayoutModel",
          "model_module_version": "1.2.0",
          "state": {
            "_model_module": "@jupyter-widgets/base",
            "_model_module_version": "1.2.0",
            "_model_name": "LayoutModel",
            "_view_count": null,
            "_view_module": "@jupyter-widgets/base",
            "_view_module_version": "1.2.0",
            "_view_name": "LayoutView",
            "align_content": null,
            "align_items": null,
            "align_self": null,
            "border": null,
            "bottom": null,
            "display": null,
            "flex": null,
            "flex_flow": null,
            "grid_area": null,
            "grid_auto_columns": null,
            "grid_auto_flow": null,
            "grid_auto_rows": null,
            "grid_column": null,
            "grid_gap": null,
            "grid_row": null,
            "grid_template_areas": null,
            "grid_template_columns": null,
            "grid_template_rows": null,
            "height": null,
            "justify_content": null,
            "justify_items": null,
            "left": null,
            "margin": null,
            "max_height": null,
            "max_width": null,
            "min_height": null,
            "min_width": null,
            "object_fit": null,
            "object_position": null,
            "order": null,
            "overflow": null,
            "overflow_x": null,
            "overflow_y": null,
            "padding": null,
            "right": null,
            "top": null,
            "visibility": null,
            "width": null
          }
        },
        "743c55d8c1f241fa9525016f45f48b3d": {
          "model_module": "@jupyter-widgets/controls",
          "model_name": "DescriptionStyleModel",
          "model_module_version": "1.5.0",
          "state": {
            "_model_module": "@jupyter-widgets/controls",
            "_model_module_version": "1.5.0",
            "_model_name": "DescriptionStyleModel",
            "_view_count": null,
            "_view_module": "@jupyter-widgets/base",
            "_view_module_version": "1.2.0",
            "_view_name": "StyleView",
            "description_width": ""
          }
        },
        "9428f0e8ccb742c89da3507565bd8587": {
          "model_module": "@jupyter-widgets/base",
          "model_name": "LayoutModel",
          "model_module_version": "1.2.0",
          "state": {
            "_model_module": "@jupyter-widgets/base",
            "_model_module_version": "1.2.0",
            "_model_name": "LayoutModel",
            "_view_count": null,
            "_view_module": "@jupyter-widgets/base",
            "_view_module_version": "1.2.0",
            "_view_name": "LayoutView",
            "align_content": null,
            "align_items": null,
            "align_self": null,
            "border": null,
            "bottom": null,
            "display": null,
            "flex": null,
            "flex_flow": null,
            "grid_area": null,
            "grid_auto_columns": null,
            "grid_auto_flow": null,
            "grid_auto_rows": null,
            "grid_column": null,
            "grid_gap": null,
            "grid_row": null,
            "grid_template_areas": null,
            "grid_template_columns": null,
            "grid_template_rows": null,
            "height": null,
            "justify_content": null,
            "justify_items": null,
            "left": null,
            "margin": null,
            "max_height": null,
            "max_width": null,
            "min_height": null,
            "min_width": null,
            "object_fit": null,
            "object_position": null,
            "order": null,
            "overflow": null,
            "overflow_x": null,
            "overflow_y": null,
            "padding": null,
            "right": null,
            "top": null,
            "visibility": null,
            "width": null
          }
        },
        "5057bc3a5e0246aba138a1b45a9558a9": {
          "model_module": "@jupyter-widgets/controls",
          "model_name": "ProgressStyleModel",
          "model_module_version": "1.5.0",
          "state": {
            "_model_module": "@jupyter-widgets/controls",
            "_model_module_version": "1.5.0",
            "_model_name": "ProgressStyleModel",
            "_view_count": null,
            "_view_module": "@jupyter-widgets/base",
            "_view_module_version": "1.2.0",
            "_view_name": "StyleView",
            "bar_color": null,
            "description_width": ""
          }
        },
        "11c9e6861e6c490a91fec6c861c96076": {
          "model_module": "@jupyter-widgets/base",
          "model_name": "LayoutModel",
          "model_module_version": "1.2.0",
          "state": {
            "_model_module": "@jupyter-widgets/base",
            "_model_module_version": "1.2.0",
            "_model_name": "LayoutModel",
            "_view_count": null,
            "_view_module": "@jupyter-widgets/base",
            "_view_module_version": "1.2.0",
            "_view_name": "LayoutView",
            "align_content": null,
            "align_items": null,
            "align_self": null,
            "border": null,
            "bottom": null,
            "display": null,
            "flex": null,
            "flex_flow": null,
            "grid_area": null,
            "grid_auto_columns": null,
            "grid_auto_flow": null,
            "grid_auto_rows": null,
            "grid_column": null,
            "grid_gap": null,
            "grid_row": null,
            "grid_template_areas": null,
            "grid_template_columns": null,
            "grid_template_rows": null,
            "height": null,
            "justify_content": null,
            "justify_items": null,
            "left": null,
            "margin": null,
            "max_height": null,
            "max_width": null,
            "min_height": null,
            "min_width": null,
            "object_fit": null,
            "object_position": null,
            "order": null,
            "overflow": null,
            "overflow_x": null,
            "overflow_y": null,
            "padding": null,
            "right": null,
            "top": null,
            "visibility": null,
            "width": null
          }
        },
        "64ec1382203d4aa0a1b30d77cdfe2c2f": {
          "model_module": "@jupyter-widgets/controls",
          "model_name": "DescriptionStyleModel",
          "model_module_version": "1.5.0",
          "state": {
            "_model_module": "@jupyter-widgets/controls",
            "_model_module_version": "1.5.0",
            "_model_name": "DescriptionStyleModel",
            "_view_count": null,
            "_view_module": "@jupyter-widgets/base",
            "_view_module_version": "1.2.0",
            "_view_name": "StyleView",
            "description_width": ""
          }
        },
        "3ce8a34924054ff48007c4d7e3b8ab3d": {
          "model_module": "@jupyter-widgets/controls",
          "model_name": "HBoxModel",
          "model_module_version": "1.5.0",
          "state": {
            "_dom_classes": [],
            "_model_module": "@jupyter-widgets/controls",
            "_model_module_version": "1.5.0",
            "_model_name": "HBoxModel",
            "_view_count": null,
            "_view_module": "@jupyter-widgets/controls",
            "_view_module_version": "1.5.0",
            "_view_name": "HBoxView",
            "box_style": "",
            "children": [
              "IPY_MODEL_a6f23d8cc89c4f9dab8ae4884a5a672f",
              "IPY_MODEL_8baa19fdf248485b9e0d48d412f16525",
              "IPY_MODEL_eef5bfe9c6984c35a1ab917082cb56b0"
            ],
            "layout": "IPY_MODEL_41300f0728e547dfa13ec399276f7e10"
          }
        },
        "a6f23d8cc89c4f9dab8ae4884a5a672f": {
          "model_module": "@jupyter-widgets/controls",
          "model_name": "HTMLModel",
          "model_module_version": "1.5.0",
          "state": {
            "_dom_classes": [],
            "_model_module": "@jupyter-widgets/controls",
            "_model_module_version": "1.5.0",
            "_model_name": "HTMLModel",
            "_view_count": null,
            "_view_module": "@jupyter-widgets/controls",
            "_view_module_version": "1.5.0",
            "_view_name": "HTMLView",
            "description": "",
            "description_tooltip": null,
            "layout": "IPY_MODEL_27e8bf1f13fe4c7da9678f90284852ba",
            "placeholder": "​",
            "style": "IPY_MODEL_9c7e81446b7245309782400f175eb6a1",
            "value": "Downloading: 100%"
          }
        },
        "8baa19fdf248485b9e0d48d412f16525": {
          "model_module": "@jupyter-widgets/controls",
          "model_name": "FloatProgressModel",
          "model_module_version": "1.5.0",
          "state": {
            "_dom_classes": [],
            "_model_module": "@jupyter-widgets/controls",
            "_model_module_version": "1.5.0",
            "_model_name": "FloatProgressModel",
            "_view_count": null,
            "_view_module": "@jupyter-widgets/controls",
            "_view_module_version": "1.5.0",
            "_view_name": "ProgressView",
            "bar_style": "success",
            "description": "",
            "description_tooltip": null,
            "layout": "IPY_MODEL_57148ff3d70c4b7ba809679456d930da",
            "max": 570,
            "min": 0,
            "orientation": "horizontal",
            "style": "IPY_MODEL_1172287643aa44f09a893ccdb2e08ccb",
            "value": 570
          }
        },
        "eef5bfe9c6984c35a1ab917082cb56b0": {
          "model_module": "@jupyter-widgets/controls",
          "model_name": "HTMLModel",
          "model_module_version": "1.5.0",
          "state": {
            "_dom_classes": [],
            "_model_module": "@jupyter-widgets/controls",
            "_model_module_version": "1.5.0",
            "_model_name": "HTMLModel",
            "_view_count": null,
            "_view_module": "@jupyter-widgets/controls",
            "_view_module_version": "1.5.0",
            "_view_name": "HTMLView",
            "description": "",
            "description_tooltip": null,
            "layout": "IPY_MODEL_7b32a09dffa240bd901d795647a30630",
            "placeholder": "​",
            "style": "IPY_MODEL_8a5ac7110d2f4eb28b06748c8ad8c576",
            "value": " 570/570 [00:00&lt;00:00, 14.3kB/s]"
          }
        },
        "41300f0728e547dfa13ec399276f7e10": {
          "model_module": "@jupyter-widgets/base",
          "model_name": "LayoutModel",
          "model_module_version": "1.2.0",
          "state": {
            "_model_module": "@jupyter-widgets/base",
            "_model_module_version": "1.2.0",
            "_model_name": "LayoutModel",
            "_view_count": null,
            "_view_module": "@jupyter-widgets/base",
            "_view_module_version": "1.2.0",
            "_view_name": "LayoutView",
            "align_content": null,
            "align_items": null,
            "align_self": null,
            "border": null,
            "bottom": null,
            "display": null,
            "flex": null,
            "flex_flow": null,
            "grid_area": null,
            "grid_auto_columns": null,
            "grid_auto_flow": null,
            "grid_auto_rows": null,
            "grid_column": null,
            "grid_gap": null,
            "grid_row": null,
            "grid_template_areas": null,
            "grid_template_columns": null,
            "grid_template_rows": null,
            "height": null,
            "justify_content": null,
            "justify_items": null,
            "left": null,
            "margin": null,
            "max_height": null,
            "max_width": null,
            "min_height": null,
            "min_width": null,
            "object_fit": null,
            "object_position": null,
            "order": null,
            "overflow": null,
            "overflow_x": null,
            "overflow_y": null,
            "padding": null,
            "right": null,
            "top": null,
            "visibility": null,
            "width": null
          }
        },
        "27e8bf1f13fe4c7da9678f90284852ba": {
          "model_module": "@jupyter-widgets/base",
          "model_name": "LayoutModel",
          "model_module_version": "1.2.0",
          "state": {
            "_model_module": "@jupyter-widgets/base",
            "_model_module_version": "1.2.0",
            "_model_name": "LayoutModel",
            "_view_count": null,
            "_view_module": "@jupyter-widgets/base",
            "_view_module_version": "1.2.0",
            "_view_name": "LayoutView",
            "align_content": null,
            "align_items": null,
            "align_self": null,
            "border": null,
            "bottom": null,
            "display": null,
            "flex": null,
            "flex_flow": null,
            "grid_area": null,
            "grid_auto_columns": null,
            "grid_auto_flow": null,
            "grid_auto_rows": null,
            "grid_column": null,
            "grid_gap": null,
            "grid_row": null,
            "grid_template_areas": null,
            "grid_template_columns": null,
            "grid_template_rows": null,
            "height": null,
            "justify_content": null,
            "justify_items": null,
            "left": null,
            "margin": null,
            "max_height": null,
            "max_width": null,
            "min_height": null,
            "min_width": null,
            "object_fit": null,
            "object_position": null,
            "order": null,
            "overflow": null,
            "overflow_x": null,
            "overflow_y": null,
            "padding": null,
            "right": null,
            "top": null,
            "visibility": null,
            "width": null
          }
        },
        "9c7e81446b7245309782400f175eb6a1": {
          "model_module": "@jupyter-widgets/controls",
          "model_name": "DescriptionStyleModel",
          "model_module_version": "1.5.0",
          "state": {
            "_model_module": "@jupyter-widgets/controls",
            "_model_module_version": "1.5.0",
            "_model_name": "DescriptionStyleModel",
            "_view_count": null,
            "_view_module": "@jupyter-widgets/base",
            "_view_module_version": "1.2.0",
            "_view_name": "StyleView",
            "description_width": ""
          }
        },
        "57148ff3d70c4b7ba809679456d930da": {
          "model_module": "@jupyter-widgets/base",
          "model_name": "LayoutModel",
          "model_module_version": "1.2.0",
          "state": {
            "_model_module": "@jupyter-widgets/base",
            "_model_module_version": "1.2.0",
            "_model_name": "LayoutModel",
            "_view_count": null,
            "_view_module": "@jupyter-widgets/base",
            "_view_module_version": "1.2.0",
            "_view_name": "LayoutView",
            "align_content": null,
            "align_items": null,
            "align_self": null,
            "border": null,
            "bottom": null,
            "display": null,
            "flex": null,
            "flex_flow": null,
            "grid_area": null,
            "grid_auto_columns": null,
            "grid_auto_flow": null,
            "grid_auto_rows": null,
            "grid_column": null,
            "grid_gap": null,
            "grid_row": null,
            "grid_template_areas": null,
            "grid_template_columns": null,
            "grid_template_rows": null,
            "height": null,
            "justify_content": null,
            "justify_items": null,
            "left": null,
            "margin": null,
            "max_height": null,
            "max_width": null,
            "min_height": null,
            "min_width": null,
            "object_fit": null,
            "object_position": null,
            "order": null,
            "overflow": null,
            "overflow_x": null,
            "overflow_y": null,
            "padding": null,
            "right": null,
            "top": null,
            "visibility": null,
            "width": null
          }
        },
        "1172287643aa44f09a893ccdb2e08ccb": {
          "model_module": "@jupyter-widgets/controls",
          "model_name": "ProgressStyleModel",
          "model_module_version": "1.5.0",
          "state": {
            "_model_module": "@jupyter-widgets/controls",
            "_model_module_version": "1.5.0",
            "_model_name": "ProgressStyleModel",
            "_view_count": null,
            "_view_module": "@jupyter-widgets/base",
            "_view_module_version": "1.2.0",
            "_view_name": "StyleView",
            "bar_color": null,
            "description_width": ""
          }
        },
        "7b32a09dffa240bd901d795647a30630": {
          "model_module": "@jupyter-widgets/base",
          "model_name": "LayoutModel",
          "model_module_version": "1.2.0",
          "state": {
            "_model_module": "@jupyter-widgets/base",
            "_model_module_version": "1.2.0",
            "_model_name": "LayoutModel",
            "_view_count": null,
            "_view_module": "@jupyter-widgets/base",
            "_view_module_version": "1.2.0",
            "_view_name": "LayoutView",
            "align_content": null,
            "align_items": null,
            "align_self": null,
            "border": null,
            "bottom": null,
            "display": null,
            "flex": null,
            "flex_flow": null,
            "grid_area": null,
            "grid_auto_columns": null,
            "grid_auto_flow": null,
            "grid_auto_rows": null,
            "grid_column": null,
            "grid_gap": null,
            "grid_row": null,
            "grid_template_areas": null,
            "grid_template_columns": null,
            "grid_template_rows": null,
            "height": null,
            "justify_content": null,
            "justify_items": null,
            "left": null,
            "margin": null,
            "max_height": null,
            "max_width": null,
            "min_height": null,
            "min_width": null,
            "object_fit": null,
            "object_position": null,
            "order": null,
            "overflow": null,
            "overflow_x": null,
            "overflow_y": null,
            "padding": null,
            "right": null,
            "top": null,
            "visibility": null,
            "width": null
          }
        },
        "8a5ac7110d2f4eb28b06748c8ad8c576": {
          "model_module": "@jupyter-widgets/controls",
          "model_name": "DescriptionStyleModel",
          "model_module_version": "1.5.0",
          "state": {
            "_model_module": "@jupyter-widgets/controls",
            "_model_module_version": "1.5.0",
            "_model_name": "DescriptionStyleModel",
            "_view_count": null,
            "_view_module": "@jupyter-widgets/base",
            "_view_module_version": "1.2.0",
            "_view_name": "StyleView",
            "description_width": ""
          }
        },
        "a0d20187338e4a2da0fabfd4f40e9b2b": {
          "model_module": "@jupyter-widgets/controls",
          "model_name": "HBoxModel",
          "model_module_version": "1.5.0",
          "state": {
            "_dom_classes": [],
            "_model_module": "@jupyter-widgets/controls",
            "_model_module_version": "1.5.0",
            "_model_name": "HBoxModel",
            "_view_count": null,
            "_view_module": "@jupyter-widgets/controls",
            "_view_module_version": "1.5.0",
            "_view_name": "HBoxView",
            "box_style": "",
            "children": [
              "IPY_MODEL_b50b1259105f42fc985d38091fc9dc8e",
              "IPY_MODEL_516fb48af1fe42e0b500550ced3e4d9a",
              "IPY_MODEL_dff44c46cdfe4fc7bce381f64df4a69e"
            ],
            "layout": "IPY_MODEL_02af731889814ea19f64db548f04e10e"
          }
        },
        "b50b1259105f42fc985d38091fc9dc8e": {
          "model_module": "@jupyter-widgets/controls",
          "model_name": "HTMLModel",
          "model_module_version": "1.5.0",
          "state": {
            "_dom_classes": [],
            "_model_module": "@jupyter-widgets/controls",
            "_model_module_version": "1.5.0",
            "_model_name": "HTMLModel",
            "_view_count": null,
            "_view_module": "@jupyter-widgets/controls",
            "_view_module_version": "1.5.0",
            "_view_name": "HTMLView",
            "description": "",
            "description_tooltip": null,
            "layout": "IPY_MODEL_1bf73121232045079ab2e05d69f3081f",
            "placeholder": "​",
            "style": "IPY_MODEL_a8e94a1ba7114256b03015694c5b7189",
            "value": "Downloading: 100%"
          }
        },
        "516fb48af1fe42e0b500550ced3e4d9a": {
          "model_module": "@jupyter-widgets/controls",
          "model_name": "FloatProgressModel",
          "model_module_version": "1.5.0",
          "state": {
            "_dom_classes": [],
            "_model_module": "@jupyter-widgets/controls",
            "_model_module_version": "1.5.0",
            "_model_name": "FloatProgressModel",
            "_view_count": null,
            "_view_module": "@jupyter-widgets/controls",
            "_view_module_version": "1.5.0",
            "_view_name": "ProgressView",
            "bar_style": "success",
            "description": "",
            "description_tooltip": null,
            "layout": "IPY_MODEL_32405437cb2f481996e5f4e4f35d2d30",
            "max": 213450,
            "min": 0,
            "orientation": "horizontal",
            "style": "IPY_MODEL_39bf1cb9ab444154917ea7482519f8a5",
            "value": 213450
          }
        },
        "dff44c46cdfe4fc7bce381f64df4a69e": {
          "model_module": "@jupyter-widgets/controls",
          "model_name": "HTMLModel",
          "model_module_version": "1.5.0",
          "state": {
            "_dom_classes": [],
            "_model_module": "@jupyter-widgets/controls",
            "_model_module_version": "1.5.0",
            "_model_name": "HTMLModel",
            "_view_count": null,
            "_view_module": "@jupyter-widgets/controls",
            "_view_module_version": "1.5.0",
            "_view_name": "HTMLView",
            "description": "",
            "description_tooltip": null,
            "layout": "IPY_MODEL_20fe92b5302542bf9906690b74de4cf3",
            "placeholder": "​",
            "style": "IPY_MODEL_711d47c912e149a192ab15b072a7354e",
            "value": " 208k/208k [00:00&lt;00:00, 231kB/s]"
          }
        },
        "02af731889814ea19f64db548f04e10e": {
          "model_module": "@jupyter-widgets/base",
          "model_name": "LayoutModel",
          "model_module_version": "1.2.0",
          "state": {
            "_model_module": "@jupyter-widgets/base",
            "_model_module_version": "1.2.0",
            "_model_name": "LayoutModel",
            "_view_count": null,
            "_view_module": "@jupyter-widgets/base",
            "_view_module_version": "1.2.0",
            "_view_name": "LayoutView",
            "align_content": null,
            "align_items": null,
            "align_self": null,
            "border": null,
            "bottom": null,
            "display": null,
            "flex": null,
            "flex_flow": null,
            "grid_area": null,
            "grid_auto_columns": null,
            "grid_auto_flow": null,
            "grid_auto_rows": null,
            "grid_column": null,
            "grid_gap": null,
            "grid_row": null,
            "grid_template_areas": null,
            "grid_template_columns": null,
            "grid_template_rows": null,
            "height": null,
            "justify_content": null,
            "justify_items": null,
            "left": null,
            "margin": null,
            "max_height": null,
            "max_width": null,
            "min_height": null,
            "min_width": null,
            "object_fit": null,
            "object_position": null,
            "order": null,
            "overflow": null,
            "overflow_x": null,
            "overflow_y": null,
            "padding": null,
            "right": null,
            "top": null,
            "visibility": null,
            "width": null
          }
        },
        "1bf73121232045079ab2e05d69f3081f": {
          "model_module": "@jupyter-widgets/base",
          "model_name": "LayoutModel",
          "model_module_version": "1.2.0",
          "state": {
            "_model_module": "@jupyter-widgets/base",
            "_model_module_version": "1.2.0",
            "_model_name": "LayoutModel",
            "_view_count": null,
            "_view_module": "@jupyter-widgets/base",
            "_view_module_version": "1.2.0",
            "_view_name": "LayoutView",
            "align_content": null,
            "align_items": null,
            "align_self": null,
            "border": null,
            "bottom": null,
            "display": null,
            "flex": null,
            "flex_flow": null,
            "grid_area": null,
            "grid_auto_columns": null,
            "grid_auto_flow": null,
            "grid_auto_rows": null,
            "grid_column": null,
            "grid_gap": null,
            "grid_row": null,
            "grid_template_areas": null,
            "grid_template_columns": null,
            "grid_template_rows": null,
            "height": null,
            "justify_content": null,
            "justify_items": null,
            "left": null,
            "margin": null,
            "max_height": null,
            "max_width": null,
            "min_height": null,
            "min_width": null,
            "object_fit": null,
            "object_position": null,
            "order": null,
            "overflow": null,
            "overflow_x": null,
            "overflow_y": null,
            "padding": null,
            "right": null,
            "top": null,
            "visibility": null,
            "width": null
          }
        },
        "a8e94a1ba7114256b03015694c5b7189": {
          "model_module": "@jupyter-widgets/controls",
          "model_name": "DescriptionStyleModel",
          "model_module_version": "1.5.0",
          "state": {
            "_model_module": "@jupyter-widgets/controls",
            "_model_module_version": "1.5.0",
            "_model_name": "DescriptionStyleModel",
            "_view_count": null,
            "_view_module": "@jupyter-widgets/base",
            "_view_module_version": "1.2.0",
            "_view_name": "StyleView",
            "description_width": ""
          }
        },
        "32405437cb2f481996e5f4e4f35d2d30": {
          "model_module": "@jupyter-widgets/base",
          "model_name": "LayoutModel",
          "model_module_version": "1.2.0",
          "state": {
            "_model_module": "@jupyter-widgets/base",
            "_model_module_version": "1.2.0",
            "_model_name": "LayoutModel",
            "_view_count": null,
            "_view_module": "@jupyter-widgets/base",
            "_view_module_version": "1.2.0",
            "_view_name": "LayoutView",
            "align_content": null,
            "align_items": null,
            "align_self": null,
            "border": null,
            "bottom": null,
            "display": null,
            "flex": null,
            "flex_flow": null,
            "grid_area": null,
            "grid_auto_columns": null,
            "grid_auto_flow": null,
            "grid_auto_rows": null,
            "grid_column": null,
            "grid_gap": null,
            "grid_row": null,
            "grid_template_areas": null,
            "grid_template_columns": null,
            "grid_template_rows": null,
            "height": null,
            "justify_content": null,
            "justify_items": null,
            "left": null,
            "margin": null,
            "max_height": null,
            "max_width": null,
            "min_height": null,
            "min_width": null,
            "object_fit": null,
            "object_position": null,
            "order": null,
            "overflow": null,
            "overflow_x": null,
            "overflow_y": null,
            "padding": null,
            "right": null,
            "top": null,
            "visibility": null,
            "width": null
          }
        },
        "39bf1cb9ab444154917ea7482519f8a5": {
          "model_module": "@jupyter-widgets/controls",
          "model_name": "ProgressStyleModel",
          "model_module_version": "1.5.0",
          "state": {
            "_model_module": "@jupyter-widgets/controls",
            "_model_module_version": "1.5.0",
            "_model_name": "ProgressStyleModel",
            "_view_count": null,
            "_view_module": "@jupyter-widgets/base",
            "_view_module_version": "1.2.0",
            "_view_name": "StyleView",
            "bar_color": null,
            "description_width": ""
          }
        },
        "20fe92b5302542bf9906690b74de4cf3": {
          "model_module": "@jupyter-widgets/base",
          "model_name": "LayoutModel",
          "model_module_version": "1.2.0",
          "state": {
            "_model_module": "@jupyter-widgets/base",
            "_model_module_version": "1.2.0",
            "_model_name": "LayoutModel",
            "_view_count": null,
            "_view_module": "@jupyter-widgets/base",
            "_view_module_version": "1.2.0",
            "_view_name": "LayoutView",
            "align_content": null,
            "align_items": null,
            "align_self": null,
            "border": null,
            "bottom": null,
            "display": null,
            "flex": null,
            "flex_flow": null,
            "grid_area": null,
            "grid_auto_columns": null,
            "grid_auto_flow": null,
            "grid_auto_rows": null,
            "grid_column": null,
            "grid_gap": null,
            "grid_row": null,
            "grid_template_areas": null,
            "grid_template_columns": null,
            "grid_template_rows": null,
            "height": null,
            "justify_content": null,
            "justify_items": null,
            "left": null,
            "margin": null,
            "max_height": null,
            "max_width": null,
            "min_height": null,
            "min_width": null,
            "object_fit": null,
            "object_position": null,
            "order": null,
            "overflow": null,
            "overflow_x": null,
            "overflow_y": null,
            "padding": null,
            "right": null,
            "top": null,
            "visibility": null,
            "width": null
          }
        },
        "711d47c912e149a192ab15b072a7354e": {
          "model_module": "@jupyter-widgets/controls",
          "model_name": "DescriptionStyleModel",
          "model_module_version": "1.5.0",
          "state": {
            "_model_module": "@jupyter-widgets/controls",
            "_model_module_version": "1.5.0",
            "_model_name": "DescriptionStyleModel",
            "_view_count": null,
            "_view_module": "@jupyter-widgets/base",
            "_view_module_version": "1.2.0",
            "_view_name": "StyleView",
            "description_width": ""
          }
        },
        "b4448ddbcab5464a8c416b6ab33d63dd": {
          "model_module": "@jupyter-widgets/controls",
          "model_name": "HBoxModel",
          "model_module_version": "1.5.0",
          "state": {
            "_dom_classes": [],
            "_model_module": "@jupyter-widgets/controls",
            "_model_module_version": "1.5.0",
            "_model_name": "HBoxModel",
            "_view_count": null,
            "_view_module": "@jupyter-widgets/controls",
            "_view_module_version": "1.5.0",
            "_view_name": "HBoxView",
            "box_style": "",
            "children": [
              "IPY_MODEL_928c55fae9544d64894ef3a649297a0e",
              "IPY_MODEL_2b4d683935cd4b8fbb28a32cf09dc9a2",
              "IPY_MODEL_b025d77bf4e342f4b33a6c86dccc1913"
            ],
            "layout": "IPY_MODEL_890b9a0b16604980883b42a02c594adf"
          }
        },
        "928c55fae9544d64894ef3a649297a0e": {
          "model_module": "@jupyter-widgets/controls",
          "model_name": "HTMLModel",
          "model_module_version": "1.5.0",
          "state": {
            "_dom_classes": [],
            "_model_module": "@jupyter-widgets/controls",
            "_model_module_version": "1.5.0",
            "_model_name": "HTMLModel",
            "_view_count": null,
            "_view_module": "@jupyter-widgets/controls",
            "_view_module_version": "1.5.0",
            "_view_name": "HTMLView",
            "description": "",
            "description_tooltip": null,
            "layout": "IPY_MODEL_685fa87dea98488689f3fe9f18634743",
            "placeholder": "​",
            "style": "IPY_MODEL_a68ed25ed6c849d2bea42ab141f0657f",
            "value": "Downloading: 100%"
          }
        },
        "2b4d683935cd4b8fbb28a32cf09dc9a2": {
          "model_module": "@jupyter-widgets/controls",
          "model_name": "FloatProgressModel",
          "model_module_version": "1.5.0",
          "state": {
            "_dom_classes": [],
            "_model_module": "@jupyter-widgets/controls",
            "_model_module_version": "1.5.0",
            "_model_name": "FloatProgressModel",
            "_view_count": null,
            "_view_module": "@jupyter-widgets/controls",
            "_view_module_version": "1.5.0",
            "_view_name": "ProgressView",
            "bar_style": "success",
            "description": "",
            "description_tooltip": null,
            "layout": "IPY_MODEL_777a3db8f4764c18aa304d80c1dceb28",
            "max": 435797,
            "min": 0,
            "orientation": "horizontal",
            "style": "IPY_MODEL_477c0301cd644eef9a17927d518716e7",
            "value": 435797
          }
        },
        "b025d77bf4e342f4b33a6c86dccc1913": {
          "model_module": "@jupyter-widgets/controls",
          "model_name": "HTMLModel",
          "model_module_version": "1.5.0",
          "state": {
            "_dom_classes": [],
            "_model_module": "@jupyter-widgets/controls",
            "_model_module_version": "1.5.0",
            "_model_name": "HTMLModel",
            "_view_count": null,
            "_view_module": "@jupyter-widgets/controls",
            "_view_module_version": "1.5.0",
            "_view_name": "HTMLView",
            "description": "",
            "description_tooltip": null,
            "layout": "IPY_MODEL_eb039b019ada473f8d0a96f75ee1b80e",
            "placeholder": "​",
            "style": "IPY_MODEL_69f6e93fad124274b7fb20fb3223e37b",
            "value": " 426k/426k [00:00&lt;00:00, 668kB/s]"
          }
        },
        "890b9a0b16604980883b42a02c594adf": {
          "model_module": "@jupyter-widgets/base",
          "model_name": "LayoutModel",
          "model_module_version": "1.2.0",
          "state": {
            "_model_module": "@jupyter-widgets/base",
            "_model_module_version": "1.2.0",
            "_model_name": "LayoutModel",
            "_view_count": null,
            "_view_module": "@jupyter-widgets/base",
            "_view_module_version": "1.2.0",
            "_view_name": "LayoutView",
            "align_content": null,
            "align_items": null,
            "align_self": null,
            "border": null,
            "bottom": null,
            "display": null,
            "flex": null,
            "flex_flow": null,
            "grid_area": null,
            "grid_auto_columns": null,
            "grid_auto_flow": null,
            "grid_auto_rows": null,
            "grid_column": null,
            "grid_gap": null,
            "grid_row": null,
            "grid_template_areas": null,
            "grid_template_columns": null,
            "grid_template_rows": null,
            "height": null,
            "justify_content": null,
            "justify_items": null,
            "left": null,
            "margin": null,
            "max_height": null,
            "max_width": null,
            "min_height": null,
            "min_width": null,
            "object_fit": null,
            "object_position": null,
            "order": null,
            "overflow": null,
            "overflow_x": null,
            "overflow_y": null,
            "padding": null,
            "right": null,
            "top": null,
            "visibility": null,
            "width": null
          }
        },
        "685fa87dea98488689f3fe9f18634743": {
          "model_module": "@jupyter-widgets/base",
          "model_name": "LayoutModel",
          "model_module_version": "1.2.0",
          "state": {
            "_model_module": "@jupyter-widgets/base",
            "_model_module_version": "1.2.0",
            "_model_name": "LayoutModel",
            "_view_count": null,
            "_view_module": "@jupyter-widgets/base",
            "_view_module_version": "1.2.0",
            "_view_name": "LayoutView",
            "align_content": null,
            "align_items": null,
            "align_self": null,
            "border": null,
            "bottom": null,
            "display": null,
            "flex": null,
            "flex_flow": null,
            "grid_area": null,
            "grid_auto_columns": null,
            "grid_auto_flow": null,
            "grid_auto_rows": null,
            "grid_column": null,
            "grid_gap": null,
            "grid_row": null,
            "grid_template_areas": null,
            "grid_template_columns": null,
            "grid_template_rows": null,
            "height": null,
            "justify_content": null,
            "justify_items": null,
            "left": null,
            "margin": null,
            "max_height": null,
            "max_width": null,
            "min_height": null,
            "min_width": null,
            "object_fit": null,
            "object_position": null,
            "order": null,
            "overflow": null,
            "overflow_x": null,
            "overflow_y": null,
            "padding": null,
            "right": null,
            "top": null,
            "visibility": null,
            "width": null
          }
        },
        "a68ed25ed6c849d2bea42ab141f0657f": {
          "model_module": "@jupyter-widgets/controls",
          "model_name": "DescriptionStyleModel",
          "model_module_version": "1.5.0",
          "state": {
            "_model_module": "@jupyter-widgets/controls",
            "_model_module_version": "1.5.0",
            "_model_name": "DescriptionStyleModel",
            "_view_count": null,
            "_view_module": "@jupyter-widgets/base",
            "_view_module_version": "1.2.0",
            "_view_name": "StyleView",
            "description_width": ""
          }
        },
        "777a3db8f4764c18aa304d80c1dceb28": {
          "model_module": "@jupyter-widgets/base",
          "model_name": "LayoutModel",
          "model_module_version": "1.2.0",
          "state": {
            "_model_module": "@jupyter-widgets/base",
            "_model_module_version": "1.2.0",
            "_model_name": "LayoutModel",
            "_view_count": null,
            "_view_module": "@jupyter-widgets/base",
            "_view_module_version": "1.2.0",
            "_view_name": "LayoutView",
            "align_content": null,
            "align_items": null,
            "align_self": null,
            "border": null,
            "bottom": null,
            "display": null,
            "flex": null,
            "flex_flow": null,
            "grid_area": null,
            "grid_auto_columns": null,
            "grid_auto_flow": null,
            "grid_auto_rows": null,
            "grid_column": null,
            "grid_gap": null,
            "grid_row": null,
            "grid_template_areas": null,
            "grid_template_columns": null,
            "grid_template_rows": null,
            "height": null,
            "justify_content": null,
            "justify_items": null,
            "left": null,
            "margin": null,
            "max_height": null,
            "max_width": null,
            "min_height": null,
            "min_width": null,
            "object_fit": null,
            "object_position": null,
            "order": null,
            "overflow": null,
            "overflow_x": null,
            "overflow_y": null,
            "padding": null,
            "right": null,
            "top": null,
            "visibility": null,
            "width": null
          }
        },
        "477c0301cd644eef9a17927d518716e7": {
          "model_module": "@jupyter-widgets/controls",
          "model_name": "ProgressStyleModel",
          "model_module_version": "1.5.0",
          "state": {
            "_model_module": "@jupyter-widgets/controls",
            "_model_module_version": "1.5.0",
            "_model_name": "ProgressStyleModel",
            "_view_count": null,
            "_view_module": "@jupyter-widgets/base",
            "_view_module_version": "1.2.0",
            "_view_name": "StyleView",
            "bar_color": null,
            "description_width": ""
          }
        },
        "eb039b019ada473f8d0a96f75ee1b80e": {
          "model_module": "@jupyter-widgets/base",
          "model_name": "LayoutModel",
          "model_module_version": "1.2.0",
          "state": {
            "_model_module": "@jupyter-widgets/base",
            "_model_module_version": "1.2.0",
            "_model_name": "LayoutModel",
            "_view_count": null,
            "_view_module": "@jupyter-widgets/base",
            "_view_module_version": "1.2.0",
            "_view_name": "LayoutView",
            "align_content": null,
            "align_items": null,
            "align_self": null,
            "border": null,
            "bottom": null,
            "display": null,
            "flex": null,
            "flex_flow": null,
            "grid_area": null,
            "grid_auto_columns": null,
            "grid_auto_flow": null,
            "grid_auto_rows": null,
            "grid_column": null,
            "grid_gap": null,
            "grid_row": null,
            "grid_template_areas": null,
            "grid_template_columns": null,
            "grid_template_rows": null,
            "height": null,
            "justify_content": null,
            "justify_items": null,
            "left": null,
            "margin": null,
            "max_height": null,
            "max_width": null,
            "min_height": null,
            "min_width": null,
            "object_fit": null,
            "object_position": null,
            "order": null,
            "overflow": null,
            "overflow_x": null,
            "overflow_y": null,
            "padding": null,
            "right": null,
            "top": null,
            "visibility": null,
            "width": null
          }
        },
        "69f6e93fad124274b7fb20fb3223e37b": {
          "model_module": "@jupyter-widgets/controls",
          "model_name": "DescriptionStyleModel",
          "model_module_version": "1.5.0",
          "state": {
            "_model_module": "@jupyter-widgets/controls",
            "_model_module_version": "1.5.0",
            "_model_name": "DescriptionStyleModel",
            "_view_count": null,
            "_view_module": "@jupyter-widgets/base",
            "_view_module_version": "1.2.0",
            "_view_name": "StyleView",
            "description_width": ""
          }
        }
      }
    }
  },
  "cells": [
    {
      "cell_type": "markdown",
      "metadata": {
        "id": "view-in-github",
        "colab_type": "text"
      },
      "source": [
        "<a href=\"https://colab.research.google.com/github/dragosconst/Anomaly-Detection/blob/main/Anomaly_Detection.ipynb\" target=\"_parent\"><img src=\"https://colab.research.google.com/assets/colab-badge.svg\" alt=\"Open In Colab\"/></a>"
      ]
    },
    {
      "cell_type": "markdown",
      "source": [
        "# Env preparation"
      ],
      "metadata": {
        "id": "Jsu1giy6gMF0"
      }
    },
    {
      "cell_type": "code",
      "source": [
        "from google.colab import drive\n",
        "drive.mount('/content/drive')"
      ],
      "metadata": {
        "colab": {
          "base_uri": "https://localhost:8080/"
        },
        "id": "e8EM87UlEjhI",
        "outputId": "fe585c1c-6b41-47e7-bd82-096e6f3f6eeb"
      },
      "execution_count": null,
      "outputs": [
        {
          "output_type": "stream",
          "name": "stdout",
          "text": [
            "Mounted at /content/drive\n"
          ]
        }
      ]
    },
    {
      "cell_type": "code",
      "source": [
        "!unzip \"/content/drive/MyDrive/kaggle_ag_dataset.zip\" -d \"/content/data/\""
      ],
      "metadata": {
        "id": "N5F63qIPFVtw",
        "colab": {
          "base_uri": "https://localhost:8080/"
        },
        "outputId": "7cb8681b-677e-4a4b-af4a-3e816b5ac45b"
      },
      "execution_count": null,
      "outputs": [
        {
          "output_type": "stream",
          "name": "stdout",
          "text": [
            "Archive:  /content/drive/MyDrive/kaggle_ag_dataset.zip\n",
            "  inflating: /content/data/test.csv  \n",
            "  inflating: /content/data/train.csv  \n"
          ]
        }
      ]
    },
    {
      "cell_type": "markdown",
      "source": [
        "# Imports and global constants"
      ],
      "metadata": {
        "id": "VwqgUl3Rc1S6"
      }
    },
    {
      "cell_type": "code",
      "source": [
        "!pip install transformers"
      ],
      "metadata": {
        "id": "fkxk9x9jfGE9",
        "colab": {
          "base_uri": "https://localhost:8080/"
        },
        "outputId": "0c6a459c-3c97-4dfd-9fb6-11d12f114fbe"
      },
      "execution_count": null,
      "outputs": [
        {
          "output_type": "stream",
          "name": "stdout",
          "text": [
            "Collecting transformers\n",
            "  Downloading transformers-4.18.0-py3-none-any.whl (4.0 MB)\n",
            "\u001b[K     |████████████████████████████████| 4.0 MB 4.1 MB/s \n",
            "\u001b[?25hRequirement already satisfied: regex!=2019.12.17 in /usr/local/lib/python3.7/dist-packages (from transformers) (2019.12.20)\n",
            "Requirement already satisfied: requests in /usr/local/lib/python3.7/dist-packages (from transformers) (2.23.0)\n",
            "Collecting sacremoses\n",
            "  Downloading sacremoses-0.0.49-py3-none-any.whl (895 kB)\n",
            "\u001b[K     |████████████████████████████████| 895 kB 47.4 MB/s \n",
            "\u001b[?25hCollecting tokenizers!=0.11.3,<0.13,>=0.11.1\n",
            "  Downloading tokenizers-0.11.6-cp37-cp37m-manylinux_2_12_x86_64.manylinux2010_x86_64.whl (6.5 MB)\n",
            "\u001b[K     |████████████████████████████████| 6.5 MB 27.8 MB/s \n",
            "\u001b[?25hRequirement already satisfied: packaging>=20.0 in /usr/local/lib/python3.7/dist-packages (from transformers) (21.3)\n",
            "Requirement already satisfied: numpy>=1.17 in /usr/local/lib/python3.7/dist-packages (from transformers) (1.21.5)\n",
            "Collecting pyyaml>=5.1\n",
            "  Downloading PyYAML-6.0-cp37-cp37m-manylinux_2_5_x86_64.manylinux1_x86_64.manylinux_2_12_x86_64.manylinux2010_x86_64.whl (596 kB)\n",
            "\u001b[K     |████████████████████████████████| 596 kB 45.1 MB/s \n",
            "\u001b[?25hRequirement already satisfied: importlib-metadata in /usr/local/lib/python3.7/dist-packages (from transformers) (4.11.3)\n",
            "Requirement already satisfied: filelock in /usr/local/lib/python3.7/dist-packages (from transformers) (3.6.0)\n",
            "Collecting huggingface-hub<1.0,>=0.1.0\n",
            "  Downloading huggingface_hub-0.5.1-py3-none-any.whl (77 kB)\n",
            "\u001b[K     |████████████████████████████████| 77 kB 6.7 MB/s \n",
            "\u001b[?25hRequirement already satisfied: tqdm>=4.27 in /usr/local/lib/python3.7/dist-packages (from transformers) (4.63.0)\n",
            "Requirement already satisfied: typing-extensions>=3.7.4.3 in /usr/local/lib/python3.7/dist-packages (from huggingface-hub<1.0,>=0.1.0->transformers) (3.10.0.2)\n",
            "Requirement already satisfied: pyparsing!=3.0.5,>=2.0.2 in /usr/local/lib/python3.7/dist-packages (from packaging>=20.0->transformers) (3.0.7)\n",
            "Requirement already satisfied: zipp>=0.5 in /usr/local/lib/python3.7/dist-packages (from importlib-metadata->transformers) (3.7.0)\n",
            "Requirement already satisfied: idna<3,>=2.5 in /usr/local/lib/python3.7/dist-packages (from requests->transformers) (2.10)\n",
            "Requirement already satisfied: urllib3!=1.25.0,!=1.25.1,<1.26,>=1.21.1 in /usr/local/lib/python3.7/dist-packages (from requests->transformers) (1.24.3)\n",
            "Requirement already satisfied: chardet<4,>=3.0.2 in /usr/local/lib/python3.7/dist-packages (from requests->transformers) (3.0.4)\n",
            "Requirement already satisfied: certifi>=2017.4.17 in /usr/local/lib/python3.7/dist-packages (from requests->transformers) (2021.10.8)\n",
            "Requirement already satisfied: six in /usr/local/lib/python3.7/dist-packages (from sacremoses->transformers) (1.15.0)\n",
            "Requirement already satisfied: joblib in /usr/local/lib/python3.7/dist-packages (from sacremoses->transformers) (1.1.0)\n",
            "Requirement already satisfied: click in /usr/local/lib/python3.7/dist-packages (from sacremoses->transformers) (7.1.2)\n",
            "Installing collected packages: pyyaml, tokenizers, sacremoses, huggingface-hub, transformers\n",
            "  Attempting uninstall: pyyaml\n",
            "    Found existing installation: PyYAML 3.13\n",
            "    Uninstalling PyYAML-3.13:\n",
            "      Successfully uninstalled PyYAML-3.13\n",
            "Successfully installed huggingface-hub-0.5.1 pyyaml-6.0 sacremoses-0.0.49 tokenizers-0.11.6 transformers-4.18.0\n"
          ]
        }
      ]
    },
    {
      "cell_type": "code",
      "source": [
        "#----------- func typing -----------#\n",
        "from typing import List, Tuple, Dict, Union, Iterable\n",
        "#----------- base libs -------------#\n",
        "import time\n",
        "import csv\n",
        "import random\n",
        "import os\n",
        "import math\n",
        "#----------- progress bar ----------#\n",
        "from tqdm import tqdm\n",
        "#----------- pickle ----------------#\n",
        "import pickle\n",
        "#----------- scikit ----------------#\n",
        "from sklearn.metrics import classification_report, accuracy_score, confusion_matrix\n",
        "from sklearn.model_selection import train_test_split\n",
        "#----------- pytorch ---------------#\n",
        "import torch\n",
        "import torch.nn as nn\n",
        "import torch.nn.functional as F\n",
        "from torch.utils.data import Dataset, DataLoader\n",
        "#----------- numpy -----------------#\n",
        "import numpy as np\n",
        "#----------- huggingface -----------#\n",
        "from transformers import AutoTokenizer, AutoModelForTokenClassification, AutoModel, AutoConfig, AdamW, TrainingArguments, Trainer, pipeline, BertModel, BertConfig,\\\n",
        "                         BertForMaskedLM\n",
        "#----------- plot libs -------------#\n",
        "import seaborn as sn\n",
        "import matplotlib.pyplot as plt\n",
        "\n",
        "sn.set_style(\"darkgrid\")\n",
        "os.environ[\"TOKENIZERS_PARALLELISM\"] = \"false\""
      ],
      "metadata": {
        "id": "o0XeYa_Ic5Dq"
      },
      "execution_count": null,
      "outputs": []
    },
    {
      "cell_type": "code",
      "source": [
        "train_path = '/content/data/train.csv'\n",
        "test_path = '/content/data/test.csv'"
      ],
      "metadata": {
        "id": "ZUVAqicZgGFJ"
      },
      "execution_count": null,
      "outputs": []
    },
    {
      "cell_type": "markdown",
      "source": [
        "Let's peek at the data:\n"
      ],
      "metadata": {
        "id": "4NE0jmn_huFE"
      }
    },
    {
      "cell_type": "code",
      "source": [
        "class_bins = np.zeros(4)\n",
        "class_tokens = np.zeros(4)\n",
        "with open(train_path, \"r\") as f:\n",
        "  reader = csv.reader(f)\n",
        "  for idx, row in enumerate(reader):\n",
        "    if idx == 0:\n",
        "      continue\n",
        "    cls, title, desc = row\n",
        "    class_bins[int(cls) - 1] += 1\n",
        "    title_words = len(title.split(\" \"))\n",
        "    desc_words = len(desc.split(\" \")) \n",
        "    class_tokens[int(cls) - 1] += title_words + desc_words\n",
        "fig, ax = plt.subplots(nrows=2, ncols=1, figsize=(10,10))\n",
        "ax[0].bar([\"World\", \"Sports\", \"Business\", \"Sci/Tech \"], class_bins, width = 0.25)\n",
        "ax[0].set_title(\"Datapoints distribution\")\n",
        "ax[1].bar([\"World\", \"Sports\", \"Business\", \"Sci/Tech \"], class_tokens, width = 0.25)\n",
        "ax[1].ticklabel_format(style='plain', axis='y')\n",
        "ax[1].set_title(\"Tokens distribution\")\n",
        "plt.show()"
      ],
      "metadata": {
        "colab": {
          "base_uri": "https://localhost:8080/",
          "height": 607
        },
        "id": "5XX2IYLYiI1e",
        "outputId": "902c4eaa-c776-43d2-f93e-bf54150c617d"
      },
      "execution_count": null,
      "outputs": [
        {
          "output_type": "display_data",
          "data": {
            "text/plain": [
              "<Figure size 720x720 with 2 Axes>"
            ],
            "image/png": "[encoded data removed]"
          },
          "metadata": {}
        }
      ]
    },
    {
      "cell_type": "markdown",
      "source": [
        "Huh, the dataset looks very balanced. In this case, we will arbitrarily choose one class to serve as our normal class for training, and the rest will be considered outlier classes."
      ],
      "metadata": {
        "id": "ncraPSyXlbpu"
      }
    },
    {
      "cell_type": "code",
      "source": [
        "normal_class = 2 # we will detect Anomalies on Sports\n",
        "outlier_classes = [1, 3, 4]\n",
        "\n",
        "# I will concatenate titles and descriptions, maybe we could try differentiating them\n",
        "# at training time to compare results\n",
        "normal_class_instances = []\n",
        "with open(train_path, \"r\") as f:\n",
        "  reader = csv.reader(f)\n",
        "  for idx, row in enumerate(reader):\n",
        "    if idx == 0:\n",
        "      continue\n",
        "    cls, title, desc = row\n",
        "    if int(cls) == normal_class:\n",
        "      normal_class_instances.append(title)\n",
        "      normal_class_instances.append(desc)"
      ],
      "metadata": {
        "id": "Dmmh5a5nlrs3"
      },
      "execution_count": null,
      "outputs": []
    },
    {
      "cell_type": "code",
      "source": [
        "MASK_TOK_ID = AutoTokenizer.from_pretrained(\"bert-base-cased\").mask_token_id # apparently, [MASK] has token id 103 in regular BERT"
      ],
      "metadata": {
        "id": "2bSfmTDPx91V",
        "colab": {
          "base_uri": "https://localhost:8080/",
          "height": 145,
          "referenced_widgets": [
            "a71dcab2f3184b4c90360ac8c3bc0e58",
            "1adc1eb1e2be4713b5d409f7b72d049b",
            "40bacea180294d5e99d247e0d2c898b3",
            "b79937f2be0d4bc8a7fc15fa6675b082",
            "bdc59e6eec934fa89518b53d11936419",
            "c570758965dd4618b889080094f1eb5f",
            "743c55d8c1f241fa9525016f45f48b3d",
            "9428f0e8ccb742c89da3507565bd8587",
            "5057bc3a5e0246aba138a1b45a9558a9",
            "11c9e6861e6c490a91fec6c861c96076",
            "64ec1382203d4aa0a1b30d77cdfe2c2f",
            "3ce8a34924054ff48007c4d7e3b8ab3d",
            "a6f23d8cc89c4f9dab8ae4884a5a672f",
            "8baa19fdf248485b9e0d48d412f16525",
            "eef5bfe9c6984c35a1ab917082cb56b0",
            "41300f0728e547dfa13ec399276f7e10",
            "27e8bf1f13fe4c7da9678f90284852ba",
            "9c7e81446b7245309782400f175eb6a1",
            "57148ff3d70c4b7ba809679456d930da",
            "1172287643aa44f09a893ccdb2e08ccb",
            "7b32a09dffa240bd901d795647a30630",
            "8a5ac7110d2f4eb28b06748c8ad8c576",
            "a0d20187338e4a2da0fabfd4f40e9b2b",
            "b50b1259105f42fc985d38091fc9dc8e",
            "516fb48af1fe42e0b500550ced3e4d9a",
            "dff44c46cdfe4fc7bce381f64df4a69e",
            "02af731889814ea19f64db548f04e10e",
            "1bf73121232045079ab2e05d69f3081f",
            "a8e94a1ba7114256b03015694c5b7189",
            "32405437cb2f481996e5f4e4f35d2d30",
            "39bf1cb9ab444154917ea7482519f8a5",
            "20fe92b5302542bf9906690b74de4cf3",
            "711d47c912e149a192ab15b072a7354e",
            "b4448ddbcab5464a8c416b6ab33d63dd",
            "928c55fae9544d64894ef3a649297a0e",
            "2b4d683935cd4b8fbb28a32cf09dc9a2",
            "b025d77bf4e342f4b33a6c86dccc1913",
            "890b9a0b16604980883b42a02c594adf",
            "685fa87dea98488689f3fe9f18634743",
            "a68ed25ed6c849d2bea42ab141f0657f",
            "777a3db8f4764c18aa304d80c1dceb28",
            "477c0301cd644eef9a17927d518716e7",
            "eb039b019ada473f8d0a96f75ee1b80e",
            "69f6e93fad124274b7fb20fb3223e37b"
          ]
        },
        "outputId": "797c1fe4-3966-421a-f6d5-6fe9dd66af71"
      },
      "execution_count": null,
      "outputs": [
        {
          "output_type": "display_data",
          "data": {
            "text/plain": [
              "Downloading:   0%|          | 0.00/29.0 [00:00<?, ?B/s]"
            ],
            "application/vnd.jupyter.widget-view+json": {
              "version_major": 2,
              "version_minor": 0,
              "model_id": "a71dcab2f3184b4c90360ac8c3bc0e58"
            }
          },
          "metadata": {}
        },
        {
          "output_type": "display_data",
          "data": {
            "text/plain": [
              "Downloading:   0%|          | 0.00/570 [00:00<?, ?B/s]"
            ],
            "application/vnd.jupyter.widget-view+json": {
              "version_major": 2,
              "version_minor": 0,
              "model_id": "3ce8a34924054ff48007c4d7e3b8ab3d"
            }
          },
          "metadata": {}
        },
        {
          "output_type": "display_data",
          "data": {
            "text/plain": [
              "Downloading:   0%|          | 0.00/208k [00:00<?, ?B/s]"
            ],
            "application/vnd.jupyter.widget-view+json": {
              "version_major": 2,
              "version_minor": 0,
              "model_id": "a0d20187338e4a2da0fabfd4f40e9b2b"
            }
          },
          "metadata": {}
        },
        {
          "output_type": "display_data",
          "data": {
            "text/plain": [
              "Downloading:   0%|          | 0.00/426k [00:00<?, ?B/s]"
            ],
            "application/vnd.jupyter.widget-view+json": {
              "version_major": 2,
              "version_minor": 0,
              "model_id": "b4448ddbcab5464a8c416b6ab33d63dd"
            }
          },
          "metadata": {}
        }
      ]
    },
    {
      "cell_type": "code",
      "source": [
        "old_tokenizer = AutoTokenizer.from_pretrained(\"bert-base-cased\")\n",
        "config = AutoConfig.from_pretrained('bert-base-cased')\n",
        "tokenizer = old_tokenizer.train_new_from_iterator(normal_class_instances, vocab_size=20000)\n",
        "tokenizer.save_pretrained(\"/contet/drive/MyDrive/anomaly_tok/\")\n",
        "# config.save_pretrained(\"/content/drive/MyDrive/anomaly_tok/\")"
      ],
      "metadata": {
        "colab": {
          "base_uri": "https://localhost:8080/"
        },
        "id": "fbOq78QW9j1N",
        "outputId": "f8945b10-542f-4ec7-b3ac-80b472f0ea7a"
      },
      "execution_count": null,
      "outputs": [
        {
          "output_type": "execute_result",
          "data": {
            "text/plain": [
              "('/contet/drive/MyDrive/anomaly_tok/tokenizer_config.json',\n",
              " '/contet/drive/MyDrive/anomaly_tok/special_tokens_map.json',\n",
              " '/contet/drive/MyDrive/anomaly_tok/vocab.txt',\n",
              " '/contet/drive/MyDrive/anomaly_tok/added_tokens.json',\n",
              " '/contet/drive/MyDrive/anomaly_tok/tokenizer.json')"
            ]
          },
          "metadata": {},
          "execution_count": 9
        }
      ]
    },
    {
      "cell_type": "markdown",
      "source": [
        "# Datasets and Dataloaders"
      ],
      "metadata": {
        "id": "KLKiNMiVlx1R"
      }
    },
    {
      "cell_type": "code",
      "source": [
        "class NormalSet(Dataset):\n",
        "  def __init__(self, class_instances: List, masked_per: float=0.15):\n",
        "    self.class_instances = class_instances\n",
        "    self.masked_per = masked_per\n",
        "    self.tokenizer = AutoTokenizer.from_pretrained(\"bert-base-cased\")\n",
        "  def __len__(self):\n",
        "    return len(self.class_instances)\n",
        "  def __getitem__(self, idx):\n",
        "    if not isinstance(idx, Iterable):\n",
        "      idx = [idx]\n",
        "    data = []\n",
        "    targets = []\n",
        "    for i in idx:\n",
        "      data_raw = self.class_instances[i]\n",
        "      tokenized_bert = self.tokenizer(data_raw, add_special_tokens=True, max_length=100, padding='max_length',\n",
        "                                return_tensors='pt', truncation=True)\n",
        "      # ignore padding \n",
        "      at_mask = tokenized_bert[\"attention_mask\"]\n",
        "      relevant_tokens_num = len(at_mask[at_mask == 1]) - 2 # [CLS] and [SEP] shouldn't be masked, probably\n",
        "      # get mask\n",
        "      masked_tokens_num = math.floor(relevant_tokens_num * self.masked_per)\n",
        "      masks = np.random.randint(low=1, high=relevant_tokens_num + 1, size=masked_tokens_num) # [CLS] and [SEP] should only be the first and last tokens\n",
        "      data_tokens = []\n",
        "      targets_tokens = []\n",
        "      # mask the inputs and build the new data and targets\n",
        "      for idx, tok_id in enumerate(tokenized_bert[\"input_ids\"][0]):\n",
        "        tok_id = tok_id.item() # tok_ids end up as being one-element tensors because pytorch always returns a tensor when indexing a tensor, for some reason\n",
        "        gt_tok = -100 # ignore non-masked\n",
        "        if idx in masks:\n",
        "          gt_tok = tok_id\n",
        "          tok_id = MASK_TOK_ID\n",
        "        targets_tokens.append(gt_tok)\n",
        "        data_tokens.append(tok_id)\n",
        "      data_tokens = torch.as_tensor(data_tokens)\n",
        "      targets_tokens = torch.as_tensor(targets_tokens)\n",
        "\n",
        "      data.append(data_tokens)\n",
        "      targets.append(targets_tokens)\n",
        "    return torch.stack(data), torch.stack(targets)"
      ],
      "metadata": {
        "id": "BlbuDjeSmFoZ"
      },
      "execution_count": null,
      "outputs": []
    },
    {
      "cell_type": "code",
      "source": [
        "def collate_fn(data):\n",
        "  tokens = []\n",
        "  labels = []\n",
        "  for datum in data:\n",
        "    tokens.append(datum[0])\n",
        "    labels.append(datum[1][0])\n",
        "  return torch.stack(tokens), torch.cat(labels)"
      ],
      "metadata": {
        "id": "c2NwxUH-yrrB"
      },
      "execution_count": null,
      "outputs": []
    },
    {
      "cell_type": "code",
      "source": [
        "dataset = NormalSet(normal_class_instances)\n",
        "ds_train, ds_valid = torch.utils.data.random_split(dataset, [int(len(dataset) * 0.8), int(len(dataset) * 0.2)])\n",
        "\n",
        "BATCH_SIZE=48\n",
        "dl_train = DataLoader(\n",
        "    ds_train, batch_size=BATCH_SIZE, shuffle=True\n",
        ")\n",
        "dl_valid = DataLoader(\n",
        "  ds_valid, batch_size=BATCH_SIZE, shuffle=False\n",
        ")"
      ],
      "metadata": {
        "id": "zWyd8_Dv0ihb"
      },
      "execution_count": null,
      "outputs": []
    },
    {
      "cell_type": "markdown",
      "source": [
        "# Create the model"
      ],
      "metadata": {
        "id": "H_c3ofy4cn6t"
      }
    },
    {
      "cell_type": "code",
      "source": [
        "vocab_size = len(AutoTokenizer.from_pretrained(\"bert-base-cased\"))"
      ],
      "metadata": {
        "id": "JYajec_8oHIk"
      },
      "execution_count": null,
      "outputs": []
    },
    {
      "cell_type": "code",
      "source": [
        "class AnomalyDetectionModel(nn.Module):\n",
        "  def __init__(self, num_hidden_layer: int=6, num_attention_heads: int=8, intermediate_size: int=1536, hidden_size: int=384):\n",
        "    super(AnomalyDetectionModel, self).__init__()\n",
        "\n",
        "    # Get the Transformer from the huggingface server\n",
        "    config = BertConfig.from_pretrained(\n",
        "        \"bert-base-cased\", num_hidden_layers=num_hidden_layer, num_attention_heads=num_attention_heads, intermediate_size=intermediate_size, hidden_size=hidden_size)\n",
        "    self.transformer = BertForMaskedLM(config)\n",
        "\n",
        "  def forward(self, x, labels):\n",
        "    # x is B x T, where B is batch size and T is max tokens num\n",
        "    # Get output from Transformer.\n",
        "    out = self.transformer(x, labels=labels)\n",
        "    # # out is B x T x BE, where BE is BERT encoding hidden size\n",
        "    # # for each BE output that is a mask, we need to pass it through the linear layer\n",
        "    # scores = []\n",
        "    # for idb, batch in enumerate(x):\n",
        "    #   for idt, token in enumerate(batch):\n",
        "    #     if token.item() == MASK_TOK_ID:\n",
        "    #       score = self.cls_scores(out[idb, idt])\n",
        "    #       scores.append(score)\n",
        "    return out"
      ],
      "metadata": {
        "id": "iWMpqrEycszR"
      },
      "execution_count": null,
      "outputs": []
    },
    {
      "cell_type": "code",
      "source": [
        "device = torch.device(\"cuda\" if torch.cuda.is_available() else \"cpu\")\n",
        "\n",
        "# Instantiate our model and move it to GPU\n",
        "model = AnomalyDetectionModel().to(device)\n",
        "\n",
        "# Print the model paramters\n",
        "print(\"Model's parameters: \")\n",
        "num_params = 0\n",
        "for n, p in model.named_parameters():\n",
        "    print('\\t', n, ': ', p.size())\n",
        "    num_params += p.numel()\n",
        "print(\"Number of model parameters: \", num_params)"
      ],
      "metadata": {
        "id": "N4q-Qp4MgqB_",
        "colab": {
          "base_uri": "https://localhost:8080/"
        },
        "outputId": "c6fa7f3c-a916-4998-ac7c-81d62269c0ec"
      },
      "execution_count": null,
      "outputs": [
        {
          "output_type": "stream",
          "name": "stdout",
          "text": [
            "Model's parameters: \n",
            "\t transformer.bert.embeddings.word_embeddings.weight :  torch.Size([28996, 384])\n",
            "\t transformer.bert.embeddings.position_embeddings.weight :  torch.Size([512, 384])\n",
            "\t transformer.bert.embeddings.token_type_embeddings.weight :  torch.Size([2, 384])\n",
            "\t transformer.bert.embeddings.LayerNorm.weight :  torch.Size([384])\n",
            "\t transformer.bert.embeddings.LayerNorm.bias :  torch.Size([384])\n",
            "\t transformer.bert.encoder.layer.0.attention.self.query.weight :  torch.Size([384, 384])\n",
            "\t transformer.bert.encoder.layer.0.attention.self.query.bias :  torch.Size([384])\n",
            "\t transformer.bert.encoder.layer.0.attention.self.key.weight :  torch.Size([384, 384])\n",
            "\t transformer.bert.encoder.layer.0.attention.self.key.bias :  torch.Size([384])\n",
            "\t transformer.bert.encoder.layer.0.attention.self.value.weight :  torch.Size([384, 384])\n",
            "\t transformer.bert.encoder.layer.0.attention.self.value.bias :  torch.Size([384])\n",
            "\t transformer.bert.encoder.layer.0.attention.output.dense.weight :  torch.Size([384, 384])\n",
            "\t transformer.bert.encoder.layer.0.attention.output.dense.bias :  torch.Size([384])\n",
            "\t transformer.bert.encoder.layer.0.attention.output.LayerNorm.weight :  torch.Size([384])\n",
            "\t transformer.bert.encoder.layer.0.attention.output.LayerNorm.bias :  torch.Size([384])\n",
            "\t transformer.bert.encoder.layer.0.intermediate.dense.weight :  torch.Size([1536, 384])\n",
            "\t transformer.bert.encoder.layer.0.intermediate.dense.bias :  torch.Size([1536])\n",
            "\t transformer.bert.encoder.layer.0.output.dense.weight :  torch.Size([384, 1536])\n",
            "\t transformer.bert.encoder.layer.0.output.dense.bias :  torch.Size([384])\n",
            "\t transformer.bert.encoder.layer.0.output.LayerNorm.weight :  torch.Size([384])\n",
            "\t transformer.bert.encoder.layer.0.output.LayerNorm.bias :  torch.Size([384])\n",
            "\t transformer.bert.encoder.layer.1.attention.self.query.weight :  torch.Size([384, 384])\n",
            "\t transformer.bert.encoder.layer.1.attention.self.query.bias :  torch.Size([384])\n",
            "\t transformer.bert.encoder.layer.1.attention.self.key.weight :  torch.Size([384, 384])\n",
            "\t transformer.bert.encoder.layer.1.attention.self.key.bias :  torch.Size([384])\n",
            "\t transformer.bert.encoder.layer.1.attention.self.value.weight :  torch.Size([384, 384])\n",
            "\t transformer.bert.encoder.layer.1.attention.self.value.bias :  torch.Size([384])\n",
            "\t transformer.bert.encoder.layer.1.attention.output.dense.weight :  torch.Size([384, 384])\n",
            "\t transformer.bert.encoder.layer.1.attention.output.dense.bias :  torch.Size([384])\n",
            "\t transformer.bert.encoder.layer.1.attention.output.LayerNorm.weight :  torch.Size([384])\n",
            "\t transformer.bert.encoder.layer.1.attention.output.LayerNorm.bias :  torch.Size([384])\n",
            "\t transformer.bert.encoder.layer.1.intermediate.dense.weight :  torch.Size([1536, 384])\n",
            "\t transformer.bert.encoder.layer.1.intermediate.dense.bias :  torch.Size([1536])\n",
            "\t transformer.bert.encoder.layer.1.output.dense.weight :  torch.Size([384, 1536])\n",
            "\t transformer.bert.encoder.layer.1.output.dense.bias :  torch.Size([384])\n",
            "\t transformer.bert.encoder.layer.1.output.LayerNorm.weight :  torch.Size([384])\n",
            "\t transformer.bert.encoder.layer.1.output.LayerNorm.bias :  torch.Size([384])\n",
            "\t transformer.bert.encoder.layer.2.attention.self.query.weight :  torch.Size([384, 384])\n",
            "\t transformer.bert.encoder.layer.2.attention.self.query.bias :  torch.Size([384])\n",
            "\t transformer.bert.encoder.layer.2.attention.self.key.weight :  torch.Size([384, 384])\n",
            "\t transformer.bert.encoder.layer.2.attention.self.key.bias :  torch.Size([384])\n",
            "\t transformer.bert.encoder.layer.2.attention.self.value.weight :  torch.Size([384, 384])\n",
            "\t transformer.bert.encoder.layer.2.attention.self.value.bias :  torch.Size([384])\n",
            "\t transformer.bert.encoder.layer.2.attention.output.dense.weight :  torch.Size([384, 384])\n",
            "\t transformer.bert.encoder.layer.2.attention.output.dense.bias :  torch.Size([384])\n",
            "\t transformer.bert.encoder.layer.2.attention.output.LayerNorm.weight :  torch.Size([384])\n",
            "\t transformer.bert.encoder.layer.2.attention.output.LayerNorm.bias :  torch.Size([384])\n",
            "\t transformer.bert.encoder.layer.2.intermediate.dense.weight :  torch.Size([1536, 384])\n",
            "\t transformer.bert.encoder.layer.2.intermediate.dense.bias :  torch.Size([1536])\n",
            "\t transformer.bert.encoder.layer.2.output.dense.weight :  torch.Size([384, 1536])\n",
            "\t transformer.bert.encoder.layer.2.output.dense.bias :  torch.Size([384])\n",
            "\t transformer.bert.encoder.layer.2.output.LayerNorm.weight :  torch.Size([384])\n",
            "\t transformer.bert.encoder.layer.2.output.LayerNorm.bias :  torch.Size([384])\n",
            "\t transformer.bert.encoder.layer.3.attention.self.query.weight :  torch.Size([384, 384])\n",
            "\t transformer.bert.encoder.layer.3.attention.self.query.bias :  torch.Size([384])\n",
            "\t transformer.bert.encoder.layer.3.attention.self.key.weight :  torch.Size([384, 384])\n",
            "\t transformer.bert.encoder.layer.3.attention.self.key.bias :  torch.Size([384])\n",
            "\t transformer.bert.encoder.layer.3.attention.self.value.weight :  torch.Size([384, 384])\n",
            "\t transformer.bert.encoder.layer.3.attention.self.value.bias :  torch.Size([384])\n",
            "\t transformer.bert.encoder.layer.3.attention.output.dense.weight :  torch.Size([384, 384])\n",
            "\t transformer.bert.encoder.layer.3.attention.output.dense.bias :  torch.Size([384])\n",
            "\t transformer.bert.encoder.layer.3.attention.output.LayerNorm.weight :  torch.Size([384])\n",
            "\t transformer.bert.encoder.layer.3.attention.output.LayerNorm.bias :  torch.Size([384])\n",
            "\t transformer.bert.encoder.layer.3.intermediate.dense.weight :  torch.Size([1536, 384])\n",
            "\t transformer.bert.encoder.layer.3.intermediate.dense.bias :  torch.Size([1536])\n",
            "\t transformer.bert.encoder.layer.3.output.dense.weight :  torch.Size([384, 1536])\n",
            "\t transformer.bert.encoder.layer.3.output.dense.bias :  torch.Size([384])\n",
            "\t transformer.bert.encoder.layer.3.output.LayerNorm.weight :  torch.Size([384])\n",
            "\t transformer.bert.encoder.layer.3.output.LayerNorm.bias :  torch.Size([384])\n",
            "\t transformer.bert.encoder.layer.4.attention.self.query.weight :  torch.Size([384, 384])\n",
            "\t transformer.bert.encoder.layer.4.attention.self.query.bias :  torch.Size([384])\n",
            "\t transformer.bert.encoder.layer.4.attention.self.key.weight :  torch.Size([384, 384])\n",
            "\t transformer.bert.encoder.layer.4.attention.self.key.bias :  torch.Size([384])\n",
            "\t transformer.bert.encoder.layer.4.attention.self.value.weight :  torch.Size([384, 384])\n",
            "\t transformer.bert.encoder.layer.4.attention.self.value.bias :  torch.Size([384])\n",
            "\t transformer.bert.encoder.layer.4.attention.output.dense.weight :  torch.Size([384, 384])\n",
            "\t transformer.bert.encoder.layer.4.attention.output.dense.bias :  torch.Size([384])\n",
            "\t transformer.bert.encoder.layer.4.attention.output.LayerNorm.weight :  torch.Size([384])\n",
            "\t transformer.bert.encoder.layer.4.attention.output.LayerNorm.bias :  torch.Size([384])\n",
            "\t transformer.bert.encoder.layer.4.intermediate.dense.weight :  torch.Size([1536, 384])\n",
            "\t transformer.bert.encoder.layer.4.intermediate.dense.bias :  torch.Size([1536])\n",
            "\t transformer.bert.encoder.layer.4.output.dense.weight :  torch.Size([384, 1536])\n",
            "\t transformer.bert.encoder.layer.4.output.dense.bias :  torch.Size([384])\n",
            "\t transformer.bert.encoder.layer.4.output.LayerNorm.weight :  torch.Size([384])\n",
            "\t transformer.bert.encoder.layer.4.output.LayerNorm.bias :  torch.Size([384])\n",
            "\t transformer.bert.encoder.layer.5.attention.self.query.weight :  torch.Size([384, 384])\n",
            "\t transformer.bert.encoder.layer.5.attention.self.query.bias :  torch.Size([384])\n",
            "\t transformer.bert.encoder.layer.5.attention.self.key.weight :  torch.Size([384, 384])\n",
            "\t transformer.bert.encoder.layer.5.attention.self.key.bias :  torch.Size([384])\n",
            "\t transformer.bert.encoder.layer.5.attention.self.value.weight :  torch.Size([384, 384])\n",
            "\t transformer.bert.encoder.layer.5.attention.self.value.bias :  torch.Size([384])\n",
            "\t transformer.bert.encoder.layer.5.attention.output.dense.weight :  torch.Size([384, 384])\n",
            "\t transformer.bert.encoder.layer.5.attention.output.dense.bias :  torch.Size([384])\n",
            "\t transformer.bert.encoder.layer.5.attention.output.LayerNorm.weight :  torch.Size([384])\n",
            "\t transformer.bert.encoder.layer.5.attention.output.LayerNorm.bias :  torch.Size([384])\n",
            "\t transformer.bert.encoder.layer.5.intermediate.dense.weight :  torch.Size([1536, 384])\n",
            "\t transformer.bert.encoder.layer.5.intermediate.dense.bias :  torch.Size([1536])\n",
            "\t transformer.bert.encoder.layer.5.output.dense.weight :  torch.Size([384, 1536])\n",
            "\t transformer.bert.encoder.layer.5.output.dense.bias :  torch.Size([384])\n",
            "\t transformer.bert.encoder.layer.5.output.LayerNorm.weight :  torch.Size([384])\n",
            "\t transformer.bert.encoder.layer.5.output.LayerNorm.bias :  torch.Size([384])\n",
            "\t transformer.cls.predictions.bias :  torch.Size([28996])\n",
            "\t transformer.cls.predictions.transform.dense.weight :  torch.Size([384, 384])\n",
            "\t transformer.cls.predictions.transform.dense.bias :  torch.Size([384])\n",
            "\t transformer.cls.predictions.transform.LayerNorm.weight :  torch.Size([384])\n",
            "\t transformer.cls.predictions.transform.LayerNorm.bias :  torch.Size([384])\n",
            "Number of model parameters:  22156996\n"
          ]
        }
      ]
    },
    {
      "cell_type": "markdown",
      "source": [
        "# Training the model\n"
      ],
      "metadata": {
        "id": "an1lBvWYkmsT"
      }
    },
    {
      "cell_type": "code",
      "source": [
        "# Defining the optimizer and loss function\n",
        "optim = AdamW(model.parameters(), lr=1e-4)\n",
        "loss_fn = nn.CrossEntropyLoss()"
      ],
      "metadata": {
        "colab": {
          "base_uri": "https://localhost:8080/"
        },
        "id": "lQPvFREjku1J",
        "outputId": "8400e308-e780-432c-9263-011b8a1b4be8"
      },
      "execution_count": null,
      "outputs": [
        {
          "output_type": "stream",
          "name": "stderr",
          "text": [
            "/usr/local/lib/python3.7/dist-packages/transformers/optimization.py:309: FutureWarning: This implementation of AdamW is deprecated and will be removed in a future version. Use the PyTorch implementation torch.optim.AdamW instead, or set `no_deprecation_warning=True` to disable this warning\n",
            "  FutureWarning,\n"
          ]
        }
      ]
    },
    {
      "cell_type": "code",
      "source": [
        "# Defining the train and evaluation functions.\n",
        "def train(model, optim, dl_train):\n",
        "    epoch_loss = 0\n",
        "    model.train()\n",
        "    preds = []\n",
        "    gt = []\n",
        "\n",
        "    times = []\n",
        "    acc_loss = 0\n",
        "    for idx, batch in enumerate(dl_train):\n",
        "        # get rough estimate of eta\n",
        "        beg = time.time()\n",
        "\n",
        "        inputs, labels = batch\n",
        "        inputs = inputs.squeeze(1) # extra dimension because of my dataset implementation Iterable quirk\n",
        "        labels = labels.squeeze(1)\n",
        "        # Move data to GPU\n",
        "        inputs = inputs.to(device)\n",
        "        # mask_labels = mask_labels.to(device)\n",
        "        labels = labels.to(device).long()\n",
        "        flattened_inputs = inputs.flatten()\n",
        "        mask_indices = (inputs == MASK_TOK_ID).nonzero()\n",
        "        acc_loss += len(flattened_inputs[flattened_inputs == MASK_TOK_ID])\n",
        "\n",
        "        output = model(inputs.to(device), labels=labels)\n",
        "        # Calculate the loss and backpropagate\n",
        "        # loss = loss_fn(output, labels)\n",
        "        loss = output.loss\n",
        "        loss.backward()\n",
        "        # Update weights\n",
        "        if acc_loss >= 200:\n",
        "            acc_loss = 0\n",
        "            optim.step()\n",
        "            optim.zero_grad()\n",
        "\n",
        "        final = time.time()\n",
        "        times.append(final - beg)\n",
        "\n",
        "        epoch_loss += loss.item()\n",
        "        \n",
        "        # print a message every 100 batches\n",
        "        if idx % 100 == 0:\n",
        "            print(f\"Loss is {loss}, time left = {(sum(times) / len(times) * (len(dl_train.dataset) - (idx + 1) * BATCH_SIZE) / BATCH_SIZE) / 60} minutes.\")\n",
        "\n",
        "    # Average the epoch losses\n",
        "    epoch_loss /= len(dl_train)\n",
        "\n",
        "    return epoch_loss\n",
        "\n",
        "\n",
        "\"\"\"\n",
        "broken function, doesn't do what we want it to do\n",
        "\"\"\"\n",
        "@torch.inference_mode()\n",
        "def evaluate(model, optim, dl_valid):\n",
        "    test_loss = 0\n",
        "    model.eval()\n",
        "    preds = []\n",
        "    gt = []\n",
        "\n",
        "    for idx, batch in enumerate(dl_valid):\n",
        "        inputs, labels = batch\n",
        "\n",
        "        inputs = inputs.squeeze(1) # extra dimension because of my dataset implementation Iterable quirk\n",
        "        labels = labels.squeeze(1)\n",
        "\n",
        "        inputs = inputs.to(device)\n",
        "        labels = labels.to(device).long()\n",
        "\n",
        "        output = model(inputs, labels=labels)\n",
        "\n",
        "        # test_loss += loss_fn(output, labels).item()\n",
        "        test_loss += output.loss.detach().item()\n",
        "\n",
        "\n",
        "    test_loss /= len(dl_valid)\n",
        "\n",
        "    return test_loss"
      ],
      "metadata": {
        "id": "EAi2vxvPmJLN"
      },
      "execution_count": null,
      "outputs": []
    },
    {
      "cell_type": "code",
      "source": [
        "# Train loop\n",
        "num_epochs = 50\n",
        "best_val_loss = None\n",
        "\n",
        "pbar = tqdm(range(num_epochs))\n",
        "train_losses = []\n",
        "val_losses = []\n",
        "\n",
        "\n",
        "for e in tqdm(range(num_epochs)):\n",
        "    train_loss = train(model, optim, dl_train)\n",
        "    val_loss = evaluate(model, optim, dl_valid)\n",
        "\n",
        "    train_losses.append(train_loss)\n",
        "    val_losses.append(val_loss)\n",
        "\n",
        "\n",
        "    print(f\"Epoch: {e+1}, t_loss: {round(train_loss, 2)}, v_loss: {round(val_loss, 2)}\")\n",
        "\n",
        "    if best_val_loss is None or val_loss < best_val_loss:\n",
        "        best_val_loss = val_loss\n",
        "        torch.save(model.state_dict(), './best_bert_model.pt')\n",
        "\n",
        "fig, ax = plt.subplots(nrows=2, ncols=1, figsize=(20, 10))\n",
        "ax[0].plot(range(num_epochs), train_losses, color='orange', label='train loss')\n",
        "ax[0].plot(range(num_epochs), val_losses, color='blue', label='valid loss')\n",
        "ax[0].legend(loc='best')\n",
        "ax[1].legend(loc='best')\n",
        "plt.show()"
      ],
      "metadata": {
        "colab": {
          "base_uri": "https://localhost:8080/",
          "height": 472
        },
        "id": "rBd-UFQCt7kP",
        "outputId": "351ec1f8-5bd0-4150-81b4-18c5fadd2397"
      },
      "execution_count": null,
      "outputs": [
        {
          "output_type": "stream",
          "name": "stderr",
          "text": [
            "  0%|          | 0/50 [00:00<?, ?it/s]\n",
            "  0%|          | 0/50 [00:00<?, ?it/s]\u001b[A"
          ]
        },
        {
          "output_type": "stream",
          "name": "stdout",
          "text": [
            "Loss is 10.391664505004883, time left = 11.008643352985382 minutes.\n",
            "Loss is 8.234742164611816, time left = 6.938679257438522 minutes.\n"
          ]
        },
        {
          "output_type": "stream",
          "name": "stderr",
          "text": [
            "\r  0%|          | 0/50 [01:02<?, ?it/s]\n"
          ]
        },
        {
          "output_type": "error",
          "ename": "KeyboardInterrupt",
          "evalue": "ignored",
          "traceback": [
            "\u001b[0;31m---------------------------------------------------------------------------\u001b[0m",
            "\u001b[0;31mKeyboardInterrupt\u001b[0m                         Traceback (most recent call last)",
            "\u001b[0;32m<ipython-input-18-28b87f2999c0>\u001b[0m in \u001b[0;36m<module>\u001b[0;34m()\u001b[0m\n\u001b[1;32m      9\u001b[0m \u001b[0;34m\u001b[0m\u001b[0m\n\u001b[1;32m     10\u001b[0m \u001b[0;32mfor\u001b[0m \u001b[0me\u001b[0m \u001b[0;32min\u001b[0m \u001b[0mtqdm\u001b[0m\u001b[0;34m(\u001b[0m\u001b[0mrange\u001b[0m\u001b[0;34m(\u001b[0m\u001b[0mnum_epochs\u001b[0m\u001b[0;34m)\u001b[0m\u001b[0;34m)\u001b[0m\u001b[0;34m:\u001b[0m\u001b[0;34m\u001b[0m\u001b[0;34m\u001b[0m\u001b[0m\n\u001b[0;32m---> 11\u001b[0;31m     \u001b[0mtrain_loss\u001b[0m \u001b[0;34m=\u001b[0m \u001b[0mtrain\u001b[0m\u001b[0;34m(\u001b[0m\u001b[0mmodel\u001b[0m\u001b[0;34m,\u001b[0m \u001b[0moptim\u001b[0m\u001b[0;34m,\u001b[0m \u001b[0mdl_train\u001b[0m\u001b[0;34m)\u001b[0m\u001b[0;34m\u001b[0m\u001b[0;34m\u001b[0m\u001b[0m\n\u001b[0m\u001b[1;32m     12\u001b[0m     \u001b[0mval_loss\u001b[0m \u001b[0;34m=\u001b[0m \u001b[0mevaluate\u001b[0m\u001b[0;34m(\u001b[0m\u001b[0mmodel\u001b[0m\u001b[0;34m,\u001b[0m \u001b[0moptim\u001b[0m\u001b[0;34m,\u001b[0m \u001b[0mdl_valid\u001b[0m\u001b[0;34m)\u001b[0m\u001b[0;34m\u001b[0m\u001b[0;34m\u001b[0m\u001b[0m\n\u001b[1;32m     13\u001b[0m \u001b[0;34m\u001b[0m\u001b[0m\n",
            "\u001b[0;32m<ipython-input-17-3eaf088f6f3a>\u001b[0m in \u001b[0;36mtrain\u001b[0;34m(model, optim, dl_train)\u001b[0m\n\u001b[1;32m     27\u001b[0m         \u001b[0;31m# loss = loss_fn(output, labels)\u001b[0m\u001b[0;34m\u001b[0m\u001b[0;34m\u001b[0m\u001b[0;34m\u001b[0m\u001b[0m\n\u001b[1;32m     28\u001b[0m         \u001b[0mloss\u001b[0m \u001b[0;34m=\u001b[0m \u001b[0moutput\u001b[0m\u001b[0;34m.\u001b[0m\u001b[0mloss\u001b[0m\u001b[0;34m\u001b[0m\u001b[0;34m\u001b[0m\u001b[0m\n\u001b[0;32m---> 29\u001b[0;31m         \u001b[0mloss\u001b[0m\u001b[0;34m.\u001b[0m\u001b[0mbackward\u001b[0m\u001b[0;34m(\u001b[0m\u001b[0;34m)\u001b[0m\u001b[0;34m\u001b[0m\u001b[0;34m\u001b[0m\u001b[0m\n\u001b[0m\u001b[1;32m     30\u001b[0m         \u001b[0;31m# Update weights\u001b[0m\u001b[0;34m\u001b[0m\u001b[0;34m\u001b[0m\u001b[0;34m\u001b[0m\u001b[0m\n\u001b[1;32m     31\u001b[0m         \u001b[0;32mif\u001b[0m \u001b[0macc_loss\u001b[0m \u001b[0;34m>=\u001b[0m \u001b[0;36m200\u001b[0m\u001b[0;34m:\u001b[0m\u001b[0;34m\u001b[0m\u001b[0;34m\u001b[0m\u001b[0m\n",
            "\u001b[0;32m/usr/local/lib/python3.7/dist-packages/torch/_tensor.py\u001b[0m in \u001b[0;36mbackward\u001b[0;34m(self, gradient, retain_graph, create_graph, inputs)\u001b[0m\n\u001b[1;32m    305\u001b[0m                 \u001b[0mcreate_graph\u001b[0m\u001b[0;34m=\u001b[0m\u001b[0mcreate_graph\u001b[0m\u001b[0;34m,\u001b[0m\u001b[0;34m\u001b[0m\u001b[0;34m\u001b[0m\u001b[0m\n\u001b[1;32m    306\u001b[0m                 inputs=inputs)\n\u001b[0;32m--> 307\u001b[0;31m         \u001b[0mtorch\u001b[0m\u001b[0;34m.\u001b[0m\u001b[0mautograd\u001b[0m\u001b[0;34m.\u001b[0m\u001b[0mbackward\u001b[0m\u001b[0;34m(\u001b[0m\u001b[0mself\u001b[0m\u001b[0;34m,\u001b[0m \u001b[0mgradient\u001b[0m\u001b[0;34m,\u001b[0m \u001b[0mretain_graph\u001b[0m\u001b[0;34m,\u001b[0m \u001b[0mcreate_graph\u001b[0m\u001b[0;34m,\u001b[0m \u001b[0minputs\u001b[0m\u001b[0;34m=\u001b[0m\u001b[0minputs\u001b[0m\u001b[0;34m)\u001b[0m\u001b[0;34m\u001b[0m\u001b[0;34m\u001b[0m\u001b[0m\n\u001b[0m\u001b[1;32m    308\u001b[0m \u001b[0;34m\u001b[0m\u001b[0m\n\u001b[1;32m    309\u001b[0m     \u001b[0;32mdef\u001b[0m \u001b[0mregister_hook\u001b[0m\u001b[0;34m(\u001b[0m\u001b[0mself\u001b[0m\u001b[0;34m,\u001b[0m \u001b[0mhook\u001b[0m\u001b[0;34m)\u001b[0m\u001b[0;34m:\u001b[0m\u001b[0;34m\u001b[0m\u001b[0;34m\u001b[0m\u001b[0m\n",
            "\u001b[0;32m/usr/local/lib/python3.7/dist-packages/torch/autograd/__init__.py\u001b[0m in \u001b[0;36mbackward\u001b[0;34m(tensors, grad_tensors, retain_graph, create_graph, grad_variables, inputs)\u001b[0m\n\u001b[1;32m    154\u001b[0m     Variable._execution_engine.run_backward(\n\u001b[1;32m    155\u001b[0m         \u001b[0mtensors\u001b[0m\u001b[0;34m,\u001b[0m \u001b[0mgrad_tensors_\u001b[0m\u001b[0;34m,\u001b[0m \u001b[0mretain_graph\u001b[0m\u001b[0;34m,\u001b[0m \u001b[0mcreate_graph\u001b[0m\u001b[0;34m,\u001b[0m \u001b[0minputs\u001b[0m\u001b[0;34m,\u001b[0m\u001b[0;34m\u001b[0m\u001b[0;34m\u001b[0m\u001b[0m\n\u001b[0;32m--> 156\u001b[0;31m         allow_unreachable=True, accumulate_grad=True)  # allow_unreachable flag\n\u001b[0m\u001b[1;32m    157\u001b[0m \u001b[0;34m\u001b[0m\u001b[0m\n\u001b[1;32m    158\u001b[0m \u001b[0;34m\u001b[0m\u001b[0m\n",
            "\u001b[0;31mKeyboardInterrupt\u001b[0m: "
          ]
        }
      ]
    },
    {
      "cell_type": "code",
      "source": [
        "import copy\n",
        "from transformers import BertForMaskedLM, BertTokenizerFast\n",
        "import torch\n",
        "\n",
        "# tokenizer = AutoTokenizer.from_pretrained(\"bert-base-cased\")\n",
        "# model = AnomalyDetectionModel()\n",
        "# model.load_state_dict(torch.load(\"trained_bert_sports_agnews.pt\"))\n",
        "model1 = copy.deepcopy(model)\n",
        "model1.to(\"cpu\")\n",
        "\n",
        "model2 = BertForMaskedLM.from_pretrained('bert-base-cased')\n",
        "text = \"Dr. Mario Roederer and Adam Treister at Stanford University wrote FlowJo, Mac OS X analysis software for flow cytometers, high-speed, automated microscopes. Today, some 15,000 to 20,000 cytometers in use are Mac based. Aug 3\"\n",
        "inputs  =  tokenizer(text,  return_tensors=\"pt\", add_special_tokens = True, truncation=True, pad_to_max_length = True,\n",
        "                                         return_attention_mask = True,  max_length=100)\n",
        "input_ids = inputs['input_ids']\n",
        "print(tokenizer.convert_ids_to_tokens(input_ids[0]))\n",
        "labels  = copy.deepcopy(input_ids) #this is the part I changed\n",
        "tok_id = 14\n",
        "print(tokenizer.convert_ids_to_tokens([input_ids[0][tok_id]]))\n",
        "old_tok = input_ids[0][tok_id].item()\n",
        "input_ids[0][tok_id] = tokenizer.mask_token_id\n",
        "labels[input_ids != tokenizer.mask_token_id] = -100 \n",
        "\n",
        "outputs = model1(input_ids, labels=labels)\n",
        "# outputs =  model2(input_ids = input_ids, attention_mask = inputs['attention_mask'] , token_type_ids=inputs['token_type_ids'] , labels=labels)\n",
        "loss = outputs.loss\n",
        "scores = outputs.logits\n",
        "print('loss',loss)\n",
        "print(tokenizer.convert_ids_to_tokens([old_tok]))\n",
        "pred = torch.argmax( scores[0][tok_id]).item()\n",
        "logSoftmax = torch.nn.LogSoftmax(dim=1)\n",
        "softmax = torch.nn.Softmax()\n",
        "NLLLos = torch.nn.NLLLoss()\n",
        "print(\"predicted token:\", pred, tokenizer.convert_ids_to_tokens([pred])  )\n",
        "print(NLLLos( logSoftmax(torch.unsqueeze(scores[0][tok_id], 0)), torch.tensor([pred]))) #the same as F.cross_entropy(scores.view(-1, tokenizer.vocab_size), labels.view(-1))\n",
        "print(softmax(scores[0][tok_id])[pred])\n",
        "print(softmax(scores[0][tok_id])[old_tok])\n",
        "# print(NLLLos( logSoftmax(torch.unsqueeze(scores[0][16], 0)), torch.tensor([old_tok]))) #the same as F.cross_entropy(scores.view(-1, tokenizer.vocab_size), labels.view(-1))"
      ],
      "metadata": {
        "id": "LCHXQJXRBqes"
      },
      "execution_count": null,
      "outputs": []
    }
  ]
}
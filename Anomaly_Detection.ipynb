{
  "nbformat": 4,
  "nbformat_minor": 0,
  "metadata": {
    "colab": {
      "name": "Anomaly_Detection.ipynb",
      "provenance": [],
      "collapsed_sections": [
        "an1lBvWYkmsT"
      ],
      "toc_visible": true,
      "include_colab_link": true
    },
    "kernelspec": {
      "name": "python3",
      "display_name": "Python 3"
    },
    "language_info": {
      "name": "python"
    },
    "accelerator": "GPU",
    "widgets": {
      "application/vnd.jupyter.widget-state+json": {
        "7f04aeaed985434aa6bfa88c7591f67a": {
          "model_module": "@jupyter-widgets/controls",
          "model_name": "HBoxModel",
          "model_module_version": "1.5.0",
          "state": {
            "_dom_classes": [],
            "_model_module": "@jupyter-widgets/controls",
            "_model_module_version": "1.5.0",
            "_model_name": "HBoxModel",
            "_view_count": null,
            "_view_module": "@jupyter-widgets/controls",
            "_view_module_version": "1.5.0",
            "_view_name": "HBoxView",
            "box_style": "",
            "children": [
              "IPY_MODEL_9a3e849e8244416e9b8d7a83afeac122",
              "IPY_MODEL_a23c82818bc6469c83b1b1cd809dbc25",
              "IPY_MODEL_8f93eccea48c485bb58611127cda33cf"
            ],
            "layout": "IPY_MODEL_661458d991bd4a2d8078b11e6f076f28"
          }
        },
        "9a3e849e8244416e9b8d7a83afeac122": {
          "model_module": "@jupyter-widgets/controls",
          "model_name": "HTMLModel",
          "model_module_version": "1.5.0",
          "state": {
            "_dom_classes": [],
            "_model_module": "@jupyter-widgets/controls",
            "_model_module_version": "1.5.0",
            "_model_name": "HTMLModel",
            "_view_count": null,
            "_view_module": "@jupyter-widgets/controls",
            "_view_module_version": "1.5.0",
            "_view_name": "HTMLView",
            "description": "",
            "description_tooltip": null,
            "layout": "IPY_MODEL_fb386e73ad424fb3b4448fd07f5cfb90",
            "placeholder": "​",
            "style": "IPY_MODEL_9e40a55be4c84a5a8148735a217d3dfe",
            "value": "Downloading: 100%"
          }
        },
        "a23c82818bc6469c83b1b1cd809dbc25": {
          "model_module": "@jupyter-widgets/controls",
          "model_name": "FloatProgressModel",
          "model_module_version": "1.5.0",
          "state": {
            "_dom_classes": [],
            "_model_module": "@jupyter-widgets/controls",
            "_model_module_version": "1.5.0",
            "_model_name": "FloatProgressModel",
            "_view_count": null,
            "_view_module": "@jupyter-widgets/controls",
            "_view_module_version": "1.5.0",
            "_view_name": "ProgressView",
            "bar_style": "success",
            "description": "",
            "description_tooltip": null,
            "layout": "IPY_MODEL_98ac48ecbab945839a50752792fcf12a",
            "max": 29,
            "min": 0,
            "orientation": "horizontal",
            "style": "IPY_MODEL_754d7bdfca3447959dd88d0353a81ad4",
            "value": 29
          }
        },
        "8f93eccea48c485bb58611127cda33cf": {
          "model_module": "@jupyter-widgets/controls",
          "model_name": "HTMLModel",
          "model_module_version": "1.5.0",
          "state": {
            "_dom_classes": [],
            "_model_module": "@jupyter-widgets/controls",
            "_model_module_version": "1.5.0",
            "_model_name": "HTMLModel",
            "_view_count": null,
            "_view_module": "@jupyter-widgets/controls",
            "_view_module_version": "1.5.0",
            "_view_name": "HTMLView",
            "description": "",
            "description_tooltip": null,
            "layout": "IPY_MODEL_886b673473e9401a9867fc0a3ad86bec",
            "placeholder": "​",
            "style": "IPY_MODEL_01a61657dcdc422999164492febdc7e2",
            "value": " 29.0/29.0 [00:00&lt;00:00, 797B/s]"
          }
        },
        "661458d991bd4a2d8078b11e6f076f28": {
          "model_module": "@jupyter-widgets/base",
          "model_name": "LayoutModel",
          "model_module_version": "1.2.0",
          "state": {
            "_model_module": "@jupyter-widgets/base",
            "_model_module_version": "1.2.0",
            "_model_name": "LayoutModel",
            "_view_count": null,
            "_view_module": "@jupyter-widgets/base",
            "_view_module_version": "1.2.0",
            "_view_name": "LayoutView",
            "align_content": null,
            "align_items": null,
            "align_self": null,
            "border": null,
            "bottom": null,
            "display": null,
            "flex": null,
            "flex_flow": null,
            "grid_area": null,
            "grid_auto_columns": null,
            "grid_auto_flow": null,
            "grid_auto_rows": null,
            "grid_column": null,
            "grid_gap": null,
            "grid_row": null,
            "grid_template_areas": null,
            "grid_template_columns": null,
            "grid_template_rows": null,
            "height": null,
            "justify_content": null,
            "justify_items": null,
            "left": null,
            "margin": null,
            "max_height": null,
            "max_width": null,
            "min_height": null,
            "min_width": null,
            "object_fit": null,
            "object_position": null,
            "order": null,
            "overflow": null,
            "overflow_x": null,
            "overflow_y": null,
            "padding": null,
            "right": null,
            "top": null,
            "visibility": null,
            "width": null
          }
        },
        "fb386e73ad424fb3b4448fd07f5cfb90": {
          "model_module": "@jupyter-widgets/base",
          "model_name": "LayoutModel",
          "model_module_version": "1.2.0",
          "state": {
            "_model_module": "@jupyter-widgets/base",
            "_model_module_version": "1.2.0",
            "_model_name": "LayoutModel",
            "_view_count": null,
            "_view_module": "@jupyter-widgets/base",
            "_view_module_version": "1.2.0",
            "_view_name": "LayoutView",
            "align_content": null,
            "align_items": null,
            "align_self": null,
            "border": null,
            "bottom": null,
            "display": null,
            "flex": null,
            "flex_flow": null,
            "grid_area": null,
            "grid_auto_columns": null,
            "grid_auto_flow": null,
            "grid_auto_rows": null,
            "grid_column": null,
            "grid_gap": null,
            "grid_row": null,
            "grid_template_areas": null,
            "grid_template_columns": null,
            "grid_template_rows": null,
            "height": null,
            "justify_content": null,
            "justify_items": null,
            "left": null,
            "margin": null,
            "max_height": null,
            "max_width": null,
            "min_height": null,
            "min_width": null,
            "object_fit": null,
            "object_position": null,
            "order": null,
            "overflow": null,
            "overflow_x": null,
            "overflow_y": null,
            "padding": null,
            "right": null,
            "top": null,
            "visibility": null,
            "width": null
          }
        },
        "9e40a55be4c84a5a8148735a217d3dfe": {
          "model_module": "@jupyter-widgets/controls",
          "model_name": "DescriptionStyleModel",
          "model_module_version": "1.5.0",
          "state": {
            "_model_module": "@jupyter-widgets/controls",
            "_model_module_version": "1.5.0",
            "_model_name": "DescriptionStyleModel",
            "_view_count": null,
            "_view_module": "@jupyter-widgets/base",
            "_view_module_version": "1.2.0",
            "_view_name": "StyleView",
            "description_width": ""
          }
        },
        "98ac48ecbab945839a50752792fcf12a": {
          "model_module": "@jupyter-widgets/base",
          "model_name": "LayoutModel",
          "model_module_version": "1.2.0",
          "state": {
            "_model_module": "@jupyter-widgets/base",
            "_model_module_version": "1.2.0",
            "_model_name": "LayoutModel",
            "_view_count": null,
            "_view_module": "@jupyter-widgets/base",
            "_view_module_version": "1.2.0",
            "_view_name": "LayoutView",
            "align_content": null,
            "align_items": null,
            "align_self": null,
            "border": null,
            "bottom": null,
            "display": null,
            "flex": null,
            "flex_flow": null,
            "grid_area": null,
            "grid_auto_columns": null,
            "grid_auto_flow": null,
            "grid_auto_rows": null,
            "grid_column": null,
            "grid_gap": null,
            "grid_row": null,
            "grid_template_areas": null,
            "grid_template_columns": null,
            "grid_template_rows": null,
            "height": null,
            "justify_content": null,
            "justify_items": null,
            "left": null,
            "margin": null,
            "max_height": null,
            "max_width": null,
            "min_height": null,
            "min_width": null,
            "object_fit": null,
            "object_position": null,
            "order": null,
            "overflow": null,
            "overflow_x": null,
            "overflow_y": null,
            "padding": null,
            "right": null,
            "top": null,
            "visibility": null,
            "width": null
          }
        },
        "754d7bdfca3447959dd88d0353a81ad4": {
          "model_module": "@jupyter-widgets/controls",
          "model_name": "ProgressStyleModel",
          "model_module_version": "1.5.0",
          "state": {
            "_model_module": "@jupyter-widgets/controls",
            "_model_module_version": "1.5.0",
            "_model_name": "ProgressStyleModel",
            "_view_count": null,
            "_view_module": "@jupyter-widgets/base",
            "_view_module_version": "1.2.0",
            "_view_name": "StyleView",
            "bar_color": null,
            "description_width": ""
          }
        },
        "886b673473e9401a9867fc0a3ad86bec": {
          "model_module": "@jupyter-widgets/base",
          "model_name": "LayoutModel",
          "model_module_version": "1.2.0",
          "state": {
            "_model_module": "@jupyter-widgets/base",
            "_model_module_version": "1.2.0",
            "_model_name": "LayoutModel",
            "_view_count": null,
            "_view_module": "@jupyter-widgets/base",
            "_view_module_version": "1.2.0",
            "_view_name": "LayoutView",
            "align_content": null,
            "align_items": null,
            "align_self": null,
            "border": null,
            "bottom": null,
            "display": null,
            "flex": null,
            "flex_flow": null,
            "grid_area": null,
            "grid_auto_columns": null,
            "grid_auto_flow": null,
            "grid_auto_rows": null,
            "grid_column": null,
            "grid_gap": null,
            "grid_row": null,
            "grid_template_areas": null,
            "grid_template_columns": null,
            "grid_template_rows": null,
            "height": null,
            "justify_content": null,
            "justify_items": null,
            "left": null,
            "margin": null,
            "max_height": null,
            "max_width": null,
            "min_height": null,
            "min_width": null,
            "object_fit": null,
            "object_position": null,
            "order": null,
            "overflow": null,
            "overflow_x": null,
            "overflow_y": null,
            "padding": null,
            "right": null,
            "top": null,
            "visibility": null,
            "width": null
          }
        },
        "01a61657dcdc422999164492febdc7e2": {
          "model_module": "@jupyter-widgets/controls",
          "model_name": "DescriptionStyleModel",
          "model_module_version": "1.5.0",
          "state": {
            "_model_module": "@jupyter-widgets/controls",
            "_model_module_version": "1.5.0",
            "_model_name": "DescriptionStyleModel",
            "_view_count": null,
            "_view_module": "@jupyter-widgets/base",
            "_view_module_version": "1.2.0",
            "_view_name": "StyleView",
            "description_width": ""
          }
        },
        "e15226d8c8284cb78e8ab4bb460b6fcd": {
          "model_module": "@jupyter-widgets/controls",
          "model_name": "HBoxModel",
          "model_module_version": "1.5.0",
          "state": {
            "_dom_classes": [],
            "_model_module": "@jupyter-widgets/controls",
            "_model_module_version": "1.5.0",
            "_model_name": "HBoxModel",
            "_view_count": null,
            "_view_module": "@jupyter-widgets/controls",
            "_view_module_version": "1.5.0",
            "_view_name": "HBoxView",
            "box_style": "",
            "children": [
              "IPY_MODEL_0806f570bc6245d3becd495f2866362d",
              "IPY_MODEL_6d106d688d674fd8bba210b927979255",
              "IPY_MODEL_3f435b3c79174a0288e9253aa3deac64"
            ],
            "layout": "IPY_MODEL_16ebee2b31104ddda76d5c3d7b74d733"
          }
        },
        "0806f570bc6245d3becd495f2866362d": {
          "model_module": "@jupyter-widgets/controls",
          "model_name": "HTMLModel",
          "model_module_version": "1.5.0",
          "state": {
            "_dom_classes": [],
            "_model_module": "@jupyter-widgets/controls",
            "_model_module_version": "1.5.0",
            "_model_name": "HTMLModel",
            "_view_count": null,
            "_view_module": "@jupyter-widgets/controls",
            "_view_module_version": "1.5.0",
            "_view_name": "HTMLView",
            "description": "",
            "description_tooltip": null,
            "layout": "IPY_MODEL_b0de6b73f7304eb6bb92739f28898bda",
            "placeholder": "​",
            "style": "IPY_MODEL_d103f92c89a64e7ab5e7bc88b0e97497",
            "value": "Downloading: 100%"
          }
        },
        "6d106d688d674fd8bba210b927979255": {
          "model_module": "@jupyter-widgets/controls",
          "model_name": "FloatProgressModel",
          "model_module_version": "1.5.0",
          "state": {
            "_dom_classes": [],
            "_model_module": "@jupyter-widgets/controls",
            "_model_module_version": "1.5.0",
            "_model_name": "FloatProgressModel",
            "_view_count": null,
            "_view_module": "@jupyter-widgets/controls",
            "_view_module_version": "1.5.0",
            "_view_name": "ProgressView",
            "bar_style": "success",
            "description": "",
            "description_tooltip": null,
            "layout": "IPY_MODEL_073719e193504b25b08d2e61374cbc8e",
            "max": 570,
            "min": 0,
            "orientation": "horizontal",
            "style": "IPY_MODEL_4fee5e37a1ad4ee8a9d165ae7bcd483b",
            "value": 570
          }
        },
        "3f435b3c79174a0288e9253aa3deac64": {
          "model_module": "@jupyter-widgets/controls",
          "model_name": "HTMLModel",
          "model_module_version": "1.5.0",
          "state": {
            "_dom_classes": [],
            "_model_module": "@jupyter-widgets/controls",
            "_model_module_version": "1.5.0",
            "_model_name": "HTMLModel",
            "_view_count": null,
            "_view_module": "@jupyter-widgets/controls",
            "_view_module_version": "1.5.0",
            "_view_name": "HTMLView",
            "description": "",
            "description_tooltip": null,
            "layout": "IPY_MODEL_1b1975c204ad4f5b88458e184943b6eb",
            "placeholder": "​",
            "style": "IPY_MODEL_62f0e12213054ef886cdc3427cbec8b3",
            "value": " 570/570 [00:00&lt;00:00, 14.9kB/s]"
          }
        },
        "16ebee2b31104ddda76d5c3d7b74d733": {
          "model_module": "@jupyter-widgets/base",
          "model_name": "LayoutModel",
          "model_module_version": "1.2.0",
          "state": {
            "_model_module": "@jupyter-widgets/base",
            "_model_module_version": "1.2.0",
            "_model_name": "LayoutModel",
            "_view_count": null,
            "_view_module": "@jupyter-widgets/base",
            "_view_module_version": "1.2.0",
            "_view_name": "LayoutView",
            "align_content": null,
            "align_items": null,
            "align_self": null,
            "border": null,
            "bottom": null,
            "display": null,
            "flex": null,
            "flex_flow": null,
            "grid_area": null,
            "grid_auto_columns": null,
            "grid_auto_flow": null,
            "grid_auto_rows": null,
            "grid_column": null,
            "grid_gap": null,
            "grid_row": null,
            "grid_template_areas": null,
            "grid_template_columns": null,
            "grid_template_rows": null,
            "height": null,
            "justify_content": null,
            "justify_items": null,
            "left": null,
            "margin": null,
            "max_height": null,
            "max_width": null,
            "min_height": null,
            "min_width": null,
            "object_fit": null,
            "object_position": null,
            "order": null,
            "overflow": null,
            "overflow_x": null,
            "overflow_y": null,
            "padding": null,
            "right": null,
            "top": null,
            "visibility": null,
            "width": null
          }
        },
        "b0de6b73f7304eb6bb92739f28898bda": {
          "model_module": "@jupyter-widgets/base",
          "model_name": "LayoutModel",
          "model_module_version": "1.2.0",
          "state": {
            "_model_module": "@jupyter-widgets/base",
            "_model_module_version": "1.2.0",
            "_model_name": "LayoutModel",
            "_view_count": null,
            "_view_module": "@jupyter-widgets/base",
            "_view_module_version": "1.2.0",
            "_view_name": "LayoutView",
            "align_content": null,
            "align_items": null,
            "align_self": null,
            "border": null,
            "bottom": null,
            "display": null,
            "flex": null,
            "flex_flow": null,
            "grid_area": null,
            "grid_auto_columns": null,
            "grid_auto_flow": null,
            "grid_auto_rows": null,
            "grid_column": null,
            "grid_gap": null,
            "grid_row": null,
            "grid_template_areas": null,
            "grid_template_columns": null,
            "grid_template_rows": null,
            "height": null,
            "justify_content": null,
            "justify_items": null,
            "left": null,
            "margin": null,
            "max_height": null,
            "max_width": null,
            "min_height": null,
            "min_width": null,
            "object_fit": null,
            "object_position": null,
            "order": null,
            "overflow": null,
            "overflow_x": null,
            "overflow_y": null,
            "padding": null,
            "right": null,
            "top": null,
            "visibility": null,
            "width": null
          }
        },
        "d103f92c89a64e7ab5e7bc88b0e97497": {
          "model_module": "@jupyter-widgets/controls",
          "model_name": "DescriptionStyleModel",
          "model_module_version": "1.5.0",
          "state": {
            "_model_module": "@jupyter-widgets/controls",
            "_model_module_version": "1.5.0",
            "_model_name": "DescriptionStyleModel",
            "_view_count": null,
            "_view_module": "@jupyter-widgets/base",
            "_view_module_version": "1.2.0",
            "_view_name": "StyleView",
            "description_width": ""
          }
        },
        "073719e193504b25b08d2e61374cbc8e": {
          "model_module": "@jupyter-widgets/base",
          "model_name": "LayoutModel",
          "model_module_version": "1.2.0",
          "state": {
            "_model_module": "@jupyter-widgets/base",
            "_model_module_version": "1.2.0",
            "_model_name": "LayoutModel",
            "_view_count": null,
            "_view_module": "@jupyter-widgets/base",
            "_view_module_version": "1.2.0",
            "_view_name": "LayoutView",
            "align_content": null,
            "align_items": null,
            "align_self": null,
            "border": null,
            "bottom": null,
            "display": null,
            "flex": null,
            "flex_flow": null,
            "grid_area": null,
            "grid_auto_columns": null,
            "grid_auto_flow": null,
            "grid_auto_rows": null,
            "grid_column": null,
            "grid_gap": null,
            "grid_row": null,
            "grid_template_areas": null,
            "grid_template_columns": null,
            "grid_template_rows": null,
            "height": null,
            "justify_content": null,
            "justify_items": null,
            "left": null,
            "margin": null,
            "max_height": null,
            "max_width": null,
            "min_height": null,
            "min_width": null,
            "object_fit": null,
            "object_position": null,
            "order": null,
            "overflow": null,
            "overflow_x": null,
            "overflow_y": null,
            "padding": null,
            "right": null,
            "top": null,
            "visibility": null,
            "width": null
          }
        },
        "4fee5e37a1ad4ee8a9d165ae7bcd483b": {
          "model_module": "@jupyter-widgets/controls",
          "model_name": "ProgressStyleModel",
          "model_module_version": "1.5.0",
          "state": {
            "_model_module": "@jupyter-widgets/controls",
            "_model_module_version": "1.5.0",
            "_model_name": "ProgressStyleModel",
            "_view_count": null,
            "_view_module": "@jupyter-widgets/base",
            "_view_module_version": "1.2.0",
            "_view_name": "StyleView",
            "bar_color": null,
            "description_width": ""
          }
        },
        "1b1975c204ad4f5b88458e184943b6eb": {
          "model_module": "@jupyter-widgets/base",
          "model_name": "LayoutModel",
          "model_module_version": "1.2.0",
          "state": {
            "_model_module": "@jupyter-widgets/base",
            "_model_module_version": "1.2.0",
            "_model_name": "LayoutModel",
            "_view_count": null,
            "_view_module": "@jupyter-widgets/base",
            "_view_module_version": "1.2.0",
            "_view_name": "LayoutView",
            "align_content": null,
            "align_items": null,
            "align_self": null,
            "border": null,
            "bottom": null,
            "display": null,
            "flex": null,
            "flex_flow": null,
            "grid_area": null,
            "grid_auto_columns": null,
            "grid_auto_flow": null,
            "grid_auto_rows": null,
            "grid_column": null,
            "grid_gap": null,
            "grid_row": null,
            "grid_template_areas": null,
            "grid_template_columns": null,
            "grid_template_rows": null,
            "height": null,
            "justify_content": null,
            "justify_items": null,
            "left": null,
            "margin": null,
            "max_height": null,
            "max_width": null,
            "min_height": null,
            "min_width": null,
            "object_fit": null,
            "object_position": null,
            "order": null,
            "overflow": null,
            "overflow_x": null,
            "overflow_y": null,
            "padding": null,
            "right": null,
            "top": null,
            "visibility": null,
            "width": null
          }
        },
        "62f0e12213054ef886cdc3427cbec8b3": {
          "model_module": "@jupyter-widgets/controls",
          "model_name": "DescriptionStyleModel",
          "model_module_version": "1.5.0",
          "state": {
            "_model_module": "@jupyter-widgets/controls",
            "_model_module_version": "1.5.0",
            "_model_name": "DescriptionStyleModel",
            "_view_count": null,
            "_view_module": "@jupyter-widgets/base",
            "_view_module_version": "1.2.0",
            "_view_name": "StyleView",
            "description_width": ""
          }
        },
        "d6af165883324379a29443258e4dbd72": {
          "model_module": "@jupyter-widgets/controls",
          "model_name": "HBoxModel",
          "model_module_version": "1.5.0",
          "state": {
            "_dom_classes": [],
            "_model_module": "@jupyter-widgets/controls",
            "_model_module_version": "1.5.0",
            "_model_name": "HBoxModel",
            "_view_count": null,
            "_view_module": "@jupyter-widgets/controls",
            "_view_module_version": "1.5.0",
            "_view_name": "HBoxView",
            "box_style": "",
            "children": [
              "IPY_MODEL_c121bc9a44a447959694106676bc6d49",
              "IPY_MODEL_c7576383e25547588a496022d4131fa6",
              "IPY_MODEL_c2bfed114279462bb2f22dfe2084e2a3"
            ],
            "layout": "IPY_MODEL_c33d3d0836b5426faff94d148701cb08"
          }
        },
        "c121bc9a44a447959694106676bc6d49": {
          "model_module": "@jupyter-widgets/controls",
          "model_name": "HTMLModel",
          "model_module_version": "1.5.0",
          "state": {
            "_dom_classes": [],
            "_model_module": "@jupyter-widgets/controls",
            "_model_module_version": "1.5.0",
            "_model_name": "HTMLModel",
            "_view_count": null,
            "_view_module": "@jupyter-widgets/controls",
            "_view_module_version": "1.5.0",
            "_view_name": "HTMLView",
            "description": "",
            "description_tooltip": null,
            "layout": "IPY_MODEL_7051eaa0ca904a6abff002141aeffeaa",
            "placeholder": "​",
            "style": "IPY_MODEL_e39ca377316640d8bfb46bcff6966cbe",
            "value": "Downloading: 100%"
          }
        },
        "c7576383e25547588a496022d4131fa6": {
          "model_module": "@jupyter-widgets/controls",
          "model_name": "FloatProgressModel",
          "model_module_version": "1.5.0",
          "state": {
            "_dom_classes": [],
            "_model_module": "@jupyter-widgets/controls",
            "_model_module_version": "1.5.0",
            "_model_name": "FloatProgressModel",
            "_view_count": null,
            "_view_module": "@jupyter-widgets/controls",
            "_view_module_version": "1.5.0",
            "_view_name": "ProgressView",
            "bar_style": "success",
            "description": "",
            "description_tooltip": null,
            "layout": "IPY_MODEL_7b20452005204db6ad8a44e3728f87d9",
            "max": 213450,
            "min": 0,
            "orientation": "horizontal",
            "style": "IPY_MODEL_8cf7b55df5764616b3cd1a0830a89bc3",
            "value": 213450
          }
        },
        "c2bfed114279462bb2f22dfe2084e2a3": {
          "model_module": "@jupyter-widgets/controls",
          "model_name": "HTMLModel",
          "model_module_version": "1.5.0",
          "state": {
            "_dom_classes": [],
            "_model_module": "@jupyter-widgets/controls",
            "_model_module_version": "1.5.0",
            "_model_name": "HTMLModel",
            "_view_count": null,
            "_view_module": "@jupyter-widgets/controls",
            "_view_module_version": "1.5.0",
            "_view_name": "HTMLView",
            "description": "",
            "description_tooltip": null,
            "layout": "IPY_MODEL_b275491c88d34714ab5f122c6a92e569",
            "placeholder": "​",
            "style": "IPY_MODEL_9694a0e13bcd495e86ac7d8f65c731a0",
            "value": " 208k/208k [00:00&lt;00:00, 1.13MB/s]"
          }
        },
        "c33d3d0836b5426faff94d148701cb08": {
          "model_module": "@jupyter-widgets/base",
          "model_name": "LayoutModel",
          "model_module_version": "1.2.0",
          "state": {
            "_model_module": "@jupyter-widgets/base",
            "_model_module_version": "1.2.0",
            "_model_name": "LayoutModel",
            "_view_count": null,
            "_view_module": "@jupyter-widgets/base",
            "_view_module_version": "1.2.0",
            "_view_name": "LayoutView",
            "align_content": null,
            "align_items": null,
            "align_self": null,
            "border": null,
            "bottom": null,
            "display": null,
            "flex": null,
            "flex_flow": null,
            "grid_area": null,
            "grid_auto_columns": null,
            "grid_auto_flow": null,
            "grid_auto_rows": null,
            "grid_column": null,
            "grid_gap": null,
            "grid_row": null,
            "grid_template_areas": null,
            "grid_template_columns": null,
            "grid_template_rows": null,
            "height": null,
            "justify_content": null,
            "justify_items": null,
            "left": null,
            "margin": null,
            "max_height": null,
            "max_width": null,
            "min_height": null,
            "min_width": null,
            "object_fit": null,
            "object_position": null,
            "order": null,
            "overflow": null,
            "overflow_x": null,
            "overflow_y": null,
            "padding": null,
            "right": null,
            "top": null,
            "visibility": null,
            "width": null
          }
        },
        "7051eaa0ca904a6abff002141aeffeaa": {
          "model_module": "@jupyter-widgets/base",
          "model_name": "LayoutModel",
          "model_module_version": "1.2.0",
          "state": {
            "_model_module": "@jupyter-widgets/base",
            "_model_module_version": "1.2.0",
            "_model_name": "LayoutModel",
            "_view_count": null,
            "_view_module": "@jupyter-widgets/base",
            "_view_module_version": "1.2.0",
            "_view_name": "LayoutView",
            "align_content": null,
            "align_items": null,
            "align_self": null,
            "border": null,
            "bottom": null,
            "display": null,
            "flex": null,
            "flex_flow": null,
            "grid_area": null,
            "grid_auto_columns": null,
            "grid_auto_flow": null,
            "grid_auto_rows": null,
            "grid_column": null,
            "grid_gap": null,
            "grid_row": null,
            "grid_template_areas": null,
            "grid_template_columns": null,
            "grid_template_rows": null,
            "height": null,
            "justify_content": null,
            "justify_items": null,
            "left": null,
            "margin": null,
            "max_height": null,
            "max_width": null,
            "min_height": null,
            "min_width": null,
            "object_fit": null,
            "object_position": null,
            "order": null,
            "overflow": null,
            "overflow_x": null,
            "overflow_y": null,
            "padding": null,
            "right": null,
            "top": null,
            "visibility": null,
            "width": null
          }
        },
        "e39ca377316640d8bfb46bcff6966cbe": {
          "model_module": "@jupyter-widgets/controls",
          "model_name": "DescriptionStyleModel",
          "model_module_version": "1.5.0",
          "state": {
            "_model_module": "@jupyter-widgets/controls",
            "_model_module_version": "1.5.0",
            "_model_name": "DescriptionStyleModel",
            "_view_count": null,
            "_view_module": "@jupyter-widgets/base",
            "_view_module_version": "1.2.0",
            "_view_name": "StyleView",
            "description_width": ""
          }
        },
        "7b20452005204db6ad8a44e3728f87d9": {
          "model_module": "@jupyter-widgets/base",
          "model_name": "LayoutModel",
          "model_module_version": "1.2.0",
          "state": {
            "_model_module": "@jupyter-widgets/base",
            "_model_module_version": "1.2.0",
            "_model_name": "LayoutModel",
            "_view_count": null,
            "_view_module": "@jupyter-widgets/base",
            "_view_module_version": "1.2.0",
            "_view_name": "LayoutView",
            "align_content": null,
            "align_items": null,
            "align_self": null,
            "border": null,
            "bottom": null,
            "display": null,
            "flex": null,
            "flex_flow": null,
            "grid_area": null,
            "grid_auto_columns": null,
            "grid_auto_flow": null,
            "grid_auto_rows": null,
            "grid_column": null,
            "grid_gap": null,
            "grid_row": null,
            "grid_template_areas": null,
            "grid_template_columns": null,
            "grid_template_rows": null,
            "height": null,
            "justify_content": null,
            "justify_items": null,
            "left": null,
            "margin": null,
            "max_height": null,
            "max_width": null,
            "min_height": null,
            "min_width": null,
            "object_fit": null,
            "object_position": null,
            "order": null,
            "overflow": null,
            "overflow_x": null,
            "overflow_y": null,
            "padding": null,
            "right": null,
            "top": null,
            "visibility": null,
            "width": null
          }
        },
        "8cf7b55df5764616b3cd1a0830a89bc3": {
          "model_module": "@jupyter-widgets/controls",
          "model_name": "ProgressStyleModel",
          "model_module_version": "1.5.0",
          "state": {
            "_model_module": "@jupyter-widgets/controls",
            "_model_module_version": "1.5.0",
            "_model_name": "ProgressStyleModel",
            "_view_count": null,
            "_view_module": "@jupyter-widgets/base",
            "_view_module_version": "1.2.0",
            "_view_name": "StyleView",
            "bar_color": null,
            "description_width": ""
          }
        },
        "b275491c88d34714ab5f122c6a92e569": {
          "model_module": "@jupyter-widgets/base",
          "model_name": "LayoutModel",
          "model_module_version": "1.2.0",
          "state": {
            "_model_module": "@jupyter-widgets/base",
            "_model_module_version": "1.2.0",
            "_model_name": "LayoutModel",
            "_view_count": null,
            "_view_module": "@jupyter-widgets/base",
            "_view_module_version": "1.2.0",
            "_view_name": "LayoutView",
            "align_content": null,
            "align_items": null,
            "align_self": null,
            "border": null,
            "bottom": null,
            "display": null,
            "flex": null,
            "flex_flow": null,
            "grid_area": null,
            "grid_auto_columns": null,
            "grid_auto_flow": null,
            "grid_auto_rows": null,
            "grid_column": null,
            "grid_gap": null,
            "grid_row": null,
            "grid_template_areas": null,
            "grid_template_columns": null,
            "grid_template_rows": null,
            "height": null,
            "justify_content": null,
            "justify_items": null,
            "left": null,
            "margin": null,
            "max_height": null,
            "max_width": null,
            "min_height": null,
            "min_width": null,
            "object_fit": null,
            "object_position": null,
            "order": null,
            "overflow": null,
            "overflow_x": null,
            "overflow_y": null,
            "padding": null,
            "right": null,
            "top": null,
            "visibility": null,
            "width": null
          }
        },
        "9694a0e13bcd495e86ac7d8f65c731a0": {
          "model_module": "@jupyter-widgets/controls",
          "model_name": "DescriptionStyleModel",
          "model_module_version": "1.5.0",
          "state": {
            "_model_module": "@jupyter-widgets/controls",
            "_model_module_version": "1.5.0",
            "_model_name": "DescriptionStyleModel",
            "_view_count": null,
            "_view_module": "@jupyter-widgets/base",
            "_view_module_version": "1.2.0",
            "_view_name": "StyleView",
            "description_width": ""
          }
        },
        "8dd91d9d6d1c4657a5ae41f5409d5e3b": {
          "model_module": "@jupyter-widgets/controls",
          "model_name": "HBoxModel",
          "model_module_version": "1.5.0",
          "state": {
            "_dom_classes": [],
            "_model_module": "@jupyter-widgets/controls",
            "_model_module_version": "1.5.0",
            "_model_name": "HBoxModel",
            "_view_count": null,
            "_view_module": "@jupyter-widgets/controls",
            "_view_module_version": "1.5.0",
            "_view_name": "HBoxView",
            "box_style": "",
            "children": [
              "IPY_MODEL_6019de3d9e0f4f5fac798c52db8e67df",
              "IPY_MODEL_898c014efd1042f680095d48f0001be6",
              "IPY_MODEL_02aa64395baf41dd8bec520483467f47"
            ],
            "layout": "IPY_MODEL_d12733df131540a7b204653f182b47c3"
          }
        },
        "6019de3d9e0f4f5fac798c52db8e67df": {
          "model_module": "@jupyter-widgets/controls",
          "model_name": "HTMLModel",
          "model_module_version": "1.5.0",
          "state": {
            "_dom_classes": [],
            "_model_module": "@jupyter-widgets/controls",
            "_model_module_version": "1.5.0",
            "_model_name": "HTMLModel",
            "_view_count": null,
            "_view_module": "@jupyter-widgets/controls",
            "_view_module_version": "1.5.0",
            "_view_name": "HTMLView",
            "description": "",
            "description_tooltip": null,
            "layout": "IPY_MODEL_b3ca3cf46069415a946d7c3f7b1bfc20",
            "placeholder": "​",
            "style": "IPY_MODEL_7b29e9fdd0154e6095898cc9b26eeeec",
            "value": "Downloading: 100%"
          }
        },
        "898c014efd1042f680095d48f0001be6": {
          "model_module": "@jupyter-widgets/controls",
          "model_name": "FloatProgressModel",
          "model_module_version": "1.5.0",
          "state": {
            "_dom_classes": [],
            "_model_module": "@jupyter-widgets/controls",
            "_model_module_version": "1.5.0",
            "_model_name": "FloatProgressModel",
            "_view_count": null,
            "_view_module": "@jupyter-widgets/controls",
            "_view_module_version": "1.5.0",
            "_view_name": "ProgressView",
            "bar_style": "success",
            "description": "",
            "description_tooltip": null,
            "layout": "IPY_MODEL_ffd4a99b2a0644db8a12bfac7a5966b4",
            "max": 435797,
            "min": 0,
            "orientation": "horizontal",
            "style": "IPY_MODEL_4376dde68cef45feb567243f71b7548a",
            "value": 435797
          }
        },
        "02aa64395baf41dd8bec520483467f47": {
          "model_module": "@jupyter-widgets/controls",
          "model_name": "HTMLModel",
          "model_module_version": "1.5.0",
          "state": {
            "_dom_classes": [],
            "_model_module": "@jupyter-widgets/controls",
            "_model_module_version": "1.5.0",
            "_model_name": "HTMLModel",
            "_view_count": null,
            "_view_module": "@jupyter-widgets/controls",
            "_view_module_version": "1.5.0",
            "_view_name": "HTMLView",
            "description": "",
            "description_tooltip": null,
            "layout": "IPY_MODEL_f1af116d608f45e0ba2ee7e1a446d8fa",
            "placeholder": "​",
            "style": "IPY_MODEL_ec1b7420be65407f8d071578d3e61d4f",
            "value": " 426k/426k [00:00&lt;00:00, 1.47MB/s]"
          }
        },
        "d12733df131540a7b204653f182b47c3": {
          "model_module": "@jupyter-widgets/base",
          "model_name": "LayoutModel",
          "model_module_version": "1.2.0",
          "state": {
            "_model_module": "@jupyter-widgets/base",
            "_model_module_version": "1.2.0",
            "_model_name": "LayoutModel",
            "_view_count": null,
            "_view_module": "@jupyter-widgets/base",
            "_view_module_version": "1.2.0",
            "_view_name": "LayoutView",
            "align_content": null,
            "align_items": null,
            "align_self": null,
            "border": null,
            "bottom": null,
            "display": null,
            "flex": null,
            "flex_flow": null,
            "grid_area": null,
            "grid_auto_columns": null,
            "grid_auto_flow": null,
            "grid_auto_rows": null,
            "grid_column": null,
            "grid_gap": null,
            "grid_row": null,
            "grid_template_areas": null,
            "grid_template_columns": null,
            "grid_template_rows": null,
            "height": null,
            "justify_content": null,
            "justify_items": null,
            "left": null,
            "margin": null,
            "max_height": null,
            "max_width": null,
            "min_height": null,
            "min_width": null,
            "object_fit": null,
            "object_position": null,
            "order": null,
            "overflow": null,
            "overflow_x": null,
            "overflow_y": null,
            "padding": null,
            "right": null,
            "top": null,
            "visibility": null,
            "width": null
          }
        },
        "b3ca3cf46069415a946d7c3f7b1bfc20": {
          "model_module": "@jupyter-widgets/base",
          "model_name": "LayoutModel",
          "model_module_version": "1.2.0",
          "state": {
            "_model_module": "@jupyter-widgets/base",
            "_model_module_version": "1.2.0",
            "_model_name": "LayoutModel",
            "_view_count": null,
            "_view_module": "@jupyter-widgets/base",
            "_view_module_version": "1.2.0",
            "_view_name": "LayoutView",
            "align_content": null,
            "align_items": null,
            "align_self": null,
            "border": null,
            "bottom": null,
            "display": null,
            "flex": null,
            "flex_flow": null,
            "grid_area": null,
            "grid_auto_columns": null,
            "grid_auto_flow": null,
            "grid_auto_rows": null,
            "grid_column": null,
            "grid_gap": null,
            "grid_row": null,
            "grid_template_areas": null,
            "grid_template_columns": null,
            "grid_template_rows": null,
            "height": null,
            "justify_content": null,
            "justify_items": null,
            "left": null,
            "margin": null,
            "max_height": null,
            "max_width": null,
            "min_height": null,
            "min_width": null,
            "object_fit": null,
            "object_position": null,
            "order": null,
            "overflow": null,
            "overflow_x": null,
            "overflow_y": null,
            "padding": null,
            "right": null,
            "top": null,
            "visibility": null,
            "width": null
          }
        },
        "7b29e9fdd0154e6095898cc9b26eeeec": {
          "model_module": "@jupyter-widgets/controls",
          "model_name": "DescriptionStyleModel",
          "model_module_version": "1.5.0",
          "state": {
            "_model_module": "@jupyter-widgets/controls",
            "_model_module_version": "1.5.0",
            "_model_name": "DescriptionStyleModel",
            "_view_count": null,
            "_view_module": "@jupyter-widgets/base",
            "_view_module_version": "1.2.0",
            "_view_name": "StyleView",
            "description_width": ""
          }
        },
        "ffd4a99b2a0644db8a12bfac7a5966b4": {
          "model_module": "@jupyter-widgets/base",
          "model_name": "LayoutModel",
          "model_module_version": "1.2.0",
          "state": {
            "_model_module": "@jupyter-widgets/base",
            "_model_module_version": "1.2.0",
            "_model_name": "LayoutModel",
            "_view_count": null,
            "_view_module": "@jupyter-widgets/base",
            "_view_module_version": "1.2.0",
            "_view_name": "LayoutView",
            "align_content": null,
            "align_items": null,
            "align_self": null,
            "border": null,
            "bottom": null,
            "display": null,
            "flex": null,
            "flex_flow": null,
            "grid_area": null,
            "grid_auto_columns": null,
            "grid_auto_flow": null,
            "grid_auto_rows": null,
            "grid_column": null,
            "grid_gap": null,
            "grid_row": null,
            "grid_template_areas": null,
            "grid_template_columns": null,
            "grid_template_rows": null,
            "height": null,
            "justify_content": null,
            "justify_items": null,
            "left": null,
            "margin": null,
            "max_height": null,
            "max_width": null,
            "min_height": null,
            "min_width": null,
            "object_fit": null,
            "object_position": null,
            "order": null,
            "overflow": null,
            "overflow_x": null,
            "overflow_y": null,
            "padding": null,
            "right": null,
            "top": null,
            "visibility": null,
            "width": null
          }
        },
        "4376dde68cef45feb567243f71b7548a": {
          "model_module": "@jupyter-widgets/controls",
          "model_name": "ProgressStyleModel",
          "model_module_version": "1.5.0",
          "state": {
            "_model_module": "@jupyter-widgets/controls",
            "_model_module_version": "1.5.0",
            "_model_name": "ProgressStyleModel",
            "_view_count": null,
            "_view_module": "@jupyter-widgets/base",
            "_view_module_version": "1.2.0",
            "_view_name": "StyleView",
            "bar_color": null,
            "description_width": ""
          }
        },
        "f1af116d608f45e0ba2ee7e1a446d8fa": {
          "model_module": "@jupyter-widgets/base",
          "model_name": "LayoutModel",
          "model_module_version": "1.2.0",
          "state": {
            "_model_module": "@jupyter-widgets/base",
            "_model_module_version": "1.2.0",
            "_model_name": "LayoutModel",
            "_view_count": null,
            "_view_module": "@jupyter-widgets/base",
            "_view_module_version": "1.2.0",
            "_view_name": "LayoutView",
            "align_content": null,
            "align_items": null,
            "align_self": null,
            "border": null,
            "bottom": null,
            "display": null,
            "flex": null,
            "flex_flow": null,
            "grid_area": null,
            "grid_auto_columns": null,
            "grid_auto_flow": null,
            "grid_auto_rows": null,
            "grid_column": null,
            "grid_gap": null,
            "grid_row": null,
            "grid_template_areas": null,
            "grid_template_columns": null,
            "grid_template_rows": null,
            "height": null,
            "justify_content": null,
            "justify_items": null,
            "left": null,
            "margin": null,
            "max_height": null,
            "max_width": null,
            "min_height": null,
            "min_width": null,
            "object_fit": null,
            "object_position": null,
            "order": null,
            "overflow": null,
            "overflow_x": null,
            "overflow_y": null,
            "padding": null,
            "right": null,
            "top": null,
            "visibility": null,
            "width": null
          }
        },
        "ec1b7420be65407f8d071578d3e61d4f": {
          "model_module": "@jupyter-widgets/controls",
          "model_name": "DescriptionStyleModel",
          "model_module_version": "1.5.0",
          "state": {
            "_model_module": "@jupyter-widgets/controls",
            "_model_module_version": "1.5.0",
            "_model_name": "DescriptionStyleModel",
            "_view_count": null,
            "_view_module": "@jupyter-widgets/base",
            "_view_module_version": "1.2.0",
            "_view_name": "StyleView",
            "description_width": ""
          }
        }
      }
    }
  },
  "cells": [
    {
      "cell_type": "markdown",
      "metadata": {
        "id": "view-in-github",
        "colab_type": "text"
      },
      "source": [
        "<a href=\"https://colab.research.google.com/github/dragosconst/Anomaly-Detection/blob/main/Anomaly_Detection.ipynb\" target=\"_parent\"><img src=\"https://colab.research.google.com/assets/colab-badge.svg\" alt=\"Open In Colab\"/></a>"
      ]
    },
    {
      "cell_type": "markdown",
      "source": [
        "# Env preparation"
      ],
      "metadata": {
        "id": "Jsu1giy6gMF0"
      }
    },
    {
      "cell_type": "code",
      "source": [
        "from google.colab import drive\n",
        "drive.mount('/content/drive')"
      ],
      "metadata": {
        "id": "e8EM87UlEjhI",
        "colab": {
          "base_uri": "https://localhost:8080/"
        },
        "outputId": "2357887b-b8a0-4f5d-aff5-47f1502a38b1"
      },
      "execution_count": 2,
      "outputs": [
        {
          "output_type": "stream",
          "name": "stdout",
          "text": [
            "Mounted at /content/drive\n"
          ]
        }
      ]
    },
    {
      "cell_type": "code",
      "source": [
        "!unzip \"/content/drive/MyDrive/kaggle_ag_dataset.zip\" -d \"/content/data/\""
      ],
      "metadata": {
        "id": "N5F63qIPFVtw",
        "colab": {
          "base_uri": "https://localhost:8080/"
        },
        "outputId": "735b9ee0-0ca9-4f95-f513-b127bf9fc7b3"
      },
      "execution_count": 3,
      "outputs": [
        {
          "output_type": "stream",
          "name": "stdout",
          "text": [
            "Archive:  /content/drive/MyDrive/kaggle_ag_dataset.zip\n",
            "  inflating: /content/data/test.csv  \n",
            "  inflating: /content/data/train.csv  \n"
          ]
        }
      ]
    },
    {
      "cell_type": "markdown",
      "source": [
        "# Imports and global constants"
      ],
      "metadata": {
        "id": "VwqgUl3Rc1S6"
      }
    },
    {
      "cell_type": "code",
      "source": [
        "!pip install transformers"
      ],
      "metadata": {
        "id": "fkxk9x9jfGE9",
        "colab": {
          "base_uri": "https://localhost:8080/"
        },
        "outputId": "a1b59308-2428-464a-a1aa-81f0bb6526f7"
      },
      "execution_count": 4,
      "outputs": [
        {
          "output_type": "stream",
          "name": "stdout",
          "text": [
            "Collecting transformers\n",
            "  Downloading transformers-4.18.0-py3-none-any.whl (4.0 MB)\n",
            "\u001b[K     |████████████████████████████████| 4.0 MB 5.2 MB/s \n",
            "\u001b[?25hRequirement already satisfied: regex!=2019.12.17 in /usr/local/lib/python3.7/dist-packages (from transformers) (2019.12.20)\n",
            "Collecting tokenizers!=0.11.3,<0.13,>=0.11.1\n",
            "  Downloading tokenizers-0.11.6-cp37-cp37m-manylinux_2_12_x86_64.manylinux2010_x86_64.whl (6.5 MB)\n",
            "\u001b[K     |████████████████████████████████| 6.5 MB 35.7 MB/s \n",
            "\u001b[?25hCollecting sacremoses\n",
            "  Downloading sacremoses-0.0.49-py3-none-any.whl (895 kB)\n",
            "\u001b[K     |████████████████████████████████| 895 kB 52.4 MB/s \n",
            "\u001b[?25hRequirement already satisfied: filelock in /usr/local/lib/python3.7/dist-packages (from transformers) (3.6.0)\n",
            "Requirement already satisfied: numpy>=1.17 in /usr/local/lib/python3.7/dist-packages (from transformers) (1.21.5)\n",
            "Requirement already satisfied: tqdm>=4.27 in /usr/local/lib/python3.7/dist-packages (from transformers) (4.63.0)\n",
            "Requirement already satisfied: requests in /usr/local/lib/python3.7/dist-packages (from transformers) (2.23.0)\n",
            "Collecting pyyaml>=5.1\n",
            "  Downloading PyYAML-6.0-cp37-cp37m-manylinux_2_5_x86_64.manylinux1_x86_64.manylinux_2_12_x86_64.manylinux2010_x86_64.whl (596 kB)\n",
            "\u001b[K     |████████████████████████████████| 596 kB 48.1 MB/s \n",
            "\u001b[?25hRequirement already satisfied: packaging>=20.0 in /usr/local/lib/python3.7/dist-packages (from transformers) (21.3)\n",
            "Collecting huggingface-hub<1.0,>=0.1.0\n",
            "  Downloading huggingface_hub-0.5.1-py3-none-any.whl (77 kB)\n",
            "\u001b[K     |████████████████████████████████| 77 kB 7.1 MB/s \n",
            "\u001b[?25hRequirement already satisfied: importlib-metadata in /usr/local/lib/python3.7/dist-packages (from transformers) (4.11.3)\n",
            "Requirement already satisfied: typing-extensions>=3.7.4.3 in /usr/local/lib/python3.7/dist-packages (from huggingface-hub<1.0,>=0.1.0->transformers) (3.10.0.2)\n",
            "Requirement already satisfied: pyparsing!=3.0.5,>=2.0.2 in /usr/local/lib/python3.7/dist-packages (from packaging>=20.0->transformers) (3.0.7)\n",
            "Requirement already satisfied: zipp>=0.5 in /usr/local/lib/python3.7/dist-packages (from importlib-metadata->transformers) (3.7.0)\n",
            "Requirement already satisfied: idna<3,>=2.5 in /usr/local/lib/python3.7/dist-packages (from requests->transformers) (2.10)\n",
            "Requirement already satisfied: urllib3!=1.25.0,!=1.25.1,<1.26,>=1.21.1 in /usr/local/lib/python3.7/dist-packages (from requests->transformers) (1.24.3)\n",
            "Requirement already satisfied: certifi>=2017.4.17 in /usr/local/lib/python3.7/dist-packages (from requests->transformers) (2021.10.8)\n",
            "Requirement already satisfied: chardet<4,>=3.0.2 in /usr/local/lib/python3.7/dist-packages (from requests->transformers) (3.0.4)\n",
            "Requirement already satisfied: six in /usr/local/lib/python3.7/dist-packages (from sacremoses->transformers) (1.15.0)\n",
            "Requirement already satisfied: click in /usr/local/lib/python3.7/dist-packages (from sacremoses->transformers) (7.1.2)\n",
            "Requirement already satisfied: joblib in /usr/local/lib/python3.7/dist-packages (from sacremoses->transformers) (1.1.0)\n",
            "Installing collected packages: pyyaml, tokenizers, sacremoses, huggingface-hub, transformers\n",
            "  Attempting uninstall: pyyaml\n",
            "    Found existing installation: PyYAML 3.13\n",
            "    Uninstalling PyYAML-3.13:\n",
            "      Successfully uninstalled PyYAML-3.13\n",
            "Successfully installed huggingface-hub-0.5.1 pyyaml-6.0 sacremoses-0.0.49 tokenizers-0.11.6 transformers-4.18.0\n"
          ]
        }
      ]
    },
    {
      "cell_type": "code",
      "source": [
        "#----------- func typing -----------#\n",
        "from typing import List, Tuple, Dict, Union, Iterable\n",
        "#----------- base libs -------------#\n",
        "import time\n",
        "import csv\n",
        "import random\n",
        "import os\n",
        "import math\n",
        "import copy\n",
        "#----------- progress bar ----------#\n",
        "from tqdm import tqdm\n",
        "#----------- pickle ----------------#\n",
        "import pickle\n",
        "#----------- scikit ----------------#\n",
        "from sklearn.metrics import classification_report, accuracy_score, confusion_matrix, roc_auc_score, roc_curve, auc, plot_roc_curve, RocCurveDisplay\n",
        "from sklearn.model_selection import train_test_split\n",
        "#----------- pytorch ---------------#\n",
        "import torch\n",
        "import torch.nn as nn\n",
        "import torch.nn.functional as F\n",
        "from torch.utils.data import Dataset, DataLoader\n",
        "#----------- numpy -----------------#\n",
        "import numpy as np\n",
        "#----------- huggingface -----------#\n",
        "from transformers import AutoTokenizer, AutoModelForTokenClassification, AutoModel, AutoConfig, AdamW, TrainingArguments, Trainer, pipeline, BertModel, BertConfig,\\\n",
        "                         BertForMaskedLM\n",
        "#----------- plot libs -------------#\n",
        "import seaborn as sn\n",
        "import matplotlib.pyplot as plt\n",
        "\n",
        "sn.set_style(\"darkgrid\")\n",
        "os.environ[\"TOKENIZERS_PARALLELISM\"] = \"false\""
      ],
      "metadata": {
        "id": "o0XeYa_Ic5Dq"
      },
      "execution_count": 37,
      "outputs": []
    },
    {
      "cell_type": "code",
      "source": [
        "train_path = '/content/data/train.csv'\n",
        "test_path = '/content/data/test.csv'"
      ],
      "metadata": {
        "id": "ZUVAqicZgGFJ"
      },
      "execution_count": 6,
      "outputs": []
    },
    {
      "cell_type": "markdown",
      "source": [
        "Let's peek at the data:\n"
      ],
      "metadata": {
        "id": "4NE0jmn_huFE"
      }
    },
    {
      "cell_type": "code",
      "source": [
        "class_bins = np.zeros(4)\n",
        "class_tokens = np.zeros(4)\n",
        "with open(train_path, \"r\") as f:\n",
        "  reader = csv.reader(f)\n",
        "  for idx, row in enumerate(reader):\n",
        "    if idx == 0:\n",
        "      continue\n",
        "    cls, title, desc = row\n",
        "    class_bins[int(cls) - 1] += 1\n",
        "    title_words = len(title.split(\" \"))\n",
        "    desc_words = len(desc.split(\" \")) \n",
        "    class_tokens[int(cls) - 1] += title_words + desc_words\n",
        "fig, ax = plt.subplots(nrows=2, ncols=1, figsize=(10,10))\n",
        "ax[0].bar([\"World\", \"Sports\", \"Business\", \"Sci/Tech \"], class_bins, width = 0.25)\n",
        "ax[0].set_title(\"Datapoints distribution\")\n",
        "ax[1].bar([\"World\", \"Sports\", \"Business\", \"Sci/Tech \"], class_tokens, width = 0.25)\n",
        "ax[1].ticklabel_format(style='plain', axis='y')\n",
        "ax[1].set_title(\"Tokens distribution\")\n",
        "plt.show()"
      ],
      "metadata": {
        "colab": {
          "base_uri": "https://localhost:8080/",
          "height": 607
        },
        "id": "5XX2IYLYiI1e",
        "outputId": "6f0ddd05-7e75-4e4c-96c1-16ead0a064f9"
      },
      "execution_count": 10,
      "outputs": [
        {
          "output_type": "display_data",
          "data": {
            "text/plain": [
              "<Figure size 720x720 with 2 Axes>"
            ],
            "image/png": "[encoded data removed]"
          },
          "metadata": {}
        }
      ]
    },
    {
      "cell_type": "markdown",
      "source": [
        "Huh, the dataset looks very balanced. In this case, we will arbitrarily choose one class to serve as our normal class for training, and the rest will be considered outlier classes."
      ],
      "metadata": {
        "id": "ncraPSyXlbpu"
      }
    },
    {
      "cell_type": "code",
      "source": [
        "normal_class = 2 # we will detect Anomalies on Sports\n",
        "outlier_classes = [1, 3, 4]\n",
        "\n",
        "# I will concatenate titles and descriptions, maybe we could try differentiating them\n",
        "# at training time to compare results\n",
        "normal_class_instances = []\n",
        "with open(train_path, \"r\") as f:\n",
        "  reader = csv.reader(f)\n",
        "  for idx, row in enumerate(reader):\n",
        "    if idx == 0:\n",
        "      continue\n",
        "    cls, title, desc = row\n",
        "    if int(cls) == normal_class:\n",
        "      normal_class_instances.append(title)\n",
        "      normal_class_instances.append(desc)"
      ],
      "metadata": {
        "id": "Dmmh5a5nlrs3"
      },
      "execution_count": 7,
      "outputs": []
    },
    {
      "cell_type": "code",
      "source": [
        "inliers_test = []\n",
        "outliers_test = []\n",
        "with open(test_path, \"r\") as f:\n",
        "  reader = csv.reader(f)\n",
        "  for idx, row in enumerate(reader):\n",
        "    if idx == 0:\n",
        "      continue\n",
        "    cls, title, desc = row\n",
        "    if int(cls) == normal_class:\n",
        "      inliers_test.append(title)\n",
        "      inliers_test.append(desc)\n",
        "    else:\n",
        "      outliers_test.append(title)\n",
        "      outliers_test.append(desc)"
      ],
      "metadata": {
        "id": "XI_QHPmpeo6o"
      },
      "execution_count": 8,
      "outputs": []
    },
    {
      "cell_type": "code",
      "source": [
        "MASK_TOK_ID = AutoTokenizer.from_pretrained(\"bert-base-cased\").mask_token_id # apparently, [MASK] has token id 103 in regular BERT"
      ],
      "metadata": {
        "id": "2bSfmTDPx91V",
        "colab": {
          "base_uri": "https://localhost:8080/",
          "height": 145,
          "referenced_widgets": [
            "7f04aeaed985434aa6bfa88c7591f67a",
            "9a3e849e8244416e9b8d7a83afeac122",
            "a23c82818bc6469c83b1b1cd809dbc25",
            "8f93eccea48c485bb58611127cda33cf",
            "661458d991bd4a2d8078b11e6f076f28",
            "fb386e73ad424fb3b4448fd07f5cfb90",
            "9e40a55be4c84a5a8148735a217d3dfe",
            "98ac48ecbab945839a50752792fcf12a",
            "754d7bdfca3447959dd88d0353a81ad4",
            "886b673473e9401a9867fc0a3ad86bec",
            "01a61657dcdc422999164492febdc7e2",
            "e15226d8c8284cb78e8ab4bb460b6fcd",
            "0806f570bc6245d3becd495f2866362d",
            "6d106d688d674fd8bba210b927979255",
            "3f435b3c79174a0288e9253aa3deac64",
            "16ebee2b31104ddda76d5c3d7b74d733",
            "b0de6b73f7304eb6bb92739f28898bda",
            "d103f92c89a64e7ab5e7bc88b0e97497",
            "073719e193504b25b08d2e61374cbc8e",
            "4fee5e37a1ad4ee8a9d165ae7bcd483b",
            "1b1975c204ad4f5b88458e184943b6eb",
            "62f0e12213054ef886cdc3427cbec8b3",
            "d6af165883324379a29443258e4dbd72",
            "c121bc9a44a447959694106676bc6d49",
            "c7576383e25547588a496022d4131fa6",
            "c2bfed114279462bb2f22dfe2084e2a3",
            "c33d3d0836b5426faff94d148701cb08",
            "7051eaa0ca904a6abff002141aeffeaa",
            "e39ca377316640d8bfb46bcff6966cbe",
            "7b20452005204db6ad8a44e3728f87d9",
            "8cf7b55df5764616b3cd1a0830a89bc3",
            "b275491c88d34714ab5f122c6a92e569",
            "9694a0e13bcd495e86ac7d8f65c731a0",
            "8dd91d9d6d1c4657a5ae41f5409d5e3b",
            "6019de3d9e0f4f5fac798c52db8e67df",
            "898c014efd1042f680095d48f0001be6",
            "02aa64395baf41dd8bec520483467f47",
            "d12733df131540a7b204653f182b47c3",
            "b3ca3cf46069415a946d7c3f7b1bfc20",
            "7b29e9fdd0154e6095898cc9b26eeeec",
            "ffd4a99b2a0644db8a12bfac7a5966b4",
            "4376dde68cef45feb567243f71b7548a",
            "f1af116d608f45e0ba2ee7e1a446d8fa",
            "ec1b7420be65407f8d071578d3e61d4f"
          ]
        },
        "outputId": "0fe0a016-248b-445c-e90a-3d2391ab47a9"
      },
      "execution_count": 9,
      "outputs": [
        {
          "output_type": "display_data",
          "data": {
            "text/plain": [
              "Downloading:   0%|          | 0.00/29.0 [00:00<?, ?B/s]"
            ],
            "application/vnd.jupyter.widget-view+json": {
              "version_major": 2,
              "version_minor": 0,
              "model_id": "7f04aeaed985434aa6bfa88c7591f67a"
            }
          },
          "metadata": {}
        },
        {
          "output_type": "display_data",
          "data": {
            "text/plain": [
              "Downloading:   0%|          | 0.00/570 [00:00<?, ?B/s]"
            ],
            "application/vnd.jupyter.widget-view+json": {
              "version_major": 2,
              "version_minor": 0,
              "model_id": "e15226d8c8284cb78e8ab4bb460b6fcd"
            }
          },
          "metadata": {}
        },
        {
          "output_type": "display_data",
          "data": {
            "text/plain": [
              "Downloading:   0%|          | 0.00/208k [00:00<?, ?B/s]"
            ],
            "application/vnd.jupyter.widget-view+json": {
              "version_major": 2,
              "version_minor": 0,
              "model_id": "d6af165883324379a29443258e4dbd72"
            }
          },
          "metadata": {}
        },
        {
          "output_type": "display_data",
          "data": {
            "text/plain": [
              "Downloading:   0%|          | 0.00/426k [00:00<?, ?B/s]"
            ],
            "application/vnd.jupyter.widget-view+json": {
              "version_major": 2,
              "version_minor": 0,
              "model_id": "8dd91d9d6d1c4657a5ae41f5409d5e3b"
            }
          },
          "metadata": {}
        }
      ]
    },
    {
      "cell_type": "markdown",
      "source": [
        "# Datasets and Dataloaders"
      ],
      "metadata": {
        "id": "KLKiNMiVlx1R"
      }
    },
    {
      "cell_type": "code",
      "source": [
        "class NormalSet(Dataset):\n",
        "  def __init__(self, class_instances: List, masked_per: float=0.15):\n",
        "    self.class_instances = class_instances\n",
        "    self.masked_per = masked_per\n",
        "    self.tokenizer = AutoTokenizer.from_pretrained(\"bert-base-cased\")\n",
        "  def __len__(self):\n",
        "    return len(self.class_instances)\n",
        "  def __getitem__(self, idx):\n",
        "    if not isinstance(idx, Iterable):\n",
        "      idx = [idx]\n",
        "    data = []\n",
        "    targets = []\n",
        "    for i in idx:\n",
        "      data_raw = self.class_instances[i]\n",
        "      tokenized_bert = self.tokenizer(data_raw, add_special_tokens=True, max_length=100, padding='max_length',\n",
        "                                return_tensors='pt', truncation=True)\n",
        "      # ignore padding \n",
        "      at_mask = tokenized_bert[\"attention_mask\"]\n",
        "      relevant_tokens_num = len(at_mask[at_mask == 1]) - 2 # [CLS] and [SEP] shouldn't be masked, probably\n",
        "      # get mask\n",
        "      masked_tokens_num = math.floor(relevant_tokens_num * self.masked_per)\n",
        "      masks = np.random.randint(low=1, high=relevant_tokens_num + 1, size=masked_tokens_num) # [CLS] and [SEP] should only be the first and last tokens\n",
        "      data_tokens = []\n",
        "      targets_tokens = []\n",
        "      # mask the inputs and build the new data and targets\n",
        "      for idx, tok_id in enumerate(tokenized_bert[\"input_ids\"][0]):\n",
        "        tok_id = tok_id.item() # tok_ids end up as being one-element tensors because pytorch always returns a tensor when indexing a tensor, for some reason\n",
        "        gt_tok = -100 # ignore non-masked\n",
        "        if idx in masks:\n",
        "          gt_tok = tok_id\n",
        "          tok_id = MASK_TOK_ID\n",
        "        targets_tokens.append(gt_tok)\n",
        "        data_tokens.append(tok_id)\n",
        "      data_tokens = torch.as_tensor(data_tokens)\n",
        "      targets_tokens = torch.as_tensor(targets_tokens)\n",
        "\n",
        "      data.append(data_tokens)\n",
        "      targets.append(targets_tokens)\n",
        "    return torch.stack(data), torch.stack(targets)"
      ],
      "metadata": {
        "id": "BlbuDjeSmFoZ"
      },
      "execution_count": 11,
      "outputs": []
    },
    {
      "cell_type": "code",
      "source": [
        "class TestSet(Dataset):\n",
        "  def __init__(self, inliers: List, outliers: List):\n",
        "    self.inliers = inliers\n",
        "    self.outliers = outliers\n",
        "    self.class_instances = self.inliers + self.outliers\n",
        "\n",
        "    self.labels = len(self.inliers) * [0] + len(self.outliers) * [1]\n",
        "\n",
        "    self.tokenizer = AutoTokenizer.from_pretrained(\"bert-base-cased\")\n",
        "\n",
        "  def __len__(self):\n",
        "    return len(self.class_instances)\n",
        "\n",
        "  def __getitem__(self, idx):\n",
        "    text = self.class_instances[idx]\n",
        "    label = self.labels[idx]\n",
        "\n",
        "    tokenized_bert = self.tokenizer(text, add_special_tokens=True, max_length=100, padding='max_length',\n",
        "                              return_tensors='pt', truncation=True)\n",
        "    \n",
        "    return tokenized_bert[\"input_ids\"], torch.tensor([label])"
      ],
      "metadata": {
        "id": "bDoLjraxEO3j"
      },
      "execution_count": 12,
      "outputs": []
    },
    {
      "cell_type": "code",
      "source": [
        "def collate_fn(data):\n",
        "  tokens = []\n",
        "  labels = []\n",
        "  for datum in data:\n",
        "    tokens.append(datum[0])\n",
        "    labels.append(datum[1][0])\n",
        "  return torch.stack(tokens), torch.cat(labels)"
      ],
      "metadata": {
        "id": "c2NwxUH-yrrB"
      },
      "execution_count": null,
      "outputs": []
    },
    {
      "cell_type": "code",
      "source": [
        "dataset = NormalSet(normal_class_instances)\n",
        "ds_train, ds_valid = torch.utils.data.random_split(dataset, [int(len(dataset) * 0.8), int(len(dataset) * 0.2)])\n",
        "\n",
        "BATCH_SIZE=48\n",
        "dl_train = DataLoader(\n",
        "    ds_train, batch_size=BATCH_SIZE, shuffle=True\n",
        ")\n",
        "dl_valid = DataLoader(\n",
        "  ds_valid, batch_size=BATCH_SIZE, shuffle=False\n",
        ")"
      ],
      "metadata": {
        "id": "zWyd8_Dv0ihb"
      },
      "execution_count": 13,
      "outputs": []
    },
    {
      "cell_type": "code",
      "source": [
        "test_set = TestSet(inliers_test, outliers_test)\n",
        "\n",
        "BATCH_SIZE=48\n",
        "dl_test = DataLoader(\n",
        "    test_set, batch_size=BATCH_SIZE\n",
        ")\n"
      ],
      "metadata": {
        "id": "7dDUrRb_G2Cd"
      },
      "execution_count": 14,
      "outputs": []
    },
    {
      "cell_type": "markdown",
      "source": [
        "# Create the model"
      ],
      "metadata": {
        "id": "H_c3ofy4cn6t"
      }
    },
    {
      "cell_type": "code",
      "source": [
        "vocab_size = len(AutoTokenizer.from_pretrained(\"bert-base-cased\"))"
      ],
      "metadata": {
        "id": "JYajec_8oHIk"
      },
      "execution_count": 15,
      "outputs": []
    },
    {
      "cell_type": "code",
      "source": [
        "class AnomalyDetectionModel(nn.Module):\n",
        "  def __init__(self, num_hidden_layer: int=6, num_attention_heads: int=8, intermediate_size: int=1536, hidden_size: int=384):\n",
        "    super(AnomalyDetectionModel, self).__init__()\n",
        "\n",
        "    # Get the Transformer from the huggingface server\n",
        "    config = BertConfig.from_pretrained(\n",
        "        \"bert-base-cased\", num_hidden_layers=num_hidden_layer, num_attention_heads=num_attention_heads, intermediate_size=intermediate_size, hidden_size=hidden_size)\n",
        "    self.transformer = BertForMaskedLM(config)\n",
        "\n",
        "  def forward(self, x, labels):\n",
        "    # x is B x T, where B is batch size and T is max tokens num\n",
        "    # Get output from Transformer.\n",
        "    out = self.transformer(x, labels=labels)\n",
        "    # # out is B x T x BE, where BE is BERT encoding hidden size\n",
        "    # # for each BE output that is a mask, we need to pass it through the linear layer\n",
        "    # scores = []\n",
        "    # for idb, batch in enumerate(x):\n",
        "    #   for idt, token in enumerate(batch):\n",
        "    #     if token.item() == MASK_TOK_ID:\n",
        "    #       score = self.cls_scores(out[idb, idt])\n",
        "    #       scores.append(score)\n",
        "    return out"
      ],
      "metadata": {
        "id": "iWMpqrEycszR"
      },
      "execution_count": 16,
      "outputs": []
    },
    {
      "cell_type": "code",
      "source": [
        "device = torch.device(\"cuda\" if torch.cuda.is_available() else \"cpu\")\n",
        "\n",
        "# Instantiate our model and move it to GPU\n",
        "model = AnomalyDetectionModel().to(device)\n",
        "\n",
        "# Print the model paramters\n",
        "print(\"Model's parameters: \")\n",
        "num_params = 0\n",
        "for n, p in model.named_parameters():\n",
        "    print('\\t', n, ': ', p.size())\n",
        "    num_params += p.numel()\n",
        "print(\"Number of model parameters: \", num_params)"
      ],
      "metadata": {
        "id": "N4q-Qp4MgqB_"
      },
      "execution_count": null,
      "outputs": []
    },
    {
      "cell_type": "markdown",
      "source": [
        "# Training the model\n"
      ],
      "metadata": {
        "id": "an1lBvWYkmsT"
      }
    },
    {
      "cell_type": "code",
      "source": [
        "# Defining the optimizer and loss function\n",
        "optim = AdamW(model.parameters(), lr=1e-4)\n",
        "loss_fn = nn.CrossEntropyLoss()"
      ],
      "metadata": {
        "colab": {
          "base_uri": "https://localhost:8080/"
        },
        "id": "lQPvFREjku1J",
        "outputId": "3d5c330e-bd20-4cdd-fd92-26207286cc14"
      },
      "execution_count": null,
      "outputs": [
        {
          "output_type": "stream",
          "name": "stderr",
          "text": [
            "/usr/local/lib/python3.7/dist-packages/transformers/optimization.py:309: FutureWarning: This implementation of AdamW is deprecated and will be removed in a future version. Use the PyTorch implementation torch.optim.AdamW instead, or set `no_deprecation_warning=True` to disable this warning\n",
            "  FutureWarning,\n"
          ]
        }
      ]
    },
    {
      "cell_type": "code",
      "source": [
        "# Defining the train and evaluation functions.\n",
        "def train(model, optim, dl_train):\n",
        "    epoch_loss = 0\n",
        "    model.train()\n",
        "    preds = []\n",
        "    gt = []\n",
        "\n",
        "    times = []\n",
        "    acc_loss = 0\n",
        "    for idx, batch in enumerate(dl_train):\n",
        "        # get rough estimate of eta\n",
        "        beg = time.time()\n",
        "\n",
        "        inputs, labels = batch\n",
        "        inputs = inputs.squeeze(1) # extra dimension because of my dataset implementation Iterable quirk\n",
        "        labels = labels.squeeze(1)\n",
        "        # Move data to GPU\n",
        "        inputs = inputs.to(device)\n",
        "        # mask_labels = mask_labels.to(device)\n",
        "        labels = labels.to(device).long()\n",
        "        flattened_inputs = inputs.flatten()\n",
        "        mask_indices = (inputs == MASK_TOK_ID).nonzero()\n",
        "        acc_loss += len(flattened_inputs[flattened_inputs == MASK_TOK_ID])\n",
        "\n",
        "        output = model(inputs.to(device), labels=labels)\n",
        "        # Calculate the loss and backpropagate\n",
        "        # loss = loss_fn(output, labels)\n",
        "        loss = output.loss\n",
        "        loss.backward()\n",
        "        # Update weights\n",
        "        if acc_loss >= 200:\n",
        "            acc_loss = 0\n",
        "            optim.step()\n",
        "            optim.zero_grad()\n",
        "\n",
        "        final = time.time()\n",
        "        times.append(final - beg)\n",
        "\n",
        "        epoch_loss += loss.item()\n",
        "        \n",
        "        # print a message every 100 batches\n",
        "        if idx % 100 == 0:\n",
        "            print(f\"Loss is {loss}, time left = {(sum(times) / len(times) * (len(dl_train.dataset) - (idx + 1) * BATCH_SIZE) / BATCH_SIZE) / 60} minutes.\")\n",
        "\n",
        "    # Average the epoch losses\n",
        "    epoch_loss /= len(dl_train)\n",
        "\n",
        "    return epoch_loss\n",
        "\n",
        "\n",
        "\"\"\"\n",
        "broken function, doesn't do what we want it to do\n",
        "\"\"\"\n",
        "@torch.inference_mode()\n",
        "def evaluate(model, optim, dl_valid):\n",
        "    test_loss = 0\n",
        "    model.eval()\n",
        "    preds = []\n",
        "    gt = []\n",
        "\n",
        "    for idx, batch in enumerate(dl_valid):\n",
        "        inputs, labels = batch\n",
        "\n",
        "        inputs = inputs.squeeze(1) # extra dimension because of my dataset implementation Iterable quirk\n",
        "        labels = labels.squeeze(1)\n",
        "\n",
        "        inputs = inputs.to(device)\n",
        "        labels = labels.to(device).long()\n",
        "\n",
        "        output = model(inputs, labels=labels)\n",
        "\n",
        "        # test_loss += loss_fn(output, labels).item()\n",
        "        test_loss += output.loss.detach().item()\n",
        "\n",
        "\n",
        "    test_loss /= len(dl_valid)\n",
        "\n",
        "    return test_loss"
      ],
      "metadata": {
        "id": "EAi2vxvPmJLN"
      },
      "execution_count": null,
      "outputs": []
    },
    {
      "cell_type": "code",
      "source": [
        "# Train loop\n",
        "num_epochs = 50\n",
        "best_val_loss = None\n",
        "\n",
        "pbar = tqdm(range(num_epochs))\n",
        "train_losses = []\n",
        "val_losses = []\n",
        "\n",
        "\n",
        "for e in tqdm(range(num_epochs)):\n",
        "    train_loss = train(model, optim, dl_train)\n",
        "    val_loss = evaluate(model, optim, dl_valid)\n",
        "\n",
        "    train_losses.append(train_loss)\n",
        "    val_losses.append(val_loss)\n",
        "\n",
        "\n",
        "    print(f\"Epoch: {e+1}, t_loss: {round(train_loss, 2)}, v_loss: {round(val_loss, 2)}\")\n",
        "\n",
        "    if best_val_loss is None or val_loss < best_val_loss:\n",
        "        best_val_loss = val_loss\n",
        "        torch.save(model.state_dict(), './best_bert_model.pt')\n",
        "\n",
        "fig, ax = plt.subplots(nrows=2, ncols=1, figsize=(20, 10))\n",
        "ax[0].plot(range(num_epochs), train_losses, color='orange', label='train loss')\n",
        "ax[0].plot(range(num_epochs), val_losses, color='blue', label='valid loss')\n",
        "ax[0].legend(loc='best')\n",
        "ax[1].legend(loc='best')\n",
        "plt.show()"
      ],
      "metadata": {
        "id": "rBd-UFQCt7kP",
        "colab": {
          "base_uri": "https://localhost:8080/"
        },
        "outputId": "d0382951-615b-47bf-eec3-3a485239c1b0"
      },
      "execution_count": null,
      "outputs": [
        {
          "output_type": "stream",
          "name": "stderr",
          "text": [
            "  0%|          | 0/50 [00:00<?, ?it/s]\n",
            "  0%|          | 0/50 [00:00<?, ?it/s]\n"
          ]
        },
        {
          "output_type": "error",
          "ename": "RuntimeError",
          "evalue": "ignored",
          "traceback": [
            "\u001b[0;31m---------------------------------------------------------------------------\u001b[0m",
            "\u001b[0;31mRuntimeError\u001b[0m                              Traceback (most recent call last)",
            "\u001b[0;32m<ipython-input-52-28b87f2999c0>\u001b[0m in \u001b[0;36m<module>\u001b[0;34m()\u001b[0m\n\u001b[1;32m      9\u001b[0m \u001b[0;34m\u001b[0m\u001b[0m\n\u001b[1;32m     10\u001b[0m \u001b[0;32mfor\u001b[0m \u001b[0me\u001b[0m \u001b[0;32min\u001b[0m \u001b[0mtqdm\u001b[0m\u001b[0;34m(\u001b[0m\u001b[0mrange\u001b[0m\u001b[0;34m(\u001b[0m\u001b[0mnum_epochs\u001b[0m\u001b[0;34m)\u001b[0m\u001b[0;34m)\u001b[0m\u001b[0;34m:\u001b[0m\u001b[0;34m\u001b[0m\u001b[0;34m\u001b[0m\u001b[0m\n\u001b[0;32m---> 11\u001b[0;31m     \u001b[0mtrain_loss\u001b[0m \u001b[0;34m=\u001b[0m \u001b[0mtrain\u001b[0m\u001b[0;34m(\u001b[0m\u001b[0mmodel\u001b[0m\u001b[0;34m,\u001b[0m \u001b[0moptim\u001b[0m\u001b[0;34m,\u001b[0m \u001b[0mdl_train\u001b[0m\u001b[0;34m)\u001b[0m\u001b[0;34m\u001b[0m\u001b[0;34m\u001b[0m\u001b[0m\n\u001b[0m\u001b[1;32m     12\u001b[0m     \u001b[0mval_loss\u001b[0m \u001b[0;34m=\u001b[0m \u001b[0mevaluate\u001b[0m\u001b[0;34m(\u001b[0m\u001b[0mmodel\u001b[0m\u001b[0;34m,\u001b[0m \u001b[0moptim\u001b[0m\u001b[0;34m,\u001b[0m \u001b[0mdl_valid\u001b[0m\u001b[0;34m)\u001b[0m\u001b[0;34m\u001b[0m\u001b[0;34m\u001b[0m\u001b[0m\n\u001b[1;32m     13\u001b[0m \u001b[0;34m\u001b[0m\u001b[0m\n",
            "\u001b[0;32m<ipython-input-51-3eaf088f6f3a>\u001b[0m in \u001b[0;36mtrain\u001b[0;34m(model, optim, dl_train)\u001b[0m\n\u001b[1;32m     23\u001b[0m         \u001b[0macc_loss\u001b[0m \u001b[0;34m+=\u001b[0m \u001b[0mlen\u001b[0m\u001b[0;34m(\u001b[0m\u001b[0mflattened_inputs\u001b[0m\u001b[0;34m[\u001b[0m\u001b[0mflattened_inputs\u001b[0m \u001b[0;34m==\u001b[0m \u001b[0mMASK_TOK_ID\u001b[0m\u001b[0;34m]\u001b[0m\u001b[0;34m)\u001b[0m\u001b[0;34m\u001b[0m\u001b[0;34m\u001b[0m\u001b[0m\n\u001b[1;32m     24\u001b[0m \u001b[0;34m\u001b[0m\u001b[0m\n\u001b[0;32m---> 25\u001b[0;31m         \u001b[0moutput\u001b[0m \u001b[0;34m=\u001b[0m \u001b[0mmodel\u001b[0m\u001b[0;34m(\u001b[0m\u001b[0minputs\u001b[0m\u001b[0;34m.\u001b[0m\u001b[0mto\u001b[0m\u001b[0;34m(\u001b[0m\u001b[0mdevice\u001b[0m\u001b[0;34m)\u001b[0m\u001b[0;34m,\u001b[0m \u001b[0mlabels\u001b[0m\u001b[0;34m=\u001b[0m\u001b[0mlabels\u001b[0m\u001b[0;34m)\u001b[0m\u001b[0;34m\u001b[0m\u001b[0;34m\u001b[0m\u001b[0m\n\u001b[0m\u001b[1;32m     26\u001b[0m         \u001b[0;31m# Calculate the loss and backpropagate\u001b[0m\u001b[0;34m\u001b[0m\u001b[0;34m\u001b[0m\u001b[0;34m\u001b[0m\u001b[0m\n\u001b[1;32m     27\u001b[0m         \u001b[0;31m# loss = loss_fn(output, labels)\u001b[0m\u001b[0;34m\u001b[0m\u001b[0;34m\u001b[0m\u001b[0;34m\u001b[0m\u001b[0m\n",
            "\u001b[0;32m/usr/local/lib/python3.7/dist-packages/torch/nn/modules/module.py\u001b[0m in \u001b[0;36m_call_impl\u001b[0;34m(self, *input, **kwargs)\u001b[0m\n\u001b[1;32m   1100\u001b[0m         if not (self._backward_hooks or self._forward_hooks or self._forward_pre_hooks or _global_backward_hooks\n\u001b[1;32m   1101\u001b[0m                 or _global_forward_hooks or _global_forward_pre_hooks):\n\u001b[0;32m-> 1102\u001b[0;31m             \u001b[0;32mreturn\u001b[0m \u001b[0mforward_call\u001b[0m\u001b[0;34m(\u001b[0m\u001b[0;34m*\u001b[0m\u001b[0minput\u001b[0m\u001b[0;34m,\u001b[0m \u001b[0;34m**\u001b[0m\u001b[0mkwargs\u001b[0m\u001b[0;34m)\u001b[0m\u001b[0;34m\u001b[0m\u001b[0;34m\u001b[0m\u001b[0m\n\u001b[0m\u001b[1;32m   1103\u001b[0m         \u001b[0;31m# Do not call functions when jit is used\u001b[0m\u001b[0;34m\u001b[0m\u001b[0;34m\u001b[0m\u001b[0;34m\u001b[0m\u001b[0m\n\u001b[1;32m   1104\u001b[0m         \u001b[0mfull_backward_hooks\u001b[0m\u001b[0;34m,\u001b[0m \u001b[0mnon_full_backward_hooks\u001b[0m \u001b[0;34m=\u001b[0m \u001b[0;34m[\u001b[0m\u001b[0;34m]\u001b[0m\u001b[0;34m,\u001b[0m \u001b[0;34m[\u001b[0m\u001b[0;34m]\u001b[0m\u001b[0;34m\u001b[0m\u001b[0;34m\u001b[0m\u001b[0m\n",
            "\u001b[0;32m/usr/local/lib/python3.7/dist-packages/transformers/models/bert/modeling_bert.py\u001b[0m in \u001b[0;36mforward\u001b[0;34m(self, input_ids, attention_mask, token_type_ids, position_ids, head_mask, inputs_embeds, encoder_hidden_states, encoder_attention_mask, labels, output_attentions, output_hidden_states, return_dict)\u001b[0m\n\u001b[1;32m   1352\u001b[0m             \u001b[0moutput_attentions\u001b[0m\u001b[0;34m=\u001b[0m\u001b[0moutput_attentions\u001b[0m\u001b[0;34m,\u001b[0m\u001b[0;34m\u001b[0m\u001b[0;34m\u001b[0m\u001b[0m\n\u001b[1;32m   1353\u001b[0m             \u001b[0moutput_hidden_states\u001b[0m\u001b[0;34m=\u001b[0m\u001b[0moutput_hidden_states\u001b[0m\u001b[0;34m,\u001b[0m\u001b[0;34m\u001b[0m\u001b[0;34m\u001b[0m\u001b[0m\n\u001b[0;32m-> 1354\u001b[0;31m             \u001b[0mreturn_dict\u001b[0m\u001b[0;34m=\u001b[0m\u001b[0mreturn_dict\u001b[0m\u001b[0;34m,\u001b[0m\u001b[0;34m\u001b[0m\u001b[0;34m\u001b[0m\u001b[0m\n\u001b[0m\u001b[1;32m   1355\u001b[0m         )\n\u001b[1;32m   1356\u001b[0m \u001b[0;34m\u001b[0m\u001b[0m\n",
            "\u001b[0;32m/usr/local/lib/python3.7/dist-packages/torch/nn/modules/module.py\u001b[0m in \u001b[0;36m_call_impl\u001b[0;34m(self, *input, **kwargs)\u001b[0m\n\u001b[1;32m   1100\u001b[0m         if not (self._backward_hooks or self._forward_hooks or self._forward_pre_hooks or _global_backward_hooks\n\u001b[1;32m   1101\u001b[0m                 or _global_forward_hooks or _global_forward_pre_hooks):\n\u001b[0;32m-> 1102\u001b[0;31m             \u001b[0;32mreturn\u001b[0m \u001b[0mforward_call\u001b[0m\u001b[0;34m(\u001b[0m\u001b[0;34m*\u001b[0m\u001b[0minput\u001b[0m\u001b[0;34m,\u001b[0m \u001b[0;34m**\u001b[0m\u001b[0mkwargs\u001b[0m\u001b[0;34m)\u001b[0m\u001b[0;34m\u001b[0m\u001b[0;34m\u001b[0m\u001b[0m\n\u001b[0m\u001b[1;32m   1103\u001b[0m         \u001b[0;31m# Do not call functions when jit is used\u001b[0m\u001b[0;34m\u001b[0m\u001b[0;34m\u001b[0m\u001b[0;34m\u001b[0m\u001b[0m\n\u001b[1;32m   1104\u001b[0m         \u001b[0mfull_backward_hooks\u001b[0m\u001b[0;34m,\u001b[0m \u001b[0mnon_full_backward_hooks\u001b[0m \u001b[0;34m=\u001b[0m \u001b[0;34m[\u001b[0m\u001b[0;34m]\u001b[0m\u001b[0;34m,\u001b[0m \u001b[0;34m[\u001b[0m\u001b[0;34m]\u001b[0m\u001b[0;34m\u001b[0m\u001b[0;34m\u001b[0m\u001b[0m\n",
            "\u001b[0;32m/usr/local/lib/python3.7/dist-packages/transformers/models/bert/modeling_bert.py\u001b[0m in \u001b[0;36mforward\u001b[0;34m(self, input_ids, attention_mask, token_type_ids, position_ids, head_mask, inputs_embeds, encoder_hidden_states, encoder_attention_mask, past_key_values, use_cache, output_attentions, output_hidden_states, return_dict)\u001b[0m\n\u001b[1;32m    992\u001b[0m             \u001b[0mtoken_type_ids\u001b[0m\u001b[0;34m=\u001b[0m\u001b[0mtoken_type_ids\u001b[0m\u001b[0;34m,\u001b[0m\u001b[0;34m\u001b[0m\u001b[0;34m\u001b[0m\u001b[0m\n\u001b[1;32m    993\u001b[0m             \u001b[0minputs_embeds\u001b[0m\u001b[0;34m=\u001b[0m\u001b[0minputs_embeds\u001b[0m\u001b[0;34m,\u001b[0m\u001b[0;34m\u001b[0m\u001b[0;34m\u001b[0m\u001b[0m\n\u001b[0;32m--> 994\u001b[0;31m             \u001b[0mpast_key_values_length\u001b[0m\u001b[0;34m=\u001b[0m\u001b[0mpast_key_values_length\u001b[0m\u001b[0;34m,\u001b[0m\u001b[0;34m\u001b[0m\u001b[0;34m\u001b[0m\u001b[0m\n\u001b[0m\u001b[1;32m    995\u001b[0m         )\n\u001b[1;32m    996\u001b[0m         encoder_outputs = self.encoder(\n",
            "\u001b[0;32m/usr/local/lib/python3.7/dist-packages/torch/nn/modules/module.py\u001b[0m in \u001b[0;36m_call_impl\u001b[0;34m(self, *input, **kwargs)\u001b[0m\n\u001b[1;32m   1100\u001b[0m         if not (self._backward_hooks or self._forward_hooks or self._forward_pre_hooks or _global_backward_hooks\n\u001b[1;32m   1101\u001b[0m                 or _global_forward_hooks or _global_forward_pre_hooks):\n\u001b[0;32m-> 1102\u001b[0;31m             \u001b[0;32mreturn\u001b[0m \u001b[0mforward_call\u001b[0m\u001b[0;34m(\u001b[0m\u001b[0;34m*\u001b[0m\u001b[0minput\u001b[0m\u001b[0;34m,\u001b[0m \u001b[0;34m**\u001b[0m\u001b[0mkwargs\u001b[0m\u001b[0;34m)\u001b[0m\u001b[0;34m\u001b[0m\u001b[0;34m\u001b[0m\u001b[0m\n\u001b[0m\u001b[1;32m   1103\u001b[0m         \u001b[0;31m# Do not call functions when jit is used\u001b[0m\u001b[0;34m\u001b[0m\u001b[0;34m\u001b[0m\u001b[0;34m\u001b[0m\u001b[0m\n\u001b[1;32m   1104\u001b[0m         \u001b[0mfull_backward_hooks\u001b[0m\u001b[0;34m,\u001b[0m \u001b[0mnon_full_backward_hooks\u001b[0m \u001b[0;34m=\u001b[0m \u001b[0;34m[\u001b[0m\u001b[0;34m]\u001b[0m\u001b[0;34m,\u001b[0m \u001b[0;34m[\u001b[0m\u001b[0;34m]\u001b[0m\u001b[0;34m\u001b[0m\u001b[0;34m\u001b[0m\u001b[0m\n",
            "\u001b[0;32m/usr/local/lib/python3.7/dist-packages/transformers/models/bert/modeling_bert.py\u001b[0m in \u001b[0;36mforward\u001b[0;34m(self, input_ids, token_type_ids, position_ids, inputs_embeds, past_key_values_length)\u001b[0m\n\u001b[1;32m    212\u001b[0m \u001b[0;34m\u001b[0m\u001b[0m\n\u001b[1;32m    213\u001b[0m         \u001b[0;32mif\u001b[0m \u001b[0minputs_embeds\u001b[0m \u001b[0;32mis\u001b[0m \u001b[0;32mNone\u001b[0m\u001b[0;34m:\u001b[0m\u001b[0;34m\u001b[0m\u001b[0;34m\u001b[0m\u001b[0m\n\u001b[0;32m--> 214\u001b[0;31m             \u001b[0minputs_embeds\u001b[0m \u001b[0;34m=\u001b[0m \u001b[0mself\u001b[0m\u001b[0;34m.\u001b[0m\u001b[0mword_embeddings\u001b[0m\u001b[0;34m(\u001b[0m\u001b[0minput_ids\u001b[0m\u001b[0;34m)\u001b[0m\u001b[0;34m\u001b[0m\u001b[0;34m\u001b[0m\u001b[0m\n\u001b[0m\u001b[1;32m    215\u001b[0m         \u001b[0mtoken_type_embeddings\u001b[0m \u001b[0;34m=\u001b[0m \u001b[0mself\u001b[0m\u001b[0;34m.\u001b[0m\u001b[0mtoken_type_embeddings\u001b[0m\u001b[0;34m(\u001b[0m\u001b[0mtoken_type_ids\u001b[0m\u001b[0;34m)\u001b[0m\u001b[0;34m\u001b[0m\u001b[0;34m\u001b[0m\u001b[0m\n\u001b[1;32m    216\u001b[0m \u001b[0;34m\u001b[0m\u001b[0m\n",
            "\u001b[0;32m/usr/local/lib/python3.7/dist-packages/torch/nn/modules/module.py\u001b[0m in \u001b[0;36m_call_impl\u001b[0;34m(self, *input, **kwargs)\u001b[0m\n\u001b[1;32m   1100\u001b[0m         if not (self._backward_hooks or self._forward_hooks or self._forward_pre_hooks or _global_backward_hooks\n\u001b[1;32m   1101\u001b[0m                 or _global_forward_hooks or _global_forward_pre_hooks):\n\u001b[0;32m-> 1102\u001b[0;31m             \u001b[0;32mreturn\u001b[0m \u001b[0mforward_call\u001b[0m\u001b[0;34m(\u001b[0m\u001b[0;34m*\u001b[0m\u001b[0minput\u001b[0m\u001b[0;34m,\u001b[0m \u001b[0;34m**\u001b[0m\u001b[0mkwargs\u001b[0m\u001b[0;34m)\u001b[0m\u001b[0;34m\u001b[0m\u001b[0;34m\u001b[0m\u001b[0m\n\u001b[0m\u001b[1;32m   1103\u001b[0m         \u001b[0;31m# Do not call functions when jit is used\u001b[0m\u001b[0;34m\u001b[0m\u001b[0;34m\u001b[0m\u001b[0;34m\u001b[0m\u001b[0m\n\u001b[1;32m   1104\u001b[0m         \u001b[0mfull_backward_hooks\u001b[0m\u001b[0;34m,\u001b[0m \u001b[0mnon_full_backward_hooks\u001b[0m \u001b[0;34m=\u001b[0m \u001b[0;34m[\u001b[0m\u001b[0;34m]\u001b[0m\u001b[0;34m,\u001b[0m \u001b[0;34m[\u001b[0m\u001b[0;34m]\u001b[0m\u001b[0;34m\u001b[0m\u001b[0;34m\u001b[0m\u001b[0m\n",
            "\u001b[0;32m/usr/local/lib/python3.7/dist-packages/torch/nn/modules/sparse.py\u001b[0m in \u001b[0;36mforward\u001b[0;34m(self, input)\u001b[0m\n\u001b[1;32m    158\u001b[0m         return F.embedding(\n\u001b[1;32m    159\u001b[0m             \u001b[0minput\u001b[0m\u001b[0;34m,\u001b[0m \u001b[0mself\u001b[0m\u001b[0;34m.\u001b[0m\u001b[0mweight\u001b[0m\u001b[0;34m,\u001b[0m \u001b[0mself\u001b[0m\u001b[0;34m.\u001b[0m\u001b[0mpadding_idx\u001b[0m\u001b[0;34m,\u001b[0m \u001b[0mself\u001b[0m\u001b[0;34m.\u001b[0m\u001b[0mmax_norm\u001b[0m\u001b[0;34m,\u001b[0m\u001b[0;34m\u001b[0m\u001b[0;34m\u001b[0m\u001b[0m\n\u001b[0;32m--> 160\u001b[0;31m             self.norm_type, self.scale_grad_by_freq, self.sparse)\n\u001b[0m\u001b[1;32m    161\u001b[0m \u001b[0;34m\u001b[0m\u001b[0m\n\u001b[1;32m    162\u001b[0m     \u001b[0;32mdef\u001b[0m \u001b[0mextra_repr\u001b[0m\u001b[0;34m(\u001b[0m\u001b[0mself\u001b[0m\u001b[0;34m)\u001b[0m \u001b[0;34m->\u001b[0m \u001b[0mstr\u001b[0m\u001b[0;34m:\u001b[0m\u001b[0;34m\u001b[0m\u001b[0;34m\u001b[0m\u001b[0m\n",
            "\u001b[0;32m/usr/local/lib/python3.7/dist-packages/torch/nn/functional.py\u001b[0m in \u001b[0;36membedding\u001b[0;34m(input, weight, padding_idx, max_norm, norm_type, scale_grad_by_freq, sparse)\u001b[0m\n\u001b[1;32m   2042\u001b[0m         \u001b[0;31m# remove once script supports set_grad_enabled\u001b[0m\u001b[0;34m\u001b[0m\u001b[0;34m\u001b[0m\u001b[0;34m\u001b[0m\u001b[0m\n\u001b[1;32m   2043\u001b[0m         \u001b[0m_no_grad_embedding_renorm_\u001b[0m\u001b[0;34m(\u001b[0m\u001b[0mweight\u001b[0m\u001b[0;34m,\u001b[0m \u001b[0minput\u001b[0m\u001b[0;34m,\u001b[0m \u001b[0mmax_norm\u001b[0m\u001b[0;34m,\u001b[0m \u001b[0mnorm_type\u001b[0m\u001b[0;34m)\u001b[0m\u001b[0;34m\u001b[0m\u001b[0;34m\u001b[0m\u001b[0m\n\u001b[0;32m-> 2044\u001b[0;31m     \u001b[0;32mreturn\u001b[0m \u001b[0mtorch\u001b[0m\u001b[0;34m.\u001b[0m\u001b[0membedding\u001b[0m\u001b[0;34m(\u001b[0m\u001b[0mweight\u001b[0m\u001b[0;34m,\u001b[0m \u001b[0minput\u001b[0m\u001b[0;34m,\u001b[0m \u001b[0mpadding_idx\u001b[0m\u001b[0;34m,\u001b[0m \u001b[0mscale_grad_by_freq\u001b[0m\u001b[0;34m,\u001b[0m \u001b[0msparse\u001b[0m\u001b[0;34m)\u001b[0m\u001b[0;34m\u001b[0m\u001b[0;34m\u001b[0m\u001b[0m\n\u001b[0m\u001b[1;32m   2045\u001b[0m \u001b[0;34m\u001b[0m\u001b[0m\n\u001b[1;32m   2046\u001b[0m \u001b[0;34m\u001b[0m\u001b[0m\n",
            "\u001b[0;31mRuntimeError\u001b[0m: Expected all tensors to be on the same device, but found at least two devices, cpu and cuda:0! (when checking argument for argument index in method wrapper__index_select)"
          ]
        }
      ]
    },
    {
      "cell_type": "markdown",
      "source": [
        "# Evaluate the model\n"
      ],
      "metadata": {
        "id": "ZnO4_nag8nqi"
      }
    },
    {
      "cell_type": "code",
      "source": [
        "# def calculate_normality_score(model, input_ids):\n",
        "#   probs = np.array([])\n",
        "\n",
        "#   # Mask each token and calculate the probability of the correct label\n",
        "#   for tok_id in range(1, len(input_ids[0])):\n",
        "#     labels  = copy.deepcopy(input_ids)\n",
        "\n",
        "#     if labels[0][tok_id].item() == 3:\n",
        "#       break\n",
        "\n",
        "#     old_tok = input_ids[0][tok_id].item()\n",
        "#     input_ids[0][tok_id] = tokenizer.mask_token_id\n",
        "#     labels[input_ids != tokenizer.mask_token_id] = -100\n",
        "\n",
        "#     outputs = model(input_ids, labels=labels)\n",
        "\n",
        "#     scores = outputs.logits\n",
        "#     softmax = torch.nn.Softmax(dim=-1)\n",
        "\n",
        "#     probs = np.append(probs, softmax(scores[0][tok_id])[old_tok].item())\n",
        "\n",
        "#     input_ids[0][tok_id] = torch.tensor([old_tok])\n",
        "#   print(np.mean(probs))\n",
        "#   return np.mean(probs)"
      ],
      "metadata": {
        "id": "ACpBNMI1WuMQ"
      },
      "execution_count": 22,
      "outputs": []
    },
    {
      "cell_type": "code",
      "source": [
        "tokenizer = AutoTokenizer.from_pretrained(\"bert-base-cased\")\n",
        "def multiple_masked_tokens_normality_score(model, input_ids, num_comp):\n",
        "  global tokenizer\n",
        "  \n",
        "  probs = np.array([])\n",
        "  elim_tokens = np.array([101, 102, 0])\n",
        "\n",
        "  tok_ids = np.array([i for i in range(len(input_ids[0])) if input_ids[0][i].item() not in elim_tokens])\n",
        "  random.shuffle(tok_ids)\n",
        "  partion = np.array_split(tok_ids, num_comp)\n",
        "\n",
        "  for comp in partion:\n",
        "    labels  = copy.deepcopy(input_ids)\n",
        "\n",
        "    old_tokens = np.array([input_ids[0][tok_id].item() for tok_id in comp])\n",
        "    input_ids[0][comp] = tokenizer.mask_token_id\n",
        "    labels[input_ids != tokenizer.mask_token_id] = -100\n",
        "\n",
        "    outputs = model(input_ids, labels=labels)\n",
        "\n",
        "    scores = outputs.logits\n",
        "    softmax = torch.nn.Softmax(dim=-1)\n",
        "\n",
        "    for tok_id, old_tok in zip(comp, old_tokens):\n",
        "      probs = np.append(probs, softmax(scores[0][tok_id])[old_tok].item())\n",
        "      input_ids[0][tok_id] = torch.tensor([old_tok])\n",
        "\n",
        "  return np.mean(probs)"
      ],
      "metadata": {
        "id": "Qyv2buLd0hap"
      },
      "execution_count": 26,
      "outputs": []
    },
    {
      "cell_type": "code",
      "source": [
        "model = AnomalyDetectionModel().to(device)\n",
        "model.load_state_dict(torch.load(\"/content/drive/MyDrive/trained_bert_sports_agnews.pt\"))\n",
        "model = model.to(device)"
      ],
      "metadata": {
        "id": "KJ6Q8YjcbFAT"
      },
      "execution_count": 23,
      "outputs": []
    },
    {
      "cell_type": "code",
      "source": [
        "# scores = []\n",
        "# corect_labels = []\n",
        "# for idx, batch in enumerate(dl_test):\n",
        "#   texts, labels = batch\n",
        "#   for i in range(2):\n",
        "#     text = texts[i]\n",
        "#     label = labels[i]\n",
        "#     scores.append(calculate_normality_score(model, text))\n",
        "#     corect_labels.append(label.item())\n",
        "#   print(f\"Finish {idx} / {len(dl_test)} batches\")\n",
        "#   if idx > 10:\n",
        "#     break\n",
        "#   #corect_labels += labels.tolist()"
      ],
      "metadata": {
        "id": "CetVOTeJ7zv4"
      },
      "execution_count": null,
      "outputs": []
    },
    {
      "cell_type": "code",
      "source": [
        "scores = []\n",
        "corect_labels = []\n",
        "for idx, batch in enumerate(dl_test):\n",
        "  texts, labels = batch\n",
        "\n",
        "  texts = texts.to(device)\n",
        "  labels = labels.to(device)\n",
        "  for text in tqdm(texts):\n",
        "    scores.append(multiple_masked_tokens_normality_score(model, text, 6))\n",
        "    \n",
        "  print(f\"Finished {idx} / {len(dl_test)} batches\")\n",
        "  corect_labels += labels.tolist()"
      ],
      "metadata": {
        "id": "YRMdwGn79H0V",
        "colab": {
          "base_uri": "https://localhost:8080/"
        },
        "outputId": "012d4052-4231-4a68-9d1a-63b680a18d58"
      },
      "execution_count": 27,
      "outputs": [
        {
          "output_type": "stream",
          "name": "stderr",
          "text": [
            "100%|██████████| 48/48 [00:03<00:00, 12.66it/s]\n"
          ]
        },
        {
          "output_type": "stream",
          "name": "stdout",
          "text": [
            "Finished 0 / 317 batches\n"
          ]
        },
        {
          "output_type": "stream",
          "name": "stderr",
          "text": [
            "100%|██████████| 48/48 [00:03<00:00, 12.87it/s]\n"
          ]
        },
        {
          "output_type": "stream",
          "name": "stdout",
          "text": [
            "Finished 1 / 317 batches\n"
          ]
        },
        {
          "output_type": "stream",
          "name": "stderr",
          "text": [
            "100%|██████████| 48/48 [00:03<00:00, 12.77it/s]\n"
          ]
        },
        {
          "output_type": "stream",
          "name": "stdout",
          "text": [
            "Finished 2 / 317 batches\n"
          ]
        },
        {
          "output_type": "stream",
          "name": "stderr",
          "text": [
            "100%|██████████| 48/48 [00:03<00:00, 12.85it/s]\n"
          ]
        },
        {
          "output_type": "stream",
          "name": "stdout",
          "text": [
            "Finished 3 / 317 batches\n"
          ]
        },
        {
          "output_type": "stream",
          "name": "stderr",
          "text": [
            "100%|██████████| 48/48 [00:03<00:00, 13.12it/s]\n"
          ]
        },
        {
          "output_type": "stream",
          "name": "stdout",
          "text": [
            "Finished 4 / 317 batches\n"
          ]
        },
        {
          "output_type": "stream",
          "name": "stderr",
          "text": [
            "100%|██████████| 48/48 [00:03<00:00, 13.19it/s]\n"
          ]
        },
        {
          "output_type": "stream",
          "name": "stdout",
          "text": [
            "Finished 5 / 317 batches\n"
          ]
        },
        {
          "output_type": "stream",
          "name": "stderr",
          "text": [
            "100%|██████████| 48/48 [00:03<00:00, 13.20it/s]\n"
          ]
        },
        {
          "output_type": "stream",
          "name": "stdout",
          "text": [
            "Finished 6 / 317 batches\n"
          ]
        },
        {
          "output_type": "stream",
          "name": "stderr",
          "text": [
            "100%|██████████| 48/48 [00:03<00:00, 13.11it/s]\n"
          ]
        },
        {
          "output_type": "stream",
          "name": "stdout",
          "text": [
            "Finished 7 / 317 batches\n"
          ]
        },
        {
          "output_type": "stream",
          "name": "stderr",
          "text": [
            "100%|██████████| 48/48 [00:03<00:00, 13.04it/s]\n"
          ]
        },
        {
          "output_type": "stream",
          "name": "stdout",
          "text": [
            "Finished 8 / 317 batches\n"
          ]
        },
        {
          "output_type": "stream",
          "name": "stderr",
          "text": [
            "100%|██████████| 48/48 [00:03<00:00, 13.07it/s]\n"
          ]
        },
        {
          "output_type": "stream",
          "name": "stdout",
          "text": [
            "Finished 9 / 317 batches\n"
          ]
        },
        {
          "output_type": "stream",
          "name": "stderr",
          "text": [
            "100%|██████████| 48/48 [00:03<00:00, 13.12it/s]\n"
          ]
        },
        {
          "output_type": "stream",
          "name": "stdout",
          "text": [
            "Finished 10 / 317 batches\n"
          ]
        },
        {
          "output_type": "stream",
          "name": "stderr",
          "text": [
            "100%|██████████| 48/48 [00:03<00:00, 13.03it/s]\n"
          ]
        },
        {
          "output_type": "stream",
          "name": "stdout",
          "text": [
            "Finished 11 / 317 batches\n"
          ]
        },
        {
          "output_type": "stream",
          "name": "stderr",
          "text": [
            "100%|██████████| 48/48 [00:03<00:00, 13.15it/s]\n"
          ]
        },
        {
          "output_type": "stream",
          "name": "stdout",
          "text": [
            "Finished 12 / 317 batches\n"
          ]
        },
        {
          "output_type": "stream",
          "name": "stderr",
          "text": [
            "100%|██████████| 48/48 [00:03<00:00, 12.95it/s]\n"
          ]
        },
        {
          "output_type": "stream",
          "name": "stdout",
          "text": [
            "Finished 13 / 317 batches\n"
          ]
        },
        {
          "output_type": "stream",
          "name": "stderr",
          "text": [
            "100%|██████████| 48/48 [00:03<00:00, 13.13it/s]\n"
          ]
        },
        {
          "output_type": "stream",
          "name": "stdout",
          "text": [
            "Finished 14 / 317 batches\n"
          ]
        },
        {
          "output_type": "stream",
          "name": "stderr",
          "text": [
            "100%|██████████| 48/48 [00:03<00:00, 13.00it/s]\n"
          ]
        },
        {
          "output_type": "stream",
          "name": "stdout",
          "text": [
            "Finished 15 / 317 batches\n"
          ]
        },
        {
          "output_type": "stream",
          "name": "stderr",
          "text": [
            "100%|██████████| 48/48 [00:03<00:00, 13.07it/s]\n"
          ]
        },
        {
          "output_type": "stream",
          "name": "stdout",
          "text": [
            "Finished 16 / 317 batches\n"
          ]
        },
        {
          "output_type": "stream",
          "name": "stderr",
          "text": [
            "100%|██████████| 48/48 [00:03<00:00, 13.16it/s]\n"
          ]
        },
        {
          "output_type": "stream",
          "name": "stdout",
          "text": [
            "Finished 17 / 317 batches\n"
          ]
        },
        {
          "output_type": "stream",
          "name": "stderr",
          "text": [
            "100%|██████████| 48/48 [00:03<00:00, 13.15it/s]\n"
          ]
        },
        {
          "output_type": "stream",
          "name": "stdout",
          "text": [
            "Finished 18 / 317 batches\n"
          ]
        },
        {
          "output_type": "stream",
          "name": "stderr",
          "text": [
            "100%|██████████| 48/48 [00:03<00:00, 13.08it/s]\n"
          ]
        },
        {
          "output_type": "stream",
          "name": "stdout",
          "text": [
            "Finished 19 / 317 batches\n"
          ]
        },
        {
          "output_type": "stream",
          "name": "stderr",
          "text": [
            "100%|██████████| 48/48 [00:03<00:00, 13.21it/s]\n"
          ]
        },
        {
          "output_type": "stream",
          "name": "stdout",
          "text": [
            "Finished 20 / 317 batches\n"
          ]
        },
        {
          "output_type": "stream",
          "name": "stderr",
          "text": [
            "100%|██████████| 48/48 [00:03<00:00, 12.96it/s]\n"
          ]
        },
        {
          "output_type": "stream",
          "name": "stdout",
          "text": [
            "Finished 21 / 317 batches\n"
          ]
        },
        {
          "output_type": "stream",
          "name": "stderr",
          "text": [
            "100%|██████████| 48/48 [00:03<00:00, 13.29it/s]\n"
          ]
        },
        {
          "output_type": "stream",
          "name": "stdout",
          "text": [
            "Finished 22 / 317 batches\n"
          ]
        },
        {
          "output_type": "stream",
          "name": "stderr",
          "text": [
            "100%|██████████| 48/48 [00:03<00:00, 12.95it/s]\n"
          ]
        },
        {
          "output_type": "stream",
          "name": "stdout",
          "text": [
            "Finished 23 / 317 batches\n"
          ]
        },
        {
          "output_type": "stream",
          "name": "stderr",
          "text": [
            "100%|██████████| 48/48 [00:03<00:00, 13.22it/s]\n"
          ]
        },
        {
          "output_type": "stream",
          "name": "stdout",
          "text": [
            "Finished 24 / 317 batches\n"
          ]
        },
        {
          "output_type": "stream",
          "name": "stderr",
          "text": [
            "100%|██████████| 48/48 [00:03<00:00, 13.17it/s]\n"
          ]
        },
        {
          "output_type": "stream",
          "name": "stdout",
          "text": [
            "Finished 25 / 317 batches\n"
          ]
        },
        {
          "output_type": "stream",
          "name": "stderr",
          "text": [
            "100%|██████████| 48/48 [00:03<00:00, 13.16it/s]\n"
          ]
        },
        {
          "output_type": "stream",
          "name": "stdout",
          "text": [
            "Finished 26 / 317 batches\n"
          ]
        },
        {
          "output_type": "stream",
          "name": "stderr",
          "text": [
            "100%|██████████| 48/48 [00:03<00:00, 13.08it/s]\n"
          ]
        },
        {
          "output_type": "stream",
          "name": "stdout",
          "text": [
            "Finished 27 / 317 batches\n"
          ]
        },
        {
          "output_type": "stream",
          "name": "stderr",
          "text": [
            "100%|██████████| 48/48 [00:03<00:00, 13.14it/s]\n"
          ]
        },
        {
          "output_type": "stream",
          "name": "stdout",
          "text": [
            "Finished 28 / 317 batches\n"
          ]
        },
        {
          "output_type": "stream",
          "name": "stderr",
          "text": [
            "100%|██████████| 48/48 [00:03<00:00, 13.25it/s]\n"
          ]
        },
        {
          "output_type": "stream",
          "name": "stdout",
          "text": [
            "Finished 29 / 317 batches\n"
          ]
        },
        {
          "output_type": "stream",
          "name": "stderr",
          "text": [
            "100%|██████████| 48/48 [00:03<00:00, 13.21it/s]\n"
          ]
        },
        {
          "output_type": "stream",
          "name": "stdout",
          "text": [
            "Finished 30 / 317 batches\n"
          ]
        },
        {
          "output_type": "stream",
          "name": "stderr",
          "text": [
            "100%|██████████| 48/48 [00:03<00:00, 13.10it/s]\n"
          ]
        },
        {
          "output_type": "stream",
          "name": "stdout",
          "text": [
            "Finished 31 / 317 batches\n"
          ]
        },
        {
          "output_type": "stream",
          "name": "stderr",
          "text": [
            "100%|██████████| 48/48 [00:03<00:00, 13.11it/s]\n"
          ]
        },
        {
          "output_type": "stream",
          "name": "stdout",
          "text": [
            "Finished 32 / 317 batches\n"
          ]
        },
        {
          "output_type": "stream",
          "name": "stderr",
          "text": [
            "100%|██████████| 48/48 [00:03<00:00, 13.08it/s]\n"
          ]
        },
        {
          "output_type": "stream",
          "name": "stdout",
          "text": [
            "Finished 33 / 317 batches\n"
          ]
        },
        {
          "output_type": "stream",
          "name": "stderr",
          "text": [
            "100%|██████████| 48/48 [00:03<00:00, 13.03it/s]\n"
          ]
        },
        {
          "output_type": "stream",
          "name": "stdout",
          "text": [
            "Finished 34 / 317 batches\n"
          ]
        },
        {
          "output_type": "stream",
          "name": "stderr",
          "text": [
            "100%|██████████| 48/48 [00:03<00:00, 12.85it/s]\n"
          ]
        },
        {
          "output_type": "stream",
          "name": "stdout",
          "text": [
            "Finished 35 / 317 batches\n"
          ]
        },
        {
          "output_type": "stream",
          "name": "stderr",
          "text": [
            "100%|██████████| 48/48 [00:03<00:00, 12.98it/s]\n"
          ]
        },
        {
          "output_type": "stream",
          "name": "stdout",
          "text": [
            "Finished 36 / 317 batches\n"
          ]
        },
        {
          "output_type": "stream",
          "name": "stderr",
          "text": [
            "100%|██████████| 48/48 [00:03<00:00, 13.00it/s]\n"
          ]
        },
        {
          "output_type": "stream",
          "name": "stdout",
          "text": [
            "Finished 37 / 317 batches\n"
          ]
        },
        {
          "output_type": "stream",
          "name": "stderr",
          "text": [
            "100%|██████████| 48/48 [00:03<00:00, 13.23it/s]\n"
          ]
        },
        {
          "output_type": "stream",
          "name": "stdout",
          "text": [
            "Finished 38 / 317 batches\n"
          ]
        },
        {
          "output_type": "stream",
          "name": "stderr",
          "text": [
            "100%|██████████| 48/48 [00:03<00:00, 12.78it/s]\n"
          ]
        },
        {
          "output_type": "stream",
          "name": "stdout",
          "text": [
            "Finished 39 / 317 batches\n"
          ]
        },
        {
          "output_type": "stream",
          "name": "stderr",
          "text": [
            "100%|██████████| 48/48 [00:03<00:00, 12.91it/s]\n"
          ]
        },
        {
          "output_type": "stream",
          "name": "stdout",
          "text": [
            "Finished 40 / 317 batches\n"
          ]
        },
        {
          "output_type": "stream",
          "name": "stderr",
          "text": [
            "100%|██████████| 48/48 [00:03<00:00, 12.87it/s]\n"
          ]
        },
        {
          "output_type": "stream",
          "name": "stdout",
          "text": [
            "Finished 41 / 317 batches\n"
          ]
        },
        {
          "output_type": "stream",
          "name": "stderr",
          "text": [
            "100%|██████████| 48/48 [00:03<00:00, 12.91it/s]\n"
          ]
        },
        {
          "output_type": "stream",
          "name": "stdout",
          "text": [
            "Finished 42 / 317 batches\n"
          ]
        },
        {
          "output_type": "stream",
          "name": "stderr",
          "text": [
            "100%|██████████| 48/48 [00:03<00:00, 12.90it/s]\n"
          ]
        },
        {
          "output_type": "stream",
          "name": "stdout",
          "text": [
            "Finished 43 / 317 batches\n"
          ]
        },
        {
          "output_type": "stream",
          "name": "stderr",
          "text": [
            "100%|██████████| 48/48 [00:03<00:00, 12.97it/s]\n"
          ]
        },
        {
          "output_type": "stream",
          "name": "stdout",
          "text": [
            "Finished 44 / 317 batches\n"
          ]
        },
        {
          "output_type": "stream",
          "name": "stderr",
          "text": [
            "100%|██████████| 48/48 [00:03<00:00, 12.95it/s]\n"
          ]
        },
        {
          "output_type": "stream",
          "name": "stdout",
          "text": [
            "Finished 45 / 317 batches\n"
          ]
        },
        {
          "output_type": "stream",
          "name": "stderr",
          "text": [
            "100%|██████████| 48/48 [00:03<00:00, 12.74it/s]\n"
          ]
        },
        {
          "output_type": "stream",
          "name": "stdout",
          "text": [
            "Finished 46 / 317 batches\n"
          ]
        },
        {
          "output_type": "stream",
          "name": "stderr",
          "text": [
            "100%|██████████| 48/48 [00:03<00:00, 12.85it/s]\n"
          ]
        },
        {
          "output_type": "stream",
          "name": "stdout",
          "text": [
            "Finished 47 / 317 batches\n"
          ]
        },
        {
          "output_type": "stream",
          "name": "stderr",
          "text": [
            "100%|██████████| 48/48 [00:03<00:00, 12.86it/s]\n"
          ]
        },
        {
          "output_type": "stream",
          "name": "stdout",
          "text": [
            "Finished 48 / 317 batches\n"
          ]
        },
        {
          "output_type": "stream",
          "name": "stderr",
          "text": [
            "100%|██████████| 48/48 [00:03<00:00, 13.01it/s]\n"
          ]
        },
        {
          "output_type": "stream",
          "name": "stdout",
          "text": [
            "Finished 49 / 317 batches\n"
          ]
        },
        {
          "output_type": "stream",
          "name": "stderr",
          "text": [
            "100%|██████████| 48/48 [00:03<00:00, 12.89it/s]\n"
          ]
        },
        {
          "output_type": "stream",
          "name": "stdout",
          "text": [
            "Finished 50 / 317 batches\n"
          ]
        },
        {
          "output_type": "stream",
          "name": "stderr",
          "text": [
            "100%|██████████| 48/48 [00:03<00:00, 12.89it/s]\n"
          ]
        },
        {
          "output_type": "stream",
          "name": "stdout",
          "text": [
            "Finished 51 / 317 batches\n"
          ]
        },
        {
          "output_type": "stream",
          "name": "stderr",
          "text": [
            "100%|██████████| 48/48 [00:03<00:00, 13.06it/s]\n"
          ]
        },
        {
          "output_type": "stream",
          "name": "stdout",
          "text": [
            "Finished 52 / 317 batches\n"
          ]
        },
        {
          "output_type": "stream",
          "name": "stderr",
          "text": [
            "100%|██████████| 48/48 [00:03<00:00, 12.96it/s]\n"
          ]
        },
        {
          "output_type": "stream",
          "name": "stdout",
          "text": [
            "Finished 53 / 317 batches\n"
          ]
        },
        {
          "output_type": "stream",
          "name": "stderr",
          "text": [
            "100%|██████████| 48/48 [00:03<00:00, 13.15it/s]\n"
          ]
        },
        {
          "output_type": "stream",
          "name": "stdout",
          "text": [
            "Finished 54 / 317 batches\n"
          ]
        },
        {
          "output_type": "stream",
          "name": "stderr",
          "text": [
            "100%|██████████| 48/48 [00:03<00:00, 12.91it/s]\n"
          ]
        },
        {
          "output_type": "stream",
          "name": "stdout",
          "text": [
            "Finished 55 / 317 batches\n"
          ]
        },
        {
          "output_type": "stream",
          "name": "stderr",
          "text": [
            "100%|██████████| 48/48 [00:03<00:00, 13.04it/s]\n"
          ]
        },
        {
          "output_type": "stream",
          "name": "stdout",
          "text": [
            "Finished 56 / 317 batches\n"
          ]
        },
        {
          "output_type": "stream",
          "name": "stderr",
          "text": [
            "100%|██████████| 48/48 [00:03<00:00, 13.10it/s]\n"
          ]
        },
        {
          "output_type": "stream",
          "name": "stdout",
          "text": [
            "Finished 57 / 317 batches\n"
          ]
        },
        {
          "output_type": "stream",
          "name": "stderr",
          "text": [
            "100%|██████████| 48/48 [00:03<00:00, 13.06it/s]\n"
          ]
        },
        {
          "output_type": "stream",
          "name": "stdout",
          "text": [
            "Finished 58 / 317 batches\n"
          ]
        },
        {
          "output_type": "stream",
          "name": "stderr",
          "text": [
            "100%|██████████| 48/48 [00:03<00:00, 12.91it/s]\n"
          ]
        },
        {
          "output_type": "stream",
          "name": "stdout",
          "text": [
            "Finished 59 / 317 batches\n"
          ]
        },
        {
          "output_type": "stream",
          "name": "stderr",
          "text": [
            "100%|██████████| 48/48 [00:03<00:00, 13.15it/s]\n"
          ]
        },
        {
          "output_type": "stream",
          "name": "stdout",
          "text": [
            "Finished 60 / 317 batches\n"
          ]
        },
        {
          "output_type": "stream",
          "name": "stderr",
          "text": [
            "100%|██████████| 48/48 [00:03<00:00, 13.05it/s]\n"
          ]
        },
        {
          "output_type": "stream",
          "name": "stdout",
          "text": [
            "Finished 61 / 317 batches\n"
          ]
        },
        {
          "output_type": "stream",
          "name": "stderr",
          "text": [
            "100%|██████████| 48/48 [00:03<00:00, 13.06it/s]\n"
          ]
        },
        {
          "output_type": "stream",
          "name": "stdout",
          "text": [
            "Finished 62 / 317 batches\n"
          ]
        },
        {
          "output_type": "stream",
          "name": "stderr",
          "text": [
            "100%|██████████| 48/48 [00:03<00:00, 12.91it/s]\n"
          ]
        },
        {
          "output_type": "stream",
          "name": "stdout",
          "text": [
            "Finished 63 / 317 batches\n"
          ]
        },
        {
          "output_type": "stream",
          "name": "stderr",
          "text": [
            "100%|██████████| 48/48 [00:03<00:00, 13.00it/s]\n"
          ]
        },
        {
          "output_type": "stream",
          "name": "stdout",
          "text": [
            "Finished 64 / 317 batches\n"
          ]
        },
        {
          "output_type": "stream",
          "name": "stderr",
          "text": [
            "100%|██████████| 48/48 [00:03<00:00, 12.98it/s]\n"
          ]
        },
        {
          "output_type": "stream",
          "name": "stdout",
          "text": [
            "Finished 65 / 317 batches\n"
          ]
        },
        {
          "output_type": "stream",
          "name": "stderr",
          "text": [
            "100%|██████████| 48/48 [00:03<00:00, 13.13it/s]\n"
          ]
        },
        {
          "output_type": "stream",
          "name": "stdout",
          "text": [
            "Finished 66 / 317 batches\n"
          ]
        },
        {
          "output_type": "stream",
          "name": "stderr",
          "text": [
            "100%|██████████| 48/48 [00:03<00:00, 12.90it/s]\n"
          ]
        },
        {
          "output_type": "stream",
          "name": "stdout",
          "text": [
            "Finished 67 / 317 batches\n"
          ]
        },
        {
          "output_type": "stream",
          "name": "stderr",
          "text": [
            "100%|██████████| 48/48 [00:03<00:00, 13.04it/s]\n"
          ]
        },
        {
          "output_type": "stream",
          "name": "stdout",
          "text": [
            "Finished 68 / 317 batches\n"
          ]
        },
        {
          "output_type": "stream",
          "name": "stderr",
          "text": [
            "100%|██████████| 48/48 [00:03<00:00, 13.14it/s]\n"
          ]
        },
        {
          "output_type": "stream",
          "name": "stdout",
          "text": [
            "Finished 69 / 317 batches\n"
          ]
        },
        {
          "output_type": "stream",
          "name": "stderr",
          "text": [
            "100%|██████████| 48/48 [00:03<00:00, 12.92it/s]\n"
          ]
        },
        {
          "output_type": "stream",
          "name": "stdout",
          "text": [
            "Finished 70 / 317 batches\n"
          ]
        },
        {
          "output_type": "stream",
          "name": "stderr",
          "text": [
            "100%|██████████| 48/48 [00:03<00:00, 12.96it/s]\n"
          ]
        },
        {
          "output_type": "stream",
          "name": "stdout",
          "text": [
            "Finished 71 / 317 batches\n"
          ]
        },
        {
          "output_type": "stream",
          "name": "stderr",
          "text": [
            "100%|██████████| 48/48 [00:03<00:00, 12.95it/s]\n"
          ]
        },
        {
          "output_type": "stream",
          "name": "stdout",
          "text": [
            "Finished 72 / 317 batches\n"
          ]
        },
        {
          "output_type": "stream",
          "name": "stderr",
          "text": [
            "100%|██████████| 48/48 [00:03<00:00, 12.92it/s]\n"
          ]
        },
        {
          "output_type": "stream",
          "name": "stdout",
          "text": [
            "Finished 73 / 317 batches\n"
          ]
        },
        {
          "output_type": "stream",
          "name": "stderr",
          "text": [
            "100%|██████████| 48/48 [00:03<00:00, 13.05it/s]\n"
          ]
        },
        {
          "output_type": "stream",
          "name": "stdout",
          "text": [
            "Finished 74 / 317 batches\n"
          ]
        },
        {
          "output_type": "stream",
          "name": "stderr",
          "text": [
            "100%|██████████| 48/48 [00:03<00:00, 13.13it/s]\n"
          ]
        },
        {
          "output_type": "stream",
          "name": "stdout",
          "text": [
            "Finished 75 / 317 batches\n"
          ]
        },
        {
          "output_type": "stream",
          "name": "stderr",
          "text": [
            "100%|██████████| 48/48 [00:03<00:00, 13.06it/s]\n"
          ]
        },
        {
          "output_type": "stream",
          "name": "stdout",
          "text": [
            "Finished 76 / 317 batches\n"
          ]
        },
        {
          "output_type": "stream",
          "name": "stderr",
          "text": [
            "100%|██████████| 48/48 [00:03<00:00, 13.05it/s]\n"
          ]
        },
        {
          "output_type": "stream",
          "name": "stdout",
          "text": [
            "Finished 77 / 317 batches\n"
          ]
        },
        {
          "output_type": "stream",
          "name": "stderr",
          "text": [
            "100%|██████████| 48/48 [00:03<00:00, 13.11it/s]\n"
          ]
        },
        {
          "output_type": "stream",
          "name": "stdout",
          "text": [
            "Finished 78 / 317 batches\n"
          ]
        },
        {
          "output_type": "stream",
          "name": "stderr",
          "text": [
            "100%|██████████| 48/48 [00:03<00:00, 12.95it/s]\n"
          ]
        },
        {
          "output_type": "stream",
          "name": "stdout",
          "text": [
            "Finished 79 / 317 batches\n"
          ]
        },
        {
          "output_type": "stream",
          "name": "stderr",
          "text": [
            "100%|██████████| 48/48 [00:03<00:00, 12.93it/s]\n"
          ]
        },
        {
          "output_type": "stream",
          "name": "stdout",
          "text": [
            "Finished 80 / 317 batches\n"
          ]
        },
        {
          "output_type": "stream",
          "name": "stderr",
          "text": [
            "100%|██████████| 48/48 [00:03<00:00, 12.85it/s]\n"
          ]
        },
        {
          "output_type": "stream",
          "name": "stdout",
          "text": [
            "Finished 81 / 317 batches\n"
          ]
        },
        {
          "output_type": "stream",
          "name": "stderr",
          "text": [
            "100%|██████████| 48/48 [00:03<00:00, 12.72it/s]\n"
          ]
        },
        {
          "output_type": "stream",
          "name": "stdout",
          "text": [
            "Finished 82 / 317 batches\n"
          ]
        },
        {
          "output_type": "stream",
          "name": "stderr",
          "text": [
            "100%|██████████| 48/48 [00:03<00:00, 13.02it/s]\n"
          ]
        },
        {
          "output_type": "stream",
          "name": "stdout",
          "text": [
            "Finished 83 / 317 batches\n"
          ]
        },
        {
          "output_type": "stream",
          "name": "stderr",
          "text": [
            "100%|██████████| 48/48 [00:03<00:00, 12.77it/s]\n"
          ]
        },
        {
          "output_type": "stream",
          "name": "stdout",
          "text": [
            "Finished 84 / 317 batches\n"
          ]
        },
        {
          "output_type": "stream",
          "name": "stderr",
          "text": [
            "100%|██████████| 48/48 [00:03<00:00, 12.81it/s]\n"
          ]
        },
        {
          "output_type": "stream",
          "name": "stdout",
          "text": [
            "Finished 85 / 317 batches\n"
          ]
        },
        {
          "output_type": "stream",
          "name": "stderr",
          "text": [
            "100%|██████████| 48/48 [00:03<00:00, 12.97it/s]\n"
          ]
        },
        {
          "output_type": "stream",
          "name": "stdout",
          "text": [
            "Finished 86 / 317 batches\n"
          ]
        },
        {
          "output_type": "stream",
          "name": "stderr",
          "text": [
            "100%|██████████| 48/48 [00:03<00:00, 13.01it/s]\n"
          ]
        },
        {
          "output_type": "stream",
          "name": "stdout",
          "text": [
            "Finished 87 / 317 batches\n"
          ]
        },
        {
          "output_type": "stream",
          "name": "stderr",
          "text": [
            "100%|██████████| 48/48 [00:03<00:00, 12.88it/s]\n"
          ]
        },
        {
          "output_type": "stream",
          "name": "stdout",
          "text": [
            "Finished 88 / 317 batches\n"
          ]
        },
        {
          "output_type": "stream",
          "name": "stderr",
          "text": [
            "100%|██████████| 48/48 [00:03<00:00, 12.63it/s]\n"
          ]
        },
        {
          "output_type": "stream",
          "name": "stdout",
          "text": [
            "Finished 89 / 317 batches\n"
          ]
        },
        {
          "output_type": "stream",
          "name": "stderr",
          "text": [
            "100%|██████████| 48/48 [00:03<00:00, 13.08it/s]\n"
          ]
        },
        {
          "output_type": "stream",
          "name": "stdout",
          "text": [
            "Finished 90 / 317 batches\n"
          ]
        },
        {
          "output_type": "stream",
          "name": "stderr",
          "text": [
            "100%|██████████| 48/48 [00:03<00:00, 12.86it/s]\n"
          ]
        },
        {
          "output_type": "stream",
          "name": "stdout",
          "text": [
            "Finished 91 / 317 batches\n"
          ]
        },
        {
          "output_type": "stream",
          "name": "stderr",
          "text": [
            "100%|██████████| 48/48 [00:03<00:00, 12.92it/s]\n"
          ]
        },
        {
          "output_type": "stream",
          "name": "stdout",
          "text": [
            "Finished 92 / 317 batches\n"
          ]
        },
        {
          "output_type": "stream",
          "name": "stderr",
          "text": [
            "100%|██████████| 48/48 [00:03<00:00, 13.05it/s]\n"
          ]
        },
        {
          "output_type": "stream",
          "name": "stdout",
          "text": [
            "Finished 93 / 317 batches\n"
          ]
        },
        {
          "output_type": "stream",
          "name": "stderr",
          "text": [
            "100%|██████████| 48/48 [00:03<00:00, 12.95it/s]\n"
          ]
        },
        {
          "output_type": "stream",
          "name": "stdout",
          "text": [
            "Finished 94 / 317 batches\n"
          ]
        },
        {
          "output_type": "stream",
          "name": "stderr",
          "text": [
            "100%|██████████| 48/48 [00:03<00:00, 13.09it/s]\n"
          ]
        },
        {
          "output_type": "stream",
          "name": "stdout",
          "text": [
            "Finished 95 / 317 batches\n"
          ]
        },
        {
          "output_type": "stream",
          "name": "stderr",
          "text": [
            "100%|██████████| 48/48 [00:03<00:00, 13.07it/s]\n"
          ]
        },
        {
          "output_type": "stream",
          "name": "stdout",
          "text": [
            "Finished 96 / 317 batches\n"
          ]
        },
        {
          "output_type": "stream",
          "name": "stderr",
          "text": [
            "100%|██████████| 48/48 [00:03<00:00, 12.90it/s]\n"
          ]
        },
        {
          "output_type": "stream",
          "name": "stdout",
          "text": [
            "Finished 97 / 317 batches\n"
          ]
        },
        {
          "output_type": "stream",
          "name": "stderr",
          "text": [
            "100%|██████████| 48/48 [00:03<00:00, 12.97it/s]\n"
          ]
        },
        {
          "output_type": "stream",
          "name": "stdout",
          "text": [
            "Finished 98 / 317 batches\n"
          ]
        },
        {
          "output_type": "stream",
          "name": "stderr",
          "text": [
            "100%|██████████| 48/48 [00:03<00:00, 12.97it/s]\n"
          ]
        },
        {
          "output_type": "stream",
          "name": "stdout",
          "text": [
            "Finished 99 / 317 batches\n"
          ]
        },
        {
          "output_type": "stream",
          "name": "stderr",
          "text": [
            "100%|██████████| 48/48 [00:03<00:00, 12.96it/s]\n"
          ]
        },
        {
          "output_type": "stream",
          "name": "stdout",
          "text": [
            "Finished 100 / 317 batches\n"
          ]
        },
        {
          "output_type": "stream",
          "name": "stderr",
          "text": [
            "100%|██████████| 48/48 [00:03<00:00, 13.01it/s]\n"
          ]
        },
        {
          "output_type": "stream",
          "name": "stdout",
          "text": [
            "Finished 101 / 317 batches\n"
          ]
        },
        {
          "output_type": "stream",
          "name": "stderr",
          "text": [
            "100%|██████████| 48/48 [00:03<00:00, 12.88it/s]\n"
          ]
        },
        {
          "output_type": "stream",
          "name": "stdout",
          "text": [
            "Finished 102 / 317 batches\n"
          ]
        },
        {
          "output_type": "stream",
          "name": "stderr",
          "text": [
            "100%|██████████| 48/48 [00:03<00:00, 12.99it/s]\n"
          ]
        },
        {
          "output_type": "stream",
          "name": "stdout",
          "text": [
            "Finished 103 / 317 batches\n"
          ]
        },
        {
          "output_type": "stream",
          "name": "stderr",
          "text": [
            "100%|██████████| 48/48 [00:03<00:00, 12.94it/s]\n"
          ]
        },
        {
          "output_type": "stream",
          "name": "stdout",
          "text": [
            "Finished 104 / 317 batches\n"
          ]
        },
        {
          "output_type": "stream",
          "name": "stderr",
          "text": [
            "100%|██████████| 48/48 [00:03<00:00, 13.18it/s]\n"
          ]
        },
        {
          "output_type": "stream",
          "name": "stdout",
          "text": [
            "Finished 105 / 317 batches\n"
          ]
        },
        {
          "output_type": "stream",
          "name": "stderr",
          "text": [
            "100%|██████████| 48/48 [00:03<00:00, 12.96it/s]\n"
          ]
        },
        {
          "output_type": "stream",
          "name": "stdout",
          "text": [
            "Finished 106 / 317 batches\n"
          ]
        },
        {
          "output_type": "stream",
          "name": "stderr",
          "text": [
            "100%|██████████| 48/48 [00:03<00:00, 12.99it/s]\n"
          ]
        },
        {
          "output_type": "stream",
          "name": "stdout",
          "text": [
            "Finished 107 / 317 batches\n"
          ]
        },
        {
          "output_type": "stream",
          "name": "stderr",
          "text": [
            "100%|██████████| 48/48 [00:03<00:00, 13.13it/s]\n"
          ]
        },
        {
          "output_type": "stream",
          "name": "stdout",
          "text": [
            "Finished 108 / 317 batches\n"
          ]
        },
        {
          "output_type": "stream",
          "name": "stderr",
          "text": [
            "100%|██████████| 48/48 [00:03<00:00, 12.92it/s]\n"
          ]
        },
        {
          "output_type": "stream",
          "name": "stdout",
          "text": [
            "Finished 109 / 317 batches\n"
          ]
        },
        {
          "output_type": "stream",
          "name": "stderr",
          "text": [
            "100%|██████████| 48/48 [00:03<00:00, 13.22it/s]\n"
          ]
        },
        {
          "output_type": "stream",
          "name": "stdout",
          "text": [
            "Finished 110 / 317 batches\n"
          ]
        },
        {
          "output_type": "stream",
          "name": "stderr",
          "text": [
            "100%|██████████| 48/48 [00:03<00:00, 13.11it/s]\n"
          ]
        },
        {
          "output_type": "stream",
          "name": "stdout",
          "text": [
            "Finished 111 / 317 batches\n"
          ]
        },
        {
          "output_type": "stream",
          "name": "stderr",
          "text": [
            "100%|██████████| 48/48 [00:03<00:00, 13.04it/s]\n"
          ]
        },
        {
          "output_type": "stream",
          "name": "stdout",
          "text": [
            "Finished 112 / 317 batches\n"
          ]
        },
        {
          "output_type": "stream",
          "name": "stderr",
          "text": [
            "100%|██████████| 48/48 [00:03<00:00, 12.78it/s]\n"
          ]
        },
        {
          "output_type": "stream",
          "name": "stdout",
          "text": [
            "Finished 113 / 317 batches\n"
          ]
        },
        {
          "output_type": "stream",
          "name": "stderr",
          "text": [
            "100%|██████████| 48/48 [00:03<00:00, 12.98it/s]\n"
          ]
        },
        {
          "output_type": "stream",
          "name": "stdout",
          "text": [
            "Finished 114 / 317 batches\n"
          ]
        },
        {
          "output_type": "stream",
          "name": "stderr",
          "text": [
            "100%|██████████| 48/48 [00:03<00:00, 13.08it/s]\n"
          ]
        },
        {
          "output_type": "stream",
          "name": "stdout",
          "text": [
            "Finished 115 / 317 batches\n"
          ]
        },
        {
          "output_type": "stream",
          "name": "stderr",
          "text": [
            "100%|██████████| 48/48 [00:03<00:00, 13.09it/s]\n"
          ]
        },
        {
          "output_type": "stream",
          "name": "stdout",
          "text": [
            "Finished 116 / 317 batches\n"
          ]
        },
        {
          "output_type": "stream",
          "name": "stderr",
          "text": [
            "100%|██████████| 48/48 [00:03<00:00, 12.83it/s]\n"
          ]
        },
        {
          "output_type": "stream",
          "name": "stdout",
          "text": [
            "Finished 117 / 317 batches\n"
          ]
        },
        {
          "output_type": "stream",
          "name": "stderr",
          "text": [
            "100%|██████████| 48/48 [00:03<00:00, 13.06it/s]\n"
          ]
        },
        {
          "output_type": "stream",
          "name": "stdout",
          "text": [
            "Finished 118 / 317 batches\n"
          ]
        },
        {
          "output_type": "stream",
          "name": "stderr",
          "text": [
            "100%|██████████| 48/48 [00:03<00:00, 13.01it/s]\n"
          ]
        },
        {
          "output_type": "stream",
          "name": "stdout",
          "text": [
            "Finished 119 / 317 batches\n"
          ]
        },
        {
          "output_type": "stream",
          "name": "stderr",
          "text": [
            "100%|██████████| 48/48 [00:03<00:00, 13.05it/s]\n"
          ]
        },
        {
          "output_type": "stream",
          "name": "stdout",
          "text": [
            "Finished 120 / 317 batches\n"
          ]
        },
        {
          "output_type": "stream",
          "name": "stderr",
          "text": [
            "100%|██████████| 48/48 [00:03<00:00, 12.76it/s]\n"
          ]
        },
        {
          "output_type": "stream",
          "name": "stdout",
          "text": [
            "Finished 121 / 317 batches\n"
          ]
        },
        {
          "output_type": "stream",
          "name": "stderr",
          "text": [
            "100%|██████████| 48/48 [00:03<00:00, 13.13it/s]\n"
          ]
        },
        {
          "output_type": "stream",
          "name": "stdout",
          "text": [
            "Finished 122 / 317 batches\n"
          ]
        },
        {
          "output_type": "stream",
          "name": "stderr",
          "text": [
            "100%|██████████| 48/48 [00:03<00:00, 12.99it/s]\n"
          ]
        },
        {
          "output_type": "stream",
          "name": "stdout",
          "text": [
            "Finished 123 / 317 batches\n"
          ]
        },
        {
          "output_type": "stream",
          "name": "stderr",
          "text": [
            "100%|██████████| 48/48 [00:03<00:00, 12.84it/s]\n"
          ]
        },
        {
          "output_type": "stream",
          "name": "stdout",
          "text": [
            "Finished 124 / 317 batches\n"
          ]
        },
        {
          "output_type": "stream",
          "name": "stderr",
          "text": [
            "100%|██████████| 48/48 [00:03<00:00, 12.98it/s]\n"
          ]
        },
        {
          "output_type": "stream",
          "name": "stdout",
          "text": [
            "Finished 125 / 317 batches\n"
          ]
        },
        {
          "output_type": "stream",
          "name": "stderr",
          "text": [
            "100%|██████████| 48/48 [00:03<00:00, 13.09it/s]\n"
          ]
        },
        {
          "output_type": "stream",
          "name": "stdout",
          "text": [
            "Finished 126 / 317 batches\n"
          ]
        },
        {
          "output_type": "stream",
          "name": "stderr",
          "text": [
            "100%|██████████| 48/48 [00:03<00:00, 12.94it/s]\n"
          ]
        },
        {
          "output_type": "stream",
          "name": "stdout",
          "text": [
            "Finished 127 / 317 batches\n"
          ]
        },
        {
          "output_type": "stream",
          "name": "stderr",
          "text": [
            "100%|██████████| 48/48 [00:03<00:00, 13.10it/s]\n"
          ]
        },
        {
          "output_type": "stream",
          "name": "stdout",
          "text": [
            "Finished 128 / 317 batches\n"
          ]
        },
        {
          "output_type": "stream",
          "name": "stderr",
          "text": [
            "100%|██████████| 48/48 [00:03<00:00, 12.83it/s]\n"
          ]
        },
        {
          "output_type": "stream",
          "name": "stdout",
          "text": [
            "Finished 129 / 317 batches\n"
          ]
        },
        {
          "output_type": "stream",
          "name": "stderr",
          "text": [
            "100%|██████████| 48/48 [00:03<00:00, 13.10it/s]\n"
          ]
        },
        {
          "output_type": "stream",
          "name": "stdout",
          "text": [
            "Finished 130 / 317 batches\n"
          ]
        },
        {
          "output_type": "stream",
          "name": "stderr",
          "text": [
            "100%|██████████| 48/48 [00:03<00:00, 12.88it/s]\n"
          ]
        },
        {
          "output_type": "stream",
          "name": "stdout",
          "text": [
            "Finished 131 / 317 batches\n"
          ]
        },
        {
          "output_type": "stream",
          "name": "stderr",
          "text": [
            "100%|██████████| 48/48 [00:03<00:00, 12.98it/s]\n"
          ]
        },
        {
          "output_type": "stream",
          "name": "stdout",
          "text": [
            "Finished 132 / 317 batches\n"
          ]
        },
        {
          "output_type": "stream",
          "name": "stderr",
          "text": [
            "100%|██████████| 48/48 [00:03<00:00, 13.09it/s]\n"
          ]
        },
        {
          "output_type": "stream",
          "name": "stdout",
          "text": [
            "Finished 133 / 317 batches\n"
          ]
        },
        {
          "output_type": "stream",
          "name": "stderr",
          "text": [
            "100%|██████████| 48/48 [00:03<00:00, 13.11it/s]\n"
          ]
        },
        {
          "output_type": "stream",
          "name": "stdout",
          "text": [
            "Finished 134 / 317 batches\n"
          ]
        },
        {
          "output_type": "stream",
          "name": "stderr",
          "text": [
            "100%|██████████| 48/48 [00:03<00:00, 12.92it/s]\n"
          ]
        },
        {
          "output_type": "stream",
          "name": "stdout",
          "text": [
            "Finished 135 / 317 batches\n"
          ]
        },
        {
          "output_type": "stream",
          "name": "stderr",
          "text": [
            "100%|██████████| 48/48 [00:03<00:00, 12.95it/s]\n"
          ]
        },
        {
          "output_type": "stream",
          "name": "stdout",
          "text": [
            "Finished 136 / 317 batches\n"
          ]
        },
        {
          "output_type": "stream",
          "name": "stderr",
          "text": [
            "100%|██████████| 48/48 [00:03<00:00, 12.99it/s]\n"
          ]
        },
        {
          "output_type": "stream",
          "name": "stdout",
          "text": [
            "Finished 137 / 317 batches\n"
          ]
        },
        {
          "output_type": "stream",
          "name": "stderr",
          "text": [
            "100%|██████████| 48/48 [00:03<00:00, 13.05it/s]\n"
          ]
        },
        {
          "output_type": "stream",
          "name": "stdout",
          "text": [
            "Finished 138 / 317 batches\n"
          ]
        },
        {
          "output_type": "stream",
          "name": "stderr",
          "text": [
            "100%|██████████| 48/48 [00:03<00:00, 12.96it/s]\n"
          ]
        },
        {
          "output_type": "stream",
          "name": "stdout",
          "text": [
            "Finished 139 / 317 batches\n"
          ]
        },
        {
          "output_type": "stream",
          "name": "stderr",
          "text": [
            "100%|██████████| 48/48 [00:03<00:00, 13.18it/s]\n"
          ]
        },
        {
          "output_type": "stream",
          "name": "stdout",
          "text": [
            "Finished 140 / 317 batches\n"
          ]
        },
        {
          "output_type": "stream",
          "name": "stderr",
          "text": [
            "100%|██████████| 48/48 [00:03<00:00, 12.59it/s]\n"
          ]
        },
        {
          "output_type": "stream",
          "name": "stdout",
          "text": [
            "Finished 141 / 317 batches\n"
          ]
        },
        {
          "output_type": "stream",
          "name": "stderr",
          "text": [
            "100%|██████████| 48/48 [00:03<00:00, 12.83it/s]\n"
          ]
        },
        {
          "output_type": "stream",
          "name": "stdout",
          "text": [
            "Finished 142 / 317 batches\n"
          ]
        },
        {
          "output_type": "stream",
          "name": "stderr",
          "text": [
            "100%|██████████| 48/48 [00:03<00:00, 12.79it/s]\n"
          ]
        },
        {
          "output_type": "stream",
          "name": "stdout",
          "text": [
            "Finished 143 / 317 batches\n"
          ]
        },
        {
          "output_type": "stream",
          "name": "stderr",
          "text": [
            "100%|██████████| 48/48 [00:03<00:00, 13.04it/s]\n"
          ]
        },
        {
          "output_type": "stream",
          "name": "stdout",
          "text": [
            "Finished 144 / 317 batches\n"
          ]
        },
        {
          "output_type": "stream",
          "name": "stderr",
          "text": [
            "100%|██████████| 48/48 [00:03<00:00, 13.22it/s]\n"
          ]
        },
        {
          "output_type": "stream",
          "name": "stdout",
          "text": [
            "Finished 145 / 317 batches\n"
          ]
        },
        {
          "output_type": "stream",
          "name": "stderr",
          "text": [
            "100%|██████████| 48/48 [00:03<00:00, 12.88it/s]\n"
          ]
        },
        {
          "output_type": "stream",
          "name": "stdout",
          "text": [
            "Finished 146 / 317 batches\n"
          ]
        },
        {
          "output_type": "stream",
          "name": "stderr",
          "text": [
            "100%|██████████| 48/48 [00:03<00:00, 12.80it/s]\n"
          ]
        },
        {
          "output_type": "stream",
          "name": "stdout",
          "text": [
            "Finished 147 / 317 batches\n"
          ]
        },
        {
          "output_type": "stream",
          "name": "stderr",
          "text": [
            "100%|██████████| 48/48 [00:03<00:00, 13.07it/s]\n"
          ]
        },
        {
          "output_type": "stream",
          "name": "stdout",
          "text": [
            "Finished 148 / 317 batches\n"
          ]
        },
        {
          "output_type": "stream",
          "name": "stderr",
          "text": [
            "100%|██████████| 48/48 [00:03<00:00, 12.91it/s]\n"
          ]
        },
        {
          "output_type": "stream",
          "name": "stdout",
          "text": [
            "Finished 149 / 317 batches\n"
          ]
        },
        {
          "output_type": "stream",
          "name": "stderr",
          "text": [
            "100%|██████████| 48/48 [00:03<00:00, 12.94it/s]\n"
          ]
        },
        {
          "output_type": "stream",
          "name": "stdout",
          "text": [
            "Finished 150 / 317 batches\n"
          ]
        },
        {
          "output_type": "stream",
          "name": "stderr",
          "text": [
            "100%|██████████| 48/48 [00:03<00:00, 12.79it/s]\n"
          ]
        },
        {
          "output_type": "stream",
          "name": "stdout",
          "text": [
            "Finished 151 / 317 batches\n"
          ]
        },
        {
          "output_type": "stream",
          "name": "stderr",
          "text": [
            "100%|██████████| 48/48 [00:03<00:00, 12.82it/s]\n"
          ]
        },
        {
          "output_type": "stream",
          "name": "stdout",
          "text": [
            "Finished 152 / 317 batches\n"
          ]
        },
        {
          "output_type": "stream",
          "name": "stderr",
          "text": [
            "100%|██████████| 48/48 [00:03<00:00, 12.96it/s]\n"
          ]
        },
        {
          "output_type": "stream",
          "name": "stdout",
          "text": [
            "Finished 153 / 317 batches\n"
          ]
        },
        {
          "output_type": "stream",
          "name": "stderr",
          "text": [
            "100%|██████████| 48/48 [00:03<00:00, 13.01it/s]\n"
          ]
        },
        {
          "output_type": "stream",
          "name": "stdout",
          "text": [
            "Finished 154 / 317 batches\n"
          ]
        },
        {
          "output_type": "stream",
          "name": "stderr",
          "text": [
            "100%|██████████| 48/48 [00:03<00:00, 12.92it/s]\n"
          ]
        },
        {
          "output_type": "stream",
          "name": "stdout",
          "text": [
            "Finished 155 / 317 batches\n"
          ]
        },
        {
          "output_type": "stream",
          "name": "stderr",
          "text": [
            "100%|██████████| 48/48 [00:03<00:00, 12.92it/s]\n"
          ]
        },
        {
          "output_type": "stream",
          "name": "stdout",
          "text": [
            "Finished 156 / 317 batches\n"
          ]
        },
        {
          "output_type": "stream",
          "name": "stderr",
          "text": [
            "100%|██████████| 48/48 [00:04<00:00,  9.81it/s]\n"
          ]
        },
        {
          "output_type": "stream",
          "name": "stdout",
          "text": [
            "Finished 157 / 317 batches\n"
          ]
        },
        {
          "output_type": "stream",
          "name": "stderr",
          "text": [
            "100%|██████████| 48/48 [00:05<00:00,  8.87it/s]\n"
          ]
        },
        {
          "output_type": "stream",
          "name": "stdout",
          "text": [
            "Finished 158 / 317 batches\n"
          ]
        },
        {
          "output_type": "stream",
          "name": "stderr",
          "text": [
            "100%|██████████| 48/48 [00:03<00:00, 12.98it/s]\n"
          ]
        },
        {
          "output_type": "stream",
          "name": "stdout",
          "text": [
            "Finished 159 / 317 batches\n"
          ]
        },
        {
          "output_type": "stream",
          "name": "stderr",
          "text": [
            "100%|██████████| 48/48 [00:03<00:00, 13.02it/s]\n"
          ]
        },
        {
          "output_type": "stream",
          "name": "stdout",
          "text": [
            "Finished 160 / 317 batches\n"
          ]
        },
        {
          "output_type": "stream",
          "name": "stderr",
          "text": [
            "100%|██████████| 48/48 [00:03<00:00, 12.88it/s]\n"
          ]
        },
        {
          "output_type": "stream",
          "name": "stdout",
          "text": [
            "Finished 161 / 317 batches\n"
          ]
        },
        {
          "output_type": "stream",
          "name": "stderr",
          "text": [
            "100%|██████████| 48/48 [00:03<00:00, 12.91it/s]\n"
          ]
        },
        {
          "output_type": "stream",
          "name": "stdout",
          "text": [
            "Finished 162 / 317 batches\n"
          ]
        },
        {
          "output_type": "stream",
          "name": "stderr",
          "text": [
            "100%|██████████| 48/48 [00:03<00:00, 13.07it/s]\n"
          ]
        },
        {
          "output_type": "stream",
          "name": "stdout",
          "text": [
            "Finished 163 / 317 batches\n"
          ]
        },
        {
          "output_type": "stream",
          "name": "stderr",
          "text": [
            "100%|██████████| 48/48 [00:03<00:00, 13.03it/s]\n"
          ]
        },
        {
          "output_type": "stream",
          "name": "stdout",
          "text": [
            "Finished 164 / 317 batches\n"
          ]
        },
        {
          "output_type": "stream",
          "name": "stderr",
          "text": [
            "100%|██████████| 48/48 [00:03<00:00, 13.28it/s]\n"
          ]
        },
        {
          "output_type": "stream",
          "name": "stdout",
          "text": [
            "Finished 165 / 317 batches\n"
          ]
        },
        {
          "output_type": "stream",
          "name": "stderr",
          "text": [
            "100%|██████████| 48/48 [00:03<00:00, 12.96it/s]\n"
          ]
        },
        {
          "output_type": "stream",
          "name": "stdout",
          "text": [
            "Finished 166 / 317 batches\n"
          ]
        },
        {
          "output_type": "stream",
          "name": "stderr",
          "text": [
            "100%|██████████| 48/48 [00:03<00:00, 12.87it/s]\n"
          ]
        },
        {
          "output_type": "stream",
          "name": "stdout",
          "text": [
            "Finished 167 / 317 batches\n"
          ]
        },
        {
          "output_type": "stream",
          "name": "stderr",
          "text": [
            "100%|██████████| 48/48 [00:03<00:00, 12.90it/s]\n"
          ]
        },
        {
          "output_type": "stream",
          "name": "stdout",
          "text": [
            "Finished 168 / 317 batches\n"
          ]
        },
        {
          "output_type": "stream",
          "name": "stderr",
          "text": [
            "100%|██████████| 48/48 [00:03<00:00, 12.99it/s]\n"
          ]
        },
        {
          "output_type": "stream",
          "name": "stdout",
          "text": [
            "Finished 169 / 317 batches\n"
          ]
        },
        {
          "output_type": "stream",
          "name": "stderr",
          "text": [
            "100%|██████████| 48/48 [00:03<00:00, 13.06it/s]\n"
          ]
        },
        {
          "output_type": "stream",
          "name": "stdout",
          "text": [
            "Finished 170 / 317 batches\n"
          ]
        },
        {
          "output_type": "stream",
          "name": "stderr",
          "text": [
            "100%|██████████| 48/48 [00:03<00:00, 12.97it/s]\n"
          ]
        },
        {
          "output_type": "stream",
          "name": "stdout",
          "text": [
            "Finished 171 / 317 batches\n"
          ]
        },
        {
          "output_type": "stream",
          "name": "stderr",
          "text": [
            "100%|██████████| 48/48 [00:03<00:00, 12.96it/s]\n"
          ]
        },
        {
          "output_type": "stream",
          "name": "stdout",
          "text": [
            "Finished 172 / 317 batches\n"
          ]
        },
        {
          "output_type": "stream",
          "name": "stderr",
          "text": [
            "100%|██████████| 48/48 [00:03<00:00, 12.98it/s]\n"
          ]
        },
        {
          "output_type": "stream",
          "name": "stdout",
          "text": [
            "Finished 173 / 317 batches\n"
          ]
        },
        {
          "output_type": "stream",
          "name": "stderr",
          "text": [
            "100%|██████████| 48/48 [00:03<00:00, 12.94it/s]\n"
          ]
        },
        {
          "output_type": "stream",
          "name": "stdout",
          "text": [
            "Finished 174 / 317 batches\n"
          ]
        },
        {
          "output_type": "stream",
          "name": "stderr",
          "text": [
            "100%|██████████| 48/48 [00:03<00:00, 12.87it/s]\n"
          ]
        },
        {
          "output_type": "stream",
          "name": "stdout",
          "text": [
            "Finished 175 / 317 batches\n"
          ]
        },
        {
          "output_type": "stream",
          "name": "stderr",
          "text": [
            "100%|██████████| 48/48 [00:03<00:00, 12.95it/s]\n"
          ]
        },
        {
          "output_type": "stream",
          "name": "stdout",
          "text": [
            "Finished 176 / 317 batches\n"
          ]
        },
        {
          "output_type": "stream",
          "name": "stderr",
          "text": [
            "100%|██████████| 48/48 [00:03<00:00, 12.80it/s]\n"
          ]
        },
        {
          "output_type": "stream",
          "name": "stdout",
          "text": [
            "Finished 177 / 317 batches\n"
          ]
        },
        {
          "output_type": "stream",
          "name": "stderr",
          "text": [
            "100%|██████████| 48/48 [00:03<00:00, 12.87it/s]\n"
          ]
        },
        {
          "output_type": "stream",
          "name": "stdout",
          "text": [
            "Finished 178 / 317 batches\n"
          ]
        },
        {
          "output_type": "stream",
          "name": "stderr",
          "text": [
            "100%|██████████| 48/48 [00:03<00:00, 13.01it/s]\n"
          ]
        },
        {
          "output_type": "stream",
          "name": "stdout",
          "text": [
            "Finished 179 / 317 batches\n"
          ]
        },
        {
          "output_type": "stream",
          "name": "stderr",
          "text": [
            "100%|██████████| 48/48 [00:03<00:00, 13.01it/s]\n"
          ]
        },
        {
          "output_type": "stream",
          "name": "stdout",
          "text": [
            "Finished 180 / 317 batches\n"
          ]
        },
        {
          "output_type": "stream",
          "name": "stderr",
          "text": [
            "100%|██████████| 48/48 [00:03<00:00, 13.05it/s]\n"
          ]
        },
        {
          "output_type": "stream",
          "name": "stdout",
          "text": [
            "Finished 181 / 317 batches\n"
          ]
        },
        {
          "output_type": "stream",
          "name": "stderr",
          "text": [
            "100%|██████████| 48/48 [00:04<00:00,  9.88it/s]\n"
          ]
        },
        {
          "output_type": "stream",
          "name": "stdout",
          "text": [
            "Finished 182 / 317 batches\n"
          ]
        },
        {
          "output_type": "stream",
          "name": "stderr",
          "text": [
            "100%|██████████| 48/48 [00:03<00:00, 12.99it/s]\n"
          ]
        },
        {
          "output_type": "stream",
          "name": "stdout",
          "text": [
            "Finished 183 / 317 batches\n"
          ]
        },
        {
          "output_type": "stream",
          "name": "stderr",
          "text": [
            "100%|██████████| 48/48 [00:03<00:00, 12.67it/s]\n"
          ]
        },
        {
          "output_type": "stream",
          "name": "stdout",
          "text": [
            "Finished 184 / 317 batches\n"
          ]
        },
        {
          "output_type": "stream",
          "name": "stderr",
          "text": [
            "100%|██████████| 48/48 [00:03<00:00, 13.07it/s]\n"
          ]
        },
        {
          "output_type": "stream",
          "name": "stdout",
          "text": [
            "Finished 185 / 317 batches\n"
          ]
        },
        {
          "output_type": "stream",
          "name": "stderr",
          "text": [
            "100%|██████████| 48/48 [00:03<00:00, 13.03it/s]\n"
          ]
        },
        {
          "output_type": "stream",
          "name": "stdout",
          "text": [
            "Finished 186 / 317 batches\n"
          ]
        },
        {
          "output_type": "stream",
          "name": "stderr",
          "text": [
            "100%|██████████| 48/48 [00:03<00:00, 13.09it/s]\n"
          ]
        },
        {
          "output_type": "stream",
          "name": "stdout",
          "text": [
            "Finished 187 / 317 batches\n"
          ]
        },
        {
          "output_type": "stream",
          "name": "stderr",
          "text": [
            "100%|██████████| 48/48 [00:03<00:00, 12.85it/s]\n"
          ]
        },
        {
          "output_type": "stream",
          "name": "stdout",
          "text": [
            "Finished 188 / 317 batches\n"
          ]
        },
        {
          "output_type": "stream",
          "name": "stderr",
          "text": [
            "100%|██████████| 48/48 [00:03<00:00, 13.15it/s]\n"
          ]
        },
        {
          "output_type": "stream",
          "name": "stdout",
          "text": [
            "Finished 189 / 317 batches\n"
          ]
        },
        {
          "output_type": "stream",
          "name": "stderr",
          "text": [
            "100%|██████████| 48/48 [00:03<00:00, 13.18it/s]\n"
          ]
        },
        {
          "output_type": "stream",
          "name": "stdout",
          "text": [
            "Finished 190 / 317 batches\n"
          ]
        },
        {
          "output_type": "stream",
          "name": "stderr",
          "text": [
            "100%|██████████| 48/48 [00:03<00:00, 12.95it/s]\n"
          ]
        },
        {
          "output_type": "stream",
          "name": "stdout",
          "text": [
            "Finished 191 / 317 batches\n"
          ]
        },
        {
          "output_type": "stream",
          "name": "stderr",
          "text": [
            "100%|██████████| 48/48 [00:03<00:00, 13.07it/s]\n"
          ]
        },
        {
          "output_type": "stream",
          "name": "stdout",
          "text": [
            "Finished 192 / 317 batches\n"
          ]
        },
        {
          "output_type": "stream",
          "name": "stderr",
          "text": [
            "100%|██████████| 48/48 [00:03<00:00, 13.10it/s]\n"
          ]
        },
        {
          "output_type": "stream",
          "name": "stdout",
          "text": [
            "Finished 193 / 317 batches\n"
          ]
        },
        {
          "output_type": "stream",
          "name": "stderr",
          "text": [
            "100%|██████████| 48/48 [00:03<00:00, 13.16it/s]\n"
          ]
        },
        {
          "output_type": "stream",
          "name": "stdout",
          "text": [
            "Finished 194 / 317 batches\n"
          ]
        },
        {
          "output_type": "stream",
          "name": "stderr",
          "text": [
            "100%|██████████| 48/48 [00:03<00:00, 13.01it/s]\n"
          ]
        },
        {
          "output_type": "stream",
          "name": "stdout",
          "text": [
            "Finished 195 / 317 batches\n"
          ]
        },
        {
          "output_type": "stream",
          "name": "stderr",
          "text": [
            "100%|██████████| 48/48 [00:03<00:00, 13.10it/s]\n"
          ]
        },
        {
          "output_type": "stream",
          "name": "stdout",
          "text": [
            "Finished 196 / 317 batches\n"
          ]
        },
        {
          "output_type": "stream",
          "name": "stderr",
          "text": [
            "100%|██████████| 48/48 [00:03<00:00, 12.99it/s]\n"
          ]
        },
        {
          "output_type": "stream",
          "name": "stdout",
          "text": [
            "Finished 197 / 317 batches\n"
          ]
        },
        {
          "output_type": "stream",
          "name": "stderr",
          "text": [
            "100%|██████████| 48/48 [00:03<00:00, 13.23it/s]\n"
          ]
        },
        {
          "output_type": "stream",
          "name": "stdout",
          "text": [
            "Finished 198 / 317 batches\n"
          ]
        },
        {
          "output_type": "stream",
          "name": "stderr",
          "text": [
            "100%|██████████| 48/48 [00:03<00:00, 12.91it/s]\n"
          ]
        },
        {
          "output_type": "stream",
          "name": "stdout",
          "text": [
            "Finished 199 / 317 batches\n"
          ]
        },
        {
          "output_type": "stream",
          "name": "stderr",
          "text": [
            "100%|██████████| 48/48 [00:03<00:00, 13.09it/s]\n"
          ]
        },
        {
          "output_type": "stream",
          "name": "stdout",
          "text": [
            "Finished 200 / 317 batches\n"
          ]
        },
        {
          "output_type": "stream",
          "name": "stderr",
          "text": [
            "100%|██████████| 48/48 [00:03<00:00, 13.01it/s]\n"
          ]
        },
        {
          "output_type": "stream",
          "name": "stdout",
          "text": [
            "Finished 201 / 317 batches\n"
          ]
        },
        {
          "output_type": "stream",
          "name": "stderr",
          "text": [
            "100%|██████████| 48/48 [00:03<00:00, 12.99it/s]\n"
          ]
        },
        {
          "output_type": "stream",
          "name": "stdout",
          "text": [
            "Finished 202 / 317 batches\n"
          ]
        },
        {
          "output_type": "stream",
          "name": "stderr",
          "text": [
            "100%|██████████| 48/48 [00:03<00:00, 12.99it/s]\n"
          ]
        },
        {
          "output_type": "stream",
          "name": "stdout",
          "text": [
            "Finished 203 / 317 batches\n"
          ]
        },
        {
          "output_type": "stream",
          "name": "stderr",
          "text": [
            "100%|██████████| 48/48 [00:03<00:00, 12.85it/s]\n"
          ]
        },
        {
          "output_type": "stream",
          "name": "stdout",
          "text": [
            "Finished 204 / 317 batches\n"
          ]
        },
        {
          "output_type": "stream",
          "name": "stderr",
          "text": [
            "100%|██████████| 48/48 [00:03<00:00, 13.14it/s]\n"
          ]
        },
        {
          "output_type": "stream",
          "name": "stdout",
          "text": [
            "Finished 205 / 317 batches\n"
          ]
        },
        {
          "output_type": "stream",
          "name": "stderr",
          "text": [
            "100%|██████████| 48/48 [00:03<00:00, 13.05it/s]\n"
          ]
        },
        {
          "output_type": "stream",
          "name": "stdout",
          "text": [
            "Finished 206 / 317 batches\n"
          ]
        },
        {
          "output_type": "stream",
          "name": "stderr",
          "text": [
            "100%|██████████| 48/48 [00:03<00:00, 12.88it/s]\n"
          ]
        },
        {
          "output_type": "stream",
          "name": "stdout",
          "text": [
            "Finished 207 / 317 batches\n"
          ]
        },
        {
          "output_type": "stream",
          "name": "stderr",
          "text": [
            "100%|██████████| 48/48 [00:03<00:00, 12.92it/s]\n"
          ]
        },
        {
          "output_type": "stream",
          "name": "stdout",
          "text": [
            "Finished 208 / 317 batches\n"
          ]
        },
        {
          "output_type": "stream",
          "name": "stderr",
          "text": [
            "100%|██████████| 48/48 [00:03<00:00, 12.98it/s]\n"
          ]
        },
        {
          "output_type": "stream",
          "name": "stdout",
          "text": [
            "Finished 209 / 317 batches\n"
          ]
        },
        {
          "output_type": "stream",
          "name": "stderr",
          "text": [
            "100%|██████████| 48/48 [00:03<00:00, 13.11it/s]\n"
          ]
        },
        {
          "output_type": "stream",
          "name": "stdout",
          "text": [
            "Finished 210 / 317 batches\n"
          ]
        },
        {
          "output_type": "stream",
          "name": "stderr",
          "text": [
            "100%|██████████| 48/48 [00:03<00:00, 12.98it/s]\n"
          ]
        },
        {
          "output_type": "stream",
          "name": "stdout",
          "text": [
            "Finished 211 / 317 batches\n"
          ]
        },
        {
          "output_type": "stream",
          "name": "stderr",
          "text": [
            "100%|██████████| 48/48 [00:03<00:00, 12.88it/s]\n"
          ]
        },
        {
          "output_type": "stream",
          "name": "stdout",
          "text": [
            "Finished 212 / 317 batches\n"
          ]
        },
        {
          "output_type": "stream",
          "name": "stderr",
          "text": [
            "100%|██████████| 48/48 [00:03<00:00, 13.00it/s]\n"
          ]
        },
        {
          "output_type": "stream",
          "name": "stdout",
          "text": [
            "Finished 213 / 317 batches\n"
          ]
        },
        {
          "output_type": "stream",
          "name": "stderr",
          "text": [
            "100%|██████████| 48/48 [00:03<00:00, 12.98it/s]\n"
          ]
        },
        {
          "output_type": "stream",
          "name": "stdout",
          "text": [
            "Finished 214 / 317 batches\n"
          ]
        },
        {
          "output_type": "stream",
          "name": "stderr",
          "text": [
            "100%|██████████| 48/48 [00:03<00:00, 12.89it/s]\n"
          ]
        },
        {
          "output_type": "stream",
          "name": "stdout",
          "text": [
            "Finished 215 / 317 batches\n"
          ]
        },
        {
          "output_type": "stream",
          "name": "stderr",
          "text": [
            "100%|██████████| 48/48 [00:03<00:00, 13.13it/s]\n"
          ]
        },
        {
          "output_type": "stream",
          "name": "stdout",
          "text": [
            "Finished 216 / 317 batches\n"
          ]
        },
        {
          "output_type": "stream",
          "name": "stderr",
          "text": [
            "100%|██████████| 48/48 [00:03<00:00, 13.09it/s]\n"
          ]
        },
        {
          "output_type": "stream",
          "name": "stdout",
          "text": [
            "Finished 217 / 317 batches\n"
          ]
        },
        {
          "output_type": "stream",
          "name": "stderr",
          "text": [
            "100%|██████████| 48/48 [00:03<00:00, 13.08it/s]\n"
          ]
        },
        {
          "output_type": "stream",
          "name": "stdout",
          "text": [
            "Finished 218 / 317 batches\n"
          ]
        },
        {
          "output_type": "stream",
          "name": "stderr",
          "text": [
            "100%|██████████| 48/48 [00:03<00:00, 13.02it/s]\n"
          ]
        },
        {
          "output_type": "stream",
          "name": "stdout",
          "text": [
            "Finished 219 / 317 batches\n"
          ]
        },
        {
          "output_type": "stream",
          "name": "stderr",
          "text": [
            "100%|██████████| 48/48 [00:03<00:00, 12.91it/s]\n"
          ]
        },
        {
          "output_type": "stream",
          "name": "stdout",
          "text": [
            "Finished 220 / 317 batches\n"
          ]
        },
        {
          "output_type": "stream",
          "name": "stderr",
          "text": [
            "100%|██████████| 48/48 [00:03<00:00, 13.06it/s]\n"
          ]
        },
        {
          "output_type": "stream",
          "name": "stdout",
          "text": [
            "Finished 221 / 317 batches\n"
          ]
        },
        {
          "output_type": "stream",
          "name": "stderr",
          "text": [
            "100%|██████████| 48/48 [00:03<00:00, 13.00it/s]\n"
          ]
        },
        {
          "output_type": "stream",
          "name": "stdout",
          "text": [
            "Finished 222 / 317 batches\n"
          ]
        },
        {
          "output_type": "stream",
          "name": "stderr",
          "text": [
            "100%|██████████| 48/48 [00:03<00:00, 13.02it/s]\n"
          ]
        },
        {
          "output_type": "stream",
          "name": "stdout",
          "text": [
            "Finished 223 / 317 batches\n"
          ]
        },
        {
          "output_type": "stream",
          "name": "stderr",
          "text": [
            "100%|██████████| 48/48 [00:03<00:00, 13.06it/s]\n"
          ]
        },
        {
          "output_type": "stream",
          "name": "stdout",
          "text": [
            "Finished 224 / 317 batches\n"
          ]
        },
        {
          "output_type": "stream",
          "name": "stderr",
          "text": [
            "100%|██████████| 48/48 [00:03<00:00, 13.06it/s]\n"
          ]
        },
        {
          "output_type": "stream",
          "name": "stdout",
          "text": [
            "Finished 225 / 317 batches\n"
          ]
        },
        {
          "output_type": "stream",
          "name": "stderr",
          "text": [
            "100%|██████████| 48/48 [00:03<00:00, 13.08it/s]\n"
          ]
        },
        {
          "output_type": "stream",
          "name": "stdout",
          "text": [
            "Finished 226 / 317 batches\n"
          ]
        },
        {
          "output_type": "stream",
          "name": "stderr",
          "text": [
            "100%|██████████| 48/48 [00:03<00:00, 13.07it/s]\n"
          ]
        },
        {
          "output_type": "stream",
          "name": "stdout",
          "text": [
            "Finished 227 / 317 batches\n"
          ]
        },
        {
          "output_type": "stream",
          "name": "stderr",
          "text": [
            "100%|██████████| 48/48 [00:03<00:00, 13.03it/s]\n"
          ]
        },
        {
          "output_type": "stream",
          "name": "stdout",
          "text": [
            "Finished 228 / 317 batches\n"
          ]
        },
        {
          "output_type": "stream",
          "name": "stderr",
          "text": [
            "100%|██████████| 48/48 [00:04<00:00, 11.59it/s]\n"
          ]
        },
        {
          "output_type": "stream",
          "name": "stdout",
          "text": [
            "Finished 229 / 317 batches\n"
          ]
        },
        {
          "output_type": "stream",
          "name": "stderr",
          "text": [
            "100%|██████████| 48/48 [00:04<00:00, 11.05it/s]\n"
          ]
        },
        {
          "output_type": "stream",
          "name": "stdout",
          "text": [
            "Finished 230 / 317 batches\n"
          ]
        },
        {
          "output_type": "stream",
          "name": "stderr",
          "text": [
            "100%|██████████| 48/48 [00:06<00:00,  7.83it/s]\n"
          ]
        },
        {
          "output_type": "stream",
          "name": "stdout",
          "text": [
            "Finished 231 / 317 batches\n"
          ]
        },
        {
          "output_type": "stream",
          "name": "stderr",
          "text": [
            "100%|██████████| 48/48 [00:07<00:00,  6.60it/s]\n"
          ]
        },
        {
          "output_type": "stream",
          "name": "stdout",
          "text": [
            "Finished 232 / 317 batches\n"
          ]
        },
        {
          "output_type": "stream",
          "name": "stderr",
          "text": [
            "100%|██████████| 48/48 [00:05<00:00,  8.01it/s]\n"
          ]
        },
        {
          "output_type": "stream",
          "name": "stdout",
          "text": [
            "Finished 233 / 317 batches\n"
          ]
        },
        {
          "output_type": "stream",
          "name": "stderr",
          "text": [
            "100%|██████████| 48/48 [00:05<00:00,  8.09it/s]\n"
          ]
        },
        {
          "output_type": "stream",
          "name": "stdout",
          "text": [
            "Finished 234 / 317 batches\n"
          ]
        },
        {
          "output_type": "stream",
          "name": "stderr",
          "text": [
            "100%|██████████| 48/48 [00:06<00:00,  7.45it/s]\n"
          ]
        },
        {
          "output_type": "stream",
          "name": "stdout",
          "text": [
            "Finished 235 / 317 batches\n"
          ]
        },
        {
          "output_type": "stream",
          "name": "stderr",
          "text": [
            "100%|██████████| 48/48 [00:03<00:00, 12.79it/s]\n"
          ]
        },
        {
          "output_type": "stream",
          "name": "stdout",
          "text": [
            "Finished 236 / 317 batches\n"
          ]
        },
        {
          "output_type": "stream",
          "name": "stderr",
          "text": [
            "100%|██████████| 48/48 [00:03<00:00, 13.13it/s]\n"
          ]
        },
        {
          "output_type": "stream",
          "name": "stdout",
          "text": [
            "Finished 237 / 317 batches\n"
          ]
        },
        {
          "output_type": "stream",
          "name": "stderr",
          "text": [
            "100%|██████████| 48/48 [00:03<00:00, 13.14it/s]\n"
          ]
        },
        {
          "output_type": "stream",
          "name": "stdout",
          "text": [
            "Finished 238 / 317 batches\n"
          ]
        },
        {
          "output_type": "stream",
          "name": "stderr",
          "text": [
            "100%|██████████| 48/48 [00:03<00:00, 12.97it/s]\n"
          ]
        },
        {
          "output_type": "stream",
          "name": "stdout",
          "text": [
            "Finished 239 / 317 batches\n"
          ]
        },
        {
          "output_type": "stream",
          "name": "stderr",
          "text": [
            "100%|██████████| 48/48 [00:03<00:00, 13.03it/s]\n"
          ]
        },
        {
          "output_type": "stream",
          "name": "stdout",
          "text": [
            "Finished 240 / 317 batches\n"
          ]
        },
        {
          "output_type": "stream",
          "name": "stderr",
          "text": [
            "100%|██████████| 48/48 [00:03<00:00, 13.00it/s]\n"
          ]
        },
        {
          "output_type": "stream",
          "name": "stdout",
          "text": [
            "Finished 241 / 317 batches\n"
          ]
        },
        {
          "output_type": "stream",
          "name": "stderr",
          "text": [
            "100%|██████████| 48/48 [00:03<00:00, 12.99it/s]\n"
          ]
        },
        {
          "output_type": "stream",
          "name": "stdout",
          "text": [
            "Finished 242 / 317 batches\n"
          ]
        },
        {
          "output_type": "stream",
          "name": "stderr",
          "text": [
            "100%|██████████| 48/48 [00:03<00:00, 12.97it/s]\n"
          ]
        },
        {
          "output_type": "stream",
          "name": "stdout",
          "text": [
            "Finished 243 / 317 batches\n"
          ]
        },
        {
          "output_type": "stream",
          "name": "stderr",
          "text": [
            "100%|██████████| 48/48 [00:03<00:00, 12.83it/s]\n"
          ]
        },
        {
          "output_type": "stream",
          "name": "stdout",
          "text": [
            "Finished 244 / 317 batches\n"
          ]
        },
        {
          "output_type": "stream",
          "name": "stderr",
          "text": [
            "100%|██████████| 48/48 [00:03<00:00, 12.94it/s]\n"
          ]
        },
        {
          "output_type": "stream",
          "name": "stdout",
          "text": [
            "Finished 245 / 317 batches\n"
          ]
        },
        {
          "output_type": "stream",
          "name": "stderr",
          "text": [
            "100%|██████████| 48/48 [00:03<00:00, 12.89it/s]\n"
          ]
        },
        {
          "output_type": "stream",
          "name": "stdout",
          "text": [
            "Finished 246 / 317 batches\n"
          ]
        },
        {
          "output_type": "stream",
          "name": "stderr",
          "text": [
            "100%|██████████| 48/48 [00:03<00:00, 12.80it/s]\n"
          ]
        },
        {
          "output_type": "stream",
          "name": "stdout",
          "text": [
            "Finished 247 / 317 batches\n"
          ]
        },
        {
          "output_type": "stream",
          "name": "stderr",
          "text": [
            "100%|██████████| 48/48 [00:03<00:00, 13.16it/s]\n"
          ]
        },
        {
          "output_type": "stream",
          "name": "stdout",
          "text": [
            "Finished 248 / 317 batches\n"
          ]
        },
        {
          "output_type": "stream",
          "name": "stderr",
          "text": [
            "100%|██████████| 48/48 [00:03<00:00, 12.78it/s]\n"
          ]
        },
        {
          "output_type": "stream",
          "name": "stdout",
          "text": [
            "Finished 249 / 317 batches\n"
          ]
        },
        {
          "output_type": "stream",
          "name": "stderr",
          "text": [
            "100%|██████████| 48/48 [00:03<00:00, 13.08it/s]\n"
          ]
        },
        {
          "output_type": "stream",
          "name": "stdout",
          "text": [
            "Finished 250 / 317 batches\n"
          ]
        },
        {
          "output_type": "stream",
          "name": "stderr",
          "text": [
            "100%|██████████| 48/48 [00:03<00:00, 13.01it/s]\n"
          ]
        },
        {
          "output_type": "stream",
          "name": "stdout",
          "text": [
            "Finished 251 / 317 batches\n"
          ]
        },
        {
          "output_type": "stream",
          "name": "stderr",
          "text": [
            "100%|██████████| 48/48 [00:03<00:00, 13.13it/s]\n"
          ]
        },
        {
          "output_type": "stream",
          "name": "stdout",
          "text": [
            "Finished 252 / 317 batches\n"
          ]
        },
        {
          "output_type": "stream",
          "name": "stderr",
          "text": [
            "100%|██████████| 48/48 [00:03<00:00, 12.92it/s]\n"
          ]
        },
        {
          "output_type": "stream",
          "name": "stdout",
          "text": [
            "Finished 253 / 317 batches\n"
          ]
        },
        {
          "output_type": "stream",
          "name": "stderr",
          "text": [
            "100%|██████████| 48/48 [00:03<00:00, 12.98it/s]\n"
          ]
        },
        {
          "output_type": "stream",
          "name": "stdout",
          "text": [
            "Finished 254 / 317 batches\n"
          ]
        },
        {
          "output_type": "stream",
          "name": "stderr",
          "text": [
            "100%|██████████| 48/48 [00:04<00:00, 11.89it/s]\n"
          ]
        },
        {
          "output_type": "stream",
          "name": "stdout",
          "text": [
            "Finished 255 / 317 batches\n"
          ]
        },
        {
          "output_type": "stream",
          "name": "stderr",
          "text": [
            "100%|██████████| 48/48 [00:03<00:00, 13.04it/s]\n"
          ]
        },
        {
          "output_type": "stream",
          "name": "stdout",
          "text": [
            "Finished 256 / 317 batches\n"
          ]
        },
        {
          "output_type": "stream",
          "name": "stderr",
          "text": [
            "100%|██████████| 48/48 [00:03<00:00, 13.00it/s]\n"
          ]
        },
        {
          "output_type": "stream",
          "name": "stdout",
          "text": [
            "Finished 257 / 317 batches\n"
          ]
        },
        {
          "output_type": "stream",
          "name": "stderr",
          "text": [
            "100%|██████████| 48/48 [00:04<00:00, 11.84it/s]\n"
          ]
        },
        {
          "output_type": "stream",
          "name": "stdout",
          "text": [
            "Finished 258 / 317 batches\n"
          ]
        },
        {
          "output_type": "stream",
          "name": "stderr",
          "text": [
            "100%|██████████| 48/48 [00:03<00:00, 12.90it/s]\n"
          ]
        },
        {
          "output_type": "stream",
          "name": "stdout",
          "text": [
            "Finished 259 / 317 batches\n"
          ]
        },
        {
          "output_type": "stream",
          "name": "stderr",
          "text": [
            "100%|██████████| 48/48 [00:03<00:00, 12.97it/s]\n"
          ]
        },
        {
          "output_type": "stream",
          "name": "stdout",
          "text": [
            "Finished 260 / 317 batches\n"
          ]
        },
        {
          "output_type": "stream",
          "name": "stderr",
          "text": [
            "100%|██████████| 48/48 [00:03<00:00, 12.97it/s]\n"
          ]
        },
        {
          "output_type": "stream",
          "name": "stdout",
          "text": [
            "Finished 261 / 317 batches\n"
          ]
        },
        {
          "output_type": "stream",
          "name": "stderr",
          "text": [
            "100%|██████████| 48/48 [00:03<00:00, 13.08it/s]\n"
          ]
        },
        {
          "output_type": "stream",
          "name": "stdout",
          "text": [
            "Finished 262 / 317 batches\n"
          ]
        },
        {
          "output_type": "stream",
          "name": "stderr",
          "text": [
            "100%|██████████| 48/48 [00:03<00:00, 13.05it/s]\n"
          ]
        },
        {
          "output_type": "stream",
          "name": "stdout",
          "text": [
            "Finished 263 / 317 batches\n"
          ]
        },
        {
          "output_type": "stream",
          "name": "stderr",
          "text": [
            "100%|██████████| 48/48 [00:03<00:00, 13.10it/s]\n"
          ]
        },
        {
          "output_type": "stream",
          "name": "stdout",
          "text": [
            "Finished 264 / 317 batches\n"
          ]
        },
        {
          "output_type": "stream",
          "name": "stderr",
          "text": [
            "100%|██████████| 48/48 [00:03<00:00, 12.94it/s]\n"
          ]
        },
        {
          "output_type": "stream",
          "name": "stdout",
          "text": [
            "Finished 265 / 317 batches\n"
          ]
        },
        {
          "output_type": "stream",
          "name": "stderr",
          "text": [
            "100%|██████████| 48/48 [00:03<00:00, 13.06it/s]\n"
          ]
        },
        {
          "output_type": "stream",
          "name": "stdout",
          "text": [
            "Finished 266 / 317 batches\n"
          ]
        },
        {
          "output_type": "stream",
          "name": "stderr",
          "text": [
            "100%|██████████| 48/48 [00:03<00:00, 12.91it/s]\n"
          ]
        },
        {
          "output_type": "stream",
          "name": "stdout",
          "text": [
            "Finished 267 / 317 batches\n"
          ]
        },
        {
          "output_type": "stream",
          "name": "stderr",
          "text": [
            "100%|██████████| 48/48 [00:03<00:00, 13.13it/s]\n"
          ]
        },
        {
          "output_type": "stream",
          "name": "stdout",
          "text": [
            "Finished 268 / 317 batches\n"
          ]
        },
        {
          "output_type": "stream",
          "name": "stderr",
          "text": [
            "100%|██████████| 48/48 [00:03<00:00, 13.09it/s]\n"
          ]
        },
        {
          "output_type": "stream",
          "name": "stdout",
          "text": [
            "Finished 269 / 317 batches\n"
          ]
        },
        {
          "output_type": "stream",
          "name": "stderr",
          "text": [
            "100%|██████████| 48/48 [00:03<00:00, 13.11it/s]\n"
          ]
        },
        {
          "output_type": "stream",
          "name": "stdout",
          "text": [
            "Finished 270 / 317 batches\n"
          ]
        },
        {
          "output_type": "stream",
          "name": "stderr",
          "text": [
            "100%|██████████| 48/48 [00:03<00:00, 13.12it/s]\n"
          ]
        },
        {
          "output_type": "stream",
          "name": "stdout",
          "text": [
            "Finished 271 / 317 batches\n"
          ]
        },
        {
          "output_type": "stream",
          "name": "stderr",
          "text": [
            "100%|██████████| 48/48 [00:03<00:00, 13.21it/s]\n"
          ]
        },
        {
          "output_type": "stream",
          "name": "stdout",
          "text": [
            "Finished 272 / 317 batches\n"
          ]
        },
        {
          "output_type": "stream",
          "name": "stderr",
          "text": [
            "100%|██████████| 48/48 [00:03<00:00, 12.99it/s]\n"
          ]
        },
        {
          "output_type": "stream",
          "name": "stdout",
          "text": [
            "Finished 273 / 317 batches\n"
          ]
        },
        {
          "output_type": "stream",
          "name": "stderr",
          "text": [
            "100%|██████████| 48/48 [00:03<00:00, 13.07it/s]\n"
          ]
        },
        {
          "output_type": "stream",
          "name": "stdout",
          "text": [
            "Finished 274 / 317 batches\n"
          ]
        },
        {
          "output_type": "stream",
          "name": "stderr",
          "text": [
            "100%|██████████| 48/48 [00:03<00:00, 13.02it/s]\n"
          ]
        },
        {
          "output_type": "stream",
          "name": "stdout",
          "text": [
            "Finished 275 / 317 batches\n"
          ]
        },
        {
          "output_type": "stream",
          "name": "stderr",
          "text": [
            "100%|██████████| 48/48 [00:03<00:00, 12.93it/s]\n"
          ]
        },
        {
          "output_type": "stream",
          "name": "stdout",
          "text": [
            "Finished 276 / 317 batches\n"
          ]
        },
        {
          "output_type": "stream",
          "name": "stderr",
          "text": [
            "100%|██████████| 48/48 [00:03<00:00, 12.83it/s]\n"
          ]
        },
        {
          "output_type": "stream",
          "name": "stdout",
          "text": [
            "Finished 277 / 317 batches\n"
          ]
        },
        {
          "output_type": "stream",
          "name": "stderr",
          "text": [
            "100%|██████████| 48/48 [00:03<00:00, 12.98it/s]\n"
          ]
        },
        {
          "output_type": "stream",
          "name": "stdout",
          "text": [
            "Finished 278 / 317 batches\n"
          ]
        },
        {
          "output_type": "stream",
          "name": "stderr",
          "text": [
            "100%|██████████| 48/48 [00:03<00:00, 13.00it/s]\n"
          ]
        },
        {
          "output_type": "stream",
          "name": "stdout",
          "text": [
            "Finished 279 / 317 batches\n"
          ]
        },
        {
          "output_type": "stream",
          "name": "stderr",
          "text": [
            "100%|██████████| 48/48 [00:03<00:00, 12.97it/s]\n"
          ]
        },
        {
          "output_type": "stream",
          "name": "stdout",
          "text": [
            "Finished 280 / 317 batches\n"
          ]
        },
        {
          "output_type": "stream",
          "name": "stderr",
          "text": [
            "100%|██████████| 48/48 [00:03<00:00, 12.89it/s]\n"
          ]
        },
        {
          "output_type": "stream",
          "name": "stdout",
          "text": [
            "Finished 281 / 317 batches\n"
          ]
        },
        {
          "output_type": "stream",
          "name": "stderr",
          "text": [
            "100%|██████████| 48/48 [00:03<00:00, 12.93it/s]\n"
          ]
        },
        {
          "output_type": "stream",
          "name": "stdout",
          "text": [
            "Finished 282 / 317 batches\n"
          ]
        },
        {
          "output_type": "stream",
          "name": "stderr",
          "text": [
            "100%|██████████| 48/48 [00:03<00:00, 13.16it/s]\n"
          ]
        },
        {
          "output_type": "stream",
          "name": "stdout",
          "text": [
            "Finished 283 / 317 batches\n"
          ]
        },
        {
          "output_type": "stream",
          "name": "stderr",
          "text": [
            "100%|██████████| 48/48 [00:04<00:00, 11.80it/s]\n"
          ]
        },
        {
          "output_type": "stream",
          "name": "stdout",
          "text": [
            "Finished 284 / 317 batches\n"
          ]
        },
        {
          "output_type": "stream",
          "name": "stderr",
          "text": [
            "100%|██████████| 48/48 [00:03<00:00, 12.77it/s]\n"
          ]
        },
        {
          "output_type": "stream",
          "name": "stdout",
          "text": [
            "Finished 285 / 317 batches\n"
          ]
        },
        {
          "output_type": "stream",
          "name": "stderr",
          "text": [
            "100%|██████████| 48/48 [00:04<00:00, 11.67it/s]\n"
          ]
        },
        {
          "output_type": "stream",
          "name": "stdout",
          "text": [
            "Finished 286 / 317 batches\n"
          ]
        },
        {
          "output_type": "stream",
          "name": "stderr",
          "text": [
            "100%|██████████| 48/48 [00:03<00:00, 12.98it/s]\n"
          ]
        },
        {
          "output_type": "stream",
          "name": "stdout",
          "text": [
            "Finished 287 / 317 batches\n"
          ]
        },
        {
          "output_type": "stream",
          "name": "stderr",
          "text": [
            "100%|██████████| 48/48 [00:03<00:00, 12.81it/s]\n"
          ]
        },
        {
          "output_type": "stream",
          "name": "stdout",
          "text": [
            "Finished 288 / 317 batches\n"
          ]
        },
        {
          "output_type": "stream",
          "name": "stderr",
          "text": [
            "100%|██████████| 48/48 [00:03<00:00, 13.12it/s]\n"
          ]
        },
        {
          "output_type": "stream",
          "name": "stdout",
          "text": [
            "Finished 289 / 317 batches\n"
          ]
        },
        {
          "output_type": "stream",
          "name": "stderr",
          "text": [
            "100%|██████████| 48/48 [00:03<00:00, 12.96it/s]\n"
          ]
        },
        {
          "output_type": "stream",
          "name": "stdout",
          "text": [
            "Finished 290 / 317 batches\n"
          ]
        },
        {
          "output_type": "stream",
          "name": "stderr",
          "text": [
            "100%|██████████| 48/48 [00:03<00:00, 12.88it/s]\n"
          ]
        },
        {
          "output_type": "stream",
          "name": "stdout",
          "text": [
            "Finished 291 / 317 batches\n"
          ]
        },
        {
          "output_type": "stream",
          "name": "stderr",
          "text": [
            "100%|██████████| 48/48 [00:03<00:00, 12.98it/s]\n"
          ]
        },
        {
          "output_type": "stream",
          "name": "stdout",
          "text": [
            "Finished 292 / 317 batches\n"
          ]
        },
        {
          "output_type": "stream",
          "name": "stderr",
          "text": [
            "100%|██████████| 48/48 [00:03<00:00, 12.90it/s]\n"
          ]
        },
        {
          "output_type": "stream",
          "name": "stdout",
          "text": [
            "Finished 293 / 317 batches\n"
          ]
        },
        {
          "output_type": "stream",
          "name": "stderr",
          "text": [
            "100%|██████████| 48/48 [00:03<00:00, 13.06it/s]\n"
          ]
        },
        {
          "output_type": "stream",
          "name": "stdout",
          "text": [
            "Finished 294 / 317 batches\n"
          ]
        },
        {
          "output_type": "stream",
          "name": "stderr",
          "text": [
            "100%|██████████| 48/48 [00:03<00:00, 12.89it/s]\n"
          ]
        },
        {
          "output_type": "stream",
          "name": "stdout",
          "text": [
            "Finished 295 / 317 batches\n"
          ]
        },
        {
          "output_type": "stream",
          "name": "stderr",
          "text": [
            "100%|██████████| 48/48 [00:03<00:00, 13.18it/s]\n"
          ]
        },
        {
          "output_type": "stream",
          "name": "stdout",
          "text": [
            "Finished 296 / 317 batches\n"
          ]
        },
        {
          "output_type": "stream",
          "name": "stderr",
          "text": [
            "100%|██████████| 48/48 [00:04<00:00, 11.79it/s]\n"
          ]
        },
        {
          "output_type": "stream",
          "name": "stdout",
          "text": [
            "Finished 297 / 317 batches\n"
          ]
        },
        {
          "output_type": "stream",
          "name": "stderr",
          "text": [
            "100%|██████████| 48/48 [00:03<00:00, 13.11it/s]\n"
          ]
        },
        {
          "output_type": "stream",
          "name": "stdout",
          "text": [
            "Finished 298 / 317 batches\n"
          ]
        },
        {
          "output_type": "stream",
          "name": "stderr",
          "text": [
            "100%|██████████| 48/48 [00:03<00:00, 12.83it/s]\n"
          ]
        },
        {
          "output_type": "stream",
          "name": "stdout",
          "text": [
            "Finished 299 / 317 batches\n"
          ]
        },
        {
          "output_type": "stream",
          "name": "stderr",
          "text": [
            "100%|██████████| 48/48 [00:03<00:00, 12.90it/s]\n"
          ]
        },
        {
          "output_type": "stream",
          "name": "stdout",
          "text": [
            "Finished 300 / 317 batches\n"
          ]
        },
        {
          "output_type": "stream",
          "name": "stderr",
          "text": [
            "100%|██████████| 48/48 [00:03<00:00, 12.98it/s]\n"
          ]
        },
        {
          "output_type": "stream",
          "name": "stdout",
          "text": [
            "Finished 301 / 317 batches\n"
          ]
        },
        {
          "output_type": "stream",
          "name": "stderr",
          "text": [
            "100%|██████████| 48/48 [00:03<00:00, 12.91it/s]\n"
          ]
        },
        {
          "output_type": "stream",
          "name": "stdout",
          "text": [
            "Finished 302 / 317 batches\n"
          ]
        },
        {
          "output_type": "stream",
          "name": "stderr",
          "text": [
            "100%|██████████| 48/48 [00:03<00:00, 12.82it/s]\n"
          ]
        },
        {
          "output_type": "stream",
          "name": "stdout",
          "text": [
            "Finished 303 / 317 batches\n"
          ]
        },
        {
          "output_type": "stream",
          "name": "stderr",
          "text": [
            "100%|██████████| 48/48 [00:03<00:00, 13.06it/s]\n"
          ]
        },
        {
          "output_type": "stream",
          "name": "stdout",
          "text": [
            "Finished 304 / 317 batches\n"
          ]
        },
        {
          "output_type": "stream",
          "name": "stderr",
          "text": [
            "100%|██████████| 48/48 [00:03<00:00, 13.11it/s]\n"
          ]
        },
        {
          "output_type": "stream",
          "name": "stdout",
          "text": [
            "Finished 305 / 317 batches\n"
          ]
        },
        {
          "output_type": "stream",
          "name": "stderr",
          "text": [
            "100%|██████████| 48/48 [00:03<00:00, 13.10it/s]\n"
          ]
        },
        {
          "output_type": "stream",
          "name": "stdout",
          "text": [
            "Finished 306 / 317 batches\n"
          ]
        },
        {
          "output_type": "stream",
          "name": "stderr",
          "text": [
            "100%|██████████| 48/48 [00:03<00:00, 12.91it/s]\n"
          ]
        },
        {
          "output_type": "stream",
          "name": "stdout",
          "text": [
            "Finished 307 / 317 batches\n"
          ]
        },
        {
          "output_type": "stream",
          "name": "stderr",
          "text": [
            "100%|██████████| 48/48 [00:03<00:00, 13.05it/s]\n"
          ]
        },
        {
          "output_type": "stream",
          "name": "stdout",
          "text": [
            "Finished 308 / 317 batches\n"
          ]
        },
        {
          "output_type": "stream",
          "name": "stderr",
          "text": [
            "100%|██████████| 48/48 [00:03<00:00, 13.09it/s]\n"
          ]
        },
        {
          "output_type": "stream",
          "name": "stdout",
          "text": [
            "Finished 309 / 317 batches\n"
          ]
        },
        {
          "output_type": "stream",
          "name": "stderr",
          "text": [
            "100%|██████████| 48/48 [00:03<00:00, 13.00it/s]\n"
          ]
        },
        {
          "output_type": "stream",
          "name": "stdout",
          "text": [
            "Finished 310 / 317 batches\n"
          ]
        },
        {
          "output_type": "stream",
          "name": "stderr",
          "text": [
            "100%|██████████| 48/48 [00:03<00:00, 13.01it/s]\n"
          ]
        },
        {
          "output_type": "stream",
          "name": "stdout",
          "text": [
            "Finished 311 / 317 batches\n"
          ]
        },
        {
          "output_type": "stream",
          "name": "stderr",
          "text": [
            "100%|██████████| 48/48 [00:03<00:00, 13.07it/s]\n"
          ]
        },
        {
          "output_type": "stream",
          "name": "stdout",
          "text": [
            "Finished 312 / 317 batches\n"
          ]
        },
        {
          "output_type": "stream",
          "name": "stderr",
          "text": [
            "100%|██████████| 48/48 [00:03<00:00, 13.21it/s]\n"
          ]
        },
        {
          "output_type": "stream",
          "name": "stdout",
          "text": [
            "Finished 313 / 317 batches\n"
          ]
        },
        {
          "output_type": "stream",
          "name": "stderr",
          "text": [
            "100%|██████████| 48/48 [00:04<00:00, 11.80it/s]\n"
          ]
        },
        {
          "output_type": "stream",
          "name": "stdout",
          "text": [
            "Finished 314 / 317 batches\n"
          ]
        },
        {
          "output_type": "stream",
          "name": "stderr",
          "text": [
            "100%|██████████| 48/48 [00:03<00:00, 12.87it/s]\n"
          ]
        },
        {
          "output_type": "stream",
          "name": "stdout",
          "text": [
            "Finished 315 / 317 batches\n"
          ]
        },
        {
          "output_type": "stream",
          "name": "stderr",
          "text": [
            "100%|██████████| 32/32 [00:02<00:00, 12.87it/s]"
          ]
        },
        {
          "output_type": "stream",
          "name": "stdout",
          "text": [
            "Finished 316 / 317 batches\n"
          ]
        },
        {
          "output_type": "stream",
          "name": "stderr",
          "text": [
            "\n"
          ]
        }
      ]
    },
    {
      "cell_type": "code",
      "source": [
        "corect_labels = [c[0] for c in corect_labels]"
      ],
      "metadata": {
        "id": "dpR1z5IbQpW2"
      },
      "execution_count": 29,
      "outputs": []
    },
    {
      "cell_type": "code",
      "source": [
        "print(scores)\n",
        "print(corect_labels)"
      ],
      "metadata": {
        "colab": {
          "base_uri": "https://localhost:8080/"
        },
        "id": "dhDvxECq56M4",
        "outputId": "83579348-b249-48f4-bf4b-02993e1b3600"
      },
      "execution_count": 30,
      "outputs": [
        {
          "output_type": "stream",
          "name": "stdout",
          "text": [
            "[0.11036138094023044, 0.30694382034750933, 0.27700935381905695, 0.26343711806883024, 0.16771953675489307, 0.23906731599490064, 0.07590975975824676, 0.23344297226532854, 0.2676055333504337, 0.3462564587235273, 0.0002094240472464056, 0.395363991185017, 0.43492664838049677, 0.524501361132215, 0.47081398811600855, 0.4609830439993467, 0.44493970033441393, 0.5353257447919425, 0.08166747039681752, 0.4184786752127882, 0.17681045815921748, 0.6376890670120096, 0.27942119717640296, 0.4963686728351604, 0.2660824309520346, 0.4556427346226428, 0.3790549099110357, 0.2350529087930274, 0.3663274128750495, 0.33573939217571946, 0.4803468626916583, 0.41328581341456255, 0.13336998202326608, 0.24786169980819064, 0.019562019390390616, 0.44601465301408705, 0.09882972215304367, 0.303598075748952, 0.46674539912475244, 0.5785144669859127, 0.30201794167320867, 0.5081363685288922, 0.012543816342561817, 0.34740585461002466, 0.15444804320577532, 0.4796344525557721, 0.040772282769665935, 0.2351369634479592, 0.198144906793857, 0.34667202055278307, 0.07716083674313268, 0.34500150946972724, 0.2508257883580721, 0.32164245075749853, 0.23927653033479146, 0.24104210959598862, 0.37441121743839695, 0.29012798516203897, 0.0005846434643347701, 0.4907084370475382, 0.43683795898687094, 0.5127052448000368, 0.4712229825880637, 0.33598867488468775, 0.03636762930475849, 0.28027709022672564, 0.5821241926423681, 0.5382704795023595, 0.32356638515229863, 0.31160449514753863, 0.35359177884148657, 0.46981020536610835, 0.10468361094668084, 0.43163392857411015, 0.13738864953338634, 0.29172355563671154, 0.5844790224290591, 0.3459703781454842, 0.4845553708146326, 0.5459924114294785, 0.041203309901220564, 0.32035669307777886, 0.43173958436818793, 0.4067509343537192, 0.3988958501199704, 0.5096661112739704, 0.02058184501947835, 0.44961962532566146, 0.05423278097360809, 0.4075515383026831, 0.006253153256685869, 0.24045950970343594, 0.10270419974231597, 0.2975565939067871, 0.2374727809219621, 0.30723144691936405, 0.040102149614540394, 0.3764966695882071, 0.6219162328167537, 0.6029760993551463, 0.05325339862538385, 0.30719323496873585, 0.2969943169155158, 0.2184287966882954, 0.31244496104191055, 0.4410864314184214, 0.30942763448651284, 0.2753761803424631, 0.35124381247442216, 0.49093090199533657, 0.49897653525658825, 0.2129641494807787, 0.1811572209272916, 0.26841118271588793, 0.33255256972902963, 0.390857245757754, 0.3512455363126738, 0.3045820831162199, 0.0034971683752473837, 0.30840159751424834, 0.22778760580199145, 0.2098581617624692, 0.05778392229792319, 0.155321565880407, 0.15191582811849003, 0.5354338299002848, 0.09974877655068326, 0.2583496207763325, 0.6584783033467829, 0.40332788093764976, 0.20619824361056088, 0.46665088458817494, 0.5706559962971369, 0.28061186781426134, 0.3538418647016594, 0.36314740846405347, 0.07871945558352829, 0.25097790979978574, 0.4400261052744879, 0.2505925642918358, 0.01232951344572939, 0.28535146031246866, 0.20498185021521445, 0.20118536845274004, 0.4199410701085898, 0.5479547449345277, 0.2415720309390136, 0.5388619351798903, 0.14964748558504654, 0.3325968433002633, 0.37756692025933775, 0.1994549990515061, 0.4749721833217495, 0.24737120264744414, 0.07892815515311075, 0.29941091517210816, 0.46587293671864943, 0.38073119585326975, 0.28404899548001017, 0.4756896148434439, 0.23934888225630857, 0.3747246577914514, 0.0011432375555576375, 0.13926209185394162, 0.428206149831319, 0.385117184648483, 0.41927989157894835, 0.4005744813521896, 0.34528689210128505, 0.5551617511717234, 0.682541735470295, 0.5958268287225413, 0.14894929608193966, 0.25571096331023535, 0.31351142883554406, 0.40709696388161, 0.365122046606848, 0.29360462017628175, 0.017633046751648687, 0.23065376880133337, 0.22928985298079038, 0.5177744961418387, 0.10184605573946708, 0.3154603385622535, 5.559883675232413e-06, 0.36181382971585974, 0.33050816031603364, 0.4697719153749252, 0.047282923845033215, 0.1299149156166074, 0.3143735274983572, 0.3538040164717261, 0.32538512711159584, 0.4121183053209209, 0.175228561555438, 0.4785956282186615, 0.0037293863117936, 0.49708326270754494, 0.05096813538477818, 0.07737971916034582, 0.013713662685540208, 0.23921598838968344, 0.47504931528653416, 0.5120166082931427, 0.48483232990353525, 0.5655542179759193, 0.08434535249381786, 0.2520283267002647, 0.14350646512658777, 0.20029965693781074, 0.0032705629128031433, 0.4984121543332003, 0.02370213407918224, 0.17447889980409775, 0.24834247180606325, 0.2268276114225475, 0.10950043900731998, 0.41330876817395595, 0.16285527367144823, 0.3679489265779921, 0.3069332856778904, 0.28167112220749957, 0.27710170322243355, 0.2993584079675635, 0.12641404053283622, 0.35151450583825034, 0.5432157982960522, 0.1995282641430007, 0.6386123673990369, 0.44945590597019286, 0.33371625653817316, 0.47153322089026023, 0.29937554721254855, 0.6192159018025052, 0.3762495182454586, 0.47450662870080423, 0.34136415303642437, 0.3537470056347229, 0.1684908442211963, 0.5701972175766492, 0.02665455115378279, 0.12630783483747013, 0.19365785119485737, 0.2695269354559622, 0.6223023996616786, 0.5608101376448758, 0.3915670246575701, 0.2786895299251102, 0.3108660715700807, 0.44597958963212375, 0.44015530819888227, 0.3273500238114853, 0.4001015980320517, 0.20490170030685928, 0.10739577232016018, 0.36005461255128585, 0.23142404398241942, 0.5664268230193006, 0.16693128957995212, 0.3966283301523225, 0.20657231985481417, 0.25051517915102295, 0.12822699299188875, 0.485890443399209, 0.6433226247089416, 0.32779415484663404, 0.5668196318671107, 0.5886112596924125, 0.040089344470591946, 0.5521873863600333, 0.17652228150072088, 0.2365057728686059, 0.28592277722297393, 0.3338474833452538, 0.0011895089137397008, 0.4235084590698917, 0.4026723151549786, 0.5097820741620336, 0.0011531829222803935, 0.19758749040696463, 0.3440524536435987, 0.40292290172785417, 0.41211050376296043, 0.35318676819591077, 0.06271927726828092, 0.422210668082673, 0.17302694159064913, 0.4864888544339121, 0.13068815070558534, 0.2364192454874237, 0.3801908900370888, 0.3352108084676708, 0.30432959522155356, 0.4137320832297774, 0.009418538065773419, 0.23241016124219724, 0.05172526718767282, 0.429835510877793, 0.3059509956898789, 0.489912397693533, 0.16902417147583845, 0.33571867803234123, 0.2665894717751004, 0.26750200064542307, 0.43997703131870075, 0.48895656865162257, 0.03209822243079543, 0.27824252407218353, 0.0004789502661424194, 0.42886764518121573, 0.125349611308593, 0.15578117372221575, 0.34650414530672907, 0.29686766652295254, 0.2911465891714518, 0.4524667014380166, 0.2738228411001984, 0.3943977371572597, 0.08054517407435924, 0.30654063058883413, 0.4454192107077688, 0.45710407809436276, 0.3175423846041667, 0.2942357620172634, 0.5139165584130966, 0.6086925128256553, 0.4797512616773593, 0.7148547093445152, 0.1355027711607464, 0.43434946629900617, 0.010220098389254417, 0.25534983109191284, 0.5845530916412827, 0.38718852136697907, 0.37282476991610264, 0.36045042008314193, 0.5751870261350026, 0.5132740445598861, 0.2454083245874454, 0.36362289990249036, 0.15217180227530966, 0.3979610870881945, 0.13097855357118532, 0.5312583734760643, 0.3698960675180636, 0.3369637432032404, 0.0002499853289918974, 0.40348551448119646, 0.3289196405094117, 0.3505936810986798, 0.1616274505853653, 0.5281173886458684, 0.010988270957518075, 0.387497133520637, 0.019095435891358647, 0.48783467710855943, 0.3677197378829078, 0.5198133117851934, 0.476452544919911, 0.48757591481711854, 0.3751832919175892, 0.5910749769658585, 0.21011193224209515, 0.3853212533628239, 0.12030626145886865, 0.5054359135316975, 0.441205798269824, 0.4557090278600325, 0.22175473527568101, 0.3448820086121903, 0.02791783550492255, 0.19829668899679487, 0.004394339840343621, 0.12115140769287051, 0.25618156724018404, 0.5995109254771428, 0.21934775173212984, 0.22071558398863544, 0.3869429564801976, 0.2388992376829794, 0.4606427310645813, 0.4080006065205369, 0.04887183643768367, 0.3584934696922561, 0.07682113582593988, 0.22164820968048712, 0.11948230738871643, 0.18344025228756602, 0.23711149423096295, 0.2965066344357704, 0.16409904944399992, 0.5776652812474758, 0.3345930515322834, 0.23006294006852607, 0.17954965886601712, 0.20472804237215314, 0.4403894652257025, 0.4890382921233161, 0.16669381160318153, 0.5004908459171741, 0.33899755344900767, 0.44946029582324837, 0.24123973029418266, 0.3560109836663982, 0.26983967326426256, 0.3107846060715045, 0.15421484851089595, 0.18725961876747232, 0.00014258076195363043, 0.32363595556186436, 0.044037936291715596, 0.34715036380531394, 0.2308120254501489, 0.3334793535531815, 0.572845384224572, 0.2929870727904797, 0.02006237803081084, 0.4004066990880375, 0.24823716236278415, 0.2526851347104709, 0.03252271765377372, 0.5792633995804817, 0.37597494986703867, 0.4548549850699552, 0.47171762246944127, 0.3275839635324911, 0.5060857869684696, 0.5005349633203413, 0.22785712910505632, 0.5446599106607917, 0.46900413402666646, 0.4359938993356991, 0.253551794199471, 0.6406021482226524, 0.07368345525117093, 0.37344182638667006, 0.014609566812093059, 0.43773602566722297, 0.10277579422181589, 0.3638614563337506, 0.25695080366373685, 0.2653832619826062, 0.34317911908729004, 0.36906883386095884, 0.2950554427770013, 0.2750920296841893, 0.13275702350379107, 0.36536508528892275, 0.36420575343363454, 0.5114495787237372, 0.4853347059374755, 0.17754607208759576, 0.4148765793049409, 0.3724974572258672, 0.3406206413358935, 0.7122628143152747, 0.4354533479506952, 0.4111930814552579, 0.024285100895212963, 0.16512371456586222, 0.30429469786249685, 0.6071895924650432, 0.20340791909281755, 0.3771953161795073, 0.18655421992298216, 0.47417321955056296, 0.42991488357982227, 0.24293875743287455, 0.42168816802917386, 0.5542167892207444, 0.10788707692699973, 0.23094585175252352, 0.5609937952831388, 0.5270043988611609, 0.4664172048135449, 0.47689768543156486, 0.04689451314152393, 0.1582960099255979, 0.36362109040649887, 0.397420457220527, 0.09153947171289474, 0.20248828148002698, 0.15947420557495207, 0.2953540345650178, 0.007669699816975484, 0.14075722393262435, 0.03394618684978923, 0.22660178322048122, 0.4498045725437502, 0.4646389064269255, 0.5178082544020102, 0.13677065740584654, 0.034466517138207566, 0.2737058566334314, 0.007880511104303878, 0.34055185320574954, 8.134209815580107e-05, 0.33364975095665733, 0.031732824462703015, 0.3973915158201012, 0.23181517043121858, 0.5902478777974466, 0.3865640268262279, 0.31626899580216306, 0.15167130228718406, 0.2858564017024037, 0.08229882329780953, 0.4728158101980765, 0.10080582693481119, 0.6603655684743394, 0.20203713226641412, 0.31565332997755036, 0.2623250663432878, 0.15530728086835757, 0.5765882685798436, 0.5102494685602521, 0.4048261326200356, 0.23972354273863605, 0.36474045654176734, 0.37169827026350266, 0.5375489766958405, 0.4289558433565371, 0.6186134255775768, 0.20594191779499246, 0.396093576545051, 0.35054369490074366, 0.012719630117620303, 0.057701874452635096, 0.32206001558248926, 0.520561636568995, 0.10073620257802153, 0.3190327631236869, 0.5820424205157906, 0.6147690272317394, 0.5251952830003574, 0.5790241566697534, 0.3378904077480291, 0.258221742983421, 0.32192130537557134, 0.627763846362562, 0.5293012102221317, 0.6682350748723888, 0.39348600208113893, 0.3205605134825644, 0.12027421103448432, 0.21673275423808233, 0.2623831600867561, 0.2941939245902045, 0.24502229567005998, 0.3299635658018255, 0.1509943171362725, 0.24151884069578955, 0.6932863224970384, 0.4115639482471783, 0.3015867994472501, 0.19733026956256805, 0.41999472079000305, 0.4884544867726314, 0.4286532661499223, 0.37307226954276085, 0.3596746992020883, 0.2730087038020455, 0.25704228300933857, 0.353757825205882, 0.013678825200697377, 0.2737076355255297, 0.021278358821291476, 0.21323681020401192, 0.06049286332877686, 0.26557125387272595, 0.45821428050597507, 0.313131598717666, 0.6784050858293139, 0.4941990699925665, 0.4591465657821472, 0.6855036197911243, 0.16243684115882692, 0.3936637061490218, 0.036756940756108726, 0.20286951573791612, 0.35395066364960964, 0.5408542083982283, 0.062156236555892974, 0.23982506467282405, 0.05636354154194123, 0.21209946476594196, 0.10832738364115357, 0.2739012890485134, 0.3917549088000669, 0.3366549550100899, 0.13660216645075707, 0.25838365207472114, 0.36326076316514183, 0.28797620013061864, 0.5721469413489103, 0.5562927995827152, 0.49823676887899637, 0.30410123966735225, 0.01698758365004475, 0.45581483619462265, 0.44508579320141245, 0.4973244572064048, 0.4393195446270208, 0.13655311931608016, 0.3545581206679239, 0.2671426832071027, 0.5346756050395711, 0.35774767970095644, 0.3132444446107267, 0.11937054538245041, 0.49323561543087635, 0.5290392160536919, 0.21601464164753756, 0.6089916560165698, 0.45326565123936496, 0.2969261033578992, 0.09558048836576442, 0.34179281972796904, 0.015242911132008884, 0.4019942846002538, 0.16029494948452339, 0.5371801087234277, 0.28284516763233114, 0.467565945471454, 0.39709260694647897, 0.3011135283342595, 0.9147610167662302, 0.2664235769077973, 0.08604582228247182, 0.16672854267344941, 0.07679753944830736, 0.3075441274401899, 0.7423634338401219, 0.2616148155517294, 0.09700088279350894, 0.3362931526363386, 0.12005927102331447, 0.3874566412723209, 0.41220211559848396, 0.3192217398272433, 0.26638919954984885, 0.47407856408340193, 0.2617190534248948, 0.46025309623623994, 0.15173499711922236, 0.33811633342305536, 0.48029228360766346, 0.3406981773083456, 0.29521004490703084, 0.4837875217856587, 0.2062323747202754, 0.5122960144450417, 0.5456932664528722, 0.44556923503405416, 0.3517168827537413, 0.2934100712876273, 0.16581798977469628, 0.3680648553880019, 0.7151514131513977, 0.30614916156725613, 0.3949218823618139, 0.3914303253747194, 0.16824722577232856, 0.42950141615685966, 0.10693153760560865, 0.2724051248990102, 0.07259695395706937, 0.3829927151856116, 0.030768764109234327, 0.43355666264186304, 0.22792275206064425, 0.23477262914019548, 0.0368195709600414, 0.25824384905884823, 0.06017865344377545, 0.39984222230499467, 0.003711218195045755, 0.12320204661550854, 0.6418726718984544, 0.5219899439852629, 0.3990032298800846, 0.42601754837602734, 0.43784534138588543, 0.3587478535264901, 0.5193769341973772, 0.5707712031998434, 0.5991400690514378, 0.43592393577868327, 0.32082534908633015, 0.18491180936671647, 0.12674240049955188, 0.4297965456455987, 0.37652268387222043, 0.560878643765627, 0.1726840453823322, 0.28715909066587564, 0.2570752500006082, 0.756705306429002, 0.038232533831632054, 0.2656837636865331, 0.1993589543430558, 0.2083049038686697, 0.17384902962759144, 0.5856003671002067, 0.49103491282504463, 0.3952527586824224, 0.17866139513625967, 0.4823478236220054, 0.30733446404337883, 0.5548707816486205, 0.15256607616512005, 0.23366495275805133, 0.02071691436431138, 0.29324564783356827, 0.3567392306399922, 0.3818798355668233, 0.14760554192335937, 0.303444270000088, 0.7449388824558506, 0.5243413828243466, 0.3826038606572323, 0.20387383406762788, 0.5202598165002806, 0.4120024036771919, 0.462449101330195, 0.2667814824689539, 0.392884940456757, 0.3326536388368645, 0.028567865099982253, 0.3135603122478023, 0.3772970325146823, 0.2615245784839974, 0.3612981786893536, 0.2529484690692602, 0.6582951218353011, 0.22500976351246646, 0.15430551073768584, 0.1000336502780156, 0.4407503666721327, 0.36156918544838845, 0.7729886497468215, 0.3905030970228836, 0.02958217589184642, 0.23016282618322648, 0.11472502856336178, 0.28327817471219485, 0.16836683625164864, 0.408430929671464, 0.16773411045653686, 0.13595015736380126, 0.2602726784363248, 0.28110581154805914, 0.13935156543028335, 0.6088496146309937, 0.0023560650879517198, 0.31934844969840576, 0.1895593592167383, 0.2933217696826698, 2.276568200620943e-08, 0.21982379708174515, 0.3804871700704098, 0.30390623905977715, 0.12260706855037522, 0.48285476788475723, 0.32021289983337436, 0.3935716708039636, 0.23847194059958887, 0.42631446863665723, 0.4217556606163271, 0.5579133133928735, 0.3645079433215518, 0.23664964755782583, 0.26457224805360763, 0.322280025381252, 0.2024103021249175, 0.48011574999936973, 0.23807453879464902, 0.3739900123053643, 0.4528445758487578, 0.22139653432803086, 0.30941736728194275, 0.591763496233616, 0.42746206027550215, 0.3567849377037159, 0.1424655265797231, 0.5455677010953272, 0.6517045240986287, 0.44971394016288524, 0.21814928787768753, 0.17557519079730516, 0.3697759444495432, 0.3341272337006003, 0.08303742277556532, 0.29508626008406974, 0.1100367728911888, 0.3501978081288655, 0.12513438554079634, 0.6167906424292223, 0.17740625757755246, 0.4210321951717559, 0.3724732851447323, 0.2603569370115774, 0.1956064167122046, 0.42492857766425, 0.04571760592859521, 0.34174289539446395, 0.5249789270777623, 0.4385242183950595, 0.22255506683515186, 0.19570090397038648, 0.4593127469030757, 0.3552493766855985, 0.40893956513277124, 0.3508456095981202, 0.6220244198505368, 0.42198830916348734, 0.23277703167469543, 0.5041909572966138, 0.3274499464771777, 0.5128508065130938, 0.2593860899408658, 0.5314016656026069, 0.568664176389575, 0.429678446052752, 0.37284996305507695, 0.43428203899020446, 0.6057453151792288, 0.4278784972892659, 0.37119444490720827, 0.44212475001050305, 0.1360473672139051, 0.48233869851981404, 0.0038187926863997744, 0.26596464137233555, 0.0024717870432141354, 0.31923521754364376, 0.05574702274979396, 0.2106900493149908, 0.31715292188500127, 0.485975957586649, 0.0860420159297064, 0.30465866279722137, 0.36207399358780173, 0.4560829416110084, 0.26090008695882716, 0.45309843726959353, 0.2787665759294255, 0.268820758937898, 0.3613106485528078, 0.26508565111659327, 0.3857204920565209, 0.5873815417849423, 0.19688892939164843, 0.3801889427988364, 0.055933059612289074, 0.41854347568546424, 0.13141208232855206, 0.26282294430366643, 0.02016868710052222, 0.19843017920562878, 0.5588024994831358, 0.46815320819064254, 0.2281647849977162, 0.4036015981153418, 0.4978576641442487, 0.5501786701414162, 0.24371686030644923, 0.21175526421672158, 0.25550503485514753, 0.24738011968350163, 0.017466345120434806, 0.185154194957272, 0.061509672821557615, 0.3270828141030506, 0.10684159672934511, 0.22671025337609735, 0.05123206932330504, 0.449961716931341, 0.4344830520375808, 0.3005021569311376, 0.3407644986682025, 0.24428627931635727, 0.47637658841617847, 0.09715274462310863, 0.03006385794183838, 0.32602580974058526, 0.1405945040917556, 0.5180803061091519, 0.202728669351523, 0.3757877573247623, 0.22477281897634185, 0.3068661046463603, 0.15170854038660764, 0.43158073225712695, 0.34885860865402885, 0.27494412885952635, 0.33021075050055515, 0.4027930955950626, 0.2995756916237345, 0.5143815606651414, 0.029028259618788372, 0.15561241100119405, 0.00928892122263076, 0.49012368015756264, 0.029429429829860965, 0.4439382826465243, 0.09222312561416857, 0.64770666090502, 0.6452313311391562, 0.42112666869747867, 0.5779061598470434, 0.40498510277757305, 0.2764619388387473, 0.33024592267975095, 0.0010403886757558213, 0.2734182308564653, 0.008422176691055938, 0.19252590684164972, 0.21718759116415262, 0.4730716088858287, 0.37280063502219657, 0.2196430632284571, 0.4417103504887424, 0.4749429970789303, 0.3263383389156142, 0.4204757631408614, 0.0022063435947832963, 0.4538549162128386, 6.990389541291127e-05, 0.2301610555812239, 0.1686199808726087, 0.315504074188286, 0.6515528798502471, 0.27987084264134904, 0.3549543007587393, 0.5273564081866864, 0.6936785685325352, 0.3789550776333532, 0.371158256445104, 0.34867891403309553, 0.252143384294565, 0.4838500248561337, 0.10332568808297164, 0.6045710288890405, 0.5207577273249626, 0.4713567033649042, 0.4620277408857047, 0.5069261608662077, 0.14147965827335915, 0.30538975388449413, 0.030455491687182354, 0.33975350293251094, 0.3288260642439127, 0.5356383618944913, 0.3251996417620073, 0.4912569917217049, 0.6145270766457542, 0.5209326803334272, 0.3619881047284188, 0.33678527657457635, 0.4498781654983759, 0.5004887531756069, 0.16397209050192033, 0.3081549063907971, 0.558944373563593, 0.45133646893107954, 0.3347970815205675, 0.2931249232240662, 0.4620416330251222, 0.5026629263101595, 0.29316064064429764, 0.43137666099988564, 0.0008896996692563164, 0.36210274188909475, 0.0410056078665851, 0.2488100949760754, 0.04542809188947453, 0.526529109281045, 0.09714232120097677, 0.47967490877158525, 0.03753038298600586, 0.35811272978115566, 0.3267142836910466, 0.5037976644865315, 0.018330204515950754, 0.5095337680953734, 0.17471265544344744, 0.5130836188239069, 0.0009348694281167506, 0.19510444380891082, 0.3423967718854328, 0.4982849018614659, 0.384383690683405, 0.19983112596567656, 0.19887384378671413, 0.4539555897387087, 0.09689629264175892, 0.25206214105821495, 0.274164948246721, 0.2972469718921773, 0.5202579199336469, 0.48239880378297617, 0.252906023345228, 0.2069524749291198, 0.351693790184286, 0.4582716376753524, 0.2984303885771494, 0.41331986801179027, 0.0967799290374387, 0.22287390526411727, 0.37016865274043603, 0.299475372733923, 0.47633680453436683, 0.5363607192519466, 0.5727920610723751, 0.42664961645702926, 0.08220693351662096, 0.3478110205783929, 0.33738362808175126, 0.14537650383850734, 0.01626370210578898, 0.33039302061341813, 0.49578456173035096, 0.2506398304001417, 0.304836675565942, 0.5535542162842131, 0.25998408029226994, 0.33641289599562113, 0.45022247681542166, 0.43717188817111513, 0.24766747259127442, 0.4538690188579681, 0.33653805070749215, 0.6029281701831112, 0.24040758557021036, 0.15946884829927757, 0.11154012298599507, 0.22683050038736824, 0.344205160241862, 0.29223967466403394, 0.14934141300796, 0.384390007406779, 0.5341331972585976, 0.4327170285097777, 0.011134897328962065, 0.45161075099230014, 0.1371591790918749, 0.36312207129130447, 0.3140331724508932, 0.2642625840287903, 0.02843299542094731, 0.15010368622845238, 0.2089881650587943, 0.18187867743321484, 0.3480433730146615, 0.26893974427092027, 0.09298131769810425, 0.17548337086695076, 0.20729703096405458, 0.10726248364697276, 0.16719427126789319, 0.3490286545934861, 0.4205179771977176, 0.426122087866216, 0.3569329383649996, 0.28899387811702, 0.4474751392734812, 0.6346364293408855, 0.4019254966088655, 0.3234920296285103, 0.19366117422065088, 0.2964638353292407, 0.5268115717435649, 0.3118856025457283, 0.3239477117072056, 0.31988941905383866, 0.5185218050277659, 0.36466719571848777, 0.292137145125821, 0.3447225343827449, 0.00040016295930911383, 0.17119914883368084, 0.5703984629410895, 0.5005625462859516, 0.6071337060620863, 0.35925500554512835, 0.1343057718127966, 0.4972131657748946, 0.11371635954502482, 0.526574454285682, 0.21787121032830328, 0.16957946788441802, 0.10580784361809492, 0.2203833114064984, 0.7231095521378198, 0.3650847743234171, 0.5003341563154079, 0.6873314129442654, 0.4193963209167123, 0.4252932811034546, 0.015807325951755047, 0.44668418608995214, 0.5923141914800826, 0.47280364117047874, 0.03292700448946562, 0.3145281141937265, 0.42599139754020143, 0.39728723134908633, 0.15485780810283245, 0.2805406388855874, 0.1444908776684315, 0.41097476660031945, 0.23534140203024537, 0.5584837071463798, 0.1332300024772518, 0.2574003135378948, 0.24018647521734238, 0.26825327620986433, 0.02605849858809961, 0.43140980652614314, 0.2748738217300873, 0.3182373566880545, 0.32421271587352546, 0.23758666212194923, 0.12326402192371057, 0.27029045260126927, 0.4647668178185995, 0.37488656365465345, 0.11694460035817299, 0.33836207226214843, 0.25823435447819065, 0.2736105002180921, 0.3742010487747999, 0.39699444770559106, 0.6525205920430986, 0.4769418384918633, 0.31636685283356203, 0.20206944192466622, 0.37008044612607943, 0.3897325618508666, 0.18245920581530584, 0.3418933763132689, 0.2730356889669565, 0.2892608372013001, 0.35575856204632145, 0.27858230047395877, 0.28060096848611676, 0.4521240603483828, 0.5955336121376604, 0.5291021136200631, 0.49582136895060236, 0.29056695281299116, 0.3144847965304507, 0.42778887707252233, 0.7054427283849345, 0.3923921122483648, 0.2562144081507117, 0.19678229033439568, 0.24764225169019483, 0.17919922605075977, 0.3841280127660586, 0.37430459117635884, 0.021484415808117774, 0.32564231766733936, 0.36940494424227543, 0.15083342629394839, 0.10510608013904015, 0.18740354978210536, 0.0518135862081787, 0.23963615159768065, 0.01927437403937802, 0.39071416702584527, 0.096138853430773, 0.3328737061181947, 0.14116142028133255, 0.41240215312287687, 0.001606486640696403, 0.2619959427449954, 0.36917188720678296, 0.4723913802352639, 0.6200536266296023, 0.35542658093583906, 0.560953778284329, 0.3942904816053118, 0.03379083815726907, 0.23045758204399525, 0.12905668719678134, 0.27345459782307446, 0.5001837003952005, 0.3094733310687344, 0.5533684307156364, 0.5929279669040912, 0.4342214880336542, 0.3982839135513726, 0.30532120253883477, 0.2846840533888569, 0.07927145954024374, 0.2924489372224343, 0.6919306357701619, 0.35597657707341995, 0.14999905937085195, 0.29556521105695877, 0.5292240445398622, 0.5204831538639669, 0.2522132672220323, 0.26343242174855275, 0.3307285474220407, 0.3411692607765098, 0.20770533211462963, 0.5519907575814884, 0.4143310200815904, 0.25813253938453273, 0.3652345544939056, 0.350867109563795, 0.22559959236400573, 0.2969818437081288, 0.004629176553635261, 0.3537814696853791, 0.6465385811807701, 0.37577146772932074, 0.18559772728046178, 0.33755562132810446, 0.015905812909035637, 0.22342016510075294, 0.051892039249651134, 0.24387898472226274, 0.5746412436814613, 0.15149372930946853, 0.032699743514740476, 0.2583868527978268, 0.4173811865695522, 0.2714050129263203, 0.3013783956557745, 0.33165963739782456, 0.22904781244981748, 0.4542227694152098, 5.4485928747756894e-05, 0.27964874575803833, 0.22162448116116712, 0.2956534087377577, 0.08273354330727174, 0.4619156614262465, 0.26579057425260544, 0.37202636934911065, 0.09227333288872615, 0.3042965800891366, 0.800202670507133, 0.47919697327420685, 0.06659639805002371, 0.20591305770843368, 0.23107824199284246, 0.3429758559710839, 0.25945467782973236, 0.4485196216006183, 0.02163812541215293, 0.30824728921754396, 0.3926697051792871, 0.39583156440989836, 0.06800348475683547, 0.4617406294095847, 0.07766073835859925, 0.2565497971387835, 0.4051885913876403, 0.6156809523854463, 0.2991504218904184, 0.16007088531405317, 0.42126668740820605, 0.4371491839438268, 0.2585579600757531, 0.2744757092943135, 0.41071480032538105, 0.26954367133536533, 0.37589686152387003, 0.457220577629313, 0.28228825602046625, 0.3076417252521793, 0.21790187701117247, 0.41680705799445383, 0.5371656202478334, 0.6962491877022243, 0.36837704048093656, 0.4005181869480669, 0.22198677134149777, 0.21906530565155985, 0.1066576156001247, 0.24571687729320763, 0.38559788931161165, 0.33978589984502705, 0.2799709296308113, 0.31495111975059875, 0.3421568638748593, 0.44854478242208035, 0.1549127709321593, 0.632373548127831, 0.14049804158639745, 0.20300234977693318, 0.26405140074590844, 0.20088321534603892, 0.03513600777452868, 0.1268401229974832, 0.4502637042818466, 0.4993033622174423, 0.01144918292411603, 0.38476182080713067, 0.2237487983082696, 0.5036469084585494, 0.21130779892700957, 0.2422031876198584, 0.35898780597840413, 0.33548253925462224, 0.6472293398765032, 0.3943832980576969, 0.3200262190657668, 0.5490321171506636, 0.26794680090371514, 0.18938541091660965, 0.45121602715361014, 0.24765452557837236, 0.2853079841170256, 0.18568579170754695, 0.4011620774187825, 0.4988450724362897, 0.03688387299189344, 0.6604873380852041, 0.7150908828821774, 0.3566608192868235, 0.018037056175717225, 0.14084576537802881, 0.698827736493614, 0.6596061176134517, 0.21201157269533724, 0.4125342564439052, 0.22452946282446645, 0.3108944945704654, 0.6414711674054464, 0.5835991194401527, 0.4211515381716059, 0.3783098952196832, 0.5292528722105393, 0.5106920935275931, 0.11481375961077654, 0.15663676689957368, 0.18868211853550748, 0.3077624469690811, 0.2655454912364803, 0.39817704911461155, 0.002618576078089063, 0.43343657386075946, 0.012530956014006733, 0.15258264652818365, 0.4470573362362172, 0.3202987688540888, 0.10777921636151859, 0.35003801024442965, 0.41804931662863964, 0.577522705476731, 0.1266379750595661, 0.31641278895714253, 0.45328639827979106, 0.3382738994761198, 0.04639388961212327, 0.4028484200268062, 0.44203456795966145, 0.4451468949759428, 0.18092945173750444, 0.11985959369164104, 0.31532497945326293, 0.313973306179643, 0.28380354148066544, 0.5588141169756234, 0.0004585057098154266, 0.293798425369443, 0.277665391834699, 0.27973711309388893, 0.7450780231190626, 0.681130337047438, 0.380193743937222, 0.5580894174112473, 0.33450044109486043, 0.5664000964459113, 0.326091598086191, 0.3299964489959, 0.2246285191000165, 0.2975477840701664, 0.06994377130615703, 0.3060150423890765, 0.22338471729308368, 0.31080353090506835, 0.2847116264771709, 0.40403606107221485, 0.39818151970533877, 0.32431075464965514, 0.20199941339918345, 0.4843960596629363, 0.45418605438581755, 0.3271132053552858, 0.35004829382523894, 0.49320574625067415, 0.2018392516352833, 0.28920578155336785, 0.27762224232567895, 0.38340341521863147, 0.38160236890932236, 0.6034884993016768, 0.268285306389771, 0.3636223478931831, 0.25217759408042184, 0.186716966817195, 0.28570450818794296, 0.46106594599878964, 0.04024617395116366, 0.32086261768768604, 0.2849828273057938, 0.6422720003669383, 0.3499126681126654, 0.27177636447780973, 0.5095670237565152, 0.32002981907874073, 0.08008482737204758, 0.410169810653821, 0.1557030388577914, 0.2526473395395897, 0.23342268273117953, 0.5765560733379163, 0.35292501871855997, 0.39892361946649063, 0.1498248968775613, 0.4169270974920106, 0.32775766470541173, 0.39423171478745833, 0.5263316541154685, 0.4564181544372007, 0.4527675300755618, 0.41313253477488376, 0.3358550571403092, 0.5371780054192641, 0.3088733938661365, 0.34356915679585653, 0.33933709785342214, 0.2713784859110633, 0.044195223216547674, 0.3308397491184678, 0.2681344884673736, 0.3851523519369948, 0.11555118751908305, 0.5246709772413937, 0.027395608735241696, 0.4607381614803065, 0.6655645247262257, 0.5447308334728086, 0.053730260043364196, 0.21123889018995481, 0.22397022578322018, 0.28258864066199024, 0.34731153377060764, 0.29680169813043905, 0.498625398427248, 0.4596940789408109, 0.028364203565009422, 0.342414320864979, 0.7626599851911513, 0.3367834097566296, 0.10938601362275742, 0.22039352043697136, 0.3438289870530504, 0.4024041800473172, 0.03548513394425754, 0.3046968125482743, 0.0008864144006868931, 0.20891934932360143, 0.11688877593296639, 0.3979606266525958, 0.23572642140631217, 0.388229165873496, 0.4245162520991681, 0.2824001897854142, 0.5258060216350714, 0.3645614005077251, 0.3511542009910045, 0.36185011641964593, 0.02396259253146127, 0.41617246868026997, 0.2524706483556936, 0.41041005483012194, 0.4092476828543527, 0.3578675069311791, 0.2809123591869138, 0.36893281695364716, 0.4005919871007791, 0.569055437918615, 0.17617813086576462, 0.379958881115625, 0.4267697316043066, 0.41428525080488854, 0.42811047601410085, 0.28256812095093853, 0.10110526755549169, 0.11273667326416377, 0.6423985523676189, 0.5066125054339258, 0.1269234052014781, 0.32430781365103817, 0.4066599629353732, 0.3324527979069568, 0.40886985239800805, 0.3300962591765512, 0.022665584424563196, 0.1607882215723527, 0.2510061368520837, 0.19932817038363923, 0.3489169367705472, 0.23314007931207925, 0.35907027671911396, 0.48449442097262363, 0.21313531345367664, 0.549062564265904, 0.14292616432794603, 0.45320095458092613, 0.48514849541345484, 0.5953985244962041, 0.3323565653990954, 0.42144973217406967, 0.28781307592756394, 0.4991314696751596, 0.0691979804639777, 0.299400831969473, 0.27894871848550534, 0.13284337299051194, 0.10501510326705304, 0.17857662877243285, 0.32054495454473, 0.24713177911640877, 0.15832646745904919, 0.3306384600958457, 0.3426397990357752, 0.6127359907760526, 0.22086897137372338, 0.33521452699628185, 0.27046707505360246, 0.42069353539577253, 0.4315569213528458, 0.6775337432348912, 0.2999857574552432, 0.40025628266478935, 0.5615506140853871, 0.37250911754303945, 0.30898916164126905, 0.37538619300806886, 0.328422844488523, 0.38467836132622324, 0.8126954072051578, 0.6428827656309295, 0.018431271819281392, 0.21764674850872046, 0.3468486830019034, 0.4504125192194193, 0.663900490771214, 0.49901211736518974, 0.6463359657976753, 0.24293524724743065, 0.594384457791845, 0.46860448180024566, 0.21906245866028423, 0.7313496929480496, 0.25359336836845614, 0.4312614698854024, 0.07424435426673881, 0.5120288477660324, 0.5685306438244879, 0.6285680466297469, 0.4348413607795545, 0.39802716191782866, 0.3566424451998766, 0.4970363020512722, 0.1989037110664261, 0.30067030557229707, 0.2611821688624332, 0.34249586230362183, 0.42101263281210777, 0.302561272098864, 0.16279438116683964, 0.6020147270487192, 0.24661363147120785, 0.33274273097427925, 0.1872676111532769, 0.5808625826935491, 0.08492588900428798, 0.10949060146486812, 0.23041614432198307, 0.453536310015539, 0.3067186211439548, 0.6182172064365324, 0.1886459806539113, 0.34576666855262733, 0.46283028810694304, 0.5511504556382706, 0.4347695186163317, 0.6031881117812881, 0.3613655894397893, 0.37040617557404126, 0.3937629678635858, 0.3037139765632963, 0.16363245303364238, 0.177503391059045, 0.40226913944530274, 0.3105059865165429, 0.10780830756786079, 0.2824662318700218, 0.4183484265813604, 0.356296933606133, 0.4299927753342672, 0.3090113310708868, 0.219911523585649, 0.29236862943963066, 0.16947654986324778, 0.3737124004779616, 0.3161801777257804, 0.39266859211718796, 0.11640777884531417, 0.1771386658200561, 0.01658913987759863, 0.22121459507412683, 0.005333950412023114, 0.48456492618081615, 0.5429490624721018, 0.36074526946197566, 0.27371656651918713, 0.49661872251439493, 0.09934468988374193, 0.3441050299206836, 0.0010655641672201455, 0.2887913049640709, 0.5174868506859639, 0.2929369214858953, 0.4290488942621908, 0.39232565216982007, 0.12860301885740455, 0.22039493132289764, 0.44358577496586804, 0.4631913163082456, 0.06494396357607002, 0.46782043359603526, 0.4832821564567894, 0.4477251956753226, 0.1152979893668089, 0.6303146020895097, 0.5718874312064145, 0.15167601688909502, 0.2490894158086121, 0.3801224381478398, 0.04748464021831751, 0.35244274046526014, 0.34725246235514834, 0.4652384420921711, 0.4845048010077638, 0.6340535871460133, 0.005300823609104555, 0.3249314543740588, 0.19524218891385772, 0.213760934677857, 0.4767749992066196, 0.4046046244329773, 0.10293225873435101, 0.2741444423713382, 0.006075626089659636, 0.4624055793647186, 0.5453492724336684, 0.5357911108641144, 0.11307980149537727, 0.47493878451939786, 0.1513961387663585, 0.402314305792388, 0.3889441894635555, 0.47092600497458276, 0.05343724895336285, 0.29276691057967086, 0.15138929010083757, 0.22350858031803333, 0.5326292872264543, 0.34241648064926267, 0.17340764470074127, 0.18902008857612718, 0.17645152205062686, 0.5163585629460483, 0.19699058639364214, 0.5562178015518568, 0.24360098890028895, 0.286817554966933, 0.32713306699345895, 0.44674685063722563, 0.22833568009082228, 0.26537571083202594, 0.189381329542292, 0.356712131308224, 0.00010994120475515956, 0.1252674634786078, 0.249786127358675, 0.2505910144605928, 0.1176915049048451, 0.3248724826867692, 0.02890669531570893, 0.2737303535947808, 0.014339019158796873, 0.15873901083837252, 0.3365945372695573, 0.3506898311828991, 0.0230723645196728, 0.5035385472544475, 0.29114981608803314, 0.39008173909557325, 0.43200677093261414, 0.35979541451347863, 0.16048384870685237, 0.19259580254070227, 0.09927883692164739, 0.38944400285445707, 0.5570758994047841, 0.5496264945394311, 0.2832091838770014, 0.32885243680335186, 0.014778007098357193, 0.4407987789719271, 0.08814765390203583, 0.30837627561116987, 0.4217804979819518, 0.5609614898070193, 0.020303145051002502, 0.2812152064936685, 0.0027923645674636788, 0.334165284811705, 0.36608745749406857, 0.49302613610845064, 0.337885234238846, 0.41686158947308033, 0.11522324545211404, 0.4498430243414656, 0.12834574508647328, 0.17849353083347524, 0.3740496124878786, 0.25783726230346343, 0.39135773355762166, 0.6321401195752475, 0.5801176905873945, 0.27470989767961274, 0.49432022388646146, 0.5366495379281265, 0.15473206972819753, 0.28788067609140333, 0.4049893861770215, 0.19616199139981477, 0.41270748007445945, 0.3757314154490139, 0.37133192780786956, 0.23459635194522138, 0.04985481859148422, 0.2067998529216441, 0.41556306242604146, 0.5844443239564099, 0.12616378267484835, 0.16771545763278287, 0.472654106920163, 0.3124673490734894, 0.14387393632652953, 0.6556620600393217, 0.14672005808427002, 0.5167225238922887, 0.5746618003634337, 0.5756954575678513, 0.3326482351597709, 0.4291235661518421, 0.00434154006672216, 0.2003260868068032, 0.6590123650588028, 0.26920698406145055, 0.12542450285238577, 0.3057670309930185, 0.17843232056050815, 0.544910359181607, 0.23432552307602034, 0.352648413413893, 0.0001624695672338324, 0.3269944484461369, 0.1689891326324349, 0.3653477257780784, 0.32365602576822755, 0.3562294002575351, 0.35857935208269526, 0.6230148765327265, 0.4930042715277523, 0.4673836857685254, 0.21524994052353058, 0.42315844021865173, 0.031122487219666557, 0.33165092731612433, 0.36371679957452824, 0.4503580079617677, 0.35291820124257356, 0.48095104382843024, 0.2720365199978308, 0.5684464708984954, 0.4753479305654764, 0.5544632984474447, 0.18661479274742304, 0.4615235505251413, 0.17065707563685587, 0.36902159633367165, 0.0045736975206409625, 0.4894059360784028, 0.3431042288179924, 0.2997413305688186, 0.4869568028784215, 0.39235592818233594, 0.00428272649878636, 0.15853541255866754, 0.4245109180724552, 0.5507072957658926, 0.05134540589278913, 0.17035266163235913, 0.01572349735797616, 0.2972030766733853, 0.3596357278117163, 0.5821563778363634, 0.04166132345908409, 0.43447794693208064, 0.5950270494116591, 0.36407426536453913, 0.015483574570276283, 0.36040266912287305, 0.017991060705071504, 0.38155661869820634, 0.37114219171538326, 0.37005725301957376, 0.40972008306107455, 0.3135227359209909, 0.3293924443811799, 0.31828809871866987, 0.010950795471823463, 0.2996981100551784, 0.1829366441758566, 0.3706043547959604, 0.2223138688061766, 0.19978613061587513, 0.31843587249783345, 0.29333890956922914, 0.25763136157765987, 0.3070799491173987, 0.1286330508268697, 0.30864535381456026, 0.07911173281629118, 0.20583477455646082, 0.2963452244177461, 0.39304953435898554, 0.360269799058733, 0.31285039097736966, 0.03669522248674184, 0.470585524419957, 0.20797014229797892, 0.28018857486652754, 0.40012836398091167, 0.47247344633655214, 0.15574683670222708, 0.2515435750700938, 0.2916530337727939, 0.3718561836403318, 0.0022634738388340736, 0.29710369800398695, 0.5949394342644762, 0.47588390243825934, 0.2862410728725763, 0.33265217797790164, 0.4899938281871275, 0.6408137228272073, 0.00024069549144467572, 0.259331228063114, 0.3933805906638251, 0.3783274747360132, 0.6348278208946189, 0.5906289041335683, 0.24947843541015877, 0.27807200954379413, 0.3908788813278079, 0.6883686139869193, 0.2009558550780639, 0.4892207653062152, 0.12598713437051223, 0.6874946013362867, 0.12138223182410002, 0.4950561545595589, 0.010548519325087824, 0.4090195279992899, 0.4260131298409154, 0.5142110768105542, 0.00012515976284976915, 0.47711025044826544, 0.3196427692975184, 0.31346682638583656, 0.3806708966086652, 0.4112782884807429, 0.34611937562264455, 0.38789474529510376, 0.34081126513781484, 0.2998550354930795, 0.04407267337899157, 0.25272429814834446, 0.6356498770876967, 0.19186413041105435, 0.1639609775003724, 0.5344869979806504, 0.014139196574736345, 0.10717776156296774, 0.4975333875313178, 0.3643087886583238, 0.0007100646307662828, 0.1233112296347003, 0.47817152776406147, 0.31262583993001486, 0.6011865214755138, 0.28364619488676346, 0.08623589625259145, 0.31904265551608213, 0.6535868776388399, 0.11742347451315993, 0.6266687106632162, 0.4730371036799935, 0.5820142335512422, 0.5423892791714024, 0.39384036233423103, 0.24305183960503504, 0.22419151181587438, 0.26156646109288384, 0.36729204129187565, 0.41231933989044106, 0.015112775862338524, 0.4468204514076888, 0.10440048133578728, 0.1436587759444592, 0.4254534801468253, 0.5494215144415094, 0.215066176297114, 0.5377327078473172, 0.3297036109144384, 0.389559420472627, 0.029618291701779542, 0.40501440844994696, 0.006328075484282181, 0.2580436817702794, 0.1882102236074085, 0.3734419299988076, 0.737158327911367, 0.5591026374382653, 0.34630212117388676, 0.23381218730135128, 0.6031547743789686, 0.4180948048338501, 0.7067809925246692, 0.27431870079057696, 0.20103383869718527, 0.27921409204357567, 0.30972527378154074, 0.29722587430970837, 0.4484394306414555, 0.4400714818870516, 0.2915877945721149, 0.3123495856784471, 0.5025770655182507, 0.3162927818520242, 0.48891386948525906, 0.5506799093972015, 0.02486415318276632, 0.4899826591530756, 0.6700361332856118, 0.20817826670278214, 6.220647941717062e-05, 0.5097235555510485, 0.08760215395595879, 0.5979280629331564, 0.24504399960278533, 0.4731050733235919, 0.025140512104917433, 0.2591103095382105, 0.11089380471761956, 0.45425800858538423, 0.7156582608890981, 0.5021067347381871, 0.3207099956539773, 0.29791463638410703, 0.4440221065056643, 0.505964401733032, 0.31824605128635614, 0.2541673890133974, 0.10764588136225939, 0.3230564750726141, 0.6438669596333056, 0.4081015702208671, 0.38339534734311087, 0.28499731276826984, 0.7703813916121266, 0.42378175367927423, 0.3313881390177729, 0.23506571080176286, 0.473685788723742, 0.48616163308641164, 0.0048950406720299116, 0.4912375094291097, 0.3162812322310963, 0.47249665442124056, 0.06869131055039664, 0.3614415434423553, 0.35312727833807, 0.31250356389225065, 0.028641521128520253, 0.3700493028604242, 0.4414067448709223, 0.4613416195494875, 0.2097750368736039, 0.2345816207134341, 0.08032983822548496, 0.19961729235610223, 0.443557612053054, 0.3974673096067272, 0.15578225548737323, 0.2181057458589345, 0.004110504615406778, 0.45544305818363745, 0.3791668258102921, 0.36048516942231035, 0.4975140693131834, 0.3832324992423916, 0.3491079732775688, 0.6943124317490401, 0.18950610449686187, 0.3404760223119714, 0.4348296557782305, 0.45132723792404905, 0.09677397099963514, 0.17236061954319362, 0.28501002222102445, 0.41988592092763644, 0.0700010453276434, 0.28470292721721774, 0.09513505283030099, 0.42986250198118797, 0.04945376777175934, 0.23859399878112944, 0.3426632521247181, 0.40238950106336935, 0.5981216701123809, 0.4527332835475843, 0.001953031063749222, 0.17923736516875316, 0.29092991266501905, 0.290533766967755, 0.312072803943672, 0.3363036595027295, 0.4147365130816719, 0.4355598547719602, 0.1817866361434426, 0.45435691855351995, 0.6272536313925416, 0.3636275640182174, 0.22094641488802153, 0.37710154121501355, 0.20082527430495248, 0.5267664178789067, 0.28881738973515375, 0.42283541250130713, 0.13316657464019954, 0.20000092416977852, 0.624935085036943, 0.3387887189109322, 0.43449306028519963, 0.5298678375115352, 0.2973948888015002, 0.48038969505984286, 0.023539194547993247, 0.2461293014232037, 0.021858405360894666, 0.29948709281105096, 0.30164783172549503, 0.31063040021012966, 0.6315725049270051, 0.552432157095279, 0.025810668465315496, 0.26622553356369333, 0.18971554262667978, 0.3277294802477763, 0.32371062067769735, 0.5062404519962406, 0.013805360426593844, 0.2064202863137123, 0.3791961502450119, 0.5402995830501562, 0.118287678769466, 0.1606678349589419, 0.2154809659550665, 0.3878496193010605, 0.2417002473041922, 0.5211605203887487, 0.5478692519769538, 0.45531559156656976, 0.5437483222097702, 0.44807606106603043, 0.3994918818370934, 0.3920033186858913, 0.33164395451531165, 0.25901072468950587, 0.3305803235231327, 0.25849213829463036, 0.15329357510966343, 0.3994301124907603, 0.05263711907173274, 0.4556919383071363, 0.09758836122637149, 0.3723973978651014, 1.2568864230881143e-06, 0.141632069693321, 0.48763413726689275, 0.40776622072292834, 0.0635754824616015, 0.42155104825672296, 0.5765210790604425, 0.43257878204230626, 0.31911231570744086, 0.5383420937400731, 0.5828674151562154, 0.28974119970483597, 0.24717968549918046, 0.251030811662753, 0.18277177773147982, 0.2889100173734764, 0.5596332684531262, 0.3628989110629146, 0.12516306607099636, 0.4317283101329134, 0.29020725918157303, 0.3389324487549601, 0.21585484941024333, 0.44153019131156795, 0.5599487657833119, 0.24236036254447216, 0.6652630981019078, 0.20512843897707972, 0.46635611981037073, 0.12496098610923721, 0.1463801095579415, 0.21328605343462137, 0.6562330326996744, 0.3796864808719268, 0.29984007416189545, 0.2428009194077645, 0.4793938831637867, 0.6547544999048114, 0.6295550511115127, 0.6064853618283652, 0.009301311103627086, 0.17447169884689234, 0.1683574802557884, 0.4981274498485228, 0.00038921091110447986, 0.4660434970238126, 0.030516585092430302, 0.36656084741937983, 0.002542551577789709, 0.3504822629122592, 0.16753576968998438, 0.22163721479138682, 0.2124586029094644, 0.28486878693238393, 0.48063974557444455, 0.6040730089547045, 0.2643542336293952, 0.412088560848273, 0.0568437843103311, 0.2148947616238749, 0.45438787773148054, 0.3629369586771941, 0.311219130596146, 0.3022363973061482, 0.0020187943265849778, 0.45129617692221774, 0.29476683932755676, 0.2952515339277231, 0.6765823933558696, 0.16361685205745743, 0.5187032520771027, 0.5177319495495417, 0.6211926813417189, 0.6044257908338295, 0.28498109751944867, 0.25261375024776955, 0.057187756593526214, 0.14629224338804922, 0.0027207874376055465, 0.14520651840650947, 0.295170494413469, 0.5349388748060268, 0.23818624136220024, 0.14603770954871445, 0.4640082595893489, 0.6434583933803933, 0.2162286681903944, 0.49795216617610255, 0.6157840858524044, 0.6574495223639402, 0.5782151709177664, 0.3445713839841831, 0.28859772237046855, 0.3493615468884147, 0.6651491182494246, 0.6553800861306843, 0.27088002163327474, 0.2386510815800648, 0.36949977456824856, 0.4517724804140576, 0.34019004881548953, 0.46542782917967995, 0.3641367613711561, 0.5226602053446834, 0.06260270066882691, 0.27423706743706605, 0.428291622200829, 0.3905447464016275, 0.0039576458220835775, 0.3907518874009812, 0.12445206331613008, 0.11446119118027001, 0.3072131388924188, 0.38344519740196353, 0.23395053801571272, 0.2457448493297257, 0.43102716138237157, 0.4805777964065783, 0.4568852328684443, 0.354860054163266, 0.21496918122556963, 0.35145855890531486, 0.46518806952614494, 0.3202032289327024, 0.25202877661040474, 0.43117805818880395, 0.0885723593091825, 0.3462955863262089, 0.32313777100555147, 0.19869224461269314, 0.5216770580969751, 0.45403921292409, 0.003148652132949792, 0.43861974275408583, 0.48014643525086215, 0.3511414464937259, 0.061256267596036196, 0.46533316247389717, 0.16993981343304249, 0.30647031568689237, 0.4564176211632522, 0.4146215434616806, 0.42442109223144747, 0.23277233696585425, 0.05775970297832108, 0.31504645428445655, 0.14314918009719502, 0.3744110620270173, 0.022525712770584506, 0.31268687674613854, 0.375929450600961, 0.41635067172129653, 0.3284314497349052, 0.3332719022812427, 0.5919617721500496, 0.3996520419834052, 0.04776398577268992, 0.46059637429833966, 0.23900716369906957, 0.28698186668330017, 0.4479389113464549, 0.30709700632205233, 0.2980936927432083, 0.13798258484751838, 0.09106891196468836, 0.2873457343518238, 0.0197019229332606, 0.5708044863832501, 0.3223719016946769, 0.19201962316288235, 0.7647221051156521, 0.20861942407427705, 0.05362210733481909, 0.07222710541371008, 0.452056714653736, 0.5634577483870089, 0.2726045891255732, 0.479328411327594, 0.4188294561011909, 0.276967283054546, 0.4192060729050461, 0.3088923665163554, 0.12822135814502644, 0.10141623935607934, 0.37246061770383676, 0.32435323796869125, 0.057253426293350965, 0.2785112302714397, 0.266250744062875, 0.35186606474003795, 0.10448659417251191, 0.11702118678338284, 0.10242515527643263, 0.37162367998991447, 0.001954957886103633, 0.1945038477626719, 0.31970442997823867, 0.45896884583525044, 0.09166063765502705, 0.27367277535714724, 0.43009851820586065, 0.5354429999961419, 0.0009595925876055844, 0.27774332236167537, 0.7324761600379134, 0.18897633956072363, 0.29957836987215647, 0.22124768410928308, 0.40213951256657765, 0.3083783420408604, 0.3098460757999419, 0.4841689210275365, 0.19305095753998103, 0.19533146524402897, 0.5695351557591163, 0.38197604043307365, 0.3122195055048602, 0.41464608665064145, 0.424858680043144, 0.1679375496893052, 0.35599278688520525, 0.43419114443449214, 0.30867434047104325, 0.6566623854154552, 0.4010585873038508, 0.5725637550076168, 0.17305501652511643, 0.42406345915750954, 0.3923741300950496, 0.31713825570453313, 0.1325853188222523, 0.3255831894494793, 0.1651150682716564, 0.2569252057039912, 0.32059065856325714, 0.27494525481981685, 0.7007626129918171, 0.2956721025823282, 0.047520960876662244, 0.27720216085443744, 0.2470714726987353, 0.5190832930683902, 0.2905309484805912, 0.28978457609717245, 0.37175505068929243, 0.38723541931782773, 0.39780083642755115, 0.21592198960063702, 0.6414323625727915, 0.4169764562806945, 0.3477228375268169, 0.2978219382013131, 0.5516100966148466, 0.2852640278972424, 0.631193524847428, 0.36357761937168626, 0.4203426526593311, 0.4387943087188576, 0.1209737958004718, 0.2919267345574781, 0.09656543656190199, 0.387170871272606, 0.06621685614227601, 0.2670472545397733, 0.28247843894253793, 0.24749143713401792, 0.3559894530432454, 0.49767629473215147, 0.18793692699061162, 0.4349686053063168, 0.15953129884540118, 0.3163979714418846, 0.3061907555287083, 0.5195947055168549, 0.07254961551102923, 0.4511278617719654, 0.09521264306712851, 0.44150766317582635, 0.3245577272076237, 0.2784170960032393, 0.49493376596001326, 0.5773199613907888, 0.07563931158416498, 0.5081121069742794, 0.15645800693054607, 0.20185389211157465, 0.3851393271719904, 0.28845780779311064, 0.1258185874339688, 0.3073655592489035, 0.31286336337639525, 0.5829818916073154, 0.4077958066885073, 0.295510213008598, 0.4404054958631255, 0.41726426189234705, 0.04561422889431318, 0.31186027297603275, 0.2779277893863449, 0.2760924282189687, 0.5328816520145397, 0.4508280468682642, 0.4011281858640145, 0.39620923136631925, 0.10145822973545364, 0.20296864784081256, 0.5342074355125229, 0.19447132490272345, 0.20458563269031318, 0.3031211167489185, 0.03688789514773008, 0.30105148399572745, 0.40865077297000124, 0.34121014712411324, 0.11127313729436784, 0.20512970493638433, 0.032798729689602624, 0.32131337262338394, 0.4958892075976889, 0.5046366999723192, 0.3444929327815771, 0.2496478522495838, 0.23765144705761154, 0.28399580830898685, 0.28065190106790394, 0.6175633840416305, 0.37795777423889376, 0.31963651768682244, 0.3716116527899761, 0.582466863389127, 0.48783001834526657, 0.635495423002446, 0.0017362792432660257, 0.1871186066932349, 0.07133404846535996, 0.3163249092629819, 0.3949370802750179, 0.3232701073585517, 0.37211660006723835, 0.30673030548126695, 0.1836405098079736, 0.4257011335191123, 0.35197706484713737, 0.2498618070663986, 0.14875528752141, 0.23320552338881068, 0.3662878707051277, 0.3791947283265472, 0.35313600371591747, 0.3927484993619937, 0.17357048631432312, 0.2787008570629191, 0.5070821220314511, 0.5309956560074458, 0.3495464795108016, 0.28771986582218134, 0.14653750313542938, 0.16532519531167883, 0.5159900432458926, 0.48684783458985864, 0.39410685532690576, 0.2639091152010811, 0.4894748975712316, 0.42264881408239713, 0.5285954353632405, 0.6303834827375356, 0.03827110321785767, 0.36151805624740574, 0.3278657571774804, 0.24081079569281755, 0.4570794771461806, 0.42894849500119864, 0.0002506387373936529, 0.09740768464962313, 0.36086979953365195, 0.27412572917471845, 0.2871486416668429, 0.39715417442335577, 0.29388478173253435, 0.2675027091181619, 0.07954724371342713, 0.13668129792964573, 0.14137297151610256, 0.37135549158666126, 0.18481868207648708, 0.3522334279240749, 0.4412352668628695, 0.3980077833127325, 0.02205272277305167, 0.3486601680275411, 0.4780871668158201, 0.3866567840840139, 0.025550201057437032, 0.44514583006649544, 0.4034822333552357, 0.38721355534941065, 0.6381031027543713, 0.21362311937637293, 0.088285996320857, 0.291309793675012, 0.0435421138575813, 0.26953277329032843, 0.004304131686391581, 0.27858297092552675, 0.05612405872307136, 0.19582289321686402, 0.12846541933192515, 0.28651155222156804, 0.5228123336759641, 0.4171849059029127, 0.06958453972934617, 0.3705847683981872, 0.2078735371631208, 0.40913353485642195, 0.45376387358499837, 0.3658728144311883, 0.025567150395675396, 0.2597261721457858, 0.7094968903824972, 0.3471540601788617, 0.2637349992910458, 0.4510812898861202, 0.09217944254972583, 0.2863604107601099, 0.09162655414547771, 0.2768489418774082, 0.48218852452633393, 0.5391299554244748, 0.6050083741115836, 0.3853474121150451, 0.021757054523364926, 0.4769923978326146, 0.3864166756684426, 0.44394254053990845, 0.3459855012024917, 0.49814957822372613, 0.11755112219664927, 0.5522240622449317, 0.33998768697492776, 0.4328034163560145, 0.18063416491568204, 0.3607887851980373, 0.20954570948794884, 0.08698543454993847, 0.07274094167223666, 0.22866415325288997, 0.011477885604108451, 0.3921877673525741, 0.516769256313435, 0.5105553519636101, 0.024942638283050655, 0.3703309301637264, 0.19673404073098658, 0.2991773148486391, 0.30234487459534437, 0.3206108756476526, 0.12025201927576745, 0.18708224325688205, 0.0005537837663648507, 0.36102309942510247, 0.1034590346520977, 0.2974641088994825, 0.4598841788060132, 0.43198513015395845, 0.7048716091708879, 0.3505526789145294, 0.2379410559779899, 0.30118491673192704, 0.29238581646183903, 0.25316550388103565, 0.2528943174152768, 0.44419719350862136, 0.30130281269422005, 0.10645943837422335, 0.4171478144260338, 0.4758672247871878, 0.2610320641276, 0.41222267974517307, 0.02589752977209947, 0.29441429422334264, 0.11258423036114047, 0.21031832319181376, 0.4487123644183157, 0.3825985302793405, 0.11641319559930707, 0.3513610664095419, 0.0013751722058909113, 0.2822417986591807, 0.01724070738418959, 0.36827378747176803, 0.35560105503019357, 0.3898341065587374, 0.30016193353471216, 0.4016616013495877, 0.13970994345506385, 0.44048789721160747, 0.4403200942409613, 0.33266723164553313, 0.41823841119129124, 0.4424247144980573, 0.1427198895253241, 0.34573056890977094, 0.002222565410193056, 0.3599423635152615, 0.02939764093722867, 0.3194123392210134, 0.4820616213079916, 0.3005825337332451, 0.009597621747681322, 0.2748406502118286, 0.664058369347913, 0.6462261376855895, 0.454406064623375, 0.3847979594532565, 0.37443055197945796, 0.23142029289992727, 0.43822357766718295, 0.5004065031556957, 0.648089180894188, 0.2532662055789523, 0.19726499826647342, 0.37987286145535987, 0.2162522285070736, 0.2984646910992772, 0.04150600224966183, 0.30976691969949455, 0.10872242171285033, 0.33085319247030776, 0.08571831442729527, 0.3339392158331088, 0.3983027043897926, 0.6174877014314656, 0.0047352343093994675, 0.38018211805050134, 0.03389935532189459, 0.4597586954824812, 0.5214013746954151, 0.413870140694851, 0.07452586729777977, 0.5420068894344089, 0.28000265477458014, 0.42006010536928845, 0.12956883345975712, 0.16985505922001176, 0.2908589168710023, 0.6091351929809088, 0.5752249228147169, 0.6490026745867605, 0.504101835324296, 0.42710518902591005, 0.19390410732492974, 0.378328920493459, 0.003723817961296542, 0.24110855402116085, 0.5075020257015694, 0.5788277519677766, 0.34455466744335495, 0.40174264644107893, 0.014755164900452655, 0.4419202709768364, 0.13812810448074028, 0.727876525159393, 0.49203861405840144, 0.4089385406103089, 0.24976167353055312, 0.2587355328818907, 0.30365456349209125, 0.26917079326458404, 0.19725422681100704, 0.3848433014397223, 0.30943541890446796, 0.41180550321041665, 0.00795825807388395, 0.2556207623627799, 0.011571797961854221, 0.4910426860992124, 0.46340366288607654, 0.2864671289471744, 0.05603373425096834, 0.27758223953055994, 0.5969242779538035, 0.4576677370720505, 0.010541041367105208, 0.29084923886228353, 0.4575292880513838, 0.2912348882193721, 0.09117054332039386, 0.3832519775414507, 0.06651383961980173, 0.41293663663406727, 0.648308866452493, 0.34455569125657326, 0.2801200534869679, 0.2784381349207582, 0.32820209904659553, 0.23993207630344454, 0.16413756415501915, 0.1553673986868278, 0.25951680034631863, 0.26190248251309534, 0.4790897961668504, 0.4899452000846577, 0.10074977434472505, 0.39625829370032367, 0.5488805432078152, 0.3015224493918443, 0.29205712262773886, 0.43872939077420214, 0.3156146842520684, 0.3859576704497748, 0.46812617013478514, 0.3476455355428144, 0.1751104382215999, 0.29770483345083026, 0.3704444582975128, 0.49449734011786123, 0.41999695551307276, 0.47548485920131683, 0.3178255902879134, 0.2874952858226387, 0.42064301725726444, 0.3713873118904105, 2.9762449078892434e-05, 0.3542251177108343, 0.17310374895654, 0.5360161431343891, 0.46019772438607603, 0.597993514809727, 0.08062249699723907, 0.3122580236077104, 0.12843206372538893, 0.18302040580641687, 0.5406539235691525, 0.383157467937461, 0.001902730911024264, 0.2763745459998786, 0.0330632464179871, 0.3932240655493682, 0.05902366105793691, 0.22702028398035307, 0.00911721433431012, 0.41593301055415727, 0.06509552912162193, 0.41981614643801596, 0.16705794270092156, 0.3983699703157611, 0.2570072267869061, 0.31542794174159755, 0.28922758881381017, 0.22889795271330574, 0.24844884532798128, 0.32953970246236214, 0.07121920639548714, 0.3700682163933321, 0.002920645989320292, 0.563594811340095, 0.15354106782199647, 0.5202900223771576, 0.06296819422381564, 0.34083577588586556, 0.04061384254600853, 0.36061934366426973, 0.03136258799213465, 0.4054129328374197, 0.5197902863515386, 0.40757673876307154, 0.081881795078516, 0.15601346385838344, 0.3429692069257592, 0.2836923237266227, 0.23646622380329063, 0.531966820521913, 0.5728243256938489, 0.38285996080703144, 0.012737538513465551, 0.22590545865829423, 0.5374729798563446, 0.3618403148697022, 0.27881698927459103, 0.22678230176914127, 0.027957660110587312, 0.3616676013860067, 0.7119379540379622, 0.32170189068032834, 0.005226961612365244, 0.38955654673173046, 0.3800397229335412, 0.27657118047160717, 0.0480778255503448, 0.43520461662410526, 0.010922603415716972, 0.3043495763311461, 0.5036388844220911, 0.5042748801580604, 0.00013996147707899808, 0.3069162813092921, 0.601043014818101, 0.6870113508933682, 0.0005381098490033764, 0.45392347092724994, 0.41892554395445236, 0.3202929838961819, 0.6574448342435062, 0.5839836223266113, 0.3426117431172315, 0.452087080863182, 0.1264775076899371, 0.44016435619874994, 0.46959739564408665, 0.39892499693214634, 0.36199592767904204, 0.5724417022022547, 0.6044066787951372, 0.617661672267775, 0.37176722078584135, 0.8055283711809251, 0.21329654818971625, 0.4507322835927198, 0.0694688642284973, 0.17932772586523366, 0.0006419647421959477, 0.19268941340797519, 0.5473757032211249, 0.3069588634529089, 0.3691743455191546, 0.1920948508074548, 0.00597246454951043, 0.2118676027981142, 0.3715217476477847, 0.3964171928473747, 0.5221990440527756, 0.2744764177502605, 0.25598296814210436, 0.34311324784816466, 0.0029198765195919763, 0.48063612955228663, 0.05506169962089708, 0.27324665055387826, 0.3449052703450824, 0.1658235954639405, 0.28332992052896266, 0.23434447897815172, 0.47288342552363044, 0.5718292004526838, 0.3368223942604385, 0.2930137111093689, 0.45637545700719784, 0.29791715277915815, 0.570187998473557, 0.39742469313905865, 0.27820656171249425, 0.37280830519890074, 0.3559074625095491, 0.2901856915306496, 0.08322167471051216, 0.19193361487416244, 0.6255788251550661, 0.39015614887333544, 0.49189135097549297, 0.38171740315257463, 0.614483416791221, 0.41833906103218194, 0.1339368535928088, 0.3178680847251998, 0.36502362434243374, 0.3107728727631963, 0.20122680032506782, 0.2731803432850151, 0.07075155822308214, 0.15236422737374541, 0.08652220370822761, 0.22062150800588176, 0.14347999872006767, 0.14336474535775778, 0.19878817750141026, 0.5925827960583514, 0.07306623623402889, 0.4546526991128173, 0.07706414942427452, 0.2951471812043446, 0.5423677639922971, 0.4741272786564655, 0.5146246081484216, 0.6216744057375998, 0.6721047363444086, 0.5435935894495856, 0.31198402999767233, 0.627519705397057, 0.4235514067039747, 0.3120193934106185, 0.3747335389931462, 0.5413762367037446, 0.31823834795310785, 0.29432858939384865, 0.2907417071407205, 0.30198682348948463, 0.189488814626303, 0.4440234235697898, 0.5472442228884364, 0.5091128480824988, 0.19545463416943676, 0.3439134768316543, 0.0024479637153945076, 0.2210023111779912, 0.4797767825148185, 0.3934662258035955, 0.5791796882404014, 0.5553162760559189, 0.6969630497333128, 0.3818958867507831, 0.4283867719072573, 0.30758562107172716, 0.5694189820917219, 0.37535552598145683, 0.3088896347596976, 0.3452384311351125, 0.6046280935302742, 0.42369806935312226, 0.005613465168039511, 0.2813362324995978, 0.3207891280994318, 0.3734451011250234, 0.615472872913233, 0.14773174353024987, 0.36593801573326346, 0.4548960968505443, 0.19872205778119678, 0.3912241997042026, 0.35989212738350035, 0.38507229306150037, 0.21421056482697054, 0.3161623799382754, 0.006123784758983675, 0.26071491696312576, 0.5003757733065868, 0.5385904219475817, 0.08567941040745097, 0.3517182221574525, 0.23329364248265846, 0.41260760465539364, 0.13275169463334655, 0.2935185307530143, 0.2735899195163256, 0.43482096389760727, 0.6058366623939946, 0.4983709378823362, 0.5433947844929727, 0.3317905514900897, 0.41932103247344393, 0.4642933748837095, 0.03924205245615061, 0.36466992520555447, 0.525625749439415, 0.523291407751147, 0.5234962646183703, 0.40831502746016507, 0.14053208388011423, 0.33973039091554147, 0.2388823167023421, 0.18028470334666905, 0.1813146027958613, 0.3039676245210682, 0.15499898247217062, 0.3726068777692357, 0.7385079592932016, 0.624910258318414, 0.47241032571764663, 0.590234620759504, 0.12947944673942402, 0.588012600017604, 0.46446631819061523, 0.3716376175340402, 0.07601496307001475, 0.3461874131786372, 0.366098298371071, 0.27979801102385515, 0.510872955908131, 0.3258357966107901, 0.0501687182331807, 0.3584946021983342, 0.24489569834743938, 0.4988689981193602, 0.0004608583538280679, 0.3801015868295419, 0.15204256661236287, 0.3384550529634505, 0.5010417004668852, 0.3775427010649782, 0.11790787356205162, 0.3621546069979391, 0.33524769123300757, 0.39580002458373487, 0.018400461678614494, 0.2778038569902045, 0.24852066846667892, 0.27984147287668315, 0.6011597476899624, 0.5464316769503057, 0.4315262207140525, 0.41980053096284836, 0.043486232711237145, 0.3182670807544436, 0.5749302752592484, 0.34000676071325536, 0.15862314732930827, 0.3630256250972252, 0.7389610125325047, 0.42237154675196065, 0.18254248004086548, 0.13160834929203702, 0.23172988848740614, 0.3072027592112402, 0.3881087919380093, 0.4757385065047815, 0.0765598037687596, 0.33977132184096265, 0.0807804892378754, 0.23411322725977882, 0.12511013549131653, 0.1738350472396899, 0.3209353547510026, 0.4835236811295285, 0.692102856002748, 0.3937438289490151, 0.6656438494947824, 0.37061620410564833, 0.6943065216764808, 0.5643388724330669, 0.4078927791153504, 0.5589381138444878, 0.23295061795943184, 0.36307289511717283, 0.496700923620665, 0.39540952969504134, 0.15221353985609515, 0.29464014514207887, 0.43317734059463775, 0.5567427362863479, 0.7042064059725297, 0.19519263249023544, 0.17888324261506428, 0.38488976438119216, 0.36364533258663295, 0.35531449919933666, 0.02527744560939027, 0.38947295988327824, 0.19625834432226838, 0.24936062309009122, 0.5879273143114655, 0.6268654332402447, 0.27712793121505597, 0.6582570616408095, 0.5108544547778625, 0.5193919131022601, 0.5107293727553703, 0.35661025865485413, 0.21695364595992336, 0.4163637818627242, 0.1853760989292318, 0.5393741721996949, 0.0003683088963271075, 0.192885222226695, 0.6065925533572832, 0.4608893743493354, 0.5755765348279965, 0.44696477464105777, 0.6349096934278754, 0.25892974060402596, 0.0775187447447284, 0.2272735513416225, 0.5625508459698639, 0.31114752003571594, 0.0016751890073464892, 0.17960741806374533, 0.43440258618228167, 0.3536819024898342, 0.39843173105473395, 0.34310590146645586, 0.26594306758070163, 0.24507038725226357, 0.10591989774544394, 0.14750544569521462, 0.5308563750004396, 0.532058551976661, 0.1898946437762182, 0.36022810418654233, 0.3632593425209052, 0.5058841326350293, 0.37575761043020367, 0.30040929695857627, 0.2855326566589742, 0.3279177448594396, 0.1297406086609151, 0.2882567231325639, 0.1558954876905773, 0.2590291031530872, 0.036778905058911605, 0.328966349946669, 0.0024558284603699576, 0.294094734763445, 0.40955308476118674, 0.492525961774823, 0.2864414649538958, 0.3049991185037222, 0.5806326921312854, 0.45190488994662054, 0.5128988492302596, 0.6636635631714997, 0.41277816461297334, 0.433632975452272, 0.052302449862674454, 0.18386304312750298, 0.2084699193003329, 0.40898057731484233, 0.056615063182107406, 0.44936905343631506, 0.3567259839286895, 0.4083947348979412, 0.09837042588333134, 0.28358110934641445, 0.5036678735050373, 0.2945751521655365, 0.24017636580780768, 0.45397721949039904, 0.13336508223120644, 0.11987854467175256, 0.009273444014809229, 0.30522422645164954, 0.4179092550168409, 0.2677165132083924, 0.5790979467686009, 0.5087698153745157, 0.41406367035538744, 0.3540604855811762, 0.1838117361484327, 0.2568038108279428, 0.4660379820045765, 0.45724574590751316, 0.060558027249700074, 0.36348252632507394, 0.3453239443761792, 0.36285147241600496, 0.2483250267803669, 0.39150294705028005, 0.536318171912661, 0.6563233464595771, 0.03477513132966124, 0.402837366989016, 0.47549400086433025, 0.47622241485497885, 0.26645104529961827, 0.23773507804182142, 0.24307257853797637, 0.5615657803807843, 0.0785315863799446, 0.2866115743818227, 0.3307143175479723, 0.4374229131991687, 0.3223606852282371, 0.4552417198594068, 0.16731339172636378, 0.28871115375734463, 0.37683642496267566, 0.15922411566071382, 0.28111850128819543, 0.45688571446293663, 0.3921926554962323, 0.19880521205292948, 0.34056441618419436, 0.266622538711997, 0.06160292001823109, 0.36001684625112873, 0.16768080367506222, 0.27834891273074996, 0.2487957527771698, 0.32411031846254446, 0.00933050160944861, 0.1375560936179449, 0.5380146623671559, 0.37052685539312996, 0.2746331348377377, 0.44101606005767136, 0.0016915300490381925, 0.23195577050939606, 0.2416809499866051, 0.19933510066829488, 0.04905635226064727, 0.2873503968420387, 0.09937575190110692, 0.14773188775685095, 0.20003223698586226, 0.22409010536989626, 0.1093699845327397, 0.25382318581520147, 0.39888955237660817, 0.40875642049088906, 0.22994148958678123, 0.2567401225549712, 0.3187851443548094, 0.3268748876734582, 0.04038601341017056, 0.36497135935434405, 0.7148532315364314, 0.5692802171622003, 0.7485187143422597, 0.3335174632866382, 0.5153648458164752, 0.31893065575093776, 0.23447640308295375, 0.2198222785950899, 0.0009679308550403221, 0.2634246929095579, 0.3681117434794682, 0.34886659964314803, 0.3054800947631355, 0.3085309821872215, 0.2320198027882725, 0.38989172345481854, 0.3361710201934329, 0.18170479207535364, 0.3256657600860535, 0.22282777112799534, 0.11983014948918935, 0.40421679226212864, 0.23566854265165246, 0.1910214846741599, 0.507966491071364, 0.28440536371118996, 0.6879863954699513, 0.5857881283457876, 0.15887365096079778, 0.30989975591890984, 0.6442121880298312, 0.5471634050985679, 0.29166225007631713, 0.17957041815984098, 0.21966282847824914, 0.47091175414949676, 0.4646117153868545, 0.3493141991093027, 0.17585810459422646, 0.3350419552424972, 1.635908864727753e-05, 0.2963752136034959, 0.001896709660650231, 0.4804272003958472, 0.4684073537784343, 0.5132865347054866, 0.10380046952577686, 0.3831474107733205, 0.08875163382132693, 0.3031988002176149, 0.4146866877757323, 0.3567079989804751, 0.4936246995725121, 0.4786827657838633, 0.2041336890310049, 0.41553158751077035, 0.5464772365308264, 0.43108688490404273, 0.5548503188183531, 0.5112867673639866, 0.30371234449731, 0.3061063387402849, 0.35187962673124756, 0.30013874148783354, 0.3016731434715136, 0.3997459242931537, 0.047303433894977154, 0.23228474737370483, 0.19483207426965238, 0.47725378939555935, 0.25399846376967616, 0.3354279540034282, 0.2100825981159241, 0.46151437821993946, 0.12962936208676296, 0.4446041964007904, 0.36235119571273344, 0.40858567632325316, 0.016858277487335725, 0.34830885225768926, 0.6377144213978941, 0.3931121951818497, 0.6083155380423374, 0.3100859342454066, 0.1466985906685295, 0.4660482468202199, 0.3620130122289993, 0.3885973083958691, 0.3927991256105623, 0.6436994452408478, 0.305339483597345, 0.4513198784028646, 0.4003680575406179, 0.2700654797444658, 0.6303869843582106, 0.5510953779254729, 0.08477026341734017, 0.40521920069014333, 0.6403179639802107, 0.302020346646976, 0.30565237200174195, 0.47719535073408154, 0.4356462645726121, 0.6489763791995049, 0.13179909268728807, 0.20333352037527289, 0.47848396313687164, 0.38922366994805857, 0.28621691416420464, 0.2637977121328385, 0.004484219451114768, 0.4236598039459165, 0.16564681088111682, 0.23877165340586326, 0.2624053749499985, 0.5946122489234943, 0.2421615518440376, 0.2218504495169646, 0.3049816972105129, 0.3252677500936148, 0.07604736024374859, 0.39879822595933473, 0.5576253617898776, 0.5103113655288248, 0.03352404414787694, 0.4608417660492705, 0.2946529704883233, 0.33245906450137797, 0.02104507428763706, 0.3493953793866759, 0.12261349115851772, 0.34686346702824267, 0.3094765429512755, 0.4667847283084744, 0.16460057236286552, 0.49610864520609005, 0.24810744140076066, 0.5456569228760296, 0.16932778185097655, 0.48487335889595945, 0.5404970715088504, 0.4689282755959112, 0.36717687133059373, 0.3046030415800519, 0.3034575671057003, 0.4910029283605141, 0.0011845507971581053, 0.16859497072380566, 0.4180690898177725, 0.4301074068647722, 0.18571030218542242, 0.43510998985842864, 0.13853695755824447, 0.3980904125722166, 0.2874897198053077, 0.4484865719331773, 0.596694826336506, 0.433282250730776, 0.33491859956298714, 0.4816770241953257, 0.3156325022355304, 0.29051042780982944, 0.42113417559968574, 0.27460158047997113, 0.37859756828725544, 0.26883307056647027, 0.2176555917210834, 0.3760204103604418, 0.2732343977782875, 0.3800488222701926, 0.4484175265863748, 0.5521203574064601, 0.25531879683590625, 0.4135209839223535, 0.45200170374300797, 0.38914017798908224, 0.7518659936122276, 0.29504586858422044, 0.0014859033951021654, 0.4439625558393475, 0.46938074288690196, 0.3858363164734928, 0.6006648801645497, 0.3442302758023808, 0.3260427972137612, 0.18516324571013457, 0.186146161518991, 0.21056962644129767, 0.26124949559307425, 0.6801316047019601, 0.10291463334624495, 0.1974213250244152, 0.4293521244200278, 0.30758385586527515, 0.0059994084828758785, 0.47761409808512584, 0.29114750594916666, 0.3365677582057995, 0.06627816311915272, 0.41939660924545025, 0.550405665953325, 0.5486954374143539, 0.004137414554861607, 0.18919071107689994, 0.052674396620659536, 0.4943538186771211, 0.25457402639828314, 0.41012035391568136, 0.463841534470372, 0.24917795049341337, 0.18453197827939832, 0.343727122708138, 0.5582984782173298, 0.46838708337048895, 0.43190241705451626, 0.4907912691617783, 0.4262442268534667, 0.5622080171998176, 0.0472027131697601, 0.3292028802254081, 0.3639847627256621, 0.19911418041013984, 0.1655296561630621, 0.24833688650107075, 0.00982029527949635, 0.15804581617359012, 0.00880321509139037, 0.3178122067586587, 0.16688293130469642, 0.4129070570920233, 0.14947285311136227, 0.30025198386589785, 0.12500099531462183, 0.3918863880021187, 0.001245464239843841, 0.15680700215827573, 0.3031396314215202, 0.38470074775170815, 0.012563008873257786, 0.29726404415787044, 0.5371606604569346, 0.7216814234419617, 0.08417891512752769, 0.28969797445388396, 0.781726245784999, 0.5914144697323666, 0.3142416667251382, 0.4297539106632813, 0.13944107692731222, 0.23668646085811212, 0.38367164454474634, 0.27910379276656566, 0.2462499575012771, 0.33211931076598433, 0.6405911072312543, 0.5813253682906342, 0.00043747547547923205, 0.4723439687211794, 0.40777364273877637, 0.3494863683315337, 0.00038908387502942785, 0.2849551615990488, 0.260801106539778, 0.2736268422128045, 0.37910136222343194, 0.31769054009194925, 0.4196445453022274, 0.3476546565766815, 0.35189917559266276, 0.3290168370180805, 0.2546445835479452, 0.4969930301886052, 0.30620314157149553, 0.2000407464943529, 0.26898210393096633, 0.3509990951293291, 0.46826038063906406, 0.5284123553627235, 0.17978197898196283, 0.298259206611434, 0.33070095996544585, 0.4252796842311649, 0.3860475849455952, 0.19592878214460202, 0.7466039253132684, 0.5230500539090779, 0.4906586236736205, 0.38317447838882546, 0.40609095123779426, 0.48962829885835835, 0.3597724171064328, 0.5018403163964569, 0.0012792481773126196, 0.2725862021925716, 0.018967932983875002, 0.5719297071279826, 0.49480168133806046, 0.30417121933613817, 0.388258374164252, 0.33853979180260957, 0.5513311410012158, 0.7957682301374999, 0.5560415180017506, 0.529325094446432, 0.003596012150410388, 0.26178006488169103, 0.156919452107104, 0.30893967484425955, 0.0740982649643314, 0.2768271136564928, 0.02186233038082719, 0.2759814226354346, 0.3854590757281195, 0.20062824724699077, 0.2027466163481222, 0.1650711942334323, 0.2052803534421731, 0.18644866693154352, 0.7172937753796705, 0.31061084488796425, 0.337347540056466, 0.7732628613541072, 0.09278805900861734, 0.24003270443978408, 7.315624083048533e-05, 0.24801916559214887, 0.5429710112609124, 0.4053614937625463, 0.38613677887187803, 0.6551679886159898, 0.0039661827868258115, 0.2737804103939965, 0.22006673332419413, 0.33257247152720415, 0.019258070675919368, 0.3801994980220977, 0.44102761199173984, 0.43889613052660703, 0.0084481388603308, 0.29912784786266555, 0.18739056781305408, 0.6062893276149326, 0.16669385895943378, 0.45585171901758054, 0.18605890738399466, 0.40062713437731223, 0.3697027263651762, 0.20438283371084082, 0.30458028908954776, 0.4391742503201688, 0.24966665366644686, 0.31497065095394144, 0.5432008684266989, 0.47750060981323916, 0.12188025775831193, 0.40265358448903965, 0.0523209000142136, 0.5982905246646089, 0.000877150508434473, 0.30653569313885026, 0.018589158076792955, 0.13621092824209757, 0.43882639869116247, 0.3692600563515126, 0.5145655300379183, 0.4915289901544288, 0.43039330795207725, 0.6088055042354107, 0.039850109028395767, 0.3894398803802824, 0.1372553030426718, 0.5161566603147159, 0.029897440176137026, 0.34109634210232304, 0.582824221044705, 0.42558118094155883, 0.6290542114293203, 0.511234467250428, 0.291603387082712, 0.46110953177111663, 0.3105826027957456, 0.3836154632644274, 0.5643829118761273, 0.4176070387700359, 0.2653717113958836, 0.3694527496645312, 0.5157439596909431, 0.3808018013907031, 0.343231615818695, 0.4663834695615647, 0.12270009422042806, 0.6155576419602534, 0.13025656883473857, 0.6025138938731717, 0.45742329477798194, 0.4214631282181169, 0.1468198663499436, 0.4202390746000498, 0.5463107424058964, 0.5558789359492948, 0.27593919390637894, 0.23720172313999732, 0.00948552227782784, 0.4884842347662656, 0.022989292479906, 0.3370106463373832, 0.2526606234782548, 0.3633464696834347, 0.21484089663065725, 0.23555960713878263, 0.22308575331236272, 0.30780656721017957, 0.39474249296986, 0.4650253005358145, 0.5458246710311089, 0.6482445147972052, 0.27639984451111876, 0.31936675706457285, 0.007887266792490013, 0.23442708075421656, 0.38280145504977553, 0.418929108828959, 0.37619319052568506, 0.5037161472835578, 0.3355964849381832, 0.3477596909705767, 0.39646755551996954, 0.2521239262385101, 0.1761929856002098, 0.21095116318271098, 0.07564242648732034, 0.4059502276119859, 0.4631621401890048, 0.5945314445315619, 0.2879860478363877, 0.4761897986396574, 0.6382660603990804, 0.2672541151014142, 0.4909653483967607, 0.4517252025165915, 0.12294802919450376, 0.22758739254837818, 0.2793518379427648, 0.4702955238701675, 0.19485853856571744, 0.3526071448143176, 0.0005199477943915176, 0.3339169313273099, 0.2659444674702374, 0.36525565978323965, 0.11213266249978915, 0.6072343489552926, 0.25533022090094165, 0.14274051998716147, 0.13571726003439316, 0.20651561892656092, 0.27047771391175957, 0.33922436922341603, 0.29517220775765624, 0.29206566806036477, 0.11373648738420646, 0.3639578983098995, 0.10049373919373465, 0.12392595982236464, 0.4623041014162226, 0.5141586327340717, 0.2178785455286673, 0.48945428680783354, 0.400721280069168, 0.4285006587070081, 0.4781311169590481, 0.3864514660894981, 0.5732247770182977, 0.4176258895664265, 0.32304341180376167, 0.3578050437446265, 0.006773748437505371, 0.2550117360793303, 0.2502185790924456, 0.38048195653100503, 0.32286076799833346, 0.40815328649212557, 0.1681556426547104, 0.3039007618008793, 0.26626098920844143, 0.16438396495990806, 0.04486392439721385, 0.24640995045294714, 0.0022951321152504534, 0.2540020121208937, 0.2056184154807852, 0.3617369477576934, 0.033710692450404166, 0.41296447845455814, 0.38457820242183516, 0.360587911550413, 0.36248012969599674, 0.3294137467126103, 0.7207354596936253, 0.275974965671464, 0.003027795586967841, 0.5218069755891951, 0.31705000357264496, 0.4383512833959512, 0.7123064023869049, 0.5955047844096011, 0.3116799706521516, 0.48506378070239653, 0.029446765115860925, 0.490474134106383, 0.020023826230317354, 0.2516017459183786, 0.20839291677435767, 0.42265732588930405, 0.17686701193451881, 0.5361627203366455, 0.006671994004864246, 0.5087137732111539, 0.09686102300915991, 0.22453524050164547, 0.0002984480575833004, 0.33899319347307116, 0.20486561616924823, 0.3876651991455089, 0.31981341172104294, 0.2763042668055396, 0.18606503030559907, 0.3000931314477384, 0.3642394148175501, 0.5136262401234531, 0.3017250689333126, 0.2851254855603689, 0.3007821992620078, 0.33922298099517223, 0.47224776239858735, 0.4689593173966704, 0.14929715638863855, 0.36457943011347244, 0.5555450701254553, 0.3181053534204901, 0.17764611882157624, 0.4424874411574017, 0.17310684924502442, 0.3387437728490549, 0.3267767944937357, 0.47886921808570265, 0.23072059871780462, 0.3812045338368248, 0.3552408772223349, 0.1968314411256162, 0.48301102747791447, 0.28037811408207647, 0.25088088845627177, 0.5295219128247877, 0.17824479501827487, 0.4494533099116509, 0.2642439335264498, 0.2632993318934452, 0.23616207525364272, 0.1744594239975263, 0.5712363439878183, 0.5304605968548068, 0.006179649900036566, 0.45403978712056414, 0.18895657608405259, 0.3702641961991934, 0.008703817137042538, 0.151716494946784, 0.3026105523905634, 0.5047043662618629, 0.6511785619493041, 0.5428730855486776, 0.6822063326835632, 0.6173097216483336, 0.009126148628971957, 0.23567750730865444, 0.2296539661279894, 0.2903906439469039, 0.09232023587780229, 0.3537649303598857, 0.029578948589460197, 0.3142569235517026, 0.0004316647273299168, 0.37257364498139317, 0.0175981410490067, 0.047223442749775586, 0.12952362355560254, 0.16118762227271005, 0.3343430367829439, 0.16121722877642228, 0.2741909750794926, 0.16570632158940593, 0.24380882367818626, 0.2729051804262973, 0.003245602836599107, 0.10936871685533733, 0.015220236739476636, 0.12862700784757636, 0.05736339708098707, 0.0507849560366168, 0.1427278228020441, 0.061697212104912386, 0.23981877835230847, 0.1688732680199296, 0.006393742313002473, 0.3659419640026635, 0.008635957956757262, 0.3306846196261413, 0.004911290108237172, 0.22909940876707036, 0.00010791118972917069, 0.1405952255883907, 0.00804283805662783, 0.11284319770317071, 0.20352486768334188, 0.09245895260366802, 0.010369998809053777, 0.0983583882942149, 0.03814502557715027, 0.19147269983071175, 0.016278276464618102, 0.13714789600252913, 0.08043913248021013, 0.20986356928243935, 0.011451699393144579, 0.2642578314365335, 0.2903265832842385, 0.06563973538749558, 0.0014050996446889645, 0.028651201053645645, 0.011064684119010812, 0.1118656635871919, 0.22944926856115883, 0.20146165740938105, 0.1290655749712479, 0.18369519078768262, 0.21035567325940308, 0.3703998435174794, 0.3033937621498375, 0.2650501408665963, 0.0023350953611548497, 0.17184760326941628, 0.01023281784189578, 0.1269902335421096, 0.22583124825185527, 0.16873015026862972, 0.30961276710761476, 0.10532666488383786, 0.004234980617383403, 0.2746103261993188, 0.05000627286682624, 0.14146518157662458, 0.26148567949321777, 0.17217309510294873, 0.3565825435253332, 0.23277323447793932, 0.15266635685292537, 0.22737960552528874, 0.0831727310898158, 0.24348201050664722, 0.09462849862090025, 0.3252184480610799, 0.33373545610407523, 0.34527613337010005, 0.4540355369028682, 0.19051666470611398, 0.1592263222163997, 0.2056936237929587, 0.22182635226246666, 0.16144459889626672, 0.04678161922859829, 0.34337642317213146, 0.1227121252350889, 0.17076226337914185, 0.29319402478330686, 0.27622678093713104, 0.0849701723520393, 0.1258870165363992, 0.08646292198222909, 0.4153068096610733, 0.006221063990005031, 0.34319051759445074, 0.08114312451279457, 0.03467819538521155, 0.42887818449289355, 0.16352600884003007, 0.02569230040635521, 0.08694530202798853, 0.02022310759338608, 0.16617043667712403, 0.14968150807054112, 0.24653511610234016, 0.2576740166509591, 0.3128034768785684, 0.2634847015324585, 0.1648826249319554, 0.06839021104778766, 0.10785458378892906, 0.2508206735416644, 0.23447774360196938, 0.0268987276234256, 0.02118991934142558, 0.23123548132578703, 0.14169173590298256, 0.3200501396340769, 0.2355863478448177, 0.3268315010358947, 0.13116503277618632, 0.055920008661269095, 0.3369298376966981, 0.287414586410575, 0.17407019519268216, 0.11972075354004066, 0.34419054698943996, 0.09977068473748445, 0.2862345701827931, 0.11316926662168823, 0.13804092455917924, 0.13134745923153446, 0.20502610459417003, 0.19349275371474264, 0.2670349196201183, 0.33263223716074514, 0.25451345105528966, 0.2855778866803369, 0.34026790350908453, 0.0857429805219441, 0.07696122640335401, 0.2741706015065769, 0.2768842643948388, 0.12364309353524172, 0.1550758559408564, 0.07124132547202461, 0.23050482521430285, 0.009854468390358306, 0.2546139948336732, 0.11479046825032431, 0.23345147500542918, 0.001190138193402907, 0.16567914999861683, 0.007440227419909462, 0.3953889683997078, 0.0858819662159173, 0.13502772106682115, 0.530853169009788, 0.36427661570722747, 0.125861918584284, 0.15379849987474073, 0.003859087088650475, 0.2367633889040862, 0.015494047459407552, 0.21276716967490653, 0.28410818026464757, 0.13777247076270047, 0.03792913255445175, 0.22711266042710654, 0.008475931921092838, 0.10627233132305869, 0.03753463076088592, 0.13657925412830535, 0.027971372800285572, 0.2064581595997887, 0.004965117564913468, 0.189339903639046, 0.26015022101021057, 0.16063771177652297, 0.0036573550056756923, 0.05619099551931295, 0.0698604595530209, 0.19710968465236645, 0.20247452209430702, 0.23247426746551528, 0.0017330671398099184, 0.2534506823245282, 0.05888173573671377, 0.3183188010200151, 0.06872682088528977, 0.2065351371887575, 0.2121196916480146, 0.09937088070452232, 0.0017212771198436322, 0.25548305695326295, 0.020258292126489625, 0.25047561897303994, 0.01156960981378771, 0.05309280904642163, 0.3556221064822391, 0.24620572889147238, 0.23401429816708338, 0.3304332672587942, 0.001689731878798284, 0.3455663671576269, 0.1651799741055423, 0.1712705500575625, 0.11321248410344556, 0.27150729068881674, 0.09519621842986226, 0.256185719300915, 0.060085838977713024, 0.33749601497899523, 0.01831498044617498, 0.190646994890494, 0.008519367229529706, 0.30365606149375984, 0.10504802636727434, 0.15468285367642526, 0.2714962433930391, 0.22855533676601603, 0.0010461433982058566, 0.28982523283426287, 0.00040867323293198866, 0.026624817671714623, 0.40144671979725477, 0.24295725185290415, 0.014698457373521016, 0.26248227295336857, 0.22703932180439423, 0.18297251160909195, 0.0007098784828468337, 0.17945355474399444, 0.24519763232925582, 0.2188602072736797, 0.03610584498128825, 0.33283710011765133, 0.1602980855152991, 0.21074950565850886, 0.10415391428192709, 0.24848578613358424, 0.19675730196710597, 0.3782191176841291, 0.009084374461768416, 0.21207961713896512, 0.02075250406051986, 0.10216313933880916, 0.0002823020189642496, 0.1368625723103129, 0.23508049486687152, 0.2760197101829292, 0.12253485560245281, 0.3222035414465251, 0.06429227983300254, 0.14657739902000036, 0.1251064013138811, 0.22859587890484126, 0.07411231597611082, 0.14404301337605338, 0.00017949996107638754, 0.12936655508509945, 0.1808091852921377, 0.2876105765770189, 0.1530369586607927, 0.2909871284961967, 0.14813053700735368, 0.3350810433678978, 0.048783874008826444, 0.2676738493990655, 0.009961196345357238, 0.16645681134997875, 0.05278544462224014, 0.13233728248813748, 0.00031369063635288004, 0.1426153207237381, 4.803376658379932e-05, 0.1793537573141552, 0.2000632477355098, 0.2232397672551846, 0.20288074969345737, 0.23931182333632767, 0.0025750661558513834, 0.11665821814773893, 0.012929384674762782, 0.20596160981139844, 0.15323061405396485, 0.14994017501878562, 0.05537195120566904, 0.23540314429449166, 2.9291973582331227e-05, 0.22325565483155194, 0.00020638965832612635, 0.09881135290857627, 0.021971933728095354, 0.1813056712278776, 0.079869202817073, 0.12763361695411413, 0.2744979138178536, 0.2398109775448182, 0.30566754840447175, 0.237525885588215, 0.2753306709681471, 0.16125411155836789, 0.2630198708178814, 0.1655763671607692, 0.27288760091653874, 0.3311009494123997, 0.3432271296290932, 0.095285542991755, 0.2506855070369056, 0.21818746363988717, 0.003978206670258156, 0.20342857326813607, 0.3691588425529079, 0.12990587955551167, 0.003554969350483878, 0.09560226481663514, 0.024926507130089703, 0.2629870518424875, 0.47862380752770456, 0.30972916746456775, 0.16801988218221664, 0.25469060779323005, 0.001113563942340079, 0.1969516663601578, 0.08019622352190607, 0.23288161097949306, 0.05281036214811744, 0.18563444808839702, 0.0639376064657981, 0.03153895176224428, 0.003604618873624954, 0.08282211813852998, 0.058271036886643354, 0.31557163936219956, 0.24175651106323615, 0.1590784962330222, 0.043258459446260784, 0.38948915402064294, 0.11600405349443983, 0.10803748639834036, 0.07736970238039455, 0.10332962440539245, 0.003339422763423904, 0.17527903639014164, 0.00684553591588255, 0.16143922889309134, 2.5910624346536792e-05, 0.16516074808498132, 0.0010971189674187087, 0.2162110445042266, 0.0032864176796901156, 0.06993242678732373, 0.01049388797582651, 0.13703319708633144, 0.003564240928556371, 0.18704849605114385, 0.019947733551932245, 0.18799771729416725, 0.011746308146549771, 0.2210877140107007, 0.045185803243609435, 0.2233777774771284, 0.2870603524220568, 0.20497118599538985, 0.0661420391129595, 0.2334509725510817, 0.0756300168363038, 0.320246512657167, 0.025276930873922347, 0.4685769811127653, 0.34166652421396176, 0.24211158498913593, 7.626555255206095e-05, 0.08256977695353167, 0.2352391875371751, 0.1979053309725277, 0.007797783224913804, 0.1495699600356385, 0.0819912002827689, 0.10944410528914936, 0.423864688715736, 0.3242897543800375, 0.15508611236364814, 0.11431592279842037, 0.0049266679353507925, 0.15073453110903132, 0.2858746665842448, 0.16473568394771596, 0.00025264481006650807, 0.103350940718927, 0.37452267370730397, 0.14586623489190273, 0.37804926688557894, 0.14210564781140483, 0.1427710341172728, 0.1154781983367515, 0.18617002175733433, 0.18437116658030764, 0.10055164677517799, 0.10139264897136059, 0.08157963167770976, 0.1368163508641677, 0.2990015745455741, 0.12784957242091954, 0.0016045399572904766, 0.1876536580329738, 0.004957875647039378, 0.2942566382343764, 0.09443219939131156, 0.2295681792539594, 0.06382549498888179, 0.18815529200562492, 0.05151142344568273, 0.12192892252184669, 0.004121578853957746, 0.1515271329928808, 0.094330715067296, 0.1594288998383658, 0.23110789586204988, 0.20677562306254865, 0.2964243824355606, 0.19798125204187045, 0.20810666744387163, 0.25085276666445394, 0.09348745009265258, 0.18491899353257962, 0.060124127179900455, 0.22565589347291598, 0.012436201871956598, 0.2822022822658813, 0.005978487693063528, 0.06236667987345821, 0.00012938674790123153, 0.08447094940876732, 0.00042152216427255543, 0.40758158003347217, 0.07510878901682556, 0.37014258938277617, 0.009902229905643859, 0.14488822964666362, 0.014342673933836321, 0.13972177916218223, 0.03619929798315411, 0.3772416035851815, 0.17075788505715245, 0.20015968781227525, 0.13197045205988425, 0.18518300595901935, 0.2427507639597136, 0.24472715696609745, 0.1817633952536641, 0.19587721339384428, 0.43534989873837543, 0.21712972553008114, 0.09778764820007287, 0.3861663554250343, 0.025658228074955502, 0.19681480399138987, 0.06735060859041239, 0.2902805205438875, 0.013701672383544484, 0.16346967287097347, 0.3653092512075773, 0.2766995811050873, 0.48806067890066895, 0.17120784166001093, 0.07190742853702625, 0.11950914709561093, 0.14070721127172212, 0.28424343113526496, 0.00183922956721716, 0.08178260421106638, 0.0005474778853119409, 0.11824276571951486, 0.010187129158876849, 0.1442593454910089, 0.2644872833921757, 0.13901303278686328, 0.018438165259262007, 0.22744160736590105, 0.018435259603196325, 0.4424941193167197, 0.0284052951431332, 0.12249118897980701, 0.0002452112284864987, 0.0969058684002341, 0.08385911080034605, 0.30545708521721304, 0.00013811495597434745, 0.11465300373418826, 0.43699479667581426, 0.43893401948411803, 0.0316974504773665, 0.13314921956034928, 0.005360398448113363, 0.10586591046234078, 0.1511583831029384, 0.16333971674138598, 0.2691203693781669, 0.14752753552791073, 0.6173092827480104, 0.4449419128553321, 0.2147905116024352, 0.22214203418699677, 0.3625435357136742, 0.1303489910459675, 0.05990616669184294, 0.18859114697971913, 0.003365476247836341, 0.1624352024247834, 0.12297501574746231, 0.36069465848997617, 0.03445850598487036, 0.448247601549597, 0.1503936473889477, 0.20582110985705268, 0.2654678634553114, 0.15013525713974854, 0.40104686413958135, 0.3614920710122078, 0.26331459330765106, 0.1743737631383855, 0.06540129470799498, 0.3379025718465892, 1.062013938065339e-05, 0.04339524448974921, 0.223952737473218, 0.23522140359007135, 0.0894899971595919, 0.18901739890654787, 0.03594914700852314, 0.4223915713956249, 0.12813220166464767, 0.3078782222028336, 0.03974567004363797, 0.17411461276888787, 0.102383526002086, 0.0920470428398775, 0.07514701671950519, 0.16960235064596085, 0.014041582255157345, 0.14544906416461098, 0.24373941797270002, 0.19880506474626147, 0.0005709782071607249, 0.21794246647543436, 0.03165368788010028, 0.22504655939788903, 0.00016441026663329694, 0.11134727206876557, 0.055662455263915715, 0.0751787500823602, 0.005938606853389317, 0.2170933042447435, 0.24857033653646834, 0.18694395720907916, 0.0025655679971213394, 0.24534419320151102, 0.19820923005784152, 0.2435117619184986, 0.0830675364629272, 0.20223432733815905, 0.0003555487046469352, 0.16204465962660733, 0.05901774218793321, 0.3447808906889061, 0.30892203166595, 0.23149180678551753, 0.005135366296656248, 0.13303378645953123, 1.1312748288439903e-05, 0.19405344074887007, 0.3872385888809333, 0.12487033412991663, 0.09297610515330271, 0.16891336784392236, 0.18834547355696493, 0.25193893321082866, 0.05968275632431149, 0.23963830608056133, 0.00022230152774227463, 0.16005210548232415, 0.016770325267700625, 0.30762354285612103, 0.005736018347680069, 0.12126115295271113, 0.001827354895735785, 0.1427401057637692, 0.09938774046611698, 0.2543847932764082, 0.01016841945561644, 0.2515767917476055, 0.003818989390552474, 0.09669872569231623, 0.13723901502887698, 0.22286775221793295, 0.004750130081243839, 0.19617517508100216, 0.1414524906549373, 0.2199452591696591, 0.3460882316762505, 0.18050937943745532, 0.07546295956720428, 0.17888709879872083, 0.023769295451893414, 0.16760456770555948, 0.0029112484638988334, 0.19299919172755486, 0.0005304079560508919, 0.08243287509842515, 0.0968390764195071, 0.2556451353482242, 7.208537519091489e-05, 0.11722914849266503, 0.24383277279163199, 0.1665406168757071, 0.388655856140836, 0.10841047964929425, 0.271164568268523, 0.2247865376257369, 0.0007087564538648751, 0.09104085458636205, 0.5964204479244238, 0.16368958169889397, 0.006086519058982276, 0.11496788560522367, 0.03316417266448254, 0.2683938077640265, 0.00031210980291973556, 0.1789866199321278, 0.14496520845239153, 0.41319159122938964, 0.0004419708262033417, 0.17637998496272533, 0.5164685148774879, 0.43491975742845324, 0.37965933964705983, 0.25994133001558006, 0.12130766047723844, 0.22139267216688543, 0.017323238302555666, 0.047791354896347685, 0.015005207748078972, 0.12728731375314561, 0.0404776749388193, 0.12024915600371254, 0.0014699541472019879, 0.09763971620289655, 0.10234758858026671, 0.18797823585540768, 0.027616135121130963, 0.2576238179373317, 0.30217007432665266, 0.22329616541918088, 0.0051993951494016715, 0.16721240144937533, 0.08521214774082608, 0.3384164123119616, 0.059293928065511196, 0.0928107037125975, 0.016945684958913708, 0.17118847124121903, 0.008733588415635849, 0.04781805429988647, 0.0001010591752219625, 0.08888293299002371, 0.07993133031292625, 0.11641344746938283, 0.024984399071615353, 0.048188666253522305, 0.282156016981818, 0.24477550588965905, 0.0012536925464541326, 0.3381254639187164, 0.34299008984289725, 0.22461284037102905, 0.15723724404900072, 0.3123096358144412, 0.29216014917340044, 0.13745748339787883, 0.062274772018478135, 0.12670151751293873, 0.1750754103977897, 0.29520728617472386, 0.5544709258490054, 0.13198970363583584, 0.024106375265859833, 0.24182591138571086, 0.0011198296638974166, 0.22009837073500194, 0.32212869262422705, 0.35565587674759136, 0.00573081751602405, 0.2476034178930896, 0.011728642148056185, 0.10646888753497187, 0.33968165213991597, 0.2895011193792362, 0.00236368201082213, 0.10524145530212216, 0.0048945054097266905, 0.2199782481838433, 0.0002923732265994683, 0.1787837602148108, 0.0201589752396103, 0.21309981389788626, 0.004746923652722519, 0.17300499656822252, 0.26188737644825394, 0.24937362935127036, 0.27117250795559544, 0.2828736311137236, 0.09785362367358941, 0.1966035732196493, 0.021249610868963487, 0.10929827827650002, 0.0004890914947381475, 0.17305765070363247, 0.0009499352612388398, 0.15985374622536036, 0.07440539568854547, 0.06920587358277289, 0.1684126382597767, 0.07827688560808838, 0.19097556098714835, 0.2012855969064073, 0.10152980652909474, 0.21719771216055336, 0.0048396472969741925, 0.08624089165130958, 4.834976489576093e-05, 0.1435233608933656, 0.298312747274858, 0.1448487253703587, 0.03947868409115462, 0.16822824974131037, 0.009733184465903877, 0.25696809458947056, 0.2552048082151386, 0.24698699096457274, 0.33103797918903555, 0.21243008916549322, 0.11360101078184925, 0.24536958989623406, 0.058156681292103135, 0.21497955697226667, 0.29399310140304025, 0.18367243907943542, 0.069013328476629, 0.08870826547878252, 0.00346689020256414, 0.37654104844021274, 0.5448362226685607, 0.163449567732294, 0.08038966297676454, 0.16902412421806579, 0.038197150172969624, 0.3563168526328788, 0.15482460133650788, 0.1929710160836883, 0.056192357249930255, 0.0967150440522812, 0.06225460800210303, 0.06310474612515354, 0.007345509314320977, 0.16254401514101366, 0.5447370675306047, 0.15183141252002386, 0.06393748910763386, 0.041482169180348846, 0.0022423675597045595, 0.16182437284118423, 0.2719304957463784, 0.20832246864811083, 0.29249509598247414, 0.17936341819726564, 0.2500029913158481, 0.16900873249544257, 0.3914709644278731, 0.2390832155585921, 0.40355669272633893, 0.160073824015922, 0.17511544799692594, 0.21153536892437275, 0.06379197381363426, 0.16841396171007533, 0.0018002966947001469, 0.21235899615851528, 0.3323518921377994, 0.23883528712594143, 0.05687019712597622, 0.15401760925058963, 0.09684593167868955, 0.13807450947020874, 0.033397754017216424, 0.16726417493437726, 2.1650192922217926e-05, 0.07384512712553862, 0.04841890500805827, 0.025454595359339784, 0.08585933941925429, 0.1135225554235747, 0.10628130843957787, 0.26275587835622044, 0.0006537948587916157, 0.16129668955827048, 0.25288388906865816, 0.17894546508829917, 0.06604319679435378, 0.1077638867616891, 0.2550561053509495, 0.15721953766576202, 0.6513996556507702, 0.38515752850182383, 0.2520786953452898, 0.1683390658085817, 0.11497057066174239, 0.19861143883309065, 0.0025533762734539778, 0.10240019189715897, 0.0006591482212554567, 0.18156505152673616, 0.09630570604340427, 0.09260746582656622, 1.9087502306724957e-05, 0.09241511988305819, 0.35035116078901235, 0.3009809512764015, 0.11767698021134897, 0.2109774190893745, 0.1383614070456613, 0.2491830592705004, 0.014778324347336502, 0.10663168562171697, 0.029941644569878096, 0.10522900334165407, 0.04985148269541452, 0.1457900827647034, 0.283193170156992, 0.2729974105195392, 0.029436543532903592, 0.0836869898458156, 0.0019287974913219468, 0.04769923610389432, 0.013636056262839702, 0.3021332116788234, 0.010713421799534575, 0.15583797105440353, 0.028240095593023436, 0.13471616075695397, 0.00032035739189933965, 0.14982037606029053, 0.2224007868466534, 0.30378262021317726, 0.052313838762865376, 0.1779984598003073, 0.05156513751170554, 0.1339891473079406, 0.10408483067690022, 0.11618087397199632, 0.09860039923464615, 0.45467120208208406, 0.0005422144087683378, 0.25146652624849475, 0.081068215374567, 0.24829056535066849, 0.0007650379434335061, 0.16623274737697982, 7.469136909943331e-06, 0.06518856900557998, 0.2923413946832512, 0.15899409933549122, 0.17629939662545907, 0.2676580533114991, 0.45350699825734136, 0.19343260127075435, 0.025373412233572406, 0.08275825701777856, 0.21416614202991724, 0.1741901942091882, 0.13525077937287922, 0.17790462000150334, 0.0274447919987324, 0.21906531182993697, 0.2238115696253923, 0.16105630517900657, 0.3671361065889869, 0.20510726468990187, 0.0006398898819465362, 0.2970916407857726, 0.3127101643318873, 0.21048663941934934, 0.031581739682869446, 0.14086325285829676, 0.5025230517258024, 0.3059744292346019, 0.36096725123350853, 0.38363342265309314, 0.16542525405871208, 0.2115953220968809, 0.020747028003397006, 0.09164472746597212, 0.3804913600724831, 0.2425670152931392, 0.10533131461011028, 0.15619953313136234, 0.024388240067207596, 0.2067926086291592, 0.010659077329067814, 0.2783910757209077, 0.12632437753624495, 0.14617546928320996, 0.002615956324626012, 0.15803889568390014, 0.0005770092601812113, 0.222218750775089, 0.32718413738058755, 0.19355342388293123, 0.028951205137405744, 0.22568460180723685, 0.22240810824388807, 0.5579197566945469, 0.00023849523593197673, 0.1404119808640243, 0.02124609630045171, 0.26784370533868784, 0.06944691103906808, 0.13562998376860588, 1.5132768173886646e-05, 0.0795786235923009, 0.06584494508541638, 0.0842636065743014, 0.0004902906411036807, 0.23819531209504372, 0.268513177540498, 0.18794621615587445, 0.2301538464883285, 0.2998128245267309, 0.2236795088596308, 0.14637473694577813, 0.0013406336164081267, 0.20978315353105104, 0.06725639382159398, 0.01377335421933542, 0.2600320642152263, 0.24740735052991178, 0.000612765187336122, 0.12540728668051687, 0.3036049987039124, 0.12873082579907968, 0.04780285662242534, 0.322953360299182, 0.008567119083949137, 0.16600868288933138, 0.00825734981702096, 0.23220407953684238, 0.004682856635673716, 0.16876420593258523, 0.003914510774745139, 0.2447388333373629, 0.5985142857792786, 0.11062393274723357, 0.1937833720444123, 0.18932839519133166, 0.26793290211088894, 0.13986130233723296, 0.5413385938870002, 0.31738125313118903, 0.10067343763125791, 0.30279313075026126, 0.33748326266633405, 0.19791974376615015, 0.13390958780746587, 0.09117374716149301, 0.25800869528603076, 0.19406755130718364, 0.11492286265816129, 0.04268596093850288, 0.1304942689651316, 0.11231462857476153, 0.23131197933995887, 0.2454166562561113, 0.13732775407837444, 0.2864581064490261, 0.037650821859512816, 0.18419192109973312, 0.28965388303424305, 0.10135279205018671, 0.04437738627282468, 0.10607203412745024, 0.005687255629525086, 0.11222653158927959, 0.021621680675025345, 0.1706382440429868, 0.30438464483581235, 0.3470992881235517, 0.05421981837328834, 0.4716001980982366, 0.014766769454788366, 0.12733672613728192, 0.12854636654148088, 0.14292608027253148, 0.0004968390478740315, 0.20538279887608535, 0.21843636208666137, 0.13443451194616476, 0.2558583902589362, 0.11681601429442506, 0.06965260168362875, 0.204959199815355, 0.05447185256201811, 0.12928358464169126, 0.000518229849743553, 0.13243142723501258, 0.016503654841926618, 0.21848177620696174, 0.3893179374009453, 0.30656404862612624, 0.08543245399965195, 0.07047279385131588, 0.28054813187965727, 0.23908605487924015, 0.18520113266105565, 0.16648152272399927, 0.0022485521583095174, 0.22423418938496933, 0.0027785436235115116, 0.11656522422649775, 0.3120894229240321, 0.2933294753339362, 0.0525107417850188, 0.09968956442772295, 0.2844889061667762, 0.19304466594546738, 0.01664338041586027, 0.14922486035136234, 0.05466670502080108, 0.15466389376518586, 0.017815230263464377, 0.09965767150209151, 0.11325489053666209, 0.12045219961512627, 0.051725931842253776, 0.4928132415195222, 0.076356436933807, 0.19025640080024583, 0.004019536019115311, 0.3226924510289799, 0.025441271218830733, 0.1526055734797827, 0.3279042535968162, 0.22213345466896808, 0.05523166114267042, 0.2126067237109461, 0.017478919420545934, 0.18851690906940421, 0.40918532537788316, 0.23271348506372647, 0.07819680185114154, 0.12436294543522351, 0.038049767510101515, 0.2859553171554719, 0.445073704432686, 0.18170792699998242, 0.00018383123218157493, 0.12061632268492258, 0.2709012855073793, 0.2330955184838216, 0.23195933466299207, 0.3974175944333819, 0.3474444230560676, 0.18106621569654333, 0.43677461931321354, 0.3994911292734976, 0.05887663617337857, 0.14773966977835398, 0.21953206183818932, 0.18917448897381853, 0.013101106469230217, 0.10900984951612401, 0.21770297262596866, 0.1587565469263306, 0.10777589959828522, 0.12099829691325625, 0.3583970843830239, 0.2575850466799276, 0.265272209398006, 0.2821808097891503, 0.07928441644494724, 0.13636156292506682, 0.25252963650990523, 0.18329116804304482, 0.31064458206501205, 0.20030938186821506, 0.01811484944613378, 0.0749230275325789, 0.00011920706592219134, 0.10336255365624306, 0.11915356903304265, 0.18689816574395385, 0.5908145035306612, 0.3912666286125707, 0.09844863508579817, 0.08742954454371146, 0.31338376116303335, 0.16678956861293665, 0.033429130499765, 0.24136179693834484, 0.02055119799502701, 0.4154226641557772, 0.4072774923820693, 0.18338604284560694, 0.18589310659806416, 0.2252371911967737, 0.006804687614875109, 0.11241021923164086, 0.04022364076557297, 0.13271193664573744, 0.10059301368347917, 0.3025349201060732, 0.024524377097827326, 0.06784831657439995, 0.06212477554301442, 0.21345686519376755, 0.0007386403539711613, 0.30850596217634285, 0.2551759474466881, 0.28625496114793203, 0.2202055885922568, 0.18704722113708738, 0.0495510368034052, 0.2916712962088074, 0.030184514755123834, 0.20587416295647853, 0.0029554568855002313, 0.0796528379593177, 0.20942230011699317, 0.16757549484656656, 0.3750366886667888, 0.30650338637274377, 0.026167711038404335, 0.07164149870512601, 0.19147018693159204, 0.22888196146309986, 0.03406336027137513, 0.10364421716130205, 0.0829320108111616, 0.16723836811037307, 0.04450995463075088, 0.06878751813154411, 0.02312438858590527, 0.2949248333664906, 0.015717942989522272, 0.13017605851735903, 0.2807053672403015, 0.15881893799889896, 0.008282561552070078, 0.19473492953049246, 0.24616910095609157, 0.1403285897247565, 0.015804027004242015, 0.23716197154350518, 0.05856091682969122, 0.16042442648020563, 0.024690079322542146, 0.2537667206775999, 0.32234444030159753, 0.16235986340368871, 0.4110281268129786, 0.20522390845449742, 0.28482282770052075, 0.29022159503226863, 0.3825624639966918, 0.2563986350859233, 0.22677479429103187, 0.30786017417973477, 0.04389728805557544, 0.28010465181993693, 0.30461698938436005, 0.14623854935447939, 0.06422789012979742, 0.06200691441715507, 0.1833798890569568, 0.1614238155716119, 0.16928588557219917, 0.1739116379487181, 0.5437459384604815, 0.16538713033854494, 0.018038243567193746, 0.17881057086146154, 0.28521138156017184, 0.13165511651085302, 0.18288203366276293, 0.18108357679466755, 0.6472539210116506, 0.15691406777889963, 0.04415800567998929, 0.22149636073753445, 0.23648124694901895, 0.2398130161423315, 4.421971573671206e-05, 0.22924137546156062, 0.042986860426117345, 0.24140001207806047, 0.3080225262399293, 0.2368683808360341, 0.23675313684119104, 0.2399771409814837, 0.02610794701836596, 0.13798747838786735, 0.0038392851896078346, 0.25517971626807684, 0.15789610598232823, 0.2608143422278717, 0.043350837063306766, 0.21283294463890862, 0.0012593107183462848, 0.11297227615833536, 0.10587758031864983, 0.2239484242879473, 0.23352675190855746, 0.213337485204739, 0.0008434457039143695, 0.2147372157019088, 0.01149519708475708, 0.26684327858034684, 0.007222191996043471, 0.24334362941947504, 0.6249982036551248, 0.05388332584168999, 6.901845014795072e-05, 0.11906401538428128, 0.19086822895163014, 0.19016718718605197, 0.30294177886446544, 0.27506628013014167, 0.00038729639841261765, 0.20755140398471883, 0.0033337225598060625, 0.2551783885013686, 0.18397196937794164, 0.20570682803065832, 0.08197602104490598, 0.24223689837781548, 0.03458481144635231, 0.28444370104463224, 0.06322347108047009, 0.33298411959833546, 0.01037664127183291, 0.248259196849447, 0.3296419774546785, 0.185517685884391, 0.08394132557652938, 0.22039265226646143, 0.20605343919452127, 0.12279508606151934, 0.07563218826384545, 0.1140218457925682, 0.0012248517947983015, 0.29532887624787035, 0.040007152660089404, 0.08777526343847993, 0.11247047915232167, 0.1693148225013034, 0.012138944804987438, 0.10272415434413164, 1.1989797668874683e-05, 0.22083422327532878, 0.29663840244059175, 0.2530180080702026, 0.0072227962479208445, 0.11513694808428712, 0.13737718793605122, 0.19049232830886778, 0.1439691870133528, 0.13433386900476993, 0.004752267159775651, 0.21615631369356347, 0.0017103993560521503, 0.18178925450517647, 0.01213252521938557, 0.14382609316897454, 0.27756929484617565, 0.13570143835890028, 0.10901104281082219, 0.2839120342965988, 0.09205965000857017, 0.17496784308483412, 0.06381319973024802, 0.14231836745685703, 1.4575828107155075e-05, 0.14452815399682928, 0.0001545591249055178, 0.2822946429615576, 0.07217454994332582, 0.24181059984898773, 0.0009886985087372644, 0.05924303109350228, 0.027805553737489115, 0.22549864226980115, 0.0010551457793432917, 0.24212858071975116, 0.09756903105166058, 0.17309134478186103, 0.034901274776827286, 0.11006883127777624, 0.47465467992004357, 0.19408824827123494, 0.25754907715929676, 0.4387489852955923, 0.00043656195146866137, 0.1553348043184208, 0.014698382165671018, 0.17298432744687361, 0.3252918668791267, 0.3197068056788339, 0.26137175063304313, 0.31773470054323505, 0.026842030466273394, 0.1696951867766714, 0.2780118740886662, 0.4046955694254803, 0.04856076103567375, 0.30797676313267175, 0.009374298766557043, 0.1711943820533296, 0.07919844957622373, 0.1641379243939686, 0.0017059644240782848, 0.1052837910010757, 0.2299408564480623, 0.1390970931429599, 0.13213999332606427, 0.2552755762382151, 0.1493286005243835, 0.2101273660576446, 0.010686818520688186, 0.3131883454678222, 0.09238326032595978, 0.19340375557040354, 0.10146247252550751, 0.08022638655331255, 0.021839603618398762, 0.002914988876966244, 0.09972604275213927, 0.2841215199698028, 0.29197158038554155, 0.1633445260248409, 0.13877602162506467, 0.13675966314559712, 0.10598004840414355, 0.08387603740348963, 0.153491238122166, 0.11305076345300842, 0.6295666160110692, 0.32930021478439786, 0.0011755310664511853, 0.2615517850268299, 0.062100597429283276, 0.21151232989914642, 0.6403643301136456, 0.11519917323674772, 0.0026959923628358715, 0.2200101391785363, 0.06707916788768387, 0.02575815927475216, 0.2335654888874668, 0.1829532323640232, 0.6372171486843822, 0.09968761734844564, 0.07622489441595613, 0.10757296246085728, 0.41745076760448036, 0.10377088241319095, 0.005582406759913283, 0.16612774987734621, 0.35132689974081394, 0.14157096685927426, 0.30276747883514243, 0.15054810397312168, 0.03311910778058783, 0.10859262299749602, 0.09658937155351428, 0.14474156343332537, 0.1235206320375255, 0.15410119130674907, 0.21685042635140234, 0.26429402766143256, 0.27444767656996777, 0.1556725055318534, 0.1645793988771815, 0.13350435540288913, 0.16860909442161312, 0.15613580347825018, 0.11723408464762189, 0.2518523078298145, 0.11113370485621725, 0.25595644849694976, 0.5194267423905652, 0.4340003495985318, 0.16910348205738046, 0.2212514578157618, 0.0005187609925896039, 0.18552079293123694, 0.2552269345449689, 0.11638945027251488, 0.2374134050929868, 0.2189924326223349, 0.10651315121857298, 0.112072334732501, 0.49096087176318787, 0.2221492393524058, 0.0022285680949262476, 0.1212954205135792, 0.020179480853000795, 0.1533252640811491, 0.0003487542468292304, 0.07349181224088538, 0.09190474098111806, 0.12981227544611784, 0.018126196269930814, 0.1680851591471605, 0.0370731899706828, 0.2432968406056781, 0.0649362500571337, 0.1032280596836107, 0.030295206564194207, 0.006826436845591715, 0.180136843100148, 0.17198566664642034, 0.23400292997025632, 0.22087295993112555, 0.014029248272500894, 0.0718244788183498, 0.09973711219176948, 0.2877716567945208, 0.12545556695849056, 0.2087698016834999, 0.15706472998577514, 0.07066550083924854, 0.3117957228167562, 0.20765320536281276, 0.0643430811947077, 0.25199801138725325, 0.053074026109695915, 0.19351301523827255, 0.2722629897843163, 0.21628792945184105, 0.23179708648933886, 0.11279286288854937, 0.02975427225729845, 0.0907098166234906, 0.09501347782580233, 0.1157850223246288, 0.1290222074343136, 0.23840279903921946, 0.05037191347569539, 0.11664587065161969, 0.0013905908277333115, 0.08927848525568038, 0.6971292884042088, 0.24811495948037685, 0.09568958759814146, 0.07734360888082431, 0.02685446430551843, 0.24591401553011497, 0.34263052222605483, 0.2502302641798748, 0.2976753853244369, 0.3453417450064699, 0.4319596473225536, 0.10077199808393003, 0.11628902738529577, 0.2514990168012436, 0.047032934064725605, 0.22053772847278244, 0.1691629661895491, 0.23285882149453124, 0.41669782454844606, 0.3501999982425292, 0.24363844161389636, 0.22422610232227141, 0.004437845015672792, 0.051783033404831424, 0.0009500802918726792, 0.15367529592366524, 0.002759580039829679, 0.1457920880136981, 0.08576924512130467, 0.07837758720764516, 0.0027532448772547014, 0.10664981340515721, 0.3299464522462377, 0.18738876274865945, 0.2674511939369676, 0.1165492550204796, 0.012085349579693499, 0.18618014172547653, 0.039337371014911776, 0.2175532455890675, 0.0014693396378057904, 0.23697161466189368, 0.1330940854862766, 0.17428104832933597, 0.33250447769059244, 0.1453421183092239, 0.05513676199647932, 0.3507920147363779, 0.004676247719528348, 0.13589063333592533, 0.039715141909358535, 0.19194672654303563, 0.23747339758678593, 0.19918807479126446, 0.055658177885675286, 0.10818571731943886, 8.932993225396757e-05, 0.14742417710494415, 0.3144377568608282, 0.1816323096678042, 0.002061387332923914, 0.07047683251816717, 0.3790603154562739, 0.25885592278163566, 0.07806355601438998, 0.29003842803460544, 0.00254694374563987, 0.2571561596666296, 0.4127702915286289, 0.1152336556035733, 0.00034599710446317743, 0.16444756439050165, 0.11514703334270848, 0.0939258994275069, 0.04814058057932016, 0.18491309094145386, 0.0023204069950745906, 0.08383409197605472, 0.0640752606920401, 0.18951887274042523, 0.015240886266080148, 0.1842571534612666, 0.0020325307654957213, 0.0872530187493374, 0.00010096572291296013, 0.13688925732067295, 0.0030830977215074995, 0.0418503074592557, 0.6825800789691101, 0.1246637134673949, 1.3948240811600953e-05, 0.23102396252156787, 0.10491121066916113, 0.19676418574145563, 3.7384279146173644e-05, 0.12372481708396141, 0.3088463011099283, 0.15709595330110782, 0.3003663763733755, 0.1822447587997028, 0.37883224217585515, 0.2703731507154554, 1.5019365628887726e-05, 0.16026554778078939, 0.010683240046849582, 0.06111050336169132, 0.2514288985590081, 0.19754877776661353, 0.02827635038533445, 0.07535230733788852, 9.463927686681472e-06, 0.13088662523339595, 0.0017065886349842327, 0.1465804972399086, 0.0026839606949953586, 0.2662887894129064, 0.01205541906210783, 0.1084421366999864, 0.00442727386840569, 0.2716649102317166, 0.1277234815807089, 0.141413139678077, 0.12120251466798379, 0.14440136835076503, 0.5896874080281123, 0.5712455699913959, 0.08650330969054683, 0.3897751807499853, 0.007602702733718747, 0.13132628828651396, 0.010614688161876199, 0.10482752415343458, 0.10800777514237873, 0.16772647321281264, 0.13373449284417394, 0.20086512190909447, 0.21764579835510056, 0.1686397225376839, 0.20764102009048885, 0.06826133883586694, 0.460316560276023, 0.19327603410158303, 0.12365791488686798, 0.25359571546131937, 0.22876188999926303, 0.29822324438289044, 0.14517072949074644, 0.10399541035612452, 0.07302621738179482, 0.1849950818834678, 0.008776556495264062, 0.21943683251323295, 0.00012149307895744008, 0.0999744763157052, 0.004940657427580517, 0.12536919210043054, 0.17383651222285773, 0.10246445374524718, 0.005598534456573311, 0.20899126280856173, 0.07761978426023591, 0.24113556842498607, 0.10858609243910118, 0.15440121125253653, 0.0071416632808227005, 0.1356531299656361, 0.19559840609159299, 0.45948421090605357, 0.6219895333767339, 0.1577848942956547, 0.09981457088768764, 0.21780661475298582, 0.00031281681383317494, 0.09938257221053014, 0.2550931892654944, 0.11114454322450247, 0.05584048172897939, 0.1286471988618207, 0.11803189026155063, 0.3089237082283162, 0.36922463534884914, 0.380077706329449, 0.48325213655194743, 0.318865484008307, 0.1636586042874719, 0.15804000807534802, 0.009977760599767072, 0.12532998453206529, 0.1278641792987698, 0.2165215648541443, 0.024517762833056622, 0.19208649647797385, 0.35146508615432975, 0.24090095188150945, 0.004608696507270693, 0.2565282082103087, 0.051926774292225183, 0.22962739053611156, 0.019077542344068485, 0.12947642562776582, 0.028667168489557134, 0.2656126683867456, 0.6155030400611474, 0.1828584060415404, 0.021747364005982917, 0.2411459416558554, 0.15293244399763228, 0.1255281638379735, 0.4181321013954431, 0.22285989764199945, 0.40717477009898095, 0.2920775631558021, 0.002498322438418743, 0.19767329357383068, 0.08868647182731593, 0.18787009918314462, 0.09783666735024275, 0.1510024694123777, 0.39502740989360063, 0.21822752107994411, 0.004153346789034314, 0.23886108891001748, 0.3285842658315726, 0.32374503437058977, 0.08863044542070006, 0.11493896513306505, 0.4035005812249306, 0.1998456287856346, 0.002457750456747882, 0.13077730515756095, 0.3224799836967155, 0.2386004886198075, 0.01188587556355612, 0.3106609593451043, 0.028194037648837086, 0.08315940295861013, 0.0011212827908405134, 0.24411715396714576, 0.0005828374364573412, 0.11819254968402246, 0.026080193795882157, 0.4175965942557229, 0.12768383876032027, 0.0730426524207652, 0.11430508501130135, 0.17352887195623667, 0.23543221269937492, 0.20469283163587934, 0.023177260741043593, 0.11377312858262348, 0.024357825185979384, 0.28207644280155636, 0.6376978653334476, 0.21042327353482784, 0.6699421240888936, 0.21627114907356357, 0.0006762415147629023, 0.19813885273062135, 0.02808023147614828, 0.13217040869828622, 0.4501100716135827, 0.3632999350038773, 0.015148085683283451, 0.24749951436847367, 0.18135291690881677, 0.09051365920728893, 0.010676122531119159, 0.2540247140738322, 0.3030881604834606, 0.15243452345924594, 0.028492370728652662, 0.25377117875855587, 0.0003181487764619208, 0.11042830946688717, 0.1516059765036297, 0.2760045498363784, 0.11386830353196944, 0.3014790150225862, 0.37290719017679086, 0.09813651377048284, 0.4151683585347807, 0.239656734616042, 0.00026629737483811294, 0.07027588905043886, 0.17810663085746797, 0.18486302397490917, 0.05529257688976941, 0.18771150980900433, 0.040150126681394976, 0.14826706351007216, 0.00020805064723781186, 0.25473431749501124, 0.0004859063132911956, 0.19601052870095792, 0.37574859264520083, 0.12268325854722167, 0.46739564951254403, 0.17571637454427272, 0.01348828493530115, 0.29547905928131557, 0.07943715124474693, 0.25540207620422856, 0.0005861559760114895, 0.19934155237506182, 0.30787165033098063, 0.339284589884901, 0.1619348774977709, 0.11902780413235475, 0.00024315520367963473, 0.22581454682795665, 0.08429429472398907, 0.1282048951855567, 0.001097065171156449, 0.224299032157988, 0.00012333485048949506, 0.29139219170517205, 0.02115291288152678, 0.180656342946927, 0.025549493680131263, 0.23084454448202282, 0.3050391834561669, 0.2009024612648973, 0.007180108772581661, 0.12801936009969225, 0.027114745089420467, 0.0780979636011246, 0.11018912362643007, 0.24622391307338767, 0.01715187585243842, 0.15827963792536082, 0.012422756315531969, 0.1303909928727938, 0.013913974046074275, 0.15598130587804815, 0.06327073721802053, 0.23733172707480052, 0.2726760131737157, 0.16464873789198956, 0.010403551283709511, 0.12094837500532424, 0.014207456674065434, 0.1406009583330731, 0.24963283267166503, 0.26803992429751944, 0.00023224080562158633, 0.2325185411053118, 0.30678011086638435, 0.10932793011415697, 0.010296708295441836, 0.2779706210463416, 0.22673542540645855, 0.18229991130307266, 0.31782081915698274, 0.26336403846580464, 0.27236652546126633, 0.27458157704338526, 0.644128557852843, 0.19833334307094744, 0.06063772567678901, 0.2501791217072321, 0.3645968069671085, 0.1824618389864149, 0.0034525987122025173, 0.18990138588667946, 0.22595742792200327, 0.24774409537779857, 0.21123302299072827, 0.24939132296575053, 0.20952615533495114, 0.24968015858828657, 0.24467165339156055, 0.29458379912768046, 0.705314680541149, 0.05918089114613055, 0.13300590419290761, 0.10871687346858765, 0.1342710429245102, 0.1938471709674044, 0.02925461907520912, 0.26896903756352564, 0.0014559642547725985, 0.1105658669560784, 0.10525853131540437, 0.20091792468977993, 0.18099080363819908, 0.1858505378620899, 0.14584649582389236, 0.21641215900747493, 0.31392831492784506, 0.23646518563411498, 0.3420636741871078, 0.21093158329682432, 0.001939763623295221, 0.16812773193450598, 0.054069832886093544, 0.13088785958787716, 0.07802138590871, 0.34076086598386474, 0.086909455518105, 0.06763930958825093, 0.08882302585880097, 0.14801151843109206, 0.280322222245076, 0.28642996298454465, 0.011334050445481938, 0.11175872752763638, 0.009849883084672249, 0.15229163416501754, 0.036892426198027316, 0.2544041041707289, 0.10584788008134183, 0.21072326283795634, 0.04178361451670298, 0.23767618860164752, 0.028070046325410658, 0.04649403207634862, 0.010811760104502355, 0.12475042668881416, 0.005559575329460894, 0.07155477604242307, 0.006155804474293328, 0.10586941071776944, 0.0043715261784029735, 0.22897637845928803, 0.05920667594768424, 0.17992451315216484, 0.30434416779486845, 0.3198515106130464, 0.23846176742044162, 0.20727561316344603, 0.11839691273397221, 0.15182300927227768, 0.20743695907730675, 0.1751655716160827, 0.1171902577393386, 0.12800491233591282, 0.1343252656479308, 0.14892871624092713, 0.028695600845304783, 0.2103700982316381, 0.12365306078217228, 0.19451458899567073, 0.00036444673146807105, 0.18076222263005473, 0.6769138487146854, 0.11058097673747813, 0.042208719261669685, 0.0852848536044834, 0.21128905096934242, 0.3256483852839708, 0.0008509470084163695, 0.2396287649510896, 0.083507346529101, 0.263029788153005, 0.021622072195759148, 0.11823246354262835, 0.23846424922048753, 0.09281270555564822, 0.091005240536435, 0.05386413112184368, 0.20877349183746047, 0.2289754744784978, 0.015333773204138312, 0.15359602337050707, 0.0103725144039767, 0.29670405703635583, 0.29673435134728265, 0.21913501774525673, 0.002518562729022733, 0.13563685875247325, 0.01009695861149007, 0.12231397961844638, 0.12439286124989302, 0.24318797264231343, 0.3138848850694764, 0.21526472350435677, 0.103294361270855, 0.13461089348507418, 0.11330347484586885, 0.22718028171275212, 0.09056616904987873, 0.1955250722289276, 0.0034995360241012463, 0.2058181185055974, 0.2005145016867956, 0.17135723067553216, 0.00550172837545541, 0.172105884542055, 0.04790452351449108, 0.18061991889537723, 0.007775144293966398, 0.4170821613697191, 0.2671169537073378, 0.2713221596269614, 0.2506364350348728, 0.1350754137350019, 0.009550586178142037, 0.14004509016084488, 0.13608371308490064, 0.2378642339528702, 0.39801009209745336, 0.1851077212366718, 0.25212355725072955, 0.27672928884687065, 0.073963701978178, 0.12635514817923538, 0.004871304576158764, 0.2800280328092254, 0.16792194394622958, 0.08858070690426499, 0.12416058455555143, 0.14425317597499576, 0.18622721809240056, 0.2480791004809336, 0.020238500005778884, 0.1972799438768752, 0.03839369812116134, 0.3055499410809862, 0.00018399651483491652, 0.23401378906912634, 0.07536216101531065, 0.11181642985105941, 0.008415933317317159, 0.3698799344404598, 0.0003194906219237126, 0.2317581424523504, 0.015403167732229665, 0.22033333860994136, 0.0004632240705809328, 0.15191021308558317, 0.05886501943251056, 0.27398668818828753, 0.003670037735061599, 0.2599280622740305, 0.003504241928163133, 0.3547392238454399, 0.009370877305208034, 0.14656989380802302, 0.023012078653813724, 0.2689222268920197, 0.182494476732493, 0.2179392086242236, 1.7824917610672248e-05, 0.1123662794537958, 0.04978208431633943, 0.3382472625826566, 0.009092908438409117, 0.19248680032201954, 0.00432888947736032, 0.12191381041651894, 0.00025163049582488384, 0.060216737354849226, 0.2802124896225551, 0.12966577865927062, 0.05987344364754281, 0.4955921933567476, 0.0009678861079120971, 0.0073122085808191226, 0.0004948163352259548, 0.20033462135578695, 0.011545199853348247, 0.10277164628831516, 0.033738878353312414, 0.23975410572473901, 0.3540663310563635, 0.1997580939278522, 0.024121109035149857, 0.28304329769573044, 0.35500945233898307, 0.17159733922078485, 0.07134005168523434, 0.09183326191592679, 0.07413828796726633, 0.14123675354178175, 0.0026848067983453183, 0.05244361570442775, 0.34097294723008936, 0.18281367980846047, 0.0039118919825261245, 0.18256235457772, 0.13097451421854203, 0.378927160240125, 0.02764725233019918, 0.14582703487108764, 0.012673910915863316, 0.18226000189560118, 0.04849138171673737, 0.11120317776130552, 0.3098720466724032, 0.202571867867063, 0.0018898853771795693, 0.2566494444613957, 0.127151696626293, 0.20360650368366923, 0.18284341666826395, 0.14385330460475138, 0.1868679352304422, 0.07355884040237583, 0.028753156336132336, 0.16654972040815458, 0.04122084257779887, 0.23669633045307076, 0.010187475627731146, 0.07502171421150812, 0.04540331504722417, 0.08354805994750698, 0.10234687193880948, 0.21563484953399947, 0.3427066134793534, 0.17010513131294802, 0.35031263067268675, 0.18267521393041336, 0.004081740126119241, 0.24950048269252817, 0.11213662139146642, 0.206032113841443, 0.1105027825311038, 0.22414331592729392, 0.012347160235819304, 0.21755074038225208, 0.19006524661381263, 0.1347524209217059, 0.0195349804651818, 0.11534266945324587, 0.02899047077812611, 0.16732468941362344, 0.06687246652556667, 0.1795323069625643, 0.34237181052612153, 0.3147069491550408, 0.17787738830528846, 0.22523150406191036, 0.05924678953306284, 0.09802946116531983, 0.16910766461316187, 0.06903307184221939, 0.1394642291076837, 0.12497892371853478, 0.24666212508102844, 0.14622867971503503, 0.028384628028870842, 0.24976024694397314, 0.1258319982353831, 0.19032746737000172, 0.05998802214071475, 0.18674018886911767, 0.212363808875566, 0.06512796490034134, 0.011183889625532118, 0.22515909028658745, 0.09370457165174646, 0.29161662717660675, 0.13092877031302813, 0.16734625203732736, 0.23478801139215785, 0.14535394888219647, 0.21467212280193357, 0.27220179357406593, 0.06724336351977793, 0.1951249571870199, 0.0003354666386749096, 0.1638011462272321, 0.04713134175821195, 0.1873053614361037, 0.08344175216924751, 0.11840199499114694, 8.859439114323094e-05, 0.34838164520393555, 0.003835312326397603, 0.16564300792578104, 0.3474099157698068, 0.17011393171670974, 0.2395371616782126, 0.18770804507267622, 0.14958781723649983, 0.1690281215066828, 0.0030721527133816076, 0.1935526278046319, 0.2602601161830294, 0.1556953458191591, 0.4090167413811848, 0.26363316547005816, 0.10028139488859177, 0.1694994049546998, 0.032345165156357325, 0.20162062068121647, 0.08365803475327059, 0.32338885469070555, 0.14480302533411304, 0.46588493859551816, 0.0051381673324613075, 0.10226951909704085, 7.697923180153646e-06, 0.06869480299156194, 8.761779739074882e-05, 0.1688043308741115, 0.001151971471634773, 0.16919048068978504, 0.0010011717185519384, 0.22905553772348095, 0.09751507219218639, 0.3225322748961947, 0.03278388877213464, 0.06744775302832075, 0.005047679657036497, 0.19563665758264048, 0.029796067770283634, 0.4226186560627361, 0.0007036030422991335, 0.11925559044018388, 0.2564031746512896, 0.27464142956090526, 0.025889338422379636, 0.2831199627596801, 0.03254585423978339, 0.2863890542773528, 0.10154755822429036, 0.19622544831899813, 0.5666630136350589, 0.18738131726203952, 0.2768025603223908, 0.21927305051578339, 0.13385308690097494, 0.16811814594582478, 0.00015107050492263463, 0.12565295711585076, 0.12291157481263326, 0.010118195216015617, 0.010051306530409088, 0.10237572965505592, 0.003152772070507126, 0.12652344169227486, 0.0004914049326779413, 0.18365408577023545, 0.29496719568904456, 0.2354015960122448, 0.09354152244233688, 0.20136889357728796, 0.2433160350927175, 0.15659742302499885, 0.0908478034100751, 0.16151553637773783, 0.33557855745334564, 0.26198619359534164, 0.30103716766593563, 0.19274179083756018, 0.0010197545563836268, 0.08953425316393882, 0.34926163444816216, 0.36908278646667186, 0.19825300130470205, 0.20621987908630088, 0.00046113694888916257, 0.14524697680969628, 0.15500280129626845, 0.054616035570805604, 0.004519273654580047, 0.23074314537275256, 0.2091206019681529, 0.11832291650684189, 0.07730412211114154, 0.09759898213626313, 0.015045271847539383, 0.24120016767585906, 0.5246600082917008, 0.22304989304979417, 0.4098102392062147, 0.23475512184687714, 0.21976184072476784, 0.13931735667922696, 0.22422926701743304, 0.16897947865479007, 0.4498729043741818, 0.15553447168341433, 0.08810506070656092, 0.2556455883574254, 0.0948033884830941, 0.18946395034522243, 0.2634897499550206, 0.23456628331897308, 0.07403432189126961, 0.3769635307136923, 0.006809208259505506, 0.1331542835204311, 0.4103178229722104, 0.22740756833256, 4.1908891576329195e-06, 0.13290452799211516, 0.04712376391686727, 0.192924999241653, 0.011002010899659354, 0.251992955111961, 0.3515454414082342, 0.4038235877967371, 0.0020936491273952284, 0.07810307600068922, 0.10231508981755472, 0.09643361602048989, 0.4046267621954534, 0.22164496262158473, 0.1017749117625713, 0.20873232610031647, 0.12981080333876044, 0.33054902175419126, 0.12250148486685562, 0.2644977016949139, 0.024950722127499603, 0.05759399628435167, 0.017159022785177315, 0.26400462100686295, 0.2343137997046207, 0.20286916809090627, 0.0004990684701754825, 0.18141809031422254, 0.019419143965649255, 0.2010236396814352, 0.2061456481839538, 0.22437325564974012, 0.27185853839997853, 0.09360425458261813, 0.009029527704296925, 0.14072855438630458, 1.533859153823869e-05, 0.22997193931891502, 0.19969020237542795, 0.28677674032371653, 0.3000560341924938, 0.18745252369316068, 0.049294004981805174, 0.3511812057632784, 0.08539379406774021, 0.2525548716394735, 0.13228497089342758, 0.16636897935461822, 0.3403269459606261, 0.3309363982053251, 0.17711027123424664, 0.18855657022596284, 0.0017590793630549509, 0.18994469071743567, 0.1360097549902548, 0.2508519186115079, 0.11736545960854605, 0.06761831292674732, 0.19340369919574862, 0.2730700561606855, 0.14245010988701248, 0.22037022206751647, 0.48394280952556956, 0.20619641582856607, 0.20804117585450715, 0.2074763031376628, 0.06683338512578173, 0.15614829341920788, 0.3269164065133253, 0.19221105733525062, 0.10391733636143792, 0.12484863820058763, 0.17266243858296296, 0.2686735710951093, 0.2116407431285383, 0.27583753074147355, 0.1146694071695882, 0.261505789445352, 0.1725154804353224, 0.11269495761141318, 0.08541494975471245, 0.22478830136264782, 0.4778856337063156, 0.29879725205122043, 0.00022015206546899951, 0.283967260447016, 0.14666042368723234, 0.28682850803812976, 0.0559397153891041, 0.07771037981377486, 0.04963714319019345, 0.08544857388826911, 0.17298727855050894, 0.2322278201637904, 0.008453156040629572, 0.23161207478868995, 0.032885198396728856, 0.09613693770044003, 0.04096010793997656, 0.090665051087537, 0.0542256784712865, 0.2382185846098712, 0.027693558000920725, 0.0791658844039025, 0.00021265453150931535, 0.15729620017466797, 0.10377139148392069, 0.15637719748106532, 0.15232493306105252, 0.3715625918226324, 0.3598107359879499, 0.15289932714542398, 0.10813275415425068, 0.08643803879257857, 0.00425337092351118, 0.16832291627149462, 0.08080767756556917, 0.11729344383986391, 0.10658122815665491, 0.3815979408538135, 0.10861458779482794, 0.06254866388241705, 0.028032246294197538, 0.1340198369759205, 0.00436772632009994, 0.11422744329758155, 0.0002194396027334733, 0.10393308664529598, 0.0005522606007157075, 0.16943911956622518, 0.04292409557821841, 0.15231598153073816, 0.2241853245457983, 0.13059638956063652, 0.05922122577406625, 0.17276689843449647, 0.39737869700160217, 0.09346688545634786, 1.7899255189135488e-08, 0.05216247645127462, 0.1740351150045563, 0.15712244301175224, 0.010270907868399388, 0.26187115885594586, 0.00015218812471573528, 0.17059611416779738, 0.005369983848495963, 0.18035862851057594, 0.003888200522547436, 0.13835080116391135, 0.13488671449172215, 0.1263279803250062, 0.0002446527889810035, 0.23112460492199122, 0.2367107758398186, 0.11101317411832139, 0.2441120584339124, 0.27182636798074955, 0.29902220355945464, 0.1264104357002407, 0.030722508351267733, 0.3020126726249684, 0.0037294554043910467, 0.11490284050413793, 0.4255792887951046, 0.14960631983630157, 0.00012269669699721772, 0.14697527092420384, 0.0375020454602596, 0.16585954662669514, 0.15363971944742474, 0.1379288552864945, 0.0005421133726451662, 0.18125631774106185, 0.09985922772474964, 0.16468147546804549, 0.10743279800418648, 0.29380221465048134, 0.0008706909505065141, 0.22554129464039868, 0.13514828225451805, 0.266491578860758, 0.00986649248517324, 0.17750470490539208, 0.002836860021539501, 0.23314220205126526, 0.13294486372422795, 0.22620249603446516, 0.08163426418847082, 0.011658358932042034, 0.008058618470900293, 0.20879367527847195, 0.12814030692018977, 0.34453727232435316, 0.2636819271710879, 0.3472715485817167, 0.4440223630057223, 0.18484363463858472, 0.004934692755279519, 0.33746889435469657, 0.010388099401201212, 0.2057549897686457, 0.501574569206241, 0.21387593943252847, 0.009149317958160668, 0.0966294094829949, 0.013167523629667633, 0.20270249985220412, 0.03423652267206813, 0.13324810792150507, 0.05217869134340121, 0.2766103261000694, 0.07999175829545493, 0.13182638997272056, 0.19306357252410494, 0.23244868933432025, 0.1782292748001737, 0.21487086440318914, 7.173221746725744e-05, 0.14545013626283643, 0.17256402950956726, 0.17368149931413818, 0.3048733155453935, 0.39020435444049034, 0.496750188528444, 0.14576669897586547, 0.00014587889218564687, 0.09987031797914227, 0.0015309573326267368, 0.10791268861073536, 0.36869627077611283, 0.18676992396740558, 0.2515891535567582, 0.17750782252106803, 0.004179968757625829, 0.1449432084267998, 0.27868499669117835, 0.042323006642241236, 0.007678332389203272, 0.19187713113990132, 0.05094805732248157, 0.15267937959229214, 0.09377599279130461, 0.2812520332859233, 0.30755669661937546, 0.3123211010290343, 0.005908268839200239, 0.2637939603617489, 0.060440906957738766, 0.1999541670486858, 0.01379359516270758, 0.2259494909631439, 0.1592162295714843, 0.193182956638427, 0.011288060432310554, 0.26157394305748516, 0.597016026568533, 0.19236182035089702, 0.00043909433316002833, 0.21696817476730992, 0.23832771879243397, 0.2407871041202359, 0.120492422996886, 0.13588011898198535, 0.012784308358804865, 0.14721399835579577, 0.046277772403822075, 0.23301514939383786, 0.31162857692596746, 0.14799924349761975, 0.006823263557426497, 0.2210810204494054, 0.05176380813773758, 0.08976907755484673, 0.006737913532459474, 0.21476821415301822, 0.4097548336413555, 0.28305567091042577, 0.07741466108648762, 0.14306876555085596, 0.000774895383022762, 0.06440606136213135, 0.16176326186897919, 0.25104178996004944, 0.0980008397699366, 0.06953764699429543, 0.1201149565171039, 0.3438582110403199, 0.02060705097750112, 0.03868965047588458, 0.008047327828014872, 0.297253153978032, 5.737293154117751e-06, 0.1983586853272676, 0.253195894956071, 0.17306448669031865, 0.0005721566168773506, 0.18095303779863128, 0.00018306198707165663, 0.1230541976891898, 0.08620690994544121, 0.37731822763149514, 0.0006265868587615464, 0.16197595208092336, 0.013170311264548928, 0.09219172510446182, 0.02143152809653007, 0.09170613022004943, 0.09152008673790644, 0.245271230634188, 0.01192942089932103, 0.142687593530896, 0.038122581468707555, 0.21048077856630476, 0.003864153562236033, 0.1535734544892253, 0.3598425701625994, 0.2312381048469984, 0.35136865733032135, 0.13583236602966434, 0.0002287988908922974, 0.2932316265364458, 0.018663212557764937, 0.2607905432739875, 0.32864228663846257, 0.12511143583319456, 0.0002451302985472618, 0.1434153596841313, 0.00213001845634943, 0.10489855462488254, 0.04582057968797126, 0.19181812906761475, 0.4325299350025689, 0.2127573177473503, 0.34812247867024965, 0.25465979879272255, 0.16329121262212234, 0.23334641453013774, 0.35352186603791963, 0.28497869613032184, 0.04294299787034106, 0.1470750189434915, 0.14845660343560388, 0.32477803745926564, 0.037174251559290404, 0.12899019495219477, 0.1798686426784777, 0.36848131160893055, 0.07799510147919346, 0.16034829476670165, 0.1167216721230075, 0.16911981141732177, 0.4006337523272556, 0.13214772421803234, 0.383500399918857, 0.2616016446713161, 0.24001335143642524, 0.15015231954257494, 0.03823632794826283, 0.13764987346198154, 0.018586457752614177, 0.37271827830542814, 0.1017526770963002, 0.14949898261114547, 0.15451072566806293, 0.2710473594261771, 0.00038866523744402707, 0.27446084299551954, 0.011687802098209537, 0.2740221062464301, 0.13550986593903266, 0.16974689496533543, 0.5008563178176502, 0.2971465064252668, 0.02000426928541336, 0.10290242584238335, 0.3367583595466182, 0.2313912452374109, 0.010507688114766645, 0.11839736715614105, 0.03602100051799084, 0.0731875005482352, 0.0033689110949075562, 0.13206236889976064, 0.004130275980583876, 0.11378331425179375, 0.05605503072791563, 0.30099259678132106, 0.023653813916376346, 0.15363794565061226, 0.20763707956141766, 0.14621545275768832, 0.017622378442575373, 0.14322993288029942, 0.07076770537958055, 0.3191465176909883, 0.0006982785061495633, 0.22098734642508716, 0.023077755958547642, 0.1689969675729334, 0.006159815922335225, 0.14960701518173813, 0.1676365454959001, 0.1170295136164283, 0.02708949945425878, 0.07865482514632209, 0.35592456409743595, 0.18451339534280237, 0.17688872196703703, 0.2771770449465993, 0.04072544472316305, 0.18854969910061364, 0.06747697245561124, 0.13757507458061569, 0.0528842260028968, 0.2154904622421469, 0.014073086592828096, 0.29163097004125027, 0.03381941873175833, 0.10142613996772967, 0.36723469413379917, 0.1313217507702017, 0.12823738738617863, 0.1930489907977792, 0.028114751774260816, 0.16870889391249003, 0.012575696516742162, 0.19842026535677595, 0.12191321717510056, 0.15197425858319688, 0.0010293665878854227, 0.2028072652942086, 0.38954947850065785, 0.23410961433243602, 0.21499713478328225, 0.09456204913911787, 0.1111606664078519, 0.2244115044466973, 0.3081108059321615, 0.12872362194575665, 0.4011017837967851, 0.2728506574443116, 0.0001178111558033379, 0.1949886002907258, 0.16825509024793442, 0.1758800913202942, 0.10942403255223176, 0.14322544004555318, 0.3212625448087877, 0.16359183154431234, 0.012580053302622218, 0.11979097122422205, 0.46366731601525457, 0.200972904742436, 0.005337683298535335, 0.22746301288072526, 0.2332933511022597, 0.10411979291280758, 0.6733892925849561, 0.22184186876209816, 0.364287103291195, 0.13328045466203758, 0.027241636224454524, 0.1427252752734627, 0.1643434635536778, 0.4612588034206301, 0.001301912904206115, 0.1680755386469044, 0.06279597842357079, 0.2199719927515486, 0.054368569270252375, 0.2495118224339315, 0.2835897140634123, 0.17456565028255636, 0.4288236443920444, 0.1057435040132043, 0.0003378352625239397, 0.28061668998003503, 0.14530760116151625, 0.35318221516365783, 0.28378288706901955, 0.23068099530441963, 0.10702023482672084, 0.1873937610785074, 0.27713339969568707, 0.21865269113559058, 0.0016233451608782534, 0.26720641386566996, 0.035640741762997585, 0.2272639775358525, 0.16271921136703896, 0.15974118657277875, 0.005603454894154274, 0.20283826861791762, 0.3040113207740494, 0.21243488159782756, 0.10978825647762278, 0.11693979928536125, 0.031037945681772625, 0.10436789892442733, 0.5603938696059046, 0.4206382738182473, 0.10295388837600905, 0.058092747553522034, 0.03775212847872703, 0.16108352937627574, 0.1499217807358503, 0.11400727125874442, 0.004812628012839721, 0.11765944590128563, 0.26804647729733233, 0.3589179735022822, 0.3752309695190384, 0.11256326270817509, 0.1269848359013641, 0.11856056241718242, 0.0006390251209609232, 0.2004682562669542, 0.052504317849497203, 0.05784042479981247, 0.005661523453408535, 0.3294039426826487, 0.37358265547874087, 0.28574281029529724, 0.23858413671259768, 0.07856331268288841, 0.0008089990903070227, 0.07717836202973308, 0.0015851639127588777, 0.25021343786411376, 0.27319900179542245, 0.16633741726716167, 0.09613785237911499, 0.1343727256418403, 0.4420729985053843, 0.2261839885365812, 0.2858679996724397, 0.2604880319350048, 0.28308304878938156, 0.1792306395829016, 0.08056539807091014, 0.1385589399300081, 0.0015364185855357704, 0.2625045132734035, 0.031372116761169265, 0.2973073103346974, 0.0035512362688677967, 0.2041021585993386, 0.008032707979578169, 0.2022798447031585, 0.00032639031543446606, 0.2577369541672156, 0.37473186966484584, 0.2015996147211519, 0.12718502003265808, 0.15448271436694735, 0.000539843295425868, 0.10052456801433737, 0.007059097425638936, 0.14497542249735762, 0.28319251226858666, 0.18595961051273097, 0.30881372454238776, 0.26226851846689814, 0.09968850068513088, 0.21060469727197023, 0.029053290935652596, 0.1746373042639991, 0.055014275398207246, 0.17887209779362906, 0.018990398797541275, 0.20599798141163023, 0.04965900568072743, 0.1191823535213773, 0.04067202269577308, 0.10648936189297656, 0.35865923914988773, 0.13094876494262406, 0.004637567604554605, 0.157823824007392, 0.7180715187784189, 0.19513443131995858, 0.026403508405206385, 0.17238259176935386, 0.07675001053799708, 0.1722052841322467, 0.4202265253807492, 0.07754476133045843, 0.007796508590773656, 0.22506294771371232, 0.03932245853732539, 0.1955784871396943, 0.026536618447658436, 0.2234381877179943, 9.06312341392379e-05, 0.3062770255339577, 0.07214302458553827, 0.13564930914447892, 0.06798485478678266, 0.21439385945656664, 0.012607087508001769, 0.422665148464911, 0.0007473592030717353, 0.09508832236528204, 0.00029324215445072357, 0.2628197598875818, 0.07205997120367631, 0.19988562873870597, 0.12597367742762858, 0.11335122675706513, 0.6055932664494651, 0.12335795990261889, 0.002406979918214347, 0.10748287648150413, 0.01058470001544468, 0.2025532832888845, 0.12618060062757597, 0.21971841421329885, 0.09191411120860511, 0.2150863884153278, 0.12980544860181883, 0.26844829773011847, 0.030446489314621773, 0.20602469725989445, 0.0044273896634844535, 0.04391862100168082, 0.031691152888945015, 0.05934223183263167, 0.2089176381166628, 0.15709155835347133, 0.06989531725972549, 0.26385801483357, 0.3081470461554895, 0.14724203480633397, 0.11732436607126147, 0.21516373210592324, 0.2583972097297245, 0.1777074629086118, 0.002100848026417326, 0.12323636591334224, 0.11570886624104608, 0.09571623975687953, 0.42491040644432587, 0.2835323863865969, 0.16907667447596472, 0.08274006347104432, 0.0633160827548636, 0.06372547827078338, 0.19316760984929715, 0.22023350204897732, 0.04814470817598112, 0.2938545768467829, 0.026855252303221278, 0.05801374643565332, 0.0015457067091784182, 0.09835170818099792, 0.3947641433267961, 0.2583233708804033, 0.006397595491193897, 0.20124586350699258, 0.023903995689306613, 0.10776108424536437, 0.12758709525740505, 0.0692928274544007, 0.2915215996608467, 0.07453250443268189, 0.0009515695171950611, 0.09998127373406089, 0.20850321940936567, 0.2372623109766581, 0.0751312438353402, 0.06148879094712538, 0.011688970706537865, 0.07266019156031087, 0.013038247598062557, 0.09056996094407778, 0.22878155492493413, 0.1105871017071102, 0.02461226390715865, 0.10900117959305161, 0.02840572545142095, 0.14278616581833206, 0.27936485065479894, 0.286191297761905, 0.09963195734701458, 0.16661204590281714, 0.36978911919750757, 0.35564137757510716, 0.010864981267283655, 0.1449036062311904, 0.038010726039911624, 0.21269984722077087, 0.10801640066530244, 0.1670360503179434, 7.972812966272613e-06, 0.1269676899168548, 0.0028637896750476344, 0.2220962514757268, 0.04589982501423519, 0.18665304735793806, 0.09916244602455038, 0.20176952475503376, 0.001032927048026977, 0.17596076900729787, 0.0027283407207148724, 0.14839136839275338, 0.0003193244529408427, 0.19715457312565365, 0.0017100744909260936, 0.1709436078395541, 0.23468238764082974, 0.20681153275150893, 0.12948047967195064, 0.16053040997511067, 0.006180644543594483, 0.2105744810821711, 0.2518394048439565, 0.24057181696254107, 0.02382841888845116, 0.253420034565614, 0.17266638957648717, 0.16002744700485363, 0.144499953254126, 0.10048357075068484, 0.25433514948111197, 0.11460616999977818, 0.026802666811102327, 0.33837705261081824, 0.2876066566191081, 0.2376979476074903, 0.5261362041415271, 0.20714679667412292, 0.2285457185017228, 0.12024241017212256, 0.2091540763334316, 0.14813771206901333, 0.2626676256518944, 0.27697474265623895, 0.27514461176693317, 0.2422912129745613, 0.2857639258186661, 0.16082721941937422, 0.05068757455862993, 0.42340783478353783, 0.21177245230505276, 0.307811707973269, 0.3608344884525234, 0.12125726708143202, 0.18268794386757348, 0.18434360614106782, 0.010704302900715668, 0.12815585683127775, 0.08798298829045355, 0.19216700187780492, 0.4232415314158718, 0.22543163628067245, 0.0008473198485958733, 0.16874855561618374, 0.018558449661317884, 0.4023860793606265, 0.26455890538469856, 0.1602796312540936, 0.09821879625725874, 0.21549607336587404, 0.36002529645349096, 0.15362169659835354, 0.22862543773829316, 0.23192323882134797, 0.056440567774790805, 0.10301932228406957, 0.43410531446007944, 0.19444967224610393, 0.004201574374002865, 0.1868028544786462, 0.0005182623509603397, 0.0677289187989864, 0.061842962885238606, 0.3061806348725814, 0.1387186353493577, 0.26407495082050364, 0.051020779295033236, 0.20720815980086318, 0.32791376589881693, 0.2527973528830565, 4.113825541551819e-06, 0.10690271571387512, 0.02246200182767666, 0.3286868115934763, 0.3341394105879957, 0.42109364232666613, 0.21497957114859476, 0.10977773600716621, 0.02639917078946989, 0.08348827334117759, 0.1201739404488597, 0.3245268351178199, 0.1559294346225215, 0.09559242121838452, 0.028844780818904424, 0.14728127813890865, 0.05756230187043659, 0.18678991473703194, 0.0340435168272349, 0.17202396972232578, 0.0005212707388987505, 0.13798877493488335, 0.27518894035304875, 0.2753599502635925, 0.3507231102886137, 0.13608666860654817, 6.325620506686391e-05, 0.21755088402305675, 0.03787729502719482, 0.13477374797532585, 0.08095167066050024, 0.17493107617790554, 0.00018467115267526424, 0.24462516687536606, 0.0689175478978803, 0.046071856428132385, 0.2048095876506619, 0.20891971180905064, 0.21492595543086118, 0.21640865000470952, 0.018265076115012845, 0.13731831849728038, 0.27342400985423865, 0.16217168345536617, 0.07123644917187123, 0.3985647991194813, 0.05877819776287587, 0.19473005639667676, 0.013224574168099515, 0.12033622433592064, 0.0027122685574259816, 0.12030546463937009, 0.33781078434073414, 0.22540149306784535, 0.00963876874206555, 0.07206083693571001, 0.031396076752623465, 0.10798680540926969, 0.06239729941806551, 0.14559442246227963, 0.002521991057786479, 0.3836102709955997, 0.004447907758557079, 0.20939003764323502, 0.29120412079001573, 0.21222118772803072, 0.17399683613458755, 0.33605756601662756, 0.00027234262795973663, 0.12346471524354843, 0.022195441869777306, 0.11596843225438729, 0.002275926258069679, 0.23921277965826437, 0.20059569273522962, 0.3791272985673173, 0.3233219201554647, 0.16270520020540305, 0.15869220886764251, 0.1411804135828489, 0.14515253104850553, 0.08380894347142577, 0.07392971972366727, 0.1474134942064327, 0.01494659942936257, 0.08649295663851421, 0.28846698458424946, 0.2319394154222813, 0.0014704548254182253, 0.2607561909183188, 0.03496346840165754, 0.15661133047377354, 0.38561499591757514, 0.29350811419055267, 0.02065243409858588, 0.2063841010812689, 0.05227808547448247, 0.27170075484185696, 0.001792080758832526, 0.2640839712337925, 0.19220740381173196, 0.06995373433563454, 0.280624908904361, 0.27120676516571, 0.2711981696027563, 0.21228571424198223, 0.10929653356596318, 0.17340410960890149, 0.31965629436512916, 0.2909153136967729, 0.0021208675562627535, 0.25197724577482666, 0.14869339917338492, 0.2107740892238644, 0.04223140954563431, 0.06626722329221796, 0.002911248625175424, 0.04323168717437366, 0.13185177609208765, 0.05932964398275287, 0.04497069840104731, 0.1738969785648308, 0.0006139764714622028, 0.19084204083326467, 0.4298868079747865, 0.21102837459824228, 0.030328585805364128, 0.15614452276856272, 0.1392837969970126, 0.07975799146225246, 0.03999934744847451, 0.2655709727390702, 0.010846416456767352, 0.08633682040783396, 0.2055057776605859, 0.1994470160325233, 0.008149635609048763, 0.18425356969844472, 0.03089715416438139, 0.17064451270950748, 0.01908368672841859, 0.059437486991926115, 0.00048640598496755655, 0.12765427787734474, 0.0004928933725750539, 0.25415761060492104, 0.13905741200514682, 0.08779174289918222, 0.41112494313751136, 0.20689968105693884, 0.10351148690110026, 0.16999819870870478, 0.04449321388639354, 0.3148301735567546, 4.570889926576171e-05, 0.18657560766541265, 0.05865235605267574, 0.20732911474028018, 0.013595727935036652, 0.16470549015133207, 2.43560197610293e-05, 0.323525555358602, 0.06151540218822339, 0.2778901530323909, 0.3453447226103443, 0.12715917254789824, 0.39833643575089467, 0.22015338389860367, 0.009261157381115482, 0.14634781253632928, 0.0704446423184045, 0.14361302804963855, 0.01881129215481841, 0.21885215531420257, 0.0008227536899592658, 0.053548729579244836, 0.0756063703195764, 0.1593812233646456, 0.17499681893082908, 0.0901565616583182, 0.292138448124643, 0.13972433916972857, 0.021196693900070125, 0.20536305079715503, 0.12081031680184297, 0.14807546165690713, 0.12540328673010773, 0.3246788301841701, 0.3664121109865543, 0.13786336928832588, 0.182377132360114, 0.25576689132311137, 0.21650678831113504, 0.20930057414593334, 0.0013492142552267565, 0.23451292255640144, 0.39116402967421965, 0.1366616560023116, 0.033966564686827544, 0.15437896408113336, 0.6759280345110404, 0.5265858919205482, 0.0037722129418664074, 0.23075864211446814, 0.06964171454295354, 0.23028069174506172, 0.00018423215577417155, 0.06823007769208655, 0.10198443729559159, 0.12945138252493316, 0.34138439182610986, 0.1938223106056803, 0.06927305963761694, 0.09808162038801348, 0.10091013076341299, 0.1641390683628548, 0.004559478570497179, 0.10530861782491932, 0.12084383596509696, 0.10526536943039093, 0.006286374812134454, 0.22549857881254262, 0.10547120662895937, 0.28597062995528294, 0.3419272687914544, 0.20612062112702925, 0.0037459508844727273, 0.2677654455647927, 0.011433887173700677, 0.19894457947609978, 0.2209579256339364, 0.25369498516916555, 0.1317181757435206, 0.1953460343959138, 0.3563691300527719, 0.1496319577535476, 0.19663436770406406, 0.09568630739489835, 0.21442942207872137, 0.09415715487517022, 0.0006959576029777913, 0.1547420348788175, 0.004492901526782889, 0.13728950025175699, 0.04017087987406924, 0.1802648830147651, 0.6740114827842523, 0.1452861064968229, 0.011228066847820628, 0.06273467856522014, 0.004164322641398144, 0.2638611296424831, 0.37120472903468454, 0.234874991379097, 0.31593318471766735, 0.2591205722472665, 0.02689176949430987, 0.21675402182451653, 0.1507093122176002, 0.1996210640188395, 0.037001839950012126, 0.12752438169363592, 0.0013827724785190599, 0.05927628223884071, 0.08428843747356041, 0.13272493819223172, 0.0013036665095569333, 0.39734026441491577, 0.3556707162465379, 0.1199166076387074, 0.07636489320141611, 0.07046449058773786, 0.0057000610759037245, 0.1313308258301466, 0.20678943471016387, 0.09007628228971194, 0.045644000704745245, 0.10112912252804025, 0.015788625409035632, 0.03616966988026731, 0.2801400391261169, 0.18009825971810237, 0.27191374947591007, 0.33825471967666404, 0.2977473772956495, 0.24360039205801817, 0.023773753477423862, 0.13627576997306912, 0.002820475646495219, 0.0936924796126806, 0.3642406785360725, 0.15409578246425454, 0.16846090637058095, 0.14281398954123425, 0.006281145326675483, 0.1220480778893298, 0.3407222196991029, 0.1388180850206572, 0.007500104783641076, 0.14320123580428457, 0.14404467938132065, 0.14609647214785815, 0.13351517924094197, 0.1713547762216341, 0.2545593295266511, 0.13458341359817055, 0.0464572337252398, 0.21866015568170194, 0.0019647809901675276, 0.11723493592871981, 0.010273835007658893, 0.16040808657874464, 0.015289935371825944, 0.32548325692057745, 0.03192093280644892, 0.2758818118044044, 0.10642765169323568, 0.37547807071487127, 0.13262476973523007, 0.6193746214024488, 0.03821382318073082, 0.0484200955695435, 0.27854082061572594, 0.11292222706533064, 0.11375405580811639, 0.06523983530825052, 0.020727377278618064, 0.11569922045537108, 0.2891629211447336, 0.23171786963885568, 0.028353521985873646, 0.0731435711185568, 0.37327692403631463, 0.23972573376570136, 0.14890128613066253, 0.20748981583069026, 0.0401836675030367, 0.208951051946909, 0.04578427459866545, 0.2667578632615751, 0.07591191031146997, 0.21427289739741637, 0.1475138464229634, 0.04830135136413942, 0.20657215773312032, 0.1751294528510615, 0.27079212975830724, 0.12402755916065189, 0.14519944267766252, 0.07612874099636947, 0.1692427636071443, 0.19292498137559905, 0.11650411166834829, 0.10374239545828345, 0.06701274566322961, 0.11976304608491185, 0.0852713316281466, 0.22659298814489628, 0.035558652469863006, 0.24425450467549387, 0.009188699643786435, 0.10828365918002887, 0.02344888979385103, 0.11701206970525702, 0.09239603017005459, 0.1014542828561278, 0.2070457383975188, 0.1316047121870421, 0.014189979736787706, 0.2208640949392799, 0.2668683556685758, 0.11307993156187313, 0.22021419204950116, 0.13751234198725906, 0.11794064046053775, 0.273770328060749, 0.1790552450863048, 0.14452837253465955, 0.00041379811703734504, 0.16572921698555731, 0.3903656372860804, 0.20463456006489464, 0.0001427240739449839, 0.1386367363640732, 0.029255316434763756, 0.2637064750678545, 0.4267083281480066, 0.26439151539884875, 0.03895735721693489, 0.3678266574353604, 0.001991968335127175, 0.03928512637357023, 0.0014966856570491802, 0.18640278265355123, 0.3124529161298426, 0.18630703105948215, 0.09868794197073137, 0.0559005566984195, 0.6291169513261106, 0.24221059004546477, 0.021850094752684512, 0.10497983135074287, 0.5884663473822679, 0.10662652897585624, 0.02065697819026961, 0.2113340476841188, 0.11542530499777282, 0.0844555856148516, 0.08157928926180281, 0.08491224192530004, 0.017985008541601073, 0.09984498809197545, 3.0157694803634172e-05, 0.15489356260545625, 0.008378619763920948, 0.19230796675742567, 0.08549596915903142, 0.1459133277295625, 0.2787863467376475, 0.09807302692756367, 0.12686420394754047, 0.20399096526225122, 0.39855764841733143, 0.3198710045541677, 0.03984518798490081, 0.15997627936956835, 0.2848116577149215, 0.19263956621057785, 0.004415483426458877, 0.09596910993390796, 0.014052035672928188, 0.39903671592513396, 0.07971422242549611, 0.1609830734495306, 0.327565043314053, 0.10151109974075484, 0.3465436202558294, 0.1524933526924098, 0.0002536271178769312, 0.21713455587196528, 0.29933566278797724, 0.2237452173856621, 0.0034964352497378775, 0.25386832487354544, 0.4260849580220076, 0.13239230534744617, 0.007000947545748648, 0.0932065945856255, 0.033614039884054134, 0.17353575138016408, 0.007196967341122118, 0.1769343713750598, 0.08367516815151423, 0.22283239944800845, 0.0068914546320328895, 0.27410928471840984, 0.03649583589188816, 0.23989686095520205, 0.1362504761379597, 0.14327536907186697, 0.25148255348416493, 0.16753225648070008, 0.2475329573588342, 0.121858668298474, 0.001989168827444351, 0.19664049048401328, 0.29071074345601305, 0.1955542327143011, 0.20686751882797638, 0.13308544778151665, 0.003204161469814911, 0.08528247692223848, 0.0002097467850035173, 0.3795229752707985, 0.028714981963651926, 0.1324284421105947, 0.2827187202006827, 0.19209713674448156, 0.12291680945761467, 0.20771449223900698, 0.0846491528018305, 0.1797088411238149, 0.281883851747982, 0.1591855258752743, 0.004209447965306633, 0.09685653886270112, 0.0006065979460377743, 0.14270423766102852, 0.17821398965558424, 0.2648113409189175, 0.022434198516878365, 0.21575321461044217, 0.061277494058780725, 0.2614306373029492, 0.054229823517243855, 0.11818571067545393, 0.25571078816594645, 0.17883792059939474, 0.30516816771310445, 0.17521524355012846, 0.6461804733055511, 0.21507917839281857, 0.5993716595634064, 0.37594788063942086, 0.012379933500083106, 0.06835798633528094, 0.21543160245629328, 0.11895626171813856, 0.16897625168810934, 0.23423253437415392, 0.09350993460023384, 0.10327069759072463, 0.014554205159407098, 0.12253450863941484, 0.0010085841313056676, 0.08529157860750626, 0.13359752556212356, 0.2300038996559842, 0.022230129564247494, 0.15382886961197914, 0.12023040965395922, 0.3019736280594888, 0.26669404325995316, 0.3489820897893932, 0.14380906271032307, 0.13141848096971395, 0.05631630983555169, 0.16072781000418201, 1.8425250709697137e-05, 0.07192127248711319, 0.1532437188138227, 0.22979118736950963, 0.0047221926330773085, 0.2758762901290511, 0.3234954942962621, 0.20633160076599874, 0.310331532015945, 0.1673127474666778, 0.006882897927021582, 0.21725784053228347, 0.08733889211680435, 0.22733028656623389, 0.0077487243347291734, 0.09437556702466128, 0.025690696314610406, 0.1909021710884525, 0.41542328887253377, 0.3017729955466627, 0.2707421427807102, 0.3904406596831042, 0.41627292607018884, 0.27390760646742124, 0.5373649269654251, 0.07721992503220668, 5.4629094622467754e-05, 0.10331709933452328, 0.39625498853882846, 0.19194911696285533, 0.014930174587304161, 0.16105800813376797, 0.0024495561739191394, 0.1571668494742337, 0.029653141756322537, 0.15580257310211512, 0.02959098597623974, 0.300415376895807, 0.0025956341538853874, 0.13406627966947293, 0.3367912822416728, 0.2354188707221002, 0.143714893250856, 0.34171601142696045, 0.19822099369011173, 0.0799533349664943, 0.0044718827313116275, 0.14335080863352134, 0.1056079961090922, 0.10057918930475343, 0.1378835980099288, 0.18296068753103686, 0.1097375611776215, 0.19505704020373618, 0.36421123727343957, 0.13818160151081285, 0.2887214940396188, 0.260878114164983, 0.12595033311738996, 0.16743426614835263, 0.022606185536787393, 0.12982421714711737, 9.692825448581743e-05, 0.2549702919182694, 0.15021558148965503, 0.2478421101344298, 0.1437781846791116, 0.17132899178613376, 0.034301020582142884, 0.34378361087333303, 0.31591928484204046, 0.30309283731968767, 0.0025053925147062728, 0.10009283921539185, 0.12509722682692268, 0.23031579750760814, 0.12677110111481615, 0.2039520062081741, 0.06769897589046794, 0.11891146024598084, 0.20556526012082507, 0.21007762295716187, 0.06903409243202532, 0.14774828481659166, 0.09838971926603897, 0.18068815268374344, 0.312709460173672, 0.18449523749811875, 0.012387907396012565, 0.19822951353457516, 0.058868574481869815, 0.17099633224602676, 0.12294439583461099, 0.343640707759291, 0.0006344338342804247, 0.13249215186652535, 0.020824847827972448, 0.409369963912809, 0.061501814508717646, 0.2586353028503269, 0.03139130573233615, 0.2692650232602819, 0.17489347132918143, 0.09432806956564385, 0.02086372681360713, 0.11370075833669793, 0.09566944285391843, 0.1327788715166353, 0.2037789461968392, 0.42564370266327034, 0.08200751081701299, 0.08772044425322374, 1.374851496886246e-05, 0.0858591511711074, 0.010529797681815327, 0.15130650655234748, 0.6405476390804821, 0.2628159989449666, 0.050253339370663376, 0.3574735322868893, 0.21243127002595646, 0.17238308151610562, 0.021242155801284343, 0.16248036981772435, 0.06262868656564194, 0.11677597836398027, 0.0007540548902394915, 0.08347803413357885, 0.00022540475977856595, 0.10918057178649576, 0.1511267985296314, 0.2327556947845584, 0.12529599305545552, 0.10272224726450323, 0.001186718319461631, 0.15409977707874398, 0.06348812269151066, 0.24361913326515755, 0.16711213245600373, 0.29958699943136224, 0.00022774099644943627, 0.08697157585182366, 0.0068804541831752886, 0.1471699152696382, 0.012234830930120658, 0.16612219797428843, 0.062305712728690295, 0.15136801699232144, 0.002928390630169512, 0.20842821475468823, 0.12179614554489882, 0.09819794883105518, 0.35960938644344653, 0.20797923583890915, 0.6197044162762484, 0.239879363766599, 0.2284253756699453, 0.32618107319562745, 0.011183315903699522, 0.1248255530618352, 0.02909815597707821, 0.10110592978292984, 0.07669193256658634, 0.06714919061981345, 0.027156425665358103, 0.09825500016847206, 0.03529399165449831, 0.1377421568436436, 0.0851306584588331, 0.12036008798126778, 0.0042126844209485845, 0.17570287258097825, 0.003622739904315664, 0.056826173809025264, 4.876776455615683e-05, 0.2567910910090916, 0.2900486640630796, 0.18972815448399263, 0.2683051585445878, 0.1341992570829364, 0.034367491109997816, 0.12136624240790603, 7.452717494636635e-05, 0.13350893740951508, 0.09105774059973928, 0.16526168692226095, 0.000699249722077054, 0.24087695651227337, 0.09823793752104848, 0.26896136121819875, 0.10883814106461744, 0.1315837286851022, 0.10321030913750055, 0.2523819286691823, 0.6665764188989621, 0.1292269725384923, 0.0385071981801957, 0.14069920546378817, 0.04049125031908472, 0.08011517568064001, 0.23796181615114875, 0.16911893671371186, 0.11424264065501125, 0.18636560513580674, 0.47374799107733473, 0.30535273032921234, 0.13456380157463263, 0.25056572383317854, 0.0062893282789725, 0.23761484269026203, 0.012234002636302017, 0.16011628587139815, 0.442764174581037, 0.1706567722897139, 0.0006615287651356994, 0.30702572073825446, 0.006620781122077646, 0.07255213083017274, 0.1733216621057334, 0.19278359683363955, 0.010429881457909573, 0.19194532606997547, 0.13231031298015145, 0.22022713455849643, 0.010286580126637634, 0.19243272842468936, 0.001566792143067788, 0.2376366799457284, 0.002225193011668125, 0.1443661000997775, 7.587213089469255e-05, 0.03191135059495389, 0.12250653904481255, 0.18627545121393158, 0.0017259245421156907, 0.20965965317515206, 0.038032438527076905, 0.43339721785651875, 1.6080007981145172e-05, 0.1940552989844582, 0.020614830075273156, 0.09446933951907091, 0.12440421476710621, 0.22755544054376098, 0.33893527023896275, 0.19092687922203555, 0.060285351430270626, 0.13869574219714664, 0.0030549289359518943, 0.26026308763331857, 0.001482126951289538, 0.21852441244768014, 0.001310298209773464, 0.2068655203882434, 0.16804596903035218, 0.30441644726904943, 0.19344844238098466, 0.2825727686173991, 0.2871551450934075, 0.10371624372651896, 0.05084111345084657, 0.20335516184562055, 0.029107166962415495, 0.07822025376692393, 0.3017953200364395, 0.40117206968798547, 0.09161411143644689, 0.2759918015444541, 0.4661240772188639, 0.14808667838919348, 0.005145522950328996, 0.06568536093988063, 0.015234613078140077, 0.18281537909560677, 0.5713269821960894, 0.2919624503001135, 0.17220281837453513, 0.19527582737336588, 0.04448121242942528, 0.09439938680241071, 0.1254159462287626, 0.36876911052967987, 0.005818614110848687, 0.058550935449162844, 0.08338473094440839, 0.2623950847572743, 0.30782301224857894, 0.32035795954969803, 0.02927811172697646, 0.08985687782680331, 0.14125381370308787, 0.21234231782048124, 0.01768768525108353, 0.20607038611766096, 0.3511581154837456, 0.22506924671829243, 0.010450575534580113, 0.12023306291637022, 0.0005600251862331318, 0.14045726426295527, 0.036544127468249914, 0.23643609823020928, 0.30424925895641763, 0.09233421725430956, 0.494032428483024, 0.24516544127744744, 0.2264049521276874, 0.21778232320573807, 0.0203641544185952, 0.36121476434841454, 0.2716135975860219, 0.13380895428006173, 0.236545542652161, 0.22063101579144098, 0.024203664923904213, 0.07288634898891506, 0.008666251550278049, 0.34021456485494167, 0.21272787149322622, 0.10764968453512067, 0.00020329179014108182, 0.05023649260886089, 0.042598845058743486, 0.21827354149934358, 0.0017463321270272075, 0.11164725356991603, 0.0242597096824418, 0.16401868172618697, 0.21990396979403926, 0.06513847223786352, 0.003402008298439796, 0.159329778500382, 0.05897543770405804, 0.1721370736303947, 0.08477053447197476, 0.17299947796271553, 0.2723616928355439, 0.13867818022893716, 0.3317675251021897, 0.1424328332151637, 0.22279022310049884, 0.12569146953736593, 0.17981432493177607, 0.1214173469588745, 0.0005944832474950898, 0.32774617474379736, 0.04231397656145832, 0.2752545470168475, 0.020714667720228203, 0.2758926128970865, 0.6618198827660284, 0.16532167876213114, 0.01211136953704934, 0.20412723798442975, 0.15332171797607544, 0.15479498782295362, 0.11349580404641268, 0.2603134885665426, 0.09191440278704874, 0.30205238983070004, 0.09351531748335873, 0.18973815047841544, 0.39118373475503176, 0.43864921195652395, 0.00040031504273689106, 0.11181020762382361, 0.11884035546184653, 0.30784995237170687, 0.0036065608428152984, 0.15588597040171384, 0.07968731371765969, 0.32964206185217715, 0.3359058336108471, 0.2147520187669727, 0.0023475587743699102, 0.25039807659465957, 0.19798450427540754, 0.3092740559287904, 0.3723222060102888, 0.18048642550804517, 0.05116856592213992, 0.20736679530353305, 0.00019813702359291105, 0.22645645281259966, 0.10507630866281943, 0.13314119494855195, 6.0021308975422016e-05, 0.32998803639741386, 0.08772370396254203, 0.10014078995589092, 0.34696164305017063, 0.22306710394345022, 0.004366927779122227, 0.08006405598850737, 0.4864729687898082, 0.3063295342322476, 0.21772970303993588, 0.262745426654401, 1.288857498593643e-05, 0.12251916657159564, 0.0045036313931533815, 0.18235121705864854, 0.1327519574406324, 0.04847950578312481, 0.048752400835429525, 0.13904969143496987, 0.01344054729450115, 0.37043493661260984, 0.0003998010673233213, 0.11329433685094736, 0.2723069235047376, 0.17496066094046325, 0.34914112763566174, 0.19363174120620646, 0.18322222433173213, 0.24818463548729874, 0.3569660001897399, 0.20697790688536896, 0.14863704799042576, 0.22895942656861126, 0.04632068694809277, 0.2503893702579862, 0.02558861923511959, 0.16602403539560504, 0.0026386722125476326, 0.11458196442939046, 0.044097053513973285, 0.10414005845510488, 0.2337470678339173, 0.18881556900318627, 0.0001035380657611995, 0.1339052437145055, 0.18341121780046402, 0.26852560934325925, 0.21868846141771314, 0.3467965398999785, 2.5018009248393233e-05, 0.08011970427556166, 0.0007745667072539911, 0.16705759483989316, 0.20219366529676092, 0.2966652129106902, 0.055879367239993746, 0.15184129357281434, 0.01080457155927661, 0.18960833850198097, 0.01590361384462231, 0.1642706538189691, 0.12421978478832899, 0.416266541446286, 0.07688501581063029, 0.24385206795295744, 0.07037254398278492, 0.11296045920210747, 0.16216356451283492, 0.2602453906396595, 0.20677013087698093, 0.42970471122514936, 0.1867598557358839, 0.24301282838634772, 0.24398115899135053, 0.24251440813768033, 0.08629001461869734, 0.17559426749461368, 0.07282791476572179, 0.18488449364084777, 0.03163198718300738, 0.2528503059396611, 0.061874147281099905, 0.19611719089914878, 0.08858469360394691, 0.14969472252862445, 0.33871461720008256, 0.3106889099493666, 0.017666241478644595, 0.2620279120249045, 0.08650876341719708, 0.16119947908152493, 5.196601046009164e-06, 0.0973193096262611, 0.12049278834634691, 0.1686301417331296, 0.12913204523135136, 0.1398731507413454, 0.0966297693782053, 0.08694546813282084, 0.2944863821820479, 0.18771376999896874, 0.23294324691706456, 0.20513378930875628, 0.33436645650235225, 0.20791349477161844, 0.027025597813018398, 0.278591081636025, 0.024484981785532156, 0.18896591959844938, 0.3960831781021423, 0.4246140955499868, 0.2058951562750887, 0.1067731471466187, 0.0010021519556175917, 0.1281181036851116, 0.0009718577911807339, 0.1149259357015177, 0.3728883072614045, 0.1799069654383061, 0.014765048768166724, 0.2749160961531377, 0.014786137537672625, 0.13055188694235642, 0.0001132165455770967, 0.18645395161916758, 0.2749478049638681, 0.401131528195142, 0.1742331227532981, 0.2632106351398173, 0.07678773744385267, 0.09208931573818098, 0.39864736076577884, 0.07899053884302965, 0.0009404559464069979, 0.06838641301255888, 0.016324367216512314, 0.21958848938950576, 0.05510702302115078, 0.13662514732113115, 0.0002996873440029698, 0.13830642187515857, 0.0950103709495238, 0.2601083913151091, 0.6009424172966535, 0.15126927020661937, 0.00046012979573431534, 0.2728501889959212, 0.1272874675326534, 0.16460367944990253, 0.02578709674744477, 0.15695364624351762, 0.021183380837432715, 0.3387304435469926, 0.0962169992504589, 0.1659412278739288, 0.16404905605912745, 0.316401604961598, 0.08004695956993503, 0.27648187355592707, 0.06712596179344921, 0.2464399469822874, 0.014954837547156785, 0.07397956468932472, 0.5431710247205889, 0.21596194975106445, 0.008351826368162563, 0.3228746606292233, 0.45031824285586053, 0.2365307780409138, 0.02468379279320221, 0.2843844441824724, 0.0039178298280678385, 0.1476726635663769, 0.006563969146916193, 0.2578098296616142, 0.12933124230891244, 0.13696912943872072, 0.3095320033720046, 0.19909916230034286, 0.19511383077597913, 0.12999914029141071, 0.08033350211732089, 0.08650715605982522, 0.4108326222270004, 0.15301483708017258, 0.020945686700965638, 0.18818033689902083, 0.0065108198771532955, 0.2568902389439177, 0.10881262956528107, 0.037561236508974395, 0.00012326850840693737, 0.21676922913250693, 0.000550833296146681, 0.1907865268930986, 0.49558274009359593, 0.3392012096285745, 0.03502212967014392, 0.18937042946174365, 0.04186574135532188, 0.4085322403668646, 0.026949960093370876, 0.18295709080056619, 0.058821243549144864, 0.2914868571689735, 0.09976783891064163, 0.04989530622524935, 0.015163198411017586, 0.08900650636006846, 0.0755501619497058, 0.0795082823975964, 0.38977147387166955, 0.27122442809284997, 0.2613294092263333, 0.13446773097407547, 0.31335457925798094, 0.13953785035021146, 0.23044427505864148, 0.12316148506632481, 0.2120154602052157, 0.23324825875295452, 0.20525457880295928, 0.21450079005242978, 3.7800551748290445e-05, 0.25626112838130993, 0.13111804842770067, 0.1341520770844379, 0.2834269664145823, 0.12234451077588514, 0.180826869850081, 0.12073553706783721, 8.410671728636039e-05, 0.1718511813140393, 0.030534283259852676, 0.12858557296793327, 0.7006603635769784, 0.21501229799108315, 0.0004854155225887761, 0.10210267293246245, 0.1391188314647664, 0.10131103206798227, 0.29225258650528874, 0.13234683144558468, 0.12022446298921123, 0.16984916716516443, 0.3173050006402248, 0.25346335204032044, 0.4089119116086714, 0.24668308172753436, 0.28938627657728494, 0.18273311854377863, 0.04960634504096136, 0.1822042405220032, 0.003694519575992946, 0.1046116417665013, 0.09893107941937185, 0.2737169713231706, 0.09157573612893347, 0.18624874667914476, 0.34686278621928085, 0.28127860166851276, 0.0729622303812491, 0.11077423262844645, 0.07250180374096829, 0.23329562476019733, 0.2342910080751608, 0.23355793757646579, 0.0018764599583640518, 0.2566968908781129, 0.0005695237692862065, 0.31030883175602714, 0.005943160903217226, 0.07672893505563165, 0.08147314040414244, 0.08017953043147193, 0.11780982660256996, 0.05423003739351679, 0.05300272005063959, 0.11320769326107871, 0.07613029318978685, 0.21114037558930734, 0.09482610192227664, 0.2912726733179771, 0.2701179981911726, 0.17507496564120054, 0.2589378029243479, 0.23281898668560677, 0.021154101537913528, 0.06443725840460311, 0.006201738429973291, 0.12499580351544498, 0.2697973199430976, 0.05672777989138233, 0.005322847928108843, 0.22890139660661332, 0.013593843667988445, 0.2297222484267288, 0.04435518245200996, 0.25840050995129565, 0.006944984508858657, 0.0634984662359604, 0.0010746694022761478, 0.2217715209727356, 0.04810153278520863, 0.2733887957816947, 0.03902656841798269, 0.10835383458686211, 0.04126075246595543, 0.1285050299413663, 0.1418860152083612, 0.1598975433065822, 0.12496640263019532, 0.11877025102968122, 0.007868080043077829, 0.18256918826404073, 0.3450341725383623, 0.20124071123716916, 0.032278995269204636, 0.10735488151156193, 0.008639614520728044, 0.2844470933158726, 0.2104778187563239, 0.18304496487822602, 0.15285130183137122, 0.22668427426153004, 0.0005980022548044417, 0.17771368991057399, 0.09290029663543464, 0.08441946319347034, 0.228569654225404, 0.07328971924136757, 0.03833886530088648, 0.22333998090597718, 0.25166699058235686, 0.06469627797426618, 0.12419479272437327, 0.19792747562701152, 0.07557550680882248, 0.07102622937131448, 0.03516177602316294, 0.1591889285915135, 0.0021764799445804783, 0.2802437278288109, 0.40375983076873584, 0.20952674720526285, 0.015294789085904389, 0.3108804216645404, 0.6476673666846281, 0.2214808300590617, 0.0008177719759601132, 0.08083125658319983, 0.03511161156994705, 0.2843123684984607, 0.45126912013593956, 0.2231607075948333, 0.005013324638206029, 0.26693273832641434, 0.6445481012871301, 0.09501522596693251, 0.15767328854902493, 0.24541278103087102, 0.015374116277098438, 0.26106175438732937, 0.0015752016101380465, 0.13539979989991674, 0.0004955767306938696, 0.1006848730903615, 0.0026593265328886317, 0.22805234649473552, 0.03407421234936958, 0.06750329271362122, 0.012639239902408147, 0.18210720893161697, 0.0007667942124503687, 0.24411951530356307, 0.10556119879144088, 0.14478660612466324, 0.12220415106822032, 0.17916751926820568, 0.2502464759501246, 0.20748881421096715, 0.007051521782679109, 0.15583151616908386, 0.024697920743031152, 0.185410561902777, 0.0018657350243691845, 0.14958075568185125, 0.1110349777772851, 0.0737487561974288, 0.012782670613483383, 0.07984290291451743, 0.20675379309410366, 0.09586619146854396, 0.09740374519066425, 0.2433945702373135, 0.3287586945500661, 0.17337954666690603, 0.19285846998484454, 0.11338089814002186, 0.010667065019754673, 0.17595962940545598, 0.0015630767874135446, 0.1209899090713082, 0.06554052697978285, 0.13664430037154254, 0.01806697063191187, 0.19740660788144906, 0.05758842951566597, 0.13534032987125325, 0.0017309897334356616, 0.05327003439118627, 0.2410499684274196, 0.22959142360759724, 0.00010838330265960927, 0.13054032060404808, 0.04575710838140896, 0.20810238440932077, 0.15206243183105528, 0.23210067124579917, 0.11346919765123113, 0.29152944632229255, 0.002062447848174603, 0.17757871722687535, 0.33674791712860497, 0.08994494586051374, 0.19782526905558317, 0.1483403996272853, 0.2802461956501361, 0.15689919149349202, 0.0007949924495571636, 0.0966149980773225, 0.05044199665999235, 0.1607545387230733, 0.032717726344868775, 0.23388407525214316, 0.08793800114928274, 0.1662640577263415, 0.18635461112622861, 0.32191913870739286, 0.308341945312861, 0.14723982820690418, 0.01293241684410202, 0.06172331260765773, 0.30070427545808215, 0.3288898075130046, 0.1889213608641209, 0.16698855514018512, 0.017103940868068435, 0.06495712377680804, 0.002683929068316123, 0.3032853170271539, 0.11501579534466089, 0.25140358793870127, 0.007149601474843337, 0.0042795213082367466, 0.08921648352507489, 0.3249052418134376, 0.07432259074584216, 0.28466961631099397, 0.01157334818081542, 0.1694468773327068, 0.009145722988987378, 0.09301049152127575, 0.0013278706369040567, 0.33593752595147586, 6.151420697051436e-05, 0.07963972049723021, 0.006570008506440235, 0.19344155531579554, 0.10923474535360356, 0.2922320965480256, 0.07708512852754268, 0.12697106014586507, 0.15650105549514365, 0.12708095089385482, 0.02620428995140548, 0.235069614094018, 0.26310405424342964, 0.26535269897630154, 0.21203720301436987, 0.2909865461632007, 0.027707075848916754, 0.14758274976352684, 0.10282321087104265, 0.2162946046880876, 0.5791419394945654, 0.19041570067940405, 0.012516980160646375, 0.06995977268006943, 0.003453147365096567, 0.10357584272049192, 0.304854016024791, 0.1633181745754941, 0.014167971407017498, 0.15537865684018992, 0.00016476538589813572, 0.11490393962932233, 0.1751624446157022, 0.16700995498485668, 0.08657643956333534, 0.23537658664388797, 0.0018719155490127075, 0.1496624409093895, 0.18981955194158218, 0.1025369417390218, 0.09894673272245243, 0.2947147518384615, 0.10087450807953825, 0.3167887459476593, 0.05321432363209371, 0.20552437970039372, 0.15016223797840667, 0.2883609594163838, 0.003694538477889507, 0.15520331413562505, 0.003725200660937844, 0.3153602136422333, 0.4608925248498963, 0.08903993998693936, 0.04241819496193955, 0.40816062689105365, 0.33219780594987847, 0.19144353674186476, 0.014848691774006096, 0.37311826593158387, 4.566063964798036e-05, 0.1914441265313534, 0.07287409259836207, 0.12924389391587368, 0.13171926853974583, 0.12977412848470307, 0.05501156545049631, 0.0734638455149602, 0.060830538876829265, 0.17054515294654077, 3.3966627972059626e-05, 0.23887882144098177, 0.12016960378940775, 0.17746401966235528, 0.0009127607537469847, 0.21020541271832438, 0.00013663891741194645, 0.179653707829186, 0.1842016245047427, 0.23259986698636956, 0.6284601023100226, 0.14748497594013601, 0.1535747699658335, 0.23711813894637687, 0.44934936591287505, 0.1812732434363052, 0.06040934527536971, 0.13408241822700973, 0.03614550212687391, 0.1153455512092289, 0.014765984889891115, 0.19024020988966187, 0.14895890802613898, 0.10392646338486855, 0.00044260068729408257, 0.06328311746575868, 0.00024195810670827692, 0.1552619288302811, 0.21465244107533912, 0.19495590227058573, 0.037873739909128644, 0.12744849785472975, 0.049614426946694344, 0.1613311415684248, 0.2515501107808783, 0.1988365672366015, 0.32751658567360664, 0.21878192535258983, 0.14734782429603754, 0.15247795001660397, 0.1664348088093498, 0.17742449240300587, 0.02028300795235406, 0.13621626699320336, 0.2751718211067874, 0.13206799009603698, 0.3926346064379004, 0.21475193794684433, 0.015461127883229762, 0.3640101692120273, 0.18835093728757085, 0.1494951616192216, 0.13894507432748718, 0.11167887036938486, 0.2853233095642973, 0.19118198188043703, 0.002447703951929725, 0.213808166787919, 0.19554570205073105, 0.2972200114524201, 0.008813009582954123, 0.21705381933482176, 0.03643666188605721, 0.2142598688610813, 0.01527192776720719, 0.21816065820791322, 0.2512130602931393, 0.3627717262422737, 0.0032776679559371282, 0.24411241994171576, 0.012561176040330442, 0.13154505301026145, 0.2891533592414411, 0.34423245010651554, 0.0005295509232874045, 0.1834089497481853, 0.12976040770931832, 0.2441793550711205, 0.16589777423117388, 0.18095884154798886, 0.018622039333747255, 0.1521841932154861, 0.13202300048214965, 0.10630892913873097, 0.03788346589751299, 0.1893784429766781, 0.16701431564794084, 0.1405343204939526, 0.02177984193921085, 0.051165017109291645, 0.1160822178787934, 0.10259033016302888, 0.00529186908898982, 0.1870754439802885, 0.19267085185634236, 0.27795985969076875, 0.04960346069482439, 0.16098134664798036, 0.18023028872165822, 0.1569111055364772, 0.02655367286547258, 0.18341922958929394, 0.06792864868215814, 0.07944343076150112, 5.980276143367923e-05, 0.23105583887450096, 0.00784584499459535, 0.37635002293476255, 0.2583767250899065, 0.2772661233425874, 0.12970623363903386, 0.15633705335071796, 0.0076545703829348595, 0.3234716995701817, 0.1527458410928091, 0.17487962769006873, 0.2305881503165101, 0.26892548438842895, 0.30507199835951077, 0.2039827652434513, 0.003394459495211777, 0.08744184880381345, 0.1090366298531048, 0.14202491248117455, 0.014286075944777312, 0.06340191207496101, 0.00013478448738920198, 0.2383168438268848, 0.2583400660942516, 0.18329188717179062, 0.001628624324845467, 0.05524253268527479, 0.17282489626346612, 0.15594076846694455, 0.1967580546338752, 0.20261633851645833, 0.00020214374188753936, 0.25480454706393585, 0.22910329881111552, 0.3219890337995154, 0.11363003569749391, 0.3060057363939644, 0.13503013130858404, 0.2779532560696778, 0.010973771096261324, 0.19526063503351243, 4.188202131262729e-05, 0.13894655245642626, 0.18652705681417578, 0.23314489047944742, 0.005690873754507005, 0.14872677367600348, 0.0066487627030716746, 0.21689731149026947, 0.6672618209417899, 0.1884048597917, 0.13104232639375604, 0.11613335112495154, 0.004243692767301176, 0.026091690793416927, 0.28702674953571056, 0.22684160662287892, 0.28941782029374774, 0.18695187095854635, 0.0024610112365432237, 0.28471424697770165, 0.3706846711982651, 0.13298377966043406, 0.0716722757072894, 0.07754601678798778, 0.0020222794555283226, 0.15460721704300692, 0.11438818790934006, 0.23327197105953557, 0.22629017451832883, 0.22136688028363316, 0.025195469386922298, 0.07981072790130099, 0.32059412491325784, 0.2402643315160968, 0.006210196864230966, 0.1813418088695822, 0.5122887459209389, 0.19477528356828153, 0.028235845526239978, 0.17270040545606619, 0.3328807545138287, 0.15262388820642717, 0.02935793989033502, 0.16537065907810755, 0.002796662364464123, 0.1706211534883407, 0.4341741934665606, 0.19811966195399594, 0.2692706964350908, 0.27456470184285214, 0.023112023453403907, 0.13794529343649542, 0.002880057362640779, 0.13673082644779933, 0.13926314979342536, 0.31716965694152205, 0.023479661336565982, 0.3366817668190599, 0.029096362370432872, 0.11107302979580014, 9.710181222999381e-05, 0.2326024952812549, 0.07376687598050514, 0.11402432483411364, 0.24767168209282175, 0.2816966218893518, 0.050834625150074975, 0.4027803318101032, 0.0861066207071417, 0.22767691147571312, 0.6034654992977369, 0.1205766050922288, 0.1433765409310906, 0.1579868467633052, 0.01603520109616552, 0.2998455597048469, 0.3178307455929802, 0.24160585505786644, 0.12418512786356427, 0.1300972818679975, 0.005605636668688035, 0.14670947689549152, 0.08606622446950574, 0.23722867243993107, 0.2027036966328658, 0.057785591304151236, 0.0005658825288264779, 0.2226477713069471, 0.003117109341087598, 0.21705298252972896, 0.30757970519306144, 0.19456155927088387, 0.1837623220174862, 0.2776437567399792, 0.003575029733755483, 0.23127425034293472, 0.10411851685660821, 0.14361407767097084, 0.09811002004073066, 0.11822104511133605, 0.012146526315811146, 0.0683080920049889, 0.0807446619435126, 0.3257650716573392, 0.5500568315816053, 0.1280666114858589, 0.35943311490323787, 0.15659652243104555, 0.2245801237821235, 0.2779237560391602, 0.1174983411497072, 0.26166714855683776, 0.012688941664041269, 0.17083061430085458, 0.0032182341966517924, 0.38418958986522633, 0.06607070644690224, 0.17195533460116863, 0.6766988595402353, 0.16115689028025915, 0.23272533403323634, 0.19146553048841733, 0.00012231809422473815, 0.17334503018891706, 0.0012304384756500414, 0.16309895765659285, 0.024454307169759687, 0.13892204503522632, 0.07852441118207783, 0.1605057182694615, 0.17161330088474966, 0.22669716429656253, 0.24496957744116166, 0.252958667032223, 0.007621119669912143, 0.13902120441456253, 0.002983878171355834, 0.07751728693133692, 0.010490586566384586, 0.13351185386800526, 0.16650826619260456, 0.13783465020484925, 0.042183283615014486, 0.1562885630188134, 0.48363753573022117, 0.1168168374341723, 0.35194614215258063, 0.15369503383235902, 0.1403195844884446, 0.1683235801785943, 0.12983236198739487, 0.17967309607189108, 0.16015880871820323, 0.35179397706119725, 0.09282699134800826, 0.2335391759992798, 0.1510311689941781, 0.3729560721036422, 0.180460736674965, 0.05580441198917896, 0.28670364333303594, 0.37369853820125737, 0.007849924963697472, 0.14666815036440883, 0.0026316517388759544, 0.14763713731731581, 0.0202296894546607, 0.3372017436381645, 0.008798438073371405, 0.11153356221729749, 0.16275762039053915, 0.10756617118461176, 0.09507326680647583, 0.3412747047540051, 0.006085737274862366, 0.10460900373466366, 0.04625124743634359, 0.18337978548823952, 0.04948897622232849, 0.20634531968069905, 0.0827653386786551, 0.06009581445137194, 0.0004961614627068123, 0.12410750030928383, 0.25536652124500847, 0.1958353080623485, 3.557849507096478e-05, 0.11868916065061236, 0.22679448875288366, 0.24459966847183642, 0.14293938091416733, 0.2596002457038964, 0.3481371284955685, 0.3319423071458469, 0.010624858308801777, 0.1303364652968732, 0.09164677175994977, 0.2735936073956973, 0.22430290355077886, 0.1520787643120612, 0.03517266772809977, 0.2568292946411042, 0.11593987151636359, 0.1887707095891797, 0.08477083162242985, 0.16235740717208696, 0.1793261788920431, 0.19385113742450047, 0.027371258671687482, 0.19863737230113543, 9.590622255473136e-05, 0.18103472649310356, 0.09758589897730222, 0.24179194747718394, 0.0011881230440094878, 0.18716654749543837, 0.07160679516120073, 0.22894516291147418, 0.04135560452549132, 0.099741810725227, 0.020749353970556845, 0.11962356105769878, 0.30169322268921817, 0.26575760113460073, 0.3366780823848482, 0.21788443990314763, 0.0010157570980750819, 0.07070620549367305, 0.01654155261146073, 0.0677037139136936, 0.0055247289820629574, 0.12230700308266315, 0.05779632455354052, 0.15944670958560891, 0.11659551389952677, 0.1262291014268802, 0.002858835669840687, 0.22922524256960872, 0.006100924290160086, 0.17752588554892446, 0.35075561381954906, 0.12897472313220212, 0.22240227981347607, 0.2204605536749244, 0.009199916707402167, 0.18256718366941507, 0.02769181225698958, 0.2060894772377952, 0.06731066798168683, 0.14460667037177552, 0.2998168684118406, 0.0720311205826388, 0.00018539211683016928, 0.21951782532415595, 0.004433029616429218, 0.09055236961257007, 0.13796376605226146, 0.12735719043092325, 0.1397808713743836, 0.13033420048804426, 0.01000059929189471, 0.24318204253522469, 0.24139782610308474, 0.21625253879364784, 0.04899643915500811, 0.18321960881198152, 0.009931057499896059, 0.3087165290836453, 0.15890059191541578, 0.10621330353462452, 0.23499430798129392, 0.19851953604164957, 0.2586883040555108, 0.1921483986807133, 0.015204495435257148, 0.09074292053154712, 0.26745023250967637, 0.29040149640288004, 0.0033905178309975204, 0.2068352138593486, 2.4292133546308103e-05, 0.2776487853700452, 0.00016644287455003237, 0.2285652954870983, 0.3900670755871028, 0.3426722079531333, 0.2833622175920907, 0.250759918008661, 0.0003085003483082208, 0.11934496783685482, 0.2254035553059263, 0.15373260752231235, 0.049704456984125046, 0.2879262974455729, 0.001284337336770136, 0.20713472105461359, 0.007272090293230472, 0.1741636909624093, 0.2138978587463498, 0.22118293365482344, 0.00681107158068731, 0.22374152613549897, 0.04154776072170664, 0.29964765532805177, 0.3180309421293107, 0.20136082713415943, 5.335573048936837e-07, 0.24006407634835442, 0.049225057318584765, 0.1534967383226606, 0.11698207857854798, 0.280842370622892, 0.20516294991962655, 0.1556618793262108, 0.0003762135698506606, 0.14013081053688325, 0.17104398567659831, 0.07467893068971923, 0.5524080511909233, 0.13617471853862462, 0.004223597135778967, 0.15990612106490867, 0.07881324492357589, 0.15297114985408913, 0.0006267452884275807, 0.19803879631730975, 0.07671599855297455, 0.43034329159663304, 0.09550446039045507, 0.21391974593655372, 0.00047146801425463584, 0.1748622109538764, 0.04998884422340408, 0.15437274236334086, 0.13013945981532515, 0.16038984764664405, 0.02797991816796639, 0.19924329906539243, 0.10214001521658247, 0.19880132963456545, 0.55434761802957, 0.15882756954187466, 0.2831326070954362, 0.22836776032047637, 0.0015179707637139827, 0.036346687307464126, 0.0426501640226475, 0.07469838293322972, 0.02070114833883353, 0.10005602124177881, 0.19642591790526157, 0.056530928618565804, 0.03668415662994246, 0.13317711978083813, 0.04586514774882744, 0.24176682607896935, 0.5208303316426425, 0.33336611960048057, 0.47626789505938255, 0.29723586735142055, 0.15471914859591393, 0.14069010638355844, 0.0009314740916579467, 0.2527502721374901, 0.6532546229069784, 0.10177225505808707, 0.05807258052815811, 0.20518361201728225, 0.019337774297250872, 0.1950589976618075, 0.3936392071405153, 0.15727233856341027, 0.01600373251131058, 0.1792519110637283, 0.0066030327665203, 0.17707219586393125, 0.3346589835450402, 0.25598890704449423, 0.5392750467282187, 0.14414767429511893, 0.2705544525191809, 0.28696121259518154, 0.05143619548867632, 0.30956677909218355, 0.027310500129154747, 0.23783211632254833, 0.084308197334493, 0.11699178734876693, 0.0763497568991787, 0.1590210896065424, 0.01461044470776566, 0.12263667548093087, 0.12907909735869139, 0.208670548901737, 0.11593760729783753, 0.20238478755199618, 0.17059069001364455, 0.3156509348664121, 0.0047462843118400615, 0.30220589822893085, 2.508746383966809e-06, 0.2097833239550179, 0.10600405063767226, 0.07280571202748087, 0.1615643981286966, 0.09951153691511493, 0.28704047882403455, 0.22499105112679774, 0.48701887610632183, 0.23588866533314118, 0.015753559543584792, 0.2781598781768657, 0.2564578442789134, 0.22286745748458753, 0.5660378681917039, 0.1293256773312391, 0.041423320869449755, 0.26020805041621003, 0.36486161807335976, 0.1698639588371854, 0.0014636758549755769, 0.16966899707601965, 0.1315038126505585, 0.20473618389799556, 0.16856362251470122, 0.38508175343783946, 0.00011554330810289078, 0.26559553105132533, 0.3184134184327132, 0.1742112799162172, 0.14076319668071915, 0.1598957027884627, 0.2367896920964121, 0.14522473343948725, 0.017632373636942256, 0.20274234170358144, 0.33196450766174185, 0.21054972502104058, 0.005616955137743285, 0.17364773873969463, 0.1343692694986929, 0.3034696946863129, 0.06755916068808411, 0.14470441751633345, 0.004235044711448399, 0.2600991266214833, 0.01748002162993572, 0.18724950703300483, 0.30883304714339843, 0.24883207609031469, 0.0006087916762567147, 0.39987318648385745, 0.0691666001299988, 0.2555426974227635, 0.006860007487669813, 0.06608474048682457, 0.07306296752977914, 0.2654662266330649, 0.09366739768437224, 0.12721940541583981, 0.31752577107263297, 0.23606025078388385, 0.20301392216337186, 0.07430055182290456, 0.30897808111688263, 0.23643352675898563, 0.005907275292900392, 0.156629700088704, 0.02832881941211835, 0.12586751309472496, 0.0422082492489911, 0.3017868141438394, 0.29585408031804644, 0.22479421390994445, 0.03637182919194841, 0.1711764167633301, 0.004270551980955162, 0.08077768559244802, 0.04254733837509169, 0.11880692421001839, 0.0008809256408767397, 0.21796858603638358, 0.0013000437932691887, 0.13861374257769057, 0.13722131102188728, 0.2495670664367342, 0.00036141926800935053, 0.17864471893165038, 0.0038796960172840234, 0.20313910735840876, 0.4503529849816048, 0.14699980479055516, 0.0013789305228217863, 0.12974947255319358, 0.06670378843105855, 0.051950937055430524, 0.30376753948692997, 0.22301390752682512, 0.10948345921678992, 0.24142996473885686, 0.09666091360155822, 0.14930689213648, 0.3013872797797944, 0.26936503905937537, 0.00014651271557871345, 0.07250263527341207, 0.007515165300564774, 0.0726150398984449, 0.090536671217885, 0.3026593083515666, 0.2525135317760835, 0.10464963587448217, 0.019732823506972506, 0.15774318277008087, 0.016842179418506475, 0.11939513205284645, 0.008593700909668857, 0.1712762994740975, 0.31957640770036067, 0.18364537746291382, 0.0024444890049906995, 0.1517836622513126, 0.44380310463599787, 0.1559834958844707, 0.012893175870527792, 0.2406314852654836, 1.0201993294489675e-05, 0.1447086007765209, 0.1364486508355943, 0.2343608698574334, 0.1772056966945976, 0.07249844314408355, 0.0074805478752244525, 0.27751046613995894, 0.004344526612343373, 0.06060516790760158, 0.0434568455550437, 0.14957077332904573, 0.10606542895406369, 0.0766637371778348, 0.02471128870909922, 0.10074900450918003, 0.09107760426832415, 0.18979023836546002, 0.17862754741752404, 0.14853059569458169, 0.2082520126133005, 0.30063327079139357, 0.20405366374752704, 0.2394315080701624, 0.12567364890591648, 0.2808262163962695, 0.08928468336063122, 0.12298628104042696, 0.1299255609390002, 0.08275692231025339, 0.03588177820890857, 0.23379997074459286, 0.0024897981097637967, 0.12381913073716377, 0.00033765944349302873, 0.23120234142103677, 0.0026349159357212195, 0.19409169731564543, 0.007486982433784069, 0.1367677229051357, 0.47759777763082334, 0.21555410152097731, 0.11552702811894885, 0.24069424192041028, 0.3246560632491126, 0.10203586946339374, 0.023812225544960795, 0.21657425357391938, 0.16440642056295474, 0.18630385409987596, 0.17704236466158818, 0.13390528339350805, 0.0024347616355271384, 0.17280982204585113, 0.3628221547770899, 0.019184934304828993, 0.054379793377620445, 0.24705263547610024, 0.27955011655347206, 0.05148377816562061, 0.2989550921267639, 0.17262277986690755, 0.12628276538453065, 0.15172006328422055, 0.07574155515800882, 0.300686708589598, 0.045716507708164045, 0.2838715976841427, 0.30836016122857757, 0.1544643869410747, 0.42720277101772974, 0.15572212986652736, 0.0002884552741306834, 0.10221593040408859, 0.28781769084217945, 0.3010074488860169, 0.04903651538385254, 0.11632775849598824, 0.2134378366417852, 0.2942311933117284, 0.16523529657869554, 0.09577310696197502, 0.0405479956297812, 0.13270873845178222, 0.020643454246923564, 0.1232014173560071, 0.0001734424622859316, 0.13808214501640154, 0.41360480395378546, 0.12398459185600133, 0.018377528035471213, 0.13899613950873416, 0.037446444580368166, 0.26067168695401516, 5.32373727922015e-05, 0.2286448482948797, 0.04232713266165433, 0.129582365459646, 0.12485870411593522, 0.22285061800148287, 0.0016254555207145434, 0.07193784914305941, 0.2849074988000709, 0.17763805082183354, 0.1238307544496795, 0.09187498829660132, 0.04806448148685211, 0.09029702088892347, 0.14803313841611815, 0.12083126266597352, 0.5080987931588121, 0.12563326105641173, 0.01094186805890401, 0.12892511241627994, 0.06066763944305911, 0.1084248378612275, 0.018705800030733143, 0.20822203046196952, 0.3748938856116006, 0.1880079359203762, 0.06851254318405609, 0.11743054889525646, 0.010330953629371642, 0.16914796249397576, 0.004221487430077197, 0.2122716085484755, 0.18494132396969182, 0.11706467320993602, 0.10742979514795933, 0.1606378049091714, 0.3551800293724097, 0.19080976366111202, 0.12022692972779479, 0.2089963983849105, 0.09090149094190547, 0.19184262129988236, 0.1472440409157798, 0.13772191783835105, 0.14172509575656786, 0.135904012093648, 0.4039514373308631, 0.25669513279700656, 0.0007499649719449053, 0.23881511967697952, 0.007675798927630239, 0.21091068821477166, 0.03987124412206607, 0.10307170660309313, 0.0021655283727284313, 0.2431219432021747, 0.00131246086868517, 0.223412990168985, 0.005728053877380784, 0.1838794117310144, 0.1484105042873395, 0.08521971812992496, 0.008543463594633881, 0.2485381086348033, 0.0026000286562975817, 0.1502848164643808, 0.43331765694581137, 0.566697166699573, 0.35002452029691183, 0.1411603108870029, 0.11617532160664723, 0.17457443159612207, 0.07093744312818409, 0.27746001879460713, 0.10560244348564002, 0.13823089521257642, 0.14199625139070612, 0.08466365353008581, 0.16857059631729499, 0.4094862932177658, 7.631337005520322e-05, 0.16662548895486948, 0.49416430838279, 0.1792213736748588, 0.017871948733110394, 0.20456736457913446, 0.11982392124600431, 0.23669477985908194, 0.2366226552264039, 0.0648012553700233, 0.0010360836399274653, 0.23625757238551537, 0.03736048274300052, 0.23577397526665092, 0.011151868913257404, 0.28762662807679007, 0.03545228583485447, 0.06605163113684312, 0.24073202820727602, 0.17561008316046262, 3.5070177336749e-05, 0.21808881927846915, 0.04162994648749674, 0.20948030992449665, 0.11783286477889811, 0.1588300119560649, 0.00041202489061712794, 0.10665417208512815, 0.017351788535989954, 0.284867189286494, 0.31024623217001374, 0.19112556182640805, 0.0048245927133194755, 0.05524435068930115, 0.16315067920763607, 0.1195034170922762, 0.2535323729314043, 0.3543894076958201, 0.1656234256276858, 0.25583881324220664, 0.2000509226708693, 0.16733223732560698, 0.11306530034607931, 0.1909615763952896, 0.6578435516107812, 0.20521995170859347, 0.014292670496092796, 0.10550766043580308, 0.11200952302574407, 0.29258486994538513, 0.14346127303178946, 0.08938718506885825, 9.458470284200931e-05, 0.13357283862194408, 0.06458325322546443, 0.09227926193658607, 0.06104750181984855, 0.09510618193156349, 0.5035898414526254, 0.258928495178686, 0.0015484166360368232, 0.16562598264046002, 0.3609301471546008, 0.15065365506018158, 0.2687266391905554, 0.317116823388703, 0.40719818751151704, 0.18897591315259407, 5.6201758212726104e-05, 0.07142862217892663, 0.0001967469949974987, 0.1954448096076033, 0.00018734790244530805, 0.09936954676671647, 0.10700962384816974, 0.20709073128907465, 0.369428150246798, 0.09997240907101837, 0.035990041650912526, 0.31229580230485904, 0.05577732581197382, 0.10024606292348093, 0.0429520943605155, 0.14984386750435874, 0.16295871475388898, 0.1818576700053443, 0.3590697354101586, 0.32039164949943283, 0.4625756795573247, 0.14594289262718166, 0.6568506064531547, 0.30429714666302876, 0.005019597901675215, 0.25801256809805295, 0.16447217662143349, 0.1371907530504729, 0.007330736608535686, 0.11557729825302403, 0.09354920064340279, 0.10418899372283255, 0.0020441678286715614, 0.1383860326644409, 0.0005497591703017335, 0.23728457084174118, 0.2761469095637949, 0.3195461197034216, 8.86471438263925e-05, 0.08510746893046688, 0.3751146581965079, 0.1679159619099574, 0.2719720690469657, 0.18921844902849222, 0.00814136862624082, 0.19875934671443196, 0.001690465490630684, 0.19871628718218895, 0.5444371867302116, 0.19137566138710518, 0.07751755685651787, 0.2300922477292104, 2.5957535910947627e-05, 0.0909719692327569, 0.19969497448400944, 0.16630201336588704, 0.3433596968328836, 0.13126095634528914, 0.0001271477095813164, 0.11495865751852426, 0.12932636442814882, 0.1922721700665649, 0.020279404853075295, 0.12323992867885958, 0.21966419897630243, 0.3081713592245356, 0.33765133030915545, 0.12678038206383813, 0.20370270985836253, 0.11261080605790852, 0.0005800026154767173, 0.2383348657694775, 0.2209230635661118, 0.3636752676680366, 0.4545223383853833, 0.6445853438732835, 0.04290564472871831, 0.21759323479761133, 0.29773465222270223, 0.2799877371445802, 0.04926198716548669, 0.22826098347065135, 0.17481178852429569, 0.1372971932274645, 0.0034635859576635903, 0.026736569411510723, 0.003929462981683392, 0.3493268813209705, 0.07968926180510608, 0.1296668162428208, 0.0007191836279869352, 0.1236524297550249, 0.003245683537283891, 0.1285373971513187, 0.016244980255106945, 0.19204538100130486, 0.2541469503017256, 0.2671720594498066, 0.002798111194231012, 0.0817779165152974, 0.10571084468698495, 0.15355610672279163, 0.0015721709777665183, 0.09249806096019852, 7.04231415625145e-05, 0.11083617563397304, 0.004612814562619983, 0.2821679668711788, 0.1565193676873637, 0.1580627767645577, 0.0010421817959386712, 0.08868151933921121, 0.018797196766575208, 0.3661172140533046, 0.15768668081519926, 0.16926437309588696, 0.10615688947680155, 0.11397145928716175, 0.2577918106022373, 0.2050655006487076, 0.3752731230411882, 0.14120033345439503, 0.36704073067092097, 0.11064688051864696, 0.24815064687286045, 0.4528352381518946, 0.12467499698254869, 0.22274135709886167, 0.18036571708957747, 0.03256041563457769, 0.0028422107959174396, 0.09538340069985995, 0.14933793172524298, 0.1646712702415502, 0.004032824528942249, 0.27534140405470225, 0.3450973958905789, 0.22998802751702452, 0.36352573056316834, 0.2230396262688051, 0.0019276566509206347, 0.28975415959354933, 0.1122399067862716, 0.2754243446567404, 0.10223959023304426, 0.11262617560478695, 0.28505445813630914, 0.23215390650356318, 0.007623275706666682, 0.22371951432462334, 0.006818836465936329, 0.09212623157440504, 0.00022845032972577486, 0.0625553991525949, 0.09630617454615664, 0.08479751177407352, 0.5425400741321588, 0.2401933914672774, 0.3764960694110383, 0.2403510646168287, 0.6330400089602333, 0.18644719144509714, 6.638036633148659e-05, 0.13272409100072177, 0.20567366061914072, 0.12292359046407662, 0.11946060678866388, 0.13079518750229188, 0.03814431717276665, 0.14208418449918286, 0.08192723274450839, 0.17094899223194535, 0.002627569498768269, 0.12697316521199217, 0.0696762183677787, 0.13452784467144302, 0.008878200368644588, 0.1250221161934061, 0.44892500235002647, 0.36179155429048543, 0.038792303257271975, 0.0984777801511514, 0.2403384784433754, 0.32190356676041093, 0.01938449835402878, 0.1775983690240511, 0.027630223357530657, 0.04992965695022731, 0.0038914867661787866, 0.24106475317294476, 0.137857318676204, 0.17996497784073495, 0.22132878355593485, 0.15492293750120947, 0.5486166511129509, 0.06536008055064467, 0.4411882027172059, 0.06627295875930625, 5.9175825070509643e-05, 0.26803365513249927, 0.2616940303404429, 0.17860390002594972, 0.638346491511181, 0.18828303480735853, 0.03088469553746336, 0.21293931416811937, 0.0688245446632673, 0.08330581112337443, 0.08326021903366766, 0.13370197770503642, 0.2497423719515725, 0.26947885505274677, 0.032466224860885025, 0.2711467143454499, 0.13204579047513626, 0.5452774365403457, 0.0005845922078492362, 0.15147162246221565, 0.26068702208760597, 0.2336194113994362, 0.22189080674682124, 0.168212688478188, 0.16491383614145258, 0.24314513583167308, 0.1897693836972191, 0.2294499812301725, 0.0021918599001461794, 0.2871422135983941, 0.0011634693032331394, 0.16839196886635877, 0.027097211587867303, 0.1379559700865531, 0.13839891349334468, 0.06429334250866879, 0.2156180981094938, 0.17871185379564958, 0.07385423801436748, 0.08784589849008423, 0.005912514024657867, 0.0689654534817558, 0.0069328085049471765, 0.09969474247013643, 0.1062246079066994, 0.13868703659111434, 0.33419336084145923, 0.20677300069462554, 0.3335284458328971, 0.14025611601523244, 0.004190306231362939, 0.3108879544867044, 0.002515100886301269, 0.11414174092333916, 0.33301858155319564, 0.32903845835739165, 0.1887388180481139, 0.22977176340028885, 0.0058049613683155915, 0.0968736445814058, 0.03720901596555202, 0.28521574471083166, 0.37854994271679976, 0.2938412196675719, 0.1679909424925775, 0.1467121917503334, 0.3398122664246587, 0.12259812759933182, 0.3068743114489081, 0.13072327902499248, 0.04555259940825825, 0.14402901136674603, 0.08977728448667363, 0.16490082332732162, 0.047387405515850745, 0.06298267445295104, 0.00016335939288230071, 0.20018559107223766, 0.10810178445821451, 0.12192237530791136, 0.016250127387081648, 0.10231463284202828, 0.0011283708258622888, 0.16679605325130822, 0.13042888409159856, 0.20518009250072186, 0.13530441393711293, 0.17570681047471023, 0.1780096785026044, 0.10852139699718258, 0.0326081348455668, 0.1146853638273183, 0.12671238424105769, 0.3785775508218958, 0.13934543521036874, 0.12079417753988772, 0.03129254223595775, 0.20196597158123245, 0.0013837434994213639, 0.08355435380883658, 0.0022792649948755184, 0.20820515030794695, 0.21754376690748245, 0.38173950632398085, 0.0545916944899556, 0.08262286817498046, 0.0755829326163722, 0.058689082702883665, 0.0031405009431264247, 0.10355199141527313, 0.0001560622188861771, 0.11565043874537935, 0.32019575900631025, 0.41275871169829154, 0.20418175848298728, 0.29067210382002334, 0.000996330948858877, 0.1328513400844076, 0.011232107592537555, 0.07704305840368417, 0.1061263748916862, 0.220840518331062, 0.018076314748193247, 0.12705315451706728, 0.012645411618130951, 0.15718798480889495, 0.04922378146911802, 0.14047723528735742, 0.052161681222520455, 0.15919061212647, 0.0931796492396744, 0.10081370490355518, 0.030747382315818566, 0.14227480624845923, 0.05095979248287036, 0.15675894023922332, 0.03735417352987093, 0.17062116762157636, 0.08347896489932996, 0.4113379758354225, 0.015484488155948384, 0.22153056691352566, 0.07726366962833235, 0.11333350137526227, 0.057525728032058784, 0.33051812428771643, 0.6780705923835436, 0.12069586023837336, 0.2673966910368727, 0.16770692110764823, 0.0024829878124981164, 0.1073879258779379, 0.2290450920642959, 0.21813732656943924, 0.005224465901175808, 0.16409252235501312, 0.0003092372631215312, 0.31072790280179563, 0.04260643349471138, 0.23730444854316507, 0.21181201045678844, 0.11388422529323552, 0.03690074825029418, 0.2299647399632537, 0.01578823897489201, 0.1383288868283188, 0.0004093761496776998, 0.0364200101886787, 0.0767907454781238, 0.20915493439053987, 0.308044852843603, 0.21395704978438798, 0.0007057247381534953, 0.11377937816281897, 0.0004276093620855396, 0.15083715182779192, 0.0028720870437261015, 0.1309294187997319, 0.31297135240330276, 0.2772562060236892, 0.06890708911094301, 0.2513156365131557, 0.0004564590649263067, 0.2575591381179371, 0.12276883542187988, 0.21677253091388618, 0.046359135158412036, 0.31830986297339464, 0.02999396726176232, 0.21676713838480244, 0.05057976381486798, 0.2509438794232617, 0.013649212068659778, 0.26386884855780446, 0.005483413153991085, 0.2491130717910795, 0.012389938060153842, 0.17249386814079254, 0.0029608415188704384, 0.29933176750449875, 0.026983590230075707, 0.2035261763142319, 0.02674347519860021, 0.12286801571819475, 0.3619007499725988, 0.18030580855312198, 0.0014132009711829597, 0.19945140956566396, 0.051357180704303576, 0.09688811254016068, 0.07840298060511519, 0.1815555351991794, 3.894809242410702e-05, 0.1680128306754341, 0.0010652524978070233, 0.21467417226091015, 0.0022674583261468634, 0.3067247524537324, 0.30370371605036706, 0.16473230160074726, 0.19641662975063431, 0.25637872142658424, 0.004783631312238868, 0.1297301583157487, 0.0010659439396555116, 0.39104403071252203, 0.2010483322840931, 0.3765769318166804, 0.17849539615491494, 0.14502582020671603, 0.02186232900712639, 0.21604982269241643, 0.006100298231444867, 0.03658293316406505, 0.2914190601790387, 0.12467217633502112, 0.31170865486755966, 0.09228450364993378, 0.42856234939060095, 0.18611327669003716, 0.027082175416116898, 0.09176147638663504, 0.28172634494701787, 0.030511275680809448, 0.028869459858856316, 0.1535947303094436, 0.22630118974380561, 0.09018907331828814, 0.01757448540647033, 0.2135957913260176, 0.4725377910206309, 0.4183188958727442, 0.39386426776348216, 0.4523717405712121, 0.10247218067414766, 0.19259636664339072, 0.13978522358168605, 0.23418009384965052, 0.1091757119256507, 0.16914783376163886, 0.014811806772797587, 0.27383403454567007, 0.04568489355251712, 0.2577069412195469, 0.006158323448679377, 0.025478585895597327, 0.2444259936024436, 0.1925614149005094, 0.23351683102445844, 0.1342709025997188, 0.0990265986775353, 0.08373807452685317, 0.0023311348797709465, 0.12427780894704199, 0.24539700665578, 0.26475493008825157, 0.0008315350830173429, 0.10295191222584692, 0.023255979846311448, 0.17488624075148415, 0.2159017196586177, 0.14723421456545127, 0.2224878787044986, 0.24181009159897052, 0.026969112842158083, 0.07749383191604606, 0.45613800658186, 0.31298572819266596, 0.07264558047240659, 0.3113659186432155, 0.0003347580584125616, 0.12397228859907987, 0.0068490456034156376, 0.1542389867178671, 0.0024788376589697236, 0.12689381321815196, 0.02200938858816433, 0.29877347273263277, 0.023402487170278954, 0.3170576433641037, 0.006128929108172088, 0.11492366576617834, 0.004553602421409941, 0.20471454932235522, 0.6759313963291297, 0.12320817171308662, 0.3629950573306935, 0.23935078597361537, 0.00555888672354636, 0.05679958329905553, 0.058561560629186715, 0.15023836868029425, 0.09843552844708398, 0.2921381247716411, 0.17774754842154863, 0.2669163201107117, 0.42263602218597335, 0.21343581691903513, 0.07738762612825667, 0.24725900709066653, 0.3450057023367202, 0.2001001501855017, 0.043446775063526004, 0.17729311002694903, 0.6761219549231263, 0.18740355864693894, 0.1419897024464452, 0.1099595702603705, 0.009043326077597058, 0.21736477416582795, 0.18570602345972986, 0.2837673733643167, 0.006903327167258055, 0.19877582726365617, 0.11359085731141426, 0.24197190416465197, 0.38369393300331867, 0.18060385607013954, 0.016128906457367975, 0.07672263555001353, 0.07582829402719209, 0.07215425061491161, 0.18662251656028275, 0.09631997851617768, 0.16581893071638534, 0.20481724069492518, 0.2967187344071712, 0.2363924633788813, 0.0017375671089136329, 0.15884211055054168, 0.028366542265575844, 0.14772357492625585, 0.0066566772443278615, 0.10518121516013873, 0.02776954454902123, 0.08940543758360055, 0.04552166883066873, 0.171325762457039, 0.03255685381412453, 0.2962348467941233, 0.007408551970466332, 0.09413204535211384, 0.3285705686132019, 0.06448894207447123, 0.004011721979581621, 0.17071084347759924, 3.633279661841016e-05, 0.12898916933203824, 0.0007674906975459551, 0.051261660972098375, 0.06329115486614934, 0.1741174375250006, 0.0006449521421131976, 0.22728273920008107, 0.07805387246124312, 0.23586149436892612, 0.0003053344618208736, 0.1369143536095348, 0.0002564207242925498, 0.1587217783610787, 0.15930758821171673, 0.25722413199702765, 0.1347234918555204, 0.23968699466746382, 0.28198648558139894, 0.14865914241268066, 0.007068464956837772, 0.11824871044905279, 0.0627260401485976, 0.13945247427027677, 0.04519891336137918, 0.21743234180959892, 0.05654290223664463, 0.2706531876317378, 0.058400861885361234, 0.2504865761506528, 0.0008386546521705895, 0.22323184274064414, 0.0003083421971344554, 0.23088737990385966, 0.24342893342700714, 0.07110709850686864, 0.004883918277218155, 0.24406980303293555, 0.4086439039729157, 0.2397564932979923, 0.007188493119299005, 0.21102861986619872, 0.05106729630403838, 0.07574687263259545, 0.028454748532518614, 0.05832951610537887, 0.07981837411742232, 0.11165647098019804, 0.3079965305180719, 0.1668451268725485, 0.024802945075822654, 0.16670528332909182, 0.0647075808642323, 0.286293326333739, 0.32091421517644936, 0.17307282823351122, 0.12852884436344741, 0.2545826335391981, 0.34067972501118976, 0.46919610064859235, 0.002604075682672725, 0.1913014098779088, 0.41819614888383794, 0.37218279134972365, 2.3094425463808322e-05, 0.221351326536877, 0.44566829044688805, 0.20734074483967121, 7.188257049950408e-05, 0.4094311415878956, 0.022656157386159573, 0.09670180184881312, 0.017628782263879355, 0.1293549155670825, 0.48103955729889364, 0.2721604327594853, 0.37186869140419854, 0.2990416725681036, 0.04826731802147118, 0.17297640607140838, 0.0003581476270093325, 0.12844154882245837, 0.36086247176841274, 0.18505887335095395, 0.3062721715842425, 0.2799591075404707, 0.17967645647295286, 0.21797884363666287, 0.012315713786320792, 0.22515531456223112, 0.09940985784038503, 0.28749529083435793, 0.01957821907380719, 0.2201206448308334, 0.0412314993126262, 0.17023182252777658, 0.0011101023943983332, 0.11112278092131822, 0.19243594645821657, 0.2344990816133263, 0.13361048864634562, 0.11910074219097452, 0.3439554829704079, 0.1395628073312281, 0.0028138389721618752, 0.22299205881101053, 0.15052969171920266, 0.2159641885206832, 0.15008709689702826, 0.28424393967963346, 0.29280358939634726, 0.11568949937075311, 0.14158746954443505, 0.2534656816570184, 0.002906407841317783, 0.24149236920860553, 0.007607324043217112, 0.11685664751504804, 0.11777652394159178, 0.05687616736492647, 0.00022627437014599572, 0.1766829472512047, 0.003942772304552022, 0.17904458716501462, 0.4898942540274878, 0.2505833580102074, 0.07225107875918198, 0.4366645756382101, 0.3655855844797223, 0.2435635563635933, 0.09406313059925538, 0.23350617534182627, 0.23423715912197926, 0.30700796417270143, 0.002706902188681859, 0.258646341799341, 0.06399294540472056, 0.15569753137647185, 1.4227066614136419e-05, 0.13079180914944277, 2.6105101180411746e-06, 0.18038234603213857, 0.07590092877719527, 0.18645700147248384, 0.01832059416985926, 0.23003021065588855, 0.008668583197348312, 0.1816189635586237, 0.020264396153379494, 0.1977741178911407, 0.0016839155997234098, 0.13849603623232706, 0.4018214270812071, 0.3442421686834223, 0.0434851815522216, 0.3281093018581629, 0.01868248980310289, 0.0497708903996675, 0.3796534945079298, 0.21254311551956442, 0.0004290969684109062, 0.17159304505625422, 0.35967422643481467, 0.23743721635940196, 0.015738957287404532, 0.11520020375025755, 0.006184351133635839, 0.25803822438369456, 0.06817107019536595, 0.35798663808493625, 0.030629588704882988, 0.17813864795870263, 0.0006065581826616904, 0.1454924799447456, 0.09025119889545749, 0.08410111131935502, 0.049725446895142675, 0.11770424859381047, 0.038851844182395824, 0.2027675945879275, 9.140562213105774e-05, 0.32553386152556174, 0.008906976528161673, 0.2061504685001413, 0.1609150743326089, 0.1632738151570392, 0.09713744936851372, 0.369844595137518, 0.37750481593724916, 0.18186401028622345, 0.0005274747267175631, 0.09578135835170294, 0.23123363214529474, 0.16655402116946647, 0.1764803859179092, 0.08128336351399147, 0.2982967424872271, 0.20412408216401248, 0.36123747993818256, 0.23291823022408492, 0.0003285970410778256, 0.09081600726859688, 0.010635880436815634, 0.26355449622482513, 0.17453091524627523, 0.16411560546615736, 0.018350387151940595, 0.11035984620125994, 0.09530588822957581, 0.2277725686172172, 0.11408778211639639, 0.33963622375549446, 0.07763044083561306, 0.14751722282054977, 0.23843205025499803, 0.4176059276245715, 0.1820909414878842, 0.08331148167077256, 0.017084691376729397, 0.3198091211596808, 0.008138918617476065, 0.27144405476605155, 0.22758115355187752, 0.17804124218168108, 0.34028653377154683, 0.1769387724404568, 0.2578375537628744, 0.12508867728119, 0.5266088630471911, 0.5476899658847527, 0.10937148899578486, 0.3164470711446521, 0.05720376961664897, 0.3310327613782776, 0.18007300415063515, 0.1939042871755657, 0.02903249333736719, 0.1572282777653891, 0.000238166297663156, 0.2351540535296408, 0.27645944925672156, 0.1183205021089934, 0.25175832126494485, 0.1947022486380714, 0.00875976199521114, 0.20725013377597606, 0.001399650653768601, 0.33877478908469977, 0.09054600578278699, 0.3856044024600749, 0.3497244151678842, 0.08577740380893088, 9.802075991327541e-06, 0.1787612674405015, 0.021626301869938896, 0.1974271167501468, 0.2312227920966089, 0.22729025220909213, 0.1477989257926279, 0.2148210467691358, 0.0008545164654378823, 0.061247554538744295, 0.003213116539228622, 0.17337515148627194, 0.03163166344674866, 0.2765922750978526, 0.08109470902409555, 0.10764203484058786, 0.015554582064339684, 0.23548988323223616, 0.4413409925046011, 0.4660938303840789, 0.0005941106365270343, 0.21437778719631556, 0.028035414314662863, 0.13043729705255316, 0.006021627483318726, 0.14060010409902665, 0.0012471708243465076, 0.12138819111282087, 0.15314303508836247, 0.20934682648557512, 0.050276452840939276, 0.28251656255933993, 0.03167330726646216, 0.12595100709285026, 0.41388792587677015, 0.35167522380810456, 0.2730428653370609, 0.18522309440261253, 0.283010819755061, 0.195158719036227, 0.26473889445643994, 0.3089392327273913, 0.4426131238524988, 0.36662815430482765, 0.004124623552932051, 0.08540250229538326, 0.30574438365308343, 0.1992797537894527, 0.041903831761794824, 0.2889207781891865, 0.2737885571371461, 0.42181990922015755, 0.007653716485302963, 0.15710257031616207, 0.11085291394301748, 0.10406377732004382, 0.31136846045543126, 0.32717498906417186, 0.07348591671199688, 0.19356938109914823, 0.0015809175844305498, 0.29465321457465277, 0.03467036506483561, 0.08957187251877885, 0.08644745746905548, 0.08955964868947891, 0.05263817480769061, 0.19258851056492063, 0.001146362376605679, 0.0879649802170149, 0.011029283663638978, 0.12906481825922764, 0.1444757900606098, 0.1528979478698692, 0.1734396566819844, 0.205533015636204, 0.31696592529872475, 0.285839042514768, 0.002978712123423171, 0.18377729560578107, 0.09211659099398989, 0.22385518623227832, 0.24834534752544776, 0.1970166703502849, 0.17369025339529834, 0.17299130196523296, 0.10775744925967956, 0.22309195472179352, 0.1133326392257284, 0.13161919478059764, 0.3736227908617154, 0.28412885796349097, 0.32566048928888736, 0.18212554159810643, 0.0004829180232030415, 0.17929994614451203, 0.03275215720210175, 0.21867393371566182, 0.039666103265672756, 0.38958709907963013, 0.17342229188322733, 0.1047965936575042, 0.05802543255147915, 0.14645197340868926, 0.03579916748458345, 0.33327600282707, 0.0014751870250506727, 0.1435361684047186, 0.024402212628761584, 0.2468472071412793, 0.011620450514124414, 0.2021095327061522, 0.0002723018794407395, 0.03913801592476223, 0.2510547245460692, 0.15337089902621565, 0.1589167862942174, 0.08610734922792763, 7.724256787753348e-05, 0.19175774043197294, 0.193964079507622, 0.1863590656880126, 0.10834883955459487, 0.15585866870005133, 0.0561669268961341, 0.1391940649771618, 0.04477181600641463, 0.31069224029727444, 0.25225480515509846, 0.33506225906603504, 0.01719361273423298, 0.16122573961922906, 0.27638174263654175, 0.42558755290051314, 0.36286178086823906, 0.16890658654638588, 0.21408120779214138, 0.2993078525940731, 0.019095842031993725, 0.13821918624276286, 0.005003578186529012, 0.31439362642003976, 0.2759760591431101, 0.25846881006413847, 0.2532507832787232, 0.08442855122662829, 0.30853905035897095, 0.14576530327271658, 0.14117541917827303, 0.13132562494363004, 0.05886377786891199, 0.13906006038969146, 0.2831871620896133, 0.31848745389345745, 0.08250442022116526, 0.25602755300955754, 0.002485783973531497, 0.18784850270795864, 0.4097162191477158, 0.23711496043535576, 0.0022200727022074966, 0.13755270156984378, 0.21901491810372978, 0.18534198910161245, 0.003009753146367681, 0.23510263686750965, 0.08787988376332123, 0.11781375390018584, 0.6723353410324207, 0.19377900966526235, 0.07758378897864192, 0.09128419524001564, 0.20123179228854374, 0.18220059348832202, 0.3238029001218365, 0.24694015780077594, 0.11980990266018766, 0.2060891369979573, 0.02556328186010881, 0.12001645014008841, 0.09980371992993457, 0.21018810702850177, 0.014146529621551185, 0.05821415268102566, 0.1005212936442415, 0.25680922832748365, 0.23797058093627152, 0.33089612331553975, 0.20233722410033012, 0.17527625329387234, 0.5443757654528192, 0.20631147722791837, 0.21889945433249589, 0.09656955147213024, 0.24709485915797422, 0.045620754576124585, 0.11512064853563117, 0.20606751079192212, 0.0014422331778753406, 0.3709543291610532, 4.465988834462758e-05, 0.2663572028171209, 0.5319735208513454, 0.1586793706050272, 0.1241277067843427, 0.16817887345003704, 0.13997030735099686, 0.26363893253481163, 0.14046021143512752, 0.18518481532632602, 0.061791483956148516, 0.28666570657856455, 0.048938920983263495, 0.2574129769314594, 0.1552557070273711, 0.2545115808179232, 0.2946902721020403, 0.418762455657657, 0.3106408260260764, 0.304027469274992, 0.033004971734994136, 0.2229697577562888, 0.025703916259692636, 0.1485138387723195, 0.09948368367945983, 0.4460643762735536, 0.09614178629771772, 0.13592908865164766, 0.3952000781840373, 0.4173679418153269, 0.019143562418329152, 0.1701593078099015, 0.017803395508209974, 0.11390069411084516, 0.009692969524744263, 0.09768871818134212, 0.004705295227882643, 0.13923936997761194, 0.22992745314774346, 0.19639722315949845, 0.1657208886304457, 0.26409645886486033, 0.30467560318216813, 0.25306138364322855, 0.054743309494204535, 0.33227339802723443, 0.26241312564197455, 0.14141056605953378, 0.0010512306031387197, 0.23069787630910116, 2.378384643151321e-05, 0.17763447299258375, 1.4749933759463017e-06, 0.1750620369755139, 0.01161038881203543, 0.10462341194990915, 0.0005559919852125006, 0.3431161963771549, 0.13186735132880462, 0.21497501227695504, 0.2753730226323228, 0.15850391344706782, 0.041106697062420615, 0.10600957099418634, 0.05572070825579753, 0.08610763321910844, 0.14425114873322406, 0.2548766106084628, 0.016106331495268685, 0.11009570744535131, 0.07788378393282465, 0.12642984734158277, 0.06733357233086171, 0.11650274102628777, 0.004094724054696668, 0.2700980472403123, 0.27436161374697576, 0.3038556806095834, 0.04103650553151965, 0.272488378452038, 0.0025889829466750184, 0.2716951463950189, 0.0017352023377444287, 0.12459489770908906, 0.2961145394787353, 0.07095371983898648, 0.5887898402704695, 0.27149007505570305, 0.011522196105880057, 0.17806446097020828, 0.6414932306809523, 0.09868741563249195, 0.12235395875766386, 0.20468160712684993, 0.2137092449314622, 0.10760804895932621, 0.6170526814043735, 0.06762384311158234, 0.0015699662141707453, 0.2268629876099765, 0.028007070663779114, 0.21052921408914677, 0.05584060366720678, 0.08936034170789724, 0.3924596468081897, 0.30425846872367757, 0.05236524552406185, 0.10471327604541869, 0.04969264800277813, 0.12206562514305436, 0.04196835934919818, 0.12257780595242228, 0.2793333954166877, 0.2719782770231388, 0.3211410618109848, 0.35003082512381417, 0.03959862037090016, 0.09011753783283744, 0.007057793809784536, 0.0961869827587845, 0.06010129467285878, 0.08246441723253826, 0.1527480125986454, 0.2810389805754697, 0.4228503012726089, 0.1534981662446648, 0.1371248737391792, 0.31134416239035095, 0.04593578000870414, 0.05039610531811789, 0.32713566847246245, 0.15267232172078143, 0.39447602731524967, 0.08225864047049913, 0.0025864321507261443, 0.18178126644778206, 0.039521794781294445, 0.24728878284742828, 0.37439467530912546, 0.259025651339112, 0.0003676953731440354, 0.08799862147619629, 0.024217886616498062, 0.31941529624928083, 0.6295472325618411, 0.1419686723173277, 0.031508523361957766, 0.237203077397719, 0.2968250638533333, 0.288436802495489, 0.009170688407371367, 0.1606133208494962, 0.16286768830670276, 0.14637998140432157, 0.2972696559754776, 0.2121184768418631, 5.859298327474486e-05, 0.19423229841496972, 0.024245257367076854, 0.13465149485846672, 0.1834766880907226, 0.2838388560462749, 0.00022381247276825889, 0.4917905945669298, 0.3759031690100362, 0.27107251146231426, 0.42862412575039555, 0.23412225780728813, 0.25338582516718794, 0.15256722254531058, 0.13507830328264525, 0.267656355153599, 0.025006954091767595, 0.14997364955160183, 0.001226228422725613, 0.15810822995677248, 0.29156136833305724, 0.19474562501955658, 0.001961152385047171, 0.13398296493445677, 0.027802655301366032, 0.22936621657964185, 0.34334562202575336, 0.05202661190104827, 0.009918991931304586, 0.3801074358190674, 0.00180431367489291, 0.03706949931754821, 0.04110081959668817, 0.3102540176366427, 0.0037005400246220787, 0.13777846502385002, 0.24532280978385698, 0.2986865686072547, 0.33751536153623474, 0.14362993181114703, 0.15974972794564174, 0.22048569878946486, 0.2936475171229206, 0.17494578463419103, 0.28035419923412713, 0.17571474554912847, 0.35769171907551506, 0.19395736851158388, 0.21658659380198816, 0.18641094341622808, 0.09410309008444528, 0.15837829742237924, 0.13679010551457793, 0.16723816082153714, 0.0010867853050433337, 0.1814763593105061, 0.07296574186734182, 0.17503807366527532, 0.746724977559914, 0.09550282313371608, 0.19142138028261493, 0.2847527410133262, 0.17846955984338642, 0.17557432672953197, 0.0798235512621405, 0.07471422849662654, 0.14107895547523222, 0.1999167705160888, 0.14880925361064784, 0.26398711523090834, 0.21178174102253328, 0.25771649423680776, 0.003143353401341642, 0.16094632615298538, 0.03008642199646437, 0.2935495055052592, 0.013903778890380636, 0.12587493368236874, 0.10229890452064865, 0.14921443924653827, 0.09177079765121714, 0.12775513764077717, 0.00031693743531890917, 0.06457067820279001, 0.0419770835241934, 0.22265158030150609, 0.09513804722355314, 0.21298789804774895, 0.30466028445796, 0.27948614222288354, 0.011468102147079762, 0.052446127923174164, 0.04552150969029894, 0.10125054711270078, 0.042362096866328615, 0.12294878927071048, 0.02221925692025389, 0.18160416604521412, 0.2676176836720855, 0.21220876017684165, 0.3599872541255374, 0.1585196255363493, 0.0034790161148089637, 0.3534526036809054, 0.0006812185884150779, 0.17539812656540757, 0.0023479529332289437, 0.30820840726749005, 0.004754566405123776, 0.2220618963671117, 0.20583150507281023, 0.15400122463506827, 0.10592231907790381, 0.05510639022229307, 0.3242118461358672, 0.2579771029742813, 0.07234159548692665, 0.12368989737934113, 0.07156170458682078, 0.172135386237997, 0.032081616664875065, 0.36193980768355705, 0.09994350683051678, 0.2943571092328647, 0.14568534140362938, 0.15542396838617709, 0.01443694197489374, 0.16983912454712027, 0.029331034020287916, 0.24174168566890072, 0.00035262072793607047, 0.2845529669589622, 0.10680798050520002, 0.14116234406412054, 0.003132531683579032, 0.07381251479657117, 0.11099200603340519, 0.08560939156706175, 0.004100435567947395, 0.06041370030132468, 0.280408637373774, 0.16013214547533366, 0.25613658503570846, 0.060585663331695225, 0.3987692194927677, 0.1434456532376352, 0.0578358378472298, 0.09338899393893361, 0.26285552456394157, 0.2662560804255379, 0.3213367417628888, 0.11350607394761056, 0.03405850493823051, 0.20383518770206774, 0.004288740530780417, 0.29616234342637526, 0.4077898326042965, 0.26551497385689266, 0.07165594321401159, 0.15224541293983843, 0.07975938381350539, 0.09332129177660489, 0.0007409911813134329, 0.09159857535458094, 0.01735798255286151, 0.1315122766278429, 0.25861762973135577, 0.1449332622802351, 0.0014397151870824132, 0.06771992297007791, 0.0014438487661625724, 0.1719956204102553, 0.27465254326339644, 0.3404100328643175, 0.06477301241500773, 0.3062000650632617, 0.010139998805243522, 0.10778610688918992, 0.3847276004912601, 0.311477420265451, 7.281860270798764e-05, 0.28211178194273523, 0.006867959272316426, 0.27679966824483326, 0.05974032687866329, 0.11350657495314267, 0.565951371613986, 0.16557284329130012, 0.4034488698551968, 0.17452518421758179, 0.06710579858423918, 0.1220896182989565, 0.30739563273608184, 0.26412958835315664, 0.05574406506387959, 0.12014210192203337, 0.002053047128410664, 0.23071423250693898, 0.003514919624043008, 0.10917695339353749, 0.05637264974911697, 0.14365166035153096, 0.27334227159623303, 0.2308340826382164, 0.35568705181374205, 0.19434946049282031, 0.4880815578830259, 0.2518708815035883, 0.026262553045957777, 0.27126885669174644, 0.05513780393066787, 0.213454982761916, 0.018215473565167766, 0.07647376267755711, 0.0032114443190804113, 0.11763214859803056, 0.28488992072652763, 0.41324740417044736, 0.05151092356452028, 0.4087019988797013, 0.34337383031582897, 0.23156105499322335, 0.31368481777627155, 0.13853333386189212, 0.007517077615722653, 0.33770267601233217, 0.12052528879660862, 0.3477155669783704, 0.0008888030385302651, 0.07803481128331996, 0.2670494829823724, 0.1929939344862763, 0.09811084569227832, 0.1617785933188356, 0.010067333490405872, 0.3261594211805275, 0.000764013388626036, 0.2315126224369397, 0.001996253416889844, 0.1777615386516445, 0.34604478440835684, 0.1367381926186689, 0.20999767234165428, 0.40902267700572303, 0.3011602454568371, 0.2758528625784906, 0.2731021469082717, 0.2040930303306673, 0.09666787509268654, 0.14404014429868436, 0.0003668498516032348, 0.17116996661692643, 0.20849544535142017, 0.2162009216406924, 0.3029148418400685, 0.29657566184301976, 0.0015193716485804032, 0.10901084138036433, 0.3008937266315245, 0.17473573027959097, 0.01125993093551525, 0.18091837878454858, 0.07721542708157778, 0.14258767597880082, 0.051527966598561646, 0.20340180075075642, 0.661131200119733, 0.14665107059466792, 0.0007266777963857087, 0.23510251494781356, 0.3366915511061491, 0.2734186717878397, 0.3478314486245296, 0.17953282413425858, 0.07776753990507049, 0.09061103499528499, 0.016166780741014988, 0.1710654727476958, 0.3745036915454761, 0.2087928017363837, 0.18421802427573084, 0.2696050571326673, 0.21324218548750196, 0.24178776296493965, 0.0010042094710830238, 0.19050786770845662, 0.018434810281982208, 0.14039331855085732, 0.1856001367512295, 0.16302489281292015, 0.10990597696438797, 0.3390617391241746, 0.30766435906367073, 0.26372803387795296, 0.04045192492159393, 0.15494450309023067, 0.08326532504992097, 0.033335152548882245, 0.009522973703298021, 0.25351959917103584, 0.09201714508650091, 0.04370070419384681, 0.25561885907122994, 0.3478742642176988, 0.4021929953515233, 0.1440031137346455, 0.6634166352173788, 0.26463895478888955, 0.0008755487007420015, 0.18190993322341384, 0.3057362394398293, 0.1720528929535566, 0.5843936806459289, 0.2611882369088214, 0.3223774964013425, 0.19711651436944747, 0.014899948371191525, 0.17868574038630736, 0.17257757543485167, 0.24760773285630824, 0.0189534017547885, 0.15181307673816036, 0.006863162417846878, 0.07609196224701552, 0.3534414666862641, 0.12453944150708054, 0.4411324324454837, 0.24380915471507755, 0.3841723732928794, 0.2771877875501746, 0.058120393300599135, 0.16727765808334372, 0.30113635827993246, 0.2059238363850285, 0.0014661630026139294, 0.19926887548952912, 0.2820494265057505, 0.16360101379202902, 0.00197764123802339, 0.1422624659179489, 0.13529780375072356, 0.17879163186633187, 0.0026877613781104673, 0.2766006614276775, 0.00013957650505247443, 0.08776178383155965, 0.002716767446266033, 0.106213009953276, 0.20812277339872606, 0.2611384941916299, 0.2565049312905103, 0.2692393550583878, 0.01709115639800037, 0.14556200538054326, 0.23199995975323873, 0.20387055382538444, 0.20963785940535332, 0.12019652667701089, 0.014723970708535816, 0.06569767894030364, 0.09805723730548953, 0.2022573862155478, 0.2725839548363179, 0.1504107392690912, 0.006130962548468233, 0.11442695919345779, 0.02906390982628615, 0.11387419118889044, 0.26109186182462124, 0.14886408829199138, 0.0011236381423486818, 0.15491837020225738, 0.05585217880553291, 0.1912734367938082, 0.35828815167549294, 0.12495230005064162, 0.17895778788687147, 0.18314922536598724, 0.2875917305362034, 0.3094503511270972, 0.02790177449612036, 0.17594917354065293, 0.3110651808673424, 0.2012693191296857, 0.10574121366880718, 0.15417807445791334, 0.19268245050287935, 0.3495273241554925, 0.29930723934093756, 0.0903720197056976, 0.00027568613345465567, 0.1825969755652338, 0.0051459470433978804, 0.07507459287866307, 0.08799395159266628, 0.08439702510356954, 0.0014913049626749774, 0.16297282654433148, 0.07129142562095839, 0.16188559907772332, 0.06327695135222534, 0.09320446522132303, 0.24104517369378778, 0.2801572727373897, 0.2344921370409536, 0.29366505263664977, 0.00024019862970211156, 0.10948851884118264, 0.41765134651213887, 0.5205801686507868, 0.022711554992439306, 0.10148933304828706, 0.0826941104907983, 0.13279241915226964, 0.21464564691281396, 0.20807766660085722, 0.13462502123502418, 0.35543500002428735, 0.0004852604363784331, 0.06399839210057251, 0.002003502545675118, 0.1242559096361809, 0.0001686987148197261, 0.10724221738912558, 0.267791357078597, 0.2715374165271697, 0.011329233218268397, 0.20915443720965587, 0.2613916214401331, 0.19771114784166935, 0.0050639249807318265, 0.29258653223045117, 0.0004924625785160212, 0.23743270708523959, 0.10651826315491067, 0.12161819843802776, 0.21256945438387145, 0.19418023838844203, 0.0025159717585898633, 0.26167187031786526, 0.20262998337482557, 0.31164474493335903, 0.014263371744345932, 0.2106035351278944, 0.0052665137850927595, 0.05129914868642789, 0.7389718538224495, 0.2126311402961374, 0.11093622856134051, 0.27077833903605353, 0.004650433772211748, 0.1710608696521396, 0.2409956662362589, 0.11081693147082436, 0.001758718114398941, 0.16993205836765837, 0.011836264660208448, 0.21858648765227776, 0.10441817161927247, 0.10510631370454729, 0.016689772170562063, 0.11483086953427663, 0.00029756921956024403, 0.17048690310064793, 0.05007149183811548, 0.212582143774017, 0.267830452529622, 0.2155705392505425, 0.03365902683889388, 0.17801796347132437, 0.3085484783499078, 0.21940805479553505, 0.14382285076217727, 0.22198840182807622, 0.30131010831939026, 0.25940882435604445, 0.5957262586036773, 0.2873144697518755, 0.0014264930223397698, 0.18919062650041327, 0.0320074835472547, 0.10704290070015159, 0.3201578493675164, 0.2738701492076719, 0.07272557748328837, 0.12971456491735628, 0.06844726761405202, 0.09571460654635479, 0.2255489681775984, 0.18390595705521942, 0.15618036278485967, 0.16276027815818203, 0.3026804642625975, 0.2037622780921725, 0.10042655731229644, 0.22758088652265518, 0.35241605972813583, 0.07826324292367606, 0.002726116095999487, 0.24502790426937185, 3.50799142552205e-05, 0.3029417021963506, 0.41646577283972874, 0.3263984347191153, 0.0014260372348707682, 0.21987635744639075, 0.0007966709784279491, 0.19890287765278034, 0.012747291654036985, 0.24669886151981402, 0.06334487387294985, 0.19754354039203068, 0.015328125723302726, 0.24576902319774446, 0.021040351072956518, 0.07385639214750347, 0.10926338922468738, 0.18629450278901385, 0.003963572348688806, 0.19793112227003282, 0.0009159163289311322, 0.22999532458682378, 0.005121163475632784, 0.16142330271778627, 0.03444588311188458, 0.09406221987336852, 0.00013399452590030187, 0.11834314481204718, 0.04066287085133534, 0.08804426523496432, 0.01271553528395513, 0.2815464129465781, 0.3992987124108021, 0.22070543476932158, 0.002834576330182396, 0.1396990415388419, 0.03454330491953235, 0.11027010179404059, 0.1450934466057723, 0.2672013789590329, 0.11577219357288489, 0.18761825616028252, 0.22368590527846213, 0.12172283967008288, 0.0441027310392883, 0.1608360839817577, 0.0005337107938665042, 0.2505397899175836, 0.005844850981537258, 0.16886815855213436, 0.0036834071799214385, 0.08786080023544493, 0.17307227086570898, 0.10095544773892864, 0.07035645554753955, 0.1990034076828178, 0.052549159173188066, 0.13478156358630072, 0.6143047309760908, 0.13410592271928864, 0.13934432915244477, 0.1489299758998696, 5.9865427533623e-05, 0.2564388562373682, 0.17277054576904696, 0.3038055990517807, 0.006453274129664909, 0.2320690971543931, 0.4195821997118635, 0.25027699478980264, 0.4111870309695715, 0.1892427030271977, 0.06687056453332679, 0.14654237969206252, 0.0020835498735016036, 0.1524666388205267, 0.15482798652382712, 0.11156040932177509, 0.012837385754466397, 0.24888899964823036, 0.11527200949521185, 0.12292197934006281, 0.07488211540458099, 0.29390007456445166, 0.03126132755850599, 0.14292782625414066, 0.03389346824741324, 0.13573646414962795, 0.20028168570223617, 0.2551348471701348, 0.00035766854296293005, 0.11779558839580019, 0.0023639168935005728, 0.1778448572921434, 0.08342756149635117, 0.11281986957870575, 0.20731825864573533, 0.0792731096051482, 0.06517849899358827, 0.08911303663238099, 0.009237110405266868, 0.15521098167193884, 0.17474614379860118, 0.20675330592215238, 0.09710392301960472, 0.26406986668193677, 0.033695566082315054, 0.1710741240554101, 0.29674492121197776, 0.11324132644599519, 0.09475724574076594, 0.13247856979121714, 0.07740504807037354, 0.15090837489463294, 0.5810516403094109, 0.06760905905623993, 0.03941084694264916, 0.16245292077176068, 0.23767098022726538, 0.18359795518170108, 0.03327641281119241, 0.16789369230401086, 0.3006253205230725, 0.23663666373375236, 0.02208666820687923, 0.06004409831714069, 0.021915506541707448, 0.11053490032068529, 0.20647456349713472, 0.10321268617402163, 0.2896595887716898, 0.14102977193006522, 0.0006526888398295702, 0.15174026998776305, 0.033290029322870396, 0.17515462363935919, 0.18148366837080435, 0.16829135810135556, 0.04243630247446818, 0.20824752280466896, 0.009880270510848277, 0.08538832657377483, 0.11461726584465479, 0.17858021684003506, 0.17443490047571686, 0.21046101575088366, 0.011239099110142092, 0.3320971645630821, 0.08497301032790953, 0.3000947382052326, 0.02041488734851425, 0.130765754777382, 0.01318405467587912, 0.09360906371426743, 0.007685367570611372, 0.1344845676597955, 0.1576498924335153, 0.11695546700570958, 0.00014376722948365264, 0.129056598806422, 0.15144981703605254, 0.14334678068202594, 0.045445584980825515, 0.13234620362071886, 0.10848368519490847, 0.22418551518044744, 0.0016203876884781643, 0.254891888867244, 0.04240641163610585, 0.09837435935220107, 0.0011392966841300678, 0.26713717455929403, 0.03164399682950049, 0.1750483116106112, 0.028923960911217565, 0.2303053752078992, 0.00024071652240746516, 0.18205601635569332, 0.05174914259175978, 0.08334714440679312, 0.24874807918422637, 0.256927032486249, 3.3239903871162824e-05, 0.1948003540900085, 0.22528910487674933, 0.34547414244795416, 0.2689360649663918, 0.22251135113698509, 0.00677000449455818, 0.21853565328591962, 0.005744099983568655, 0.07082040452647265, 0.15537460507894138, 0.25653530915518985, 0.033531904289911325, 0.19384354348353275, 0.17945033704892113, 0.10563917772361653, 0.33635507359128525, 0.20955503753248125, 0.19850042604092655, 0.28193006289674627, 0.13199499860991393, 0.13530563685996305, 0.06535357009740367, 0.20889001176416855, 0.1412512075692831, 0.043149883518469274, 0.33484648268757966, 0.19667220469178034, 0.23870663741449374, 0.12454593346477703, 0.20437089640404907, 0.23261153277641225, 0.001642876280941301, 0.04152605999931175, 0.0001290824814456452, 0.15193913231897663, 0.00170425394280862, 0.20199449297447594, 0.008705543728669655, 0.07264882890603329, 0.03711391975419899, 0.12684421809560376, 0.28761951303527133, 0.2607881582996213, 0.3328682048129904, 0.2091009169195625, 0.351132329525672, 0.1022658688328815, 0.012985742518412734, 0.17764150856684396, 0.4552032080277968, 0.2522439863767647, 0.53522960264298, 0.14646978901917082, 0.3865098482970083, 0.3500877349319234, 9.70189550214075e-05, 0.29226452409053383, 0.00016979682991229427, 0.11635047599155018, 0.1578201407340721, 0.2266810203720453, 0.00015150392497150408, 0.2290621764813864, 0.03858533164524758, 0.22635406317696546, 0.001133402504267035, 0.17481728063359164, 0.0405663540618851, 0.1898492756448849, 0.08557515693697804, 0.12186181229106989, 0.04220823219511658, 0.06747086155298428, 0.0006131430749085418, 0.16788036471212453, 0.11602464355719742, 0.1556904100209089, 0.0244577801214392, 0.13364090438790108, 0.6829914994607104, 0.19153182807510763, 0.4012564014268719, 0.1446901779304383, 0.007625985063496797, 0.12385110513160653, 0.013762523683709857, 0.1659561586565965, 0.1300324082584718, 0.17009582752926314, 0.004010668114942462, 0.18610095710773497, 0.5459159074086131, 0.33211283379074663, 0.020400333616053805, 0.05905692236354033, 7.548519483453475e-05, 0.10499916247069671, 0.1515749227013051, 0.11401279503420089, 0.2647949333551979, 0.22225519735249535, 0.13683412030883346, 0.24814524841769878, 0.07268478893852309, 0.128793762125158, 0.023553744008559363, 0.30175351888275004, 0.03174080148491498, 0.05529103340172048, 0.09451792810706727, 0.11213529107882615, 0.0013594987076593107, 0.15890645449137625, 0.000874042657320733, 0.13966041458151962, 0.10159060873379151, 0.12939899754093476, 0.3572659884392079, 0.31963487838481414, 0.01087060807393365, 0.23598090073563793, 0.30298751282270153, 0.2844160538893252, 0.011343105488429294, 0.22329759183380812, 0.04809830497335573, 0.09211315074029008, 0.10418856448040636, 0.17255913101140463, 0.29711479952029796, 0.38910868391617764, 0.09832195521554847, 0.12108238229042675, 0.021156196795905437, 0.07898307415572911, 0.009634860103943987, 0.15985024745850002, 0.06077531446598965, 0.3225932146692308, 0.024146435367253038, 0.11112596243241207, 0.12639347165380127, 0.3115311087496515, 0.0004578326714839894, 0.168090205188379, 0.13401491369555174, 0.19227583890583225, 0.006642768159104485, 0.21167778999348064, 0.0021949537012510233, 0.08931420609454531, 0.06757459934416442, 0.22877723459889004, 0.09931791422288945, 0.14116195583917573, 0.5958127479543531, 0.10254116417040782, 0.07146549582860977, 0.2270042485481798, 0.0002294506110539866, 0.25609164919687477, 0.6846186968834462, 0.23323684960419325, 0.0031664903357461562, 0.29199655686670084, 0.0021567649500108623, 0.12449916583823994, 0.028177966244342656, 0.22990355173949742, 2.4987414325261525e-05, 0.1776272634721014, 0.015829956298053578, 0.18508271199324325, 0.014681338134980234, 0.15059382862403678, 0.007558569701450945, 0.4039111407825177, 0.1112237040643694, 0.1595566610738702, 0.015029164621864766, 0.1472210242746367, 0.010884680415805243, 0.15663385235393032, 7.288594825312818e-06, 0.18599229527562586, 0.06023696208733652, 0.3181682105052926, 0.4106174726303792, 0.20036329900853153, 0.2577800469323742, 0.16778616710455696, 0.07511916809876175, 0.19808769489920017, 0.057745022674953364, 0.2071809379313617, 0.24747920149164518, 0.19671859565896685, 0.021136260010365324, 0.27177627744518945, 0.0752495064859204, 0.1807895665090598, 0.0014870975619544423, 0.23160837638610998, 0.13023934966312536, 0.12484364653404167, 0.00788725601480817, 0.20532400813532725, 0.459081503546066, 0.25755065696863516, 0.12843403912302165, 0.18496097387308907, 0.05149003433503432, 0.17306119914026397, 0.4271834289283336, 0.1929380171561304, 0.1209598171311158, 0.21266828361021367, 0.028414676876006222, 0.2091076223170513, 0.08202117943255871, 0.20801463330309242, 0.09887817216538149, 0.16387425794944016, 0.005479071518500689, 0.2279894231314248, 0.008423882262740429, 0.06969203187294114, 0.01598733382796791, 0.21659254672015316, 0.07892868818849197, 0.1669475533101945, 0.014923703680824473, 0.2120417042230174, 0.07351028324390857, 0.08532985592558569, 0.03318600893713766, 0.3365814069128525, 0.00012763645192990226, 0.03935640087773349, 0.18571061125753244, 0.14794850991327285, 0.0001656403070834737, 0.19645203378885248, 0.07435111109697251, 0.23284761285811528, 0.07663701268694983, 0.19720169967377127, 0.014579325900122616, 0.09984452802904782, 0.027596179157807654, 0.2437236225969906, 0.05906008821946009, 0.18531571841758346, 0.021895873477082137, 0.11971553116828304, 0.0012046761203067468, 0.12587880870814866, 0.6729107526026403, 0.10814913874740739, 0.10829645435192756, 0.21291216662978107, 0.10613637840394101, 0.11147720816073695, 0.13765413757959147, 0.11461561243850697, 0.6824530298947805, 0.4440257458884738, 0.019833024590134585, 0.14663379923019937, 0.4019430535490088, 0.21297089233071315, 0.004574421509077149, 0.18120401591479618, 0.0939834818160902, 0.13667286149356314, 0.07547508183949958, 0.12097237448458927, 0.3655668852776898, 0.214131855590579, 0.10360609348175512, 0.07806188138017624, 0.0006246416268873567, 0.11772993896492596, 0.09159141666018514, 0.20324550813593217, 0.07213759123323135, 0.11038811430308765, 0.012352803763319393, 0.1726965968907854, 0.19853525472101333, 0.1759182792255168, 0.022878417265864925, 0.21713607617002836, 0.22864177274406453, 0.19733601810278312, 0.023521736398007222, 0.22850719334288178, 0.1434759680604902, 0.1960211763538475, 0.01617580030642311, 0.3735204779697845, 0.3577217183994037, 0.18653165955117362, 0.0028023592472891322, 0.08642834261750129, 0.010898176129789716, 0.17515817562827007, 0.0005455972811749175, 0.24350163068984937, 0.06653580434455458, 0.04614939812728208, 0.06397062317557811, 0.17624194033867105, 0.0035422189330347464, 0.09341313117768625, 0.052171216635215956, 0.2342704632635965, 0.039700558267668384, 0.35388933254773997, 0.10064675108570656, 0.06892142144564051, 0.27700559094671057, 0.1617024715160113, 0.1270329585929883, 0.23847994977410444, 0.11621421700287253, 0.08635875058663942, 0.058830433849536234, 0.07307179059981873, 0.045882283205499474, 0.16543936046662114, 0.09179597870286418, 0.2350479965254014, 0.29200155264593, 0.3371453330691454, 0.1914208706312229, 0.2935881758493042, 0.09778137714233033, 0.10436786590487428, 0.15567812928214006, 0.1815491264126848, 0.00011472233597961988, 0.2031323514182484, 0.0038931494059532973, 0.3516668736170979, 4.938609762472623e-05, 0.3324176153527182, 0.3831863445342275, 0.14005025442197935, 0.00013955351477948748, 0.2734975173014664, 0.0847445188420985, 0.13257851720622787, 0.08615415675532338, 0.17124833155007155, 8.571700876953198e-05, 0.3082282660021471, 0.32192863467483834, 0.1092156655992628, 0.06550265787639849, 0.2790322308959219, 0.11276324968217853, 0.27286245157316114, 0.003036166676793073, 0.16294633668512168, 0.01945745074845758, 0.28544625969595927, 0.05180640419048928, 0.16033913416578507, 0.008264536640509348, 0.27032385262197683, 0.021055899119488686, 0.31213399804634584, 0.21812472822217735, 0.17047613843585363, 0.2715936540952116, 0.2243279660355106, 0.08763304349565049, 0.26087812198148463, 0.006795728392413973, 0.20037719148928756, 0.005718658512129033, 0.12254466721554604, 0.0028481178041620168, 0.09471969121397415, 0.0003074943460638302, 0.15227685317525422, 0.0025730106750156017, 0.167837008492956, 0.3116240910436074, 0.21582230164591146, 0.22958910706599664, 0.21081865509497244, 0.010629228314612426, 0.1382212282211194, 7.441717682847108e-05, 0.13573477624714028, 0.008433741638464554, 0.18228239938176002, 0.15590867723504845, 0.25026305758949874, 0.1448877158163474, 0.0873452309534634, 0.07686408639879498, 0.20269506741297943, 0.3537438768278965, 0.09577651949268942, 0.009324283928123123, 0.13473858442973546, 0.43769080678581224, 0.3449108119454556, 0.10504587691030208, 0.2529842879694521, 0.08690350126175872, 0.05035864891621973, 8.782176605137693e-05, 0.15488644219883124, 0.018131856084503777, 0.18999682803353166, 0.004848301100407427, 0.21996481014930502, 0.014740310851214921, 0.2534245323225522, 0.009645134870526798, 0.1205760460014546, 5.5608766842851765e-05, 0.12216531577390125, 0.21975823302020578, 0.11359164365537412, 0.0008875532679540665, 0.3268620540969672, 0.002232179675880519, 0.11182298716994298, 0.28341995251821234, 0.29892256951227597, 0.17858193386135213, 0.39988963624262003, 0.2577418298263198, 0.175574977964959, 0.08815191706247177, 0.0854992106253446, 0.0869031247481568, 0.09497122952336746, 0.054437940941397756, 0.1704707712970885, 0.1487322102306776, 0.1742384442481813, 0.2462598465837214, 0.15158156901197123, 0.08171258637006774, 0.2169056690448948, 0.08817406543708857, 0.14707005288430533, 0.4566673784968226, 0.16501279588496887, 0.25038588681453167, 0.2815085286544505, 0.09310472568627905, 0.19049552250751242, 0.15747015776341383, 0.18129851684786386, 0.2471704406643242, 0.22772901223133804, 0.0020045829497072455, 0.1831773556558601, 0.1780953179287574, 0.22698675930259804, 0.0002499957504246586, 0.13356747709915573, 0.02792680570676407, 0.29499138425459265, 0.23359450034757856, 0.2782694901655369, 0.1357029890247689, 0.23959190836543787, 0.09995510516356765, 0.1563853725984703, 0.33712126225307454, 0.21338292991546973, 0.1270283355485121, 0.12272274758721455, 0.1766628146789478, 0.14581525818312088, 0.008991570241840918, 0.33581462600905465, 0.27865623055570793, 0.26453892393169914, 0.060501552752322656, 0.18841962191173423, 0.26479931867499534, 0.178376911820885, 0.0003743234449295585, 0.22904568064882144, 0.0002425862770358833, 0.05745983211276891, 0.033811406867812366, 0.10051031023968912, 0.10809805199343855, 0.3089983278880528, 0.029563611351361176, 0.34350002783343614, 0.00026391461424585765, 0.134702320344477, 0.2791957320659736, 0.24409457195226444, 0.20113192615873096, 0.14370032313500633, 0.031060108917472462, 0.06742171086355603, 0.007992525731436575, 0.08674829266289084, 0.05166083046648282, 0.13817051641676473, 0.2370977997134498, 0.20135090264435576, 0.0956596311217286, 0.11503882340981772, 0.0033181043089825835, 0.25503017407502854, 0.005283905227900375, 0.23479156028826745, 0.03319891008330104, 0.26042617520038985, 0.20132726772252774, 0.08127774334319887, 0.0400543407348424, 0.20689813217592373, 0.045966887136204906, 0.1554365362219767, 0.38366386707571887, 0.2090819306163038, 0.07229531459878058, 0.07447464337002961, 0.13878788035790043, 0.24389327530636418, 0.356259197098059, 0.2650716131989103, 0.0003174293591901763, 0.12667262696717377, 0.11957082700483906, 0.21047464961598636, 0.04385028039736686, 0.24899374859506948, 0.02067753545400462, 0.18245463436756748, 0.0005015146986266927, 0.23872715606262931, 0.014260197980733707, 0.3247201626747269, 0.001574722637251737, 0.14932490321420508, 0.33134850601166627, 0.13577215535913967, 0.23060680135563416, 0.1505873950552793, 0.05766554799923398, 0.3209117044185076, 0.7086552605039229, 0.10442231936465321, 0.10733978325514344, 0.13016346248179103, 0.10086436148885695, 0.42076478127618533, 0.31473708345583873, 0.20873872621081793, 0.05048664378525953, 0.17703113180131047, 0.13447519940766384, 0.2905454050047125, 0.3788715367440281, 0.19791608347507492, 0.30927955038945104, 0.21850384953002036, 0.09394268945466307, 0.09275893868028058, 0.18935003015969548, 0.23212040942770634, 0.4089452018142278, 0.47036096430698915, 0.0066895834603893055, 0.3059985181743422, 0.0010500437854634725, 0.19536370243850906, 0.07082499715720895, 0.10041409623137038, 0.05964470936244732, 0.2434747825221158, 0.0011775558126196017, 0.1252957829434511, 0.6859511143462856, 0.18665659794058265, 0.205466730363086, 0.2728767058226525, 0.08746181745366981, 0.24997861376194072, 0.11857447308083818, 0.060668560944807375, 0.022072001041409477, 0.18017562218109545, 0.34314020095262926, 0.29783754994282624, 0.07150265115204964, 0.22071693404210932, 0.08697513575528622, 0.2679155528114842, 0.27043921467490245, 0.1350735893701063, 0.45748210297668784, 0.27651049809110306, 0.4090538287635397, 0.2179405250159935, 0.08864013858451132, 0.08595822072805001, 0.005387627463733224, 0.07867917640855045, 0.22860655501353905, 0.17406727334326372, 0.3080569501270931, 0.20252896196718595, 0.22870666116623145, 0.16585935756061587, 0.20468381177697664, 0.13785044209994196, 0.0034378713054528426, 0.23867332565902663, 0.012871669336125536, 0.10988080272393948, 0.33090897936361013, 0.17063244004095415, 0.0002851714300504682, 0.06832130408951241, 0.12442454705163376, 0.154317769631975, 0.0072751686436569275, 0.1900422409877387, 0.20241499644048003, 0.23764909853008928, 0.0011603038519183428, 0.26442477120824276, 0.001592224897952595, 0.2790812787545282, 0.14547122220888423, 0.06443971420164912, 0.09955118560912979, 0.25401728976501575, 0.5401218928532064, 0.2764764977759083, 0.002671352011406469, 0.16642032004107823, 0.0004068864638414882, 0.25936927755375594, 0.007801373818438151, 0.21372431531861674, 0.1875239535262608, 0.2872165167576365, 0.08701375731796664, 0.19804360323100345, 0.0016637503387215702, 0.14664358687348641, 0.012661517648833213, 0.09477877258646078, 0.1286118887580607, 0.20115567900623552, 0.13530605734259807, 0.15789322537790282, 0.5049997059605668, 0.24778374793252694, 0.050088034047803376, 0.2524581800443706, 0.3153003876924122, 0.22076241952307632, 0.40931998821085, 0.24615238540753473, 0.04301873026580147, 0.156425455981605, 7.442380642199708e-05, 0.150810211106127, 0.034152606653404666, 0.15172432146987638, 0.025206530333302574, 0.07329956399211317, 0.06985572177603026, 0.2828180720105756, 0.0006193311644437927, 0.18520985890679706, 0.0008239143623149607, 0.34001126028317447, 0.008387527067781215, 0.1318547205853969, 0.022596239062460718, 0.07599578597198656, 0.03062957423528549, 0.28287862050688817, 0.22874599280389507, 0.239996373543798, 0.00010729497435590929, 0.2323156176779934, 0.024416128262916458, 0.3207551056697471, 0.36448446287191644, 0.2705883133586846, 0.01890959623898425, 0.0966656418907516, 0.3056670841552832, 0.19570136638883034, 0.348637560155549, 0.24049634289959462, 0.36478192205971044, 0.19393828160108892, 0.13953073038498887, 0.08280143055319329, 0.3029100707555186, 0.2778685960010137, 0.059490426508987324, 0.18729527310094596, 0.3360443310579157, 0.4830245251964091, 0.23997260198524847, 0.11817329703676908, 0.02412085123228375, 0.08878798000934592, 0.0002950310843639059, 0.2347159123381009, 0.006345640472952852, 0.288285422153866, 0.14999954191241674, 0.2443170104694842, 0.21208861372031435, 0.05835004875458317, 0.17582294986888364, 0.04352057140593634, 0.5028450135865038, 0.29881467550319474, 0.25639076532561894, 0.33059833173883446, 0.018675545052192887, 0.12703159114845905, 0.028090299733257527, 0.15364914382464567, 0.3750004586521186, 0.1478994271603813, 0.003858123216018618, 0.3218647545751155, 0.019730633528578068, 0.08829284649566804, 0.0030845229832765684, 0.2581490706586293, 0.20193383302977386, 0.2172132552560267, 0.0010312906241186478, 0.08737404539141919, 0.10443067703103329, 0.2158698618988869, 0.21431014192863077, 0.2219636199371888, 0.007896446373858631, 0.14622200923243303, 0.2525762634772015, 0.2506995504251588, 0.0031575338068495404, 0.0957393944133659, 0.057247389889605906, 0.2967425262181904, 0.060200548816889445, 0.30128330451208585, 0.33711615126118816, 0.1992661977808004, 0.21436240516527505, 0.23294962991892015, 0.03561600610875293, 0.17298670967903804, 0.0713205404454039, 0.13801838369216635, 0.22432226882210238, 0.23350613774883985, 0.0012510137517396784, 0.2752620349259666, 0.007505886400410056, 0.3435061040791495, 0.18726524193912805, 0.2500956507547421, 0.5715714550764158, 0.12301777615997442, 0.014454587770938297, 0.24788234184822155, 0.06575112747479277, 0.27280809590571736, 0.02908448253890583, 0.3809442774803071, 0.2657060061767159, 0.14594948557029352, 0.11403745046749868, 0.11170237833684099, 0.006047236750336279, 0.09974879235239245, 0.10992556468782924, 0.16022801744865126, 0.13813425564270196, 0.17649734378824342, 0.05099159499529075, 0.16273714772173625, 0.000817578618554915, 0.2084175936572936, 0.2566734626887713, 0.16151002295179145, 0.34979606537459323, 0.12399880193072843, 0.0007724461745436237, 0.0900912009215771, 0.034997715759087986, 0.21760491205487525, 0.020870060563611657, 0.22047040716224975, 0.1019526832093677, 0.12949468345202098, 0.0029160895042619948, 0.26731425452281227, 0.0012604046941978215, 0.0891352874251807, 0.07388637751656688, 0.30578518740557115, 0.08683712074242567, 0.0956535321589513, 0.08200435135023038, 0.14061289414790884, 0.17529394020452985, 0.17063124444964467, 0.006520965403576866, 0.13871123835053809, 0.003319765481105118, 0.25990093539373665, 0.0038771953331391273, 0.1906989838297635, 0.7190407022880126, 0.3164824837419019, 0.5999987321359954, 0.18172636562060052, 0.109056386440503, 0.14759422059719055, 0.11519879196388126, 0.23650521132275956, 0.020850832566636557, 0.2701742810528573, 0.12776270298050194, 0.22602714062833587, 0.0335565748391673, 0.08982326541050614, 0.035745878352827276, 0.19791689183202008, 0.15714775090409958, 0.10545371199308858, 0.04690301942721934, 0.16331098406396272, 0.11580314094032929, 0.31114809707818897, 0.0012362004236577346, 0.13712478746173284, 0.5922783047739295, 0.10202554481732186, 0.004965886921500636, 0.2718257671589944, 0.0010925315178794692, 0.07374148772945469, 0.27308985009041753, 0.2237840809470565, 0.0019550839795556387, 0.33766481253670383, 0.14193740439350222, 0.1890635166871138, 0.01039299811842298, 0.17503834865959703, 0.22372996797871944, 0.153451585080747, 0.3508972214284185, 0.2104393174793212, 0.0019666891177089318, 0.05755129912196698, 0.2851398723298678, 0.1867184184372308, 0.210348615942035, 0.22407004711163545, 0.09921490533871782, 0.1688877128727432, 0.00019372027805228953, 0.09735858368725861, 0.02443876852268139, 0.17157109531474954, 0.42056530155089905, 0.2960246778439783, 0.1367509147930832, 0.1382653649234503, 0.0006926023722603045, 0.2172516593210271, 0.0652633869579274, 0.19051019301289002, 0.22475482999455304, 0.19936776335181527, 0.04001995281305426, 0.15674798620020328, 0.025093755657525155, 0.13275331340062096, 0.10959444986589893, 0.06701684080537212, 0.26383198811096203, 0.13727110769404324, 0.0018916928281121792, 0.12327747964483829, 0.06159094766592192, 0.18306309511282484, 0.08603770244521058, 0.198514092928219, 0.6472772377628644, 0.1667940149779126, 0.09215711327273762, 0.15118247468713508, 0.23807129267105598, 0.1809672017982636, 0.2048655860708095, 0.18172645394100564, 0.01601281708914572, 0.319705907864854, 0.21289229010722957, 0.27470007759504433, 0.6945187162479267, 0.19559962573247686, 0.032430167915491914, 0.07262635301371158, 0.0003269135127196658, 0.15856864750674676, 0.0005389005583550853, 0.21215476163553554, 0.010954422968313995, 0.25832878038613377, 0.004115973759909619, 0.15411174391152815, 0.05134729118896497, 0.27607645860549934, 0.01948474668544366, 0.15422680516563078, 0.49824265999303763, 0.41680749825963126, 0.15022630637956783, 0.4416467740375812, 0.25272794277882177, 0.19204617779908156, 0.04675792015502468, 0.0760851468495849, 0.0013269781356273214, 0.11515633627289246, 0.00015964069725720782, 0.128557610950188, 0.018568572122312776, 0.13928272480181794, 0.2867561557903059, 0.2323434552978675, 0.2060316225714473, 0.10965262439927166, 4.2143104792558006e-05, 0.25336895839080936, 0.014952205648420147, 0.21358750012097436, 8.539729278069785e-05, 0.27618255920075996, 0.7131071399776666, 0.18073745902109944, 0.1076319025963851, 0.09298831293859987, 0.1617912356185419, 0.14922625959097163, 0.18913093351374807, 0.18082757594482984, 5.812496597545902e-05, 0.14212738567730274, 0.028459135524723234, 0.10868063108543918, 0.0028071135153375985, 0.22475899386732454, 0.1679264466095612, 0.0997592594908474, 0.03221480202067154, 0.1316360072499688, 0.21494255686012664, 0.23228949474555674, 0.2735777387174494, 0.30623842558354847, 0.020954090233478457, 0.2237724785797165, 0.053848430675524694, 0.24290807070017903, 0.2844557150062172, 0.30514564889470336, 0.16181674199560803, 0.11162580494375376, 0.00012351509676591376, 0.29869693291621907, 0.11002800118633536, 0.13645242084166012, 0.02216891861280601, 0.2562915569498564, 0.015202664636271988, 0.19281947030599808, 0.28350316479204807, 0.18449877722369248, 0.0010058312972821188, 0.09504941531679294, 0.0001388318649523379, 0.21920811617750352, 0.0890333530338733, 0.2790883533818957, 0.07389035651707825, 0.2522135184912075, 0.00028354791275120306, 0.10082800646520994, 0.08978951001225315, 0.11632534725663761, 0.008022037040257946, 0.17770959799411437, 0.27338807789036373, 0.19106062538552684, 0.03893998144022506, 0.09732309122795796, 0.0013951056050826019, 0.09102856887284903, 0.031551285363311386, 0.18009027993944074, 0.344970995464562, 0.2802397495748497, 0.13595026844078717, 0.29098894861921687, 0.0234904790780612, 0.15794873233250867, 0.0007270686799832523, 0.12365405213858151, 0.024463356036286705, 0.37238838332474344, 0.21617436207981458, 0.13063433079889045, 0.11460207052027727, 0.3344401162427163, 0.13324853656696142, 0.18465353945788668, 0.3256997281192135, 0.3072447853918794, 0.18966285180082487, 0.1164793125248048, 0.052314109656698256, 0.25071671488510344, 0.3478260533378388, 0.20715639341775938, 0.10014231055021532, 0.17196884350112848, 0.005283087261533283, 0.17161089457427312, 0.199237471935619, 0.21405175704436177, 0.274363673003908, 0.12659894140040637, 0.06616214206986797, 0.2871221135999289, 0.26326536242057347, 0.28795439215242064, 0.25690072706418393, 0.28178677808387775, 0.007947355414747411, 0.21375669363023528, 0.0013252043127717375, 0.1656493217985554, 0.09664048419150362, 0.20129105907167902, 0.33435841222243295, 0.17450696441968275, 0.01719817459774973, 0.16425792459881494, 0.008719227151881321, 0.26372850064953846, 0.2521893828262083, 0.197539908760046, 0.23161860480608787, 0.25612731341294864, 0.4014357781871084, 0.1568987731081502, 0.0032761029528300587, 0.07723770629235996, 0.000326334424294651, 0.21075840689261555, 0.0002684093647344652, 0.30105525994959675, 0.08068439900380327, 0.250850754154006, 0.015433044056030874, 0.177640916899971, 0.0022015813392499695, 0.12011301296130517, 0.0003684513822979814, 0.16375939028503086, 0.0030929327597804383, 0.1738117866155129, 0.0001786433256009998, 0.2423938801277875, 0.22602057004377563, 0.13394805865809759, 0.3791520597046264, 0.11752429687742853, 0.04031727196114009, 0.2849906478897262, 0.13430113224121182, 0.5243389646322435, 0.07053701359164398, 0.34069855279473144, 0.07929408724824327, 0.20889017975254046, 0.48581176056392167, 0.25894450590975926, 0.005650145679785131, 0.13649724618490686, 0.06598808670275083, 0.09175258946444348, 0.0001246771968886525, 0.13016901252427415, 0.22706535249035417, 0.3739551816142605, 0.6888896517992661, 0.4404320450682822, 0.06679983639514937, 0.3006473558987426, 0.06988245441579152, 0.2778516878169932, 0.12111066841855313, 0.16202703785319156, 0.6226847699351608, 0.07066910917313451, 0.4133683296073733, 0.2002932238712221, 0.17426729249291256, 0.14607849402719003, 0.12374591915335643, 0.22269193013569893, 1.3150384794308983e-05, 0.34675840420584053, 0.3536963240123517, 0.3018760757834847, 0.05088905081634544, 0.0955235708428404, 0.001247464275967336, 0.16181897792741295, 0.006313409633079914, 0.0470934773861897, 0.10279796959357454, 0.16502765321883867, 0.002304123819586477, 0.08669544280677784, 0.48543935668131627, 0.20438752341741204, 0.15757742766743377, 0.047324077659143815, 0.00254249925435533, 0.1385218802929394, 0.08495297339125171, 0.10658938510113505, 0.08104897570272915, 0.20114089372421118, 0.001385670833451788, 0.11494639265757725, 0.037779686976197505, 0.15474951467124454, 0.14421836137559954, 0.2692656725587963, 2.2117644156731992e-05, 0.14117646187482283, 0.2551887975477882, 0.21041877318275773, 0.017213463461961107, 0.12054307186321893, 0.7177717310838929, 0.1019432900099656, 0.09791908581775549, 0.11699673486487315, 0.11027215193360007, 0.17644226816803024, 0.1530013613398913, 0.3999802995854325, 0.12151181420620671, 0.054544347168239714, 0.19165662021484878, 0.20859419138046412, 0.42672337154553325, 0.09890378731841373, 0.0041721260453067895, 0.19357714199827672, 0.0008839975250355773, 0.1155021736591588, 0.022898834145588864, 0.2410839597112322, 0.008045400260154878, 0.16469240765861656, 0.003318463665589906, 0.15038656686458293, 0.124492545241741, 0.2832459754495912, 0.09132769423642155, 0.17019310784490163, 0.13789358391533016, 0.3187859973204892, 0.037854869857559, 0.3865712853089407, 0.08681524792610933, 0.15748013494027585, 0.20119634963039063, 0.19424919336935006, 0.27360934964595146, 0.1601400505722398, 0.2761995210440429, 0.31417528822325, 0.0011514532631962432, 0.20016532810807433, 0.26751129679214886, 0.144443314938106, 0.16143525700056374, 0.27416136546954084, 0.10000131305853509, 0.16125876345444543, 0.0009653474509325863, 0.20867293340654777, 0.037714736465888965, 0.12867594686741865, 0.0102398935400093, 0.030274319640781585, 9.385859962094401e-05, 0.15239240776482169, 0.11522098740925475, 0.17211325341751582, 0.01895902562139377, 0.19396959460470878, 0.1896000548014334, 0.2416959342485075, 0.38879654659545587, 0.17070658762251975, 0.09164154854661319, 0.12504400670079677, 0.011435206894987004, 0.071842226595932, 0.001976626622048046, 0.1397126850838488, 0.11206246673920252, 0.18304783677078407, 0.0606437000864575, 0.07975703849107607, 0.055146520514244915, 0.14358984372174402, 0.13750132611236268, 0.16468295240428302, 0.051815241691721116, 0.1589947872371101, 0.09878629638264937, 0.25816112732972096, 0.1192748582697283, 0.203108630761417, 0.0009645923286996094, 0.28927760092861315, 2.1640541437828453e-05, 0.1472982750214012, 0.07183704469529899, 0.06936455701980702, 0.00020893085959353382, 0.12417798482886591, 0.4557518881579819, 0.12349195285765568, 0.002410675432452436, 0.24531934637644218, 0.0829798266821889, 0.060683408635644295, 0.0008628249668731769, 0.299804445792169, 0.23054704465903342, 0.11847649309449898, 0.4546934073879225, 0.10282542029014594, 0.0002349262685764789, 0.20922896233398205, 0.0506305282844031, 0.1378795137553102, 0.02505078882050928, 0.11852588226700948, 0.0009625462093936221, 0.0658122760987177, 0.3437090267705571, 0.2750488596127642, 0.08039253939497788, 0.13099491707263947, 0.21347060449198801, 0.30044975265796914, 0.7286991837598612, 0.2843711492583742, 0.3378648330564526, 0.22308936949872266, 0.14177559124188666, 0.2927221062980479, 0.20541778975611968, 0.1452120246694882, 0.3344490967962075, 0.2700512217041584, 0.277280989994215, 0.20580619500601718, 0.00021771591473225272, 0.2711148314325797, 0.2888185674995579, 0.10090675645143832, 0.10605302807908586, 0.13783595401519944, 0.10963070211249884, 0.16845911893599352, 0.15894449533424126, 0.24881758630173473, 0.0005511798637404094, 0.15774969885558454, 0.18409708687382215, 0.16726342506580183, 0.02925090185196537, 0.31330283714164153, 0.0448150322892319, 0.22746248775476058, 0.060740108977952255, 0.13330136515778682, 0.044520395277379686, 0.23759750768817867, 0.00038132677287983086, 0.21009117381777287, 0.0023080150936474197, 0.1393770088351196, 0.034174559358316904, 0.17183167668369143, 0.00012361349173380573, 0.23824320698082033, 0.18880657509726007, 0.2181197569628497, 0.06086364371599147, 0.24378052167554976, 0.3112565452202666, 0.18727529845415106, 0.12346063510531735, 0.14292442629721022, 0.0012404267032787963, 0.10770413389768718, 0.10403900273764849, 0.3518761931004318, 0.04330780873122616, 0.11397082190148095, 0.25920473149349166, 0.32764313466817074, 0.0011988974719437274, 0.03398252022670563, 0.00047085323418656345, 0.314841079902637, 0.31607063378319605, 0.3692978478166815, 0.095323200345978, 0.24744649149603912, 0.2500682386814817, 0.1742278724282717, 3.2569767463389945e-06, 0.20496169390650554, 0.5287968302511822, 0.3327538160786522, 0.01033310241286678, 0.25873471523492897, 0.002190653941804399, 0.1100183488806853, 0.23776212381166195, 0.08438858706629007, 0.03107730858418334, 0.12777366397644283, 0.017010231047903872, 0.16355658647717278, 0.00963041514316703, 0.1398734655039282, 0.23963700116850678, 0.10588438411137138, 0.4288381319662449, 0.1891348154292882, 0.0116846425434606, 0.18068155650782483, 0.0056012564244021235, 0.2764656259205901, 0.025675573504969414, 0.025279789696853888, 0.03191784295981134, 0.08155319432729209, 0.11053689577987766, 0.17804499288421108, 0.23814099185570972, 0.2756867929508679, 0.0032953475785742533, 0.14722227730814133, 0.25401423323831884, 0.29994817834219994, 0.0007983636246535752, 0.3174085402944042, 0.23281156264226865, 0.22632538751060427, 0.38241266145905684, 0.2061663552018293, 0.12515941880827697, 0.2652696308252838, 0.008259739304037316, 0.07173597169910416, 0.050573764077363685, 0.041394201936412856, 0.28835965795137025, 0.129637069862183, 0.10625478002759159, 0.06265944679492173, 0.035640242026648394, 0.12076055482232174, 0.1880512565300026, 0.29205372965490045, 0.3018783896595189, 0.2111726494482923, 0.0111503361175083, 0.2267445538579032, 0.03552916930854391, 0.10544571346452368, 0.08720977501414902, 0.24527318354025676, 0.16238274540733055, 0.1848856228467264, 0.0018070295369918554, 0.09301844369987608, 0.18324318675729967, 0.20123182969706935, 0.05932398683597841, 0.14557646298534901, 0.5793907714769219, 0.09979926160094289, 0.396343270039516, 0.1422576988300577, 0.0013663246583250355, 0.27522264044339834, 0.006265645431330963, 0.03574759250463591, 0.23696534680919132, 0.21590450443332418, 0.008240405379495996, 0.1122053026440229, 1.3592271725482163e-05, 0.24423466025777313, 0.19714739350487775, 0.30700731599384484, 0.21043086553208923, 0.21400280276620834, 0.01589594151187157, 0.3389899055300955, 0.3013379872649897, 0.19357533467253346, 0.0033417734548457645, 0.13572352267714413, 0.0010054402725968952, 0.19791258376105264, 0.02767942139083246, 0.13757317021939205, 0.19435427887932402, 0.17215436464040818, 0.7272401560729773, 0.3799438463008642, 0.634083594907578, 0.25598504246325476, 0.07868126023837856, 0.1550784031257595, 4.9264266964232914e-05, 0.24856680151961846, 0.05131506759092493, 0.08435925652581204, 0.22010452544054715, 0.2096948862132089, 0.2994196395011386, 0.12974820226568357, 0.01736665433907221, 0.09539965656200325, 0.002597228071855235, 0.2702769831943235, 4.637526503792344e-05, 0.20765385610068973, 0.2655029373903273, 0.13525588160280577, 0.023965848220022828, 0.20377601797383274, 0.028345089146321036, 0.10640827193076201, 0.24343303842412792, 0.23979654707217762, 0.3604316791555391, 0.1353685605907754, 0.004134618843629312, 0.1329247233155121, 0.28427126210599724, 0.21022412793003126, 0.0018725048128449056, 0.07915151710427751, 0.05259247000262803, 0.11087796510651439, 0.0021616930840439507, 0.3246223437816953, 0.03854251552844601, 0.38299609496464404, 0.003408821708035248, 0.20216992598532182, 0.30112038612973824, 0.25693843650359394, 0.3875498214541949, 0.17488022862363117, 0.15598433564684036, 0.5699245867346842, 0.29618050589925954, 0.2610307816855413, 0.005390133518534734, 0.1258397996434431, 0.21833050365135673, 0.21386970170791952, 0.06995141940387839, 0.20229898610970978, 0.07593820987335208, 0.27165918137997636, 0.0013144328527062044, 0.059737807598386816, 3.5814750149909536e-05, 0.11714652563527439, 0.05854727830531677, 0.08637235247628154, 0.2984234216969128, 0.2673731280783815, 0.02056981199848451, 0.1654445351466051, 0.6242770461063547, 0.10744325320315112, 0.11866776426749073, 0.07555672353825733, 0.0004058052401530787, 0.22507561144282504, 0.04377678321070562, 0.19934043391964748, 0.0007309203841180759, 0.41682882404267696, 0.042332021962883104, 0.16064275868771186, 0.22735257674646295, 0.33332711905614654, 0.008705923080723488, 0.060857746720604546, 0.1998785829362941, 0.10510052373369373, 0.12163512598286186, 0.12553482817942452, 0.0564656067613814, 0.2424678772625955, 0.21416491434370397, 0.19037547074885505, 0.018658553145961498, 0.17750706981237244, 0.6895437934900281, 0.3488679905852496, 0.010068031188363117, 0.2200893370205081, 0.0038355294269158753, 0.09429079000255428, 0.19942344581881796, 0.1955377869480686, 0.0025147043926966096, 0.1293573808567723, 0.5665242375097377, 0.3603237404629269, 0.1918064257494684, 0.15541217229688942, 0.17147393983864062, 0.125712423865486, 0.0011138621436259655, 0.247515937615356, 0.12482672528145015, 0.26696459625956176, 0.049910253493607115, 0.14350207000909804, 0.6404888710873949, 0.07415489497171181, 0.22554278751724724, 0.22166610118000551, 0.011105229229905525, 0.13484582585577962, 0.03181467795170795, 0.0800744874365482, 0.20402533797887656, 0.40144373092570695, 0.07304785905054294, 0.11966617623642506, 0.027446854171242964, 0.23462845143308805, 0.0977205184058242, 0.14944625845433293, 0.1768946911594469, 0.21209459810344666, 0.03583536824444641, 0.18842393832824048, 0.00020053810654211782, 0.22997782807738187, 0.06700933740166144, 0.10848676477091518, 0.164302218362638, 0.23589107122296446, 0.00027936849801335484, 0.19765992183865355, 0.21452978823769323, 0.31075321318950144, 0.029385313489910914, 0.2707499555876041, 0.1474296260858441, 0.24219970236995525, 7.240216559115506e-06, 0.26663911153183273, 0.39987686446822485, 0.14141371493288563, 1.5561389245188906e-05, 0.15320980472884266, 0.014559472349381914, 0.059966325734342796, 0.00012683368294119646, 0.08785364367419965, 0.06562941669005942, 0.2529423407821478, 0.2251050549068572, 0.1663049216754424, 0.1774066461784319, 0.06259301230961019, 0.020095370876257828, 0.17485854099059453, 0.0023474564114020304, 0.14043100393456312, 0.33471669049202907, 0.19448310919721198, 0.05705685902135075, 0.15258892585580364, 0.0007262324191728454, 0.13630204008763236, 0.5650845347514268, 0.2868913016217987, 0.2525463712806344, 0.1562009559067188, 0.6443996342554282, 0.28862944516622896, 0.3910815229392027, 0.5159818483007033, 0.018695908852824534, 0.11326528927566727, 0.00545949116527871, 0.2196677659894936, 0.3121746341262224, 0.2748838836203873, 0.038925507081604555, 0.2100436677740389, 0.0016857609826121944, 0.11121678638365466, 0.03736325985472792, 0.3454120762178024, 0.17458837305685315, 0.29637559447814255, 0.07040165346460406, 0.09668521167150729, 0.5049615049836741, 0.08776859384499167, 0.006365735199409528, 0.16953557804004601, 0.14057079213209653, 0.20609117371407137, 0.24873625294473753, 0.19207540961928143, 0.0006046530316682817, 0.16764280567739093, 0.04349392857413038, 0.17086002425284347, 0.18920482235580494, 0.1943994670603258, 0.009145285733926412, 0.15112821787797623, 0.16339123395049926, 0.23288452200740678, 0.22341190547499395, 0.2995532341069779, 0.035646936907344884, 0.2508787568700226, 0.06547647154590663, 0.37418516666119017, 0.04904892932492544, 0.3140743922280831, 0.05085894922508487, 0.37268911236956, 0.009904858038383679, 0.1605924760202111, 0.006116762857713898, 0.2099119852317204, 0.016534323140215614, 0.06429367002163104, 0.08293714612305589, 0.2847787978975634, 0.08147395436641726, 0.10300492754557929, 0.15216666434188042, 0.2697178128922303, 0.05026170744554026, 0.2219746497411357, 0.0035977395534321963, 0.10104358434773768, 0.13190994645730017, 0.34824372747626126, 0.2891154063046201, 0.16810444531107085, 0.06066695815913671, 0.2210225601977202, 0.20630043302398918, 0.14276042952577445, 0.3498971680965024, 0.14022503226653268, 0.021446686817252925, 0.12174613300838376, 0.24557541950200873, 0.24379640272237177, 0.3858740760837402, 0.19296622548313117, 0.379800758797758, 0.0851330063945291, 0.014752400004804243, 0.08390209670967881, 0.029238176574011534, 0.16295002701080927, 0.2896092643797387, 0.22427589102651557, 0.3657887267029516, 0.29591474007303564, 0.033822741129472256, 0.2567563309024317, 4.974679762881351e-05, 0.09597310408042056, 0.001200903553946131, 0.10623936909080732, 0.18634334578205172, 0.3793096781754555, 0.0010294588315513664, 0.14881857051281303, 0.13216155520422035, 0.2612083103458994, 0.11010914435801114, 0.05976055062381442, 1.9745870623921746e-05, 0.07502040531633887, 0.12820269823580688, 0.19130060659017467, 0.07448441468990394, 0.12862870574890237, 0.18710591897988707, 0.08820956391148355, 0.6060465262855087, 0.15206114618799396, 0.03679727923684238, 0.18735455619940639, 0.1949696073807447, 0.1415964280964649, 0.0019960180817325374, 0.16022449533871025, 0.05556960394533235, 0.14512955998297813, 0.014931224192299166, 0.17604208620289724, 0.03842329476283339, 0.045195638311522186, 0.10432141422810824, 0.3142821971892124, 0.327779897003337, 0.28344416299743064, 0.08266720778060554, 0.22993529849209435, 0.07228213211350223, 0.18227033810303006, 0.03876815687872819, 0.34406847128434304, 0.09365603951347473, 0.13297015831917505, 0.002108137894635339, 0.25299114478359613, 0.1173644560220491, 0.20301825216810443, 0.004239896836896495, 0.06918809290249774, 0.03757962635029126, 0.24929601275330518, 0.0026113416576360273, 0.21820568312836042, 0.049581742857190955, 0.029559751609909635, 0.07767703011109954, 0.13365422897458112, 0.03946007203012414, 0.07157695052746188, 0.03266551223240151, 0.3174997108941585, 0.09560927608914062, 0.1654306516723145, 0.3016009175098698, 0.2984646275913979, 0.3573715992567041, 0.3388743187243741, 0.2199205601231039, 0.13804835550793026, 0.06298599942717686, 0.07952778660819372, 0.01815867302313605, 0.2696414596930161, 0.07919769854534024, 0.387746422209981, 0.3835013833519042, 0.1840354440198533, 0.6106033012916051, 0.139618067447767, 0.2276945747806306, 0.12671724601049145, 0.0018187195135022094, 0.08730295210681313, 0.14907532511133467, 0.10384491580778486, 0.10892542898576049, 0.10893959396699415, 0.11739448643798867, 0.25013740652274274, 0.0027005177080179866, 0.11210784072050789, 0.48101319325488634, 0.2873134974342038, 0.13009522465013493, 0.1233856462855188, 0.0029728166858035364, 0.31417295689995883, 0.07413157185292221, 0.1275586004679676, 0.2561033324776854, 0.18699648175043598, 0.060900861860886835, 0.12420496637895224, 0.018305769909639637, 0.06464748027767844, 0.16921206858758828, 0.2873299249180685, 0.2792270591529936, 0.3202606907462619, 0.0009785855678728695, 0.28854541628872166, 0.01558958752277054, 0.22703672946953748, 0.008292803669805338, 0.23787052676050277, 0.09589118393100193, 0.23321330644105653, 0.046444127055041244, 0.20463177735762997, 0.02291188806287375, 0.1664316704071065, 0.10346644816779513, 0.19509465487183056, 0.28727825902115406, 0.12577715147764196, 1.9832265581757462e-05, 0.14092161127822184, 0.16535709228143483, 0.15606303746767136, 0.010761087822174886, 0.21688258841900446, 0.009432472579283058, 0.2669689091251391, 5.8015133745925596e-06, 0.16615966980577707, 0.31703614127688223, 0.20710738724024572, 0.0032464020938884155, 0.15461122652349016, 0.0712821817346935, 0.12535715514977347, 0.15713684969838282, 0.15153188253517616, 0.11116304754951518, 0.14543605633906997, 0.12352158834513223, 0.3150750537869704, 0.08181097500521635, 0.3535386295088409, 0.02101492755062801, 0.0759776172733881, 0.0004928621770978192, 0.23920794872542173, 0.00014527627047300484, 0.19732904373390195, 0.00045220362604680986, 0.07718330058113762, 0.005680709376494835, 0.20931348212920342, 0.15966974108737983, 0.1135427710744508, 0.007218856306573278, 0.09449785926952091, 0.012250925413346181, 0.06938911058816319, 0.3363659552044489, 0.1911617253240533, 0.0012243092035835919, 0.12503883197094498, 0.0010202190801577398, 0.09641352277258472, 0.3343960230376979, 0.19389072269431848, 0.0008248317696171626, 0.2629517939232089, 0.4285849709121976, 0.19038778512234178, 0.2334757315892454, 0.2961227764461852, 0.1481511204017791, 0.1320344790729239, 0.08814802353031258, 0.20293849651875628, 0.00032338140351555466, 0.04534690205553654, 0.24925216693509356, 0.12137447280949334, 0.30358349704155896, 0.24690066201121197, 0.00028316829188135273, 0.15675851105867575, 0.49364595872551337, 0.3134743083240351, 0.000340139087155775, 0.32506676017865915, 0.2756359147234174, 0.25199291773606974, 0.6641182913436536, 0.2049647074404679, 0.3571186463345429, 0.10673652974345979, 0.09025442468467094, 0.5212413377220877, 0.034061010850210495, 0.3166710295791745, 0.002732384474169199, 0.1773629021151608, 0.04888193454586279, 0.12412519493280079, 0.6707625966729438, 0.09187632120801936, 0.0005519140409830925, 0.11218644236513191, 0.04666219629392674, 0.2271427988078764, 0.1969615689175399, 0.17514815572031608, 0.07409521825488144, 0.29677924082622636, 0.255602851289666, 0.051566598757827625, 0.00036305896165446584, 0.140370644660313, 0.0480283438417913, 0.24458991161076085, 0.46008843720712894, 0.11851367188733994, 0.0016939611731296672, 0.2894326285438395, 0.07641616732725079, 0.1140078969911213, 0.03234817104414299, 0.1660343094474486, 0.18835430169801265, 0.1464113182746105, 0.2099039382642786, 0.15644599329936765, 0.24095583185982805, 0.21971707439825436, 0.15280842407231093, 0.23444196543071916, 0.11967694797691696, 0.1980900403767774, 0.00586619472824168, 0.14493973215340195, 0.10540268643425063, 0.1727155658870869, 0.11430923784407948, 0.23158960587093086, 0.004850962384645234, 0.15261327518859963, 0.34962479649189787, 0.2076189985877618, 0.00703016614680223, 0.11163608430934484, 0.01004846570231166, 0.13416499753133315, 0.06436810752439896, 0.10200909448518734, 0.17050134394842661, 0.19193960892835576, 0.37876656548426324, 0.07209446437748065, 0.3441561608624397, 0.24238615442341144, 0.23230042260458247, 0.14069321893590092, 0.0933267464965216, 0.2636804495247946, 0.00011233947650371842, 0.23701269390544408, 0.21192231361636468, 0.1770404106387005, 0.04266199098297926, 0.19137432563841736, 0.023083390427406026, 0.09716410442469725, 0.2306106017645, 0.3493511088694325, 0.4771457454189658, 0.2561506742887483, 0.004860839547056272, 0.13358083768330187, 0.062164803704183376, 0.03964701329058521, 0.24918189437351643, 0.2756549068324628, 0.3387072123807613, 0.2775145837980024, 0.0018771122823997288, 0.3189648051409323, 0.1198649104439403, 0.1407881029307036, 0.26027219384037137, 0.14653451561668518, 0.011350380272103524, 0.1955037869618536, 0.2205346453195034, 0.15771734130192552, 0.6367198501078032, 0.16761323301581754, 0.44091387078697153, 0.12766523523594195, 0.16537723464352894, 0.4234776599779353, 0.00021271917165677223, 0.09297267307263557, 0.0038831206227124917, 0.2100740309356169, 0.032351647693688465, 0.13050734448760043, 0.2188526124853496, 0.18093926979445593, 0.37707750221952097, 0.07617809593323584, 0.22821978402789683, 0.11420410025690637, 0.08925724830458906, 0.2714298155156749, 0.43130601074320285, 0.27399755259859604, 0.07812929642373335, 0.13669665552820734, 0.07132863985102512, 0.13820425458315544, 0.3060579234982204, 0.20159937271616882, 0.07696034779314509, 0.1330313857417202, 0.07391789633239795, 0.2446974189824617, 0.1313437322334938, 0.16272917766177825, 0.1407342406146894, 0.15382364004331178, 0.17891147749254124, 0.22574516507364153, 0.018604370031685642, 0.06729437477507216, 0.07132608395451305, 0.15885686998770365, 0.14944860542970403, 0.24211762324779001, 0.058668465529149214, 0.17629700434940412, 0.0782346366920521, 0.15698266380552361, 0.0006379581600413076, 0.1472348156445047, 0.5856878862126752, 0.19809403324597163, 0.01103820820405717, 0.12918752446495857, 0.0994243229586876, 0.15928683697388138, 0.1473474263070117, 0.09984420539814436, 0.00037332147004860705, 0.2883320699436377, 0.038569335106413666, 0.24218626800655532, 0.0017434269320402151, 0.16325838261224726, 0.01517585319422985, 0.09790751619072828, 0.014298718211316664, 0.11126233234099246, 0.1405572430585498, 0.13131404162751584, 0.016394056133605905, 0.17553578482351276, 0.006154783296961754, 0.1204949062802205, 0.019171573325730537, 0.24701268143474062, 0.021288232070036654, 0.13510887903248128, 0.052061087008441476, 0.1067698229632241, 0.15247046359361807, 0.11243575736078369, 0.1995114241961615, 0.40654745041058965, 0.09061550964190572, 0.13969322164077203, 0.03708893716385574, 0.4078522673457322, 0.0008505084081491532, 0.14618308691681745, 0.06722108055419865, 0.05153603500343773, 0.18713835996849293, 0.14844849222075324, 0.11549959642429092, 0.3237977441122801, 0.08347333708092115, 0.15798230568359564, 0.13850458321891806, 0.18458569662873123, 0.3035234742266888, 0.3007441973274587, 0.03675497665964104, 0.08860026136455428, 0.07138868954807549, 0.21957358049694536, 0.14329464369153097, 0.14982854452363017, 0.01152219134327955, 0.12029725935050128, 0.3899226710218342, 0.10855777373432211, 0.22728385658689756, 0.16274054807840246, 0.2747191096246033, 0.22393854566881805, 0.06963503408622174, 0.2713223666037623, 0.05685031507916172, 0.08468108509429396, 0.00032161849735855085, 0.06589502296942007, 5.2816911534137034e-05, 0.12458941216870191, 0.3574689404901013, 0.24201792819660184, 0.00025203701382755145, 0.23799605609298854, 0.011503977217766229, 0.24676928783212912, 0.0001014874356160236, 0.10365091396409272, 1.6624625851206314e-05, 0.10454038454911796, 0.40728326039635854, 0.2212508193815203, 0.16319086916568126, 0.23609647446356233, 0.047500782972476445, 0.07770762785685781, 0.5852982802244574, 0.4243717846597131, 0.06996177810458448, 0.19886999262510033, 0.018078011885227598, 0.06623064774365069, 0.19551265569153736, 0.17658882853769386, 0.20078621137954755, 0.21138823049639532, 0.00753584174717048, 0.3450410136850364, 0.12185461872384737, 0.14032392299188554, 0.20716934569891965, 0.2177484666282817, 0.18258817010389197, 0.18333435505072707, 0.012243351320787651, 0.29161187913040965, 0.37095080500775013, 0.24152385896965, 0.2168803135053393, 0.2831831483516787, 0.48729508224617984, 0.12465036176828888, 0.4678284870834887, 0.31219966959296486, 0.45050311382130603, 0.28833940004424324, 0.19828095481480307, 0.19999486383955578, 0.03365928348706107, 0.10558506216585539, 0.021189257570971877, 0.07849766510070907, 0.14302381569364114, 0.13725792008844384, 7.413857491078701e-05, 0.11753431481827495, 0.6549292072035735, 0.2522205919233819, 0.08867693047852754, 0.3282005401934499, 0.03205251792230858, 0.21362897105184694, 0.04363761489350963, 0.11282067818283849, 0.2526113813122251, 0.20187535760683226, 0.004735895722761698, 0.07268950652557718, 0.16336828973592044, 0.14777817434512158, 0.2648279893243739, 0.12357389145655014, 0.2295309780055217, 0.19341843813862847, 0.3655223320808583, 0.2007326261604818, 0.165168546870431, 0.08157775032624007, 0.0015134824669985393, 0.1206209081051686, 0.09346455676742377, 0.08742730804998013, 0.24767335532036003, 0.23112484323412946, 0.25425784943532, 0.1986397887986056, 0.04052097032690938, 0.21175665034874644, 0.019879613358486137, 0.14627929154328614, 0.21023021156705418, 0.21539953781635374, 0.04467744484945039, 0.12094331787146705, 0.13509197514914767, 0.2630084274637599, 0.1298187275861835, 0.42209655164333526, 0.2950893963765626, 0.23138859725746536, 0.044410530327662436, 0.17145108162791123, 0.19204003606166176, 0.17444264722579178, 0.015619497159470086, 0.16457645359170517, 0.0009330494737450781, 0.07951231385295841, 0.021445943778878568, 0.13376148387150208, 0.00013162322647986002, 0.22769434789504292, 0.351604092184551, 0.24676759263809733, 0.3999427739747169, 0.13865268039470302, 0.6839246717583538, 0.09218182480923645, 0.28477084925922536, 0.17490164386332677, 0.00032975478212904363, 0.1343094143621719, 0.085734282395169, 0.3434282079810986, 0.015413101171116696, 0.31528431677393887, 0.28784152832636967, 0.11672190436414642, 0.2505677717837263, 0.23261488234853803, 0.10101326036730023, 0.11380712347570653, 0.08370250715040962, 0.15385303912971524, 0.026036419504533923, 0.06060207374714242, 0.011156040697057636, 0.2399952708933739, 0.12867106775889853, 0.22705930202912442, 0.17914138164766724, 0.23075720044954373, 0.09829656320340519, 0.3237554213056324, 0.011559922838387138, 0.13652985337578605, 0.05069359985254307, 0.12020613172113437, 0.3343222351845591, 0.14463013781686432, 0.005276569782942731, 0.0942938750921776, 0.1527683774766299, 0.27945510130851847, 0.24848839869206074, 0.19297384744135176, 0.12948285287611724, 0.09121970559723917, 0.013637445207855401, 0.5463713587147927, 0.3246090510427489, 0.27466715767301525, 0.29197639535759046, 0.09753903125292822, 0.3370987462349969, 0.23921401137064646, 0.008022941751006771, 0.13874714580276257, 0.013357807840220115, 0.1446959389298084, 0.15877897819789247, 0.1204928737186766, 1.707959133260114e-05, 0.09557066569651099, 0.2394201140613207, 0.16375581313265206, 0.0029923425616533886, 0.07431444985301051, 0.18160902323898517, 0.07715740024867143, 0.008627272413735097, 0.18577369405942734, 0.0005295187255643829, 0.25107313189618913, 0.0001474386733337139, 0.07624020192512326, 0.04539055482024131, 0.2710322812273077, 0.0031353038863244365, 0.10151406830385938, 0.1472813138807947, 0.13034406751465927, 0.07067435016518393, 0.021274999671316644, 5.939319737062003e-06, 0.30870437798110156, 0.17125820980535877, 0.18246616725022108, 0.4157179918497953, 0.18459885303689563, 0.012530203203159371, 0.1502443220524554, 0.0009329789259489019, 0.10068971859974381, 0.04812104583128303, 0.18010639339640092, 0.03904801738862792, 0.2730645541251521, 0.1363065366078175, 0.09888254101473808, 0.18451239465532332, 0.28964678706765107, 0.061415256200640006, 0.16479288310838835, 0.6331749052354766, 0.19795634808605397, 0.21230394495978544, 0.2152252845545055, 0.15258254037264152, 0.2749205535758472, 0.019912019208277343, 0.14154009197975564, 0.0642975498578835, 0.13270921584674417, 0.2802848633907645, 0.10189633261608436, 0.04053521615432913, 0.143049150962927, 0.0067669865088646475, 0.13006297056717717, 0.4616805763242837, 0.10838804685638663, 0.2329093448673108, 0.45026688641312684, 0.029176608044508612, 0.07129183625556988, 0.1111426489978587, 0.13823062743303413, 0.2567273971824117, 0.18744393941387433, 0.008712352837440469, 0.2212029102769089, 0.0823024270797547, 0.1511830320404476, 0.0002487494714711959, 0.20091087205693725, 0.0052891083027151176, 0.2772592739446453, 0.3341883382415467, 0.27807592628412914, 0.021713453859016834, 0.1905781258535596, 0.03586622726309092, 0.2592465028967372, 0.5027030331075982, 0.24900000108126363, 0.06126291367584891, 0.2785046406953674, 0.28922553836789566, 0.2008627864019777, 0.009637830187305749, 0.18933537012212312, 0.05678984423892122, 0.17221420984661132, 0.6693274466910721, 0.16081268420741263, 0.2074531320320116, 0.23884870747067682, 0.0019098325483608075, 0.24367159973912086, 0.009513799409120338, 0.08560129537735889, 0.28835790232944614, 0.17165261914766874, 0.1273058863508945, 0.09350770805844723, 0.0004965491770880792, 0.17513470244098847, 0.00811457115075124, 0.12611154088916918, 1.7628790569546027e-06, 0.06666126792327903, 0.014641748414538832, 0.18362714375697822, 0.004887949545743695, 0.219441567807091, 0.3099519235038921, 0.3128419085764718, 0.006532386959030008, 0.28438773458726685, 0.04126065484604169, 0.11990364476112593, 0.16885469775414863, 0.114521636248558, 0.2231498935939738, 0.5145930352804732, 0.010632455643095303, 0.1194597443580632, 0.012493496254683123, 0.18898731466958157, 0.02043468427215704, 0.18700362386819153, 0.1101548610221812, 0.14102450829159352, 0.2721256580759871, 0.19654551188173253, 0.13268988122066006, 0.12918344376365007, 0.00861071581151243, 0.051253206746555244, 0.32644161591796655, 0.16943188126402908, 0.0037764031241080964, 0.24713785212372108, 0.005615766104404309, 0.06902351033186267, 0.5994302460118774, 0.25854683676467444, 0.011823878280007907, 0.27075364911517796, 0.42455670556778624, 0.2071052404408577, 0.1052863904688639, 0.2199141704940728, 0.08124347783226424, 0.14075561829629288, 0.0002700288692787061, 0.08435413991896491, 0.0730170459994057, 0.2059926423959207, 0.0011431077822408042, 0.16809942495310254, 0.09767961408654931, 0.3220209948434988, 0.009962270892325856, 0.1354973188934749, 0.013481380847519108, 0.22414397666728175, 0.02461518831230879, 0.06455350142674035, 0.548599620874417, 0.16673350861463473, 0.09045034019363918, 0.16687523393379772, 0.018874255895546165, 0.15435754174233043, 0.0015672947764073797, 0.04064907601018936, 0.2520038467729132, 0.17303958513537587, 0.07460975740406993, 0.1601688837833253, 0.09551640822052153, 0.2295759802821069, 0.3711551428318103, 0.2160866344965494, 0.18074814988263674, 0.21538743383936185, 0.3644108741171795, 0.16325347377623367, 0.15464171166548532, 0.0816323706678537, 0.3126291279723563, 0.1615211896038343, 0.5342108807634456, 0.3515521062891872, 0.23770731185794383, 0.22214026662964612, 0.26893954607162696, 0.21674059921565159, 0.3261722222353178, 0.2541300962377799, 0.3782368179998684, 0.13268276592330075, 0.4990975610080189, 0.13587419799144923, 0.20320426174391892, 0.12113523938839589, 0.24993787681497678, 0.23828172294668284, 0.004239732732435187, 0.3285340665109876, 0.15263371701355766, 0.47135826426701416, 0.061502888096459755, 0.16279033594272363, 0.14976915595224055, 0.08636133927077101, 0.08444517535046536, 0.16724305689111202, 0.0037494219791369687, 0.12855237438985828, 0.23970255244187053, 0.1386032726193418, 0.09394144139040783, 0.12718714809418089, 0.03395953734573141, 0.16077975670156155, 0.0012763609859121061, 0.2677770412238068, 0.0004712604773743973, 0.16446136275624718, 0.32263031301993084, 0.23460153728962477, 0.014725949132760263, 0.2356767451061571, 0.2999898354828474, 0.2621952575321705, 0.331911840053768, 0.1400167026470008, 0.0879498329083972, 0.14109151139221723, 0.006547542786822507, 0.13592023935847974, 0.5689190799756554, 0.27218295825877487, 0.10335985493731475, 0.0973512793872122, 0.14051964300824693, 0.44649835059270915, 0.0045806201938830785, 0.15633246188736769, 0.03568922436743039, 0.3233477188105301, 0.00463756679898412, 0.11715125642738541, 0.03775777839950667, 0.35203480441001844, 3.1497291535842464e-05, 0.2283008129555614, 0.0017365442195313107, 0.25129885909924266, 0.21143525453108297, 0.2848793300997068, 0.05112151647898549, 0.08452831069127782, 0.00010822168186071697, 0.12535849274870572, 0.18448907405610787, 0.14588269667169665, 0.0005472007175571195, 0.14208121239399818, 0.25548120564147325, 0.10806676714284151, 0.32531272975641007, 0.2468616990191079, 0.1910815752717444, 0.14958963439827505, 0.08289209405562747, 0.2093367425646391, 0.1709791484439778, 0.14606283753158944, 0.07697164197646897, 0.12120916342843055, 0.008313513393645265, 0.1755154948954551, 0.39928755448818265, 0.21551861562607497, 0.3754170803362605, 0.17197814945800735, 0.08599025547483996, 0.2068313537942619, 0.2161998580680648, 0.17092008594911562, 0.4018395220421237, 0.16172870977342818, 0.022958152582497685, 0.11841001798465754, 0.21145094951362128, 0.16914361904601022, 0.005147289067333342, 0.3167590367693207, 0.013286198055060084, 0.047606038089147186, 0.040151075737672466, 0.14807110908296295, 0.18405508776443943, 0.11857839549115418, 9.245437622951158e-05, 0.2635110317459866, 0.23057679559818617, 0.30176828943995176, 0.02662468446910918, 0.05171132935543848, 0.007986802277862484, 0.2458466082596741, 0.03733783271384539, 0.16283711550352303, 0.29338422968326733, 0.06791176201201699, 0.0023852315011408465, 0.06735212924104403, 0.014324828843721247, 0.20524418243388207, 0.01795722397433305, 0.26569954869472595, 0.0009715220788117611, 0.2865119077810223, 0.5411219332453834, 0.09474680588943946, 0.423432885850261, 0.21035201614073465, 0.008048032248232029, 0.09680209741019677, 0.02604504975928042, 0.21975418368807537, 0.0573110851035589, 0.25921291014772535, 0.11132867812276573, 0.28031913428021493, 0.05803474025326949, 0.16104955007364924, 0.369453862880705, 0.36551518004628664, 0.02998060716322786, 0.21915049166249218, 0.14214987510144247, 0.15010836353818943, 0.0194559865868064, 0.3083202067787108, 0.25546247657028104, 0.2899609187265414, 0.007915922846471156, 0.2894580003431772, 0.11706875159224081, 0.18072908268355029, 0.23312272333801332, 0.13252562093606157, 0.36607533612483806, 0.19448662302624548, 0.2593780908740081, 0.07531432348669935, 0.03720157762518839, 0.13845940262737938, 0.10625918575005926, 0.21669755155955986, 0.3910424340053744, 0.19316684810305504, 0.048877438507645365, 0.19579223084403974, 0.0003399168832036725, 0.046172004140005524, 0.0004614120176114511, 0.14125695142090114, 0.21549435893180516, 0.33274946195050575, 0.04470692296765022, 0.1199399026612248, 0.027585922602497703, 0.1119765703829381, 0.035065967514628336, 0.05218153450745437, 0.21991717440060468, 0.15805171299538645, 0.44373557654570106, 0.18811817047540902, 0.00040288511194270474, 0.13997670139785537, 0.08002562937176314, 0.0547230596718082, 0.22722628376660348, 0.16213251074327226, 0.10763497232356814, 0.11269473842670451, 0.000104249960713787, 0.2070539225019542, 0.34192468758460376, 0.06747764837444951, 0.0017591500297744033, 0.4137549256062414, 0.25090570164977805, 0.22602253024576976, 0.034416283509546085, 0.11851369078285226, 0.0591633255336647, 0.21574574961018056, 0.22936842607568053, 0.25100261017051007, 0.22052910387874364, 0.1952252936104456, 0.10760140839564672, 0.2731056449503194, 0.0007123379005861685, 0.08035051864606046, 0.14617203569061607, 0.25939429532170294, 0.40104625167645447, 0.16249587910877916, 0.13518781008903413, 0.1726899973945874, 0.011972714454756783, 0.0686206333102973, 0.0593066923521679, 0.24219338418711298, 0.008505418617763402, 0.05175198994423281, 0.04123725496446795, 0.13489492491751023, 0.26488909431743307, 0.23777950322981153, 0.24952333987401096, 0.1341965116797044, 0.02063633740705173, 0.06012440299551368, 0.3112839330693566, 0.29601110382988377, 0.05297285165168155, 0.3840942492769661, 0.0810748826300239, 0.20108765857716604, 0.11025090468064036, 0.29821650981726056, 0.21685992451270852, 0.1142170768984971, 0.1027080221504286, 0.21375561173742008, 5.488212042048524e-06, 0.15036792101920265, 0.40182719217384744, 0.20910782689215401, 0.015432780679298553, 0.23209696676119365, 0.3035054149698529, 0.09377279893425276, 0.27263631548124645, 0.2710098721524165, 0.03950385347215892, 0.14301878844649793, 0.5432741679046382, 0.18116485140189384, 0.09463836462348102, 0.2163376538037185, 0.40002575232503973, 0.20687758319541344, 0.08792834722569548, 0.2780633178375281, 0.004396869012995408, 0.2525149729472589, 0.11338407355403035, 0.28764777801072344, 0.020356222128043555, 0.18971827178559414, 0.19416041811863569, 0.20483901176285263, 0.01767148496800548, 0.1076829697662407, 0.05114938119020096, 0.16662738177636488, 0.041473831903293235, 0.274321895703343, 0.23741878927760882, 0.29752371107341224, 0.00036422451591988647, 0.0985076438322411, 0.2675934079556932, 0.22699470826405202, 0.05642642135908659, 0.14945329538167704, 0.10113530678425775, 0.17671831570111898, 5.814814609461649e-05, 0.04231277686655421, 0.12049331566604475, 0.04513882950793518, 0.014503424303964608, 0.15655510756154226, 0.009003484761446348, 0.2283581971337813, 0.08665962291504709, 0.21580657578682158, 0.07748581810364367, 0.4146275533356161, 0.20309341793706284, 0.058697388520584357, 0.003966119343815766, 0.2969299896089694, 0.0011011208376398177, 0.12258000687817144, 0.14714391246920044, 0.2622825476747306, 0.009378913297656548, 0.11724980674348578, 0.10232647537890847, 0.22799025445372062, 0.21094401669824947, 0.25607503386692243, 0.019432926102126657, 0.2713984122285812, 0.29571250451689673, 0.248717036437339, 9.946290530180591e-05, 0.1694324377156953, 0.3144766509503486, 0.1835543264696156, 0.06398027095951164, 0.32188708102075697, 3.9467502665502253e-05, 0.20562062952418295, 0.2917950960464317, 0.18267141550775698, 0.015865915029388136, 0.17225696009895206, 9.756768507089102e-05, 0.13684970393382748, 0.014201339280388936, 0.22711713528928484, 0.4067514023114427, 0.19012681044054988, 0.002486421249026427, 0.29063084230197006, 0.30430831364443095, 0.15885211102391425, 0.13927346825711917, 0.21174530487469262, 0.020226313869746566, 0.07609137008748611, 0.0002496583583868934, 0.18287574320123548, 0.08485304473219202, 0.1868320748328789, 0.25371655051139896, 0.09100830105378753, 0.18582110499516194, 0.21766026866552765, 0.3807762245331283, 0.20507931404360955, 0.24969938425947827, 0.3219544139221466, 0.0009651300752548448, 0.2935702205793562, 0.01230334733314451, 0.09683550650925825, 0.4164765523140578, 0.18780044938758667, 0.16529389440397607, 0.2716530083611094, 0.1908885660374248, 0.2046573509311804, 3.181905668725449e-05, 0.1775547656003682, 0.3640851420262022, 0.12672995286927943, 0.09921918685619278, 0.4233689256957522, 0.11124685615288854, 0.1195470776581819, 0.00705914259970143, 0.062362237852779445, 0.020820515141208164, 0.17291341772785024, 0.09583156125446991, 0.21455518254155323, 0.019751341460524447, 0.1469610275379468, 0.0723073495628548, 0.10295863876271225, 0.05965828205603184, 0.24002013276012524, 0.02349986031951821, 0.10398865556657622, 0.12281619605878827, 0.18253909455286393, 0.12737676385166935, 0.1418555768905157, 0.18567134639954475, 0.15215224599583493, 0.49726330543221425, 0.3999819473399672, 0.041383440205682416, 0.1720400585751187, 0.07473563979807026, 0.1979286586423845, 0.053325301662675885, 0.26770570404628413, 0.012436712209255563, 0.27352320619050596, 0.32850707526431505, 0.21252269169492488, 0.041719396229344126, 0.37164577096826007, 0.08620945969596505, 0.2077764923083415, 0.32946765899823116, 0.1366712000140557, 0.0022353968059562134, 0.21450541634001183, 0.25203357594864106, 0.3240965528799331, 0.36743844902559797, 0.3217009361733264, 0.2055363550111518, 0.08990309818137272, 0.10548437003005044, 0.13940942427382857, 0.30621132647303284, 0.40668376151933217, 0.009123140722526653, 0.27320297848242414, 0.0025370578717565095, 0.21492410865319686, 0.2050702901792647, 0.2352523188328873, 0.024562521657365454, 0.19824883067966712, 0.0022634198765730013, 0.09042904650810335, 0.015350776779326085, 0.148695011065475, 0.23655999172484427, 0.1661840295702754, 0.3035124521362832, 0.2612754442410071, 0.0034196512602685893, 0.28321082538191783, 0.014218976503540315, 0.08062913687269092, 0.013755848588317576, 0.15358590195650096, 0.0050578241337730515, 0.2554669435870902, 0.39845188189510167, 0.18392983535139612, 0.01873492676530475, 0.19746935942237415, 0.0168242825170708, 0.09322414483104698, 0.004413850770063732, 0.23573431968021066, 0.002931700371414081, 0.1402295346319715, 0.39816403735809824, 0.31020927681676397, 0.00042358095303143275, 0.23258223487565063, 0.030918781364192682, 0.13892966426331887, 0.0019434266160232028, 0.06094695335937128, 0.2245512193484332, 0.39218669714531657, 0.006357554100577545, 0.12104072687855913, 0.11306153843607142, 0.17583504860048746, 0.2789536550898788, 0.23543999900004792, 0.33671025078733713, 0.3041014051947056, 1.3424141563689317e-06, 0.08638309377435795, 0.00031273647846319363, 0.17010305976231654, 0.10343807862146706, 0.16101335114144738, 0.39747148023388945, 0.12773554636967477, 0.006558626821749365, 0.1866138767312617, 0.052676722682690524, 0.13455074233756165, 0.037415229082494776, 0.09532200750860814, 0.37753423062352337, 0.2233522544552174, 0.007218133508272562, 0.16874547955747232, 0.011228573592256172, 0.0792046514141294, 0.0897125884156854, 0.12940969681098033, 0.09276296928509903, 0.08151380294752854, 0.16151835962108, 0.2259216023297025, 0.11965684939715023, 0.19755035954150038, 0.0003363997427414889, 0.22287347498144414, 0.02310843502037585, 0.24972301678538586, 0.1107968883587868, 0.21580245989968103, 0.17070613563982853, 0.1946596301231124, 0.0012377184977978573, 0.2576320552800816, 0.012083101158452791, 0.17108444207566675, 0.279232925829193, 0.20769290278950028, 0.3991099967359597, 0.18006921689689376, 0.02108846255608417, 0.18280189473743927, 0.004644961016083471, 0.29419062761240655, 0.06546612405545715, 0.11890853557651317, 0.014728242822176763, 0.2349112422784222, 0.011013989733771419, 0.19795652160413588, 0.23986447079872353, 0.23274191745466566, 0.0012287108059922502, 0.3310194784612177, 0.10730429703688772, 0.1861838041822447, 1.650557438586426e-05, 0.13120894874401437, 0.5452657718363131, 0.1558582590393722, 0.00449944160444223, 0.1663768131093221, 0.29045190353936334, 0.3849468199004094, 0.35453434850513343, 0.3348716217899143, 0.48113804666178717, 0.2693946844262651, 0.005484370634318047, 0.1058327081688238, 0.11580604206638452, 0.22398002784469057, 0.09880625900781545, 0.153517323407074, 4.794167825377116e-05, 0.2067823491156685, 0.049351658773910824, 0.13517418720255886, 0.23536826956243267, 0.20673687916315245, 0.7366126097618043, 0.1320546752200213, 0.0008126802904371289, 0.15467308979283972, 0.0009861258919272586, 0.15287323597957958, 0.07009990700487378, 0.10139251545663382, 0.22259744153016073, 0.20503927529312488, 0.10297697709066933, 0.2737772387845319, 0.18625753781527868, 0.3428976174861534, 0.00046531585067294544, 0.23074586095201358, 0.08331938692191944, 0.14912388584560676, 0.00020692580902026414, 0.15185922435087867, 0.24300865438142613, 0.09715308213321291, 0.026489069443162885, 0.17298697450772238, 0.0007312155670245854, 0.08092241641821714, 0.0025378426273003165, 0.16870332054882847, 0.0020292872325740063, 0.1377428125229023, 0.09181520796001526, 0.09083814541139375, 0.025087062133043975, 0.13362550528655145, 0.30410265054408586, 0.20597832468637342, 0.36756136049905475, 0.23534107724669906, 0.0826982186145495, 0.11794805208079012, 0.1457355060651285, 0.2653192574695462, 0.4577698345377987, 0.36112072891756075, 0.30888274791467196, 0.12348006188645946, 0.07028671843742391, 0.053259941340056835, 0.00038139168675677126, 0.2278466757955703, 8.677265904388776e-05, 0.0765823121144725, 0.2503765839395388, 0.32468392905835824, 0.20117263436123753, 0.27104325817362596, 0.0005616721280112813, 0.31240879622624945, 0.2549759026217099, 0.32354427910868394, 0.2743591370041226, 0.19608305105664187, 0.19436179196691228, 0.10194377619386737, 0.012484282446567407, 0.17282431169774387, 0.07131157302333138, 0.2193063586223112, 0.00015247967620448665, 0.3503635538845489, 0.3226075236990373, 0.2326258048149118, 0.10369206681300606, 0.2232074253021567, 0.015707782209791722, 0.21223737247434557, 0.4111444483549261, 0.207512485151646, 0.12594769875075837, 0.18263861528843878, 0.002384927261295808, 0.041450495406706755, 0.01496096388712019, 0.44612862079231946, 0.011605220698746166, 0.14571652061775145, 0.0003237661498537313, 0.3194667389298461, 0.02914929331521705, 0.1255881934979216, 0.03437147185173295, 0.1557107840801113, 0.13266485089860275, 0.19399041115428814, 0.09340278409430622, 0.3478819373942735, 0.018411049386150086, 0.254313858288671, 0.6212632347948419, 0.11251112845772326, 0.15923458905647894, 0.1898232339949654, 0.014986549625496103, 0.29371329940752916, 0.25497544924780374, 0.1926218356247927, 0.321729724887105, 0.27049732715646, 0.2639552218415138, 0.21107505877732263, 0.007018002059999011, 0.11132195436437325, 0.011165274745781368, 0.2892850640590497, 0.20009983194094616, 0.10401374745385236, 0.06633633733533012, 0.27246188552244693, 0.08759592337786033, 0.28489131516265975, 0.010278462794426346, 0.070240071541733, 0.30320518518073397, 0.1128810269024127, 0.04055668216658148, 0.2295511710988733, 0.055017626720149856, 0.20579514207820715, 0.029321643224648142, 0.3235618016560498, 0.011083834610248724, 0.13140700478364278, 0.46117698317343286, 0.09265780829843033, 0.20053365479143662, 0.21591490124070817, 0.2063677218629049, 0.24940056331252047, 0.00020439335832966865, 0.470172954695618, 0.0005472204085563703, 0.21710177655087273, 0.34139720086092495, 0.3708177523714063, 0.01250364642107867, 0.1787605924447973, 0.04370638917295208, 0.18195493098840929, 0.02288340895482656, 0.17723275022916438, 0.28643529654006034, 0.1622819197132755, 0.14190636279627697, 0.2041757011568701, 0.10729511103477307, 0.17944477913696177, 0.00047578735139381935, 0.08456107108380129, 0.24301229854675263, 0.1377002197835927, 0.32317315755046494, 0.15500705392495864, 0.04694490354631853, 0.20687267352567307, 0.18038982459288042, 0.13509262109542872, 0.2690991342105075, 0.15055673269485187, 0.15958422195331234, 0.13738159349842322, 0.006730899272952229, 0.07583651981159928, 0.22251008973853903, 0.2763920897404966, 0.34155496261071505, 0.2775156491146845, 0.3746407740111955, 0.24965537156324513, 8.727428860311193e-05, 0.25043256094568006, 0.005858990197537459, 0.1317753362295267, 0.04208408488449065, 0.22343434106761068, 0.29921189002138987, 0.09207203298216002, 0.5473463347653623, 0.24760615754344062, 0.005529975726769213, 0.21581956465662971, 0.2594475545149209, 0.20527407884366866, 0.1055720616252734, 0.26703852050053656, 0.29358371270479894, 0.3200691155253594, 0.24308125819352602, 0.11044402204066743, 0.16812448608769565, 0.3085581404478981, 0.03722338368779532, 0.247207202905746, 0.6009689603546207, 0.12445169443175223, 0.35181008097451427, 0.153806538069318, 0.20151349160123866, 0.27401133891285856, 0.055844333446267616, 0.1608661048050793, 0.09686296403547853, 0.13684355109308577, 0.0015382561679559664, 0.097521054828475, 0.30500493713037335, 0.14305107383697255, 0.4059837926962941, 0.2055651623836371, 0.24101192775671937, 0.4120085701271026, 0.10003324488322145, 0.3868891532454097, 0.0451696363427061, 0.1477848979761897, 0.35111235698291177, 0.1474717298040037, 0.07581296426589618, 0.42382399242630864, 0.22017530264499818, 0.14823548087527122, 0.26178075564914594, 0.1546438234805234, 0.06566374871363223, 0.25860189833801167, 0.014044247963283851, 0.19032746425210492, 0.08387665757145539, 0.10281623998047584, 1.3097991470090165e-05, 0.035755409243697474, 0.036139367509167644, 0.22225758678579705, 0.24896451336874054, 0.1901225619999992, 0.0012191047930949495, 0.2163374071652654, 0.0003864606559140782, 0.21937176781182408, 0.08498519000608788, 0.10595722155042073, 0.15441269461003826, 0.22801726097446715, 0.02062113976640748, 0.27400561421761854, 0.1284671543819968, 0.1576147210763721, 0.28063191318031966, 0.18970432648075633, 0.2968078303763946, 0.10054441967621361, 0.24586543785429274, 0.1391615336499888, 0.04449244912566428, 0.11313210346405153, 0.09466398757443686, 0.07459077493616065, 0.011575697575304491, 0.2025950184961704, 0.3382830384730206, 0.22725284225646059, 0.0041696478156524105, 0.07732729476806632, 0.018121387946718772, 0.280143932728933, 0.3546893177917125, 0.17871704863335694, 0.2988367824523888, 0.24545771258179636, 0.19141746086418068, 0.3918162057191564, 0.39907885107218133, 0.11958025183218067, 0.1571084739896378, 0.12585898058932585, 0.0035957718937424943, 0.09863610482545848, 0.22153713573607092, 0.3449499649002312, 0.04863130096084234, 0.1551760613661024, 0.005429219779519674, 0.1873438499123185, 0.13754840150332295, 0.12756770207034532, 0.1438546307566477, 0.15394550875162866, 0.0036850266585399063, 0.1196017110936148, 0.040042361342784716, 0.08831759318512693, 0.021573028604618773, 0.21271977913913814, 0.07526732465161483, 0.1732411097202256, 0.4545671224326651, 0.11410516559759487, 0.052928801364280596, 0.17123974829838595, 0.7053342867392405, 0.19575580992634453, 0.0004480988553021703, 0.12205669334532969, 0.08381875819635336, 0.10073007704826979, 0.07391552700145591, 0.010629559376323386, 0.05321856800756822, 0.19303019255058557, 0.4770372775192797, 0.09286185599802958, 0.3195627360606217, 0.10192857404769955, 0.015031962221457936, 0.19840824283696748, 0.10194039505012521, 0.06446416073688922, 0.0022476412894118563, 0.38710294909958815, 0.11497854225404984, 0.40577657815367424, 0.307384780394314, 0.1790590717236308, 0.05496787920196198, 0.20828718390028408, 0.2500592028937213, 0.19675304049702366, 0.04623614898858048, 0.1852804389211043, 0.7073836519693786, 0.11915304648500775, 0.022148258844387314, 0.2635329170030074, 0.16458084999086017, 0.1361906383675697, 0.00019488816856770718, 0.05624770002968676, 0.13005874401359405, 0.2659703969157611, 0.009660446963744653, 0.14335283376205168, 0.35395859008167463, 0.19157805249303847, 0.0715552308670716, 0.11063628536299543, 0.0020341179861806504, 0.09676411484275464, 0.10978564649278931, 0.23339739964917103, 0.09652288080445075, 0.17354610287449904, 0.193589564148729, 0.1540617242253737, 0.0008697241040880321, 0.05654401150486768, 0.003456441201024063, 0.12575660912336303, 0.09709712785672063, 0.2719559422820964, 0.008006814617334612, 0.33526320358676254, 0.07089832312019094, 0.19717343530465498, 0.05596262846065869, 0.21615105682218225, 0.08388059445711146, 0.30736418476573363, 0.1768744983992241, 0.09189214487471446, 0.5769560670804099, 0.11765881653960833, 0.047406334382666865, 0.21385504029365607, 0.4531775287664763, 0.13788490068729464, 0.07359317100927608, 0.06539521016804006, 0.10884656331836595, 0.10392207125855399, 0.10174499041963868, 0.22992677356409955, 0.22877504759578318, 0.24609120374565185, 0.002288764333195914, 0.2485892173713279, 0.004020906940915836, 0.19354602179325295, 0.21855744609846234, 0.3148309951256225, 0.0004281763317521836, 0.14388816717150477, 5.297760691411746e-05, 0.17338909916591955, 0.28979503412101265, 0.2661129375426502, 0.27011410232458954, 0.1965165412609886, 0.2146052861432736, 0.2306415550016479, 0.2731939204072776, 0.20969547173277597, 0.6891264872738414, 0.2280157238845458, 0.00033007649884080336, 0.26727908812584983, 0.14793002472929492, 0.23047375034247664, 0.0036022904404635625, 0.141090633151424, 0.2999384432035137, 0.14072165233513115, 0.45767310706848846, 0.26883912434224927, 0.003995965719614958, 0.13767819484611046, 0.08329405632293, 0.19369296432924046, 0.006776882193629301, 0.1651095282027928, 0.10388824246725789, 0.16162148229124476, 0.12815990316692233, 0.18352297757384403, 0.012895573072910338, 0.23807253259376054, 0.26281897666248805, 0.23114510229246119, 0.162912589071701, 0.07981498726698301, 0.688008766661109, 0.15135329771390102, 0.09772343951181597, 0.18620536352306902, 0.03998111205295629, 0.07586873928193907, 0.05600178364872161, 0.0930985305392333, 0.01906669181909654, 0.17663414994262894, 0.21021144661894364, 0.20791128358359642, 0.3256610026253894, 0.3072329489065914, 0.326839067106619, 0.23050881783343546, 0.36347755120969666, 0.19667550878487638, 0.020404128109720254, 0.11493091528767312, 0.2781909452730308, 0.06500516524920841, 0.017124874062997786, 0.25469741025938547, 0.11094250714459239, 0.1706570515596452, 0.14868087714003764, 0.23011718922389018, 0.27059463350299967, 0.08157180541877442, 0.20363262802304688, 0.19617198370232797, 0.009563764375318584, 0.27626238835118094, 0.16984104158517863, 0.34193151765224256, 0.2213252583073467, 0.22697738297441708, 0.688791601319909, 0.3184353750895094, 0.201109222570815, 0.2642354222312805, 0.06228735228392503, 0.19955800590984205, 0.002643355209468266, 0.4393881100588313, 0.38772861243054424, 0.2704815126290967, 0.01963334226074191, 0.2331098035300838, 0.10729607844474368, 0.18969423486996728, 0.05309828772993974, 0.2554519531871049, 0.10272410456230897, 0.2958875508892734, 0.06883945566559231, 0.20537141264648004, 0.06905327570133764, 0.25994242471790224, 0.13533133043685147, 0.18650756093186122, 0.2998507240308092, 0.16274395064397276, 0.013189702744594856, 0.16149350014730393, 0.3264395441451035, 0.12368274396629883, 0.17447758911468306, 0.299938392422192, 0.29984750982326314, 0.11526977084095084, 0.30499550241525714, 0.22637371490546968, 0.005493574767052964, 0.10178520022813524, 0.0012964779269641902, 0.1859629449117963, 0.23030298394134927, 0.2600241587298972, 0.015658688993110244, 0.15646201743063398, 0.05554030621351558, 0.25201371368430536, 0.3707798191085636, 0.2259143520698722, 0.016324473382772917, 0.09067046669785689, 0.05900284684373231, 0.2171637478012388, 0.00136120173198963, 0.10161836952142075, 0.1451211978040047, 0.3620978860875612, 0.07358964912236843, 0.18251121357034777, 0.17394249487088018, 0.21379120993097178, 0.000925191812654195, 0.21662771350959173, 0.07603977267189697, 0.17169457076041092, 0.021436858247552988, 0.20107276362241264, 0.0036307220710511956, 0.0652530002020847, 0.1544022399645935, 0.14196613443168307, 0.16654454466996657, 0.1966792749746676, 0.0016118359623368374, 0.09806293207380232, 0.082163890098165, 0.1378016715822888, 0.29342918332847173, 0.23349658519281627, 0.01076196744073216, 0.04406154418358663, 0.03305111359588029, 0.0368459076276411, 0.003210053474942219, 0.011238638842910209, 7.243344536383185e-05, 0.25856076098813335, 0.039232067996702924, 0.33187263285823504, 0.32094973272387733, 0.202939990205234, 0.11301090948983301, 0.10871128066922559, 0.008961712635333186, 0.13908852493700316, 0.007864970221985026, 0.2965540570410759, 0.3888396451016926, 0.12511907225577365, 0.3158542340561785, 0.24726032706994236, 0.0034456334940387023, 0.19799952205509422, 0.13247191618050744, 0.1486879312122644, 0.14306864214119383, 0.25412258354892425, 0.028321379680749357, 0.3805380243108418, 0.011022355515964881, 0.07043960682926702, 0.0005297200710444372, 0.1594303776845155, 0.00489050727072012, 0.1584959168123954, 0.03296365618643904, 0.10565478361769369, 0.11125275928745697, 0.17465734269021269, 0.3286613870450121, 0.24048209261034484, 0.00042441112880927295, 0.21311241438913994, 0.23777978155447438, 0.15660278906113415, 0.2965785458372488, 0.20880127725566036, 0.07872207680811272, 0.10608493750972302, 0.0037790745985966843, 0.3866697647535625, 0.018296791948523607, 0.1111470713454446, 0.2405425962113606, 0.2980932499939884, 0.012755449636794461, 0.1431466597815755, 0.3509619579582363, 0.22197075935865423, 0.03400311958322138, 0.21614941040369803, 0.09174301305062536, 0.18675520045764918, 0.4661104538194292, 0.21282553170307233, 0.11309020084717697, 0.17640659843430856, 0.02879656182505208, 0.18272808475121716, 0.02821363739061174, 0.18343007138071865, 0.25455293071524854, 0.19745760646946053, 0.08975885229190225, 0.22513455357865716, 0.32224073558614197, 0.138552285510955, 0.01942213041303851, 0.044397721582896565, 0.1173308620845676, 0.2690162608659626, 0.08417041006835006, 0.3416219244643542, 0.26442962066960174, 0.23723833272549355, 0.07157895618463674, 0.1610088261046099, 0.04968816217650757, 0.2306714454704259, 0.3058400803274405, 0.30101732545696586, 0.3193527030811308, 0.29106094601688426, 0.033430374388359496, 0.09875053015638557, 0.363369821590077, 0.39963872609465906, 0.1195929089244828, 0.11067127825428559, 0.026349918527894676, 0.09336939726646262, 0.4462724962696803, 0.24743772955039867, 0.002882400307198298, 0.18842802844343315, 0.005280908673055608, 0.19761974579418773, 0.15442363627201502, 0.17652060389012622, 0.39457398688124734, 0.1892218705432737, 0.05215309419917702, 0.16790366679465998, 0.09017363658106413, 0.2771457078371093, 0.14138587563931942, 0.10508502719427087, 0.08178271811352596, 0.09240316811804183, 0.43563575310168323, 0.22110037854741088, 0.16158336497218315, 0.23184931040243886, 0.2962787260116627, 0.09735529023448204, 0.051099270545198375, 0.11245551519346042, 0.20978484081595805, 0.1733331718364999, 0.07213744062305372, 0.16057394520132032, 3.134525020875856e-05, 0.22143257319494664, 0.22594314438193885, 0.35542980561252674, 0.4172440126485128, 0.16421360121692158, 0.6078601013224159, 0.14117393014958862, 0.07378197722629244, 0.295788632446494, 0.08608146471202158, 0.14716994791446938, 0.2117790104372174, 0.21262271316376025, 0.10479392676338269, 0.0909412285313903, 0.23323589410334242, 0.18231031426771155, 0.04037969980903178, 0.20487176367738438, 0.3809005708618258, 0.1579332946412591, 0.07729399361899898, 0.262598346348671, 0.05173136050718087, 0.05264746945308252, 0.12155201569900953, 0.16378240689288956, 8.001066664083585e-05, 0.22038256592698108, 0.3858234967220042, 0.20852714577383494, 0.014231564894503532, 0.08578752872243235, 0.0021752399114044843, 0.32344923946377224, 0.592952979433561, 0.22286118796479706, 0.07241430942194711, 0.2788128812998284, 0.18401655735675007, 0.2589095719750641, 0.08739611016939206, 0.28442760064200956, 0.08669081767738503, 0.3109536801849266, 0.14846115268026286, 0.12496517990414809, 0.011521371896430372, 0.29394064768403, 0.0003416744108317081, 0.11834618240015583, 0.0022449732464582955, 0.15303778708164437, 0.14653943273557551, 0.27453159452375764, 0.00010808380079012636, 0.22845748702570937, 0.0027063658253697353, 0.2427801310974667, 0.06873897698005749, 0.09913622052725062, 0.20496458129871575, 0.11509016011604105, 0.20404297805323351, 0.342322072807542, 0.06223392690421089, 0.07770850987599487, 2.0630649833227228e-05, 0.06800146683419403, 0.03474508610505348, 0.16770193218280463, 0.2723843137658049, 0.14297966806930695, 0.0046494376079490645, 0.10902030395054789, 0.012270795215651257, 0.2447677473801361, 0.001474058226847319, 0.4047371411245169, 0.5842228069841563, 0.07973863539117344, 0.018874548311198502, 0.2763989468479177, 0.0974858100991554, 0.18615743895068806, 0.3036911011105957, 0.2042973878940368, 0.013224418929225237, 0.11874090576221352, 0.06160568038509382, 0.1662687130891844, 0.440410167170101, 0.21546069568888176, 0.04633827019198877, 0.2760597615640125, 0.0010997960294834759, 0.06687325618245414, 0.05422185257279537, 0.0614744109627382, 0.17668481775797318, 0.2727789901357066, 0.16514205637277352, 0.14996944588292105, 0.012883344606404279, 0.08921287196421347, 0.001772972677382379, 0.07497196865487035, 0.2586368609823779, 0.27946439907065584, 0.0657305928582564, 0.264848569693435, 0.2912169916339735, 0.1869328491927076, 0.2613270702069312, 0.09934558237561915, 0.06929102068250304, 0.1602690015745792, 0.005598312421670926, 0.11529292347292364, 0.18880751469017318, 0.09665936935191764, 0.00023992314011896573, 0.19557205809827272, 0.018906239690477174, 0.25106402707530334, 0.17349428203980702, 0.37930992396938457, 0.2417024355903252, 0.14175969965029941, 0.06462823770920778, 0.27130796031622784, 0.00939698706780021, 0.08025145652049392, 0.02241659655410331, 0.10491843289601815, 0.19398638380298508, 0.2518882181643123, 0.2515930831604392, 0.15280420613256615, 0.25416726824489005, 0.3386570872130393, 0.06301316399425616, 0.08842717094486853, 0.3555138202231815, 0.1286485076291607, 0.0769214918962461, 0.2109092837354326, 0.09650104119321885, 0.23747040280653364, 0.7320003013680694, 0.21432792416299012, 0.19071319100548578, 0.5037371615749449, 0.3694117872078358, 0.36308670946802596, 0.2928395217655634, 0.23653870302664928, 0.2964453195004353, 0.17147076151011484, 0.13472222320926144, 0.1532675207033435, 0.03795092350189977, 0.10839072869038167, 0.0040277383731108785, 0.2813440685358146, 0.1873659819095863, 0.3703060748402061, 0.0019463341234313702, 0.08376783942568032, 0.2906783244169243, 0.11382306965175185, 0.0024176165831003875, 0.24459121114217283, 0.1175468906812864, 0.1463156035284728, 0.36261297167853856, 0.34940348381422737, 0.03150534625133261, 0.16887295314678458, 0.288072960759083, 0.10616023034441172, 0.00010603635732877592, 0.20597561926248006, 0.006180143770528135, 0.0908937546702418, 0.049397891144929464, 0.12917904522308807, 0.04712492749654716, 0.27469441153491314, 0.04508104627008258, 0.15370577933111104, 0.2180940185660063, 0.1477650798597066, 0.000989235862410472, 0.1370026764253289, 0.04528064071513048, 0.07369640766340187, 0.7234766691708242, 0.21195827398182818, 0.04517761035722006, 0.1920024511470479, 0.00016200305165536832, 0.24265287271104602, 0.2871190896261174, 0.15763772122423708, 0.15356549447926682, 0.2565032491090647, 0.011476583591415604, 0.23920094635994035, 0.11699443843172554, 0.15949437934536606, 3.089222950070081e-05, 0.15137225103634844, 0.09019680880208564, 0.12278021852086814, 0.0035509317942309542, 0.14245974541400264, 0.2804730457079039, 0.2171391416062194, 0.046619925440797134, 0.1445866638370452, 0.010092960702633848, 0.09604783504166825, 0.022215437052667677, 0.1496824916141671, 0.0017609686053390305, 0.11797038089697894, 0.12463504829551486, 0.19933694556804507, 0.22519162218101282, 0.24394537115521642, 0.17688312418045316, 0.13801787719879602, 0.1915488834877408, 0.2302099710728337, 0.016834037636661896, 0.11234999745367545, 0.2704891980016176, 0.1831767008748568, 0.005295635376834398, 0.10261562817084101, 0.16521105325318786, 0.1848488906598935, 0.26116693147304204, 0.2688092234000426, 0.10796425849375169, 0.2274522330041357, 0.0010199504303230282, 0.3193359913287133, 0.017940859049771066, 0.21455444478729552, 0.2454603581599557, 0.22900906935858595, 0.08093003718844509, 0.016760166250292387, 0.0957857138679401, 0.0937811262224736, 0.37627404859166647, 0.2988681296801291, 0.04523470647865006, 0.28243672892113475, 0.06026096744555649, 0.1910468386029806, 0.3421900196185395, 0.23635083582931646, 0.11144041654285014, 0.19214423466437586, 0.11657085406439581, 0.32463142065665807, 0.359040030613869, 0.20135072589410702, 0.15891246304555454, 0.23512880302171102, 0.11786259448672354, 0.42347927373058203, 0.0027155849472535465, 0.25862743657313414, 0.0887319431362279, 0.05574040909290153, 0.12213469047741228, 0.25942559565498585, 7.07619719946706e-05, 0.10971394779339967, 0.26518323092783547, 0.1899858845732223, 0.058158140747520515, 0.059555790918057225, 0.00526802438903896, 0.16470942929930074, 0.010514495909899403, 0.1311928067424366, 0.28571550787283123, 0.10718497210320872, 0.0008516837624483742, 0.07079841228413386, 0.0007621624834595053, 0.0873673903498971, 0.04311361519767161, 0.21557480894778958, 0.012112070811218099, 0.22988804196981322, 0.11220323367908892, 0.12357908661579857, 0.3067393854538261, 0.1602828595053722, 0.0028740016482505376, 0.18711165053672257, 0.004269909661211102, 0.1433485262402698, 0.018338176715232635, 0.08045936303904333, 0.08272470019203126, 0.16113614004862986, 0.0003648541028568412, 0.1950614036145314, 0.2308901164335566, 0.17169543337085108, 0.14110931522048173, 0.23823428942973682, 0.17019970064688658, 0.29341327631544895, 0.019750251122520775, 0.11075858283027572, 0.08114178545133655, 0.19983297114551463, 0.37480258764195606, 0.2583810263755907, 0.3107687441016793, 0.3062296807329809, 0.046656819672243444, 0.27511039182946845, 0.41596909918461383, 0.34481553257826125, 0.21621450799022515, 0.18367532255860444, 0.0031237039556799573, 0.260701421694764, 0.0024936250438269227, 0.13866049409641779, 0.40883063478402953, 0.22641176806842855, 0.005883945610132959, 0.2619776482706235, 0.06598351001145954, 0.14154162220211713, 0.21935159891791042, 0.18580936830765524, 0.10828487356449618, 0.18527678945179105, 0.006115378150442749, 0.16163031840657793, 0.013592251956236368, 0.16038998859975429, 0.004883779278949467, 0.16619443238106513, 0.3285046037118428, 0.22032242122599882, 0.0006454206746203303, 0.2529784482613008, 0.10615576079154769, 0.24087337906129208, 0.2209149037177364, 0.0977014774806408, 0.548544156666903, 0.11606801914695783, 0.0003259697943006147, 0.17189719414877536]\n",
            "[0, 0, 0, 0, 0, 0, 0, 0, 0, 0, 0, 0, 0, 0, 0, 0, 0, 0, 0, 0, 0, 0, 0, 0, 0, 0, 0, 0, 0, 0, 0, 0, 0, 0, 0, 0, 0, 0, 0, 0, 0, 0, 0, 0, 0, 0, 0, 0, 0, 0, 0, 0, 0, 0, 0, 0, 0, 0, 0, 0, 0, 0, 0, 0, 0, 0, 0, 0, 0, 0, 0, 0, 0, 0, 0, 0, 0, 0, 0, 0, 0, 0, 0, 0, 0, 0, 0, 0, 0, 0, 0, 0, 0, 0, 0, 0, 0, 0, 0, 0, 0, 0, 0, 0, 0, 0, 0, 0, 0, 0, 0, 0, 0, 0, 0, 0, 0, 0, 0, 0, 0, 0, 0, 0, 0, 0, 0, 0, 0, 0, 0, 0, 0, 0, 0, 0, 0, 0, 0, 0, 0, 0, 0, 0, 0, 0, 0, 0, 0, 0, 0, 0, 0, 0, 0, 0, 0, 0, 0, 0, 0, 0, 0, 0, 0, 0, 0, 0, 0, 0, 0, 0, 0, 0, 0, 0, 0, 0, 0, 0, 0, 0, 0, 0, 0, 0, 0, 0, 0, 0, 0, 0, 0, 0, 0, 0, 0, 0, 0, 0, 0, 0, 0, 0, 0, 0, 0, 0, 0, 0, 0, 0, 0, 0, 0, 0, 0, 0, 0, 0, 0, 0, 0, 0, 0, 0, 0, 0, 0, 0, 0, 0, 0, 0, 0, 0, 0, 0, 0, 0, 0, 0, 0, 0, 0, 0, 0, 0, 0, 0, 0, 0, 0, 0, 0, 0, 0, 0, 0, 0, 0, 0, 0, 0, 0, 0, 0, 0, 0, 0, 0, 0, 0, 0, 0, 0, 0, 0, 0, 0, 0, 0, 0, 0, 0, 0, 0, 0, 0, 0, 0, 0, 0, 0, 0, 0, 0, 0, 0, 0, 0, 0, 0, 0, 0, 0, 0, 0, 0, 0, 0, 0, 0, 0, 0, 0, 0, 0, 0, 0, 0, 0, 0, 0, 0, 0, 0, 0, 0, 0, 0, 0, 0, 0, 0, 0, 0, 0, 0, 0, 0, 0, 0, 0, 0, 0, 0, 0, 0, 0, 0, 0, 0, 0, 0, 0, 0, 0, 0, 0, 0, 0, 0, 0, 0, 0, 0, 0, 0, 0, 0, 0, 0, 0, 0, 0, 0, 0, 0, 0, 0, 0, 0, 0, 0, 0, 0, 0, 0, 0, 0, 0, 0, 0, 0, 0, 0, 0, 0, 0, 0, 0, 0, 0, 0, 0, 0, 0, 0, 0, 0, 0, 0, 0, 0, 0, 0, 0, 0, 0, 0, 0, 0, 0, 0, 0, 0, 0, 0, 0, 0, 0, 0, 0, 0, 0, 0, 0, 0, 0, 0, 0, 0, 0, 0, 0, 0, 0, 0, 0, 0, 0, 0, 0, 0, 0, 0, 0, 0, 0, 0, 0, 0, 0, 0, 0, 0, 0, 0, 0, 0, 0, 0, 0, 0, 0, 0, 0, 0, 0, 0, 0, 0, 0, 0, 0, 0, 0, 0, 0, 0, 0, 0, 0, 0, 0, 0, 0, 0, 0, 0, 0, 0, 0, 0, 0, 0, 0, 0, 0, 0, 0, 0, 0, 0, 0, 0, 0, 0, 0, 0, 0, 0, 0, 0, 0, 0, 0, 0, 0, 0, 0, 0, 0, 0, 0, 0, 0, 0, 0, 0, 0, 0, 0, 0, 0, 0, 0, 0, 0, 0, 0, 0, 0, 0, 0, 0, 0, 0, 0, 0, 0, 0, 0, 0, 0, 0, 0, 0, 0, 0, 0, 0, 0, 0, 0, 0, 0, 0, 0, 0, 0, 0, 0, 0, 0, 0, 0, 0, 0, 0, 0, 0, 0, 0, 0, 0, 0, 0, 0, 0, 0, 0, 0, 0, 0, 0, 0, 0, 0, 0, 0, 0, 0, 0, 0, 0, 0, 0, 0, 0, 0, 0, 0, 0, 0, 0, 0, 0, 0, 0, 0, 0, 0, 0, 0, 0, 0, 0, 0, 0, 0, 0, 0, 0, 0, 0, 0, 0, 0, 0, 0, 0, 0, 0, 0, 0, 0, 0, 0, 0, 0, 0, 0, 0, 0, 0, 0, 0, 0, 0, 0, 0, 0, 0, 0, 0, 0, 0, 0, 0, 0, 0, 0, 0, 0, 0, 0, 0, 0, 0, 0, 0, 0, 0, 0, 0, 0, 0, 0, 0, 0, 0, 0, 0, 0, 0, 0, 0, 0, 0, 0, 0, 0, 0, 0, 0, 0, 0, 0, 0, 0, 0, 0, 0, 0, 0, 0, 0, 0, 0, 0, 0, 0, 0, 0, 0, 0, 0, 0, 0, 0, 0, 0, 0, 0, 0, 0, 0, 0, 0, 0, 0, 0, 0, 0, 0, 0, 0, 0, 0, 0, 0, 0, 0, 0, 0, 0, 0, 0, 0, 0, 0, 0, 0, 0, 0, 0, 0, 0, 0, 0, 0, 0, 0, 0, 0, 0, 0, 0, 0, 0, 0, 0, 0, 0, 0, 0, 0, 0, 0, 0, 0, 0, 0, 0, 0, 0, 0, 0, 0, 0, 0, 0, 0, 0, 0, 0, 0, 0, 0, 0, 0, 0, 0, 0, 0, 0, 0, 0, 0, 0, 0, 0, 0, 0, 0, 0, 0, 0, 0, 0, 0, 0, 0, 0, 0, 0, 0, 0, 0, 0, 0, 0, 0, 0, 0, 0, 0, 0, 0, 0, 0, 0, 0, 0, 0, 0, 0, 0, 0, 0, 0, 0, 0, 0, 0, 0, 0, 0, 0, 0, 0, 0, 0, 0, 0, 0, 0, 0, 0, 0, 0, 0, 0, 0, 0, 0, 0, 0, 0, 0, 0, 0, 0, 0, 0, 0, 0, 0, 0, 0, 0, 0, 0, 0, 0, 0, 0, 0, 0, 0, 0, 0, 0, 0, 0, 0, 0, 0, 0, 0, 0, 0, 0, 0, 0, 0, 0, 0, 0, 0, 0, 0, 0, 0, 0, 0, 0, 0, 0, 0, 0, 0, 0, 0, 0, 0, 0, 0, 0, 0, 0, 0, 0, 0, 0, 0, 0, 0, 0, 0, 0, 0, 0, 0, 0, 0, 0, 0, 0, 0, 0, 0, 0, 0, 0, 0, 0, 0, 0, 0, 0, 0, 0, 0, 0, 0, 0, 0, 0, 0, 0, 0, 0, 0, 0, 0, 0, 0, 0, 0, 0, 0, 0, 0, 0, 0, 0, 0, 0, 0, 0, 0, 0, 0, 0, 0, 0, 0, 0, 0, 0, 0, 0, 0, 0, 0, 0, 0, 0, 0, 0, 0, 0, 0, 0, 0, 0, 0, 0, 0, 0, 0, 0, 0, 0, 0, 0, 0, 0, 0, 0, 0, 0, 0, 0, 0, 0, 0, 0, 0, 0, 0, 0, 0, 0, 0, 0, 0, 0, 0, 0, 0, 0, 0, 0, 0, 0, 0, 0, 0, 0, 0, 0, 0, 0, 0, 0, 0, 0, 0, 0, 0, 0, 0, 0, 0, 0, 0, 0, 0, 0, 0, 0, 0, 0, 0, 0, 0, 0, 0, 0, 0, 0, 0, 0, 0, 0, 0, 0, 0, 0, 0, 0, 0, 0, 0, 0, 0, 0, 0, 0, 0, 0, 0, 0, 0, 0, 0, 0, 0, 0, 0, 0, 0, 0, 0, 0, 0, 0, 0, 0, 0, 0, 0, 0, 0, 0, 0, 0, 0, 0, 0, 0, 0, 0, 0, 0, 0, 0, 0, 0, 0, 0, 0, 0, 0, 0, 0, 0, 0, 0, 0, 0, 0, 0, 0, 0, 0, 0, 0, 0, 0, 0, 0, 0, 0, 0, 0, 0, 0, 0, 0, 0, 0, 0, 0, 0, 0, 0, 0, 0, 0, 0, 0, 0, 0, 0, 0, 0, 0, 0, 0, 0, 0, 0, 0, 0, 0, 0, 0, 0, 0, 0, 0, 0, 0, 0, 0, 0, 0, 0, 0, 0, 0, 0, 0, 0, 0, 0, 0, 0, 0, 0, 0, 0, 0, 0, 0, 0, 0, 0, 0, 0, 0, 0, 0, 0, 0, 0, 0, 0, 0, 0, 0, 0, 0, 0, 0, 0, 0, 0, 0, 0, 0, 0, 0, 0, 0, 0, 0, 0, 0, 0, 0, 0, 0, 0, 0, 0, 0, 0, 0, 0, 0, 0, 0, 0, 0, 0, 0, 0, 0, 0, 0, 0, 0, 0, 0, 0, 0, 0, 0, 0, 0, 0, 0, 0, 0, 0, 0, 0, 0, 0, 0, 0, 0, 0, 0, 0, 0, 0, 0, 0, 0, 0, 0, 0, 0, 0, 0, 0, 0, 0, 0, 0, 0, 0, 0, 0, 0, 0, 0, 0, 0, 0, 0, 0, 0, 0, 0, 0, 0, 0, 0, 0, 0, 0, 0, 0, 0, 0, 0, 0, 0, 0, 0, 0, 0, 0, 0, 0, 0, 0, 0, 0, 0, 0, 0, 0, 0, 0, 0, 0, 0, 0, 0, 0, 0, 0, 0, 0, 0, 0, 0, 0, 0, 0, 0, 0, 0, 0, 0, 0, 0, 0, 0, 0, 0, 0, 0, 0, 0, 0, 0, 0, 0, 0, 0, 0, 0, 0, 0, 0, 0, 0, 0, 0, 0, 0, 0, 0, 0, 0, 0, 0, 0, 0, 0, 0, 0, 0, 0, 0, 0, 0, 0, 0, 0, 0, 0, 0, 0, 0, 0, 0, 0, 0, 0, 0, 0, 0, 0, 0, 0, 0, 0, 0, 0, 0, 0, 0, 0, 0, 0, 0, 0, 0, 0, 0, 0, 0, 0, 0, 0, 0, 0, 0, 0, 0, 0, 0, 0, 0, 0, 0, 0, 0, 0, 0, 0, 0, 0, 0, 0, 0, 0, 0, 0, 0, 0, 0, 0, 0, 0, 0, 0, 0, 0, 0, 0, 0, 0, 0, 0, 0, 0, 0, 0, 0, 0, 0, 0, 0, 0, 0, 0, 0, 0, 0, 0, 0, 0, 0, 0, 0, 0, 0, 0, 0, 0, 0, 0, 0, 0, 0, 0, 0, 0, 0, 0, 0, 0, 0, 0, 0, 0, 0, 0, 0, 0, 0, 0, 0, 0, 0, 0, 0, 0, 0, 0, 0, 0, 0, 0, 0, 0, 0, 0, 0, 0, 0, 0, 0, 0, 0, 0, 0, 0, 0, 0, 0, 0, 0, 0, 0, 0, 0, 0, 0, 0, 0, 0, 0, 0, 0, 0, 0, 0, 0, 0, 0, 0, 0, 0, 0, 0, 0, 0, 0, 0, 0, 0, 0, 0, 0, 0, 0, 0, 0, 0, 0, 0, 0, 0, 0, 0, 0, 0, 0, 0, 0, 0, 0, 0, 0, 0, 0, 0, 0, 0, 0, 0, 0, 0, 0, 0, 0, 0, 0, 0, 0, 0, 0, 0, 0, 0, 0, 0, 0, 0, 0, 0, 0, 0, 0, 0, 0, 0, 0, 0, 0, 0, 0, 0, 0, 0, 0, 0, 0, 0, 0, 0, 0, 0, 0, 0, 0, 0, 0, 0, 0, 0, 0, 0, 0, 0, 0, 0, 0, 0, 0, 0, 0, 0, 0, 0, 0, 0, 0, 0, 0, 0, 0, 0, 0, 0, 0, 0, 0, 0, 0, 0, 0, 0, 0, 0, 0, 0, 0, 0, 0, 0, 0, 0, 0, 0, 0, 0, 0, 0, 0, 0, 0, 0, 0, 0, 0, 0, 0, 0, 0, 0, 0, 0, 0, 0, 0, 0, 0, 0, 0, 0, 0, 0, 0, 0, 0, 0, 0, 0, 0, 0, 0, 0, 0, 0, 0, 0, 0, 0, 0, 0, 0, 0, 0, 0, 0, 0, 0, 0, 0, 0, 0, 0, 0, 0, 0, 0, 0, 0, 0, 0, 0, 0, 0, 0, 0, 0, 0, 0, 0, 0, 0, 0, 0, 0, 0, 0, 0, 0, 0, 0, 0, 0, 0, 0, 0, 0, 0, 0, 0, 0, 0, 0, 0, 0, 0, 0, 0, 0, 0, 0, 0, 0, 0, 0, 0, 0, 0, 0, 0, 0, 0, 0, 0, 0, 0, 0, 0, 0, 0, 0, 0, 0, 0, 0, 0, 0, 0, 0, 0, 0, 0, 0, 0, 0, 0, 0, 0, 0, 0, 0, 0, 0, 0, 0, 0, 0, 0, 0, 0, 0, 0, 0, 0, 0, 0, 0, 0, 0, 0, 0, 0, 0, 0, 0, 0, 0, 0, 0, 0, 0, 0, 0, 0, 0, 0, 0, 0, 0, 0, 0, 0, 0, 0, 0, 0, 0, 0, 0, 0, 0, 0, 0, 0, 0, 0, 0, 0, 0, 0, 0, 0, 0, 0, 0, 0, 0, 0, 0, 0, 0, 0, 0, 0, 0, 0, 0, 0, 0, 0, 0, 0, 0, 0, 0, 0, 0, 0, 0, 0, 0, 0, 0, 0, 0, 0, 0, 0, 0, 0, 0, 0, 0, 0, 0, 0, 0, 0, 0, 0, 0, 0, 0, 0, 0, 0, 0, 0, 0, 0, 0, 0, 0, 0, 0, 0, 0, 0, 0, 0, 0, 0, 0, 0, 0, 0, 0, 0, 0, 0, 0, 0, 0, 0, 0, 0, 0, 0, 0, 0, 0, 0, 0, 0, 0, 0, 0, 0, 0, 0, 0, 0, 0, 0, 0, 0, 0, 0, 0, 0, 0, 0, 0, 0, 0, 0, 0, 0, 0, 0, 0, 0, 0, 0, 0, 0, 0, 0, 0, 0, 0, 0, 0, 0, 0, 0, 0, 0, 0, 0, 0, 0, 0, 0, 0, 0, 0, 0, 0, 0, 0, 0, 0, 0, 0, 0, 0, 0, 0, 0, 0, 0, 0, 0, 0, 0, 0, 0, 0, 0, 0, 0, 0, 0, 0, 0, 0, 0, 0, 0, 0, 0, 0, 0, 0, 0, 0, 0, 0, 0, 0, 0, 0, 0, 0, 0, 0, 0, 0, 0, 0, 0, 0, 0, 0, 0, 0, 0, 0, 0, 0, 0, 0, 0, 0, 0, 0, 0, 0, 0, 0, 0, 0, 0, 0, 0, 0, 0, 0, 0, 0, 0, 0, 0, 0, 0, 0, 0, 0, 0, 0, 0, 0, 0, 0, 0, 0, 0, 0, 0, 0, 0, 0, 0, 0, 0, 0, 0, 0, 0, 0, 0, 0, 0, 0, 0, 0, 0, 0, 0, 0, 0, 0, 0, 0, 0, 0, 0, 0, 0, 0, 0, 0, 0, 0, 0, 0, 0, 0, 0, 0, 0, 0, 0, 0, 0, 0, 0, 0, 0, 0, 0, 0, 0, 0, 0, 0, 0, 0, 0, 0, 0, 0, 0, 0, 0, 0, 0, 0, 0, 0, 0, 0, 0, 0, 0, 0, 0, 0, 0, 0, 0, 0, 0, 0, 0, 0, 0, 0, 0, 0, 0, 0, 0, 0, 0, 0, 0, 0, 0, 0, 0, 0, 0, 0, 0, 0, 0, 0, 0, 0, 0, 0, 0, 0, 0, 0, 0, 0, 0, 0, 0, 0, 0, 0, 0, 0, 0, 0, 0, 0, 0, 0, 0, 0, 0, 0, 0, 0, 0, 0, 0, 0, 0, 0, 0, 0, 0, 0, 0, 0, 0, 0, 0, 0, 0, 0, 0, 0, 0, 0, 0, 0, 0, 0, 0, 0, 0, 0, 0, 0, 0, 0, 0, 0, 0, 0, 0, 0, 0, 0, 0, 0, 0, 0, 0, 0, 0, 0, 0, 0, 0, 0, 0, 0, 0, 0, 0, 0, 0, 0, 0, 0, 0, 0, 0, 0, 0, 0, 0, 0, 0, 0, 0, 0, 0, 0, 0, 0, 0, 0, 0, 0, 0, 0, 0, 0, 0, 0, 0, 0, 0, 0, 0, 0, 0, 0, 0, 0, 0, 0, 0, 0, 0, 0, 0, 0, 0, 0, 0, 0, 0, 0, 0, 0, 0, 0, 0, 0, 0, 0, 0, 0, 0, 0, 0, 0, 0, 0, 0, 0, 0, 0, 0, 0, 0, 0, 0, 0, 0, 0, 0, 0, 0, 0, 0, 0, 0, 0, 0, 0, 0, 0, 0, 0, 0, 0, 0, 0, 0, 0, 0, 0, 0, 0, 0, 0, 0, 0, 0, 0, 0, 0, 0, 0, 0, 0, 0, 0, 0, 0, 0, 0, 0, 0, 0, 0, 0, 0, 0, 0, 0, 0, 0, 0, 0, 0, 0, 0, 0, 0, 0, 0, 0, 0, 0, 0, 0, 0, 0, 0, 0, 0, 0, 0, 0, 0, 0, 0, 0, 0, 0, 0, 0, 0, 0, 0, 0, 0, 0, 0, 0, 0, 0, 0, 0, 0, 0, 0, 0, 0, 0, 0, 0, 0, 0, 0, 0, 0, 0, 0, 0, 0, 0, 0, 0, 0, 0, 0, 0, 0, 0, 0, 0, 0, 0, 0, 0, 0, 0, 0, 0, 0, 0, 0, 0, 0, 0, 0, 0, 0, 0, 0, 0, 0, 0, 0, 0, 0, 0, 0, 0, 0, 0, 0, 0, 0, 0, 0, 0, 0, 0, 0, 0, 0, 0, 0, 0, 0, 0, 0, 0, 0, 0, 0, 0, 0, 0, 0, 0, 0, 0, 0, 0, 0, 0, 0, 0, 0, 0, 0, 0, 0, 0, 0, 0, 0, 0, 0, 0, 0, 0, 0, 0, 0, 0, 0, 0, 0, 0, 0, 0, 0, 0, 0, 0, 0, 0, 0, 0, 0, 0, 0, 0, 0, 0, 0, 0, 0, 0, 0, 0, 0, 0, 0, 0, 0, 0, 0, 0, 0, 0, 0, 0, 0, 0, 0, 0, 0, 0, 0, 0, 0, 0, 0, 0, 0, 0, 0, 0, 0, 0, 0, 0, 0, 0, 0, 0, 0, 0, 0, 0, 0, 0, 0, 0, 0, 0, 0, 0, 0, 0, 0, 0, 0, 0, 0, 0, 0, 0, 0, 0, 0, 0, 0, 0, 0, 0, 0, 0, 0, 0, 0, 0, 0, 0, 0, 0, 0, 0, 0, 0, 0, 0, 0, 0, 0, 0, 0, 0, 0, 0, 0, 0, 0, 0, 0, 0, 0, 0, 0, 0, 0, 0, 0, 0, 0, 0, 0, 0, 0, 0, 0, 0, 0, 0, 0, 0, 0, 0, 0, 0, 0, 0, 0, 0, 0, 0, 0, 0, 0, 0, 0, 0, 0, 0, 0, 0, 0, 0, 0, 0, 0, 0, 0, 0, 0, 0, 0, 0, 0, 0, 0, 0, 0, 0, 0, 0, 0, 0, 0, 0, 0, 0, 0, 0, 0, 0, 0, 0, 0, 0, 0, 0, 0, 0, 0, 0, 0, 0, 0, 0, 0, 0, 0, 0, 0, 0, 0, 0, 0, 0, 0, 0, 0, 0, 0, 0, 0, 0, 0, 0, 0, 0, 0, 0, 0, 0, 0, 0, 0, 0, 0, 0, 0, 0, 0, 0, 0, 0, 0, 0, 0, 0, 0, 0, 0, 0, 0, 0, 0, 0, 0, 0, 0, 0, 0, 0, 0, 0, 0, 0, 0, 0, 0, 0, 0, 0, 0, 0, 0, 0, 0, 0, 0, 0, 0, 0, 0, 0, 0, 0, 0, 0, 0, 0, 0, 0, 0, 0, 0, 0, 0, 0, 0, 0, 0, 0, 0, 0, 0, 0, 0, 0, 0, 0, 0, 0, 0, 0, 0, 0, 0, 0, 0, 0, 0, 0, 0, 0, 0, 0, 0, 0, 0, 0, 0, 0, 0, 0, 0, 0, 0, 0, 0, 0, 0, 0, 0, 0, 0, 0, 0, 0, 0, 0, 0, 0, 0, 0, 0, 0, 0, 0, 0, 0, 0, 0, 0, 0, 0, 0, 0, 0, 0, 0, 0, 0, 0, 0, 0, 0, 0, 0, 0, 0, 0, 0, 0, 0, 0, 0, 0, 0, 0, 0, 0, 0, 0, 0, 0, 0, 0, 0, 0, 0, 0, 0, 0, 0, 0, 0, 0, 0, 0, 0, 0, 0, 0, 0, 0, 0, 0, 0, 0, 0, 0, 0, 0, 0, 0, 0, 0, 0, 0, 0, 0, 0, 0, 0, 0, 0, 0, 0, 0, 0, 0, 0, 0, 0, 0, 0, 0, 0, 0, 0, 0, 0, 0, 0, 0, 0, 0, 0, 0, 0, 0, 0, 0, 0, 0, 0, 0, 0, 0, 0, 0, 0, 0, 0, 0, 0, 0, 0, 0, 0, 0, 0, 0, 0, 0, 0, 0, 0, 0, 0, 0, 0, 0, 0, 0, 0, 0, 0, 0, 0, 0, 0, 0, 0, 0, 0, 0, 0, 0, 0, 0, 0, 0, 0, 0, 0, 0, 0, 0, 0, 0, 0, 0, 0, 0, 0, 0, 0, 0, 0, 0, 0, 0, 0, 0, 0, 0, 0, 0, 0, 0, 0, 0, 0, 0, 0, 0, 0, 0, 0, 0, 0, 0, 0, 0, 0, 0, 0, 0, 0, 0, 0, 0, 0, 0, 0, 0, 0, 0, 0, 0, 0, 0, 0, 0, 0, 0, 0, 0, 0, 0, 0, 0, 0, 0, 0, 0, 0, 0, 0, 0, 0, 0, 0, 0, 0, 0, 0, 0, 0, 0, 0, 0, 0, 0, 0, 0, 0, 0, 0, 0, 0, 0, 0, 0, 0, 0, 0, 0, 0, 0, 0, 0, 0, 0, 0, 0, 0, 0, 0, 0, 0, 0, 0, 0, 0, 0, 0, 0, 0, 0, 0, 0, 0, 0, 0, 0, 0, 0, 0, 0, 0, 0, 0, 0, 0, 0, 0, 0, 0, 0, 0, 0, 0, 0, 0, 0, 0, 0, 0, 0, 0, 0, 0, 0, 0, 0, 0, 0, 0, 0, 0, 0, 0, 0, 0, 0, 0, 0, 0, 0, 0, 0, 0, 0, 0, 0, 0, 0, 0, 0, 0, 0, 0, 0, 0, 0, 0, 0, 0, 0, 0, 0, 0, 0, 0, 0, 0, 0, 0, 0, 0, 0, 0, 0, 0, 0, 0, 0, 0, 0, 0, 0, 0, 0, 0, 0, 0, 0, 0, 0, 0, 0, 0, 0, 0, 0, 0, 0, 0, 0, 0, 0, 0, 0, 0, 0, 0, 0, 0, 0, 0, 0, 0, 0, 0, 0, 0, 0, 0, 0, 0, 0, 0, 0, 0, 0, 0, 0, 0, 0, 0, 0, 0, 0, 0, 0, 0, 0, 0, 0, 0, 0, 0, 0, 0, 0, 0, 0, 0, 0, 0, 0, 0, 0, 0, 0, 0, 0, 0, 0, 0, 0, 0, 0, 0, 0, 0, 0, 0, 0, 0, 0, 0, 0, 0, 0, 0, 0, 0, 0, 0, 0, 0, 0, 0, 0, 0, 0, 0, 0, 0, 0, 0, 0, 0, 0, 0, 0, 0, 0, 0, 0, 0, 0, 0, 0, 0, 0, 0, 0, 0, 0, 0, 0, 0, 0, 0, 0, 0, 0, 0, 0, 0, 0, 0, 0, 0, 0, 0, 0, 0, 0, 0, 0, 0, 0, 0, 0, 0, 0, 0, 0, 0, 0, 0, 0, 0, 0, 0, 0, 0, 0, 0, 0, 0, 0, 0, 0, 0, 0, 0, 0, 0, 0, 0, 0, 0, 0, 0, 0, 0, 0, 0, 0, 0, 0, 0, 0, 0, 0, 0, 0, 0, 0, 0, 0, 0, 0, 0, 0, 0, 0, 0, 0, 0, 0, 0, 0, 0, 0, 0, 0, 0, 0, 0, 0, 0, 0, 0, 0, 0, 0, 0, 0, 0, 0, 0, 0, 0, 0, 0, 0, 0, 0, 0, 0, 0, 0, 0, 0, 0, 0, 0, 0, 0, 0, 0, 0, 0, 0, 0, 0, 0, 0, 0, 0, 0, 0, 0, 0, 0, 0, 0, 0, 0, 0, 0, 0, 0, 0, 0, 0, 0, 0, 0, 0, 0, 0, 0, 0, 0, 0, 0, 0, 0, 0, 0, 0, 0, 0, 0, 0, 0, 0, 0, 0, 0, 0, 0, 0, 0, 0, 0, 0, 0, 0, 0, 0, 0, 0, 0, 0, 0, 0, 0, 0, 0, 0, 0, 0, 0, 0, 0, 0, 0, 0, 0, 0, 0, 0, 1, 1, 1, 1, 1, 1, 1, 1, 1, 1, 1, 1, 1, 1, 1, 1, 1, 1, 1, 1, 1, 1, 1, 1, 1, 1, 1, 1, 1, 1, 1, 1, 1, 1, 1, 1, 1, 1, 1, 1, 1, 1, 1, 1, 1, 1, 1, 1, 1, 1, 1, 1, 1, 1, 1, 1, 1, 1, 1, 1, 1, 1, 1, 1, 1, 1, 1, 1, 1, 1, 1, 1, 1, 1, 1, 1, 1, 1, 1, 1, 1, 1, 1, 1, 1, 1, 1, 1, 1, 1, 1, 1, 1, 1, 1, 1, 1, 1, 1, 1, 1, 1, 1, 1, 1, 1, 1, 1, 1, 1, 1, 1, 1, 1, 1, 1, 1, 1, 1, 1, 1, 1, 1, 1, 1, 1, 1, 1, 1, 1, 1, 1, 1, 1, 1, 1, 1, 1, 1, 1, 1, 1, 1, 1, 1, 1, 1, 1, 1, 1, 1, 1, 1, 1, 1, 1, 1, 1, 1, 1, 1, 1, 1, 1, 1, 1, 1, 1, 1, 1, 1, 1, 1, 1, 1, 1, 1, 1, 1, 1, 1, 1, 1, 1, 1, 1, 1, 1, 1, 1, 1, 1, 1, 1, 1, 1, 1, 1, 1, 1, 1, 1, 1, 1, 1, 1, 1, 1, 1, 1, 1, 1, 1, 1, 1, 1, 1, 1, 1, 1, 1, 1, 1, 1, 1, 1, 1, 1, 1, 1, 1, 1, 1, 1, 1, 1, 1, 1, 1, 1, 1, 1, 1, 1, 1, 1, 1, 1, 1, 1, 1, 1, 1, 1, 1, 1, 1, 1, 1, 1, 1, 1, 1, 1, 1, 1, 1, 1, 1, 1, 1, 1, 1, 1, 1, 1, 1, 1, 1, 1, 1, 1, 1, 1, 1, 1, 1, 1, 1, 1, 1, 1, 1, 1, 1, 1, 1, 1, 1, 1, 1, 1, 1, 1, 1, 1, 1, 1, 1, 1, 1, 1, 1, 1, 1, 1, 1, 1, 1, 1, 1, 1, 1, 1, 1, 1, 1, 1, 1, 1, 1, 1, 1, 1, 1, 1, 1, 1, 1, 1, 1, 1, 1, 1, 1, 1, 1, 1, 1, 1, 1, 1, 1, 1, 1, 1, 1, 1, 1, 1, 1, 1, 1, 1, 1, 1, 1, 1, 1, 1, 1, 1, 1, 1, 1, 1, 1, 1, 1, 1, 1, 1, 1, 1, 1, 1, 1, 1, 1, 1, 1, 1, 1, 1, 1, 1, 1, 1, 1, 1, 1, 1, 1, 1, 1, 1, 1, 1, 1, 1, 1, 1, 1, 1, 1, 1, 1, 1, 1, 1, 1, 1, 1, 1, 1, 1, 1, 1, 1, 1, 1, 1, 1, 1, 1, 1, 1, 1, 1, 1, 1, 1, 1, 1, 1, 1, 1, 1, 1, 1, 1, 1, 1, 1, 1, 1, 1, 1, 1, 1, 1, 1, 1, 1, 1, 1, 1, 1, 1, 1, 1, 1, 1, 1, 1, 1, 1, 1, 1, 1, 1, 1, 1, 1, 1, 1, 1, 1, 1, 1, 1, 1, 1, 1, 1, 1, 1, 1, 1, 1, 1, 1, 1, 1, 1, 1, 1, 1, 1, 1, 1, 1, 1, 1, 1, 1, 1, 1, 1, 1, 1, 1, 1, 1, 1, 1, 1, 1, 1, 1, 1, 1, 1, 1, 1, 1, 1, 1, 1, 1, 1, 1, 1, 1, 1, 1, 1, 1, 1, 1, 1, 1, 1, 1, 1, 1, 1, 1, 1, 1, 1, 1, 1, 1, 1, 1, 1, 1, 1, 1, 1, 1, 1, 1, 1, 1, 1, 1, 1, 1, 1, 1, 1, 1, 1, 1, 1, 1, 1, 1, 1, 1, 1, 1, 1, 1, 1, 1, 1, 1, 1, 1, 1, 1, 1, 1, 1, 1, 1, 1, 1, 1, 1, 1, 1, 1, 1, 1, 1, 1, 1, 1, 1, 1, 1, 1, 1, 1, 1, 1, 1, 1, 1, 1, 1, 1, 1, 1, 1, 1, 1, 1, 1, 1, 1, 1, 1, 1, 1, 1, 1, 1, 1, 1, 1, 1, 1, 1, 1, 1, 1, 1, 1, 1, 1, 1, 1, 1, 1, 1, 1, 1, 1, 1, 1, 1, 1, 1, 1, 1, 1, 1, 1, 1, 1, 1, 1, 1, 1, 1, 1, 1, 1, 1, 1, 1, 1, 1, 1, 1, 1, 1, 1, 1, 1, 1, 1, 1, 1, 1, 1, 1, 1, 1, 1, 1, 1, 1, 1, 1, 1, 1, 1, 1, 1, 1, 1, 1, 1, 1, 1, 1, 1, 1, 1, 1, 1, 1, 1, 1, 1, 1, 1, 1, 1, 1, 1, 1, 1, 1, 1, 1, 1, 1, 1, 1, 1, 1, 1, 1, 1, 1, 1, 1, 1, 1, 1, 1, 1, 1, 1, 1, 1, 1, 1, 1, 1, 1, 1, 1, 1, 1, 1, 1, 1, 1, 1, 1, 1, 1, 1, 1, 1, 1, 1, 1, 1, 1, 1, 1, 1, 1, 1, 1, 1, 1, 1, 1, 1, 1, 1, 1, 1, 1, 1, 1, 1, 1, 1, 1, 1, 1, 1, 1, 1, 1, 1, 1, 1, 1, 1, 1, 1, 1, 1, 1, 1, 1, 1, 1, 1, 1, 1, 1, 1, 1, 1, 1, 1, 1, 1, 1, 1, 1, 1, 1, 1, 1, 1, 1, 1, 1, 1, 1, 1, 1, 1, 1, 1, 1, 1, 1, 1, 1, 1, 1, 1, 1, 1, 1, 1, 1, 1, 1, 1, 1, 1, 1, 1, 1, 1, 1, 1, 1, 1, 1, 1, 1, 1, 1, 1, 1, 1, 1, 1, 1, 1, 1, 1, 1, 1, 1, 1, 1, 1, 1, 1, 1, 1, 1, 1, 1, 1, 1, 1, 1, 1, 1, 1, 1, 1, 1, 1, 1, 1, 1, 1, 1, 1, 1, 1, 1, 1, 1, 1, 1, 1, 1, 1, 1, 1, 1, 1, 1, 1, 1, 1, 1, 1, 1, 1, 1, 1, 1, 1, 1, 1, 1, 1, 1, 1, 1, 1, 1, 1, 1, 1, 1, 1, 1, 1, 1, 1, 1, 1, 1, 1, 1, 1, 1, 1, 1, 1, 1, 1, 1, 1, 1, 1, 1, 1, 1, 1, 1, 1, 1, 1, 1, 1, 1, 1, 1, 1, 1, 1, 1, 1, 1, 1, 1, 1, 1, 1, 1, 1, 1, 1, 1, 1, 1, 1, 1, 1, 1, 1, 1, 1, 1, 1, 1, 1, 1, 1, 1, 1, 1, 1, 1, 1, 1, 1, 1, 1, 1, 1, 1, 1, 1, 1, 1, 1, 1, 1, 1, 1, 1, 1, 1, 1, 1, 1, 1, 1, 1, 1, 1, 1, 1, 1, 1, 1, 1, 1, 1, 1, 1, 1, 1, 1, 1, 1, 1, 1, 1, 1, 1, 1, 1, 1, 1, 1, 1, 1, 1, 1, 1, 1, 1, 1, 1, 1, 1, 1, 1, 1, 1, 1, 1, 1, 1, 1, 1, 1, 1, 1, 1, 1, 1, 1, 1, 1, 1, 1, 1, 1, 1, 1, 1, 1, 1, 1, 1, 1, 1, 1, 1, 1, 1, 1, 1, 1, 1, 1, 1, 1, 1, 1, 1, 1, 1, 1, 1, 1, 1, 1, 1, 1, 1, 1, 1, 1, 1, 1, 1, 1, 1, 1, 1, 1, 1, 1, 1, 1, 1, 1, 1, 1, 1, 1, 1, 1, 1, 1, 1, 1, 1, 1, 1, 1, 1, 1, 1, 1, 1, 1, 1, 1, 1, 1, 1, 1, 1, 1, 1, 1, 1, 1, 1, 1, 1, 1, 1, 1, 1, 1, 1, 1, 1, 1, 1, 1, 1, 1, 1, 1, 1, 1, 1, 1, 1, 1, 1, 1, 1, 1, 1, 1, 1, 1, 1, 1, 1, 1, 1, 1, 1, 1, 1, 1, 1, 1, 1, 1, 1, 1, 1, 1, 1, 1, 1, 1, 1, 1, 1, 1, 1, 1, 1, 1, 1, 1, 1, 1, 1, 1, 1, 1, 1, 1, 1, 1, 1, 1, 1, 1, 1, 1, 1, 1, 1, 1, 1, 1, 1, 1, 1, 1, 1, 1, 1, 1, 1, 1, 1, 1, 1, 1, 1, 1, 1, 1, 1, 1, 1, 1, 1, 1, 1, 1, 1, 1, 1, 1, 1, 1, 1, 1, 1, 1, 1, 1, 1, 1, 1, 1, 1, 1, 1, 1, 1, 1, 1, 1, 1, 1, 1, 1, 1, 1, 1, 1, 1, 1, 1, 1, 1, 1, 1, 1, 1, 1, 1, 1, 1, 1, 1, 1, 1, 1, 1, 1, 1, 1, 1, 1, 1, 1, 1, 1, 1, 1, 1, 1, 1, 1, 1, 1, 1, 1, 1, 1, 1, 1, 1, 1, 1, 1, 1, 1, 1, 1, 1, 1, 1, 1, 1, 1, 1, 1, 1, 1, 1, 1, 1, 1, 1, 1, 1, 1, 1, 1, 1, 1, 1, 1, 1, 1, 1, 1, 1, 1, 1, 1, 1, 1, 1, 1, 1, 1, 1, 1, 1, 1, 1, 1, 1, 1, 1, 1, 1, 1, 1, 1, 1, 1, 1, 1, 1, 1, 1, 1, 1, 1, 1, 1, 1, 1, 1, 1, 1, 1, 1, 1, 1, 1, 1, 1, 1, 1, 1, 1, 1, 1, 1, 1, 1, 1, 1, 1, 1, 1, 1, 1, 1, 1, 1, 1, 1, 1, 1, 1, 1, 1, 1, 1, 1, 1, 1, 1, 1, 1, 1, 1, 1, 1, 1, 1, 1, 1, 1, 1, 1, 1, 1, 1, 1, 1, 1, 1, 1, 1, 1, 1, 1, 1, 1, 1, 1, 1, 1, 1, 1, 1, 1, 1, 1, 1, 1, 1, 1, 1, 1, 1, 1, 1, 1, 1, 1, 1, 1, 1, 1, 1, 1, 1, 1, 1, 1, 1, 1, 1, 1, 1, 1, 1, 1, 1, 1, 1, 1, 1, 1, 1, 1, 1, 1, 1, 1, 1, 1, 1, 1, 1, 1, 1, 1, 1, 1, 1, 1, 1, 1, 1, 1, 1, 1, 1, 1, 1, 1, 1, 1, 1, 1, 1, 1, 1, 1, 1, 1, 1, 1, 1, 1, 1, 1, 1, 1, 1, 1, 1, 1, 1, 1, 1, 1, 1, 1, 1, 1, 1, 1, 1, 1, 1, 1, 1, 1, 1, 1, 1, 1, 1, 1, 1, 1, 1, 1, 1, 1, 1, 1, 1, 1, 1, 1, 1, 1, 1, 1, 1, 1, 1, 1, 1, 1, 1, 1, 1, 1, 1, 1, 1, 1, 1, 1, 1, 1, 1, 1, 1, 1, 1, 1, 1, 1, 1, 1, 1, 1, 1, 1, 1, 1, 1, 1, 1, 1, 1, 1, 1, 1, 1, 1, 1, 1, 1, 1, 1, 1, 1, 1, 1, 1, 1, 1, 1, 1, 1, 1, 1, 1, 1, 1, 1, 1, 1, 1, 1, 1, 1, 1, 1, 1, 1, 1, 1, 1, 1, 1, 1, 1, 1, 1, 1, 1, 1, 1, 1, 1, 1, 1, 1, 1, 1, 1, 1, 1, 1, 1, 1, 1, 1, 1, 1, 1, 1, 1, 1, 1, 1, 1, 1, 1, 1, 1, 1, 1, 1, 1, 1, 1, 1, 1, 1, 1, 1, 1, 1, 1, 1, 1, 1, 1, 1, 1, 1, 1, 1, 1, 1, 1, 1, 1, 1, 1, 1, 1, 1, 1, 1, 1, 1, 1, 1, 1, 1, 1, 1, 1, 1, 1, 1, 1, 1, 1, 1, 1, 1, 1, 1, 1, 1, 1, 1, 1, 1, 1, 1, 1, 1, 1, 1, 1, 1, 1, 1, 1, 1, 1, 1, 1, 1, 1, 1, 1, 1, 1, 1, 1, 1, 1, 1, 1, 1, 1, 1, 1, 1, 1, 1, 1, 1, 1, 1, 1, 1, 1, 1, 1, 1, 1, 1, 1, 1, 1, 1, 1, 1, 1, 1, 1, 1, 1, 1, 1, 1, 1, 1, 1, 1, 1, 1, 1, 1, 1, 1, 1, 1, 1, 1, 1, 1, 1, 1, 1, 1, 1, 1, 1, 1, 1, 1, 1, 1, 1, 1, 1, 1, 1, 1, 1, 1, 1, 1, 1, 1, 1, 1, 1, 1, 1, 1, 1, 1, 1, 1, 1, 1, 1, 1, 1, 1, 1, 1, 1, 1, 1, 1, 1, 1, 1, 1, 1, 1, 1, 1, 1, 1, 1, 1, 1, 1, 1, 1, 1, 1, 1, 1, 1, 1, 1, 1, 1, 1, 1, 1, 1, 1, 1, 1, 1, 1, 1, 1, 1, 1, 1, 1, 1, 1, 1, 1, 1, 1, 1, 1, 1, 1, 1, 1, 1, 1, 1, 1, 1, 1, 1, 1, 1, 1, 1, 1, 1, 1, 1, 1, 1, 1, 1, 1, 1, 1, 1, 1, 1, 1, 1, 1, 1, 1, 1, 1, 1, 1, 1, 1, 1, 1, 1, 1, 1, 1, 1, 1, 1, 1, 1, 1, 1, 1, 1, 1, 1, 1, 1, 1, 1, 1, 1, 1, 1, 1, 1, 1, 1, 1, 1, 1, 1, 1, 1, 1, 1, 1, 1, 1, 1, 1, 1, 1, 1, 1, 1, 1, 1, 1, 1, 1, 1, 1, 1, 1, 1, 1, 1, 1, 1, 1, 1, 1, 1, 1, 1, 1, 1, 1, 1, 1, 1, 1, 1, 1, 1, 1, 1, 1, 1, 1, 1, 1, 1, 1, 1, 1, 1, 1, 1, 1, 1, 1, 1, 1, 1, 1, 1, 1, 1, 1, 1, 1, 1, 1, 1, 1, 1, 1, 1, 1, 1, 1, 1, 1, 1, 1, 1, 1, 1, 1, 1, 1, 1, 1, 1, 1, 1, 1, 1, 1, 1, 1, 1, 1, 1, 1, 1, 1, 1, 1, 1, 1, 1, 1, 1, 1, 1, 1, 1, 1, 1, 1, 1, 1, 1, 1, 1, 1, 1, 1, 1, 1, 1, 1, 1, 1, 1, 1, 1, 1, 1, 1, 1, 1, 1, 1, 1, 1, 1, 1, 1, 1, 1, 1, 1, 1, 1, 1, 1, 1, 1, 1, 1, 1, 1, 1, 1, 1, 1, 1, 1, 1, 1, 1, 1, 1, 1, 1, 1, 1, 1, 1, 1, 1, 1, 1, 1, 1, 1, 1, 1, 1, 1, 1, 1, 1, 1, 1, 1, 1, 1, 1, 1, 1, 1, 1, 1, 1, 1, 1, 1, 1, 1, 1, 1, 1, 1, 1, 1, 1, 1, 1, 1, 1, 1, 1, 1, 1, 1, 1, 1, 1, 1, 1, 1, 1, 1, 1, 1, 1, 1, 1, 1, 1, 1, 1, 1, 1, 1, 1, 1, 1, 1, 1, 1, 1, 1, 1, 1, 1, 1, 1, 1, 1, 1, 1, 1, 1, 1, 1, 1, 1, 1, 1, 1, 1, 1, 1, 1, 1, 1, 1, 1, 1, 1, 1, 1, 1, 1, 1, 1, 1, 1, 1, 1, 1, 1, 1, 1, 1, 1, 1, 1, 1, 1, 1, 1, 1, 1, 1, 1, 1, 1, 1, 1, 1, 1, 1, 1, 1, 1, 1, 1, 1, 1, 1, 1, 1, 1, 1, 1, 1, 1, 1, 1, 1, 1, 1, 1, 1, 1, 1, 1, 1, 1, 1, 1, 1, 1, 1, 1, 1, 1, 1, 1, 1, 1, 1, 1, 1, 1, 1, 1, 1, 1, 1, 1, 1, 1, 1, 1, 1, 1, 1, 1, 1, 1, 1, 1, 1, 1, 1, 1, 1, 1, 1, 1, 1, 1, 1, 1, 1, 1, 1, 1, 1, 1, 1, 1, 1, 1, 1, 1, 1, 1, 1, 1, 1, 1, 1, 1, 1, 1, 1, 1, 1, 1, 1, 1, 1, 1, 1, 1, 1, 1, 1, 1, 1, 1, 1, 1, 1, 1, 1, 1, 1, 1, 1, 1, 1, 1, 1, 1, 1, 1, 1, 1, 1, 1, 1, 1, 1, 1, 1, 1, 1, 1, 1, 1, 1, 1, 1, 1, 1, 1, 1, 1, 1, 1, 1, 1, 1, 1, 1, 1, 1, 1, 1, 1, 1, 1, 1, 1, 1, 1, 1, 1, 1, 1, 1, 1, 1, 1, 1, 1, 1, 1, 1, 1, 1, 1, 1, 1, 1, 1, 1, 1, 1, 1, 1, 1, 1, 1, 1, 1, 1, 1, 1, 1, 1, 1, 1, 1, 1, 1, 1, 1, 1, 1, 1, 1, 1, 1, 1, 1, 1, 1, 1, 1, 1, 1, 1, 1, 1, 1, 1, 1, 1, 1, 1, 1, 1, 1, 1, 1, 1, 1, 1, 1, 1, 1, 1, 1, 1, 1, 1, 1, 1, 1, 1, 1, 1, 1, 1, 1, 1, 1, 1, 1, 1, 1, 1, 1, 1, 1, 1, 1, 1, 1, 1, 1, 1, 1, 1, 1, 1, 1, 1, 1, 1, 1, 1, 1, 1, 1, 1, 1, 1, 1, 1, 1, 1, 1, 1, 1, 1, 1, 1, 1, 1, 1, 1, 1, 1, 1, 1, 1, 1, 1, 1, 1, 1, 1, 1, 1, 1, 1, 1, 1, 1, 1, 1, 1, 1, 1, 1, 1, 1, 1, 1, 1, 1, 1, 1, 1, 1, 1, 1, 1, 1, 1, 1, 1, 1, 1, 1, 1, 1, 1, 1, 1, 1, 1, 1, 1, 1, 1, 1, 1, 1, 1, 1, 1, 1, 1, 1, 1, 1, 1, 1, 1, 1, 1, 1, 1, 1, 1, 1, 1, 1, 1, 1, 1, 1, 1, 1, 1, 1, 1, 1, 1, 1, 1, 1, 1, 1, 1, 1, 1, 1, 1, 1, 1, 1, 1, 1, 1, 1, 1, 1, 1, 1, 1, 1, 1, 1, 1, 1, 1, 1, 1, 1, 1, 1, 1, 1, 1, 1, 1, 1, 1, 1, 1, 1, 1, 1, 1, 1, 1, 1, 1, 1, 1, 1, 1, 1, 1, 1, 1, 1, 1, 1, 1, 1, 1, 1, 1, 1, 1, 1, 1, 1, 1, 1, 1, 1, 1, 1, 1, 1, 1, 1, 1, 1, 1, 1, 1, 1, 1, 1, 1, 1, 1, 1, 1, 1, 1, 1, 1, 1, 1, 1, 1, 1, 1, 1, 1, 1, 1, 1, 1, 1, 1, 1, 1, 1, 1, 1, 1, 1, 1, 1, 1, 1, 1, 1, 1, 1, 1, 1, 1, 1, 1, 1, 1, 1, 1, 1, 1, 1, 1, 1, 1, 1, 1, 1, 1, 1, 1, 1, 1, 1, 1, 1, 1, 1, 1, 1, 1, 1, 1, 1, 1, 1, 1, 1, 1, 1, 1, 1, 1, 1, 1, 1, 1, 1, 1, 1, 1, 1, 1, 1, 1, 1, 1, 1, 1, 1, 1, 1, 1, 1, 1, 1, 1, 1, 1, 1, 1, 1, 1, 1, 1, 1, 1, 1, 1, 1, 1, 1, 1, 1, 1, 1, 1, 1, 1, 1, 1, 1, 1, 1, 1, 1, 1, 1, 1, 1, 1, 1, 1, 1, 1, 1, 1, 1, 1, 1, 1, 1, 1, 1, 1, 1, 1, 1, 1, 1, 1, 1, 1, 1, 1, 1, 1, 1, 1, 1, 1, 1, 1, 1, 1, 1, 1, 1, 1, 1, 1, 1, 1, 1, 1, 1, 1, 1, 1, 1, 1, 1, 1, 1, 1, 1, 1, 1, 1, 1, 1, 1, 1, 1, 1, 1, 1, 1, 1, 1, 1, 1, 1, 1, 1, 1, 1, 1, 1, 1, 1, 1, 1, 1, 1, 1, 1, 1, 1, 1, 1, 1, 1, 1, 1, 1, 1, 1, 1, 1, 1, 1, 1, 1, 1, 1, 1, 1, 1, 1, 1, 1, 1, 1, 1, 1, 1, 1, 1, 1, 1, 1, 1, 1, 1, 1, 1, 1, 1, 1, 1, 1, 1, 1, 1, 1, 1, 1, 1, 1, 1, 1, 1, 1, 1, 1, 1, 1, 1, 1, 1, 1, 1, 1, 1, 1, 1, 1, 1, 1, 1, 1, 1, 1, 1, 1, 1, 1, 1, 1, 1, 1, 1, 1, 1, 1, 1, 1, 1, 1, 1, 1, 1, 1, 1, 1, 1, 1, 1, 1, 1, 1, 1, 1, 1, 1, 1, 1, 1, 1, 1, 1, 1, 1, 1, 1, 1, 1, 1, 1, 1, 1, 1, 1, 1, 1, 1, 1, 1, 1, 1, 1, 1, 1, 1, 1, 1, 1, 1, 1, 1, 1, 1, 1, 1, 1, 1, 1, 1, 1, 1, 1, 1, 1, 1, 1, 1, 1, 1, 1, 1, 1, 1, 1, 1, 1, 1, 1, 1, 1, 1, 1, 1, 1, 1, 1, 1, 1, 1, 1, 1, 1, 1, 1, 1, 1, 1, 1, 1, 1, 1, 1, 1, 1, 1, 1, 1, 1, 1, 1, 1, 1, 1, 1, 1, 1, 1, 1, 1, 1, 1, 1, 1, 1, 1, 1, 1, 1, 1, 1, 1, 1, 1, 1, 1, 1, 1, 1, 1, 1, 1, 1, 1, 1, 1, 1, 1, 1, 1, 1, 1, 1, 1, 1, 1, 1, 1, 1, 1, 1, 1, 1, 1, 1, 1, 1, 1, 1, 1, 1, 1, 1, 1, 1, 1, 1, 1, 1, 1, 1, 1, 1, 1, 1, 1, 1, 1, 1, 1, 1, 1, 1, 1, 1, 1, 1, 1, 1, 1, 1, 1, 1, 1, 1, 1, 1, 1, 1, 1, 1, 1, 1, 1, 1, 1, 1, 1, 1, 1, 1, 1, 1, 1, 1, 1, 1, 1, 1, 1, 1, 1, 1, 1, 1, 1, 1, 1, 1, 1, 1, 1, 1, 1, 1, 1, 1, 1, 1, 1, 1, 1, 1, 1, 1, 1, 1, 1, 1, 1, 1, 1, 1, 1, 1, 1, 1, 1, 1, 1, 1, 1, 1, 1, 1, 1, 1, 1, 1, 1, 1, 1, 1, 1, 1, 1, 1, 1, 1, 1, 1, 1, 1, 1, 1, 1, 1, 1, 1, 1, 1, 1, 1, 1, 1, 1, 1, 1, 1, 1, 1, 1, 1, 1, 1, 1, 1, 1, 1, 1, 1, 1, 1, 1, 1, 1, 1, 1, 1, 1, 1, 1, 1, 1, 1, 1, 1, 1, 1, 1, 1, 1, 1, 1, 1, 1, 1, 1, 1, 1, 1, 1, 1, 1, 1, 1, 1, 1, 1, 1, 1, 1, 1, 1, 1, 1, 1, 1, 1, 1, 1, 1, 1, 1, 1, 1, 1, 1, 1, 1, 1, 1, 1, 1, 1, 1, 1, 1, 1, 1, 1, 1, 1, 1, 1, 1, 1, 1, 1, 1, 1, 1, 1, 1, 1, 1, 1, 1, 1, 1, 1, 1, 1, 1, 1, 1, 1, 1, 1, 1, 1, 1, 1, 1, 1, 1, 1, 1, 1, 1, 1, 1, 1, 1, 1, 1, 1, 1, 1, 1, 1, 1, 1, 1, 1, 1, 1, 1, 1, 1, 1, 1, 1, 1, 1, 1, 1, 1, 1, 1, 1, 1, 1, 1, 1, 1, 1, 1, 1, 1, 1, 1, 1, 1, 1, 1, 1, 1, 1, 1, 1, 1, 1, 1, 1, 1, 1, 1, 1, 1, 1, 1, 1, 1, 1, 1, 1, 1, 1, 1, 1, 1, 1, 1, 1, 1, 1, 1, 1, 1, 1, 1, 1, 1, 1, 1, 1, 1, 1, 1, 1, 1, 1, 1, 1, 1, 1, 1, 1, 1, 1, 1, 1, 1, 1, 1, 1, 1, 1, 1, 1, 1, 1, 1, 1, 1, 1, 1, 1, 1, 1, 1, 1, 1, 1, 1, 1, 1, 1, 1, 1, 1, 1, 1, 1, 1, 1, 1, 1, 1, 1, 1, 1, 1, 1, 1, 1, 1, 1, 1, 1, 1, 1, 1, 1, 1, 1, 1, 1, 1, 1, 1, 1, 1, 1, 1, 1, 1, 1, 1, 1, 1, 1, 1, 1, 1, 1, 1, 1, 1, 1, 1, 1, 1, 1, 1, 1, 1, 1, 1, 1, 1, 1, 1, 1, 1, 1, 1, 1, 1, 1, 1, 1, 1, 1, 1, 1, 1, 1, 1, 1, 1, 1, 1, 1, 1, 1, 1, 1, 1, 1, 1, 1, 1, 1, 1, 1, 1, 1, 1, 1, 1, 1, 1, 1, 1, 1, 1, 1, 1, 1, 1, 1, 1, 1, 1, 1, 1, 1, 1, 1, 1, 1, 1, 1, 1, 1, 1, 1, 1, 1, 1, 1, 1, 1, 1, 1, 1, 1, 1, 1, 1, 1, 1, 1, 1, 1, 1, 1, 1, 1, 1, 1, 1, 1, 1, 1, 1, 1, 1, 1, 1, 1, 1, 1, 1, 1, 1, 1, 1, 1, 1, 1, 1, 1, 1, 1, 1, 1, 1, 1, 1, 1, 1, 1, 1, 1, 1, 1, 1, 1, 1, 1, 1, 1, 1, 1, 1, 1, 1, 1, 1, 1, 1, 1, 1, 1, 1, 1, 1, 1, 1, 1, 1, 1, 1, 1, 1, 1, 1, 1, 1, 1, 1, 1, 1, 1, 1, 1, 1, 1, 1, 1, 1, 1, 1, 1, 1, 1, 1, 1, 1, 1, 1, 1, 1, 1, 1, 1, 1, 1, 1, 1, 1, 1, 1, 1, 1, 1, 1, 1, 1, 1, 1, 1, 1, 1, 1, 1, 1, 1, 1, 1, 1, 1, 1, 1, 1, 1, 1, 1, 1, 1, 1, 1, 1, 1, 1, 1, 1, 1, 1, 1, 1, 1, 1, 1, 1, 1, 1, 1, 1, 1, 1, 1, 1, 1, 1, 1, 1, 1, 1, 1, 1, 1, 1, 1, 1, 1, 1, 1, 1, 1, 1, 1, 1, 1, 1, 1, 1, 1, 1, 1, 1, 1, 1, 1, 1, 1, 1, 1, 1, 1, 1, 1, 1, 1, 1, 1, 1, 1, 1, 1, 1, 1, 1, 1, 1, 1, 1, 1, 1, 1, 1, 1, 1, 1, 1, 1, 1, 1, 1, 1, 1, 1, 1, 1, 1, 1, 1, 1, 1, 1, 1, 1, 1, 1, 1, 1, 1, 1, 1, 1, 1, 1, 1, 1, 1, 1, 1, 1, 1, 1, 1, 1, 1, 1, 1, 1, 1, 1, 1, 1, 1, 1, 1, 1, 1, 1, 1, 1, 1, 1, 1, 1, 1, 1, 1, 1, 1, 1, 1, 1, 1, 1, 1, 1, 1, 1, 1, 1, 1, 1, 1, 1, 1, 1, 1, 1, 1, 1, 1, 1, 1, 1, 1, 1, 1, 1, 1, 1, 1, 1, 1, 1, 1, 1, 1, 1, 1, 1, 1, 1, 1, 1, 1, 1, 1, 1, 1, 1, 1, 1, 1, 1, 1, 1, 1, 1, 1, 1, 1, 1, 1, 1, 1, 1, 1, 1, 1, 1, 1, 1, 1, 1, 1, 1, 1, 1, 1, 1, 1, 1, 1, 1, 1, 1, 1, 1, 1, 1, 1, 1, 1, 1, 1, 1, 1, 1, 1, 1, 1, 1, 1, 1, 1, 1, 1, 1, 1, 1, 1, 1, 1, 1, 1, 1, 1, 1, 1, 1, 1, 1, 1, 1, 1, 1, 1, 1, 1, 1, 1, 1, 1, 1, 1, 1, 1, 1, 1, 1, 1, 1, 1, 1, 1, 1, 1, 1, 1, 1, 1, 1, 1, 1, 1, 1, 1, 1, 1, 1, 1, 1, 1, 1, 1, 1, 1, 1, 1, 1, 1, 1, 1, 1, 1, 1, 1, 1, 1, 1, 1, 1, 1, 1, 1, 1, 1, 1, 1, 1, 1, 1, 1, 1, 1, 1, 1, 1, 1, 1, 1, 1, 1, 1, 1, 1, 1, 1, 1, 1, 1, 1, 1, 1, 1, 1, 1, 1, 1, 1, 1, 1, 1, 1, 1, 1, 1, 1, 1, 1, 1, 1, 1, 1, 1, 1, 1, 1, 1, 1, 1, 1, 1, 1, 1, 1, 1, 1, 1, 1, 1, 1, 1, 1, 1, 1, 1, 1, 1, 1, 1, 1, 1, 1, 1, 1, 1, 1, 1, 1, 1, 1, 1, 1, 1, 1, 1, 1, 1, 1, 1, 1, 1, 1, 1, 1, 1, 1, 1, 1, 1, 1, 1, 1, 1, 1, 1, 1, 1, 1, 1, 1, 1, 1, 1, 1, 1, 1, 1, 1, 1, 1, 1, 1, 1, 1, 1, 1, 1, 1, 1, 1, 1, 1, 1, 1, 1, 1, 1, 1, 1, 1, 1, 1, 1, 1, 1, 1, 1, 1, 1, 1, 1, 1, 1, 1, 1, 1, 1, 1, 1, 1, 1, 1, 1, 1, 1, 1, 1, 1, 1, 1, 1, 1, 1, 1, 1, 1, 1, 1, 1, 1, 1, 1, 1, 1, 1, 1, 1, 1, 1, 1, 1, 1, 1, 1, 1, 1, 1, 1, 1, 1, 1, 1, 1, 1, 1, 1, 1, 1, 1, 1, 1, 1, 1, 1, 1, 1, 1, 1, 1, 1, 1, 1, 1, 1, 1, 1, 1, 1, 1, 1, 1, 1, 1, 1, 1, 1, 1, 1, 1, 1, 1, 1, 1, 1, 1, 1, 1, 1, 1, 1, 1, 1, 1, 1, 1, 1, 1, 1, 1, 1, 1, 1, 1, 1, 1, 1, 1, 1, 1, 1, 1, 1, 1, 1, 1, 1, 1, 1, 1, 1, 1, 1, 1, 1, 1, 1, 1, 1, 1, 1, 1, 1, 1, 1, 1, 1, 1, 1, 1, 1, 1, 1, 1, 1, 1, 1, 1, 1, 1, 1, 1, 1, 1, 1, 1, 1, 1, 1, 1, 1, 1, 1, 1, 1, 1, 1, 1, 1, 1, 1, 1, 1, 1, 1, 1, 1, 1, 1, 1, 1, 1, 1, 1, 1, 1, 1, 1, 1, 1, 1, 1, 1, 1, 1, 1, 1, 1, 1, 1, 1, 1, 1, 1, 1, 1, 1, 1, 1, 1, 1, 1, 1, 1, 1, 1, 1, 1, 1, 1, 1, 1, 1, 1, 1, 1, 1, 1, 1, 1, 1, 1, 1, 1, 1, 1, 1, 1, 1, 1, 1, 1, 1, 1, 1, 1, 1, 1, 1, 1, 1, 1, 1, 1, 1, 1, 1, 1, 1, 1, 1, 1, 1, 1, 1, 1, 1, 1, 1, 1, 1, 1, 1, 1, 1, 1, 1, 1, 1, 1, 1, 1, 1, 1, 1, 1, 1, 1, 1, 1, 1, 1, 1, 1, 1, 1, 1, 1, 1, 1, 1, 1, 1, 1, 1, 1, 1, 1, 1, 1, 1, 1, 1, 1, 1, 1, 1, 1, 1, 1, 1, 1, 1, 1, 1, 1, 1, 1, 1, 1, 1, 1, 1, 1, 1, 1, 1, 1, 1, 1, 1, 1, 1, 1, 1, 1, 1, 1, 1, 1, 1, 1, 1, 1, 1, 1, 1, 1, 1, 1, 1, 1, 1, 1, 1, 1, 1, 1, 1, 1, 1, 1, 1, 1, 1, 1, 1, 1, 1, 1, 1, 1, 1, 1, 1, 1, 1, 1, 1, 1, 1, 1, 1, 1, 1, 1, 1, 1, 1, 1, 1, 1, 1, 1, 1, 1, 1, 1, 1, 1, 1, 1, 1, 1, 1, 1, 1, 1, 1, 1, 1, 1, 1, 1, 1, 1, 1, 1, 1, 1, 1, 1, 1, 1, 1, 1, 1, 1, 1, 1, 1, 1, 1, 1, 1, 1, 1, 1, 1, 1, 1, 1, 1, 1, 1, 1, 1, 1, 1, 1, 1, 1, 1, 1, 1, 1, 1, 1, 1, 1, 1, 1, 1, 1, 1, 1, 1, 1, 1, 1, 1, 1, 1, 1, 1, 1, 1, 1, 1, 1, 1, 1, 1, 1, 1, 1, 1, 1, 1, 1, 1, 1, 1, 1, 1, 1, 1, 1, 1, 1, 1, 1, 1, 1, 1, 1, 1, 1, 1, 1, 1, 1, 1, 1, 1, 1, 1, 1, 1, 1, 1, 1, 1, 1, 1, 1, 1, 1, 1, 1, 1, 1, 1, 1, 1, 1, 1, 1, 1, 1, 1, 1, 1, 1, 1, 1, 1, 1, 1, 1, 1, 1, 1, 1, 1, 1, 1, 1, 1, 1, 1, 1, 1, 1, 1, 1, 1, 1, 1, 1, 1, 1, 1, 1, 1, 1, 1, 1, 1, 1, 1, 1, 1, 1, 1, 1, 1, 1, 1, 1, 1, 1, 1, 1, 1, 1, 1, 1, 1, 1, 1, 1, 1, 1, 1, 1, 1, 1, 1, 1, 1, 1, 1, 1, 1, 1, 1, 1, 1, 1, 1, 1, 1, 1, 1, 1, 1, 1, 1, 1, 1, 1, 1, 1, 1, 1, 1, 1, 1, 1, 1, 1, 1, 1, 1, 1, 1, 1, 1, 1, 1, 1, 1, 1, 1, 1, 1, 1, 1, 1, 1, 1, 1, 1, 1, 1, 1, 1, 1, 1, 1, 1, 1, 1, 1, 1, 1, 1, 1, 1, 1, 1, 1, 1, 1, 1, 1, 1, 1, 1, 1, 1, 1, 1, 1, 1, 1, 1, 1, 1, 1, 1, 1, 1, 1, 1, 1, 1, 1, 1, 1, 1, 1, 1, 1, 1, 1, 1, 1, 1, 1, 1, 1, 1, 1, 1, 1, 1, 1, 1, 1, 1, 1, 1, 1, 1, 1, 1, 1, 1, 1, 1, 1, 1, 1, 1, 1, 1, 1, 1, 1, 1, 1, 1, 1, 1, 1, 1, 1, 1, 1, 1, 1, 1, 1, 1, 1, 1, 1, 1, 1, 1, 1, 1, 1, 1, 1, 1, 1, 1, 1, 1, 1, 1, 1, 1, 1, 1, 1, 1, 1, 1, 1, 1, 1, 1, 1, 1, 1, 1, 1, 1, 1, 1, 1, 1, 1, 1, 1, 1, 1, 1, 1, 1, 1, 1, 1, 1, 1, 1, 1, 1, 1, 1, 1, 1, 1, 1, 1, 1, 1, 1, 1, 1, 1, 1, 1, 1, 1, 1, 1, 1, 1, 1, 1, 1, 1, 1, 1, 1, 1, 1, 1, 1, 1, 1, 1, 1, 1, 1, 1, 1, 1, 1, 1, 1, 1, 1, 1, 1, 1, 1, 1, 1, 1, 1, 1, 1, 1, 1, 1, 1, 1, 1, 1, 1, 1, 1, 1, 1, 1, 1, 1, 1, 1, 1, 1, 1, 1, 1, 1, 1, 1, 1, 1, 1, 1, 1, 1, 1, 1, 1, 1, 1, 1, 1, 1, 1, 1, 1, 1, 1, 1, 1, 1, 1, 1, 1, 1, 1, 1, 1, 1, 1, 1, 1, 1, 1, 1, 1, 1, 1, 1, 1, 1, 1, 1, 1, 1, 1, 1, 1, 1, 1, 1, 1, 1, 1, 1, 1, 1, 1, 1, 1, 1, 1, 1, 1, 1, 1, 1, 1, 1, 1, 1, 1, 1, 1, 1, 1, 1, 1, 1, 1, 1, 1, 1, 1, 1, 1, 1, 1, 1, 1, 1, 1, 1, 1, 1, 1, 1, 1, 1, 1, 1, 1, 1, 1, 1, 1, 1, 1, 1, 1, 1, 1, 1, 1, 1, 1, 1, 1, 1, 1, 1, 1, 1, 1, 1, 1, 1, 1, 1, 1, 1, 1, 1, 1, 1, 1, 1, 1, 1, 1, 1, 1, 1, 1, 1, 1, 1, 1, 1, 1, 1, 1, 1, 1, 1, 1, 1, 1, 1, 1, 1, 1, 1, 1, 1, 1, 1, 1, 1, 1, 1, 1, 1, 1, 1, 1, 1, 1, 1, 1, 1, 1, 1, 1, 1, 1, 1, 1, 1, 1, 1, 1, 1, 1, 1, 1, 1, 1, 1, 1, 1, 1, 1, 1, 1, 1, 1, 1, 1, 1, 1, 1, 1, 1, 1, 1, 1, 1, 1, 1, 1, 1, 1, 1, 1, 1, 1, 1, 1, 1, 1, 1, 1, 1, 1, 1, 1, 1, 1, 1, 1, 1, 1, 1, 1, 1, 1, 1, 1, 1, 1, 1, 1, 1, 1, 1, 1, 1, 1, 1, 1, 1, 1, 1, 1, 1, 1, 1, 1, 1, 1, 1, 1, 1, 1, 1, 1, 1, 1, 1, 1, 1, 1, 1, 1, 1, 1, 1, 1, 1, 1, 1, 1, 1, 1, 1, 1, 1, 1, 1, 1, 1, 1, 1, 1, 1, 1, 1, 1, 1, 1, 1, 1, 1, 1, 1, 1, 1, 1, 1, 1, 1, 1, 1, 1, 1, 1, 1, 1, 1, 1, 1, 1, 1, 1, 1, 1, 1, 1, 1, 1, 1, 1, 1, 1, 1, 1, 1, 1, 1, 1, 1, 1, 1, 1, 1, 1, 1, 1, 1, 1, 1, 1, 1, 1, 1, 1, 1, 1, 1, 1, 1, 1, 1, 1, 1, 1, 1, 1, 1, 1, 1, 1, 1, 1, 1, 1, 1, 1, 1, 1, 1, 1, 1, 1, 1, 1, 1, 1, 1, 1, 1, 1, 1, 1, 1, 1, 1, 1, 1, 1, 1, 1, 1, 1, 1, 1, 1, 1, 1, 1, 1, 1, 1, 1, 1, 1, 1, 1, 1, 1, 1, 1, 1, 1, 1, 1, 1, 1, 1, 1, 1, 1, 1, 1, 1, 1, 1, 1, 1, 1, 1, 1, 1, 1, 1, 1, 1, 1, 1, 1, 1, 1, 1, 1, 1, 1, 1, 1, 1, 1, 1, 1, 1, 1, 1, 1, 1, 1, 1, 1, 1, 1, 1, 1, 1, 1, 1, 1, 1, 1, 1, 1, 1, 1, 1, 1, 1, 1, 1, 1, 1, 1, 1, 1, 1, 1, 1, 1, 1, 1, 1, 1, 1, 1, 1, 1, 1, 1, 1, 1, 1, 1, 1, 1, 1, 1, 1, 1, 1, 1, 1, 1, 1, 1, 1, 1, 1, 1, 1, 1, 1, 1, 1, 1, 1, 1, 1, 1, 1, 1, 1, 1, 1, 1, 1, 1, 1, 1, 1, 1, 1, 1, 1, 1, 1, 1, 1, 1, 1, 1, 1, 1, 1, 1, 1, 1, 1, 1, 1, 1, 1, 1, 1, 1, 1, 1, 1, 1, 1, 1, 1, 1, 1, 1, 1, 1, 1, 1, 1, 1, 1, 1, 1, 1, 1, 1, 1, 1, 1, 1, 1, 1, 1, 1, 1, 1, 1, 1, 1, 1, 1, 1, 1, 1, 1, 1, 1, 1, 1, 1, 1, 1, 1, 1, 1, 1, 1, 1, 1, 1, 1, 1, 1, 1, 1, 1, 1, 1, 1, 1, 1, 1, 1, 1, 1, 1, 1, 1, 1, 1, 1, 1, 1, 1, 1, 1, 1, 1, 1, 1, 1, 1, 1, 1, 1, 1, 1, 1, 1, 1, 1, 1, 1, 1, 1, 1, 1, 1, 1, 1, 1, 1, 1, 1, 1, 1, 1, 1, 1, 1, 1, 1, 1, 1, 1, 1, 1, 1, 1, 1, 1, 1, 1, 1, 1, 1, 1, 1, 1, 1, 1, 1, 1, 1, 1, 1, 1, 1, 1, 1, 1, 1, 1, 1, 1, 1, 1, 1, 1, 1, 1, 1, 1, 1, 1, 1, 1, 1, 1, 1, 1, 1, 1, 1, 1, 1, 1, 1, 1, 1, 1, 1, 1, 1, 1, 1, 1, 1, 1, 1, 1, 1, 1, 1, 1, 1, 1, 1, 1, 1, 1, 1, 1, 1, 1, 1, 1, 1, 1, 1, 1, 1, 1, 1, 1, 1, 1, 1, 1, 1, 1, 1, 1, 1, 1, 1, 1, 1, 1, 1, 1, 1, 1, 1, 1, 1, 1, 1, 1, 1, 1, 1, 1, 1, 1, 1, 1, 1, 1, 1, 1, 1, 1, 1, 1, 1, 1, 1, 1, 1, 1, 1, 1, 1, 1, 1, 1, 1, 1, 1, 1, 1, 1, 1, 1, 1, 1, 1, 1, 1, 1, 1, 1, 1, 1, 1, 1, 1, 1, 1, 1, 1, 1, 1, 1, 1, 1, 1, 1, 1, 1, 1, 1, 1, 1, 1, 1, 1, 1, 1, 1, 1, 1, 1, 1, 1, 1, 1, 1, 1, 1, 1, 1, 1, 1, 1, 1, 1, 1, 1, 1, 1, 1, 1, 1, 1, 1, 1, 1, 1, 1, 1, 1, 1, 1, 1, 1, 1, 1, 1, 1, 1, 1, 1, 1, 1, 1, 1, 1, 1, 1, 1, 1, 1, 1, 1, 1, 1, 1, 1, 1, 1, 1, 1, 1, 1, 1, 1, 1, 1, 1, 1, 1, 1, 1, 1, 1, 1, 1, 1, 1, 1, 1, 1, 1, 1, 1, 1, 1, 1, 1, 1, 1, 1, 1, 1, 1, 1, 1, 1, 1, 1, 1, 1, 1, 1, 1, 1, 1, 1, 1, 1, 1, 1, 1, 1, 1, 1, 1, 1, 1, 1, 1, 1, 1, 1, 1, 1, 1, 1, 1, 1, 1, 1, 1, 1, 1, 1, 1, 1, 1, 1, 1, 1, 1, 1, 1, 1, 1, 1, 1, 1, 1, 1, 1, 1, 1, 1, 1, 1, 1, 1, 1, 1, 1, 1, 1, 1, 1, 1, 1, 1, 1, 1, 1, 1, 1, 1, 1, 1, 1, 1, 1, 1, 1, 1, 1, 1, 1, 1, 1, 1, 1, 1, 1, 1, 1, 1, 1, 1, 1, 1, 1, 1, 1, 1, 1, 1, 1, 1, 1, 1, 1, 1, 1, 1, 1, 1, 1, 1, 1, 1, 1, 1, 1, 1, 1, 1, 1, 1, 1, 1, 1, 1, 1, 1, 1, 1, 1, 1, 1, 1, 1, 1, 1, 1, 1, 1, 1, 1, 1, 1, 1, 1, 1, 1, 1, 1, 1, 1, 1, 1, 1, 1, 1, 1, 1, 1, 1, 1, 1, 1, 1, 1, 1, 1, 1, 1, 1, 1, 1, 1, 1, 1, 1, 1, 1, 1, 1, 1, 1, 1, 1, 1, 1, 1, 1, 1, 1, 1, 1, 1, 1, 1, 1, 1, 1, 1, 1, 1, 1, 1, 1, 1, 1, 1, 1, 1, 1, 1, 1, 1, 1, 1, 1, 1, 1, 1, 1, 1, 1, 1, 1, 1, 1, 1, 1, 1, 1, 1, 1, 1, 1, 1, 1, 1, 1, 1, 1, 1, 1, 1, 1, 1, 1, 1, 1, 1, 1, 1, 1, 1, 1, 1, 1, 1, 1, 1, 1, 1, 1, 1, 1, 1, 1, 1, 1, 1, 1, 1, 1, 1, 1, 1, 1, 1, 1, 1, 1, 1, 1, 1, 1, 1, 1, 1, 1, 1, 1, 1, 1, 1, 1, 1, 1, 1, 1, 1, 1, 1, 1, 1, 1, 1, 1, 1, 1, 1, 1, 1, 1, 1, 1, 1, 1, 1, 1, 1, 1, 1, 1, 1, 1, 1, 1, 1, 1, 1, 1, 1, 1, 1, 1, 1, 1, 1, 1, 1, 1, 1, 1, 1, 1, 1, 1, 1, 1, 1, 1, 1, 1, 1, 1, 1, 1, 1, 1, 1, 1, 1, 1, 1, 1, 1, 1, 1, 1, 1, 1, 1, 1, 1, 1, 1, 1, 1, 1, 1, 1, 1, 1, 1, 1, 1, 1, 1, 1, 1, 1, 1, 1, 1, 1, 1, 1, 1, 1, 1, 1, 1, 1, 1, 1, 1, 1, 1, 1, 1, 1, 1, 1, 1, 1, 1, 1, 1, 1, 1, 1, 1, 1, 1, 1, 1, 1, 1, 1, 1, 1, 1, 1, 1, 1, 1, 1, 1, 1, 1, 1, 1, 1, 1, 1, 1, 1, 1, 1, 1, 1, 1, 1, 1, 1, 1, 1, 1, 1, 1, 1, 1, 1, 1, 1, 1, 1, 1, 1, 1, 1, 1, 1, 1, 1, 1, 1, 1, 1, 1, 1, 1, 1, 1, 1, 1, 1, 1, 1, 1, 1, 1, 1, 1, 1, 1, 1, 1, 1, 1, 1, 1, 1, 1, 1, 1, 1, 1, 1, 1, 1, 1, 1, 1, 1, 1, 1, 1, 1, 1, 1, 1, 1, 1, 1, 1, 1, 1, 1, 1, 1, 1, 1, 1, 1, 1, 1, 1, 1, 1, 1, 1, 1, 1, 1, 1, 1, 1, 1, 1, 1, 1, 1, 1, 1, 1, 1, 1, 1, 1, 1, 1, 1, 1, 1, 1, 1, 1, 1, 1, 1, 1, 1, 1, 1, 1, 1, 1, 1, 1, 1, 1, 1, 1, 1, 1, 1, 1, 1, 1, 1, 1, 1, 1, 1, 1, 1, 1, 1, 1, 1, 1, 1, 1, 1, 1, 1, 1, 1, 1, 1, 1, 1, 1, 1, 1, 1, 1, 1, 1, 1, 1, 1, 1, 1, 1, 1, 1, 1, 1, 1, 1, 1, 1, 1, 1, 1, 1, 1, 1, 1, 1, 1, 1, 1, 1, 1, 1, 1, 1, 1, 1, 1, 1, 1, 1, 1, 1, 1, 1, 1, 1, 1, 1, 1, 1, 1, 1, 1, 1, 1, 1, 1, 1, 1, 1, 1, 1, 1, 1, 1, 1, 1, 1, 1, 1, 1, 1, 1, 1, 1, 1, 1, 1, 1, 1, 1, 1, 1, 1, 1, 1, 1, 1, 1, 1, 1, 1, 1, 1, 1, 1, 1, 1, 1, 1, 1, 1, 1, 1, 1, 1, 1, 1, 1, 1, 1, 1, 1, 1, 1, 1, 1, 1, 1, 1, 1, 1, 1, 1, 1, 1, 1, 1, 1, 1, 1, 1, 1, 1, 1, 1, 1, 1, 1, 1, 1, 1, 1, 1, 1, 1, 1, 1, 1, 1, 1, 1, 1, 1, 1, 1, 1, 1, 1, 1, 1, 1, 1, 1, 1, 1, 1, 1, 1, 1, 1, 1, 1, 1, 1, 1, 1, 1, 1, 1, 1, 1, 1, 1, 1, 1, 1, 1, 1, 1, 1, 1, 1, 1, 1, 1, 1, 1, 1, 1, 1, 1, 1, 1, 1, 1, 1, 1, 1, 1, 1, 1, 1, 1, 1, 1, 1, 1, 1, 1, 1, 1, 1, 1, 1, 1, 1, 1, 1, 1, 1, 1, 1, 1, 1, 1, 1, 1, 1, 1, 1, 1, 1, 1, 1, 1, 1, 1, 1, 1, 1, 1, 1, 1, 1, 1, 1, 1, 1, 1, 1, 1, 1, 1, 1, 1, 1, 1, 1, 1, 1, 1, 1, 1, 1, 1, 1, 1, 1, 1, 1, 1, 1, 1, 1, 1, 1, 1, 1, 1, 1, 1, 1, 1, 1, 1, 1, 1, 1, 1, 1, 1, 1, 1, 1, 1, 1, 1, 1, 1, 1, 1, 1, 1, 1, 1, 1, 1, 1, 1, 1, 1, 1, 1, 1, 1, 1, 1, 1, 1, 1, 1, 1, 1, 1, 1, 1, 1, 1, 1, 1, 1, 1, 1, 1, 1, 1, 1, 1, 1, 1, 1, 1, 1, 1, 1, 1, 1, 1, 1, 1, 1, 1, 1, 1, 1, 1, 1, 1, 1, 1, 1, 1, 1, 1, 1, 1, 1, 1, 1, 1, 1, 1, 1, 1, 1, 1, 1, 1, 1, 1, 1, 1, 1, 1, 1, 1, 1, 1, 1, 1, 1, 1, 1, 1, 1, 1, 1, 1, 1, 1, 1, 1, 1, 1, 1, 1, 1, 1, 1, 1, 1, 1, 1, 1, 1, 1, 1, 1, 1, 1, 1, 1, 1, 1, 1, 1, 1, 1, 1, 1, 1, 1, 1, 1, 1, 1, 1, 1, 1, 1, 1, 1, 1, 1, 1, 1, 1, 1, 1, 1, 1, 1, 1, 1, 1, 1, 1, 1, 1, 1, 1, 1, 1, 1, 1, 1, 1, 1, 1, 1, 1, 1, 1, 1, 1, 1, 1, 1, 1, 1, 1, 1, 1, 1, 1, 1, 1, 1, 1, 1, 1, 1, 1, 1, 1, 1, 1, 1, 1, 1, 1, 1, 1, 1, 1, 1, 1, 1, 1, 1, 1, 1, 1, 1, 1, 1, 1, 1, 1, 1, 1, 1, 1, 1, 1, 1, 1, 1, 1, 1, 1, 1, 1, 1, 1, 1, 1, 1, 1, 1, 1, 1, 1, 1, 1, 1, 1, 1, 1, 1, 1, 1, 1, 1, 1, 1, 1, 1, 1, 1, 1, 1, 1, 1, 1, 1, 1, 1, 1, 1, 1, 1, 1, 1, 1, 1, 1, 1, 1, 1, 1, 1, 1, 1, 1, 1, 1, 1, 1, 1, 1, 1, 1, 1, 1, 1, 1, 1, 1, 1, 1, 1, 1, 1, 1, 1, 1, 1, 1, 1, 1, 1, 1, 1, 1, 1, 1, 1, 1, 1, 1, 1, 1, 1, 1, 1, 1, 1, 1, 1, 1, 1, 1, 1, 1, 1, 1, 1, 1, 1, 1, 1, 1, 1, 1, 1, 1, 1, 1, 1, 1, 1, 1, 1, 1, 1, 1, 1, 1, 1, 1, 1, 1, 1, 1, 1, 1, 1, 1, 1, 1, 1, 1, 1, 1, 1, 1, 1, 1, 1, 1, 1, 1, 1, 1, 1, 1, 1, 1, 1, 1, 1, 1, 1, 1, 1, 1, 1, 1, 1, 1, 1, 1, 1, 1, 1, 1, 1, 1, 1, 1, 1, 1, 1, 1, 1, 1, 1, 1, 1, 1, 1, 1, 1, 1, 1, 1, 1, 1, 1, 1, 1, 1, 1, 1, 1, 1, 1, 1, 1, 1, 1, 1, 1, 1, 1, 1, 1, 1, 1, 1, 1, 1, 1, 1, 1, 1, 1, 1, 1, 1, 1, 1, 1, 1, 1, 1, 1, 1, 1, 1, 1, 1, 1, 1, 1, 1, 1, 1, 1, 1, 1, 1, 1, 1, 1, 1, 1, 1, 1, 1, 1, 1, 1, 1, 1, 1, 1, 1, 1, 1, 1, 1, 1, 1, 1, 1, 1, 1, 1, 1, 1, 1, 1, 1, 1, 1, 1, 1, 1, 1, 1, 1, 1, 1, 1, 1, 1, 1, 1, 1, 1, 1, 1, 1, 1, 1, 1, 1, 1, 1, 1, 1, 1, 1, 1, 1, 1, 1, 1, 1, 1, 1, 1, 1, 1, 1, 1, 1, 1, 1, 1, 1, 1, 1, 1, 1, 1, 1, 1, 1, 1, 1, 1, 1, 1, 1, 1, 1, 1, 1, 1, 1, 1, 1, 1, 1, 1, 1, 1, 1, 1, 1, 1, 1, 1, 1, 1, 1, 1, 1, 1, 1, 1, 1, 1, 1, 1, 1, 1, 1, 1, 1, 1, 1, 1, 1, 1, 1, 1, 1, 1, 1, 1, 1, 1, 1, 1, 1, 1, 1, 1, 1, 1, 1, 1, 1, 1, 1, 1, 1, 1, 1, 1, 1, 1, 1, 1, 1, 1, 1, 1, 1, 1, 1, 1, 1, 1, 1, 1, 1, 1, 1, 1, 1, 1, 1, 1, 1, 1, 1, 1, 1, 1, 1, 1, 1, 1, 1, 1, 1, 1, 1, 1, 1, 1, 1, 1, 1, 1, 1, 1, 1, 1, 1, 1, 1, 1, 1, 1, 1, 1, 1, 1, 1, 1, 1, 1, 1, 1, 1, 1, 1, 1, 1, 1, 1, 1, 1, 1, 1, 1, 1, 1, 1, 1, 1, 1, 1, 1, 1, 1, 1, 1, 1, 1, 1, 1, 1, 1, 1, 1, 1, 1, 1, 1, 1, 1, 1, 1, 1, 1, 1, 1, 1, 1, 1, 1, 1, 1, 1, 1, 1, 1, 1, 1, 1, 1, 1, 1, 1, 1, 1, 1, 1, 1, 1, 1, 1, 1, 1, 1, 1, 1, 1, 1, 1, 1, 1, 1, 1, 1, 1, 1, 1, 1, 1, 1, 1, 1, 1, 1, 1, 1, 1, 1, 1, 1, 1, 1, 1, 1, 1, 1, 1, 1, 1, 1, 1, 1, 1, 1, 1, 1, 1, 1, 1, 1, 1, 1, 1, 1, 1, 1, 1, 1, 1, 1, 1, 1, 1, 1, 1, 1, 1, 1, 1, 1, 1, 1, 1, 1, 1, 1, 1, 1, 1, 1, 1, 1, 1, 1, 1, 1, 1, 1, 1, 1, 1, 1, 1, 1, 1, 1, 1, 1, 1, 1, 1, 1, 1, 1, 1, 1, 1, 1, 1, 1, 1, 1, 1, 1, 1, 1, 1, 1, 1, 1, 1, 1, 1, 1, 1, 1, 1, 1, 1, 1, 1, 1, 1, 1, 1, 1, 1, 1, 1, 1, 1, 1, 1, 1, 1, 1, 1, 1, 1, 1, 1, 1, 1, 1, 1, 1, 1, 1, 1, 1, 1, 1, 1, 1, 1, 1, 1, 1, 1, 1, 1, 1, 1, 1, 1, 1, 1, 1, 1, 1, 1, 1, 1, 1, 1, 1, 1, 1, 1, 1, 1, 1, 1, 1, 1, 1, 1, 1, 1, 1, 1, 1, 1, 1, 1, 1, 1, 1, 1, 1, 1, 1, 1, 1, 1, 1, 1, 1, 1, 1, 1, 1, 1, 1, 1, 1, 1, 1, 1, 1, 1, 1, 1, 1, 1, 1, 1, 1, 1, 1, 1, 1, 1, 1, 1, 1, 1, 1, 1, 1, 1, 1, 1, 1, 1, 1, 1, 1, 1, 1, 1, 1, 1, 1, 1, 1, 1, 1, 1, 1, 1, 1, 1, 1, 1, 1, 1, 1, 1, 1, 1, 1, 1, 1, 1, 1, 1, 1, 1, 1, 1, 1, 1, 1, 1, 1, 1, 1, 1, 1, 1, 1, 1, 1, 1, 1, 1, 1, 1, 1, 1, 1, 1, 1, 1, 1, 1, 1, 1, 1, 1, 1, 1, 1, 1, 1, 1, 1, 1, 1, 1, 1, 1, 1, 1, 1, 1, 1, 1, 1, 1, 1, 1, 1, 1, 1, 1, 1, 1, 1, 1, 1, 1, 1, 1, 1, 1, 1, 1, 1, 1, 1, 1, 1, 1, 1, 1, 1, 1, 1, 1, 1, 1, 1, 1, 1, 1, 1, 1, 1, 1, 1, 1, 1, 1, 1, 1, 1, 1, 1, 1, 1, 1, 1, 1, 1, 1, 1, 1, 1, 1, 1, 1, 1, 1, 1, 1, 1, 1, 1, 1, 1, 1, 1, 1, 1, 1, 1, 1, 1, 1, 1, 1, 1, 1, 1, 1, 1, 1, 1, 1, 1, 1, 1, 1, 1, 1, 1, 1, 1, 1, 1, 1, 1, 1, 1, 1, 1, 1, 1, 1, 1, 1, 1, 1, 1, 1, 1, 1, 1, 1, 1, 1, 1, 1, 1, 1, 1, 1, 1, 1, 1, 1, 1, 1, 1, 1, 1, 1, 1, 1, 1, 1, 1, 1, 1, 1, 1, 1, 1, 1, 1, 1, 1, 1, 1, 1, 1, 1, 1, 1, 1, 1, 1, 1, 1, 1, 1, 1, 1, 1, 1, 1, 1, 1, 1, 1, 1, 1, 1, 1, 1, 1, 1, 1, 1, 1, 1, 1, 1, 1, 1, 1, 1, 1, 1, 1, 1, 1, 1, 1, 1, 1, 1, 1, 1, 1, 1, 1, 1, 1, 1, 1, 1, 1, 1, 1, 1, 1, 1, 1, 1, 1, 1, 1, 1, 1, 1, 1, 1, 1, 1, 1, 1, 1, 1, 1, 1, 1, 1, 1, 1, 1, 1, 1, 1, 1, 1, 1, 1, 1, 1, 1, 1, 1, 1, 1, 1, 1, 1, 1, 1, 1, 1, 1, 1, 1, 1, 1, 1, 1, 1, 1, 1, 1, 1, 1, 1, 1, 1, 1, 1, 1, 1, 1, 1, 1, 1, 1, 1, 1, 1, 1, 1, 1, 1, 1, 1, 1, 1, 1, 1, 1, 1, 1, 1, 1, 1, 1, 1, 1, 1, 1, 1, 1, 1, 1, 1, 1, 1, 1, 1, 1, 1, 1, 1, 1, 1, 1, 1, 1, 1, 1, 1, 1, 1, 1, 1, 1, 1, 1, 1, 1, 1, 1, 1, 1, 1, 1, 1, 1, 1, 1, 1, 1, 1, 1, 1, 1, 1, 1, 1, 1, 1, 1, 1, 1, 1, 1, 1, 1, 1, 1, 1, 1, 1, 1, 1, 1, 1, 1, 1, 1, 1, 1, 1, 1, 1, 1, 1, 1, 1, 1, 1, 1, 1, 1, 1, 1, 1, 1, 1, 1, 1, 1, 1, 1, 1, 1, 1, 1, 1, 1, 1, 1, 1, 1, 1, 1, 1, 1, 1, 1, 1, 1, 1, 1, 1, 1, 1, 1, 1, 1, 1, 1, 1, 1, 1, 1, 1, 1, 1, 1, 1, 1, 1, 1, 1, 1, 1, 1, 1, 1, 1, 1, 1, 1, 1, 1, 1, 1, 1, 1, 1, 1, 1, 1, 1, 1, 1, 1, 1, 1, 1, 1, 1, 1, 1, 1, 1, 1, 1, 1, 1, 1, 1, 1, 1, 1, 1, 1, 1, 1, 1, 1, 1, 1, 1, 1, 1, 1, 1, 1, 1, 1, 1, 1, 1, 1, 1, 1, 1, 1, 1, 1, 1, 1, 1, 1, 1, 1, 1, 1, 1, 1, 1, 1, 1, 1, 1, 1, 1, 1, 1, 1, 1, 1, 1, 1, 1, 1, 1, 1, 1, 1, 1, 1, 1, 1, 1, 1, 1, 1, 1, 1, 1, 1, 1, 1, 1, 1, 1, 1, 1, 1, 1, 1, 1, 1, 1, 1, 1, 1, 1, 1, 1, 1, 1, 1, 1, 1, 1, 1, 1, 1, 1, 1, 1, 1, 1, 1, 1, 1, 1, 1, 1, 1, 1, 1, 1, 1, 1, 1, 1, 1, 1, 1, 1, 1, 1, 1, 1, 1, 1, 1, 1, 1, 1, 1, 1, 1, 1, 1, 1, 1, 1, 1, 1, 1, 1, 1, 1, 1, 1, 1, 1, 1, 1, 1, 1, 1, 1, 1, 1, 1, 1, 1, 1, 1, 1, 1, 1, 1, 1, 1, 1, 1, 1, 1, 1, 1, 1, 1, 1, 1, 1, 1, 1, 1, 1, 1, 1, 1, 1, 1, 1, 1, 1, 1, 1, 1, 1, 1, 1, 1, 1, 1, 1, 1, 1, 1, 1, 1, 1, 1, 1, 1, 1, 1, 1, 1, 1, 1, 1, 1, 1, 1, 1, 1, 1, 1, 1, 1, 1, 1, 1, 1, 1, 1, 1, 1, 1, 1, 1, 1, 1, 1, 1, 1, 1, 1, 1, 1, 1, 1, 1, 1, 1, 1, 1, 1, 1, 1, 1, 1, 1, 1, 1, 1, 1, 1, 1, 1, 1, 1, 1, 1, 1, 1, 1, 1, 1, 1, 1, 1, 1, 1, 1, 1, 1, 1, 1, 1, 1, 1, 1, 1, 1, 1, 1, 1, 1, 1, 1, 1, 1, 1, 1, 1, 1, 1, 1, 1, 1, 1, 1, 1, 1, 1, 1, 1, 1, 1, 1, 1, 1, 1, 1, 1, 1, 1, 1, 1, 1, 1, 1, 1, 1, 1, 1, 1, 1, 1, 1, 1, 1, 1, 1, 1, 1, 1, 1, 1, 1, 1, 1, 1, 1, 1, 1, 1, 1, 1, 1, 1, 1, 1, 1, 1, 1, 1, 1, 1, 1, 1, 1, 1, 1, 1, 1, 1, 1, 1, 1, 1, 1, 1, 1, 1, 1, 1, 1, 1, 1, 1, 1, 1, 1, 1, 1, 1, 1, 1, 1, 1, 1, 1, 1, 1, 1, 1, 1, 1, 1, 1, 1, 1, 1, 1, 1, 1, 1, 1, 1, 1, 1, 1, 1, 1, 1, 1, 1, 1, 1, 1, 1, 1, 1, 1, 1, 1, 1, 1, 1, 1, 1, 1, 1, 1, 1, 1, 1, 1, 1, 1, 1, 1, 1, 1, 1, 1, 1, 1, 1, 1, 1, 1, 1, 1, 1, 1, 1, 1, 1, 1, 1, 1, 1, 1, 1, 1, 1, 1, 1, 1, 1, 1, 1, 1, 1, 1, 1, 1, 1, 1, 1, 1, 1, 1, 1, 1, 1, 1, 1, 1, 1, 1, 1, 1, 1, 1, 1, 1, 1, 1, 1, 1, 1, 1, 1, 1, 1, 1, 1, 1, 1, 1, 1, 1, 1, 1, 1, 1, 1, 1, 1, 1, 1, 1, 1, 1, 1, 1, 1, 1, 1, 1, 1, 1, 1, 1, 1, 1, 1, 1, 1, 1, 1, 1, 1, 1, 1, 1, 1, 1, 1, 1, 1, 1, 1, 1, 1, 1, 1, 1, 1, 1, 1, 1, 1, 1, 1, 1, 1, 1, 1, 1, 1, 1, 1, 1, 1, 1, 1, 1, 1, 1, 1, 1, 1, 1, 1, 1, 1, 1, 1, 1, 1, 1, 1, 1, 1, 1, 1, 1, 1, 1, 1, 1, 1, 1, 1, 1, 1, 1, 1, 1, 1, 1, 1, 1, 1, 1, 1, 1, 1, 1, 1, 1, 1, 1, 1, 1, 1, 1, 1, 1, 1, 1, 1, 1, 1, 1, 1, 1, 1, 1, 1, 1, 1, 1, 1, 1, 1, 1, 1, 1, 1, 1, 1, 1, 1, 1, 1, 1, 1, 1, 1, 1, 1, 1, 1, 1, 1, 1, 1, 1, 1, 1, 1, 1, 1, 1, 1, 1, 1, 1, 1, 1, 1, 1, 1, 1, 1, 1, 1, 1, 1, 1, 1, 1, 1, 1, 1, 1, 1, 1, 1, 1, 1, 1, 1, 1, 1, 1, 1, 1, 1, 1, 1, 1, 1, 1, 1, 1, 1, 1, 1, 1, 1, 1, 1, 1, 1, 1, 1, 1, 1, 1, 1, 1, 1, 1, 1, 1, 1, 1, 1, 1, 1, 1, 1, 1, 1, 1, 1, 1, 1, 1, 1, 1, 1, 1, 1, 1, 1, 1, 1, 1, 1, 1, 1, 1, 1, 1, 1, 1, 1, 1, 1, 1, 1, 1, 1, 1, 1, 1, 1, 1, 1, 1, 1, 1, 1, 1, 1, 1, 1, 1, 1, 1, 1, 1, 1, 1, 1, 1, 1, 1, 1, 1, 1, 1, 1, 1, 1, 1, 1, 1, 1, 1, 1, 1, 1, 1, 1, 1, 1, 1, 1, 1, 1, 1, 1, 1, 1, 1, 1, 1, 1, 1, 1, 1, 1, 1, 1, 1, 1, 1, 1, 1, 1, 1, 1, 1, 1, 1, 1, 1, 1, 1, 1, 1, 1, 1, 1, 1, 1, 1, 1, 1, 1, 1, 1, 1, 1, 1, 1, 1, 1, 1, 1, 1, 1, 1, 1, 1, 1, 1, 1, 1, 1, 1, 1, 1, 1, 1, 1, 1, 1, 1, 1, 1, 1, 1, 1, 1, 1, 1, 1, 1, 1, 1, 1, 1, 1, 1, 1, 1, 1, 1, 1, 1, 1, 1, 1, 1, 1, 1, 1, 1, 1, 1, 1, 1, 1, 1, 1, 1, 1, 1, 1, 1, 1, 1, 1, 1, 1, 1, 1, 1, 1, 1, 1, 1, 1, 1, 1, 1, 1, 1, 1, 1, 1, 1, 1, 1, 1, 1, 1, 1, 1, 1, 1, 1, 1, 1, 1, 1, 1, 1, 1, 1, 1, 1, 1, 1, 1, 1, 1, 1, 1, 1, 1, 1, 1, 1, 1, 1, 1, 1, 1, 1, 1, 1, 1, 1, 1, 1, 1, 1, 1, 1, 1, 1, 1, 1, 1, 1, 1, 1, 1, 1, 1, 1, 1, 1, 1, 1, 1, 1, 1, 1, 1, 1, 1, 1, 1, 1, 1, 1, 1, 1, 1, 1, 1, 1, 1, 1, 1, 1, 1, 1, 1, 1, 1, 1, 1, 1, 1, 1, 1, 1, 1, 1, 1, 1, 1, 1, 1, 1, 1, 1, 1, 1, 1, 1, 1, 1, 1, 1, 1, 1, 1, 1, 1, 1, 1, 1, 1, 1, 1, 1, 1, 1, 1, 1, 1, 1, 1, 1, 1, 1, 1, 1, 1, 1, 1, 1, 1, 1, 1, 1, 1, 1, 1, 1, 1, 1, 1, 1, 1, 1, 1, 1, 1, 1, 1, 1, 1, 1, 1, 1, 1, 1, 1, 1, 1, 1, 1, 1, 1, 1, 1, 1, 1, 1, 1, 1, 1, 1, 1, 1, 1, 1, 1, 1, 1, 1, 1, 1, 1, 1, 1, 1, 1, 1, 1, 1, 1, 1, 1, 1, 1, 1, 1, 1, 1, 1, 1, 1, 1, 1, 1, 1, 1, 1, 1, 1, 1, 1, 1, 1, 1, 1, 1, 1, 1, 1, 1, 1, 1, 1, 1, 1, 1, 1, 1, 1, 1, 1, 1, 1, 1, 1, 1, 1, 1, 1, 1, 1, 1, 1, 1, 1, 1, 1, 1, 1, 1, 1, 1, 1, 1, 1, 1, 1, 1, 1, 1, 1, 1, 1, 1, 1, 1, 1, 1, 1, 1, 1, 1, 1, 1, 1, 1, 1, 1, 1, 1, 1, 1, 1, 1, 1, 1, 1, 1, 1, 1, 1, 1, 1, 1, 1, 1, 1, 1, 1, 1, 1, 1, 1, 1, 1, 1, 1, 1, 1, 1, 1, 1, 1, 1, 1, 1, 1, 1, 1, 1, 1, 1, 1, 1, 1, 1, 1, 1, 1, 1, 1, 1, 1, 1, 1, 1, 1, 1, 1, 1, 1, 1, 1, 1, 1, 1, 1, 1, 1, 1, 1, 1, 1, 1, 1, 1, 1, 1, 1, 1, 1, 1, 1, 1, 1, 1, 1, 1, 1, 1, 1, 1, 1, 1, 1, 1, 1, 1, 1, 1, 1, 1, 1, 1, 1, 1, 1, 1, 1, 1, 1, 1, 1, 1, 1, 1, 1, 1, 1, 1, 1, 1, 1, 1, 1, 1, 1, 1, 1, 1, 1, 1, 1, 1, 1, 1, 1, 1, 1, 1, 1, 1, 1, 1, 1, 1, 1, 1, 1, 1, 1, 1, 1, 1, 1, 1, 1, 1, 1, 1, 1, 1, 1, 1, 1, 1, 1, 1, 1, 1, 1, 1, 1, 1, 1, 1, 1, 1, 1, 1, 1, 1, 1, 1, 1, 1, 1, 1, 1, 1, 1, 1, 1, 1, 1, 1, 1, 1, 1, 1, 1, 1, 1, 1, 1, 1, 1, 1, 1, 1, 1, 1, 1, 1, 1, 1, 1, 1, 1, 1, 1, 1, 1, 1, 1, 1, 1, 1, 1, 1, 1, 1, 1, 1, 1, 1, 1, 1, 1, 1, 1, 1, 1, 1, 1, 1, 1, 1, 1, 1, 1, 1, 1, 1, 1, 1, 1, 1, 1, 1, 1, 1, 1, 1, 1, 1, 1, 1, 1, 1, 1, 1, 1, 1, 1, 1, 1, 1, 1, 1, 1, 1, 1, 1, 1, 1, 1, 1, 1, 1, 1, 1, 1, 1, 1, 1, 1, 1, 1, 1, 1, 1, 1, 1, 1, 1, 1, 1, 1, 1, 1, 1, 1, 1, 1, 1, 1, 1, 1, 1, 1, 1, 1, 1, 1, 1, 1, 1, 1, 1, 1, 1, 1, 1, 1, 1, 1, 1, 1, 1, 1, 1, 1, 1, 1, 1, 1, 1, 1, 1, 1, 1, 1, 1, 1, 1, 1, 1, 1, 1, 1, 1, 1, 1, 1, 1, 1, 1, 1, 1, 1, 1, 1, 1, 1, 1, 1, 1, 1, 1, 1, 1, 1, 1, 1, 1, 1, 1, 1, 1, 1, 1, 1, 1, 1, 1, 1, 1, 1, 1, 1, 1, 1, 1, 1, 1, 1, 1, 1, 1, 1, 1, 1, 1, 1, 1, 1, 1, 1, 1, 1, 1, 1, 1, 1, 1, 1, 1, 1, 1, 1, 1, 1, 1, 1, 1, 1, 1, 1, 1, 1, 1, 1, 1, 1, 1, 1, 1, 1, 1, 1, 1, 1, 1, 1, 1, 1, 1, 1, 1, 1, 1, 1, 1, 1, 1, 1, 1, 1, 1, 1, 1, 1, 1, 1, 1, 1, 1, 1, 1, 1, 1, 1, 1, 1, 1, 1, 1, 1, 1, 1, 1, 1, 1, 1, 1, 1, 1, 1, 1, 1, 1, 1, 1, 1, 1, 1, 1, 1, 1, 1, 1, 1, 1, 1, 1, 1, 1, 1, 1, 1, 1, 1, 1, 1, 1, 1, 1, 1, 1, 1, 1, 1, 1, 1, 1, 1, 1, 1, 1, 1, 1, 1, 1, 1, 1, 1, 1, 1, 1, 1, 1, 1, 1, 1, 1, 1, 1, 1, 1, 1, 1, 1, 1, 1, 1, 1, 1, 1, 1, 1, 1, 1, 1, 1, 1, 1, 1, 1, 1, 1, 1, 1, 1, 1, 1, 1, 1, 1, 1, 1, 1, 1, 1, 1, 1, 1, 1, 1, 1, 1, 1, 1, 1, 1, 1, 1, 1, 1, 1, 1, 1, 1, 1, 1, 1, 1, 1, 1, 1, 1, 1, 1, 1, 1, 1, 1, 1, 1, 1, 1, 1, 1, 1, 1, 1, 1, 1, 1, 1, 1, 1, 1, 1, 1, 1, 1, 1, 1, 1, 1, 1, 1, 1, 1, 1, 1, 1, 1, 1, 1, 1, 1, 1, 1, 1, 1, 1, 1, 1, 1, 1, 1, 1, 1, 1, 1, 1, 1, 1, 1, 1, 1, 1, 1, 1, 1, 1, 1, 1, 1, 1, 1, 1, 1, 1, 1, 1, 1, 1, 1, 1, 1, 1, 1, 1, 1, 1, 1, 1, 1, 1, 1, 1, 1, 1, 1, 1, 1, 1, 1, 1, 1, 1, 1, 1, 1, 1, 1, 1, 1, 1, 1, 1, 1, 1, 1, 1, 1, 1, 1, 1, 1, 1, 1, 1, 1, 1, 1, 1, 1, 1, 1, 1, 1, 1, 1, 1, 1, 1, 1, 1, 1, 1, 1, 1, 1, 1, 1, 1, 1, 1, 1, 1, 1, 1, 1, 1, 1, 1, 1, 1, 1, 1, 1, 1, 1, 1, 1, 1, 1, 1, 1, 1, 1, 1, 1, 1, 1, 1, 1, 1, 1, 1, 1, 1, 1, 1, 1, 1, 1, 1, 1, 1, 1, 1, 1, 1, 1, 1, 1, 1, 1, 1, 1, 1, 1, 1, 1, 1, 1, 1, 1, 1, 1, 1, 1, 1, 1, 1, 1, 1, 1, 1, 1, 1, 1, 1, 1, 1, 1, 1, 1, 1, 1, 1, 1, 1, 1, 1, 1, 1, 1, 1, 1, 1, 1, 1, 1, 1, 1, 1, 1, 1, 1, 1, 1, 1, 1, 1, 1, 1, 1, 1, 1, 1, 1, 1, 1, 1, 1, 1, 1, 1, 1, 1, 1, 1, 1, 1, 1, 1, 1, 1, 1, 1, 1, 1, 1, 1, 1, 1, 1, 1, 1, 1, 1, 1, 1, 1, 1, 1, 1, 1, 1, 1, 1, 1, 1, 1, 1, 1, 1, 1, 1, 1, 1, 1, 1, 1, 1, 1, 1, 1, 1, 1, 1, 1, 1, 1, 1, 1, 1, 1, 1, 1, 1, 1, 1, 1, 1, 1, 1, 1, 1, 1, 1, 1, 1, 1, 1, 1, 1, 1, 1, 1, 1, 1, 1, 1, 1, 1, 1, 1, 1, 1, 1, 1, 1, 1, 1, 1, 1, 1, 1, 1, 1, 1, 1, 1, 1, 1, 1, 1, 1, 1, 1, 1, 1, 1, 1, 1, 1, 1, 1, 1, 1, 1, 1, 1, 1, 1, 1, 1, 1, 1, 1, 1, 1, 1, 1, 1, 1, 1, 1, 1, 1, 1, 1, 1, 1, 1, 1, 1, 1, 1, 1, 1, 1, 1, 1, 1, 1, 1, 1, 1, 1, 1, 1, 1, 1, 1, 1, 1, 1, 1, 1, 1, 1, 1, 1, 1, 1, 1, 1, 1, 1, 1, 1, 1, 1, 1, 1, 1, 1, 1, 1, 1, 1, 1, 1, 1, 1, 1, 1, 1, 1, 1, 1, 1, 1, 1, 1, 1, 1, 1, 1, 1, 1, 1, 1, 1, 1, 1, 1, 1, 1, 1, 1, 1, 1, 1, 1, 1, 1, 1, 1, 1, 1, 1, 1, 1, 1, 1]\n"
          ]
        }
      ]
    },
    {
      "cell_type": "code",
      "source": [
        "score = roc_auc_score(corect_labels,scores)\n",
        "score"
      ],
      "metadata": {
        "colab": {
          "base_uri": "https://localhost:8080/"
        },
        "id": "pWamRLYQPK2I",
        "outputId": "ea1649a2-eb5d-491e-d71c-89f750cb1bca"
      },
      "execution_count": 32,
      "outputs": [
        {
          "output_type": "execute_result",
          "data": {
            "text/plain": [
              "0.21783626500461678"
            ]
          },
          "metadata": {},
          "execution_count": 32
        }
      ]
    },
    {
      "cell_type": "code",
      "source": [
        "RocCurveDisplay.from_predictions(corect_labels,scores)"
      ],
      "metadata": {
        "colab": {
          "base_uri": "https://localhost:8080/",
          "height": 296
        },
        "id": "UkOl1hRjRIK2",
        "outputId": "60eb5209-b7fe-4e32-e6c2-6c82926e4abb"
      },
      "execution_count": 39,
      "outputs": [
        {
          "output_type": "execute_result",
          "data": {
            "text/plain": [
              "<sklearn.metrics._plot.roc_curve.RocCurveDisplay at 0x7f68db185b10>"
            ]
          },
          "metadata": {},
          "execution_count": 39
        },
        {
          "output_type": "display_data",
          "data": {
            "text/plain": [
              "<Figure size 432x288 with 1 Axes>"
            ],
            "image/png": "[encoded data removed]"
          },
          "metadata": {}
        }
      ]
    },
    {
      "cell_type": "code",
      "source": [
        ""
      ],
      "metadata": {
        "id": "01XQi996R6EK"
      },
      "execution_count": null,
      "outputs": []
    },
    {
      "cell_type": "code",
      "source": [
        "# import copy\n",
        "# from transformers import BertForMaskedLM, BertTokenizerFast\n",
        "# import torch\n",
        "\n",
        "# # tokenizer = AutoTokenizer.from_pretrained(\"bert-base-cased\")\n",
        "# # model = AnomalyDetectionModel()\n",
        "# # model.load_state_dict(torch.load(\"trained_bert_sports_agnews.pt\"))\n",
        "# model1 = copy.deepcopy(model)\n",
        "# model1.to(\"cpu\")\n",
        "\n",
        "# model2 = BertForMaskedLM.from_pretrained('bert-base-cased')\n",
        "# text = \"Dr. Mario Roederer and Adam Treister at Stanford University wrote FlowJo, Mac OS X analysis software for flow cytometers, high-speed, automated microscopes. Today, some 15,000 to 20,000 cytometers in use are Mac based. Aug 3\"\n",
        "# inputs  =  tokenizer(text,  return_tensors=\"pt\", add_special_tokens = True, truncation=True, pad_to_max_length = True,\n",
        "#                                          return_attention_mask = True,  max_length=100)\n",
        "# input_ids = inputs['input_ids']\n",
        "# print(tokenizer.convert_ids_to_tokens(input_ids[0]))\n",
        "# labels  = copy.deepcopy(input_ids) #this is the part I changed\n",
        "# tok_id = 14\n",
        "# print(tokenizer.convert_ids_to_tokens([input_ids[0][tok_id]]))\n",
        "# old_tok = input_ids[0][tok_id].item()\n",
        "# input_ids[0][tok_id] = tokenizer.mask_token_id\n",
        "# labels[input_ids != tokenizer.mask_token_id] = -100 \n",
        "\n",
        "# outputs = model1(input_ids, labels=labels)\n",
        "# # outputs =  model2(input_ids = input_ids, attention_mask = inputs['attention_mask'] , token_type_ids=inputs['token_type_ids'] , labels=labels)\n",
        "# loss = outputs.loss\n",
        "# scores = outputs.logits\n",
        "# print('loss',loss)\n",
        "# print(tokenizer.convert_ids_to_tokens([old_tok]))\n",
        "# pred = torch.argmax( scores[0][tok_id]).item()\n",
        "# logSoftmax = torch.nn.LogSoftmax(dim=1)\n",
        "# softmax = torch.nn.Softmax()\n",
        "# NLLLos = torch.nn.NLLLoss()\n",
        "# print(\"predicted token:\", pred, tokenizer.convert_ids_to_tokens([pred])  )\n",
        "# print(NLLLos( logSoftmax(torch.unsqueeze(scores[0][tok_id], 0)), torch.tensor([pred]))) #the same as F.cross_entropy(scores.view(-1, tokenizer.vocab_size), labels.view(-1))\n",
        "# print(softmax(scores[0][tok_id])[pred])\n",
        "# print(softmax(scores[0][tok_id])[old_tok])\n",
        "# # print(NLLLos( logSoftmax(torch.unsqueeze(scores[0][16], 0)), torch.tensor([old_tok]))) #the same as F.cross_entropy(scores.view(-1, tokenizer.vocab_size), labels.view(-1))"
      ],
      "metadata": {
        "id": "LCHXQJXRBqes"
      },
      "execution_count": null,
      "outputs": []
    }
  ]
}